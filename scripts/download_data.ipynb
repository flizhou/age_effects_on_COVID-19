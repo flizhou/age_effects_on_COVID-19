{
 "cells": [
  {
   "cell_type": "code",
   "execution_count": 1,
   "metadata": {},
   "outputs": [],
   "source": [
    "import requests, json, os, warnings, re\n",
    "import pandas as pd\n",
    "from functools import reduce"
   ]
  },
  {
   "cell_type": "code",
   "execution_count": 2,
   "metadata": {},
   "outputs": [],
   "source": [
    "domain = \"https://api.worldbank.org\" "
   ]
  },
  {
   "cell_type": "code",
   "execution_count": 3,
   "metadata": {},
   "outputs": [],
   "source": [
    "def get_json_data(indicator, page):\n",
    "    \"\"\"\n",
    "    \n",
    "    \"\"\"\n",
    "    data_json = []\n",
    "    for i in range(1, page):\n",
    "        request = requests.get(domain + \"/v2/country/all/indicator/\" + \n",
    "                               indicator + \"?format=json&page=\" + str(i))\n",
    "        data_json.extend(request.json()[1])\n",
    "    return data_json"
   ]
  },
  {
   "cell_type": "code",
   "execution_count": 4,
   "metadata": {},
   "outputs": [],
   "source": [
    "def process_json_data(json_data, year, label):\n",
    "    \"\"\"\n",
    "    \"\"\"\n",
    "    df = pd.DataFrame(json_data)\n",
    "    df = df[df['date'] == year]\n",
    "    df['country'] = df['country'].apply(lambda x: x['value'])\n",
    "    df = df[['country', 'value']]\n",
    "    df.columns = ['country', label]\n",
    "    \n",
    "    return df"
   ]
  },
  {
   "cell_type": "code",
   "execution_count": 11,
   "metadata": {},
   "outputs": [],
   "source": [
    "df_1564 = get_json_data(\"SP.POP.1564.TO.ZS\", 318)"
   ]
  },
  {
   "cell_type": "code",
   "execution_count": 26,
   "metadata": {},
   "outputs": [],
   "source": [
    "df_64up = get_json_data(\"SP.POP.65UP.TO.ZS\", 318)"
   ]
  },
  {
   "cell_type": "code",
   "execution_count": 15,
   "metadata": {},
   "outputs": [],
   "source": [
    "df_1564 = process_json_data(df_1564, '2018', 'age_1564')"
   ]
  },
  {
   "cell_type": "code",
   "execution_count": 33,
   "metadata": {},
   "outputs": [],
   "source": [
    "df_64up = process_json_data(df_64up, '2018', 'age_64up')"
   ]
  },
  {
   "cell_type": "code",
   "execution_count": 39,
   "metadata": {},
   "outputs": [],
   "source": [
    "age_comp = pd.merge(df_1564, df_64up, on='country')\n",
    "age_comp['age_0014'] = 100 - (age_comp['age_1564'] + age_comp['age_64up'])"
   ]
  },
  {
   "cell_type": "code",
   "execution_count": 43,
   "metadata": {},
   "outputs": [],
   "source": [
    "age_comp.to_csv('../data/clean_data/age_composition_2018.csv', index=False)"
   ]
  },
  {
   "cell_type": "code",
   "execution_count": 44,
   "metadata": {},
   "outputs": [],
   "source": [
    "df_smok = get_json_data(\"SH.PRV.SMOK\", 318)"
   ]
  },
  {
   "cell_type": "code",
   "execution_count": 50,
   "metadata": {},
   "outputs": [],
   "source": [
    "df_smok = process_json_data(df_smok, '2016', 'smok')"
   ]
  },
  {
   "cell_type": "code",
   "execution_count": 51,
   "metadata": {},
   "outputs": [],
   "source": [
    "df_smok.to_csv('../data/clean_data/smoking_prevalence_2016.csv', index=False)"
   ]
  },
  {
   "cell_type": "code",
   "execution_count": 52,
   "metadata": {},
   "outputs": [],
   "source": [
    "df_air = get_json_data(\"EN.ATM.PM25.MC.M3\", 318)"
   ]
  },
  {
   "cell_type": "code",
   "execution_count": 55,
   "metadata": {},
   "outputs": [],
   "source": [
    "df_air = process_json_data(df_air, '2017', 'air_polution')"
   ]
  },
  {
   "cell_type": "code",
   "execution_count": 56,
   "metadata": {},
   "outputs": [],
   "source": [
    "df_air.to_csv('../data/clean_data/air_polution_2017.csv', index=False)"
   ]
  },
  {
   "cell_type": "code",
   "execution_count": 57,
   "metadata": {},
   "outputs": [],
   "source": [
    "df_bed = get_json_data(\"SH.MED.BEDS.ZS\", 318)"
   ]
  },
  {
   "cell_type": "code",
   "execution_count": 82,
   "metadata": {},
   "outputs": [],
   "source": [
    "df_bed = process_json_data(df_bed, '2013', 'hosp_bed')"
   ]
  },
  {
   "cell_type": "code",
   "execution_count": 83,
   "metadata": {},
   "outputs": [],
   "source": [
    "df_bed.to_csv('../data/clean_data/hospital_bed_2013.csv', index=False)"
   ]
  },
  {
   "cell_type": "code",
   "execution_count": 68,
   "metadata": {},
   "outputs": [],
   "source": [
    "df_phy = get_json_data(\"SH.MED.PHYS.ZS\", 318)"
   ]
  },
  {
   "cell_type": "code",
   "execution_count": 84,
   "metadata": {},
   "outputs": [],
   "source": [
    "df_phy = process_json_data(df_phy, '2015', 'doctor')"
   ]
  },
  {
   "cell_type": "code",
   "execution_count": 85,
   "metadata": {},
   "outputs": [],
   "source": [
    "df_phy.to_csv('../data/clean_data/physicians_2015.csv', index=False)"
   ]
  },
  {
   "cell_type": "code",
   "execution_count": 86,
   "metadata": {},
   "outputs": [],
   "source": [
    "df_nurse = get_json_data(\"SH.MED.NUMW.P3\", 318)"
   ]
  },
  {
   "cell_type": "code",
   "execution_count": 95,
   "metadata": {},
   "outputs": [],
   "source": [
    "df_nurse = process_json_data(df_nurse, '2015', 'nurse_midwivies').dropna()"
   ]
  },
  {
   "cell_type": "code",
   "execution_count": 96,
   "metadata": {},
   "outputs": [],
   "source": [
    "df_nurse.to_csv('../data/clean_data/nurse_midwivies_2015.csv', index=False)"
   ]
  },
  {
   "cell_type": "code",
   "execution_count": null,
   "metadata": {},
   "outputs": [],
   "source": [
    "df_pop = get_json_data(\"SP.POP.TOTL\", 318)"
   ]
  },
  {
   "cell_type": "code",
   "execution_count": 50,
   "metadata": {},
   "outputs": [],
   "source": [
    "df_pop = process_json_data(df_pop, '2018', 'pop_total')"
   ]
  },
  {
   "cell_type": "code",
   "execution_count": 51,
   "metadata": {},
   "outputs": [],
   "source": [
    "df_pop.to_csv('../data/clean_data/total_population_2018.csv', index=False)"
   ]
  },
  {
   "cell_type": "code",
   "execution_count": 44,
   "metadata": {},
   "outputs": [],
   "source": [
    "df_pop_dens = get_json_data(\"EN.POP.DNST\", 318)"
   ]
  },
  {
   "cell_type": "code",
   "execution_count": 50,
   "metadata": {},
   "outputs": [],
   "source": [
    "df_pop_dens = process_json_data(df_pop_dens, '2016', 'smok')"
   ]
  },
  {
   "cell_type": "code",
   "execution_count": 51,
   "metadata": {},
   "outputs": [],
   "source": [
    "df_pop_dens.to_csv('../data/clean_data/population_density_2016.csv', index=False)"
   ]
  },
  {
   "cell_type": "code",
   "execution_count": 112,
   "metadata": {},
   "outputs": [],
   "source": [
    "df_comb = reduce(lambda left, right: pd.merge(left, right, how='left', on='country'),\n",
    "                 [age_comp, df_smok, df_air, df_phy, df_nurse, df_pop, df_pop_dens])"
   ]
  },
  {
   "cell_type": "code",
   "execution_count": 113,
   "metadata": {},
   "outputs": [],
   "source": [
    "df_comb = df_comb.sort_values(by='country')"
   ]
  },
  {
   "cell_type": "code",
   "execution_count": 114,
   "metadata": {},
   "outputs": [],
   "source": [
    "df_comb.to_csv('../data/clean_data/country_data.csv', index=False)"
   ]
  },
  {
   "cell_type": "code",
   "execution_count": null,
   "metadata": {},
   "outputs": [],
   "source": []
  },
  {
   "cell_type": "code",
   "execution_count": null,
   "metadata": {},
   "outputs": [],
   "source": []
  }
 ],
 "metadata": {
  "kernelspec": {
   "display_name": "Python 3",
   "language": "python",
   "name": "python3"
  },
  "language_info": {
   "codemirror_mode": {
    "name": "ipython",
    "version": 3
   },
   "file_extension": ".py",
   "mimetype": "text/x-python",
   "name": "python",
   "nbconvert_exporter": "python",
   "pygments_lexer": "ipython3",
   "version": "3.7.6"
  }
 },
 "nbformat": 4,
 "nbformat_minor": 4
}
