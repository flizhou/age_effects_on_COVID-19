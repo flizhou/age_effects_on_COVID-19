{
 "cells": [
  {
   "cell_type": "code",
   "execution_count": 1,
   "metadata": {},
   "outputs": [],
   "source": [
    "import requests\n",
    "import pandas as pd\n"
   ]
  },
  {
   "cell_type": "code",
   "execution_count": 3,
   "metadata": {},
   "outputs": [],
   "source": [
    "def get_data(code, page=318):\n",
    "    \"\"\"\n",
    "    A wrapper function to obtain data from the world bank API.\n",
    "    \n",
    "    Parameters:\n",
    "    -----------\n",
    "    code: str\n",
    "        The code of the indicator.\n",
    "    page: int (default: 318)\n",
    "        The number of pages to aggerate.\n",
    "    \n",
    "    Returns:\n",
    "    --------\n",
    "    pandas.DataFrame    \n",
    "    \"\"\"\n",
    "    data_json = []\n",
    "    for i in range(1, page):\n",
    "        request = requests.get(\"https://api.worldbank.org/v2/country/all/indicator/\" + \n",
    "                               indicator + \"?format=json&page=\" + str(i))\n",
    "        data_json.extend(request.json()[1])\n",
    "        \n",
    "    return pd.DataFrame(data_json)"
   ]
  },
  {
   "cell_type": "code",
   "execution_count": 11,
   "metadata": {},
   "outputs": [],
   "source": [
    "df_1564 = get_data(\"SP.POP.1564.TO.ZS\")\n",
    "df_1564.to_csv('../data/clean_data/df_1564.csv', index=False)"
   ]
  },
  {
   "cell_type": "code",
   "execution_count": 26,
   "metadata": {},
   "outputs": [],
   "source": [
    "df_64up = get_data(\"SP.POP.65UP.TO.ZS\")\n",
    "df_64up.to_csv('../data/clean_data/df_64up.csv', index=False)"
   ]
  },
  {
   "cell_type": "code",
   "execution_count": 44,
   "metadata": {},
   "outputs": [],
   "source": [
    "df_smok = get_data(\"SH.PRV.SMOK\")\n",
    "df_smok.to_csv('../data/clean_data/smoking_prevalence_2016.csv', index=False)"
   ]
  },
  {
   "cell_type": "code",
   "execution_count": 52,
   "metadata": {},
   "outputs": [],
   "source": [
    "df_air = get_data(\"EN.ATM.PM25.MC.M3\")\n",
    "df_air.to_csv('../data/clean_data/air_polution_2017.csv', index=False)"
   ]
  },
  {
   "cell_type": "code",
   "execution_count": 57,
   "metadata": {},
   "outputs": [],
   "source": [
    "df_bed = get_data(\"SH.MED.BEDS.ZS\")\n",
    "df_bed.to_csv('../data/clean_data/hospital_bed_2013.csv', index=False)"
   ]
  },
  {
   "cell_type": "code",
   "execution_count": 68,
   "metadata": {},
   "outputs": [],
   "source": [
    "df_phy = get_data(\"SH.MED.PHYS.ZS\")\n",
    "df_phy.to_csv('../data/clean_data/physicians_2015.csv', index=False)"
   ]
  },
  {
   "cell_type": "code",
   "execution_count": 86,
   "metadata": {},
   "outputs": [],
   "source": [
    "df_nurse = get_data(\"SH.MED.NUMW.P3\")\n",
    "df_nurse.to_csv('../data/clean_data/nurse_midwivies_2015.csv', index=False)"
   ]
  },
  {
   "cell_type": "code",
   "execution_count": null,
   "metadata": {},
   "outputs": [],
   "source": [
    "df_pop = get_data(\"SP.POP.TOTL\")\n",
    "df_pop.to_csv('../data/clean_data/total_population_2018.csv', index=False)"
   ]
  },
  {
   "cell_type": "code",
   "execution_count": 44,
   "metadata": {},
   "outputs": [],
   "source": [
    "df_pop_dens = get_data(\"EN.POP.DNST\")\n",
    "df_pop_dens.to_csv('../data/clean_data/population_density_2016.csv', index=False)"
   ]
  }
 ],
 "metadata": {
  "kernelspec": {
   "display_name": "Python 3",
   "language": "python",
   "name": "python3"
  },
  "language_info": {
   "codemirror_mode": {
    "name": "ipython",
    "version": 3
   },
   "file_extension": ".py",
   "mimetype": "text/x-python",
   "name": "python",
   "nbconvert_exporter": "python",
   "pygments_lexer": "ipython3",
   "version": "3.7.6"
  }
 },
 "nbformat": 4,
 "nbformat_minor": 4
}
