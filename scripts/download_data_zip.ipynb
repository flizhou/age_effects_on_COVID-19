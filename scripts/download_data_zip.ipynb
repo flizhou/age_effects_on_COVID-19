{
 "cells": [
  {
   "cell_type": "code",
   "execution_count": 1,
   "metadata": {},
   "outputs": [],
   "source": [
    "import requests, zipfile, io, json\n",
    "import pandas as pd"
   ]
  },
  {
   "cell_type": "code",
   "execution_count": 2,
   "metadata": {},
   "outputs": [],
   "source": [
    "def get_files(code):\n",
    "    \"\"\"\n",
    "    A wrapper function to obtain .csv files from the world bank.\n",
    "    \n",
    "    Parameters:\n",
    "    -----------\n",
    "    code: str\n",
    "        The code of the indicator.\n",
    "\n",
    "    Returns:\n",
    "    --------\n",
    "    str\n",
    "        downloaded .csv filename    \n",
    "    \"\"\"\n",
    "    r = requests.get('http://api.worldbank.org/v2/en/indicator/' + code + '?downloadformat=csv', stream=True)\n",
    "    with zipfile.ZipFile(io.BytesIO(r.content)) as z:\n",
    "        filename = z.namelist()[1]\n",
    "        z.extract(filename, '../data/raw_data')\n",
    "        return filename\n"
   ]
  },
  {
   "cell_type": "code",
   "execution_count": 3,
   "metadata": {},
   "outputs": [],
   "source": [
    "files = {}\n",
    "\n",
    "files['age_1564'] = get_files(\"SP.POP.1564.TO.ZS\")\n",
    "files['age_65up'] = get_files(\"SP.POP.65UP.TO.ZS\")\n",
    "files['smoking'] = get_files(\"SH.PRV.SMOK\")\n",
    "files['air_pollution'] = get_files(\"EN.ATM.PM25.MC.M3\")\n",
    "files['medical_bed'] = get_files(\"SH.MED.BEDS.ZS\")\n",
    "files['physicians'] = get_files(\"SH.MED.PHYS.ZS\")\n",
    "files['nurses_midwives'] = get_files(\"SH.MED.NUMW.P3\")\n",
    "files['population_total'] = get_files(\"SP.POP.TOTL\")\n",
    "files['population_density'] = get_files(\"EN.POP.DNST\")\n"
   ]
  },
  {
   "cell_type": "code",
   "execution_count": 4,
   "metadata": {},
   "outputs": [],
   "source": [
    "with open('../data/clean_data/filenames.json', 'w') as json_file:\n",
    "    json.dump(files, json_file)"
   ]
  },
  {
   "cell_type": "code",
   "execution_count": null,
   "metadata": {},
   "outputs": [],
   "source": []
  }
 ],
 "metadata": {
  "kernelspec": {
   "display_name": "Python 3",
   "language": "python",
   "name": "python3"
  },
  "language_info": {
   "codemirror_mode": {
    "name": "ipython",
    "version": 3
   },
   "file_extension": ".py",
   "mimetype": "text/x-python",
   "name": "python",
   "nbconvert_exporter": "python",
   "pygments_lexer": "ipython3",
   "version": "3.7.6"
  }
 },
 "nbformat": 4,
 "nbformat_minor": 4
}