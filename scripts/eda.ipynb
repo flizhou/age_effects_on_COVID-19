{
 "cells": [
  {
   "cell_type": "markdown",
   "metadata": {},
   "source": [
    "# Exploratory data analysis"
   ]
  },
  {
   "cell_type": "markdown",
   "metadata": {},
   "source": [
    "## 1. Dataset description\n",
    "\n",
    "\n"
   ]
  },
  {
   "cell_type": "markdown",
   "metadata": {},
   "source": [
    "## 2. Load the dataset"
   ]
  },
  {
   "cell_type": "code",
   "execution_count": 103,
   "metadata": {},
   "outputs": [
    {
     "name": "stderr",
     "output_type": "stream",
     "text": [
      "Warning message:\n",
      "\"package 'httr' was built under R version 3.6.3\"\n",
      "\n",
      "Attaching package: 'jsonlite'\n",
      "\n",
      "\n",
      "The following object is masked from 'package:purrr':\n",
      "\n",
      "    flatten\n",
      "\n",
      "\n"
     ]
    }
   ],
   "source": [
    "library(httr)\n",
    "library(jsonlite)\n",
    "library(tidyverse)\n"
   ]
  },
  {
   "cell_type": "code",
   "execution_count": 34,
   "metadata": {},
   "outputs": [
    {
     "name": "stderr",
     "output_type": "stream",
     "text": [
      "Parsed with column specification:\n",
      "cols(\n",
      "  .default = col_double(),\n",
      "  `Province/State` = \u001b[31mcol_character()\u001b[39m,\n",
      "  `Country/Region` = \u001b[31mcol_character()\u001b[39m\n",
      ")\n",
      "\n",
      "See spec(...) for full column specifications.\n",
      "\n",
      "Parsed with column specification:\n",
      "cols(\n",
      "  .default = col_double(),\n",
      "  `Province/State` = \u001b[31mcol_character()\u001b[39m,\n",
      "  `Country/Region` = \u001b[31mcol_character()\u001b[39m\n",
      ")\n",
      "\n",
      "See spec(...) for full column specifications.\n",
      "\n"
     ]
    }
   ],
   "source": [
    "url <- \"https://github.com/CSSEGISandData/COVID-19/blob/master/csse_covid_19_data/csse_covid_19_time_series\"\n",
    "covid19_confirmed <- read_csv(paste(url, \"/time_series_covid19_confirmed_global.csv?raw=true\", sep = \"\"))\n",
    "covid19_death <- read_csv(paste(url, \"/time_series_covid19_deaths_global.csv?raw=true\", sep = \"\"))"
   ]
  },
  {
   "cell_type": "code",
   "execution_count": 111,
   "metadata": {},
   "outputs": [
    {
     "data": {
      "text/html": [
       "<table>\n",
       "<caption>A tibble: 6 × 98</caption>\n",
       "<thead>\n",
       "\t<tr><th scope=col>Province/State</th><th scope=col>Country/Region</th><th scope=col>Lat</th><th scope=col>Long</th><th scope=col>1/22/20</th><th scope=col>1/23/20</th><th scope=col>1/24/20</th><th scope=col>1/25/20</th><th scope=col>1/26/20</th><th scope=col>1/27/20</th><th scope=col>...</th><th scope=col>4/15/20</th><th scope=col>4/16/20</th><th scope=col>4/17/20</th><th scope=col>4/18/20</th><th scope=col>4/19/20</th><th scope=col>4/20/20</th><th scope=col>4/21/20</th><th scope=col>4/22/20</th><th scope=col>4/23/20</th><th scope=col>4/24/20</th></tr>\n",
       "\t<tr><th scope=col>&lt;chr&gt;</th><th scope=col>&lt;chr&gt;</th><th scope=col>&lt;dbl&gt;</th><th scope=col>&lt;dbl&gt;</th><th scope=col>&lt;dbl&gt;</th><th scope=col>&lt;dbl&gt;</th><th scope=col>&lt;dbl&gt;</th><th scope=col>&lt;dbl&gt;</th><th scope=col>&lt;dbl&gt;</th><th scope=col>&lt;dbl&gt;</th><th scope=col>...</th><th scope=col>&lt;dbl&gt;</th><th scope=col>&lt;dbl&gt;</th><th scope=col>&lt;dbl&gt;</th><th scope=col>&lt;dbl&gt;</th><th scope=col>&lt;dbl&gt;</th><th scope=col>&lt;dbl&gt;</th><th scope=col>&lt;dbl&gt;</th><th scope=col>&lt;dbl&gt;</th><th scope=col>&lt;dbl&gt;</th><th scope=col>&lt;dbl&gt;</th></tr>\n",
       "</thead>\n",
       "<tbody>\n",
       "\t<tr><td>NA</td><td>Afghanistan        </td><td> 33.0000</td><td> 65.0000</td><td>0</td><td>0</td><td>0</td><td>0</td><td>0</td><td>0</td><td>...</td><td> 784</td><td> 840</td><td> 906</td><td> 933</td><td> 996</td><td>1026</td><td>1092</td><td>1176</td><td>1279</td><td>1351</td></tr>\n",
       "\t<tr><td>NA</td><td>Albania            </td><td> 41.1533</td><td> 20.1683</td><td>0</td><td>0</td><td>0</td><td>0</td><td>0</td><td>0</td><td>...</td><td> 494</td><td> 518</td><td> 539</td><td> 548</td><td> 562</td><td> 584</td><td> 609</td><td> 634</td><td> 663</td><td> 678</td></tr>\n",
       "\t<tr><td>NA</td><td>Algeria            </td><td> 28.0339</td><td>  1.6596</td><td>0</td><td>0</td><td>0</td><td>0</td><td>0</td><td>0</td><td>...</td><td>2160</td><td>2268</td><td>2418</td><td>2534</td><td>2629</td><td>2718</td><td>2811</td><td>2910</td><td>3007</td><td>3127</td></tr>\n",
       "\t<tr><td>NA</td><td>Andorra            </td><td> 42.5063</td><td>  1.5218</td><td>0</td><td>0</td><td>0</td><td>0</td><td>0</td><td>0</td><td>...</td><td> 673</td><td> 673</td><td> 696</td><td> 704</td><td> 713</td><td> 717</td><td> 717</td><td> 723</td><td> 723</td><td> 731</td></tr>\n",
       "\t<tr><td>NA</td><td>Angola             </td><td>-11.2027</td><td> 17.8739</td><td>0</td><td>0</td><td>0</td><td>0</td><td>0</td><td>0</td><td>...</td><td>  19</td><td>  19</td><td>  19</td><td>  24</td><td>  24</td><td>  24</td><td>  24</td><td>  25</td><td>  25</td><td>  25</td></tr>\n",
       "\t<tr><td>NA</td><td>Antigua and Barbuda</td><td> 17.0608</td><td>-61.7964</td><td>0</td><td>0</td><td>0</td><td>0</td><td>0</td><td>0</td><td>...</td><td>  23</td><td>  23</td><td>  23</td><td>  23</td><td>  23</td><td>  23</td><td>  23</td><td>  24</td><td>  24</td><td>  24</td></tr>\n",
       "</tbody>\n",
       "</table>\n"
      ],
      "text/latex": [
       "A tibble: 6 × 98\n",
       "\\begin{tabular}{r|llllllllllllllllllllllllllllllllllllllllllllllllllllllllllllllllllllllllllllllllllllllllllllllllll}\n",
       " Province/State & Country/Region & Lat & Long & 1/22/20 & 1/23/20 & 1/24/20 & 1/25/20 & 1/26/20 & 1/27/20 & 1/28/20 & 1/29/20 & 1/30/20 & 1/31/20 & 2/1/20 & 2/2/20 & 2/3/20 & 2/4/20 & 2/5/20 & 2/6/20 & 2/7/20 & 2/8/20 & 2/9/20 & 2/10/20 & 2/11/20 & 2/12/20 & 2/13/20 & 2/14/20 & 2/15/20 & 2/16/20 & 2/17/20 & 2/18/20 & 2/19/20 & 2/20/20 & 2/21/20 & 2/22/20 & 2/23/20 & 2/24/20 & 2/25/20 & 2/26/20 & 2/27/20 & 2/28/20 & 2/29/20 & 3/1/20 & 3/2/20 & 3/3/20 & 3/4/20 & 3/5/20 & 3/6/20 & 3/7/20 & 3/8/20 & 3/9/20 & 3/10/20 & 3/11/20 & 3/12/20 & 3/13/20 & 3/14/20 & 3/15/20 & 3/16/20 & 3/17/20 & 3/18/20 & 3/19/20 & 3/20/20 & 3/21/20 & 3/22/20 & 3/23/20 & 3/24/20 & 3/25/20 & 3/26/20 & 3/27/20 & 3/28/20 & 3/29/20 & 3/30/20 & 3/31/20 & 4/1/20 & 4/2/20 & 4/3/20 & 4/4/20 & 4/5/20 & 4/6/20 & 4/7/20 & 4/8/20 & 4/9/20 & 4/10/20 & 4/11/20 & 4/12/20 & 4/13/20 & 4/14/20 & 4/15/20 & 4/16/20 & 4/17/20 & 4/18/20 & 4/19/20 & 4/20/20 & 4/21/20 & 4/22/20 & 4/23/20 & 4/24/20\\\\\n",
       " <chr> & <chr> & <dbl> & <dbl> & <dbl> & <dbl> & <dbl> & <dbl> & <dbl> & <dbl> & <dbl> & <dbl> & <dbl> & <dbl> & <dbl> & <dbl> & <dbl> & <dbl> & <dbl> & <dbl> & <dbl> & <dbl> & <dbl> & <dbl> & <dbl> & <dbl> & <dbl> & <dbl> & <dbl> & <dbl> & <dbl> & <dbl> & <dbl> & <dbl> & <dbl> & <dbl> & <dbl> & <dbl> & <dbl> & <dbl> & <dbl> & <dbl> & <dbl> & <dbl> & <dbl> & <dbl> & <dbl> & <dbl> & <dbl> & <dbl> & <dbl> & <dbl> & <dbl> & <dbl> & <dbl> & <dbl> & <dbl> & <dbl> & <dbl> & <dbl> & <dbl> & <dbl> & <dbl> & <dbl> & <dbl> & <dbl> & <dbl> & <dbl> & <dbl> & <dbl> & <dbl> & <dbl> & <dbl> & <dbl> & <dbl> & <dbl> & <dbl> & <dbl> & <dbl> & <dbl> & <dbl> & <dbl> & <dbl> & <dbl> & <dbl> & <dbl> & <dbl> & <dbl> & <dbl> & <dbl> & <dbl> & <dbl> & <dbl> & <dbl> & <dbl> & <dbl> & <dbl> & <dbl>\\\\\n",
       "\\hline\n",
       "\t NA & Afghanistan         &  33.0000 &  65.0000 & 0 & 0 & 0 & 0 & 0 & 0 & 0 & 0 & 0 & 0 & 0 & 0 & 0 & 0 & 0 & 0 & 0 & 0 & 0 & 0 & 0 & 0 & 0 & 0 & 0 & 0 & 0 & 0 & 0 & 0 & 0 & 0 & 0 & 1 & 1 & 1 & 1 & 1 & 1 & 1 & 1 & 1 &  1 &  1 &  1 &  1 &  4 &  4 &  5 &  7 &  7 &  7 & 11 & 16 & 21 & 22 & 22 & 22 & 24 &  24 &  40 &  40 &  74 &  84 &  94 & 110 & 110 & 120 & 170 & 174 & 237 & 273 &  281 &  299 &  349 &  367 &  423 &  444 &  484 &  521 &  555 &  607 &  665 &  714 &  784 &  840 &  906 &  933 &  996 & 1026 & 1092 & 1176 & 1279 & 1351\\\\\n",
       "\t NA & Albania             &  41.1533 &  20.1683 & 0 & 0 & 0 & 0 & 0 & 0 & 0 & 0 & 0 & 0 & 0 & 0 & 0 & 0 & 0 & 0 & 0 & 0 & 0 & 0 & 0 & 0 & 0 & 0 & 0 & 0 & 0 & 0 & 0 & 0 & 0 & 0 & 0 & 0 & 0 & 0 & 0 & 0 & 0 & 0 & 0 & 0 &  0 &  0 &  0 &  0 &  0 &  2 & 10 & 12 & 23 & 33 & 38 & 42 & 51 & 55 & 59 & 64 & 70 &  76 &  89 & 104 & 123 & 146 & 174 & 186 & 197 & 212 & 223 & 243 & 259 & 277 &  304 &  333 &  361 &  377 &  383 &  400 &  409 &  416 &  433 &  446 &  467 &  475 &  494 &  518 &  539 &  548 &  562 &  584 &  609 &  634 &  663 &  678\\\\\n",
       "\t NA & Algeria             &  28.0339 &   1.6596 & 0 & 0 & 0 & 0 & 0 & 0 & 0 & 0 & 0 & 0 & 0 & 0 & 0 & 0 & 0 & 0 & 0 & 0 & 0 & 0 & 0 & 0 & 0 & 0 & 0 & 0 & 0 & 0 & 0 & 0 & 0 & 0 & 0 & 0 & 1 & 1 & 1 & 1 & 1 & 1 & 3 & 5 & 12 & 12 & 17 & 17 & 19 & 20 & 20 & 20 & 24 & 26 & 37 & 48 & 54 & 60 & 74 & 87 & 90 & 139 & 201 & 230 & 264 & 302 & 367 & 409 & 454 & 511 & 584 & 716 & 847 & 986 & 1171 & 1251 & 1320 & 1423 & 1468 & 1572 & 1666 & 1761 & 1825 & 1914 & 1983 & 2070 & 2160 & 2268 & 2418 & 2534 & 2629 & 2718 & 2811 & 2910 & 3007 & 3127\\\\\n",
       "\t NA & Andorra             &  42.5063 &   1.5218 & 0 & 0 & 0 & 0 & 0 & 0 & 0 & 0 & 0 & 0 & 0 & 0 & 0 & 0 & 0 & 0 & 0 & 0 & 0 & 0 & 0 & 0 & 0 & 0 & 0 & 0 & 0 & 0 & 0 & 0 & 0 & 0 & 0 & 0 & 0 & 0 & 0 & 0 & 0 & 0 & 1 & 1 &  1 &  1 &  1 &  1 &  1 &  1 &  1 &  1 &  1 &  1 &  1 &  1 &  2 & 39 & 39 & 53 & 75 &  88 & 113 & 133 & 164 & 188 & 224 & 267 & 308 & 334 & 370 & 376 & 390 & 428 &  439 &  466 &  501 &  525 &  545 &  564 &  583 &  601 &  601 &  638 &  646 &  659 &  673 &  673 &  696 &  704 &  713 &  717 &  717 &  723 &  723 &  731\\\\\n",
       "\t NA & Angola              & -11.2027 &  17.8739 & 0 & 0 & 0 & 0 & 0 & 0 & 0 & 0 & 0 & 0 & 0 & 0 & 0 & 0 & 0 & 0 & 0 & 0 & 0 & 0 & 0 & 0 & 0 & 0 & 0 & 0 & 0 & 0 & 0 & 0 & 0 & 0 & 0 & 0 & 0 & 0 & 0 & 0 & 0 & 0 & 0 & 0 &  0 &  0 &  0 &  0 &  0 &  0 &  0 &  0 &  0 &  0 &  0 &  0 &  0 &  0 &  0 &  0 &  1 &   2 &   2 &   3 &   3 &   3 &   4 &   4 &   5 &   7 &   7 &   7 &   8 &   8 &    8 &   10 &   14 &   16 &   17 &   19 &   19 &   19 &   19 &   19 &   19 &   19 &   19 &   19 &   19 &   24 &   24 &   24 &   24 &   25 &   25 &   25\\\\\n",
       "\t NA & Antigua and Barbuda &  17.0608 & -61.7964 & 0 & 0 & 0 & 0 & 0 & 0 & 0 & 0 & 0 & 0 & 0 & 0 & 0 & 0 & 0 & 0 & 0 & 0 & 0 & 0 & 0 & 0 & 0 & 0 & 0 & 0 & 0 & 0 & 0 & 0 & 0 & 0 & 0 & 0 & 0 & 0 & 0 & 0 & 0 & 0 & 0 & 0 &  0 &  0 &  0 &  0 &  0 &  0 &  0 &  0 &  0 &  1 &  1 &  1 &  1 &  1 &  1 &  1 &  1 &   1 &   1 &   3 &   3 &   3 &   7 &   7 &   7 &   7 &   7 &   7 &   7 &   9 &   15 &   15 &   15 &   15 &   19 &   19 &   19 &   19 &   21 &   21 &   23 &   23 &   23 &   23 &   23 &   23 &   23 &   23 &   23 &   24 &   24 &   24\\\\\n",
       "\\end{tabular}\n"
      ],
      "text/markdown": [
       "\n",
       "A tibble: 6 × 98\n",
       "\n",
       "| Province/State &lt;chr&gt; | Country/Region &lt;chr&gt; | Lat &lt;dbl&gt; | Long &lt;dbl&gt; | 1/22/20 &lt;dbl&gt; | 1/23/20 &lt;dbl&gt; | 1/24/20 &lt;dbl&gt; | 1/25/20 &lt;dbl&gt; | 1/26/20 &lt;dbl&gt; | 1/27/20 &lt;dbl&gt; | ... ... | 4/15/20 &lt;dbl&gt; | 4/16/20 &lt;dbl&gt; | 4/17/20 &lt;dbl&gt; | 4/18/20 &lt;dbl&gt; | 4/19/20 &lt;dbl&gt; | 4/20/20 &lt;dbl&gt; | 4/21/20 &lt;dbl&gt; | 4/22/20 &lt;dbl&gt; | 4/23/20 &lt;dbl&gt; | 4/24/20 &lt;dbl&gt; |\n",
       "|---|---|---|---|---|---|---|---|---|---|---|---|---|---|---|---|---|---|---|---|---|\n",
       "| NA | Afghanistan         |  33.0000 |  65.0000 | 0 | 0 | 0 | 0 | 0 | 0 | ... |  784 |  840 |  906 |  933 |  996 | 1026 | 1092 | 1176 | 1279 | 1351 |\n",
       "| NA | Albania             |  41.1533 |  20.1683 | 0 | 0 | 0 | 0 | 0 | 0 | ... |  494 |  518 |  539 |  548 |  562 |  584 |  609 |  634 |  663 |  678 |\n",
       "| NA | Algeria             |  28.0339 |   1.6596 | 0 | 0 | 0 | 0 | 0 | 0 | ... | 2160 | 2268 | 2418 | 2534 | 2629 | 2718 | 2811 | 2910 | 3007 | 3127 |\n",
       "| NA | Andorra             |  42.5063 |   1.5218 | 0 | 0 | 0 | 0 | 0 | 0 | ... |  673 |  673 |  696 |  704 |  713 |  717 |  717 |  723 |  723 |  731 |\n",
       "| NA | Angola              | -11.2027 |  17.8739 | 0 | 0 | 0 | 0 | 0 | 0 | ... |   19 |   19 |   19 |   24 |   24 |   24 |   24 |   25 |   25 |   25 |\n",
       "| NA | Antigua and Barbuda |  17.0608 | -61.7964 | 0 | 0 | 0 | 0 | 0 | 0 | ... |   23 |   23 |   23 |   23 |   23 |   23 |   23 |   24 |   24 |   24 |\n",
       "\n"
      ],
      "text/plain": [
       "  Province/State Country/Region      Lat      Long     1/22/20 1/23/20 1/24/20\n",
       "1 NA             Afghanistan          33.0000  65.0000 0       0       0      \n",
       "2 NA             Albania              41.1533  20.1683 0       0       0      \n",
       "3 NA             Algeria              28.0339   1.6596 0       0       0      \n",
       "4 NA             Andorra              42.5063   1.5218 0       0       0      \n",
       "5 NA             Angola              -11.2027  17.8739 0       0       0      \n",
       "6 NA             Antigua and Barbuda  17.0608 -61.7964 0       0       0      \n",
       "  1/25/20 1/26/20 1/27/20 ... 4/15/20 4/16/20 4/17/20 4/18/20 4/19/20 4/20/20\n",
       "1 0       0       0       ...  784     840     906     933     996    1026   \n",
       "2 0       0       0       ...  494     518     539     548     562     584   \n",
       "3 0       0       0       ... 2160    2268    2418    2534    2629    2718   \n",
       "4 0       0       0       ...  673     673     696     704     713     717   \n",
       "5 0       0       0       ...   19      19      19      24      24      24   \n",
       "6 0       0       0       ...   23      23      23      23      23      23   \n",
       "  4/21/20 4/22/20 4/23/20 4/24/20\n",
       "1 1092    1176    1279    1351   \n",
       "2  609     634     663     678   \n",
       "3 2811    2910    3007    3127   \n",
       "4  717     723     723     731   \n",
       "5   24      25      25      25   \n",
       "6   23      24      24      24   "
      ]
     },
     "metadata": {},
     "output_type": "display_data"
    }
   ],
   "source": [
    "head(covid19_confirmed)"
   ]
  },
  {
   "cell_type": "code",
   "execution_count": 162,
   "metadata": {},
   "outputs": [
    {
     "name": "stderr",
     "output_type": "stream",
     "text": [
      "Parsed with column specification:\n",
      "cols(\n",
      "  country = \u001b[31mcol_character()\u001b[39m,\n",
      "  age_1564 = \u001b[32mcol_double()\u001b[39m,\n",
      "  age_64up = \u001b[32mcol_double()\u001b[39m,\n",
      "  age_0014 = \u001b[32mcol_double()\u001b[39m,\n",
      "  smok = \u001b[32mcol_double()\u001b[39m,\n",
      "  air_polution = \u001b[32mcol_double()\u001b[39m,\n",
      "  doctor = \u001b[32mcol_double()\u001b[39m,\n",
      "  nurse_midwivies = \u001b[32mcol_double()\u001b[39m\n",
      ")\n",
      "\n"
     ]
    }
   ],
   "source": [
    "country_data <- read_csv(\"../data/clean_data/country_data.csv\")"
   ]
  },
  {
   "cell_type": "code",
   "execution_count": 138,
   "metadata": {},
   "outputs": [
    {
     "data": {
      "text/html": [
       "<table>\n",
       "<caption>A tibble: 6 × 8</caption>\n",
       "<thead>\n",
       "\t<tr><th scope=col>country</th><th scope=col>age_1564</th><th scope=col>age_64up</th><th scope=col>age_0014</th><th scope=col>smok</th><th scope=col>air_polution</th><th scope=col>doctor</th><th scope=col>nurse_midwivies</th></tr>\n",
       "\t<tr><th scope=col>&lt;chr&gt;</th><th scope=col>&lt;dbl&gt;</th><th scope=col>&lt;dbl&gt;</th><th scope=col>&lt;dbl&gt;</th><th scope=col>&lt;dbl&gt;</th><th scope=col>&lt;dbl&gt;</th><th scope=col>&lt;dbl&gt;</th><th scope=col>&lt;dbl&gt;</th></tr>\n",
       "</thead>\n",
       "<tbody>\n",
       "\t<tr><td>Afghanistan   </td><td>54.32490</td><td> 2.584927</td><td>43.09018</td><td>  NA</td><td>56.91081</td><td>0.2907</td><td>    NA</td></tr>\n",
       "\t<tr><td>Albania       </td><td>68.58239</td><td>13.744736</td><td>17.67287</td><td>28.7</td><td>18.20060</td><td>    NA</td><td>    NA</td></tr>\n",
       "\t<tr><td>Algeria       </td><td>63.48882</td><td> 6.362497</td><td>30.14868</td><td>15.6</td><td>38.88401</td><td>    NA</td><td>    NA</td></tr>\n",
       "\t<tr><td>American Samoa</td><td>      NA</td><td>       NA</td><td>      NA</td><td>  NA</td><td>12.47382</td><td>    NA</td><td>    NA</td></tr>\n",
       "\t<tr><td>Andorra       </td><td>      NA</td><td>       NA</td><td>      NA</td><td>33.5</td><td>10.30762</td><td>3.3333</td><td>4.0128</td></tr>\n",
       "\t<tr><td>Angola        </td><td>50.97470</td><td> 2.216374</td><td>46.80892</td><td>  NA</td><td>32.38850</td><td>    NA</td><td>    NA</td></tr>\n",
       "</tbody>\n",
       "</table>\n"
      ],
      "text/latex": [
       "A tibble: 6 × 8\n",
       "\\begin{tabular}{r|llllllll}\n",
       " country & age\\_1564 & age\\_64up & age\\_0014 & smok & air\\_polution & doctor & nurse\\_midwivies\\\\\n",
       " <chr> & <dbl> & <dbl> & <dbl> & <dbl> & <dbl> & <dbl> & <dbl>\\\\\n",
       "\\hline\n",
       "\t Afghanistan    & 54.32490 &  2.584927 & 43.09018 &   NA & 56.91081 & 0.2907 &     NA\\\\\n",
       "\t Albania        & 68.58239 & 13.744736 & 17.67287 & 28.7 & 18.20060 &     NA &     NA\\\\\n",
       "\t Algeria        & 63.48882 &  6.362497 & 30.14868 & 15.6 & 38.88401 &     NA &     NA\\\\\n",
       "\t American Samoa &       NA &        NA &       NA &   NA & 12.47382 &     NA &     NA\\\\\n",
       "\t Andorra        &       NA &        NA &       NA & 33.5 & 10.30762 & 3.3333 & 4.0128\\\\\n",
       "\t Angola         & 50.97470 &  2.216374 & 46.80892 &   NA & 32.38850 &     NA &     NA\\\\\n",
       "\\end{tabular}\n"
      ],
      "text/markdown": [
       "\n",
       "A tibble: 6 × 8\n",
       "\n",
       "| country &lt;chr&gt; | age_1564 &lt;dbl&gt; | age_64up &lt;dbl&gt; | age_0014 &lt;dbl&gt; | smok &lt;dbl&gt; | air_polution &lt;dbl&gt; | doctor &lt;dbl&gt; | nurse_midwivies &lt;dbl&gt; |\n",
       "|---|---|---|---|---|---|---|---|\n",
       "| Afghanistan    | 54.32490 |  2.584927 | 43.09018 |   NA | 56.91081 | 0.2907 |     NA |\n",
       "| Albania        | 68.58239 | 13.744736 | 17.67287 | 28.7 | 18.20060 |     NA |     NA |\n",
       "| Algeria        | 63.48882 |  6.362497 | 30.14868 | 15.6 | 38.88401 |     NA |     NA |\n",
       "| American Samoa |       NA |        NA |       NA |   NA | 12.47382 |     NA |     NA |\n",
       "| Andorra        |       NA |        NA |       NA | 33.5 | 10.30762 | 3.3333 | 4.0128 |\n",
       "| Angola         | 50.97470 |  2.216374 | 46.80892 |   NA | 32.38850 |     NA |     NA |\n",
       "\n"
      ],
      "text/plain": [
       "  country        age_1564 age_64up  age_0014 smok air_polution doctor\n",
       "1 Afghanistan    54.32490  2.584927 43.09018   NA 56.91081     0.2907\n",
       "2 Albania        68.58239 13.744736 17.67287 28.7 18.20060         NA\n",
       "3 Algeria        63.48882  6.362497 30.14868 15.6 38.88401         NA\n",
       "4 American Samoa       NA        NA       NA   NA 12.47382         NA\n",
       "5 Andorra              NA        NA       NA 33.5 10.30762     3.3333\n",
       "6 Angola         50.97470  2.216374 46.80892   NA 32.38850         NA\n",
       "  nurse_midwivies\n",
       "1     NA         \n",
       "2     NA         \n",
       "3     NA         \n",
       "4     NA         \n",
       "5 4.0128         \n",
       "6     NA         "
      ]
     },
     "metadata": {},
     "output_type": "display_data"
    }
   ],
   "source": [
    "head(country_data)"
   ]
  },
  {
   "cell_type": "markdown",
   "metadata": {},
   "source": [
    "## 3. Explore the dataset"
   ]
  },
  {
   "cell_type": "code",
   "execution_count": 56,
   "metadata": {},
   "outputs": [
    {
     "data": {
      "text/html": [
       "<ol class=list-inline>\n",
       "\t<li>264</li>\n",
       "\t<li>98</li>\n",
       "</ol>\n"
      ],
      "text/latex": [
       "\\begin{enumerate*}\n",
       "\\item 264\n",
       "\\item 98\n",
       "\\end{enumerate*}\n"
      ],
      "text/markdown": [
       "1. 264\n",
       "2. 98\n",
       "\n",
       "\n"
      ],
      "text/plain": [
       "[1] 264  98"
      ]
     },
     "metadata": {},
     "output_type": "display_data"
    }
   ],
   "source": [
    "dim(covid19_confirmed)"
   ]
  },
  {
   "cell_type": "code",
   "execution_count": 35,
   "metadata": {},
   "outputs": [
    {
     "data": {
      "text/html": [
       "'4/24/20'"
      ],
      "text/latex": [
       "'4/24/20'"
      ],
      "text/markdown": [
       "'4/24/20'"
      ],
      "text/plain": [
       "[1] \"4/24/20\""
      ]
     },
     "metadata": {},
     "output_type": "display_data"
    }
   ],
   "source": [
    "colnames(covid19_confirmed)[length(covid19_confirmed)]"
   ]
  },
  {
   "cell_type": "code",
   "execution_count": 57,
   "metadata": {},
   "outputs": [
    {
     "data": {
      "text/html": [
       "<ol class=list-inline>\n",
       "\t<li>264</li>\n",
       "\t<li>98</li>\n",
       "</ol>\n"
      ],
      "text/latex": [
       "\\begin{enumerate*}\n",
       "\\item 264\n",
       "\\item 98\n",
       "\\end{enumerate*}\n"
      ],
      "text/markdown": [
       "1. 264\n",
       "2. 98\n",
       "\n",
       "\n"
      ],
      "text/plain": [
       "[1] 264  98"
      ]
     },
     "metadata": {},
     "output_type": "display_data"
    }
   ],
   "source": [
    "dim(covid19_death)"
   ]
  },
  {
   "cell_type": "code",
   "execution_count": 58,
   "metadata": {},
   "outputs": [
    {
     "data": {
      "text/html": [
       "'4/24/20'"
      ],
      "text/latex": [
       "'4/24/20'"
      ],
      "text/markdown": [
       "'4/24/20'"
      ],
      "text/plain": [
       "[1] \"4/24/20\""
      ]
     },
     "metadata": {},
     "output_type": "display_data"
    }
   ],
   "source": [
    "colnames(covid19_death)[length(covid19_death)]"
   ]
  },
  {
   "cell_type": "code",
   "execution_count": 60,
   "metadata": {},
   "outputs": [
    {
     "data": {
      "text/html": [
       "TRUE"
      ],
      "text/latex": [
       "TRUE"
      ],
      "text/markdown": [
       "TRUE"
      ],
      "text/plain": [
       "[1] TRUE"
      ]
     },
     "metadata": {},
     "output_type": "display_data"
    }
   ],
   "source": [
    "all(colnames(covid19_confirmed) == colnames(covid19_death))"
   ]
  },
  {
   "cell_type": "code",
   "execution_count": 61,
   "metadata": {},
   "outputs": [
    {
     "data": {
      "text/html": [
       "TRUE"
      ],
      "text/latex": [
       "TRUE"
      ],
      "text/markdown": [
       "TRUE"
      ],
      "text/plain": [
       "[1] TRUE"
      ]
     },
     "metadata": {},
     "output_type": "display_data"
    }
   ],
   "source": [
    "all(covid19_confirmed[2] == covid19_death[2])"
   ]
  },
  {
   "cell_type": "code",
   "execution_count": 101,
   "metadata": {},
   "outputs": [
    {
     "data": {
      "text/html": [
       "TRUE"
      ],
      "text/latex": [
       "TRUE"
      ],
      "text/markdown": [
       "TRUE"
      ],
      "text/plain": [
       "[1] TRUE"
      ]
     },
     "metadata": {},
     "output_type": "display_data"
    }
   ],
   "source": [
    "all(!is.na(covid19_confirmed[length(covid19_confirmed)]))"
   ]
  },
  {
   "cell_type": "code",
   "execution_count": 102,
   "metadata": {},
   "outputs": [
    {
     "data": {
      "text/html": [
       "TRUE"
      ],
      "text/latex": [
       "TRUE"
      ],
      "text/markdown": [
       "TRUE"
      ],
      "text/plain": [
       "[1] TRUE"
      ]
     },
     "metadata": {},
     "output_type": "display_data"
    }
   ],
   "source": [
    "all(!is.na(covid19_death[length(covid19_death)]))"
   ]
  },
  {
   "cell_type": "code",
   "execution_count": 142,
   "metadata": {},
   "outputs": [
    {
     "data": {
      "text/html": [
       "<ol class=list-inline>\n",
       "\t<li>264</li>\n",
       "\t<li>8</li>\n",
       "</ol>\n"
      ],
      "text/latex": [
       "\\begin{enumerate*}\n",
       "\\item 264\n",
       "\\item 8\n",
       "\\end{enumerate*}\n"
      ],
      "text/markdown": [
       "1. 264\n",
       "2. 8\n",
       "\n",
       "\n"
      ],
      "text/plain": [
       "[1] 264   8"
      ]
     },
     "metadata": {},
     "output_type": "display_data"
    }
   ],
   "source": [
    "dim(country_data)"
   ]
  },
  {
   "cell_type": "markdown",
   "metadata": {},
   "source": [
    "## 4. Initial thoughts\n"
   ]
  },
  {
   "cell_type": "markdown",
   "metadata": {},
   "source": [
    "## 5. Wrangling"
   ]
  },
  {
   "cell_type": "code",
   "execution_count": 87,
   "metadata": {},
   "outputs": [],
   "source": [
    "confirmed <- covid19_confirmed[c(2, length(covid19_confirmed))]\n",
    "colnames(confirmed) = c(\"country\", \"n\")\n",
    "\n",
    "confirmed <- confirmed %>%\n",
    "    group_by(country) %>%\n",
    "    summarize(confirmed = sum(n))"
   ]
  },
  {
   "cell_type": "code",
   "execution_count": 88,
   "metadata": {},
   "outputs": [],
   "source": [
    "death <- covid19_death[c(2, length(covid19_death))]\n",
    "colnames(death) = c(\"country\", \"n\")\n",
    "\n",
    "death <- death %>%\n",
    "    group_by(country) %>%\n",
    "    summarize(death = sum(n))"
   ]
  },
  {
   "cell_type": "code",
   "execution_count": 96,
   "metadata": {},
   "outputs": [
    {
     "data": {
      "text/html": [
       "<table>\n",
       "<caption>A data.frame: 6 × 4</caption>\n",
       "<thead>\n",
       "\t<tr><th scope=col>country</th><th scope=col>confirmed</th><th scope=col>death</th><th scope=col>rate</th></tr>\n",
       "\t<tr><th scope=col>&lt;chr&gt;</th><th scope=col>&lt;dbl&gt;</th><th scope=col>&lt;dbl&gt;</th><th scope=col>&lt;dbl&gt;</th></tr>\n",
       "</thead>\n",
       "<tbody>\n",
       "\t<tr><td>Afghanistan        </td><td>1351</td><td> 43</td><td>0.03182828</td></tr>\n",
       "\t<tr><td>Albania            </td><td> 678</td><td> 27</td><td>0.03982301</td></tr>\n",
       "\t<tr><td>Algeria            </td><td>3127</td><td>415</td><td>0.13271506</td></tr>\n",
       "\t<tr><td>Andorra            </td><td> 731</td><td> 40</td><td>0.05471956</td></tr>\n",
       "\t<tr><td>Angola             </td><td>  25</td><td>  2</td><td>0.08000000</td></tr>\n",
       "\t<tr><td>Antigua and Barbuda</td><td>  24</td><td>  3</td><td>0.12500000</td></tr>\n",
       "</tbody>\n",
       "</table>\n"
      ],
      "text/latex": [
       "A data.frame: 6 × 4\n",
       "\\begin{tabular}{r|llll}\n",
       " country & confirmed & death & rate\\\\\n",
       " <chr> & <dbl> & <dbl> & <dbl>\\\\\n",
       "\\hline\n",
       "\t Afghanistan         & 1351 &  43 & 0.03182828\\\\\n",
       "\t Albania             &  678 &  27 & 0.03982301\\\\\n",
       "\t Algeria             & 3127 & 415 & 0.13271506\\\\\n",
       "\t Andorra             &  731 &  40 & 0.05471956\\\\\n",
       "\t Angola              &   25 &   2 & 0.08000000\\\\\n",
       "\t Antigua and Barbuda &   24 &   3 & 0.12500000\\\\\n",
       "\\end{tabular}\n"
      ],
      "text/markdown": [
       "\n",
       "A data.frame: 6 × 4\n",
       "\n",
       "| country &lt;chr&gt; | confirmed &lt;dbl&gt; | death &lt;dbl&gt; | rate &lt;dbl&gt; |\n",
       "|---|---|---|---|\n",
       "| Afghanistan         | 1351 |  43 | 0.03182828 |\n",
       "| Albania             |  678 |  27 | 0.03982301 |\n",
       "| Algeria             | 3127 | 415 | 0.13271506 |\n",
       "| Andorra             |  731 |  40 | 0.05471956 |\n",
       "| Angola              |   25 |   2 | 0.08000000 |\n",
       "| Antigua and Barbuda |   24 |   3 | 0.12500000 |\n",
       "\n"
      ],
      "text/plain": [
       "  country             confirmed death rate      \n",
       "1 Afghanistan         1351       43   0.03182828\n",
       "2 Albania              678       27   0.03982301\n",
       "3 Algeria             3127      415   0.13271506\n",
       "4 Andorra              731       40   0.05471956\n",
       "5 Angola                25        2   0.08000000\n",
       "6 Antigua and Barbuda   24        3   0.12500000"
      ]
     },
     "metadata": {},
     "output_type": "display_data"
    }
   ],
   "source": [
    "covid19 <- merge(confirmed, death, by = \"country\") %>%\n",
    "    mutate(rate = death / confirmed)\n",
    "head(covid19)"
   ]
  },
  {
   "cell_type": "code",
   "execution_count": 132,
   "metadata": {},
   "outputs": [
    {
     "data": {
      "text/html": [
       "<ol class=list-inline>\n",
       "\t<li>185</li>\n",
       "\t<li>4</li>\n",
       "</ol>\n"
      ],
      "text/latex": [
       "\\begin{enumerate*}\n",
       "\\item 185\n",
       "\\item 4\n",
       "\\end{enumerate*}\n"
      ],
      "text/markdown": [
       "1. 185\n",
       "2. 4\n",
       "\n",
       "\n"
      ],
      "text/plain": [
       "[1] 185   4"
      ]
     },
     "metadata": {},
     "output_type": "display_data"
    }
   ],
   "source": [
    "dim(covid19)"
   ]
  },
  {
   "cell_type": "code",
   "execution_count": 95,
   "metadata": {},
   "outputs": [
    {
     "data": {
      "text/html": [
       "<table>\n",
       "<caption>A data.frame: 0 × 4</caption>\n",
       "<thead>\n",
       "\t<tr><th scope=col>country</th><th scope=col>confirmed</th><th scope=col>death</th><th scope=col>rate</th></tr>\n",
       "\t<tr><th scope=col>&lt;chr&gt;</th><th scope=col>&lt;dbl&gt;</th><th scope=col>&lt;dbl&gt;</th><th scope=col>&lt;dbl&gt;</th></tr>\n",
       "</thead>\n",
       "<tbody>\n",
       "</tbody>\n",
       "</table>\n"
      ],
      "text/latex": [
       "A data.frame: 0 × 4\n",
       "\\begin{tabular}{r|llll}\n",
       " country & confirmed & death & rate\\\\\n",
       " <chr> & <dbl> & <dbl> & <dbl>\\\\\n",
       "\\hline\n",
       "\\end{tabular}\n"
      ],
      "text/markdown": [
       "\n",
       "A data.frame: 0 × 4\n",
       "\n",
       "| country &lt;chr&gt; | confirmed &lt;dbl&gt; | death &lt;dbl&gt; | rate &lt;dbl&gt; |\n",
       "|---|---|---|---|\n",
       "\n"
      ],
      "text/plain": [
       "     country confirmed death rate"
      ]
     },
     "metadata": {},
     "output_type": "display_data"
    }
   ],
   "source": [
    "covid19 %>%\n",
    "    filter(rate >= 1)"
   ]
  },
  {
   "cell_type": "code",
   "execution_count": 145,
   "metadata": {},
   "outputs": [
    {
     "data": {
      "text/html": [
       "<table>\n",
       "<caption>A data.frame: 26 × 4</caption>\n",
       "<thead>\n",
       "\t<tr><th scope=col>country</th><th scope=col>confirmed</th><th scope=col>death</th><th scope=col>rate</th></tr>\n",
       "\t<tr><th scope=col>&lt;chr&gt;</th><th scope=col>&lt;dbl&gt;</th><th scope=col>&lt;dbl&gt;</th><th scope=col>&lt;dbl&gt;</th></tr>\n",
       "</thead>\n",
       "<tbody>\n",
       "\t<tr><td>Bahamas                         </td><td>    73</td><td>   11</td><td>0.150684932</td></tr>\n",
       "\t<tr><td>Brunei                          </td><td>   138</td><td>    1</td><td>0.007246377</td></tr>\n",
       "\t<tr><td>Burma                           </td><td>   144</td><td>    5</td><td>0.034722222</td></tr>\n",
       "\t<tr><td>Congo (Brazzaville)             </td><td>   200</td><td>    6</td><td>0.030000000</td></tr>\n",
       "\t<tr><td>Congo (Kinshasa)                </td><td>   394</td><td>   25</td><td>0.063451777</td></tr>\n",
       "\t<tr><td>Czechia                         </td><td>  7273</td><td>  214</td><td>0.029423897</td></tr>\n",
       "\t<tr><td>Diamond Princess                </td><td>   712</td><td>   13</td><td>0.018258427</td></tr>\n",
       "\t<tr><td>Egypt                           </td><td>  4092</td><td>  294</td><td>0.071847507</td></tr>\n",
       "\t<tr><td>Gambia                          </td><td>    10</td><td>    1</td><td>0.100000000</td></tr>\n",
       "\t<tr><td>Holy See                        </td><td>     9</td><td>    0</td><td>0.000000000</td></tr>\n",
       "\t<tr><td>Iran                            </td><td> 88194</td><td> 5574</td><td>0.063201578</td></tr>\n",
       "\t<tr><td>Korea, South                    </td><td> 10718</td><td>  240</td><td>0.022392237</td></tr>\n",
       "\t<tr><td>Kyrgyzstan                      </td><td>   665</td><td>    8</td><td>0.012030075</td></tr>\n",
       "\t<tr><td>Laos                            </td><td>    19</td><td>    0</td><td>0.000000000</td></tr>\n",
       "\t<tr><td>MS Zaandam                      </td><td>     9</td><td>    2</td><td>0.222222222</td></tr>\n",
       "\t<tr><td>Russia                          </td><td> 68622</td><td>  615</td><td>0.008962140</td></tr>\n",
       "\t<tr><td>Saint Kitts and Nevis           </td><td>    15</td><td>    0</td><td>0.000000000</td></tr>\n",
       "\t<tr><td>Saint Lucia                     </td><td>    15</td><td>    0</td><td>0.000000000</td></tr>\n",
       "\t<tr><td>Saint Vincent and the Grenadines</td><td>    14</td><td>    0</td><td>0.000000000</td></tr>\n",
       "\t<tr><td>Slovakia                        </td><td>  1360</td><td>   17</td><td>0.012500000</td></tr>\n",
       "\t<tr><td>Syria                           </td><td>    42</td><td>    3</td><td>0.071428571</td></tr>\n",
       "\t<tr><td>Taiwan*                         </td><td>   428</td><td>    6</td><td>0.014018692</td></tr>\n",
       "\t<tr><td>US                              </td><td>905358</td><td>51949</td><td>0.057379512</td></tr>\n",
       "\t<tr><td>Venezuela                       </td><td>   318</td><td>   10</td><td>0.031446541</td></tr>\n",
       "\t<tr><td>Western Sahara                  </td><td>     6</td><td>    0</td><td>0.000000000</td></tr>\n",
       "\t<tr><td>Yemen                           </td><td>     1</td><td>    0</td><td>0.000000000</td></tr>\n",
       "</tbody>\n",
       "</table>\n"
      ],
      "text/latex": [
       "A data.frame: 26 × 4\n",
       "\\begin{tabular}{r|llll}\n",
       " country & confirmed & death & rate\\\\\n",
       " <chr> & <dbl> & <dbl> & <dbl>\\\\\n",
       "\\hline\n",
       "\t Bahamas                          &     73 &    11 & 0.150684932\\\\\n",
       "\t Brunei                           &    138 &     1 & 0.007246377\\\\\n",
       "\t Burma                            &    144 &     5 & 0.034722222\\\\\n",
       "\t Congo (Brazzaville)              &    200 &     6 & 0.030000000\\\\\n",
       "\t Congo (Kinshasa)                 &    394 &    25 & 0.063451777\\\\\n",
       "\t Czechia                          &   7273 &   214 & 0.029423897\\\\\n",
       "\t Diamond Princess                 &    712 &    13 & 0.018258427\\\\\n",
       "\t Egypt                            &   4092 &   294 & 0.071847507\\\\\n",
       "\t Gambia                           &     10 &     1 & 0.100000000\\\\\n",
       "\t Holy See                         &      9 &     0 & 0.000000000\\\\\n",
       "\t Iran                             &  88194 &  5574 & 0.063201578\\\\\n",
       "\t Korea, South                     &  10718 &   240 & 0.022392237\\\\\n",
       "\t Kyrgyzstan                       &    665 &     8 & 0.012030075\\\\\n",
       "\t Laos                             &     19 &     0 & 0.000000000\\\\\n",
       "\t MS Zaandam                       &      9 &     2 & 0.222222222\\\\\n",
       "\t Russia                           &  68622 &   615 & 0.008962140\\\\\n",
       "\t Saint Kitts and Nevis            &     15 &     0 & 0.000000000\\\\\n",
       "\t Saint Lucia                      &     15 &     0 & 0.000000000\\\\\n",
       "\t Saint Vincent and the Grenadines &     14 &     0 & 0.000000000\\\\\n",
       "\t Slovakia                         &   1360 &    17 & 0.012500000\\\\\n",
       "\t Syria                            &     42 &     3 & 0.071428571\\\\\n",
       "\t Taiwan*                          &    428 &     6 & 0.014018692\\\\\n",
       "\t US                               & 905358 & 51949 & 0.057379512\\\\\n",
       "\t Venezuela                        &    318 &    10 & 0.031446541\\\\\n",
       "\t Western Sahara                   &      6 &     0 & 0.000000000\\\\\n",
       "\t Yemen                            &      1 &     0 & 0.000000000\\\\\n",
       "\\end{tabular}\n"
      ],
      "text/markdown": [
       "\n",
       "A data.frame: 26 × 4\n",
       "\n",
       "| country &lt;chr&gt; | confirmed &lt;dbl&gt; | death &lt;dbl&gt; | rate &lt;dbl&gt; |\n",
       "|---|---|---|---|\n",
       "| Bahamas                          |     73 |    11 | 0.150684932 |\n",
       "| Brunei                           |    138 |     1 | 0.007246377 |\n",
       "| Burma                            |    144 |     5 | 0.034722222 |\n",
       "| Congo (Brazzaville)              |    200 |     6 | 0.030000000 |\n",
       "| Congo (Kinshasa)                 |    394 |    25 | 0.063451777 |\n",
       "| Czechia                          |   7273 |   214 | 0.029423897 |\n",
       "| Diamond Princess                 |    712 |    13 | 0.018258427 |\n",
       "| Egypt                            |   4092 |   294 | 0.071847507 |\n",
       "| Gambia                           |     10 |     1 | 0.100000000 |\n",
       "| Holy See                         |      9 |     0 | 0.000000000 |\n",
       "| Iran                             |  88194 |  5574 | 0.063201578 |\n",
       "| Korea, South                     |  10718 |   240 | 0.022392237 |\n",
       "| Kyrgyzstan                       |    665 |     8 | 0.012030075 |\n",
       "| Laos                             |     19 |     0 | 0.000000000 |\n",
       "| MS Zaandam                       |      9 |     2 | 0.222222222 |\n",
       "| Russia                           |  68622 |   615 | 0.008962140 |\n",
       "| Saint Kitts and Nevis            |     15 |     0 | 0.000000000 |\n",
       "| Saint Lucia                      |     15 |     0 | 0.000000000 |\n",
       "| Saint Vincent and the Grenadines |     14 |     0 | 0.000000000 |\n",
       "| Slovakia                         |   1360 |    17 | 0.012500000 |\n",
       "| Syria                            |     42 |     3 | 0.071428571 |\n",
       "| Taiwan*                          |    428 |     6 | 0.014018692 |\n",
       "| US                               | 905358 | 51949 | 0.057379512 |\n",
       "| Venezuela                        |    318 |    10 | 0.031446541 |\n",
       "| Western Sahara                   |      6 |     0 | 0.000000000 |\n",
       "| Yemen                            |      1 |     0 | 0.000000000 |\n",
       "\n"
      ],
      "text/plain": [
       "   country                          confirmed death rate       \n",
       "1  Bahamas                              73       11 0.150684932\n",
       "2  Brunei                              138        1 0.007246377\n",
       "3  Burma                               144        5 0.034722222\n",
       "4  Congo (Brazzaville)                 200        6 0.030000000\n",
       "5  Congo (Kinshasa)                    394       25 0.063451777\n",
       "6  Czechia                            7273      214 0.029423897\n",
       "7  Diamond Princess                    712       13 0.018258427\n",
       "8  Egypt                              4092      294 0.071847507\n",
       "9  Gambia                               10        1 0.100000000\n",
       "10 Holy See                              9        0 0.000000000\n",
       "11 Iran                              88194     5574 0.063201578\n",
       "12 Korea, South                      10718      240 0.022392237\n",
       "13 Kyrgyzstan                          665        8 0.012030075\n",
       "14 Laos                                 19        0 0.000000000\n",
       "15 MS Zaandam                            9        2 0.222222222\n",
       "16 Russia                            68622      615 0.008962140\n",
       "17 Saint Kitts and Nevis                15        0 0.000000000\n",
       "18 Saint Lucia                          15        0 0.000000000\n",
       "19 Saint Vincent and the Grenadines     14        0 0.000000000\n",
       "20 Slovakia                           1360       17 0.012500000\n",
       "21 Syria                                42        3 0.071428571\n",
       "22 Taiwan*                             428        6 0.014018692\n",
       "23 US                               905358    51949 0.057379512\n",
       "24 Venezuela                           318       10 0.031446541\n",
       "25 Western Sahara                        6        0 0.000000000\n",
       "26 Yemen                                 1        0 0.000000000"
      ]
     },
     "metadata": {},
     "output_type": "display_data"
    }
   ],
   "source": [
    "covid19 %>%\n",
    "    filter(!country %in% country_data$country)"
   ]
  },
  {
   "cell_type": "code",
   "execution_count": 163,
   "metadata": {},
   "outputs": [],
   "source": [
    "country_data <- country_data %>%\n",
    "    mutate(country = case_when(country == 'Bahamas, The' ~ 'Bahamas',\n",
    "                               country == 'Brunei Darussalam' ~ 'Brunei',\n",
    "                               country == 'Egypt, Arab Rep.' ~ 'Egypt',\n",
    "                               country == 'Gambia, The' ~ 'Gambia',\n",
    "                               country == 'Iran, Islamic Rep.' ~ 'Iran',\n",
    "                               country == 'Korea, Dem. People’s Rep.' ~ 'Korea, South',\n",
    "                               country == 'Czech Republic' ~ 'Czechia',\n",
    "                               country == 'Lao PDR' ~ 'Laos',\n",
    "                               country == 'Russian Federation' ~ 'Russia',\n",
    "                               country == 'St. Lucia' ~ 'Saint Lucia',\n",
    "                               country == 'St. Vincent and the Grenadines' ~ 'Saint Vincent and the Grenadines',\n",
    "                               country == 'Slovak Republic' ~ 'Slovakia',\n",
    "                               country == 'Syrian Arab Republic' ~ 'Syria',\n",
    "                               country == 'Venezuela, RB' ~ 'Venezuela',\n",
    "                               country == 'Sub-Saharan Africa' ~ 'Western Sahara',\n",
    "                               country == 'Yemen, Rep.' ~ 'Yemen',\n",
    "                               TRUE ~ country))"
   ]
  },
  {
   "cell_type": "code",
   "execution_count": 153,
   "metadata": {},
   "outputs": [],
   "source": [
    "covid19 <- covid19 %>%\n",
    "    mutate(country = case_when(country == 'Burma' ~ 'Myanmar',\n",
    "                               country == 'Congo (Brazzaville)' ~ 'Congo, Rep.',\n",
    "                               country == 'Congo (Kinshasa)' ~ 'Congo, Dem. Rep.',\n",
    "                               country == 'Kyrgyzstan' ~ 'Kyrgyz Republic',\n",
    "                               country == 'Kyrgyzstan' ~ 'Kyrgyz Republic',\n",
    "                               country == 'US' ~ 'United States',\n",
    "                               TRUE ~ country))"
   ]
  },
  {
   "cell_type": "code",
   "execution_count": 164,
   "metadata": {},
   "outputs": [
    {
     "data": {
      "text/html": [
       "<table>\n",
       "<caption>A data.frame: 5 × 4</caption>\n",
       "<thead>\n",
       "\t<tr><th scope=col>country</th><th scope=col>confirmed</th><th scope=col>death</th><th scope=col>rate</th></tr>\n",
       "\t<tr><th scope=col>&lt;chr&gt;</th><th scope=col>&lt;dbl&gt;</th><th scope=col>&lt;dbl&gt;</th><th scope=col>&lt;dbl&gt;</th></tr>\n",
       "</thead>\n",
       "<tbody>\n",
       "\t<tr><td>Diamond Princess     </td><td>712</td><td>13</td><td>0.01825843</td></tr>\n",
       "\t<tr><td>Holy See             </td><td>  9</td><td> 0</td><td>0.00000000</td></tr>\n",
       "\t<tr><td>MS Zaandam           </td><td>  9</td><td> 2</td><td>0.22222222</td></tr>\n",
       "\t<tr><td>Saint Kitts and Nevis</td><td> 15</td><td> 0</td><td>0.00000000</td></tr>\n",
       "\t<tr><td>Taiwan*              </td><td>428</td><td> 6</td><td>0.01401869</td></tr>\n",
       "</tbody>\n",
       "</table>\n"
      ],
      "text/latex": [
       "A data.frame: 5 × 4\n",
       "\\begin{tabular}{r|llll}\n",
       " country & confirmed & death & rate\\\\\n",
       " <chr> & <dbl> & <dbl> & <dbl>\\\\\n",
       "\\hline\n",
       "\t Diamond Princess      & 712 & 13 & 0.01825843\\\\\n",
       "\t Holy See              &   9 &  0 & 0.00000000\\\\\n",
       "\t MS Zaandam            &   9 &  2 & 0.22222222\\\\\n",
       "\t Saint Kitts and Nevis &  15 &  0 & 0.00000000\\\\\n",
       "\t Taiwan*               & 428 &  6 & 0.01401869\\\\\n",
       "\\end{tabular}\n"
      ],
      "text/markdown": [
       "\n",
       "A data.frame: 5 × 4\n",
       "\n",
       "| country &lt;chr&gt; | confirmed &lt;dbl&gt; | death &lt;dbl&gt; | rate &lt;dbl&gt; |\n",
       "|---|---|---|---|\n",
       "| Diamond Princess      | 712 | 13 | 0.01825843 |\n",
       "| Holy See              |   9 |  0 | 0.00000000 |\n",
       "| MS Zaandam            |   9 |  2 | 0.22222222 |\n",
       "| Saint Kitts and Nevis |  15 |  0 | 0.00000000 |\n",
       "| Taiwan*               | 428 |  6 | 0.01401869 |\n",
       "\n"
      ],
      "text/plain": [
       "  country               confirmed death rate      \n",
       "1 Diamond Princess      712       13    0.01825843\n",
       "2 Holy See                9        0    0.00000000\n",
       "3 MS Zaandam              9        2    0.22222222\n",
       "4 Saint Kitts and Nevis  15        0    0.00000000\n",
       "5 Taiwan*               428        6    0.01401869"
      ]
     },
     "metadata": {},
     "output_type": "display_data"
    }
   ],
   "source": [
    "covid19 %>%\n",
    "    filter(!country %in% country_data$country)"
   ]
  },
  {
   "cell_type": "code",
   "execution_count": 166,
   "metadata": {},
   "outputs": [],
   "source": [
    "data <- merge(country_data, covid19, by = \"country\")"
   ]
  },
  {
   "cell_type": "code",
   "execution_count": 167,
   "metadata": {},
   "outputs": [
    {
     "data": {
      "text/html": [
       "<table>\n",
       "<caption>A data.frame: 6 × 11</caption>\n",
       "<thead>\n",
       "\t<tr><th scope=col>country</th><th scope=col>age_1564</th><th scope=col>age_64up</th><th scope=col>age_0014</th><th scope=col>smok</th><th scope=col>air_polution</th><th scope=col>doctor</th><th scope=col>nurse_midwivies</th><th scope=col>confirmed</th><th scope=col>death</th><th scope=col>rate</th></tr>\n",
       "\t<tr><th scope=col>&lt;chr&gt;</th><th scope=col>&lt;dbl&gt;</th><th scope=col>&lt;dbl&gt;</th><th scope=col>&lt;dbl&gt;</th><th scope=col>&lt;dbl&gt;</th><th scope=col>&lt;dbl&gt;</th><th scope=col>&lt;dbl&gt;</th><th scope=col>&lt;dbl&gt;</th><th scope=col>&lt;dbl&gt;</th><th scope=col>&lt;dbl&gt;</th><th scope=col>&lt;dbl&gt;</th></tr>\n",
       "</thead>\n",
       "<tbody>\n",
       "\t<tr><td>Afghanistan        </td><td>54.32490</td><td> 2.584927</td><td>43.09018</td><td>  NA</td><td>56.91081</td><td>0.2907</td><td>    NA</td><td>1351</td><td> 43</td><td>0.03182828</td></tr>\n",
       "\t<tr><td>Albania            </td><td>68.58239</td><td>13.744736</td><td>17.67287</td><td>28.7</td><td>18.20060</td><td>    NA</td><td>    NA</td><td> 678</td><td> 27</td><td>0.03982301</td></tr>\n",
       "\t<tr><td>Algeria            </td><td>63.48882</td><td> 6.362497</td><td>30.14868</td><td>15.6</td><td>38.88401</td><td>    NA</td><td>    NA</td><td>3127</td><td>415</td><td>0.13271506</td></tr>\n",
       "\t<tr><td>Andorra            </td><td>      NA</td><td>       NA</td><td>      NA</td><td>33.5</td><td>10.30762</td><td>3.3333</td><td>4.0128</td><td> 731</td><td> 40</td><td>0.05471956</td></tr>\n",
       "\t<tr><td>Angola             </td><td>50.97470</td><td> 2.216374</td><td>46.80892</td><td>  NA</td><td>32.38850</td><td>    NA</td><td>    NA</td><td>  25</td><td>  2</td><td>0.08000000</td></tr>\n",
       "\t<tr><td>Antigua and Barbuda</td><td>69.11908</td><td> 8.799826</td><td>22.08109</td><td>  NA</td><td>18.62234</td><td>    NA</td><td>    NA</td><td>  24</td><td>  3</td><td>0.12500000</td></tr>\n",
       "</tbody>\n",
       "</table>\n"
      ],
      "text/latex": [
       "A data.frame: 6 × 11\n",
       "\\begin{tabular}{r|lllllllllll}\n",
       " country & age\\_1564 & age\\_64up & age\\_0014 & smok & air\\_polution & doctor & nurse\\_midwivies & confirmed & death & rate\\\\\n",
       " <chr> & <dbl> & <dbl> & <dbl> & <dbl> & <dbl> & <dbl> & <dbl> & <dbl> & <dbl> & <dbl>\\\\\n",
       "\\hline\n",
       "\t Afghanistan         & 54.32490 &  2.584927 & 43.09018 &   NA & 56.91081 & 0.2907 &     NA & 1351 &  43 & 0.03182828\\\\\n",
       "\t Albania             & 68.58239 & 13.744736 & 17.67287 & 28.7 & 18.20060 &     NA &     NA &  678 &  27 & 0.03982301\\\\\n",
       "\t Algeria             & 63.48882 &  6.362497 & 30.14868 & 15.6 & 38.88401 &     NA &     NA & 3127 & 415 & 0.13271506\\\\\n",
       "\t Andorra             &       NA &        NA &       NA & 33.5 & 10.30762 & 3.3333 & 4.0128 &  731 &  40 & 0.05471956\\\\\n",
       "\t Angola              & 50.97470 &  2.216374 & 46.80892 &   NA & 32.38850 &     NA &     NA &   25 &   2 & 0.08000000\\\\\n",
       "\t Antigua and Barbuda & 69.11908 &  8.799826 & 22.08109 &   NA & 18.62234 &     NA &     NA &   24 &   3 & 0.12500000\\\\\n",
       "\\end{tabular}\n"
      ],
      "text/markdown": [
       "\n",
       "A data.frame: 6 × 11\n",
       "\n",
       "| country &lt;chr&gt; | age_1564 &lt;dbl&gt; | age_64up &lt;dbl&gt; | age_0014 &lt;dbl&gt; | smok &lt;dbl&gt; | air_polution &lt;dbl&gt; | doctor &lt;dbl&gt; | nurse_midwivies &lt;dbl&gt; | confirmed &lt;dbl&gt; | death &lt;dbl&gt; | rate &lt;dbl&gt; |\n",
       "|---|---|---|---|---|---|---|---|---|---|---|\n",
       "| Afghanistan         | 54.32490 |  2.584927 | 43.09018 |   NA | 56.91081 | 0.2907 |     NA | 1351 |  43 | 0.03182828 |\n",
       "| Albania             | 68.58239 | 13.744736 | 17.67287 | 28.7 | 18.20060 |     NA |     NA |  678 |  27 | 0.03982301 |\n",
       "| Algeria             | 63.48882 |  6.362497 | 30.14868 | 15.6 | 38.88401 |     NA |     NA | 3127 | 415 | 0.13271506 |\n",
       "| Andorra             |       NA |        NA |       NA | 33.5 | 10.30762 | 3.3333 | 4.0128 |  731 |  40 | 0.05471956 |\n",
       "| Angola              | 50.97470 |  2.216374 | 46.80892 |   NA | 32.38850 |     NA |     NA |   25 |   2 | 0.08000000 |\n",
       "| Antigua and Barbuda | 69.11908 |  8.799826 | 22.08109 |   NA | 18.62234 |     NA |     NA |   24 |   3 | 0.12500000 |\n",
       "\n"
      ],
      "text/plain": [
       "  country             age_1564 age_64up  age_0014 smok air_polution doctor\n",
       "1 Afghanistan         54.32490  2.584927 43.09018   NA 56.91081     0.2907\n",
       "2 Albania             68.58239 13.744736 17.67287 28.7 18.20060         NA\n",
       "3 Algeria             63.48882  6.362497 30.14868 15.6 38.88401         NA\n",
       "4 Andorra                   NA        NA       NA 33.5 10.30762     3.3333\n",
       "5 Angola              50.97470  2.216374 46.80892   NA 32.38850         NA\n",
       "6 Antigua and Barbuda 69.11908  8.799826 22.08109   NA 18.62234         NA\n",
       "  nurse_midwivies confirmed death rate      \n",
       "1     NA          1351       43   0.03182828\n",
       "2     NA           678       27   0.03982301\n",
       "3     NA          3127      415   0.13271506\n",
       "4 4.0128           731       40   0.05471956\n",
       "5     NA            25        2   0.08000000\n",
       "6     NA            24        3   0.12500000"
      ]
     },
     "metadata": {},
     "output_type": "display_data"
    }
   ],
   "source": [
    "head(data)"
   ]
  },
  {
   "cell_type": "markdown",
   "metadata": {},
   "source": [
    "## 6. Research questions\n",
    "\n"
   ]
  },
  {
   "cell_type": "markdown",
   "metadata": {},
   "source": [
    "## 7. Data Analysis & Visualizations"
   ]
  },
  {
   "cell_type": "markdown",
   "metadata": {},
   "source": [
    "## 8. Summary and conclusions\n"
   ]
  }
 ],
 "metadata": {
  "kernelspec": {
   "display_name": "R",
   "language": "R",
   "name": "ir"
  },
  "language_info": {
   "codemirror_mode": "r",
   "file_extension": ".r",
   "mimetype": "text/x-r-source",
   "name": "R",
   "pygments_lexer": "r",
   "version": "3.6.1"
  }
 },
 "nbformat": 4,
 "nbformat_minor": 4
}
