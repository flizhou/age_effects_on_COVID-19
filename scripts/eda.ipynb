{
 "cells": [
  {
   "cell_type": "markdown",
   "metadata": {},
   "source": [
    "# Exploratory data analysis"
   ]
  },
  {
   "cell_type": "markdown",
   "metadata": {},
   "source": [
    "## 1. Dataset description\n",
    "\n",
    "1) Global COVID-19 datasets\n",
    "\n",
    "- The two COVID-19 datasets, [the global confirmed dataset](https://github.com/CSSEGISandData/COVID-19/blob/master/csse_covid_19_data/csse_covid_19_time_series/time_series_covid19_confirmed_global.csv) and [the global death dataset](https://github.com/CSSEGISandData/COVID-19/blob/master/csse_covid_19_data/csse_covid_19_time_series/time_series_covid19_deaths_global.csv), are from the [data repository](https://github.com/CSSEGISandData/COVID-19) for the 2019 Novel Coronavirus Visual Dashboard operated by the Johns Hopkins University Center for Systems Science and Engineering (JHU CSSE). The dataset is updated everyday starting from January 22nd, 2020.\n",
    "\n",
    "- Both datasets contain columns of location information (`Province/State`, `Country/Region`, `Lat`, and `Long`) or daily accumulated number of confirmed or deaths in the corresponding location, starting from `1/22/20` to present.\n",
    "\n",
    "- As stated in the dataset repository, \"Australia, Canada and China are reported at the province/state level. Dependencies of the Netherlands, the UK, France and Denmark are listed under the province/state level. The US and other countries are at the country level.\"\n",
    "\n",
    "- The datasets combine data from multiple sources and may contain mistakes.\n",
    "\n",
    "2) Country statistics datasets\n",
    "\n",
    "+ [Population ages 65 and above (% of total population)](https://data.worldbank.org/indicator/SP.POP.65UP.TO.ZS) from the [World Bank Open Data](https://data.worldbank.org/).\n",
    "\n",
    "+ [Population ages 15-64 (% of total population)](https://data.worldbank.org/indicator/SP.POP.1564.TO.ZS) from the World Bank Open Data.\n",
    "\n",
    "+ [Smoking prevalence, total (ages 15+)](https://data.worldbank.org/indicator/SH.PRV.SMOK) from the World Bank Open Data.\n",
    "\n",
    "+ [PM2.5 air pollution, mean annual exposure (micrograms per cubic meter)](https://data.worldbank.org/indicator/EN.ATM.PM25.MC.M3) from the World Bank Open Data.\n",
    "\n",
    "+ [Hospital beds (per 1,000 people)](https://data.worldbank.org/indicator/SH.MED.BEDS.ZS) from the World Bank Open Data.\n",
    "\n",
    "+ [Physicians (per 1,000 people)](https://data.worldbank.org/indicator/SH.MED.PHYS.ZS) from the World Bank Open Data.\n",
    "\n",
    "+ [Nurses and midwives (per 1,000 people)](https://data.worldbank.org/indicator/SH.MED.NUMW.P3) from the World Bank Open Data.\n",
    "\n",
    "+ [Population, total](https://data.worldbank.org/indicator/SP.POP.TOTL) from the World Bank Open Data.\n",
    "\n",
    "+ [Population density (people per sq. km of land area)](https://data.worldbank.org/indicator/EN.POP.DNST) from the World Bank Open Data.\n",
    "\n",
    "+ [Oxford Covid-19 Government Response Tracker data](https://raw.githubusercontent.com/OxCGRT/covid-policy-tracker/master/data/OxCGRT_latest.csv) from the [Oxford Covid-19 Government Response Tracker repository](https://github.com/OxCGRT/covid-policy-tracker/)\n",
    "    \n"
   ]
  },
  {
   "cell_type": "markdown",
   "metadata": {},
   "source": [
    "## 2. Load the dataset"
   ]
  },
  {
   "cell_type": "code",
   "execution_count": 122,
   "metadata": {},
   "outputs": [
    {
     "name": "stderr",
     "output_type": "stream",
     "text": [
      "\n",
      "********************************************************\n",
      "\n",
      "Note: As of version 1.0.0, cowplot does not change the\n",
      "\n",
      "  default ggplot2 theme anymore. To recover the previous\n",
      "\n",
      "  behavior, execute:\n",
      "  theme_set(theme_cowplot())\n",
      "\n",
      "********************************************************\n",
      "\n",
      "\n"
     ]
    }
   ],
   "source": [
    "library(MASS)\n",
    "library(mice)\n",
    "library(resample)\n",
    "\n",
    "library(testthat)\n",
    "library(rjson)\n",
    "\n",
    "library(plotly)\n",
    "library(htmlwidgets)\n",
    "library(repr)\n",
    "library(cowplot)\n",
    "library(tidyverse)\n"
   ]
  },
  {
   "cell_type": "code",
   "execution_count": null,
   "metadata": {},
   "outputs": [],
   "source": [
    "# get the most recent global COVID-19 confirmed and deaths datasets\n",
    "url <- \"https://github.com/CSSEGISandData/COVID-19/blob/master/csse_covid_19_data/csse_covid_19_time_series\"\n",
    "covid19_confirmed <- read_csv(paste(url, \"/time_series_covid19_confirmed_global.csv?raw=true\", sep = \"\"))\n",
    "covid19_death <- read_csv(paste(url, \"/time_series_covid19_deaths_global.csv?raw=true\", sep = \"\"))"
   ]
  },
  {
   "cell_type": "code",
   "execution_count": null,
   "metadata": {},
   "outputs": [],
   "source": [
    "# get the most recent government response dataset\n",
    "gov <- read_csv(\"https://raw.githubusercontent.com/OxCGRT/covid-policy-tracker/master/data/OxCGRT_latest.csv\")"
   ]
  },
  {
   "cell_type": "code",
   "execution_count": 4,
   "metadata": {},
   "outputs": [
    {
     "data": {
      "text/html": [
       "<table>\n",
       "<caption>A tibble: 6 × 105</caption>\n",
       "<thead>\n",
       "\t<tr><th scope=col>Province/State</th><th scope=col>Country/Region</th><th scope=col>Lat</th><th scope=col>Long</th><th scope=col>1/22/20</th><th scope=col>1/23/20</th><th scope=col>1/24/20</th><th scope=col>1/25/20</th><th scope=col>1/26/20</th><th scope=col>1/27/20</th><th scope=col>...</th><th scope=col>4/22/20</th><th scope=col>4/23/20</th><th scope=col>4/24/20</th><th scope=col>4/25/20</th><th scope=col>4/26/20</th><th scope=col>4/27/20</th><th scope=col>4/28/20</th><th scope=col>4/29/20</th><th scope=col>4/30/20</th><th scope=col>5/1/20</th></tr>\n",
       "\t<tr><th scope=col>&lt;chr&gt;</th><th scope=col>&lt;chr&gt;</th><th scope=col>&lt;dbl&gt;</th><th scope=col>&lt;dbl&gt;</th><th scope=col>&lt;dbl&gt;</th><th scope=col>&lt;dbl&gt;</th><th scope=col>&lt;dbl&gt;</th><th scope=col>&lt;dbl&gt;</th><th scope=col>&lt;dbl&gt;</th><th scope=col>&lt;dbl&gt;</th><th scope=col>...</th><th scope=col>&lt;dbl&gt;</th><th scope=col>&lt;dbl&gt;</th><th scope=col>&lt;dbl&gt;</th><th scope=col>&lt;dbl&gt;</th><th scope=col>&lt;dbl&gt;</th><th scope=col>&lt;dbl&gt;</th><th scope=col>&lt;dbl&gt;</th><th scope=col>&lt;dbl&gt;</th><th scope=col>&lt;dbl&gt;</th><th scope=col>&lt;dbl&gt;</th></tr>\n",
       "</thead>\n",
       "<tbody>\n",
       "\t<tr><td>NA</td><td>Afghanistan        </td><td> 33.0000</td><td> 65.0000</td><td>0</td><td>0</td><td>0</td><td>0</td><td>0</td><td>0</td><td>...</td><td>1176</td><td>1279</td><td>1351</td><td>1463</td><td>1531</td><td>1703</td><td>1828</td><td>1939</td><td>2171</td><td>2335</td></tr>\n",
       "\t<tr><td>NA</td><td>Albania            </td><td> 41.1533</td><td> 20.1683</td><td>0</td><td>0</td><td>0</td><td>0</td><td>0</td><td>0</td><td>...</td><td> 634</td><td> 663</td><td> 678</td><td> 712</td><td> 726</td><td> 736</td><td> 750</td><td> 766</td><td> 773</td><td> 782</td></tr>\n",
       "\t<tr><td>NA</td><td>Algeria            </td><td> 28.0339</td><td>  1.6596</td><td>0</td><td>0</td><td>0</td><td>0</td><td>0</td><td>0</td><td>...</td><td>2910</td><td>3007</td><td>3127</td><td>3256</td><td>3382</td><td>3517</td><td>3649</td><td>3848</td><td>4006</td><td>4154</td></tr>\n",
       "\t<tr><td>NA</td><td>Andorra            </td><td> 42.5063</td><td>  1.5218</td><td>0</td><td>0</td><td>0</td><td>0</td><td>0</td><td>0</td><td>...</td><td> 723</td><td> 723</td><td> 731</td><td> 738</td><td> 738</td><td> 743</td><td> 743</td><td> 743</td><td> 745</td><td> 745</td></tr>\n",
       "\t<tr><td>NA</td><td>Angola             </td><td>-11.2027</td><td> 17.8739</td><td>0</td><td>0</td><td>0</td><td>0</td><td>0</td><td>0</td><td>...</td><td>  25</td><td>  25</td><td>  25</td><td>  25</td><td>  26</td><td>  27</td><td>  27</td><td>  27</td><td>  27</td><td>  30</td></tr>\n",
       "\t<tr><td>NA</td><td>Antigua and Barbuda</td><td> 17.0608</td><td>-61.7964</td><td>0</td><td>0</td><td>0</td><td>0</td><td>0</td><td>0</td><td>...</td><td>  24</td><td>  24</td><td>  24</td><td>  24</td><td>  24</td><td>  24</td><td>  24</td><td>  24</td><td>  24</td><td>  25</td></tr>\n",
       "</tbody>\n",
       "</table>\n"
      ],
      "text/latex": [
       "A tibble: 6 × 105\n",
       "\\begin{tabular}{r|lllllllllllllllllllllllllllllllllllllllllllllllllllllllllllllllllllllllllllllllllllllllllllllllllllllllll}\n",
       " Province/State & Country/Region & Lat & Long & 1/22/20 & 1/23/20 & 1/24/20 & 1/25/20 & 1/26/20 & 1/27/20 & 1/28/20 & 1/29/20 & 1/30/20 & 1/31/20 & 2/1/20 & 2/2/20 & 2/3/20 & 2/4/20 & 2/5/20 & 2/6/20 & 2/7/20 & 2/8/20 & 2/9/20 & 2/10/20 & 2/11/20 & 2/12/20 & 2/13/20 & 2/14/20 & 2/15/20 & 2/16/20 & 2/17/20 & 2/18/20 & 2/19/20 & 2/20/20 & 2/21/20 & 2/22/20 & 2/23/20 & 2/24/20 & 2/25/20 & 2/26/20 & 2/27/20 & 2/28/20 & 2/29/20 & 3/1/20 & 3/2/20 & 3/3/20 & 3/4/20 & 3/5/20 & 3/6/20 & 3/7/20 & 3/8/20 & 3/9/20 & 3/10/20 & 3/11/20 & 3/12/20 & 3/13/20 & 3/14/20 & 3/15/20 & 3/16/20 & 3/17/20 & 3/18/20 & 3/19/20 & 3/20/20 & 3/21/20 & 3/22/20 & 3/23/20 & 3/24/20 & 3/25/20 & 3/26/20 & 3/27/20 & 3/28/20 & 3/29/20 & 3/30/20 & 3/31/20 & 4/1/20 & 4/2/20 & 4/3/20 & 4/4/20 & 4/5/20 & 4/6/20 & 4/7/20 & 4/8/20 & 4/9/20 & 4/10/20 & 4/11/20 & 4/12/20 & 4/13/20 & 4/14/20 & 4/15/20 & 4/16/20 & 4/17/20 & 4/18/20 & 4/19/20 & 4/20/20 & 4/21/20 & 4/22/20 & 4/23/20 & 4/24/20 & 4/25/20 & 4/26/20 & 4/27/20 & 4/28/20 & 4/29/20 & 4/30/20 & 5/1/20\\\\\n",
       " <chr> & <chr> & <dbl> & <dbl> & <dbl> & <dbl> & <dbl> & <dbl> & <dbl> & <dbl> & <dbl> & <dbl> & <dbl> & <dbl> & <dbl> & <dbl> & <dbl> & <dbl> & <dbl> & <dbl> & <dbl> & <dbl> & <dbl> & <dbl> & <dbl> & <dbl> & <dbl> & <dbl> & <dbl> & <dbl> & <dbl> & <dbl> & <dbl> & <dbl> & <dbl> & <dbl> & <dbl> & <dbl> & <dbl> & <dbl> & <dbl> & <dbl> & <dbl> & <dbl> & <dbl> & <dbl> & <dbl> & <dbl> & <dbl> & <dbl> & <dbl> & <dbl> & <dbl> & <dbl> & <dbl> & <dbl> & <dbl> & <dbl> & <dbl> & <dbl> & <dbl> & <dbl> & <dbl> & <dbl> & <dbl> & <dbl> & <dbl> & <dbl> & <dbl> & <dbl> & <dbl> & <dbl> & <dbl> & <dbl> & <dbl> & <dbl> & <dbl> & <dbl> & <dbl> & <dbl> & <dbl> & <dbl> & <dbl> & <dbl> & <dbl> & <dbl> & <dbl> & <dbl> & <dbl> & <dbl> & <dbl> & <dbl> & <dbl> & <dbl> & <dbl> & <dbl> & <dbl> & <dbl> & <dbl> & <dbl> & <dbl> & <dbl> & <dbl> & <dbl> & <dbl>\\\\\n",
       "\\hline\n",
       "\t NA & Afghanistan         &  33.0000 &  65.0000 & 0 & 0 & 0 & 0 & 0 & 0 & 0 & 0 & 0 & 0 & 0 & 0 & 0 & 0 & 0 & 0 & 0 & 0 & 0 & 0 & 0 & 0 & 0 & 0 & 0 & 0 & 0 & 0 & 0 & 0 & 0 & 0 & 0 & 1 & 1 & 1 & 1 & 1 & 1 & 1 & 1 & 1 &  1 &  1 &  1 &  1 &  4 &  4 &  5 &  7 &  7 &  7 & 11 & 16 & 21 & 22 & 22 & 22 & 24 &  24 &  40 &  40 &  74 &  84 &  94 & 110 & 110 & 120 & 170 & 174 & 237 & 273 &  281 &  299 &  349 &  367 &  423 &  444 &  484 &  521 &  555 &  607 &  665 &  714 &  784 &  840 &  906 &  933 &  996 & 1026 & 1092 & 1176 & 1279 & 1351 & 1463 & 1531 & 1703 & 1828 & 1939 & 2171 & 2335\\\\\n",
       "\t NA & Albania             &  41.1533 &  20.1683 & 0 & 0 & 0 & 0 & 0 & 0 & 0 & 0 & 0 & 0 & 0 & 0 & 0 & 0 & 0 & 0 & 0 & 0 & 0 & 0 & 0 & 0 & 0 & 0 & 0 & 0 & 0 & 0 & 0 & 0 & 0 & 0 & 0 & 0 & 0 & 0 & 0 & 0 & 0 & 0 & 0 & 0 &  0 &  0 &  0 &  0 &  0 &  2 & 10 & 12 & 23 & 33 & 38 & 42 & 51 & 55 & 59 & 64 & 70 &  76 &  89 & 104 & 123 & 146 & 174 & 186 & 197 & 212 & 223 & 243 & 259 & 277 &  304 &  333 &  361 &  377 &  383 &  400 &  409 &  416 &  433 &  446 &  467 &  475 &  494 &  518 &  539 &  548 &  562 &  584 &  609 &  634 &  663 &  678 &  712 &  726 &  736 &  750 &  766 &  773 &  782\\\\\n",
       "\t NA & Algeria             &  28.0339 &   1.6596 & 0 & 0 & 0 & 0 & 0 & 0 & 0 & 0 & 0 & 0 & 0 & 0 & 0 & 0 & 0 & 0 & 0 & 0 & 0 & 0 & 0 & 0 & 0 & 0 & 0 & 0 & 0 & 0 & 0 & 0 & 0 & 0 & 0 & 0 & 1 & 1 & 1 & 1 & 1 & 1 & 3 & 5 & 12 & 12 & 17 & 17 & 19 & 20 & 20 & 20 & 24 & 26 & 37 & 48 & 54 & 60 & 74 & 87 & 90 & 139 & 201 & 230 & 264 & 302 & 367 & 409 & 454 & 511 & 584 & 716 & 847 & 986 & 1171 & 1251 & 1320 & 1423 & 1468 & 1572 & 1666 & 1761 & 1825 & 1914 & 1983 & 2070 & 2160 & 2268 & 2418 & 2534 & 2629 & 2718 & 2811 & 2910 & 3007 & 3127 & 3256 & 3382 & 3517 & 3649 & 3848 & 4006 & 4154\\\\\n",
       "\t NA & Andorra             &  42.5063 &   1.5218 & 0 & 0 & 0 & 0 & 0 & 0 & 0 & 0 & 0 & 0 & 0 & 0 & 0 & 0 & 0 & 0 & 0 & 0 & 0 & 0 & 0 & 0 & 0 & 0 & 0 & 0 & 0 & 0 & 0 & 0 & 0 & 0 & 0 & 0 & 0 & 0 & 0 & 0 & 0 & 0 & 1 & 1 &  1 &  1 &  1 &  1 &  1 &  1 &  1 &  1 &  1 &  1 &  1 &  1 &  2 & 39 & 39 & 53 & 75 &  88 & 113 & 133 & 164 & 188 & 224 & 267 & 308 & 334 & 370 & 376 & 390 & 428 &  439 &  466 &  501 &  525 &  545 &  564 &  583 &  601 &  601 &  638 &  646 &  659 &  673 &  673 &  696 &  704 &  713 &  717 &  717 &  723 &  723 &  731 &  738 &  738 &  743 &  743 &  743 &  745 &  745\\\\\n",
       "\t NA & Angola              & -11.2027 &  17.8739 & 0 & 0 & 0 & 0 & 0 & 0 & 0 & 0 & 0 & 0 & 0 & 0 & 0 & 0 & 0 & 0 & 0 & 0 & 0 & 0 & 0 & 0 & 0 & 0 & 0 & 0 & 0 & 0 & 0 & 0 & 0 & 0 & 0 & 0 & 0 & 0 & 0 & 0 & 0 & 0 & 0 & 0 &  0 &  0 &  0 &  0 &  0 &  0 &  0 &  0 &  0 &  0 &  0 &  0 &  0 &  0 &  0 &  0 &  1 &   2 &   2 &   3 &   3 &   3 &   4 &   4 &   5 &   7 &   7 &   7 &   8 &   8 &    8 &   10 &   14 &   16 &   17 &   19 &   19 &   19 &   19 &   19 &   19 &   19 &   19 &   19 &   19 &   24 &   24 &   24 &   24 &   25 &   25 &   25 &   25 &   26 &   27 &   27 &   27 &   27 &   30\\\\\n",
       "\t NA & Antigua and Barbuda &  17.0608 & -61.7964 & 0 & 0 & 0 & 0 & 0 & 0 & 0 & 0 & 0 & 0 & 0 & 0 & 0 & 0 & 0 & 0 & 0 & 0 & 0 & 0 & 0 & 0 & 0 & 0 & 0 & 0 & 0 & 0 & 0 & 0 & 0 & 0 & 0 & 0 & 0 & 0 & 0 & 0 & 0 & 0 & 0 & 0 &  0 &  0 &  0 &  0 &  0 &  0 &  0 &  0 &  0 &  1 &  1 &  1 &  1 &  1 &  1 &  1 &  1 &   1 &   1 &   3 &   3 &   3 &   7 &   7 &   7 &   7 &   7 &   7 &   7 &   9 &   15 &   15 &   15 &   15 &   19 &   19 &   19 &   19 &   21 &   21 &   23 &   23 &   23 &   23 &   23 &   23 &   23 &   23 &   23 &   24 &   24 &   24 &   24 &   24 &   24 &   24 &   24 &   24 &   25\\\\\n",
       "\\end{tabular}\n"
      ],
      "text/markdown": [
       "\n",
       "A tibble: 6 × 105\n",
       "\n",
       "| Province/State &lt;chr&gt; | Country/Region &lt;chr&gt; | Lat &lt;dbl&gt; | Long &lt;dbl&gt; | 1/22/20 &lt;dbl&gt; | 1/23/20 &lt;dbl&gt; | 1/24/20 &lt;dbl&gt; | 1/25/20 &lt;dbl&gt; | 1/26/20 &lt;dbl&gt; | 1/27/20 &lt;dbl&gt; | ... ... | 4/22/20 &lt;dbl&gt; | 4/23/20 &lt;dbl&gt; | 4/24/20 &lt;dbl&gt; | 4/25/20 &lt;dbl&gt; | 4/26/20 &lt;dbl&gt; | 4/27/20 &lt;dbl&gt; | 4/28/20 &lt;dbl&gt; | 4/29/20 &lt;dbl&gt; | 4/30/20 &lt;dbl&gt; | 5/1/20 &lt;dbl&gt; |\n",
       "|---|---|---|---|---|---|---|---|---|---|---|---|---|---|---|---|---|---|---|---|---|\n",
       "| NA | Afghanistan         |  33.0000 |  65.0000 | 0 | 0 | 0 | 0 | 0 | 0 | ... | 1176 | 1279 | 1351 | 1463 | 1531 | 1703 | 1828 | 1939 | 2171 | 2335 |\n",
       "| NA | Albania             |  41.1533 |  20.1683 | 0 | 0 | 0 | 0 | 0 | 0 | ... |  634 |  663 |  678 |  712 |  726 |  736 |  750 |  766 |  773 |  782 |\n",
       "| NA | Algeria             |  28.0339 |   1.6596 | 0 | 0 | 0 | 0 | 0 | 0 | ... | 2910 | 3007 | 3127 | 3256 | 3382 | 3517 | 3649 | 3848 | 4006 | 4154 |\n",
       "| NA | Andorra             |  42.5063 |   1.5218 | 0 | 0 | 0 | 0 | 0 | 0 | ... |  723 |  723 |  731 |  738 |  738 |  743 |  743 |  743 |  745 |  745 |\n",
       "| NA | Angola              | -11.2027 |  17.8739 | 0 | 0 | 0 | 0 | 0 | 0 | ... |   25 |   25 |   25 |   25 |   26 |   27 |   27 |   27 |   27 |   30 |\n",
       "| NA | Antigua and Barbuda |  17.0608 | -61.7964 | 0 | 0 | 0 | 0 | 0 | 0 | ... |   24 |   24 |   24 |   24 |   24 |   24 |   24 |   24 |   24 |   25 |\n",
       "\n"
      ],
      "text/plain": [
       "  Province/State Country/Region      Lat      Long     1/22/20 1/23/20 1/24/20\n",
       "1 NA             Afghanistan          33.0000  65.0000 0       0       0      \n",
       "2 NA             Albania              41.1533  20.1683 0       0       0      \n",
       "3 NA             Algeria              28.0339   1.6596 0       0       0      \n",
       "4 NA             Andorra              42.5063   1.5218 0       0       0      \n",
       "5 NA             Angola              -11.2027  17.8739 0       0       0      \n",
       "6 NA             Antigua and Barbuda  17.0608 -61.7964 0       0       0      \n",
       "  1/25/20 1/26/20 1/27/20 ... 4/22/20 4/23/20 4/24/20 4/25/20 4/26/20 4/27/20\n",
       "1 0       0       0       ... 1176    1279    1351    1463    1531    1703   \n",
       "2 0       0       0       ...  634     663     678     712     726     736   \n",
       "3 0       0       0       ... 2910    3007    3127    3256    3382    3517   \n",
       "4 0       0       0       ...  723     723     731     738     738     743   \n",
       "5 0       0       0       ...   25      25      25      25      26      27   \n",
       "6 0       0       0       ...   24      24      24      24      24      24   \n",
       "  4/28/20 4/29/20 4/30/20 5/1/20\n",
       "1 1828    1939    2171    2335  \n",
       "2  750     766     773     782  \n",
       "3 3649    3848    4006    4154  \n",
       "4  743     743     745     745  \n",
       "5   27      27      27      30  \n",
       "6   24      24      24      25  "
      ]
     },
     "metadata": {},
     "output_type": "display_data"
    }
   ],
   "source": [
    "head(covid19_confirmed)"
   ]
  },
  {
   "cell_type": "code",
   "execution_count": 5,
   "metadata": {},
   "outputs": [
    {
     "data": {
      "text/html": [
       "<table>\n",
       "<caption>A tibble: 6 × 36</caption>\n",
       "<thead>\n",
       "\t<tr><th scope=col>CountryName</th><th scope=col>CountryCode</th><th scope=col>Date</th><th scope=col>C1_School closing</th><th scope=col>C1_Flag</th><th scope=col>C2_Workplace closing</th><th scope=col>C2_Flag</th><th scope=col>C3_Cancel public events</th><th scope=col>C3_Flag</th><th scope=col>C4_Restrictions on gatherings</th><th scope=col>...</th><th scope=col>H3_Contact tracing</th><th scope=col>H4_Emergency investment in healthcare</th><th scope=col>H5_Investment in vaccines</th><th scope=col>M1_Wildcard</th><th scope=col>ConfirmedCases</th><th scope=col>ConfirmedDeaths</th><th scope=col>StringencyIndex</th><th scope=col>StringencyIndexForDisplay</th><th scope=col>LegacyStringencyIndex</th><th scope=col>LegacyStringencyIndexForDisplay</th></tr>\n",
       "\t<tr><th scope=col>&lt;chr&gt;</th><th scope=col>&lt;chr&gt;</th><th scope=col>&lt;dbl&gt;</th><th scope=col>&lt;dbl&gt;</th><th scope=col>&lt;lgl&gt;</th><th scope=col>&lt;dbl&gt;</th><th scope=col>&lt;lgl&gt;</th><th scope=col>&lt;dbl&gt;</th><th scope=col>&lt;lgl&gt;</th><th scope=col>&lt;dbl&gt;</th><th scope=col>...</th><th scope=col>&lt;dbl&gt;</th><th scope=col>&lt;dbl&gt;</th><th scope=col>&lt;dbl&gt;</th><th scope=col>&lt;lgl&gt;</th><th scope=col>&lt;dbl&gt;</th><th scope=col>&lt;dbl&gt;</th><th scope=col>&lt;dbl&gt;</th><th scope=col>&lt;dbl&gt;</th><th scope=col>&lt;dbl&gt;</th><th scope=col>&lt;dbl&gt;</th></tr>\n",
       "</thead>\n",
       "<tbody>\n",
       "\t<tr><td>Aruba               </td><td>ABW</td><td>20200101</td><td>0</td><td>NA</td><td>0</td><td>NA</td><td>0</td><td>NA</td><td> 0</td><td>...</td><td>0</td><td>0</td><td>0</td><td>NA</td><td>NA</td><td>NA</td><td>0</td><td>0</td><td>0</td><td>0</td></tr>\n",
       "\t<tr><td>Afghanistan         </td><td>AFG</td><td>20200101</td><td>0</td><td>NA</td><td>0</td><td>NA</td><td>0</td><td>NA</td><td> 0</td><td>...</td><td>0</td><td>0</td><td>0</td><td>NA</td><td> 0</td><td> 0</td><td>0</td><td>0</td><td>0</td><td>0</td></tr>\n",
       "\t<tr><td>Angola              </td><td>AGO</td><td>20200101</td><td>0</td><td>NA</td><td>0</td><td>NA</td><td>0</td><td>NA</td><td> 0</td><td>...</td><td>0</td><td>0</td><td>0</td><td>NA</td><td>NA</td><td>NA</td><td>0</td><td>0</td><td>0</td><td>0</td></tr>\n",
       "\t<tr><td>Albania             </td><td>ALB</td><td>20200101</td><td>0</td><td>NA</td><td>0</td><td>NA</td><td>0</td><td>NA</td><td> 0</td><td>...</td><td>0</td><td>0</td><td>0</td><td>NA</td><td>NA</td><td>NA</td><td>0</td><td>0</td><td>0</td><td>0</td></tr>\n",
       "\t<tr><td>Andorra             </td><td>AND</td><td>20200101</td><td>0</td><td>NA</td><td>0</td><td>NA</td><td>0</td><td>NA</td><td>NA</td><td>...</td><td>0</td><td>0</td><td>0</td><td>NA</td><td>NA</td><td>NA</td><td>0</td><td>0</td><td>0</td><td>0</td></tr>\n",
       "\t<tr><td>United Arab Emirates</td><td>ARE</td><td>20200101</td><td>0</td><td>NA</td><td>0</td><td>NA</td><td>0</td><td>NA</td><td> 0</td><td>...</td><td>0</td><td>0</td><td>0</td><td>NA</td><td> 0</td><td> 0</td><td>0</td><td>0</td><td>0</td><td>0</td></tr>\n",
       "</tbody>\n",
       "</table>\n"
      ],
      "text/latex": [
       "A tibble: 6 × 36\n",
       "\\begin{tabular}{r|llllllllllllllllllllllllllllllllllll}\n",
       " CountryName & CountryCode & Date & C1\\_School closing & C1\\_Flag & C2\\_Workplace closing & C2\\_Flag & C3\\_Cancel public events & C3\\_Flag & C4\\_Restrictions on gatherings & C4\\_Flag & C5\\_Close public transport & C5\\_Flag & C6\\_Stay at home requirements & C6\\_Flag & C7\\_Restrictions on internal movement & C7\\_Flag & C8\\_International travel controls & E1\\_Income support & E1\\_Flag & E2\\_Debt/contract relief & E3\\_Fiscal measures & E4\\_International support & H1\\_Public information campaigns & H1\\_Flag & H2\\_Testing policy & H3\\_Contact tracing & H4\\_Emergency investment in healthcare & H5\\_Investment in vaccines & M1\\_Wildcard & ConfirmedCases & ConfirmedDeaths & StringencyIndex & StringencyIndexForDisplay & LegacyStringencyIndex & LegacyStringencyIndexForDisplay\\\\\n",
       " <chr> & <chr> & <dbl> & <dbl> & <lgl> & <dbl> & <lgl> & <dbl> & <lgl> & <dbl> & <lgl> & <dbl> & <dbl> & <dbl> & <lgl> & <dbl> & <lgl> & <dbl> & <dbl> & <lgl> & <dbl> & <dbl> & <dbl> & <dbl> & <dbl> & <dbl> & <dbl> & <dbl> & <dbl> & <lgl> & <dbl> & <dbl> & <dbl> & <dbl> & <dbl> & <dbl>\\\\\n",
       "\\hline\n",
       "\t Aruba                & ABW & 20200101 & 0 & NA & 0 & NA & 0 & NA &  0 & NA & 0 & NA &  0 & NA & 0 & NA & 0 & NA & NA & NA & 0 & NA & 0 & NA & 0 & 0 & 0 & 0 & NA & NA & NA & 0 & 0 & 0 & 0\\\\\n",
       "\t Afghanistan          & AFG & 20200101 & 0 & NA & 0 & NA & 0 & NA &  0 & NA & 0 & NA &  0 & NA & 0 & NA & 0 & NA & NA & NA & 0 & NA & 0 & NA & 0 & 0 & 0 & 0 & NA &  0 &  0 & 0 & 0 & 0 & 0\\\\\n",
       "\t Angola               & AGO & 20200101 & 0 & NA & 0 & NA & 0 & NA &  0 & NA & 0 & NA &  0 & NA & 0 & NA & 0 &  0 & NA &  0 & 0 &  0 & 0 & NA & 0 & 0 & 0 & 0 & NA & NA & NA & 0 & 0 & 0 & 0\\\\\n",
       "\t Albania              & ALB & 20200101 & 0 & NA & 0 & NA & 0 & NA &  0 & NA & 0 & NA &  0 & NA & 0 & NA & 0 & NA & NA & NA & 0 & NA & 0 & NA & 0 & 0 & 0 & 0 & NA & NA & NA & 0 & 0 & 0 & 0\\\\\n",
       "\t Andorra              & AND & 20200101 & 0 & NA & 0 & NA & 0 & NA & NA & NA & 0 & NA & NA & NA & 0 & NA & 0 & NA & NA & NA & 0 & NA & 0 & NA & 0 & 0 & 0 & 0 & NA & NA & NA & 0 & 0 & 0 & 0\\\\\n",
       "\t United Arab Emirates & ARE & 20200101 & 0 & NA & 0 & NA & 0 & NA &  0 & NA & 0 & NA &  0 & NA & 0 & NA & 0 & NA & NA & NA & 0 & NA & 0 & NA & 0 & 0 & 0 & 0 & NA &  0 &  0 & 0 & 0 & 0 & 0\\\\\n",
       "\\end{tabular}\n"
      ],
      "text/markdown": [
       "\n",
       "A tibble: 6 × 36\n",
       "\n",
       "| CountryName &lt;chr&gt; | CountryCode &lt;chr&gt; | Date &lt;dbl&gt; | C1_School closing &lt;dbl&gt; | C1_Flag &lt;lgl&gt; | C2_Workplace closing &lt;dbl&gt; | C2_Flag &lt;lgl&gt; | C3_Cancel public events &lt;dbl&gt; | C3_Flag &lt;lgl&gt; | C4_Restrictions on gatherings &lt;dbl&gt; | ... ... | H3_Contact tracing &lt;dbl&gt; | H4_Emergency investment in healthcare &lt;dbl&gt; | H5_Investment in vaccines &lt;dbl&gt; | M1_Wildcard &lt;lgl&gt; | ConfirmedCases &lt;dbl&gt; | ConfirmedDeaths &lt;dbl&gt; | StringencyIndex &lt;dbl&gt; | StringencyIndexForDisplay &lt;dbl&gt; | LegacyStringencyIndex &lt;dbl&gt; | LegacyStringencyIndexForDisplay &lt;dbl&gt; |\n",
       "|---|---|---|---|---|---|---|---|---|---|---|---|---|---|---|---|---|---|---|---|---|\n",
       "| Aruba                | ABW | 20200101 | 0 | NA | 0 | NA | 0 | NA |  0 | ... | 0 | 0 | 0 | NA | NA | NA | 0 | 0 | 0 | 0 |\n",
       "| Afghanistan          | AFG | 20200101 | 0 | NA | 0 | NA | 0 | NA |  0 | ... | 0 | 0 | 0 | NA |  0 |  0 | 0 | 0 | 0 | 0 |\n",
       "| Angola               | AGO | 20200101 | 0 | NA | 0 | NA | 0 | NA |  0 | ... | 0 | 0 | 0 | NA | NA | NA | 0 | 0 | 0 | 0 |\n",
       "| Albania              | ALB | 20200101 | 0 | NA | 0 | NA | 0 | NA |  0 | ... | 0 | 0 | 0 | NA | NA | NA | 0 | 0 | 0 | 0 |\n",
       "| Andorra              | AND | 20200101 | 0 | NA | 0 | NA | 0 | NA | NA | ... | 0 | 0 | 0 | NA | NA | NA | 0 | 0 | 0 | 0 |\n",
       "| United Arab Emirates | ARE | 20200101 | 0 | NA | 0 | NA | 0 | NA |  0 | ... | 0 | 0 | 0 | NA |  0 |  0 | 0 | 0 | 0 | 0 |\n",
       "\n"
      ],
      "text/plain": [
       "  CountryName          CountryCode Date     C1_School closing C1_Flag\n",
       "1 Aruba                ABW         20200101 0                 NA     \n",
       "2 Afghanistan          AFG         20200101 0                 NA     \n",
       "3 Angola               AGO         20200101 0                 NA     \n",
       "4 Albania              ALB         20200101 0                 NA     \n",
       "5 Andorra              AND         20200101 0                 NA     \n",
       "6 United Arab Emirates ARE         20200101 0                 NA     \n",
       "  C2_Workplace closing C2_Flag C3_Cancel public events C3_Flag\n",
       "1 0                    NA      0                       NA     \n",
       "2 0                    NA      0                       NA     \n",
       "3 0                    NA      0                       NA     \n",
       "4 0                    NA      0                       NA     \n",
       "5 0                    NA      0                       NA     \n",
       "6 0                    NA      0                       NA     \n",
       "  C4_Restrictions on gatherings ... H3_Contact tracing\n",
       "1  0                            ... 0                 \n",
       "2  0                            ... 0                 \n",
       "3  0                            ... 0                 \n",
       "4  0                            ... 0                 \n",
       "5 NA                            ... 0                 \n",
       "6  0                            ... 0                 \n",
       "  H4_Emergency investment in healthcare H5_Investment in vaccines M1_Wildcard\n",
       "1 0                                     0                         NA         \n",
       "2 0                                     0                         NA         \n",
       "3 0                                     0                         NA         \n",
       "4 0                                     0                         NA         \n",
       "5 0                                     0                         NA         \n",
       "6 0                                     0                         NA         \n",
       "  ConfirmedCases ConfirmedDeaths StringencyIndex StringencyIndexForDisplay\n",
       "1 NA             NA              0               0                        \n",
       "2  0              0              0               0                        \n",
       "3 NA             NA              0               0                        \n",
       "4 NA             NA              0               0                        \n",
       "5 NA             NA              0               0                        \n",
       "6  0              0              0               0                        \n",
       "  LegacyStringencyIndex LegacyStringencyIndexForDisplay\n",
       "1 0                     0                              \n",
       "2 0                     0                              \n",
       "3 0                     0                              \n",
       "4 0                     0                              \n",
       "5 0                     0                              \n",
       "6 0                     0                              "
      ]
     },
     "metadata": {},
     "output_type": "display_data"
    }
   ],
   "source": [
    "head(gov)"
   ]
  },
  {
   "cell_type": "code",
   "execution_count": null,
   "metadata": {},
   "outputs": [],
   "source": [
    "#' Read raw data into data frame\n",
    "#'\n",
    "#' @param label the file name\n",
    "#' @param skip lines to skip\n",
    "#'\n",
    "#' @return dataframe\n",
    "get_data <- function(label, skip = 4){\n",
    "    read_csv(paste(\"../data/raw_data/\", label, sep = \"\"), skip = skip)\n",
    "}\n",
    "\n",
    "filenames <- fromJSON(file = \"../data/clean_data/filenames.json\")\n",
    "\n",
    "# get country statistics\n",
    "age_65up <- get_data(filenames[\"age_65up\"])\n",
    "age_1564 <- get_data(filenames[\"age_1564\"])\n",
    "air_pollution <- get_data(filenames[\"air_pollution\"])\n",
    "medical_bed <- get_data(filenames[\"medical_bed\"])\n",
    "physicians <- get_data(filenames[\"physicians\"])\n",
    "nurses_midwives <- get_data(filenames[\"nurses_midwives\"])\n",
    "population_density <- get_data(filenames[\"population_density\"])\n",
    "population_total <- get_data(filenames[\"population_total\"])\n",
    "smoking <- get_data(filenames[\"smoking\"])"
   ]
  },
  {
   "cell_type": "code",
   "execution_count": null,
   "metadata": {},
   "outputs": [],
   "source": [
    "# head(age_65up)\n",
    "# head(age_1564)\n",
    "# head(air_pollution)\n",
    "# head(medical_bed)\n",
    "# head(physicians)\n",
    "# head(nurses_midwives)\n",
    "# head(population_density)\n",
    "# head(population_total)\n",
    "# head(smoking)"
   ]
  },
  {
   "cell_type": "markdown",
   "metadata": {},
   "source": [
    "## 3. Explore the dataset"
   ]
  },
  {
   "cell_type": "code",
   "execution_count": 6,
   "metadata": {},
   "outputs": [
    {
     "data": {
      "text/html": [
       "<ol class=list-inline>\n",
       "\t<li>266</li>\n",
       "\t<li>105</li>\n",
       "</ol>\n"
      ],
      "text/latex": [
       "\\begin{enumerate*}\n",
       "\\item 266\n",
       "\\item 105\n",
       "\\end{enumerate*}\n"
      ],
      "text/markdown": [
       "1. 266\n",
       "2. 105\n",
       "\n",
       "\n"
      ],
      "text/plain": [
       "[1] 266 105"
      ]
     },
     "metadata": {},
     "output_type": "display_data"
    },
    {
     "data": {
      "text/html": [
       "'5/1/20'"
      ],
      "text/latex": [
       "'5/1/20'"
      ],
      "text/markdown": [
       "'5/1/20'"
      ],
      "text/plain": [
       "[1] \"5/1/20\""
      ]
     },
     "metadata": {},
     "output_type": "display_data"
    },
    {
     "data": {
      "text/html": [
       "<ol class=list-inline>\n",
       "\t<li>266</li>\n",
       "\t<li>105</li>\n",
       "</ol>\n"
      ],
      "text/latex": [
       "\\begin{enumerate*}\n",
       "\\item 266\n",
       "\\item 105\n",
       "\\end{enumerate*}\n"
      ],
      "text/markdown": [
       "1. 266\n",
       "2. 105\n",
       "\n",
       "\n"
      ],
      "text/plain": [
       "[1] 266 105"
      ]
     },
     "metadata": {},
     "output_type": "display_data"
    },
    {
     "data": {
      "text/html": [
       "'5/1/20'"
      ],
      "text/latex": [
       "'5/1/20'"
      ],
      "text/markdown": [
       "'5/1/20'"
      ],
      "text/plain": [
       "[1] \"5/1/20\""
      ]
     },
     "metadata": {},
     "output_type": "display_data"
    },
    {
     "data": {
      "text/html": [
       "151"
      ],
      "text/latex": [
       "151"
      ],
      "text/markdown": [
       "151"
      ],
      "text/plain": [
       "[1] 151"
      ]
     },
     "metadata": {},
     "output_type": "display_data"
    }
   ],
   "source": [
    "print(\"Check the dimension of the global confirmed dataset:\")\n",
    "dim(covid19_confirmed)\n",
    "print(paste(\"The most recent data in the global confirmed dataset is from\", \n",
    "      colnames(covid19_confirmed)[length(covid19_confirmed)]))\n",
    "\n",
    "print(\"Check the dimension of the global deaths dataset:\")\n",
    "dim(covid19_death)\n",
    "print(paste(\"The most recent data in the global deaths dataset is from\", \n",
    "            colnames(covid19_death)[length(covid19_death)]))\n",
    "\n",
    "print(paste(\"There are\", length(unique(covid19_confirmed[`Country/Region`])), \n",
    "            \"unqiue countries in the global COVID-19 datasets\"))\n",
    "\n",
    "\n",
    "print(paste(\"There are\", length(unique(age_65up$country)), \n",
    "            \"unqiue countries in the datasets from the world bank open data.\")\n",
    "\n",
    "print(paste(\"There are\", length(unique(gov$CountryName)), \n",
    "            \"unqiue countries in the government response dataset.\")\n"
   ]
  },
  {
   "cell_type": "code",
   "execution_count": 7,
   "metadata": {},
   "outputs": [],
   "source": [
    "test_that(\"Column names of covid19_confirmed and covid19_death should be the same.\",\n",
    "          {expect_true(all(colnames(covid19_confirmed) == colnames(covid19_death)))\n",
    "          })\n",
    "\n",
    "test_that(\"The country column of covid19_confirmed and covid19_death should be the same.\",\n",
    "          {expect_true(all(covid19_confirmed[2] == covid19_death[2]))\n",
    "          })\n",
    "\n",
    "test_that(\"The last column of covid19_confirmed should not have missing values.\",\n",
    "          {expect_true(all(!is.na(covid19_confirmed[length(covid19_confirmed)])))\n",
    "          })\n",
    "\n",
    "test_that(\"The last column of covid19_death should not have missing values.\",\n",
    "          {expect_true(all(!is.na(covid19_death[length(covid19_death)])))\n",
    "          })"
   ]
  },
  {
   "cell_type": "markdown",
   "metadata": {},
   "source": [
    "## 4. Initial thoughts\n",
    "\n",
    "- I want to know the relationship between the portion of the senior in the population and the COVID-19 death rate. Considering the interpretability of a linear model, I'll use a linear model to explain the relationship.\n",
    "\n",
    "- I'll need to get the current death rate from the most recent confirmed and deaths numbers.\n",
    "\n",
    "- I'll include all the ten potential confounding variables in my linear regression model. \n",
    "\n",
    "- I won't include the confirmed and deaths numbers in my model. But I should include some statistics to indicate the severity of the COVID-19 in a country."
   ]
  },
  {
   "cell_type": "markdown",
   "metadata": {},
   "source": [
    "## 5. Wrangling"
   ]
  },
  {
   "cell_type": "code",
   "execution_count": 19,
   "metadata": {},
   "outputs": [],
   "source": [
    "#' Clean raw data\n",
    "#'\n",
    "#' @param df the dataframe\n",
    "#' @param name the col name\n",
    "#'\n",
    "#' @return cleaned dataframe\n",
    "clean_data <- function(df, name){\n",
    "    colnames(df)[1] <- 'country' \n",
    "    ret <- df[c(-2, -3, -4)] %>%\n",
    "        gather(year, {{name}}, -country) %>%\n",
    "        drop_na() %>%\n",
    "        group_by(country) %>%\n",
    "        top_n(1, year) %>%\n",
    "        ungroup() %>%\n",
    "        mutate(country = case_when(country == 'Bahamas, The' ~ 'Bahamas',\n",
    "                                   country == 'Brunei Darussalam' ~ 'Brunei',\n",
    "                                   country == 'Egypt, Arab Rep.' ~ 'Egypt',\n",
    "                                   country == 'Gambia, The' ~ 'Gambia',\n",
    "                                   country == 'Iran, Islamic Rep.' ~ 'Iran',\n",
    "                                   country == 'Korea, Dem. People’s Rep.' ~ 'South Korea',\n",
    "                                   country == 'Czech Republic' ~ 'Czechia',\n",
    "                                   country == 'Lao PDR' ~ 'Laos',\n",
    "                                   country == 'Russian Federation' ~ 'Russia',\n",
    "                                   country == 'St. Lucia' ~ 'Saint Lucia',\n",
    "                                   country == 'St. Vincent and the Grenadines' ~ 'Saint Vincent and the Grenadines',\n",
    "                                   country == 'Slovak Republic' ~ 'Slovakia',\n",
    "                                   country == 'Syrian Arab Republic' ~ 'Syria',\n",
    "                                   country == 'Venezuela, RB' ~ 'Venezuela',\n",
    "                                   country == 'Sub-Saharan Africa' ~ 'Western Sahara',\n",
    "                                   country == 'Yemen, Rep.' ~ 'Yemen',\n",
    "                                   TRUE ~ country))\n",
    "    colnames(ret)[2] <- paste(\"year_\", name, sep=\"\")\n",
    "    ret\n",
    "}"
   ]
  },
  {
   "cell_type": "code",
   "execution_count": 20,
   "metadata": {},
   "outputs": [],
   "source": [
    "# clean data\n",
    "age_65up <- clean_data(age_65up, \"age_65up\")\n",
    "age_1564 <- clean_data(age_1564, \"age_1564\")\n",
    "air_pollution <- clean_data(air_pollution, \"air_pollution\")\n",
    "medical_bed <- clean_data(medical_bed, \"med_bed\")\n",
    "physicians <- clean_data(physicians, \"physicians\")\n",
    "nurses_midwives <- clean_data(nurses_midwives, \"nurses_midwives\")\n",
    "population_density <- clean_data(population_density, \"pop_density\")\n",
    "population_total <- clean_data(population_total, \"pop_total\")\n",
    "smoking <- clean_data(smoking, \"smoking\")"
   ]
  },
  {
   "cell_type": "code",
   "execution_count": 21,
   "metadata": {},
   "outputs": [],
   "source": [
    "# save cleaned data\n",
    "write_csv(age_65up, \"../data/clean_data/age_65up_clean.csv\")\n",
    "write_csv(age_1564, \"../data/clean_data/age_1564_clean.csv\")\n",
    "write_csv(air_pollution, \"../data/clean_data/air_pollution_clean.csv\")\n",
    "write_csv(medical_bed, \"../data/clean_data/medical_bed_clean.csv\")\n",
    "write_csv(physicians, \"../data/clean_data/physicians_clean.csv\")\n",
    "write_csv(nurses_midwives, \"../data/clean_data/nurses_midwives.csv\")\n",
    "write_csv(population_density, \"../data/clean_data/population_density_clean.csv\")\n",
    "write_csv(population_total, \"../data/clean_data/population_total_clean.csv\")\n",
    "write_csv(smoking, \"../data/clean_data/smoking_clean.csv\")"
   ]
  },
  {
   "cell_type": "code",
   "execution_count": null,
   "metadata": {},
   "outputs": [],
   "source": [
    "# read in clean data\n",
    "age_65up <- read_csv(\"../data/clean_data/age_65up_clean.csv\")\n",
    "age_1564 <- read_csv(\"../data/clean_data/age_1564_clean.csv\")\n",
    "air_pollution <- read_csv(\"../data/clean_data/air_pollution_clean.csv\")\n",
    "medical_bed <- read_csv(\"../data/clean_data/medical_bed_clean.csv\")\n",
    "physicians <- read_csv(\"../data/clean_data/physicians_clean.csv\")\n",
    "nurses_midwives <- read_csv(\"../data/clean_data/nurses_midwives.csv\")\n",
    "population_density <- read_csv(\"../data/clean_data/population_density_clean.csv\")\n",
    "population_total <- read_csv(\"../data/clean_data/population_total_clean.csv\")\n",
    "smoking <- read_csv(\"../data/clean_data/smoking_clean.csv\")"
   ]
  },
  {
   "cell_type": "code",
   "execution_count": null,
   "metadata": {},
   "outputs": [],
   "source": [
    "# dim(age_65up)\n",
    "# dim(age_1564)\n",
    "# dim(air_pollution)\n",
    "# dim(medical_bed)\n",
    "# dim(physicians)\n",
    "# dim(nurses_midwives)\n",
    "# dim(population_density)\n",
    "# dim(population_total)\n",
    "# dim(smoking)"
   ]
  },
  {
   "cell_type": "code",
   "execution_count": 9,
   "metadata": {},
   "outputs": [
    {
     "data": {
      "text/html": [
       "<ol class=list-inline>\n",
       "\t<li>263</li>\n",
       "\t<li>19</li>\n",
       "</ol>\n"
      ],
      "text/latex": [
       "\\begin{enumerate*}\n",
       "\\item 263\n",
       "\\item 19\n",
       "\\end{enumerate*}\n"
      ],
      "text/markdown": [
       "1. 263\n",
       "2. 19\n",
       "\n",
       "\n"
      ],
      "text/plain": [
       "[1] 263  19"
      ]
     },
     "metadata": {},
     "output_type": "display_data"
    },
    {
     "data": {
      "text/html": [
       "<table>\n",
       "<caption>A data.frame: 6 × 19</caption>\n",
       "<thead>\n",
       "\t<tr><th scope=col>country</th><th scope=col>year_pop_total</th><th scope=col>pop_total</th><th scope=col>year_age_65up</th><th scope=col>age_65up</th><th scope=col>year_age_1564</th><th scope=col>age_1564</th><th scope=col>year_air_pollution</th><th scope=col>air_pollution</th><th scope=col>year_med_bed</th><th scope=col>med_bed</th><th scope=col>year_physicians</th><th scope=col>physicians</th><th scope=col>year_nurses_midwives</th><th scope=col>nurses_midwives</th><th scope=col>year_pop_density</th><th scope=col>pop_density</th><th scope=col>year_smoking</th><th scope=col>smoking</th></tr>\n",
       "\t<tr><th scope=col>&lt;chr&gt;</th><th scope=col>&lt;dbl&gt;</th><th scope=col>&lt;dbl&gt;</th><th scope=col>&lt;dbl&gt;</th><th scope=col>&lt;dbl&gt;</th><th scope=col>&lt;dbl&gt;</th><th scope=col>&lt;dbl&gt;</th><th scope=col>&lt;dbl&gt;</th><th scope=col>&lt;dbl&gt;</th><th scope=col>&lt;dbl&gt;</th><th scope=col>&lt;dbl&gt;</th><th scope=col>&lt;dbl&gt;</th><th scope=col>&lt;dbl&gt;</th><th scope=col>&lt;dbl&gt;</th><th scope=col>&lt;dbl&gt;</th><th scope=col>&lt;dbl&gt;</th><th scope=col>&lt;dbl&gt;</th><th scope=col>&lt;dbl&gt;</th><th scope=col>&lt;dbl&gt;</th></tr>\n",
       "</thead>\n",
       "<tbody>\n",
       "\t<tr><td>Afghanistan   </td><td>2018</td><td>37172386</td><td>2018</td><td> 2.584927</td><td>2018</td><td>54.32490</td><td>2017</td><td>56.91081</td><td>2015</td><td>0.5</td><td>2016</td><td>0.2840</td><td>2014</td><td>0.3200</td><td>2018</td><td> 56.93776</td><td>  NA</td><td>  NA</td></tr>\n",
       "\t<tr><td>Albania       </td><td>2018</td><td> 2866376</td><td>2018</td><td>13.744736</td><td>2018</td><td>68.58239</td><td>2017</td><td>18.20060</td><td>2013</td><td>2.9</td><td>2016</td><td>1.1998</td><td>2016</td><td>3.5998</td><td>2018</td><td>104.61226</td><td>2016</td><td>28.7</td></tr>\n",
       "\t<tr><td>Algeria       </td><td>2018</td><td>42228429</td><td>2018</td><td> 6.362497</td><td>2018</td><td>63.48882</td><td>2017</td><td>38.88401</td><td>2015</td><td>1.9</td><td>2016</td><td>1.8300</td><td>2016</td><td>2.2400</td><td>2018</td><td> 17.73008</td><td>2016</td><td>15.6</td></tr>\n",
       "\t<tr><td>American Samoa</td><td>2018</td><td>   55465</td><td>  NA</td><td>       NA</td><td>  NA</td><td>      NA</td><td>2017</td><td>12.47382</td><td>  NA</td><td> NA</td><td>1999</td><td>0.7810</td><td>  NA</td><td>    NA</td><td>2018</td><td>277.32500</td><td>  NA</td><td>  NA</td></tr>\n",
       "\t<tr><td>Andorra       </td><td>2018</td><td>   77006</td><td>  NA</td><td>       NA</td><td>  NA</td><td>      NA</td><td>2017</td><td>10.30762</td><td>2009</td><td>2.5</td><td>2015</td><td>3.3333</td><td>2015</td><td>4.0128</td><td>2018</td><td>163.84255</td><td>2016</td><td>33.5</td></tr>\n",
       "\t<tr><td>Angola        </td><td>2018</td><td>30809762</td><td>2018</td><td> 2.216374</td><td>2018</td><td>50.97470</td><td>2017</td><td>32.38850</td><td>2005</td><td>0.8</td><td>2017</td><td>0.2149</td><td>2009</td><td>1.3123</td><td>2018</td><td> 24.71305</td><td>  NA</td><td>  NA</td></tr>\n",
       "</tbody>\n",
       "</table>\n"
      ],
      "text/latex": [
       "A data.frame: 6 × 19\n",
       "\\begin{tabular}{r|lllllllllllllllllll}\n",
       " country & year\\_pop\\_total & pop\\_total & year\\_age\\_65up & age\\_65up & year\\_age\\_1564 & age\\_1564 & year\\_air\\_pollution & air\\_pollution & year\\_med\\_bed & med\\_bed & year\\_physicians & physicians & year\\_nurses\\_midwives & nurses\\_midwives & year\\_pop\\_density & pop\\_density & year\\_smoking & smoking\\\\\n",
       " <chr> & <dbl> & <dbl> & <dbl> & <dbl> & <dbl> & <dbl> & <dbl> & <dbl> & <dbl> & <dbl> & <dbl> & <dbl> & <dbl> & <dbl> & <dbl> & <dbl> & <dbl> & <dbl>\\\\\n",
       "\\hline\n",
       "\t Afghanistan    & 2018 & 37172386 & 2018 &  2.584927 & 2018 & 54.32490 & 2017 & 56.91081 & 2015 & 0.5 & 2016 & 0.2840 & 2014 & 0.3200 & 2018 &  56.93776 &   NA &   NA\\\\\n",
       "\t Albania        & 2018 &  2866376 & 2018 & 13.744736 & 2018 & 68.58239 & 2017 & 18.20060 & 2013 & 2.9 & 2016 & 1.1998 & 2016 & 3.5998 & 2018 & 104.61226 & 2016 & 28.7\\\\\n",
       "\t Algeria        & 2018 & 42228429 & 2018 &  6.362497 & 2018 & 63.48882 & 2017 & 38.88401 & 2015 & 1.9 & 2016 & 1.8300 & 2016 & 2.2400 & 2018 &  17.73008 & 2016 & 15.6\\\\\n",
       "\t American Samoa & 2018 &    55465 &   NA &        NA &   NA &       NA & 2017 & 12.47382 &   NA &  NA & 1999 & 0.7810 &   NA &     NA & 2018 & 277.32500 &   NA &   NA\\\\\n",
       "\t Andorra        & 2018 &    77006 &   NA &        NA &   NA &       NA & 2017 & 10.30762 & 2009 & 2.5 & 2015 & 3.3333 & 2015 & 4.0128 & 2018 & 163.84255 & 2016 & 33.5\\\\\n",
       "\t Angola         & 2018 & 30809762 & 2018 &  2.216374 & 2018 & 50.97470 & 2017 & 32.38850 & 2005 & 0.8 & 2017 & 0.2149 & 2009 & 1.3123 & 2018 &  24.71305 &   NA &   NA\\\\\n",
       "\\end{tabular}\n"
      ],
      "text/markdown": [
       "\n",
       "A data.frame: 6 × 19\n",
       "\n",
       "| country &lt;chr&gt; | year_pop_total &lt;dbl&gt; | pop_total &lt;dbl&gt; | year_age_65up &lt;dbl&gt; | age_65up &lt;dbl&gt; | year_age_1564 &lt;dbl&gt; | age_1564 &lt;dbl&gt; | year_air_pollution &lt;dbl&gt; | air_pollution &lt;dbl&gt; | year_med_bed &lt;dbl&gt; | med_bed &lt;dbl&gt; | year_physicians &lt;dbl&gt; | physicians &lt;dbl&gt; | year_nurses_midwives &lt;dbl&gt; | nurses_midwives &lt;dbl&gt; | year_pop_density &lt;dbl&gt; | pop_density &lt;dbl&gt; | year_smoking &lt;dbl&gt; | smoking &lt;dbl&gt; |\n",
       "|---|---|---|---|---|---|---|---|---|---|---|---|---|---|---|---|---|---|---|\n",
       "| Afghanistan    | 2018 | 37172386 | 2018 |  2.584927 | 2018 | 54.32490 | 2017 | 56.91081 | 2015 | 0.5 | 2016 | 0.2840 | 2014 | 0.3200 | 2018 |  56.93776 |   NA |   NA |\n",
       "| Albania        | 2018 |  2866376 | 2018 | 13.744736 | 2018 | 68.58239 | 2017 | 18.20060 | 2013 | 2.9 | 2016 | 1.1998 | 2016 | 3.5998 | 2018 | 104.61226 | 2016 | 28.7 |\n",
       "| Algeria        | 2018 | 42228429 | 2018 |  6.362497 | 2018 | 63.48882 | 2017 | 38.88401 | 2015 | 1.9 | 2016 | 1.8300 | 2016 | 2.2400 | 2018 |  17.73008 | 2016 | 15.6 |\n",
       "| American Samoa | 2018 |    55465 |   NA |        NA |   NA |       NA | 2017 | 12.47382 |   NA |  NA | 1999 | 0.7810 |   NA |     NA | 2018 | 277.32500 |   NA |   NA |\n",
       "| Andorra        | 2018 |    77006 |   NA |        NA |   NA |       NA | 2017 | 10.30762 | 2009 | 2.5 | 2015 | 3.3333 | 2015 | 4.0128 | 2018 | 163.84255 | 2016 | 33.5 |\n",
       "| Angola         | 2018 | 30809762 | 2018 |  2.216374 | 2018 | 50.97470 | 2017 | 32.38850 | 2005 | 0.8 | 2017 | 0.2149 | 2009 | 1.3123 | 2018 |  24.71305 |   NA |   NA |\n",
       "\n"
      ],
      "text/plain": [
       "  country        year_pop_total pop_total year_age_65up age_65up  year_age_1564\n",
       "1 Afghanistan    2018           37172386  2018           2.584927 2018         \n",
       "2 Albania        2018            2866376  2018          13.744736 2018         \n",
       "3 Algeria        2018           42228429  2018           6.362497 2018         \n",
       "4 American Samoa 2018              55465    NA                 NA   NA         \n",
       "5 Andorra        2018              77006    NA                 NA   NA         \n",
       "6 Angola         2018           30809762  2018           2.216374 2018         \n",
       "  age_1564 year_air_pollution air_pollution year_med_bed med_bed\n",
       "1 54.32490 2017               56.91081      2015         0.5    \n",
       "2 68.58239 2017               18.20060      2013         2.9    \n",
       "3 63.48882 2017               38.88401      2015         1.9    \n",
       "4       NA 2017               12.47382        NA          NA    \n",
       "5       NA 2017               10.30762      2009         2.5    \n",
       "6 50.97470 2017               32.38850      2005         0.8    \n",
       "  year_physicians physicians year_nurses_midwives nurses_midwives\n",
       "1 2016            0.2840     2014                 0.3200         \n",
       "2 2016            1.1998     2016                 3.5998         \n",
       "3 2016            1.8300     2016                 2.2400         \n",
       "4 1999            0.7810       NA                     NA         \n",
       "5 2015            3.3333     2015                 4.0128         \n",
       "6 2017            0.2149     2009                 1.3123         \n",
       "  year_pop_density pop_density year_smoking smoking\n",
       "1 2018              56.93776     NA           NA   \n",
       "2 2018             104.61226   2016         28.7   \n",
       "3 2018              17.73008   2016         15.6   \n",
       "4 2018             277.32500     NA           NA   \n",
       "5 2018             163.84255   2016         33.5   \n",
       "6 2018              24.71305     NA           NA   "
      ]
     },
     "metadata": {},
     "output_type": "display_data"
    }
   ],
   "source": [
    "# combine country statistics datasets into one dataframe\n",
    "df_list <- list(population_total, age_65up, age_1564, air_pollution, medical_bed, \n",
    "                physicians, nurses_midwives, population_density, smoking)\n",
    "country_data <- Reduce(function(left, right) merge(left, right, all = TRUE), df_list)\n",
    "dim(country_data)\n",
    "head(country_data)"
   ]
  },
  {
   "cell_type": "code",
   "execution_count": 10,
   "metadata": {},
   "outputs": [
    {
     "data": {
      "text/html": [
       "<ol class=list-inline>\n",
       "\t<li>187</li>\n",
       "\t<li>6</li>\n",
       "</ol>\n"
      ],
      "text/latex": [
       "\\begin{enumerate*}\n",
       "\\item 187\n",
       "\\item 6\n",
       "\\end{enumerate*}\n"
      ],
      "text/markdown": [
       "1. 187\n",
       "2. 6\n",
       "\n",
       "\n"
      ],
      "text/plain": [
       "[1] 187   6"
      ]
     },
     "metadata": {},
     "output_type": "display_data"
    }
   ],
   "source": [
    "# make the confirmed and deaths datasets tidy\n",
    "colnames(covid19_confirmed)[2] = \"country\"\n",
    "confirmed <- covid19_confirmed %>%\n",
    "    select(-`Province/State`, -Lat, -Long) %>%\n",
    "    gather(\"date\", \"confirmed\", - country)\n",
    "\n",
    "colnames(covid19_death)[2] = \"country\"\n",
    "death <- covid19_death %>%\n",
    "    select(-`Province/State`, -Lat, -Long) %>%\n",
    "    gather(\"date\", \"death\", - country)\n",
    "\n",
    "# combine confirmed and deaths datasets\n",
    "total <- merge(confirmed, death, by = c(\"country\", \"date\"))\n",
    "\n",
    "# calculates the current confirmed and deaths numbers and\n",
    "# death rate for each country\n",
    "# also caluclate those two indexes:\n",
    "# con_500_ind = days with 1-500 confirmed/days with >1 confirmed\n",
    "# death_100_ind = days with 1-100 deaths/days with >1 deaths\n",
    "covid19 <- total %>%\n",
    "    mutate(date = lubridate::mdy(date)) %>%\n",
    "    group_by(country, date) %>%\n",
    "    summarize(confirmed = sum(confirmed),\n",
    "              death = sum(death)) %>%\n",
    "    group_by(country) %>%\n",
    "    summarize(con_500_ind = sum(confirmed <= 500 & confirmed > 0)/sum(confirmed > 0),\n",
    "              death_100_ind = sum(death <= 100 & confirmed > 0)/sum(confirmed > 0),\n",
    "              confirmed = max(confirmed),\n",
    "              death = max(death),\n",
    "              rate = death/confirmed)\n",
    "\n",
    "dim(covid19)"
   ]
  },
  {
   "cell_type": "code",
   "execution_count": null,
   "metadata": {},
   "outputs": [],
   "source": [
    "# All rate values are valid\n",
    "covid19 %>%\n",
    "    filter(rate >= 1)"
   ]
  },
  {
   "cell_type": "code",
   "execution_count": 11,
   "metadata": {},
   "outputs": [
    {
     "data": {
      "text/html": [
       "<ol class=list-inline>\n",
       "\t<li>151</li>\n",
       "\t<li>3</li>\n",
       "</ol>\n"
      ],
      "text/latex": [
       "\\begin{enumerate*}\n",
       "\\item 151\n",
       "\\item 3\n",
       "\\end{enumerate*}\n"
      ],
      "text/markdown": [
       "1. 151\n",
       "2. 3\n",
       "\n",
       "\n"
      ],
      "text/plain": [
       "[1] 151   3"
      ]
     },
     "metadata": {},
     "output_type": "display_data"
    }
   ],
   "source": [
    "# get the highest stringency index for each country\n",
    "# and calculate this index:\n",
    "# ind_80 = days with 0-80 stringency index/total days\n",
    "colnames(gov)[1] = \"country\"\n",
    "\n",
    "gov_resp <- gov %>%\n",
    "    mutate(date = lubridate::ymd(Date)) %>%\n",
    "    select(country, date, StringencyIndexForDisplay) %>%\n",
    "    group_by(country) %>%\n",
    "    summarize(ind_80 = sum(StringencyIndexForDisplay <= 80, na.rm = TRUE)/n(),\n",
    "              gov_resp = max(StringencyIndexForDisplay, na.rm = TRUE))\n",
    "\n",
    "dim(gov_resp)"
   ]
  },
  {
   "cell_type": "code",
   "execution_count": null,
   "metadata": {},
   "outputs": [],
   "source": [
    "# some country names in those two datasets don't agree\n",
    "covid19 %>%\n",
    "    filter(!country %in% country_data$country)"
   ]
  },
  {
   "cell_type": "code",
   "execution_count": null,
   "metadata": {},
   "outputs": [],
   "source": [
    "# some country names in those two datasets don't agree\n",
    "gov_resp %>%\n",
    "    filter(!country %in% covid19$country)"
   ]
  },
  {
   "cell_type": "code",
   "execution_count": 12,
   "metadata": {},
   "outputs": [],
   "source": [
    "# fix country names\n",
    "gov_resp <- gov_resp %>%\n",
    "    mutate(country = case_when(country == 'Cape Verde' ~ 'Cabo Verde',\n",
    "                               country == 'Czech Republic' ~ 'Czechia',\n",
    "                               country == 'Democratic Republic of Congo' ~ 'Congo, Dem. Rep.',\n",
    "                               country == 'Slovak Republic' ~ 'Slovakia',\n",
    "                               TRUE ~ country))\n",
    "\n",
    "covid19 <- covid19 %>%\n",
    "    mutate(country = case_when(country == 'Burma' ~ 'Myanmar',\n",
    "                               country == 'Congo (Brazzaville)' ~ 'Congo, Rep.',\n",
    "                               country == 'Congo (Kinshasa)' ~ 'Congo, Dem. Rep.',\n",
    "                               country == 'Korea, South' ~ 'South Korea',\n",
    "                               country == 'Kyrgyzstan' ~ 'Kyrgyz Republic',\n",
    "                               country == 'US' ~ 'United States',\n",
    "                               TRUE ~ country))"
   ]
  },
  {
   "cell_type": "code",
   "execution_count": null,
   "metadata": {},
   "outputs": [],
   "source": [
    "# names not in country_data\n",
    "covid19 %>%\n",
    "    filter(!country %in% country_data$country)"
   ]
  },
  {
   "cell_type": "code",
   "execution_count": null,
   "metadata": {},
   "outputs": [],
   "source": [
    "# names not in country_data\n",
    "gov_resp %>%\n",
    "    filter(!country %in% covid19$country)"
   ]
  },
  {
   "cell_type": "code",
   "execution_count": 13,
   "metadata": {},
   "outputs": [
    {
     "data": {
      "text/html": [
       "<ol class=list-inline>\n",
       "\t<li>182</li>\n",
       "\t<li>25</li>\n",
       "</ol>\n"
      ],
      "text/latex": [
       "\\begin{enumerate*}\n",
       "\\item 182\n",
       "\\item 25\n",
       "\\end{enumerate*}\n"
      ],
      "text/markdown": [
       "1. 182\n",
       "2. 25\n",
       "\n",
       "\n"
      ],
      "text/plain": [
       "[1] 182  25"
      ]
     },
     "metadata": {},
     "output_type": "display_data"
    },
    {
     "data": {
      "text/html": [
       "<ol class=list-inline>\n",
       "\t<li>141</li>\n",
       "\t<li>27</li>\n",
       "</ol>\n"
      ],
      "text/latex": [
       "\\begin{enumerate*}\n",
       "\\item 141\n",
       "\\item 27\n",
       "\\end{enumerate*}\n"
      ],
      "text/markdown": [
       "1. 141\n",
       "2. 27\n",
       "\n",
       "\n"
      ],
      "text/plain": [
       "[1] 141  27"
      ]
     },
     "metadata": {},
     "output_type": "display_data"
    },
    {
     "data": {
      "text/html": [
       "<ol class=list-inline>\n",
       "\t<li>'country'</li>\n",
       "\t<li>'year_pop_total'</li>\n",
       "\t<li>'pop_total'</li>\n",
       "\t<li>'year_age_65up'</li>\n",
       "\t<li>'age_65up'</li>\n",
       "\t<li>'year_age_1564'</li>\n",
       "\t<li>'age_1564'</li>\n",
       "\t<li>'year_air_pollution'</li>\n",
       "\t<li>'air_pollution'</li>\n",
       "\t<li>'year_med_bed'</li>\n",
       "\t<li>'med_bed'</li>\n",
       "\t<li>'year_physicians'</li>\n",
       "\t<li>'physicians'</li>\n",
       "\t<li>'year_nurses_midwives'</li>\n",
       "\t<li>'nurses_midwives'</li>\n",
       "\t<li>'year_pop_density'</li>\n",
       "\t<li>'pop_density'</li>\n",
       "\t<li>'year_smoking'</li>\n",
       "\t<li>'smoking'</li>\n",
       "\t<li>'con_500_ind'</li>\n",
       "\t<li>'death_100_ind'</li>\n",
       "\t<li>'confirmed'</li>\n",
       "\t<li>'death'</li>\n",
       "\t<li>'rate'</li>\n",
       "\t<li>'confirmed_rate'</li>\n",
       "\t<li>'ind_80'</li>\n",
       "\t<li>'gov_resp'</li>\n",
       "</ol>\n"
      ],
      "text/latex": [
       "\\begin{enumerate*}\n",
       "\\item 'country'\n",
       "\\item 'year\\_pop\\_total'\n",
       "\\item 'pop\\_total'\n",
       "\\item 'year\\_age\\_65up'\n",
       "\\item 'age\\_65up'\n",
       "\\item 'year\\_age\\_1564'\n",
       "\\item 'age\\_1564'\n",
       "\\item 'year\\_air\\_pollution'\n",
       "\\item 'air\\_pollution'\n",
       "\\item 'year\\_med\\_bed'\n",
       "\\item 'med\\_bed'\n",
       "\\item 'year\\_physicians'\n",
       "\\item 'physicians'\n",
       "\\item 'year\\_nurses\\_midwives'\n",
       "\\item 'nurses\\_midwives'\n",
       "\\item 'year\\_pop\\_density'\n",
       "\\item 'pop\\_density'\n",
       "\\item 'year\\_smoking'\n",
       "\\item 'smoking'\n",
       "\\item 'con\\_500\\_ind'\n",
       "\\item 'death\\_100\\_ind'\n",
       "\\item 'confirmed'\n",
       "\\item 'death'\n",
       "\\item 'rate'\n",
       "\\item 'confirmed\\_rate'\n",
       "\\item 'ind\\_80'\n",
       "\\item 'gov\\_resp'\n",
       "\\end{enumerate*}\n"
      ],
      "text/markdown": [
       "1. 'country'\n",
       "2. 'year_pop_total'\n",
       "3. 'pop_total'\n",
       "4. 'year_age_65up'\n",
       "5. 'age_65up'\n",
       "6. 'year_age_1564'\n",
       "7. 'age_1564'\n",
       "8. 'year_air_pollution'\n",
       "9. 'air_pollution'\n",
       "10. 'year_med_bed'\n",
       "11. 'med_bed'\n",
       "12. 'year_physicians'\n",
       "13. 'physicians'\n",
       "14. 'year_nurses_midwives'\n",
       "15. 'nurses_midwives'\n",
       "16. 'year_pop_density'\n",
       "17. 'pop_density'\n",
       "18. 'year_smoking'\n",
       "19. 'smoking'\n",
       "20. 'con_500_ind'\n",
       "21. 'death_100_ind'\n",
       "22. 'confirmed'\n",
       "23. 'death'\n",
       "24. 'rate'\n",
       "25. 'confirmed_rate'\n",
       "26. 'ind_80'\n",
       "27. 'gov_resp'\n",
       "\n",
       "\n"
      ],
      "text/plain": [
       " [1] \"country\"              \"year_pop_total\"       \"pop_total\"           \n",
       " [4] \"year_age_65up\"        \"age_65up\"             \"year_age_1564\"       \n",
       " [7] \"age_1564\"             \"year_air_pollution\"   \"air_pollution\"       \n",
       "[10] \"year_med_bed\"         \"med_bed\"              \"year_physicians\"     \n",
       "[13] \"physicians\"           \"year_nurses_midwives\" \"nurses_midwives\"     \n",
       "[16] \"year_pop_density\"     \"pop_density\"          \"year_smoking\"        \n",
       "[19] \"smoking\"              \"con_500_ind\"          \"death_100_ind\"       \n",
       "[22] \"confirmed\"            \"death\"                \"rate\"                \n",
       "[25] \"confirmed_rate\"       \"ind_80\"               \"gov_resp\"            "
      ]
     },
     "metadata": {},
     "output_type": "display_data"
    }
   ],
   "source": [
    "# combine country_data and covid19\n",
    "data <- merge(country_data, covid19, by = \"country\")\n",
    "\n",
    "# calculate confirmed_rate, which is the percentage of\n",
    "# confirmed in the total population per country\n",
    "data$confirmed_rate <- data$confirmed / data$pop_total\n",
    "dim(data)\n",
    "\n",
    "# add in government response data\n",
    "data_cp <- merge(data, gov_resp, by = \"country\")\n",
    "dim(data_cp)\n",
    "colnames(data_cp)"
   ]
  },
  {
   "cell_type": "code",
   "execution_count": 15,
   "metadata": {},
   "outputs": [
    {
     "name": "stdout",
     "output_type": "stream",
     "text": [
      "'data.frame':\t138 obs. of  14 variables:\n",
      " $ country        : chr  \"Afghanistan\" \"Albania\" \"Algeria\" \"Andorra\" ...\n",
      " $ age_65up       : num  2.58 13.74 6.36 NA 2.22 ...\n",
      " $ air_pollution  : num  56.9 18.2 38.9 10.3 32.4 ...\n",
      " $ med_bed        : num  0.5 2.9 1.9 2.5 0.8 5 3.8 7.6 4.7 2 ...\n",
      " $ physicians     : num  0.284 1.2 1.83 3.333 0.215 ...\n",
      " $ nurses_midwives: num  0.32 3.6 2.24 4.01 1.31 ...\n",
      " $ pop_density    : num  56.9 104.6 17.7 163.8 24.7 ...\n",
      " $ smoking        : num  NA 28.7 15.6 33.5 NA 21.8 14.7 29.6 20.8 26.4 ...\n",
      " $ con_500_ind    : num  0.676 0.704 0.493 0.557 1 ...\n",
      " $ death_100_ind  : num  1 1 0.567 1 1 ...\n",
      " $ rate           : num  0.0291 0.0396 0.1091 0.0577 0.0667 ...\n",
      " $ confirmed_rate : num  6.28e-05 2.73e-04 9.84e-05 9.67e-03 9.74e-07 ...\n",
      " $ ind_80         : num  1 0.59 0.672 1 0.877 ...\n",
      " $ gov_resp       : num  76.3 88.4 84.5 61.8 93.4 ...\n"
     ]
    },
    {
     "data": {
      "text/plain": [
       "   country             age_65up      air_pollution       med_bed      \n",
       " Length:138         Min.   : 1.085   Min.   : 5.861   Min.   : 0.100  \n",
       " Class :character   1st Qu.: 3.595   1st Qu.:14.299   1st Qu.: 1.300  \n",
       " Mode  :character   Median : 7.175   Median :21.475   Median : 2.450  \n",
       "                    Mean   : 9.360   Mean   :27.934   Mean   : 2.982  \n",
       "                    3rd Qu.:15.093   3rd Qu.:37.874   3rd Qu.: 4.006  \n",
       "                    Max.   :27.576   Max.   :94.054   Max.   :13.400  \n",
       "                    NA's   :4        NA's   :2        NA's   :2       \n",
       "   physicians     nurses_midwives    pop_density          smoking     \n",
       " Min.   :0.0008   Min.   : 0.1059   Min.   :   2.041   Min.   : 2.00  \n",
       " 1st Qu.:0.4773   1st Qu.: 1.1509   1st Qu.:  32.880   1st Qu.:13.95  \n",
       " Median :1.7778   Median : 2.9324   Median :  91.183   Median :21.50  \n",
       " Mean   :1.9186   Mean   : 4.4862   Mean   : 211.234   Mean   :21.18  \n",
       " 3rd Qu.:3.0255   3rd Qu.: 6.6673   3rd Qu.: 195.693   3rd Qu.:27.60  \n",
       " Max.   :8.1900   Max.   :18.1247   Max.   :7952.998   Max.   :43.40  \n",
       " NA's   :2        NA's   :2         NA's   :2          NA's   :23     \n",
       "  con_500_ind     death_100_ind         rate         confirmed_rate     \n",
       " Min.   :0.0000   Min.   :0.0000   Min.   :0.00000   Min.   :9.300e-07  \n",
       " 1st Qu.:0.3947   1st Qu.:0.6816   1st Qu.:0.01373   1st Qu.:3.786e-05  \n",
       " Median :0.5565   Median :1.0000   Median :0.03287   Median :1.754e-04  \n",
       " Mean   :0.6310   Mean   :0.8451   Mean   :0.04069   Mean   :1.567e-03  \n",
       " 3rd Qu.:1.0000   3rd Qu.:1.0000   3rd Qu.:0.05857   3rd Qu.:1.163e-03  \n",
       " Max.   :1.0000   Max.   :1.0000   Max.   :0.15710   Max.   :2.957e-02  \n",
       "                                                                        \n",
       "     ind_80          gov_resp     \n",
       " Min.   :0.3525   Min.   : 19.44  \n",
       " 1st Qu.:0.6810   1st Qu.: 79.53  \n",
       " Median :0.8074   Median : 86.91  \n",
       " Mean   :0.8153   Mean   : 84.33  \n",
       " 3rd Qu.:0.9898   3rd Qu.: 93.95  \n",
       " Max.   :1.0000   Max.   :100.00  \n",
       "                                  "
      ]
     },
     "metadata": {},
     "output_type": "display_data"
    }
   ],
   "source": [
    "# countries with small confirmed number but high death rate\n",
    "# are removed, since the sample size is relatively small\n",
    "countries <- data_cp %>%\n",
    "    filter(confirmed <= 50, rate > 0.1) %>%\n",
    "    pull(country)\n",
    "\n",
    "# remove columns that won't appear in the analysis\n",
    "df_cp <- data_cp[c(-2, -3, -4, -6, -7, -8, -10, -12, -14, -16, -18, -22, -23)] %>%\n",
    "    filter(!country %in% countries)\n",
    "\n",
    "str(df_cp)\n",
    "summary(df_cp)"
   ]
  },
  {
   "cell_type": "markdown",
   "metadata": {},
   "source": [
    "## 6. Research questions\n",
    "\n",
    "**Does the portion of the senior (age 65 and up) in the population (population aging) associate with the COVID-19 death rate?**\n",
    "\n",
    "- Null hypothesis ($H_0$):\n",
    "\n",
    "    + The portion of the senior (age 65 and up) in the population (population aging) is not associated with the COVID-19 death rate.\n",
    "\n",
    "- Alternative hypothesis ($H_A$):\n",
    "\n",
    "    + The portion of the senior (age 65 and up) in the population (population aging) is associated with the COVID-19 death rate.\n"
   ]
  },
  {
   "cell_type": "markdown",
   "metadata": {},
   "source": [
    "## 7. Data Analysis & Visualizations"
   ]
  },
  {
   "cell_type": "markdown",
   "metadata": {},
   "source": [
    "### Multinomial linear regression\n",
    "\n",
    "I decided to test the relationship between the COVID-19 death rate ($Y$, `rate`) and the portion of the senior ($X$, `age_65up`) with a linear regression model. A linear regression model may not give me the most accurate model but is highly interpretable. To answer my research questions, I would sacrifice some accuracy for interpretability.\n",
    "\n",
    "I'll first try the full model, which includes all confounding variables, to pick out potential useful confounding variables based on statistic significance (p-value < 0.05). Then I'll test reduced models to decide which variables to include in the final model. Considering that I'm doing multiple testing, I'll have to control for multiple comparisons using Benjamini & Hochberg (BH) False Discovery Rate (FDR) adjustment (setting FDR to 5%)."
   ]
  },
  {
   "cell_type": "code",
   "execution_count": 16,
   "metadata": {},
   "outputs": [],
   "source": [
    "#' Report linear regression results\n",
    "#'\n",
    "#' @param model the fitted model to analyze\n",
    "#'\n",
    "#' @return results dataframe\n",
    "analyze_lm <- function(model){\n",
    "    model %>%\n",
    "        broom::tidy() %>%\n",
    "        mutate(p.value.adjust = p.adjust(p.value, method = \"BH\"),\n",
    "               significant = p.value.adjust < 0.05)\n",
    "}"
   ]
  },
  {
   "cell_type": "markdown",
   "metadata": {},
   "source": [
    "#### 1) Check the full model, which contains all the potential confounding variables:"
   ]
  },
  {
   "cell_type": "code",
   "execution_count": 17,
   "metadata": {},
   "outputs": [
    {
     "data": {
      "text/html": [
       "<table>\n",
       "<caption>A tibble: 13 × 7</caption>\n",
       "<thead>\n",
       "\t<tr><th scope=col>term</th><th scope=col>estimate</th><th scope=col>std.error</th><th scope=col>statistic</th><th scope=col>p.value</th><th scope=col>p.value.adjust</th><th scope=col>significant</th></tr>\n",
       "\t<tr><th scope=col>&lt;chr&gt;</th><th scope=col>&lt;dbl&gt;</th><th scope=col>&lt;dbl&gt;</th><th scope=col>&lt;dbl&gt;</th><th scope=col>&lt;dbl&gt;</th><th scope=col>&lt;dbl&gt;</th><th scope=col>&lt;lgl&gt;</th></tr>\n",
       "</thead>\n",
       "<tbody>\n",
       "\t<tr><td>(Intercept)    </td><td> 9.654650e-02</td><td>4.547473e-02</td><td> 2.1230805</td><td>3.619085e-02</td><td>0.0940962184</td><td>FALSE</td></tr>\n",
       "\t<tr><td>age_65up       </td><td> 2.393292e-03</td><td>8.213353e-04</td><td> 2.9139032</td><td>4.395470e-03</td><td>0.0190470367</td><td> TRUE</td></tr>\n",
       "\t<tr><td>air_pollution  </td><td> 7.612676e-05</td><td>1.759419e-04</td><td> 0.4326812</td><td>6.661689e-01</td><td>0.7490970491</td><td>FALSE</td></tr>\n",
       "\t<tr><td>med_bed        </td><td>-3.246831e-03</td><td>1.863033e-03</td><td>-1.7427668</td><td>8.441793e-02</td><td>0.1829055188</td><td>FALSE</td></tr>\n",
       "\t<tr><td>physicians     </td><td> 1.202518e-03</td><td>3.021444e-03</td><td> 0.3979946</td><td>6.914742e-01</td><td>0.7490970491</td><td>FALSE</td></tr>\n",
       "\t<tr><td>nurses_midwives</td><td>-9.038064e-04</td><td>1.014401e-03</td><td>-0.8909752</td><td>3.750600e-01</td><td>0.6094725659</td><td>FALSE</td></tr>\n",
       "\t<tr><td>pop_density    </td><td>-3.683272e-06</td><td>3.478419e-06</td><td>-1.0588925</td><td>2.921746e-01</td><td>0.5426099529</td><td>FALSE</td></tr>\n",
       "\t<tr><td>smoking        </td><td>-5.751927e-05</td><td>3.577039e-04</td><td>-0.1608013</td><td>8.725711e-01</td><td>0.8725710798</td><td>FALSE</td></tr>\n",
       "\t<tr><td>con_500_ind    </td><td> 4.157519e-02</td><td>1.710053e-02</td><td> 2.4312222</td><td>1.680990e-02</td><td>0.0546321600</td><td>FALSE</td></tr>\n",
       "\t<tr><td>death_100_ind  </td><td>-7.811969e-02</td><td>1.762501e-02</td><td>-4.4323215</td><td>2.372697e-05</td><td>0.0003084506</td><td> TRUE</td></tr>\n",
       "\t<tr><td>confirmed_rate </td><td> 2.117595e+00</td><td>6.951007e-01</td><td> 3.0464576</td><td>2.954408e-03</td><td>0.0190470367</td><td> TRUE</td></tr>\n",
       "\t<tr><td>ind_80         </td><td>-1.933118e-02</td><td>2.530746e-02</td><td>-0.7638532</td><td>4.467355e-01</td><td>0.6452845864</td><td>FALSE</td></tr>\n",
       "\t<tr><td>gov_resp       </td><td>-2.043401e-04</td><td>3.160440e-04</td><td>-0.6465558</td><td>5.193860e-01</td><td>0.6752018643</td><td>FALSE</td></tr>\n",
       "</tbody>\n",
       "</table>\n"
      ],
      "text/latex": [
       "A tibble: 13 × 7\n",
       "\\begin{tabular}{r|lllllll}\n",
       " term & estimate & std.error & statistic & p.value & p.value.adjust & significant\\\\\n",
       " <chr> & <dbl> & <dbl> & <dbl> & <dbl> & <dbl> & <lgl>\\\\\n",
       "\\hline\n",
       "\t (Intercept)     &  9.654650e-02 & 4.547473e-02 &  2.1230805 & 3.619085e-02 & 0.0940962184 & FALSE\\\\\n",
       "\t age\\_65up        &  2.393292e-03 & 8.213353e-04 &  2.9139032 & 4.395470e-03 & 0.0190470367 &  TRUE\\\\\n",
       "\t air\\_pollution   &  7.612676e-05 & 1.759419e-04 &  0.4326812 & 6.661689e-01 & 0.7490970491 & FALSE\\\\\n",
       "\t med\\_bed         & -3.246831e-03 & 1.863033e-03 & -1.7427668 & 8.441793e-02 & 0.1829055188 & FALSE\\\\\n",
       "\t physicians      &  1.202518e-03 & 3.021444e-03 &  0.3979946 & 6.914742e-01 & 0.7490970491 & FALSE\\\\\n",
       "\t nurses\\_midwives & -9.038064e-04 & 1.014401e-03 & -0.8909752 & 3.750600e-01 & 0.6094725659 & FALSE\\\\\n",
       "\t pop\\_density     & -3.683272e-06 & 3.478419e-06 & -1.0588925 & 2.921746e-01 & 0.5426099529 & FALSE\\\\\n",
       "\t smoking         & -5.751927e-05 & 3.577039e-04 & -0.1608013 & 8.725711e-01 & 0.8725710798 & FALSE\\\\\n",
       "\t con\\_500\\_ind     &  4.157519e-02 & 1.710053e-02 &  2.4312222 & 1.680990e-02 & 0.0546321600 & FALSE\\\\\n",
       "\t death\\_100\\_ind   & -7.811969e-02 & 1.762501e-02 & -4.4323215 & 2.372697e-05 & 0.0003084506 &  TRUE\\\\\n",
       "\t confirmed\\_rate  &  2.117595e+00 & 6.951007e-01 &  3.0464576 & 2.954408e-03 & 0.0190470367 &  TRUE\\\\\n",
       "\t ind\\_80          & -1.933118e-02 & 2.530746e-02 & -0.7638532 & 4.467355e-01 & 0.6452845864 & FALSE\\\\\n",
       "\t gov\\_resp        & -2.043401e-04 & 3.160440e-04 & -0.6465558 & 5.193860e-01 & 0.6752018643 & FALSE\\\\\n",
       "\\end{tabular}\n"
      ],
      "text/markdown": [
       "\n",
       "A tibble: 13 × 7\n",
       "\n",
       "| term &lt;chr&gt; | estimate &lt;dbl&gt; | std.error &lt;dbl&gt; | statistic &lt;dbl&gt; | p.value &lt;dbl&gt; | p.value.adjust &lt;dbl&gt; | significant &lt;lgl&gt; |\n",
       "|---|---|---|---|---|---|---|\n",
       "| (Intercept)     |  9.654650e-02 | 4.547473e-02 |  2.1230805 | 3.619085e-02 | 0.0940962184 | FALSE |\n",
       "| age_65up        |  2.393292e-03 | 8.213353e-04 |  2.9139032 | 4.395470e-03 | 0.0190470367 |  TRUE |\n",
       "| air_pollution   |  7.612676e-05 | 1.759419e-04 |  0.4326812 | 6.661689e-01 | 0.7490970491 | FALSE |\n",
       "| med_bed         | -3.246831e-03 | 1.863033e-03 | -1.7427668 | 8.441793e-02 | 0.1829055188 | FALSE |\n",
       "| physicians      |  1.202518e-03 | 3.021444e-03 |  0.3979946 | 6.914742e-01 | 0.7490970491 | FALSE |\n",
       "| nurses_midwives | -9.038064e-04 | 1.014401e-03 | -0.8909752 | 3.750600e-01 | 0.6094725659 | FALSE |\n",
       "| pop_density     | -3.683272e-06 | 3.478419e-06 | -1.0588925 | 2.921746e-01 | 0.5426099529 | FALSE |\n",
       "| smoking         | -5.751927e-05 | 3.577039e-04 | -0.1608013 | 8.725711e-01 | 0.8725710798 | FALSE |\n",
       "| con_500_ind     |  4.157519e-02 | 1.710053e-02 |  2.4312222 | 1.680990e-02 | 0.0546321600 | FALSE |\n",
       "| death_100_ind   | -7.811969e-02 | 1.762501e-02 | -4.4323215 | 2.372697e-05 | 0.0003084506 |  TRUE |\n",
       "| confirmed_rate  |  2.117595e+00 | 6.951007e-01 |  3.0464576 | 2.954408e-03 | 0.0190470367 |  TRUE |\n",
       "| ind_80          | -1.933118e-02 | 2.530746e-02 | -0.7638532 | 4.467355e-01 | 0.6452845864 | FALSE |\n",
       "| gov_resp        | -2.043401e-04 | 3.160440e-04 | -0.6465558 | 5.193860e-01 | 0.6752018643 | FALSE |\n",
       "\n"
      ],
      "text/plain": [
       "   term            estimate      std.error    statistic  p.value     \n",
       "1  (Intercept)      9.654650e-02 4.547473e-02  2.1230805 3.619085e-02\n",
       "2  age_65up         2.393292e-03 8.213353e-04  2.9139032 4.395470e-03\n",
       "3  air_pollution    7.612676e-05 1.759419e-04  0.4326812 6.661689e-01\n",
       "4  med_bed         -3.246831e-03 1.863033e-03 -1.7427668 8.441793e-02\n",
       "5  physicians       1.202518e-03 3.021444e-03  0.3979946 6.914742e-01\n",
       "6  nurses_midwives -9.038064e-04 1.014401e-03 -0.8909752 3.750600e-01\n",
       "7  pop_density     -3.683272e-06 3.478419e-06 -1.0588925 2.921746e-01\n",
       "8  smoking         -5.751927e-05 3.577039e-04 -0.1608013 8.725711e-01\n",
       "9  con_500_ind      4.157519e-02 1.710053e-02  2.4312222 1.680990e-02\n",
       "10 death_100_ind   -7.811969e-02 1.762501e-02 -4.4323215 2.372697e-05\n",
       "11 confirmed_rate   2.117595e+00 6.951007e-01  3.0464576 2.954408e-03\n",
       "12 ind_80          -1.933118e-02 2.530746e-02 -0.7638532 4.467355e-01\n",
       "13 gov_resp        -2.043401e-04 3.160440e-04 -0.6465558 5.193860e-01\n",
       "   p.value.adjust significant\n",
       "1  0.0940962184   FALSE      \n",
       "2  0.0190470367    TRUE      \n",
       "3  0.7490970491   FALSE      \n",
       "4  0.1829055188   FALSE      \n",
       "5  0.7490970491   FALSE      \n",
       "6  0.6094725659   FALSE      \n",
       "7  0.5426099529   FALSE      \n",
       "8  0.8725710798   FALSE      \n",
       "9  0.0546321600   FALSE      \n",
       "10 0.0003084506    TRUE      \n",
       "11 0.0190470367    TRUE      \n",
       "12 0.6452845864   FALSE      \n",
       "13 0.6752018643   FALSE      "
      ]
     },
     "metadata": {},
     "output_type": "display_data"
    }
   ],
   "source": [
    "full_fit <- lm(rate ~ ., df_cp[-1])\n",
    "\n",
    "analyze_lm(full_fit)"
   ]
  },
  {
   "cell_type": "markdown",
   "metadata": {},
   "source": [
    "The full model indicates that the coefficients for $X$ (`age_65up`), `death_100_ind`, and `confirmed_rate` are significant (adjusted p-value < 0.05). Besides, the adjust p-values for the coefficients of `con_500_ind` and `med_bed` are the next smallest. So I'll test those four confounding variables, `death_100_ind`, `con_500_ind`, `confirmed_rate`, and `med_bed`, in reduced models. "
   ]
  },
  {
   "cell_type": "markdown",
   "metadata": {},
   "source": [
    "#### 2) Check reduced models with selected confounding variables:"
   ]
  },
  {
   "cell_type": "code",
   "execution_count": 18,
   "metadata": {},
   "outputs": [
    {
     "data": {
      "text/html": [
       "<ol class=list-inline>\n",
       "\t<li>138</li>\n",
       "\t<li>14</li>\n",
       "</ol>\n"
      ],
      "text/latex": [
       "\\begin{enumerate*}\n",
       "\\item 138\n",
       "\\item 14\n",
       "\\end{enumerate*}\n"
      ],
      "text/markdown": [
       "1. 138\n",
       "2. 14\n",
       "\n",
       "\n"
      ],
      "text/plain": [
       "[1] 138  14"
      ]
     },
     "metadata": {},
     "output_type": "display_data"
    },
    {
     "data": {
      "text/html": [
       "<ol class=list-inline>\n",
       "\t<li>133</li>\n",
       "\t<li>7</li>\n",
       "</ol>\n"
      ],
      "text/latex": [
       "\\begin{enumerate*}\n",
       "\\item 133\n",
       "\\item 7\n",
       "\\end{enumerate*}\n"
      ],
      "text/markdown": [
       "1. 133\n",
       "2. 7\n",
       "\n",
       "\n"
      ],
      "text/plain": [
       "[1] 133   7"
      ]
     },
     "metadata": {},
     "output_type": "display_data"
    }
   ],
   "source": [
    "dim(df_cp)\n",
    "\n",
    "# prepare the data frame for reduced models\n",
    "df_sub <- df_cp %>%\n",
    "    select(country, rate, age_65up, med_bed, con_500_ind, \n",
    "           death_100_ind, confirmed_rate) %>%\n",
    "    drop_na()\n",
    "\n",
    "# 5 observations are removed, which is not too bad\n",
    "dim(df_sub)"
   ]
  },
  {
   "cell_type": "code",
   "execution_count": 19,
   "metadata": {},
   "outputs": [
    {
     "data": {
      "text/html": [
       "<table>\n",
       "<caption>A tibble: 2 × 7</caption>\n",
       "<thead>\n",
       "\t<tr><th scope=col>term</th><th scope=col>estimate</th><th scope=col>std.error</th><th scope=col>statistic</th><th scope=col>p.value</th><th scope=col>p.value.adjust</th><th scope=col>significant</th></tr>\n",
       "\t<tr><th scope=col>&lt;chr&gt;</th><th scope=col>&lt;dbl&gt;</th><th scope=col>&lt;dbl&gt;</th><th scope=col>&lt;dbl&gt;</th><th scope=col>&lt;dbl&gt;</th><th scope=col>&lt;dbl&gt;</th><th scope=col>&lt;lgl&gt;</th></tr>\n",
       "</thead>\n",
       "<tbody>\n",
       "\t<tr><td>(Intercept)</td><td>0.025148220</td><td>0.0050773414</td><td>4.953029</td><td>2.210653e-06</td><td>4.421306e-06</td><td>TRUE</td></tr>\n",
       "\t<tr><td>age_65up   </td><td>0.001690546</td><td>0.0004434912</td><td>3.811905</td><td>2.113092e-04</td><td>2.113092e-04</td><td>TRUE</td></tr>\n",
       "</tbody>\n",
       "</table>\n"
      ],
      "text/latex": [
       "A tibble: 2 × 7\n",
       "\\begin{tabular}{r|lllllll}\n",
       " term & estimate & std.error & statistic & p.value & p.value.adjust & significant\\\\\n",
       " <chr> & <dbl> & <dbl> & <dbl> & <dbl> & <dbl> & <lgl>\\\\\n",
       "\\hline\n",
       "\t (Intercept) & 0.025148220 & 0.0050773414 & 4.953029 & 2.210653e-06 & 4.421306e-06 & TRUE\\\\\n",
       "\t age\\_65up    & 0.001690546 & 0.0004434912 & 3.811905 & 2.113092e-04 & 2.113092e-04 & TRUE\\\\\n",
       "\\end{tabular}\n"
      ],
      "text/markdown": [
       "\n",
       "A tibble: 2 × 7\n",
       "\n",
       "| term &lt;chr&gt; | estimate &lt;dbl&gt; | std.error &lt;dbl&gt; | statistic &lt;dbl&gt; | p.value &lt;dbl&gt; | p.value.adjust &lt;dbl&gt; | significant &lt;lgl&gt; |\n",
       "|---|---|---|---|---|---|---|\n",
       "| (Intercept) | 0.025148220 | 0.0050773414 | 4.953029 | 2.210653e-06 | 4.421306e-06 | TRUE |\n",
       "| age_65up    | 0.001690546 | 0.0004434912 | 3.811905 | 2.113092e-04 | 2.113092e-04 | TRUE |\n",
       "\n"
      ],
      "text/plain": [
       "  term        estimate    std.error    statistic p.value      p.value.adjust\n",
       "1 (Intercept) 0.025148220 0.0050773414 4.953029  2.210653e-06 4.421306e-06  \n",
       "2 age_65up    0.001690546 0.0004434912 3.811905  2.113092e-04 2.113092e-04  \n",
       "  significant\n",
       "1 TRUE       \n",
       "2 TRUE       "
      ]
     },
     "metadata": {},
     "output_type": "display_data"
    }
   ],
   "source": [
    "# base model\n",
    "base <- lm(rate ~ age_65up, df_sub[-1])\n",
    "\n",
    "analyze_lm(base)"
   ]
  },
  {
   "cell_type": "code",
   "execution_count": 20,
   "metadata": {},
   "outputs": [
    {
     "data": {
      "text/html": [
       "<table>\n",
       "<caption>A tibble: 3 × 7</caption>\n",
       "<thead>\n",
       "\t<tr><th scope=col>term</th><th scope=col>estimate</th><th scope=col>std.error</th><th scope=col>statistic</th><th scope=col>p.value</th><th scope=col>p.value.adjust</th><th scope=col>significant</th></tr>\n",
       "\t<tr><th scope=col>&lt;chr&gt;</th><th scope=col>&lt;dbl&gt;</th><th scope=col>&lt;dbl&gt;</th><th scope=col>&lt;dbl&gt;</th><th scope=col>&lt;dbl&gt;</th><th scope=col>&lt;dbl&gt;</th><th scope=col>&lt;lgl&gt;</th></tr>\n",
       "</thead>\n",
       "<tbody>\n",
       "\t<tr><td>(Intercept)</td><td> 0.028633326</td><td>0.0050373581</td><td> 5.684195</td><td>8.243881e-08</td><td>2.473164e-07</td><td>TRUE</td></tr>\n",
       "\t<tr><td>age_65up   </td><td> 0.002861002</td><td>0.0005683334</td><td> 5.034019</td><td>1.566798e-06</td><td>2.350197e-06</td><td>TRUE</td></tr>\n",
       "\t<tr><td>med_bed    </td><td>-0.004874636</td><td>0.0015515648</td><td>-3.141755</td><td>2.080019e-03</td><td>2.080019e-03</td><td>TRUE</td></tr>\n",
       "</tbody>\n",
       "</table>\n"
      ],
      "text/latex": [
       "A tibble: 3 × 7\n",
       "\\begin{tabular}{r|lllllll}\n",
       " term & estimate & std.error & statistic & p.value & p.value.adjust & significant\\\\\n",
       " <chr> & <dbl> & <dbl> & <dbl> & <dbl> & <dbl> & <lgl>\\\\\n",
       "\\hline\n",
       "\t (Intercept) &  0.028633326 & 0.0050373581 &  5.684195 & 8.243881e-08 & 2.473164e-07 & TRUE\\\\\n",
       "\t age\\_65up    &  0.002861002 & 0.0005683334 &  5.034019 & 1.566798e-06 & 2.350197e-06 & TRUE\\\\\n",
       "\t med\\_bed     & -0.004874636 & 0.0015515648 & -3.141755 & 2.080019e-03 & 2.080019e-03 & TRUE\\\\\n",
       "\\end{tabular}\n"
      ],
      "text/markdown": [
       "\n",
       "A tibble: 3 × 7\n",
       "\n",
       "| term &lt;chr&gt; | estimate &lt;dbl&gt; | std.error &lt;dbl&gt; | statistic &lt;dbl&gt; | p.value &lt;dbl&gt; | p.value.adjust &lt;dbl&gt; | significant &lt;lgl&gt; |\n",
       "|---|---|---|---|---|---|---|\n",
       "| (Intercept) |  0.028633326 | 0.0050373581 |  5.684195 | 8.243881e-08 | 2.473164e-07 | TRUE |\n",
       "| age_65up    |  0.002861002 | 0.0005683334 |  5.034019 | 1.566798e-06 | 2.350197e-06 | TRUE |\n",
       "| med_bed     | -0.004874636 | 0.0015515648 | -3.141755 | 2.080019e-03 | 2.080019e-03 | TRUE |\n",
       "\n"
      ],
      "text/plain": [
       "  term        estimate     std.error    statistic p.value      p.value.adjust\n",
       "1 (Intercept)  0.028633326 0.0050373581  5.684195 8.243881e-08 2.473164e-07  \n",
       "2 age_65up     0.002861002 0.0005683334  5.034019 1.566798e-06 2.350197e-06  \n",
       "3 med_bed     -0.004874636 0.0015515648 -3.141755 2.080019e-03 2.080019e-03  \n",
       "  significant\n",
       "1 TRUE       \n",
       "2 TRUE       \n",
       "3 TRUE       "
      ]
     },
     "metadata": {},
     "output_type": "display_data"
    },
    {
     "data": {
      "text/html": [
       "<table>\n",
       "<caption>A anova: 2 × 6</caption>\n",
       "<thead>\n",
       "\t<tr><th scope=col>Res.Df</th><th scope=col>RSS</th><th scope=col>Df</th><th scope=col>Sum of Sq</th><th scope=col>F</th><th scope=col>Pr(&gt;F)</th></tr>\n",
       "\t<tr><th scope=col>&lt;dbl&gt;</th><th scope=col>&lt;dbl&gt;</th><th scope=col>&lt;dbl&gt;</th><th scope=col>&lt;dbl&gt;</th><th scope=col>&lt;dbl&gt;</th><th scope=col>&lt;dbl&gt;</th></tr>\n",
       "</thead>\n",
       "<tbody>\n",
       "\t<tr><td>130</td><td>0.1357513</td><td>NA</td><td>        NA</td><td>      NA</td><td>         NA</td></tr>\n",
       "\t<tr><td>131</td><td>0.1460586</td><td>-1</td><td>-0.0103073</td><td>9.870623</td><td>0.002080019</td></tr>\n",
       "</tbody>\n",
       "</table>\n"
      ],
      "text/latex": [
       "A anova: 2 × 6\n",
       "\\begin{tabular}{r|llllll}\n",
       " Res.Df & RSS & Df & Sum of Sq & F & Pr(>F)\\\\\n",
       " <dbl> & <dbl> & <dbl> & <dbl> & <dbl> & <dbl>\\\\\n",
       "\\hline\n",
       "\t 130 & 0.1357513 & NA &         NA &       NA &          NA\\\\\n",
       "\t 131 & 0.1460586 & -1 & -0.0103073 & 9.870623 & 0.002080019\\\\\n",
       "\\end{tabular}\n"
      ],
      "text/markdown": [
       "\n",
       "A anova: 2 × 6\n",
       "\n",
       "| Res.Df &lt;dbl&gt; | RSS &lt;dbl&gt; | Df &lt;dbl&gt; | Sum of Sq &lt;dbl&gt; | F &lt;dbl&gt; | Pr(&gt;F) &lt;dbl&gt; |\n",
       "|---|---|---|---|---|---|\n",
       "| 130 | 0.1357513 | NA |         NA |       NA |          NA |\n",
       "| 131 | 0.1460586 | -1 | -0.0103073 | 9.870623 | 0.002080019 |\n",
       "\n"
      ],
      "text/plain": [
       "  Res.Df RSS       Df Sum of Sq  F        Pr(>F)     \n",
       "1 130    0.1357513 NA         NA       NA          NA\n",
       "2 131    0.1460586 -1 -0.0103073 9.870623 0.002080019"
      ]
     },
     "metadata": {},
     "output_type": "display_data"
    }
   ],
   "source": [
    "# add med_bed to the base model\n",
    "fit_1 <- lm(rate ~ age_65up + med_bed, df_sub[-1])\n",
    "\n",
    "analyze_lm(fit_1)\n",
    "anova(fit_1, base)"
   ]
  },
  {
   "cell_type": "markdown",
   "metadata": {},
   "source": [
    "The model with `med_bed` is significantly (p-value < 0.05) different from the base model. I could add `med_bed` in my final model."
   ]
  },
  {
   "cell_type": "code",
   "execution_count": 21,
   "metadata": {},
   "outputs": [
    {
     "data": {
      "text/html": [
       "<table>\n",
       "<caption>A tibble: 3 × 7</caption>\n",
       "<thead>\n",
       "\t<tr><th scope=col>term</th><th scope=col>estimate</th><th scope=col>std.error</th><th scope=col>statistic</th><th scope=col>p.value</th><th scope=col>p.value.adjust</th><th scope=col>significant</th></tr>\n",
       "\t<tr><th scope=col>&lt;chr&gt;</th><th scope=col>&lt;dbl&gt;</th><th scope=col>&lt;dbl&gt;</th><th scope=col>&lt;dbl&gt;</th><th scope=col>&lt;dbl&gt;</th><th scope=col>&lt;dbl&gt;</th><th scope=col>&lt;lgl&gt;</th></tr>\n",
       "</thead>\n",
       "<tbody>\n",
       "\t<tr><td>(Intercept)</td><td>0.024087780</td><td>0.0118783663</td><td>2.02786976</td><td>0.044617110</td><td>0.066925665</td><td>FALSE</td></tr>\n",
       "\t<tr><td>age_65up   </td><td>0.001721501</td><td>0.0005443122</td><td>3.16270952</td><td>0.001945976</td><td>0.005837927</td><td> TRUE</td></tr>\n",
       "\t<tr><td>con_500_ind</td><td>0.001232132</td><td>0.0124665398</td><td>0.09883511</td><td>0.921421427</td><td>0.921421427</td><td>FALSE</td></tr>\n",
       "</tbody>\n",
       "</table>\n"
      ],
      "text/latex": [
       "A tibble: 3 × 7\n",
       "\\begin{tabular}{r|lllllll}\n",
       " term & estimate & std.error & statistic & p.value & p.value.adjust & significant\\\\\n",
       " <chr> & <dbl> & <dbl> & <dbl> & <dbl> & <dbl> & <lgl>\\\\\n",
       "\\hline\n",
       "\t (Intercept) & 0.024087780 & 0.0118783663 & 2.02786976 & 0.044617110 & 0.066925665 & FALSE\\\\\n",
       "\t age\\_65up    & 0.001721501 & 0.0005443122 & 3.16270952 & 0.001945976 & 0.005837927 &  TRUE\\\\\n",
       "\t con\\_500\\_ind & 0.001232132 & 0.0124665398 & 0.09883511 & 0.921421427 & 0.921421427 & FALSE\\\\\n",
       "\\end{tabular}\n"
      ],
      "text/markdown": [
       "\n",
       "A tibble: 3 × 7\n",
       "\n",
       "| term &lt;chr&gt; | estimate &lt;dbl&gt; | std.error &lt;dbl&gt; | statistic &lt;dbl&gt; | p.value &lt;dbl&gt; | p.value.adjust &lt;dbl&gt; | significant &lt;lgl&gt; |\n",
       "|---|---|---|---|---|---|---|\n",
       "| (Intercept) | 0.024087780 | 0.0118783663 | 2.02786976 | 0.044617110 | 0.066925665 | FALSE |\n",
       "| age_65up    | 0.001721501 | 0.0005443122 | 3.16270952 | 0.001945976 | 0.005837927 |  TRUE |\n",
       "| con_500_ind | 0.001232132 | 0.0124665398 | 0.09883511 | 0.921421427 | 0.921421427 | FALSE |\n",
       "\n"
      ],
      "text/plain": [
       "  term        estimate    std.error    statistic  p.value     p.value.adjust\n",
       "1 (Intercept) 0.024087780 0.0118783663 2.02786976 0.044617110 0.066925665   \n",
       "2 age_65up    0.001721501 0.0005443122 3.16270952 0.001945976 0.005837927   \n",
       "3 con_500_ind 0.001232132 0.0124665398 0.09883511 0.921421427 0.921421427   \n",
       "  significant\n",
       "1 FALSE      \n",
       "2  TRUE      \n",
       "3 FALSE      "
      ]
     },
     "metadata": {},
     "output_type": "display_data"
    },
    {
     "data": {
      "text/html": [
       "<table>\n",
       "<caption>A anova: 2 × 6</caption>\n",
       "<thead>\n",
       "\t<tr><th scope=col>Res.Df</th><th scope=col>RSS</th><th scope=col>Df</th><th scope=col>Sum of Sq</th><th scope=col>F</th><th scope=col>Pr(&gt;F)</th></tr>\n",
       "\t<tr><th scope=col>&lt;dbl&gt;</th><th scope=col>&lt;dbl&gt;</th><th scope=col>&lt;dbl&gt;</th><th scope=col>&lt;dbl&gt;</th><th scope=col>&lt;dbl&gt;</th><th scope=col>&lt;dbl&gt;</th></tr>\n",
       "</thead>\n",
       "<tbody>\n",
       "\t<tr><td>130</td><td>0.1460476</td><td>NA</td><td>           NA</td><td>        NA</td><td>       NA</td></tr>\n",
       "\t<tr><td>131</td><td>0.1460586</td><td>-1</td><td>-1.097422e-05</td><td>0.00976838</td><td>0.9214214</td></tr>\n",
       "</tbody>\n",
       "</table>\n"
      ],
      "text/latex": [
       "A anova: 2 × 6\n",
       "\\begin{tabular}{r|llllll}\n",
       " Res.Df & RSS & Df & Sum of Sq & F & Pr(>F)\\\\\n",
       " <dbl> & <dbl> & <dbl> & <dbl> & <dbl> & <dbl>\\\\\n",
       "\\hline\n",
       "\t 130 & 0.1460476 & NA &            NA &         NA &        NA\\\\\n",
       "\t 131 & 0.1460586 & -1 & -1.097422e-05 & 0.00976838 & 0.9214214\\\\\n",
       "\\end{tabular}\n"
      ],
      "text/markdown": [
       "\n",
       "A anova: 2 × 6\n",
       "\n",
       "| Res.Df &lt;dbl&gt; | RSS &lt;dbl&gt; | Df &lt;dbl&gt; | Sum of Sq &lt;dbl&gt; | F &lt;dbl&gt; | Pr(&gt;F) &lt;dbl&gt; |\n",
       "|---|---|---|---|---|---|\n",
       "| 130 | 0.1460476 | NA |            NA |         NA |        NA |\n",
       "| 131 | 0.1460586 | -1 | -1.097422e-05 | 0.00976838 | 0.9214214 |\n",
       "\n"
      ],
      "text/plain": [
       "  Res.Df RSS       Df Sum of Sq     F          Pr(>F)   \n",
       "1 130    0.1460476 NA            NA         NA        NA\n",
       "2 131    0.1460586 -1 -1.097422e-05 0.00976838 0.9214214"
      ]
     },
     "metadata": {},
     "output_type": "display_data"
    }
   ],
   "source": [
    "# add con_500_ind to the base model\n",
    "fit_2 <- lm(rate ~ age_65up + con_500_ind, df_sub[-1])\n",
    "\n",
    "analyze_lm(fit_2)\n",
    "anova(fit_2, base)"
   ]
  },
  {
   "cell_type": "markdown",
   "metadata": {},
   "source": [
    "The model with `con_500_ind` is not significantly (p-value > 0.05) different from the base model. I would not add `con_500_ind` in my final model."
   ]
  },
  {
   "cell_type": "code",
   "execution_count": 22,
   "metadata": {},
   "outputs": [
    {
     "data": {
      "text/html": [
       "<table>\n",
       "<caption>A tibble: 3 × 7</caption>\n",
       "<thead>\n",
       "\t<tr><th scope=col>term</th><th scope=col>estimate</th><th scope=col>std.error</th><th scope=col>statistic</th><th scope=col>p.value</th><th scope=col>p.value.adjust</th><th scope=col>significant</th></tr>\n",
       "\t<tr><th scope=col>&lt;chr&gt;</th><th scope=col>&lt;dbl&gt;</th><th scope=col>&lt;dbl&gt;</th><th scope=col>&lt;dbl&gt;</th><th scope=col>&lt;dbl&gt;</th><th scope=col>&lt;dbl&gt;</th><th scope=col>&lt;lgl&gt;</th></tr>\n",
       "</thead>\n",
       "<tbody>\n",
       "\t<tr><td>(Intercept)  </td><td> 0.0850670794</td><td>0.0143303386</td><td> 5.936153</td><td>2.497307e-08</td><td>7.491921e-08</td><td> TRUE</td></tr>\n",
       "\t<tr><td>age_65up     </td><td> 0.0006806478</td><td>0.0004734009</td><td> 1.437783</td><td>1.528984e-01</td><td>1.528984e-01</td><td>FALSE</td></tr>\n",
       "\t<tr><td>death_100_ind</td><td>-0.0600774820</td><td>0.0135558008</td><td>-4.431865</td><td>1.965346e-05</td><td>2.948019e-05</td><td> TRUE</td></tr>\n",
       "</tbody>\n",
       "</table>\n"
      ],
      "text/latex": [
       "A tibble: 3 × 7\n",
       "\\begin{tabular}{r|lllllll}\n",
       " term & estimate & std.error & statistic & p.value & p.value.adjust & significant\\\\\n",
       " <chr> & <dbl> & <dbl> & <dbl> & <dbl> & <dbl> & <lgl>\\\\\n",
       "\\hline\n",
       "\t (Intercept)   &  0.0850670794 & 0.0143303386 &  5.936153 & 2.497307e-08 & 7.491921e-08 &  TRUE\\\\\n",
       "\t age\\_65up      &  0.0006806478 & 0.0004734009 &  1.437783 & 1.528984e-01 & 1.528984e-01 & FALSE\\\\\n",
       "\t death\\_100\\_ind & -0.0600774820 & 0.0135558008 & -4.431865 & 1.965346e-05 & 2.948019e-05 &  TRUE\\\\\n",
       "\\end{tabular}\n"
      ],
      "text/markdown": [
       "\n",
       "A tibble: 3 × 7\n",
       "\n",
       "| term &lt;chr&gt; | estimate &lt;dbl&gt; | std.error &lt;dbl&gt; | statistic &lt;dbl&gt; | p.value &lt;dbl&gt; | p.value.adjust &lt;dbl&gt; | significant &lt;lgl&gt; |\n",
       "|---|---|---|---|---|---|---|\n",
       "| (Intercept)   |  0.0850670794 | 0.0143303386 |  5.936153 | 2.497307e-08 | 7.491921e-08 |  TRUE |\n",
       "| age_65up      |  0.0006806478 | 0.0004734009 |  1.437783 | 1.528984e-01 | 1.528984e-01 | FALSE |\n",
       "| death_100_ind | -0.0600774820 | 0.0135558008 | -4.431865 | 1.965346e-05 | 2.948019e-05 |  TRUE |\n",
       "\n"
      ],
      "text/plain": [
       "  term          estimate      std.error    statistic p.value     \n",
       "1 (Intercept)    0.0850670794 0.0143303386  5.936153 2.497307e-08\n",
       "2 age_65up       0.0006806478 0.0004734009  1.437783 1.528984e-01\n",
       "3 death_100_ind -0.0600774820 0.0135558008 -4.431865 1.965346e-05\n",
       "  p.value.adjust significant\n",
       "1 7.491921e-08    TRUE      \n",
       "2 1.528984e-01   FALSE      \n",
       "3 2.948019e-05    TRUE      "
      ]
     },
     "metadata": {},
     "output_type": "display_data"
    },
    {
     "data": {
      "text/html": [
       "<table>\n",
       "<caption>A anova: 2 × 6</caption>\n",
       "<thead>\n",
       "\t<tr><th scope=col>Res.Df</th><th scope=col>RSS</th><th scope=col>Df</th><th scope=col>Sum of Sq</th><th scope=col>F</th><th scope=col>Pr(&gt;F)</th></tr>\n",
       "\t<tr><th scope=col>&lt;dbl&gt;</th><th scope=col>&lt;dbl&gt;</th><th scope=col>&lt;dbl&gt;</th><th scope=col>&lt;dbl&gt;</th><th scope=col>&lt;dbl&gt;</th><th scope=col>&lt;dbl&gt;</th></tr>\n",
       "</thead>\n",
       "<tbody>\n",
       "\t<tr><td>130</td><td>0.1268874</td><td>NA</td><td>         NA</td><td>      NA</td><td>          NA</td></tr>\n",
       "\t<tr><td>131</td><td>0.1460586</td><td>-1</td><td>-0.01917115</td><td>19.64143</td><td>1.965346e-05</td></tr>\n",
       "</tbody>\n",
       "</table>\n"
      ],
      "text/latex": [
       "A anova: 2 × 6\n",
       "\\begin{tabular}{r|llllll}\n",
       " Res.Df & RSS & Df & Sum of Sq & F & Pr(>F)\\\\\n",
       " <dbl> & <dbl> & <dbl> & <dbl> & <dbl> & <dbl>\\\\\n",
       "\\hline\n",
       "\t 130 & 0.1268874 & NA &          NA &       NA &           NA\\\\\n",
       "\t 131 & 0.1460586 & -1 & -0.01917115 & 19.64143 & 1.965346e-05\\\\\n",
       "\\end{tabular}\n"
      ],
      "text/markdown": [
       "\n",
       "A anova: 2 × 6\n",
       "\n",
       "| Res.Df &lt;dbl&gt; | RSS &lt;dbl&gt; | Df &lt;dbl&gt; | Sum of Sq &lt;dbl&gt; | F &lt;dbl&gt; | Pr(&gt;F) &lt;dbl&gt; |\n",
       "|---|---|---|---|---|---|\n",
       "| 130 | 0.1268874 | NA |          NA |       NA |           NA |\n",
       "| 131 | 0.1460586 | -1 | -0.01917115 | 19.64143 | 1.965346e-05 |\n",
       "\n"
      ],
      "text/plain": [
       "  Res.Df RSS       Df Sum of Sq   F        Pr(>F)      \n",
       "1 130    0.1268874 NA          NA       NA           NA\n",
       "2 131    0.1460586 -1 -0.01917115 19.64143 1.965346e-05"
      ]
     },
     "metadata": {},
     "output_type": "display_data"
    }
   ],
   "source": [
    "# add death_100_ind to the base model\n",
    "fit_3 <- lm(rate ~ age_65up + death_100_ind, df_sub[-1])\n",
    "\n",
    "analyze_lm(fit_3)\n",
    "anova(fit_3, base)"
   ]
  },
  {
   "cell_type": "markdown",
   "metadata": {},
   "source": [
    "The model with `death_100_ind` is significantly (p-value < 0.05) different from the base model, though the coefficient of $X$ (`age_65up`) becomes not significant. I would add `death_100_ind` in my final model."
   ]
  },
  {
   "cell_type": "code",
   "execution_count": 23,
   "metadata": {},
   "outputs": [
    {
     "data": {
      "text/html": [
       "<table>\n",
       "<caption>A tibble: 3 × 7</caption>\n",
       "<thead>\n",
       "\t<tr><th scope=col>term</th><th scope=col>estimate</th><th scope=col>std.error</th><th scope=col>statistic</th><th scope=col>p.value</th><th scope=col>p.value.adjust</th><th scope=col>significant</th></tr>\n",
       "\t<tr><th scope=col>&lt;chr&gt;</th><th scope=col>&lt;dbl&gt;</th><th scope=col>&lt;dbl&gt;</th><th scope=col>&lt;dbl&gt;</th><th scope=col>&lt;dbl&gt;</th><th scope=col>&lt;dbl&gt;</th><th scope=col>&lt;lgl&gt;</th></tr>\n",
       "</thead>\n",
       "<tbody>\n",
       "\t<tr><td>(Intercept)   </td><td>0.027259784</td><td>0.0048034460</td><td>5.675048</td><td>8.604635e-08</td><td>2.581390e-07</td><td>TRUE</td></tr>\n",
       "\t<tr><td>age_65up      </td><td>0.001019093</td><td>0.0004463729</td><td>2.283054</td><td>2.405035e-02</td><td>2.405035e-02</td><td>TRUE</td></tr>\n",
       "\t<tr><td>confirmed_rate</td><td>2.961363753</td><td>0.6988254211</td><td>4.237630</td><td>4.248710e-05</td><td>6.373066e-05</td><td>TRUE</td></tr>\n",
       "</tbody>\n",
       "</table>\n"
      ],
      "text/latex": [
       "A tibble: 3 × 7\n",
       "\\begin{tabular}{r|lllllll}\n",
       " term & estimate & std.error & statistic & p.value & p.value.adjust & significant\\\\\n",
       " <chr> & <dbl> & <dbl> & <dbl> & <dbl> & <dbl> & <lgl>\\\\\n",
       "\\hline\n",
       "\t (Intercept)    & 0.027259784 & 0.0048034460 & 5.675048 & 8.604635e-08 & 2.581390e-07 & TRUE\\\\\n",
       "\t age\\_65up       & 0.001019093 & 0.0004463729 & 2.283054 & 2.405035e-02 & 2.405035e-02 & TRUE\\\\\n",
       "\t confirmed\\_rate & 2.961363753 & 0.6988254211 & 4.237630 & 4.248710e-05 & 6.373066e-05 & TRUE\\\\\n",
       "\\end{tabular}\n"
      ],
      "text/markdown": [
       "\n",
       "A tibble: 3 × 7\n",
       "\n",
       "| term &lt;chr&gt; | estimate &lt;dbl&gt; | std.error &lt;dbl&gt; | statistic &lt;dbl&gt; | p.value &lt;dbl&gt; | p.value.adjust &lt;dbl&gt; | significant &lt;lgl&gt; |\n",
       "|---|---|---|---|---|---|---|\n",
       "| (Intercept)    | 0.027259784 | 0.0048034460 | 5.675048 | 8.604635e-08 | 2.581390e-07 | TRUE |\n",
       "| age_65up       | 0.001019093 | 0.0004463729 | 2.283054 | 2.405035e-02 | 2.405035e-02 | TRUE |\n",
       "| confirmed_rate | 2.961363753 | 0.6988254211 | 4.237630 | 4.248710e-05 | 6.373066e-05 | TRUE |\n",
       "\n"
      ],
      "text/plain": [
       "  term           estimate    std.error    statistic p.value      p.value.adjust\n",
       "1 (Intercept)    0.027259784 0.0048034460 5.675048  8.604635e-08 2.581390e-07  \n",
       "2 age_65up       0.001019093 0.0004463729 2.283054  2.405035e-02 2.405035e-02  \n",
       "3 confirmed_rate 2.961363753 0.6988254211 4.237630  4.248710e-05 6.373066e-05  \n",
       "  significant\n",
       "1 TRUE       \n",
       "2 TRUE       \n",
       "3 TRUE       "
      ]
     },
     "metadata": {},
     "output_type": "display_data"
    },
    {
     "data": {
      "text/html": [
       "<table>\n",
       "<caption>A anova: 2 × 6</caption>\n",
       "<thead>\n",
       "\t<tr><th scope=col>Res.Df</th><th scope=col>RSS</th><th scope=col>Df</th><th scope=col>Sum of Sq</th><th scope=col>F</th><th scope=col>Pr(&gt;F)</th></tr>\n",
       "\t<tr><th scope=col>&lt;dbl&gt;</th><th scope=col>&lt;dbl&gt;</th><th scope=col>&lt;dbl&gt;</th><th scope=col>&lt;dbl&gt;</th><th scope=col>&lt;dbl&gt;</th><th scope=col>&lt;dbl&gt;</th></tr>\n",
       "</thead>\n",
       "<tbody>\n",
       "\t<tr><td>130</td><td>0.1283315</td><td>NA</td><td>         NA</td><td>      NA</td><td>         NA</td></tr>\n",
       "\t<tr><td>131</td><td>0.1460586</td><td>-1</td><td>-0.01772704</td><td>17.95751</td><td>4.24871e-05</td></tr>\n",
       "</tbody>\n",
       "</table>\n"
      ],
      "text/latex": [
       "A anova: 2 × 6\n",
       "\\begin{tabular}{r|llllll}\n",
       " Res.Df & RSS & Df & Sum of Sq & F & Pr(>F)\\\\\n",
       " <dbl> & <dbl> & <dbl> & <dbl> & <dbl> & <dbl>\\\\\n",
       "\\hline\n",
       "\t 130 & 0.1283315 & NA &          NA &       NA &          NA\\\\\n",
       "\t 131 & 0.1460586 & -1 & -0.01772704 & 17.95751 & 4.24871e-05\\\\\n",
       "\\end{tabular}\n"
      ],
      "text/markdown": [
       "\n",
       "A anova: 2 × 6\n",
       "\n",
       "| Res.Df &lt;dbl&gt; | RSS &lt;dbl&gt; | Df &lt;dbl&gt; | Sum of Sq &lt;dbl&gt; | F &lt;dbl&gt; | Pr(&gt;F) &lt;dbl&gt; |\n",
       "|---|---|---|---|---|---|\n",
       "| 130 | 0.1283315 | NA |          NA |       NA |          NA |\n",
       "| 131 | 0.1460586 | -1 | -0.01772704 | 17.95751 | 4.24871e-05 |\n",
       "\n"
      ],
      "text/plain": [
       "  Res.Df RSS       Df Sum of Sq   F        Pr(>F)     \n",
       "1 130    0.1283315 NA          NA       NA          NA\n",
       "2 131    0.1460586 -1 -0.01772704 17.95751 4.24871e-05"
      ]
     },
     "metadata": {},
     "output_type": "display_data"
    }
   ],
   "source": [
    "# add confirmed_rate to the base model\n",
    "fit_4 <- lm(rate ~ age_65up + confirmed_rate, df_sub[-1])\n",
    "\n",
    "analyze_lm(fit_4)\n",
    "anova(fit_4, base)"
   ]
  },
  {
   "cell_type": "markdown",
   "metadata": {},
   "source": [
    "The model with `confirmed_rate` is significantly (p-value < 0.05) different from the base model. I would add `confirmed_rate` in my final model."
   ]
  },
  {
   "cell_type": "code",
   "execution_count": 28,
   "metadata": {},
   "outputs": [
    {
     "data": {
      "text/html": [
       "<table>\n",
       "<caption>A tibble: 4 × 7</caption>\n",
       "<thead>\n",
       "\t<tr><th scope=col>term</th><th scope=col>estimate</th><th scope=col>std.error</th><th scope=col>statistic</th><th scope=col>p.value</th><th scope=col>p.value.adjust</th><th scope=col>significant</th></tr>\n",
       "\t<tr><th scope=col>&lt;chr&gt;</th><th scope=col>&lt;dbl&gt;</th><th scope=col>&lt;dbl&gt;</th><th scope=col>&lt;dbl&gt;</th><th scope=col>&lt;dbl&gt;</th><th scope=col>&lt;dbl&gt;</th><th scope=col>&lt;lgl&gt;</th></tr>\n",
       "</thead>\n",
       "<tbody>\n",
       "\t<tr><td>(Intercept)  </td><td> 0.084754051</td><td>0.0139218255</td><td> 6.087855</td><td>1.219594e-08</td><td>4.878375e-08</td><td>TRUE</td></tr>\n",
       "\t<tr><td>age_65up     </td><td> 0.001777011</td><td>0.0005906665</td><td> 3.008485</td><td>3.157889e-03</td><td>3.685389e-03</td><td>TRUE</td></tr>\n",
       "\t<tr><td>med_bed      </td><td>-0.004326941</td><td>0.0014628428</td><td>-2.957899</td><td>3.685389e-03</td><td>3.685389e-03</td><td>TRUE</td></tr>\n",
       "\t<tr><td>death_100_ind</td><td>-0.056661902</td><td>0.0132195166</td><td>-4.286231</td><td>3.527349e-05</td><td>7.054698e-05</td><td>TRUE</td></tr>\n",
       "</tbody>\n",
       "</table>\n"
      ],
      "text/latex": [
       "A tibble: 4 × 7\n",
       "\\begin{tabular}{r|lllllll}\n",
       " term & estimate & std.error & statistic & p.value & p.value.adjust & significant\\\\\n",
       " <chr> & <dbl> & <dbl> & <dbl> & <dbl> & <dbl> & <lgl>\\\\\n",
       "\\hline\n",
       "\t (Intercept)   &  0.084754051 & 0.0139218255 &  6.087855 & 1.219594e-08 & 4.878375e-08 & TRUE\\\\\n",
       "\t age\\_65up      &  0.001777011 & 0.0005906665 &  3.008485 & 3.157889e-03 & 3.685389e-03 & TRUE\\\\\n",
       "\t med\\_bed       & -0.004326941 & 0.0014628428 & -2.957899 & 3.685389e-03 & 3.685389e-03 & TRUE\\\\\n",
       "\t death\\_100\\_ind & -0.056661902 & 0.0132195166 & -4.286231 & 3.527349e-05 & 7.054698e-05 & TRUE\\\\\n",
       "\\end{tabular}\n"
      ],
      "text/markdown": [
       "\n",
       "A tibble: 4 × 7\n",
       "\n",
       "| term &lt;chr&gt; | estimate &lt;dbl&gt; | std.error &lt;dbl&gt; | statistic &lt;dbl&gt; | p.value &lt;dbl&gt; | p.value.adjust &lt;dbl&gt; | significant &lt;lgl&gt; |\n",
       "|---|---|---|---|---|---|---|\n",
       "| (Intercept)   |  0.084754051 | 0.0139218255 |  6.087855 | 1.219594e-08 | 4.878375e-08 | TRUE |\n",
       "| age_65up      |  0.001777011 | 0.0005906665 |  3.008485 | 3.157889e-03 | 3.685389e-03 | TRUE |\n",
       "| med_bed       | -0.004326941 | 0.0014628428 | -2.957899 | 3.685389e-03 | 3.685389e-03 | TRUE |\n",
       "| death_100_ind | -0.056661902 | 0.0132195166 | -4.286231 | 3.527349e-05 | 7.054698e-05 | TRUE |\n",
       "\n"
      ],
      "text/plain": [
       "  term          estimate     std.error    statistic p.value      p.value.adjust\n",
       "1 (Intercept)    0.084754051 0.0139218255  6.087855 1.219594e-08 4.878375e-08  \n",
       "2 age_65up       0.001777011 0.0005906665  3.008485 3.157889e-03 3.685389e-03  \n",
       "3 med_bed       -0.004326941 0.0014628428 -2.957899 3.685389e-03 3.685389e-03  \n",
       "4 death_100_ind -0.056661902 0.0132195166 -4.286231 3.527349e-05 7.054698e-05  \n",
       "  significant\n",
       "1 TRUE       \n",
       "2 TRUE       \n",
       "3 TRUE       \n",
       "4 TRUE       "
      ]
     },
     "metadata": {},
     "output_type": "display_data"
    },
    {
     "data": {
      "text/html": [
       "<table>\n",
       "<caption>A anova: 2 × 6</caption>\n",
       "<thead>\n",
       "\t<tr><th scope=col>Res.Df</th><th scope=col>RSS</th><th scope=col>Df</th><th scope=col>Sum of Sq</th><th scope=col>F</th><th scope=col>Pr(&gt;F)</th></tr>\n",
       "\t<tr><th scope=col>&lt;dbl&gt;</th><th scope=col>&lt;dbl&gt;</th><th scope=col>&lt;dbl&gt;</th><th scope=col>&lt;dbl&gt;</th><th scope=col>&lt;dbl&gt;</th><th scope=col>&lt;dbl&gt;</th></tr>\n",
       "</thead>\n",
       "<tbody>\n",
       "\t<tr><td>129</td><td>0.1188281</td><td>NA</td><td>         NA</td><td>      NA</td><td>          NA</td></tr>\n",
       "\t<tr><td>130</td><td>0.1357513</td><td>-1</td><td>-0.01692313</td><td>18.37178</td><td>3.527349e-05</td></tr>\n",
       "</tbody>\n",
       "</table>\n"
      ],
      "text/latex": [
       "A anova: 2 × 6\n",
       "\\begin{tabular}{r|llllll}\n",
       " Res.Df & RSS & Df & Sum of Sq & F & Pr(>F)\\\\\n",
       " <dbl> & <dbl> & <dbl> & <dbl> & <dbl> & <dbl>\\\\\n",
       "\\hline\n",
       "\t 129 & 0.1188281 & NA &          NA &       NA &           NA\\\\\n",
       "\t 130 & 0.1357513 & -1 & -0.01692313 & 18.37178 & 3.527349e-05\\\\\n",
       "\\end{tabular}\n"
      ],
      "text/markdown": [
       "\n",
       "A anova: 2 × 6\n",
       "\n",
       "| Res.Df &lt;dbl&gt; | RSS &lt;dbl&gt; | Df &lt;dbl&gt; | Sum of Sq &lt;dbl&gt; | F &lt;dbl&gt; | Pr(&gt;F) &lt;dbl&gt; |\n",
       "|---|---|---|---|---|---|\n",
       "| 129 | 0.1188281 | NA |          NA |       NA |           NA |\n",
       "| 130 | 0.1357513 | -1 | -0.01692313 | 18.37178 | 3.527349e-05 |\n",
       "\n"
      ],
      "text/plain": [
       "  Res.Df RSS       Df Sum of Sq   F        Pr(>F)      \n",
       "1 129    0.1188281 NA          NA       NA           NA\n",
       "2 130    0.1357513 -1 -0.01692313 18.37178 3.527349e-05"
      ]
     },
     "metadata": {},
     "output_type": "display_data"
    },
    {
     "data": {
      "text/html": [
       "<table>\n",
       "<caption>A anova: 2 × 6</caption>\n",
       "<thead>\n",
       "\t<tr><th scope=col>Res.Df</th><th scope=col>RSS</th><th scope=col>Df</th><th scope=col>Sum of Sq</th><th scope=col>F</th><th scope=col>Pr(&gt;F)</th></tr>\n",
       "\t<tr><th scope=col>&lt;dbl&gt;</th><th scope=col>&lt;dbl&gt;</th><th scope=col>&lt;dbl&gt;</th><th scope=col>&lt;dbl&gt;</th><th scope=col>&lt;dbl&gt;</th><th scope=col>&lt;dbl&gt;</th></tr>\n",
       "</thead>\n",
       "<tbody>\n",
       "\t<tr><td>129</td><td>0.1188281</td><td>NA</td><td>          NA</td><td>      NA</td><td>         NA</td></tr>\n",
       "\t<tr><td>130</td><td>0.1268874</td><td>-1</td><td>-0.008059279</td><td>8.749167</td><td>0.003685389</td></tr>\n",
       "</tbody>\n",
       "</table>\n"
      ],
      "text/latex": [
       "A anova: 2 × 6\n",
       "\\begin{tabular}{r|llllll}\n",
       " Res.Df & RSS & Df & Sum of Sq & F & Pr(>F)\\\\\n",
       " <dbl> & <dbl> & <dbl> & <dbl> & <dbl> & <dbl>\\\\\n",
       "\\hline\n",
       "\t 129 & 0.1188281 & NA &           NA &       NA &          NA\\\\\n",
       "\t 130 & 0.1268874 & -1 & -0.008059279 & 8.749167 & 0.003685389\\\\\n",
       "\\end{tabular}\n"
      ],
      "text/markdown": [
       "\n",
       "A anova: 2 × 6\n",
       "\n",
       "| Res.Df &lt;dbl&gt; | RSS &lt;dbl&gt; | Df &lt;dbl&gt; | Sum of Sq &lt;dbl&gt; | F &lt;dbl&gt; | Pr(&gt;F) &lt;dbl&gt; |\n",
       "|---|---|---|---|---|---|\n",
       "| 129 | 0.1188281 | NA |           NA |       NA |          NA |\n",
       "| 130 | 0.1268874 | -1 | -0.008059279 | 8.749167 | 0.003685389 |\n",
       "\n"
      ],
      "text/plain": [
       "  Res.Df RSS       Df Sum of Sq    F        Pr(>F)     \n",
       "1 129    0.1188281 NA           NA       NA          NA\n",
       "2 130    0.1268874 -1 -0.008059279 8.749167 0.003685389"
      ]
     },
     "metadata": {},
     "output_type": "display_data"
    }
   ],
   "source": [
    "# add med_bed and death_100_ind to the base model\n",
    "fit_5 <- lm(rate ~ age_65up + med_bed + death_100_ind, df_sub[-1])\n",
    "\n",
    "analyze_lm(fit_5)\n",
    "anova(fit_5, fit_1)\n",
    "anova(fit_5, fit_3)"
   ]
  },
  {
   "cell_type": "markdown",
   "metadata": {},
   "source": [
    "The model with both `med_bed` and `death_100_ind` is significantly (p-value < 0.05) different from the model with only one of the two variables. I would include both `med_bed` and `death_100_ind` in my final model.\n",
    "\n",
    "Finally, I'll test the model with the three confounding variables, `med_bed`, `death_100_ind`, and `confirmed_rate`."
   ]
  },
  {
   "cell_type": "code",
   "execution_count": 32,
   "metadata": {},
   "outputs": [
    {
     "data": {
      "text/html": [
       "<table>\n",
       "<caption>A tibble: 5 × 7</caption>\n",
       "<thead>\n",
       "\t<tr><th scope=col>term</th><th scope=col>estimate</th><th scope=col>std.error</th><th scope=col>statistic</th><th scope=col>p.value</th><th scope=col>p.value.adjust</th><th scope=col>significant</th></tr>\n",
       "\t<tr><th scope=col>&lt;chr&gt;</th><th scope=col>&lt;dbl&gt;</th><th scope=col>&lt;dbl&gt;</th><th scope=col>&lt;dbl&gt;</th><th scope=col>&lt;dbl&gt;</th><th scope=col>&lt;dbl&gt;</th><th scope=col>&lt;lgl&gt;</th></tr>\n",
       "</thead>\n",
       "<tbody>\n",
       "\t<tr><td>(Intercept)   </td><td> 0.075275323</td><td>0.0138864657</td><td> 5.420769</td><td>2.845939e-07</td><td>1.422970e-06</td><td>TRUE</td></tr>\n",
       "\t<tr><td>age_65up      </td><td> 0.001354907</td><td>0.0005907395</td><td> 2.293579</td><td>2.344474e-02</td><td>2.344474e-02</td><td>TRUE</td></tr>\n",
       "\t<tr><td>med_bed       </td><td>-0.003762601</td><td>0.0014328336</td><td>-2.625986</td><td>9.693378e-03</td><td>1.211672e-02</td><td>TRUE</td></tr>\n",
       "\t<tr><td>death_100_ind </td><td>-0.046099086</td><td>0.0133161445</td><td>-3.461894</td><td>7.296932e-04</td><td>1.824233e-03</td><td>TRUE</td></tr>\n",
       "\t<tr><td>confirmed_rate</td><td> 2.047119324</td><td>0.6878551046</td><td> 2.976091</td><td>3.491637e-03</td><td>5.819395e-03</td><td>TRUE</td></tr>\n",
       "</tbody>\n",
       "</table>\n"
      ],
      "text/latex": [
       "A tibble: 5 × 7\n",
       "\\begin{tabular}{r|lllllll}\n",
       " term & estimate & std.error & statistic & p.value & p.value.adjust & significant\\\\\n",
       " <chr> & <dbl> & <dbl> & <dbl> & <dbl> & <dbl> & <lgl>\\\\\n",
       "\\hline\n",
       "\t (Intercept)    &  0.075275323 & 0.0138864657 &  5.420769 & 2.845939e-07 & 1.422970e-06 & TRUE\\\\\n",
       "\t age\\_65up       &  0.001354907 & 0.0005907395 &  2.293579 & 2.344474e-02 & 2.344474e-02 & TRUE\\\\\n",
       "\t med\\_bed        & -0.003762601 & 0.0014328336 & -2.625986 & 9.693378e-03 & 1.211672e-02 & TRUE\\\\\n",
       "\t death\\_100\\_ind  & -0.046099086 & 0.0133161445 & -3.461894 & 7.296932e-04 & 1.824233e-03 & TRUE\\\\\n",
       "\t confirmed\\_rate &  2.047119324 & 0.6878551046 &  2.976091 & 3.491637e-03 & 5.819395e-03 & TRUE\\\\\n",
       "\\end{tabular}\n"
      ],
      "text/markdown": [
       "\n",
       "A tibble: 5 × 7\n",
       "\n",
       "| term &lt;chr&gt; | estimate &lt;dbl&gt; | std.error &lt;dbl&gt; | statistic &lt;dbl&gt; | p.value &lt;dbl&gt; | p.value.adjust &lt;dbl&gt; | significant &lt;lgl&gt; |\n",
       "|---|---|---|---|---|---|---|\n",
       "| (Intercept)    |  0.075275323 | 0.0138864657 |  5.420769 | 2.845939e-07 | 1.422970e-06 | TRUE |\n",
       "| age_65up       |  0.001354907 | 0.0005907395 |  2.293579 | 2.344474e-02 | 2.344474e-02 | TRUE |\n",
       "| med_bed        | -0.003762601 | 0.0014328336 | -2.625986 | 9.693378e-03 | 1.211672e-02 | TRUE |\n",
       "| death_100_ind  | -0.046099086 | 0.0133161445 | -3.461894 | 7.296932e-04 | 1.824233e-03 | TRUE |\n",
       "| confirmed_rate |  2.047119324 | 0.6878551046 |  2.976091 | 3.491637e-03 | 5.819395e-03 | TRUE |\n",
       "\n"
      ],
      "text/plain": [
       "  term           estimate     std.error    statistic p.value     \n",
       "1 (Intercept)     0.075275323 0.0138864657  5.420769 2.845939e-07\n",
       "2 age_65up        0.001354907 0.0005907395  2.293579 2.344474e-02\n",
       "3 med_bed        -0.003762601 0.0014328336 -2.625986 9.693378e-03\n",
       "4 death_100_ind  -0.046099086 0.0133161445 -3.461894 7.296932e-04\n",
       "5 confirmed_rate  2.047119324 0.6878551046  2.976091 3.491637e-03\n",
       "  p.value.adjust significant\n",
       "1 1.422970e-06   TRUE       \n",
       "2 2.344474e-02   TRUE       \n",
       "3 1.211672e-02   TRUE       \n",
       "4 1.824233e-03   TRUE       \n",
       "5 5.819395e-03   TRUE       "
      ]
     },
     "metadata": {},
     "output_type": "display_data"
    },
    {
     "data": {
      "text/html": [
       "<table>\n",
       "<caption>A anova: 2 × 6</caption>\n",
       "<thead>\n",
       "\t<tr><th scope=col>Res.Df</th><th scope=col>RSS</th><th scope=col>Df</th><th scope=col>Sum of Sq</th><th scope=col>F</th><th scope=col>Pr(&gt;F)</th></tr>\n",
       "\t<tr><th scope=col>&lt;dbl&gt;</th><th scope=col>&lt;dbl&gt;</th><th scope=col>&lt;dbl&gt;</th><th scope=col>&lt;dbl&gt;</th><th scope=col>&lt;dbl&gt;</th><th scope=col>&lt;dbl&gt;</th></tr>\n",
       "</thead>\n",
       "<tbody>\n",
       "\t<tr><td>128</td><td>0.1111378</td><td>NA</td><td>          NA</td><td>      NA</td><td>         NA</td></tr>\n",
       "\t<tr><td>129</td><td>0.1188281</td><td>-1</td><td>-0.007690317</td><td>8.857117</td><td>0.003491637</td></tr>\n",
       "</tbody>\n",
       "</table>\n"
      ],
      "text/latex": [
       "A anova: 2 × 6\n",
       "\\begin{tabular}{r|llllll}\n",
       " Res.Df & RSS & Df & Sum of Sq & F & Pr(>F)\\\\\n",
       " <dbl> & <dbl> & <dbl> & <dbl> & <dbl> & <dbl>\\\\\n",
       "\\hline\n",
       "\t 128 & 0.1111378 & NA &           NA &       NA &          NA\\\\\n",
       "\t 129 & 0.1188281 & -1 & -0.007690317 & 8.857117 & 0.003491637\\\\\n",
       "\\end{tabular}\n"
      ],
      "text/markdown": [
       "\n",
       "A anova: 2 × 6\n",
       "\n",
       "| Res.Df &lt;dbl&gt; | RSS &lt;dbl&gt; | Df &lt;dbl&gt; | Sum of Sq &lt;dbl&gt; | F &lt;dbl&gt; | Pr(&gt;F) &lt;dbl&gt; |\n",
       "|---|---|---|---|---|---|\n",
       "| 128 | 0.1111378 | NA |           NA |       NA |          NA |\n",
       "| 129 | 0.1188281 | -1 | -0.007690317 | 8.857117 | 0.003491637 |\n",
       "\n"
      ],
      "text/plain": [
       "  Res.Df RSS       Df Sum of Sq    F        Pr(>F)     \n",
       "1 128    0.1111378 NA           NA       NA          NA\n",
       "2 129    0.1188281 -1 -0.007690317 8.857117 0.003491637"
      ]
     },
     "metadata": {},
     "output_type": "display_data"
    },
    {
     "data": {
      "text/html": [
       "<table>\n",
       "<caption>A anova: 2 × 6</caption>\n",
       "<thead>\n",
       "\t<tr><th scope=col>Res.Df</th><th scope=col>RSS</th><th scope=col>Df</th><th scope=col>Sum of Sq</th><th scope=col>F</th><th scope=col>Pr(&gt;F)</th></tr>\n",
       "\t<tr><th scope=col>&lt;dbl&gt;</th><th scope=col>&lt;dbl&gt;</th><th scope=col>&lt;dbl&gt;</th><th scope=col>&lt;dbl&gt;</th><th scope=col>&lt;dbl&gt;</th><th scope=col>&lt;dbl&gt;</th></tr>\n",
       "</thead>\n",
       "<tbody>\n",
       "\t<tr><td>128</td><td>0.1111378</td><td>NA</td><td>        NA</td><td>      NA</td><td>          NA</td></tr>\n",
       "\t<tr><td>129</td><td>0.1215437</td><td>-1</td><td>-0.0104059</td><td>11.98471</td><td>0.0007296932</td></tr>\n",
       "</tbody>\n",
       "</table>\n"
      ],
      "text/latex": [
       "A anova: 2 × 6\n",
       "\\begin{tabular}{r|llllll}\n",
       " Res.Df & RSS & Df & Sum of Sq & F & Pr(>F)\\\\\n",
       " <dbl> & <dbl> & <dbl> & <dbl> & <dbl> & <dbl>\\\\\n",
       "\\hline\n",
       "\t 128 & 0.1111378 & NA &         NA &       NA &           NA\\\\\n",
       "\t 129 & 0.1215437 & -1 & -0.0104059 & 11.98471 & 0.0007296932\\\\\n",
       "\\end{tabular}\n"
      ],
      "text/markdown": [
       "\n",
       "A anova: 2 × 6\n",
       "\n",
       "| Res.Df &lt;dbl&gt; | RSS &lt;dbl&gt; | Df &lt;dbl&gt; | Sum of Sq &lt;dbl&gt; | F &lt;dbl&gt; | Pr(&gt;F) &lt;dbl&gt; |\n",
       "|---|---|---|---|---|---|\n",
       "| 128 | 0.1111378 | NA |         NA |       NA |           NA |\n",
       "| 129 | 0.1215437 | -1 | -0.0104059 | 11.98471 | 0.0007296932 |\n",
       "\n"
      ],
      "text/plain": [
       "  Res.Df RSS       Df Sum of Sq  F        Pr(>F)      \n",
       "1 128    0.1111378 NA         NA       NA           NA\n",
       "2 129    0.1215437 -1 -0.0104059 11.98471 0.0007296932"
      ]
     },
     "metadata": {},
     "output_type": "display_data"
    },
    {
     "data": {
      "text/html": [
       "<table>\n",
       "<caption>A anova: 2 × 6</caption>\n",
       "<thead>\n",
       "\t<tr><th scope=col>Res.Df</th><th scope=col>RSS</th><th scope=col>Df</th><th scope=col>Sum of Sq</th><th scope=col>F</th><th scope=col>Pr(&gt;F)</th></tr>\n",
       "\t<tr><th scope=col>&lt;dbl&gt;</th><th scope=col>&lt;dbl&gt;</th><th scope=col>&lt;dbl&gt;</th><th scope=col>&lt;dbl&gt;</th><th scope=col>&lt;dbl&gt;</th><th scope=col>&lt;dbl&gt;</th></tr>\n",
       "</thead>\n",
       "<tbody>\n",
       "\t<tr><td>128</td><td>0.1111378</td><td>NA</td><td>          NA</td><td>      NA</td><td>         NA</td></tr>\n",
       "\t<tr><td>129</td><td>0.1171252</td><td>-1</td><td>-0.005987377</td><td>6.895801</td><td>0.009693378</td></tr>\n",
       "</tbody>\n",
       "</table>\n"
      ],
      "text/latex": [
       "A anova: 2 × 6\n",
       "\\begin{tabular}{r|llllll}\n",
       " Res.Df & RSS & Df & Sum of Sq & F & Pr(>F)\\\\\n",
       " <dbl> & <dbl> & <dbl> & <dbl> & <dbl> & <dbl>\\\\\n",
       "\\hline\n",
       "\t 128 & 0.1111378 & NA &           NA &       NA &          NA\\\\\n",
       "\t 129 & 0.1171252 & -1 & -0.005987377 & 6.895801 & 0.009693378\\\\\n",
       "\\end{tabular}\n"
      ],
      "text/markdown": [
       "\n",
       "A anova: 2 × 6\n",
       "\n",
       "| Res.Df &lt;dbl&gt; | RSS &lt;dbl&gt; | Df &lt;dbl&gt; | Sum of Sq &lt;dbl&gt; | F &lt;dbl&gt; | Pr(&gt;F) &lt;dbl&gt; |\n",
       "|---|---|---|---|---|---|\n",
       "| 128 | 0.1111378 | NA |           NA |       NA |          NA |\n",
       "| 129 | 0.1171252 | -1 | -0.005987377 | 6.895801 | 0.009693378 |\n",
       "\n"
      ],
      "text/plain": [
       "  Res.Df RSS       Df Sum of Sq    F        Pr(>F)     \n",
       "1 128    0.1111378 NA           NA       NA          NA\n",
       "2 129    0.1171252 -1 -0.005987377 6.895801 0.009693378"
      ]
     },
     "metadata": {},
     "output_type": "display_data"
    },
    {
     "data": {
      "text/html": [
       "<table>\n",
       "<caption>A anova: 2 × 6</caption>\n",
       "<thead>\n",
       "\t<tr><th scope=col>Res.Df</th><th scope=col>RSS</th><th scope=col>Df</th><th scope=col>Sum of Sq</th><th scope=col>F</th><th scope=col>Pr(&gt;F)</th></tr>\n",
       "\t<tr><th scope=col>&lt;dbl&gt;</th><th scope=col>&lt;dbl&gt;</th><th scope=col>&lt;dbl&gt;</th><th scope=col>&lt;dbl&gt;</th><th scope=col>&lt;dbl&gt;</th><th scope=col>&lt;dbl&gt;</th></tr>\n",
       "</thead>\n",
       "<tbody>\n",
       "\t<tr><td>128</td><td>0.1111378</td><td>NA</td><td>          NA</td><td>      NA</td><td>         NA</td></tr>\n",
       "\t<tr><td>129</td><td>0.1171252</td><td>-1</td><td>-0.005987377</td><td>6.895801</td><td>0.009693378</td></tr>\n",
       "</tbody>\n",
       "</table>\n"
      ],
      "text/latex": [
       "A anova: 2 × 6\n",
       "\\begin{tabular}{r|llllll}\n",
       " Res.Df & RSS & Df & Sum of Sq & F & Pr(>F)\\\\\n",
       " <dbl> & <dbl> & <dbl> & <dbl> & <dbl> & <dbl>\\\\\n",
       "\\hline\n",
       "\t 128 & 0.1111378 & NA &           NA &       NA &          NA\\\\\n",
       "\t 129 & 0.1171252 & -1 & -0.005987377 & 6.895801 & 0.009693378\\\\\n",
       "\\end{tabular}\n"
      ],
      "text/markdown": [
       "\n",
       "A anova: 2 × 6\n",
       "\n",
       "| Res.Df &lt;dbl&gt; | RSS &lt;dbl&gt; | Df &lt;dbl&gt; | Sum of Sq &lt;dbl&gt; | F &lt;dbl&gt; | Pr(&gt;F) &lt;dbl&gt; |\n",
       "|---|---|---|---|---|---|\n",
       "| 128 | 0.1111378 | NA |           NA |       NA |          NA |\n",
       "| 129 | 0.1171252 | -1 | -0.005987377 | 6.895801 | 0.009693378 |\n",
       "\n"
      ],
      "text/plain": [
       "  Res.Df RSS       Df Sum of Sq    F        Pr(>F)     \n",
       "1 128    0.1111378 NA           NA       NA          NA\n",
       "2 129    0.1171252 -1 -0.005987377 6.895801 0.009693378"
      ]
     },
     "metadata": {},
     "output_type": "display_data"
    }
   ],
   "source": [
    "# try all the combinations to make sure that adding each confounder improves the model\n",
    "fit_6 <- lm(rate ~ age_65up + med_bed + confirmed_rate, df_sub[-1])\n",
    "fit_7 <- lm(rate ~ age_65up + death_100_ind + confirmed_rate, df_sub[-1])\n",
    "\n",
    "# test whether adding `age_65up` improves the model\n",
    "fit_8 <- lm(rate ~ age_65up + death_100_ind + confirmed_rate, df_sub[-1])\n",
    "\n",
    "# add med_bed, death_100_ind and confirmed_rate to the base model\n",
    "fit_9 <- lm(rate ~ age_65up + med_bed + death_100_ind + confirmed_rate, df_sub[-1])\n",
    "\n",
    "analyze_lm(fit_9)\n",
    "anova(fit_9, fit_5)\n",
    "anova(fit_9, fit_6)\n",
    "anova(fit_9, fit_7)\n",
    "anova(fit_9, fit_8)"
   ]
  },
  {
   "cell_type": "code",
   "execution_count": 37,
   "metadata": {},
   "outputs": [
    {
     "data": {
      "text/plain": [
       "\n",
       "Call:\n",
       "lm(formula = rate ~ age_65up, data = df_sub[-1])\n",
       "\n",
       "Residuals:\n",
       "      Min        1Q    Median        3Q       Max \n",
       "-0.044598 -0.026140 -0.009418  0.015794  0.100190 \n",
       "\n",
       "Coefficients:\n",
       "             Estimate Std. Error t value Pr(>|t|)    \n",
       "(Intercept) 0.0251482  0.0050773   4.953 2.21e-06 ***\n",
       "age_65up    0.0016905  0.0004435   3.812 0.000211 ***\n",
       "---\n",
       "Signif. codes:  0 '***' 0.001 '**' 0.01 '*' 0.05 '.' 0.1 ' ' 1\n",
       "\n",
       "Residual standard error: 0.03339 on 131 degrees of freedom\n",
       "Multiple R-squared:  0.09985,\tAdjusted R-squared:  0.09297 \n",
       "F-statistic: 14.53 on 1 and 131 DF,  p-value: 0.0002113\n"
      ]
     },
     "metadata": {},
     "output_type": "display_data"
    },
    {
     "data": {
      "text/plain": [
       "\n",
       "Call:\n",
       "lm(formula = rate ~ age_65up + med_bed + death_100_ind + confirmed_rate, \n",
       "    data = df_sub[-1])\n",
       "\n",
       "Residuals:\n",
       "      Min        1Q    Median        3Q       Max \n",
       "-0.047662 -0.020142 -0.007249  0.015331  0.096587 \n",
       "\n",
       "Coefficients:\n",
       "                 Estimate Std. Error t value Pr(>|t|)    \n",
       "(Intercept)     0.0752753  0.0138865   5.421 2.85e-07 ***\n",
       "age_65up        0.0013549  0.0005907   2.294  0.02344 *  \n",
       "med_bed        -0.0037626  0.0014328  -2.626  0.00969 ** \n",
       "death_100_ind  -0.0460991  0.0133161  -3.462  0.00073 ***\n",
       "confirmed_rate  2.0471193  0.6878551   2.976  0.00349 ** \n",
       "---\n",
       "Signif. codes:  0 '***' 0.001 '**' 0.01 '*' 0.05 '.' 0.1 ' ' 1\n",
       "\n",
       "Residual standard error: 0.02947 on 128 degrees of freedom\n",
       "Multiple R-squared:  0.3151,\tAdjusted R-squared:  0.2937 \n",
       "F-statistic: 14.72 on 4 and 128 DF,  p-value: 6.417e-10\n"
      ]
     },
     "metadata": {},
     "output_type": "display_data"
    }
   ],
   "source": [
    "summary(base)\n",
    "summary(fit_9)"
   ]
  },
  {
   "cell_type": "markdown",
   "metadata": {},
   "source": [
    "The model with `med_bed`, `death_100_ind`, and `confirmed_rate` is significantly (p-value < 0.05) different from the models with only two of the three variables. I would include `med_bed`, `death_100_ind`, and `confirmed_rate` in my final model.\n",
    "\n",
    "Compared to the base model, including those three confounding variables improves the model. Adjusted $R^2$ increased from 0.0966 to 0.294, though it is still not well fitted (only 29.4% variance explained by the model). I'll then check model assumptions to see whether this is a valid model.\n"
   ]
  },
  {
   "cell_type": "markdown",
   "metadata": {},
   "source": [
    "\n",
    "#### 3) Check model assumptions:"
   ]
  },
  {
   "cell_type": "code",
   "execution_count": 215,
   "metadata": {},
   "outputs": [],
   "source": [
    "#' Plots linear regression diagnostics results\n",
    "#'\n",
    "#' @param model the fitted model to analyze\n",
    "#' @param formula the model formula\n",
    "#'\n",
    "#' @return plots\n",
    "plot_model_diag <- function(model, formula = \"\") {\n",
    "    options(repr.plot.width = 12, repr.plot.height = 12)\n",
    "    par(mfrow = c(2, 2), mar = c(5, 5, 4, 2) + 0.1, \n",
    "        cex.lab = 1.5, cex.axis = 1.3, cex.main = 1.5, cex.sub = 1.2)\n",
    "\n",
    "    if (formula != \"\") {\n",
    "        print(paste(\"Formula =\", formula))\n",
    "    }\n",
    "    \n",
    "    plot(model, cex.caption = 1.5, cex.id = 1.2)\n",
    "}"
   ]
  },
  {
   "cell_type": "code",
   "execution_count": 216,
   "metadata": {},
   "outputs": [
    {
     "name": "stdout",
     "output_type": "stream",
     "text": [
      "[1] \"Formula = rate ~ age_65up + med_bed + death_100_ind + confirmed_rate\"\n"
     ]
    },
    {
     "data": {
      "text/html": [
       "<table>\n",
       "<caption>A tibble: 1 × 3</caption>\n",
       "<thead>\n",
       "\t<tr><th scope=col>variable</th><th scope=col>statistic</th><th scope=col>p.value</th></tr>\n",
       "\t<tr><th scope=col>&lt;chr&gt;</th><th scope=col>&lt;dbl&gt;</th><th scope=col>&lt;dbl&gt;</th></tr>\n",
       "</thead>\n",
       "<tbody>\n",
       "\t<tr><td>residuals(fit_9)</td><td>0.9361628</td><td>9.101347e-06</td></tr>\n",
       "</tbody>\n",
       "</table>\n"
      ],
      "text/latex": [
       "A tibble: 1 × 3\n",
       "\\begin{tabular}{r|lll}\n",
       " variable & statistic & p.value\\\\\n",
       " <chr> & <dbl> & <dbl>\\\\\n",
       "\\hline\n",
       "\t residuals(fit\\_9) & 0.9361628 & 9.101347e-06\\\\\n",
       "\\end{tabular}\n"
      ],
      "text/markdown": [
       "\n",
       "A tibble: 1 × 3\n",
       "\n",
       "| variable &lt;chr&gt; | statistic &lt;dbl&gt; | p.value &lt;dbl&gt; |\n",
       "|---|---|---|\n",
       "| residuals(fit_9) | 0.9361628 | 9.101347e-06 |\n",
       "\n"
      ],
      "text/plain": [
       "  variable         statistic p.value     \n",
       "1 residuals(fit_9) 0.9361628 9.101347e-06"
      ]
     },
     "metadata": {},
     "output_type": "display_data"
    },
    {
     "data": {
      "text/plain": [
       "\n",
       "\tBartlett test of homogeneity of variances\n",
       "\n",
       "data:  .\n",
       "Bartlett's K-squared = 3971.4, df = 5, p-value < 2.2e-16\n"
      ]
     },
     "metadata": {},
     "output_type": "display_data"
    },
    {
     "data": {
      "image/png": "[encoded data removed]",
      "text/plain": [
       "Plot with title \"\""
      ]
     },
     "metadata": {
      "image/png": {
       "height": 720,
       "width": 720
      },
      "text/plain": {
       "height": 720,
       "width": 720
      }
     },
     "output_type": "display_data"
    }
   ],
   "source": [
    "# plot model diagnostics\n",
    "plot_model_diag(fit_9, \"rate ~ age_65up + med_bed + death_100_ind + confirmed_rate\")\n",
    "\n",
    "# Compute Shapiro-Wilk test of normality\n",
    "rstatix::shapiro_test(residuals(fit_9))\n",
    "\n",
    "# Compute Bartlett test of homogeneity of variances\n",
    "df_sub[-1] %>%\n",
    "    bartlett.test(rate ~ age_65up + med_bed + death_100_ind + confirmed_rate)"
   ]
  },
  {
   "cell_type": "markdown",
   "metadata": {},
   "source": [
    "To assess the model, I need to check whether the \"LINE\" conditions for multiple linear regression hold for this model. The data were collected in each country independently, so I would assume that the independence assumption is reasonable. Then, let's look at the rest assumptions:\n",
    "\n",
    "First, check the Residuals vs Fitted plot for the linearity assumption. Residuals should have zero expectations at each fitted value. There are some obvious patterns in the plot and the averages of residuals are away from zero. So the linearity assumption does not hold and the LSE (Least Squares Estimator) might be biased and even inconsistent.\n",
    "\n",
    "Second, check the Normal Q-Q plot for the normality assumption. Deviations of the lower and upper tails from the straight line indicates that the distribution of residuals does not conform to a normal distribution (right skewed in this case). Besides, the Shapiro-Wilk test of normality is significant. So the normality assumption is violated.\n",
    "\n",
    "Third, check the Scale-Location plot for the equal variance assumption. There is a overall positive trend in the plot so the variance is not constant. Besides, the Bartlett test of homogeneity of variances is significant. So the equal variance assumption does not hold and the LSE may not be the BLUE (Best Linear Unbiased Estimator).\n",
    "\n",
    "Finally, check the Residuals vs. Leverage plot for influential points. Three point are labeled for high Cook's distance values.\n",
    "\n",
    "The model violates most of the \"LINE\" conditions. I would next consider improving the model with data transformation and GLM (General Linear Model)."
   ]
  },
  {
   "cell_type": "markdown",
   "metadata": {},
   "source": [
    "#### 4) Data transformation and GLM\n",
    "\n",
    "I'll find out the way to improve the model by trial and error. The process is omitted here. Note that the final model is the best model identified, not necessary the best model."
   ]
  },
  {
   "cell_type": "code",
   "execution_count": 217,
   "metadata": {},
   "outputs": [
    {
     "data": {
      "text/html": [
       "<table>\n",
       "<caption>A tibble: 4 × 7</caption>\n",
       "<thead>\n",
       "\t<tr><th scope=col>term</th><th scope=col>estimate</th><th scope=col>std.error</th><th scope=col>statistic</th><th scope=col>p.value</th><th scope=col>p.value.adjust</th><th scope=col>significant</th></tr>\n",
       "\t<tr><th scope=col>&lt;chr&gt;</th><th scope=col>&lt;dbl&gt;</th><th scope=col>&lt;dbl&gt;</th><th scope=col>&lt;dbl&gt;</th><th scope=col>&lt;dbl&gt;</th><th scope=col>&lt;dbl&gt;</th><th scope=col>&lt;lgl&gt;</th></tr>\n",
       "</thead>\n",
       "<tbody>\n",
       "\t<tr><td>(Intercept)           </td><td> 0.10298630</td><td>0.021993135</td><td> 4.682657</td><td>7.071347e-06</td><td>2.828539e-05</td><td>TRUE</td></tr>\n",
       "\t<tr><td>log(age_65up)         </td><td> 0.01332487</td><td>0.004028499</td><td> 3.307651</td><td>1.219253e-03</td><td>1.219253e-03</td><td>TRUE</td></tr>\n",
       "\t<tr><td>log(med_bed)          </td><td>-0.01494410</td><td>0.003421579</td><td>-4.367604</td><td>2.555519e-05</td><td>5.111038e-05</td><td>TRUE</td></tr>\n",
       "\t<tr><td>log(death_100_ind + 1)</td><td>-0.10317467</td><td>0.028478554</td><td>-3.622890</td><td>4.176037e-04</td><td>5.568049e-04</td><td>TRUE</td></tr>\n",
       "</tbody>\n",
       "</table>\n"
      ],
      "text/latex": [
       "A tibble: 4 × 7\n",
       "\\begin{tabular}{r|lllllll}\n",
       " term & estimate & std.error & statistic & p.value & p.value.adjust & significant\\\\\n",
       " <chr> & <dbl> & <dbl> & <dbl> & <dbl> & <dbl> & <lgl>\\\\\n",
       "\\hline\n",
       "\t (Intercept)            &  0.10298630 & 0.021993135 &  4.682657 & 7.071347e-06 & 2.828539e-05 & TRUE\\\\\n",
       "\t log(age\\_65up)          &  0.01332487 & 0.004028499 &  3.307651 & 1.219253e-03 & 1.219253e-03 & TRUE\\\\\n",
       "\t log(med\\_bed)           & -0.01494410 & 0.003421579 & -4.367604 & 2.555519e-05 & 5.111038e-05 & TRUE\\\\\n",
       "\t log(death\\_100\\_ind + 1) & -0.10317467 & 0.028478554 & -3.622890 & 4.176037e-04 & 5.568049e-04 & TRUE\\\\\n",
       "\\end{tabular}\n"
      ],
      "text/markdown": [
       "\n",
       "A tibble: 4 × 7\n",
       "\n",
       "| term &lt;chr&gt; | estimate &lt;dbl&gt; | std.error &lt;dbl&gt; | statistic &lt;dbl&gt; | p.value &lt;dbl&gt; | p.value.adjust &lt;dbl&gt; | significant &lt;lgl&gt; |\n",
       "|---|---|---|---|---|---|---|\n",
       "| (Intercept)            |  0.10298630 | 0.021993135 |  4.682657 | 7.071347e-06 | 2.828539e-05 | TRUE |\n",
       "| log(age_65up)          |  0.01332487 | 0.004028499 |  3.307651 | 1.219253e-03 | 1.219253e-03 | TRUE |\n",
       "| log(med_bed)           | -0.01494410 | 0.003421579 | -4.367604 | 2.555519e-05 | 5.111038e-05 | TRUE |\n",
       "| log(death_100_ind + 1) | -0.10317467 | 0.028478554 | -3.622890 | 4.176037e-04 | 5.568049e-04 | TRUE |\n",
       "\n"
      ],
      "text/plain": [
       "  term                   estimate    std.error   statistic p.value     \n",
       "1 (Intercept)             0.10298630 0.021993135  4.682657 7.071347e-06\n",
       "2 log(age_65up)           0.01332487 0.004028499  3.307651 1.219253e-03\n",
       "3 log(med_bed)           -0.01494410 0.003421579 -4.367604 2.555519e-05\n",
       "4 log(death_100_ind + 1) -0.10317467 0.028478554 -3.622890 4.176037e-04\n",
       "  p.value.adjust significant\n",
       "1 2.828539e-05   TRUE       \n",
       "2 1.219253e-03   TRUE       \n",
       "3 5.111038e-05   TRUE       \n",
       "4 5.568049e-04   TRUE       "
      ]
     },
     "metadata": {},
     "output_type": "display_data"
    },
    {
     "data": {
      "text/plain": [
       "\n",
       "Call:\n",
       "glm(formula = rate ~ log(age_65up) + log(med_bed) + log(death_100_ind + \n",
       "    1), family = Gamma(link = \"identity\"), data = .)\n",
       "\n",
       "Deviance Residuals: \n",
       "    Min       1Q   Median       3Q      Max  \n",
       "-1.2279  -0.4484  -0.1509   0.2194   1.3500  \n",
       "\n",
       "Coefficients:\n",
       "                        Estimate Std. Error t value Pr(>|t|)    \n",
       "(Intercept)             0.102986   0.021993   4.683 7.07e-06 ***\n",
       "log(age_65up)           0.013325   0.004028   3.308 0.001219 ** \n",
       "log(med_bed)           -0.014944   0.003422  -4.368 2.56e-05 ***\n",
       "log(death_100_ind + 1) -0.103175   0.028479  -3.623 0.000418 ***\n",
       "---\n",
       "Signif. codes:  0 '***' 0.001 '**' 0.01 '*' 0.05 '.' 0.1 ' ' 1\n",
       "\n",
       "(Dispersion parameter for Gamma family taken to be 0.3122497)\n",
       "\n",
       "    Null deviance: 49.945  on 132  degrees of freedom\n",
       "Residual deviance: 37.135  on 129  degrees of freedom\n",
       "AIC: -593.8\n",
       "\n",
       "Number of Fisher Scoring iterations: 8\n"
      ]
     },
     "metadata": {},
     "output_type": "display_data"
    },
    {
     "data": {
      "text/html": [
       "<table>\n",
       "<caption>A tibble: 1 × 3</caption>\n",
       "<thead>\n",
       "\t<tr><th scope=col>variable</th><th scope=col>statistic</th><th scope=col>p.value</th></tr>\n",
       "\t<tr><th scope=col>&lt;chr&gt;</th><th scope=col>&lt;dbl&gt;</th><th scope=col>&lt;dbl&gt;</th></tr>\n",
       "</thead>\n",
       "<tbody>\n",
       "\t<tr><td>residuals(glm_fit)</td><td>0.9800386</td><td>0.04775893</td></tr>\n",
       "</tbody>\n",
       "</table>\n"
      ],
      "text/latex": [
       "A tibble: 1 × 3\n",
       "\\begin{tabular}{r|lll}\n",
       " variable & statistic & p.value\\\\\n",
       " <chr> & <dbl> & <dbl>\\\\\n",
       "\\hline\n",
       "\t residuals(glm\\_fit) & 0.9800386 & 0.04775893\\\\\n",
       "\\end{tabular}\n"
      ],
      "text/markdown": [
       "\n",
       "A tibble: 1 × 3\n",
       "\n",
       "| variable &lt;chr&gt; | statistic &lt;dbl&gt; | p.value &lt;dbl&gt; |\n",
       "|---|---|---|\n",
       "| residuals(glm_fit) | 0.9800386 | 0.04775893 |\n",
       "\n"
      ],
      "text/plain": [
       "  variable           statistic p.value   \n",
       "1 residuals(glm_fit) 0.9800386 0.04775893"
      ]
     },
     "metadata": {},
     "output_type": "display_data"
    },
    {
     "data": {
      "text/plain": [
       "\n",
       "\tBartlett test of homogeneity of variances\n",
       "\n",
       "data:  .\n",
       "Bartlett's K-squared = 3973.4, df = 5, p-value < 2.2e-16\n"
      ]
     },
     "metadata": {},
     "output_type": "display_data"
    },
    {
     "data": {
      "image/png": "[encoded data removed]",
      "text/plain": [
       "Plot with title \"\""
      ]
     },
     "metadata": {
      "image/png": {
       "height": 720,
       "width": 720
      },
      "text/plain": {
       "height": 720,
       "width": 720
      }
     },
     "output_type": "display_data"
    }
   ],
   "source": [
    "# this model is used in the boostrapping step\n",
    "glm_fit <- df_sub %>%\n",
    "    mutate(rate = (rate*(133 -1) + 2)/133) %>%\n",
    "    glm(rate ~ log(age_65up) + log(med_bed) + \n",
    "        log(death_100_ind + 1), \n",
    "        family = Gamma(link = \"identity\"), .)\n",
    "\n",
    "glm_fit_results <- analyze_lm(glm_fit)\n",
    "glm_fit_results\n",
    "\n",
    "summary(glm_fit)\n",
    "\n",
    "# plot model diagnostics\n",
    "plot_model_diag(glm_fit)\n",
    "\n",
    "# Compute Shapiro-Wilk test of normality\n",
    "rstatix::shapiro_test(residuals(glm_fit))\n",
    "\n",
    "# Compute Bartlett test of homogeneity of variances\n",
    "df_sub[-1] %>%\n",
    "    mutate(rate = (rate*(133 -1) + 2)/133) %>%\n",
    "    bartlett.test(rate ~ log(age_65up) + log(med_bed) + log(death_100_ind + 1))"
   ]
  },
  {
   "cell_type": "code",
   "execution_count": 218,
   "metadata": {},
   "outputs": [
    {
     "data": {
      "text/html": [
       "<table>\n",
       "<caption>A tibble: 5 × 7</caption>\n",
       "<thead>\n",
       "\t<tr><th scope=col>term</th><th scope=col>estimate</th><th scope=col>std.error</th><th scope=col>statistic</th><th scope=col>p.value</th><th scope=col>p.value.adjust</th><th scope=col>significant</th></tr>\n",
       "\t<tr><th scope=col>&lt;chr&gt;</th><th scope=col>&lt;dbl&gt;</th><th scope=col>&lt;dbl&gt;</th><th scope=col>&lt;dbl&gt;</th><th scope=col>&lt;dbl&gt;</th><th scope=col>&lt;dbl&gt;</th><th scope=col>&lt;lgl&gt;</th></tr>\n",
       "</thead>\n",
       "<tbody>\n",
       "\t<tr><td>(Intercept)           </td><td> 0.086943410</td><td>0.0198482003</td><td> 4.380418</td><td>2.440643e-05</td><td>4.067738e-05</td><td>TRUE</td></tr>\n",
       "\t<tr><td>log(age_65up)         </td><td> 0.014590687</td><td>0.0032729351</td><td> 4.457982</td><td>1.787967e-05</td><td>4.067738e-05</td><td>TRUE</td></tr>\n",
       "\t<tr><td>log(med_bed)          </td><td>-0.011905229</td><td>0.0034179247</td><td>-3.483175</td><td>6.787330e-04</td><td>7.712704e-04</td><td>TRUE</td></tr>\n",
       "\t<tr><td>log(death_100_ind + 1)</td><td>-0.132954227</td><td>0.0275857540</td><td>-4.819670</td><td>4.001685e-06</td><td>2.000842e-05</td><td>TRUE</td></tr>\n",
       "\t<tr><td>log(confirmed_rate)   </td><td>-0.003324185</td><td>0.0009647784</td><td>-3.445543</td><td>7.712704e-04</td><td>7.712704e-04</td><td>TRUE</td></tr>\n",
       "</tbody>\n",
       "</table>\n"
      ],
      "text/latex": [
       "A tibble: 5 × 7\n",
       "\\begin{tabular}{r|lllllll}\n",
       " term & estimate & std.error & statistic & p.value & p.value.adjust & significant\\\\\n",
       " <chr> & <dbl> & <dbl> & <dbl> & <dbl> & <dbl> & <lgl>\\\\\n",
       "\\hline\n",
       "\t (Intercept)            &  0.086943410 & 0.0198482003 &  4.380418 & 2.440643e-05 & 4.067738e-05 & TRUE\\\\\n",
       "\t log(age\\_65up)          &  0.014590687 & 0.0032729351 &  4.457982 & 1.787967e-05 & 4.067738e-05 & TRUE\\\\\n",
       "\t log(med\\_bed)           & -0.011905229 & 0.0034179247 & -3.483175 & 6.787330e-04 & 7.712704e-04 & TRUE\\\\\n",
       "\t log(death\\_100\\_ind + 1) & -0.132954227 & 0.0275857540 & -4.819670 & 4.001685e-06 & 2.000842e-05 & TRUE\\\\\n",
       "\t log(confirmed\\_rate)    & -0.003324185 & 0.0009647784 & -3.445543 & 7.712704e-04 & 7.712704e-04 & TRUE\\\\\n",
       "\\end{tabular}\n"
      ],
      "text/markdown": [
       "\n",
       "A tibble: 5 × 7\n",
       "\n",
       "| term &lt;chr&gt; | estimate &lt;dbl&gt; | std.error &lt;dbl&gt; | statistic &lt;dbl&gt; | p.value &lt;dbl&gt; | p.value.adjust &lt;dbl&gt; | significant &lt;lgl&gt; |\n",
       "|---|---|---|---|---|---|---|\n",
       "| (Intercept)            |  0.086943410 | 0.0198482003 |  4.380418 | 2.440643e-05 | 4.067738e-05 | TRUE |\n",
       "| log(age_65up)          |  0.014590687 | 0.0032729351 |  4.457982 | 1.787967e-05 | 4.067738e-05 | TRUE |\n",
       "| log(med_bed)           | -0.011905229 | 0.0034179247 | -3.483175 | 6.787330e-04 | 7.712704e-04 | TRUE |\n",
       "| log(death_100_ind + 1) | -0.132954227 | 0.0275857540 | -4.819670 | 4.001685e-06 | 2.000842e-05 | TRUE |\n",
       "| log(confirmed_rate)    | -0.003324185 | 0.0009647784 | -3.445543 | 7.712704e-04 | 7.712704e-04 | TRUE |\n",
       "\n"
      ],
      "text/plain": [
       "  term                   estimate     std.error    statistic p.value     \n",
       "1 (Intercept)             0.086943410 0.0198482003  4.380418 2.440643e-05\n",
       "2 log(age_65up)           0.014590687 0.0032729351  4.457982 1.787967e-05\n",
       "3 log(med_bed)           -0.011905229 0.0034179247 -3.483175 6.787330e-04\n",
       "4 log(death_100_ind + 1) -0.132954227 0.0275857540 -4.819670 4.001685e-06\n",
       "5 log(confirmed_rate)    -0.003324185 0.0009647784 -3.445543 7.712704e-04\n",
       "  p.value.adjust significant\n",
       "1 4.067738e-05   TRUE       \n",
       "2 4.067738e-05   TRUE       \n",
       "3 7.712704e-04   TRUE       \n",
       "4 2.000842e-05   TRUE       \n",
       "5 7.712704e-04   TRUE       "
      ]
     },
     "metadata": {},
     "output_type": "display_data"
    },
    {
     "data": {
      "text/plain": [
       "\n",
       "Call:\n",
       "glm(formula = rate ~ log(age_65up) + log(med_bed) + log(death_100_ind + \n",
       "    1) + log(confirmed_rate), family = Gamma(link = \"identity\"), \n",
       "    data = .)\n",
       "\n",
       "Deviance Residuals: \n",
       "    Min       1Q   Median       3Q      Max  \n",
       "-1.2313  -0.4510  -0.1328   0.2211   1.1606  \n",
       "\n",
       "Coefficients:\n",
       "                         Estimate Std. Error t value Pr(>|t|)    \n",
       "(Intercept)             0.0869434  0.0198482   4.380 2.44e-05 ***\n",
       "log(age_65up)           0.0145907  0.0032729   4.458 1.79e-05 ***\n",
       "log(med_bed)           -0.0119052  0.0034179  -3.483 0.000679 ***\n",
       "log(death_100_ind + 1) -0.1329542  0.0275858  -4.820 4.00e-06 ***\n",
       "log(confirmed_rate)    -0.0033242  0.0009648  -3.446 0.000771 ***\n",
       "---\n",
       "Signif. codes:  0 '***' 0.001 '**' 0.01 '*' 0.05 '.' 0.1 ' ' 1\n",
       "\n",
       "(Dispersion parameter for Gamma family taken to be 0.2749048)\n",
       "\n",
       "    Null deviance: 49.945  on 132  degrees of freedom\n",
       "Residual deviance: 34.435  on 128  degrees of freedom\n",
       "AIC: -602.29\n",
       "\n",
       "Number of Fisher Scoring iterations: 8\n"
      ]
     },
     "metadata": {},
     "output_type": "display_data"
    },
    {
     "data": {
      "text/html": [
       "<table>\n",
       "<caption>A tibble: 1 × 3</caption>\n",
       "<thead>\n",
       "\t<tr><th scope=col>variable</th><th scope=col>statistic</th><th scope=col>p.value</th></tr>\n",
       "\t<tr><th scope=col>&lt;chr&gt;</th><th scope=col>&lt;dbl&gt;</th><th scope=col>&lt;dbl&gt;</th></tr>\n",
       "</thead>\n",
       "<tbody>\n",
       "\t<tr><td>residuals(final_fit)</td><td>0.9904483</td><td>0.4973985</td></tr>\n",
       "</tbody>\n",
       "</table>\n"
      ],
      "text/latex": [
       "A tibble: 1 × 3\n",
       "\\begin{tabular}{r|lll}\n",
       " variable & statistic & p.value\\\\\n",
       " <chr> & <dbl> & <dbl>\\\\\n",
       "\\hline\n",
       "\t residuals(final\\_fit) & 0.9904483 & 0.4973985\\\\\n",
       "\\end{tabular}\n"
      ],
      "text/markdown": [
       "\n",
       "A tibble: 1 × 3\n",
       "\n",
       "| variable &lt;chr&gt; | statistic &lt;dbl&gt; | p.value &lt;dbl&gt; |\n",
       "|---|---|---|\n",
       "| residuals(final_fit) | 0.9904483 | 0.4973985 |\n",
       "\n"
      ],
      "text/plain": [
       "  variable             statistic p.value  \n",
       "1 residuals(final_fit) 0.9904483 0.4973985"
      ]
     },
     "metadata": {},
     "output_type": "display_data"
    },
    {
     "data": {
      "text/plain": [
       "\n",
       "\tBartlett test of homogeneity of variances\n",
       "\n",
       "data:  .\n",
       "Bartlett's K-squared = 3973.4, df = 5, p-value < 2.2e-16\n"
      ]
     },
     "metadata": {},
     "output_type": "display_data"
    },
    {
     "data": {
      "image/png": "[encoded data removed]",
      "text/plain": [
       "Plot with title \"\""
      ]
     },
     "metadata": {
      "image/png": {
       "height": 720,
       "width": 720
      },
      "text/plain": {
       "height": 720,
       "width": 720
      }
     },
     "output_type": "display_data"
    }
   ],
   "source": [
    "# final model\n",
    "final_fit <- df_sub %>%\n",
    "    mutate(rate = (rate*(133 -1) + 2)/133) %>%\n",
    "    glm(rate ~ log(age_65up) + log(med_bed) + \n",
    "        log(death_100_ind + 1) + log(confirmed_rate), \n",
    "        family = Gamma(link = \"identity\"), .)\n",
    "\n",
    "analyze_lm(final_fit)\n",
    "\n",
    "summary(final_fit)\n",
    "\n",
    "# plot model diagnostics\n",
    "plot_model_diag(final_fit)\n",
    "\n",
    "# Compute Shapiro-Wilk test of normality\n",
    "rstatix::shapiro_test(residuals(final_fit))\n",
    "\n",
    "# Compute Bartlett test of homogeneity of variances\n",
    "df_sub[-1] %>%\n",
    "    mutate(rate = (rate*(133 -1) + 2)/133) %>%\n",
    "    bartlett.test(rate ~ log(age_65up) + log(med_bed) + log(death_100_ind+1) + log(confirmed_rate))"
   ]
  },
  {
   "cell_type": "markdown",
   "metadata": {},
   "source": [
    "Again I'll check whether the \"LINE\" conditions to assess the model. The independence assumption is reasonable as before. For the rest assumptions:\n",
    "\n",
    "First, the averages of residuals are slightly smaller than zero in the Residuals vs Fitted plot but may not be a big problem. I would say that the linearity assumption could hold here.\n",
    "\n",
    "Second, the lower and upper tails are slightly away from the straight line in the Normal Q-Q plot. Besides, the Shapiro-Wilk test of normality is significant but the p-value is very close to 0.05. So there is some evidence that the normality assumption could be reasonable.\n",
    "\n",
    "Third, the Scale-Location plot has some trends so the variance is not constant. And the Bartlett test of homogeneity of variances is significant. So the normality assumption could not hold.\n",
    "\n",
    "Finally, three point are labeled for high Cook's distance values in the Residuals vs. Leverage plot.\n",
    "\n",
    "The final model still violates some of the \"LINE\" conditions. So it may be not be reasonable to use the theoretical inferential conclusions. Instead, I'll use bootstrapping as an alternative approach to statistical inference."
   ]
  },
  {
   "cell_type": "markdown",
   "metadata": {},
   "source": [
    "#### 4) Bootstrapping\n",
    "\n",
    "I'll take bootstrap samples from 133 countries in `df_sub` with replacement. This is case resampling, so the information from each country remain together. Note that I'll have to drop the `log(confirmed_rate)` term in the formula to make the `glm` results converge."
   ]
  },
  {
   "cell_type": "code",
   "execution_count": 157,
   "metadata": {},
   "outputs": [],
   "source": [
    "set.seed(12345)\n",
    "N <- 1000\n",
    "\n",
    "boot_results <- df_sub %>%\n",
    "    mutate(rate = (rate*(133 -1) + 2)/133) %>%\n",
    "    rsample::bootstraps(N) %>% \n",
    "    mutate(lm = map(splits, ~ glm(rate ~ log(age_65up) + log(med_bed) + \n",
    "                                  log(death_100_ind + 1), \n",
    "                                  family = Gamma(link = \"identity\"), .)),\n",
    "           tidy = map(lm, broom::tidy)) %>% \n",
    "    select(-splits, -lm) %>% \n",
    "    unnest(tidy)\n"
   ]
  },
  {
   "cell_type": "code",
   "execution_count": 260,
   "metadata": {},
   "outputs": [],
   "source": [
    "t <- theme(plot.title = element_text(size = 20),\n",
    "           axis.title = element_text(size = 18),\n",
    "           text = element_text(size = 16),\n",
    "           legend.title = element_text(size = 18),\n",
    "           legend.text = element_text(size = 18),\n",
    "           strip.text.x = element_text(size = 18))\n",
    "\n",
    "#' Plots bootstrapping results\n",
    "#'\n",
    "#' @param boot_results the bootstrapping results\n",
    "#' @param var the variable to plot\n",
    "#' @param model_results the model results\n",
    "#'\n",
    "#' @return ggplot plot\n",
    "plot_results <-  function (boot_results, var, model_results){\n",
    "    \n",
    "    boot_fits <- boot_results %>% \n",
    "        filter(term == var)\n",
    "    \n",
    "    obs <- model_results %>% \n",
    "        filter(term == var)\n",
    "    \n",
    "    t_star <- (boot_fits$estimate - obs$estimate) / boot_fits$std.error\n",
    "    pval_boot <- round((1 + sum(abs(t_star) > abs(obs$statistic))) / (N + 1), 4)\n",
    "\n",
    "    df <- tibble(estimate = boot_fits$estimate,\n",
    "           t_star = t_star) %>%\n",
    "        gather(\"term\", \"value\") \n",
    "    \n",
    "    df %>%\n",
    "        ggplot() +\n",
    "            geom_histogram(aes(value), bins = 30) +\n",
    "            facet_grid(cols = vars(term), scales = \"free\") + \n",
    "            geom_vline(data = df %>% filter(term == \"t_star\"), \n",
    "                       aes(xintercept = obs$statistic, color = \"Observed t\")) +\n",
    "            geom_vline(data = df %>% filter(term == \"estimate\"), \n",
    "                       aes(xintercept = obs$estimate, color = \"Observed estimate\")) +\n",
    "            theme_bw() +\n",
    "            labs(title = paste(\"Bootstrap distributions of the coefficient of \", var, \n",
    "                               \"\\np-value = \", pval_boot, sep = \"\"),\n",
    "                 color = \"Line\") + t\n",
    "    \n",
    "}"
   ]
  },
  {
   "cell_type": "code",
   "execution_count": 261,
   "metadata": {},
   "outputs": [],
   "source": [
    "age_65up_plot <- plot_results(boot_results, \"log(age_65up)\", glm_fit_results)\n",
    "med_bed_plot <- plot_results(boot_results, \"log(med_bed)\", glm_fit_results)\n",
    "death_100_ind_plot <- plot_results(boot_results, \"log(death_100_ind + 1)\", glm_fit_results)"
   ]
  },
  {
   "cell_type": "code",
   "execution_count": 262,
   "metadata": {},
   "outputs": [
    {
     "data": {
      "image/png": "[encoded data removed]",
      "text/plain": [
       "plot without title"
      ]
     },
     "metadata": {
      "image/png": {
       "height": 1080,
       "width": 960
      },
      "text/plain": {
       "height": 1080,
       "width": 960
      }
     },
     "output_type": "display_data"
    }
   ],
   "source": [
    "options(repr.plot.width = 16, repr.plot.height = 18)\n",
    "plot_grid(age_65up_plot, med_bed_plot, death_100_ind_plot, nrow = 3)"
   ]
  },
  {
   "cell_type": "markdown",
   "metadata": {},
   "source": [
    "Based on the bootstrapping results, the coefficients of `log(age_65up)`, `log(med_bed)`, `log(death_100_ind + 1)` are all significant (p-value < 0.05)."
   ]
  },
  {
   "cell_type": "markdown",
   "metadata": {},
   "source": [
    "## 8. Summary and conclusions\n"
   ]
  },
  {
   "cell_type": "markdown",
   "metadata": {},
   "source": [
    "In this analysis, I attempted to use a linear model to explain the relationship between the portion of the senior (`age_65up`%) in the population and the COVID-19 death rate. I tried several linear models and finally decided to train a generalized linear model with a Gamma-distribution dependent variable. My final model is:\n",
    "\n",
    "$\\frac{132\\text{rate} + 2}{133}=0.103 + 0.0133log(\\text{age_65up}) -0.0149log(\\text{med_bed}) -0.103log(\\text{death_100_ind} + 1)$, \n",
    "\n",
    "where the response (`rate`) follows a Gamma distribution.\n",
    "\n",
    "I understand that this is a simplified model and I may not include all possible confounding variables in the model. And the \"LINE\" conditions for multiple linear models may not hold for this model. So I used bootstrapping for statistical inference. Given the bootstrapping results, the coefficient of `log(age_65up)` is significant (p-value < 0.05). I have the evidence to reject the null hypothesis and accept the alternative hypothesis. So the portion of the senior (age 65 and up) in the population (population aging) is associated with the COVID-19 death rate.\n"
   ]
  },
  {
   "cell_type": "code",
   "execution_count": null,
   "metadata": {},
   "outputs": [],
   "source": []
  }
 ],
 "metadata": {
  "kernelspec": {
   "display_name": "R",
   "language": "R",
   "name": "ir"
  },
  "language_info": {
   "codemirror_mode": "r",
   "file_extension": ".r",
   "mimetype": "text/x-r-source",
   "name": "R",
   "pygments_lexer": "r",
   "version": "3.6.1"
  }
 },
 "nbformat": 4,
 "nbformat_minor": 4
}
