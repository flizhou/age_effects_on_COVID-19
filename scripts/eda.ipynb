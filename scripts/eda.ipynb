{
 "cells": [
  {
   "cell_type": "markdown",
   "metadata": {},
   "source": [
    "# Exploratory data analysis"
   ]
  },
  {
   "cell_type": "markdown",
   "metadata": {},
   "source": [
    "## 1. Dataset description\n",
    "\n",
    "\n"
   ]
  },
  {
   "cell_type": "markdown",
   "metadata": {},
   "source": [
    "## 2. Load the dataset"
   ]
  },
  {
   "cell_type": "code",
   "execution_count": 3,
   "metadata": {},
   "outputs": [
    {
     "name": "stderr",
     "output_type": "stream",
     "text": [
      "Warning message:\n",
      "\"package 'testthat' was built under R version 3.6.2\"\n",
      "Loading required package: ggplot2\n",
      "\n",
      "\n",
      "Attaching package: 'plotly'\n",
      "\n",
      "\n",
      "The following object is masked from 'package:ggplot2':\n",
      "\n",
      "    last_plot\n",
      "\n",
      "\n",
      "The following object is masked from 'package:MASS':\n",
      "\n",
      "    select\n",
      "\n",
      "\n",
      "The following object is masked from 'package:stats':\n",
      "\n",
      "    filter\n",
      "\n",
      "\n",
      "The following object is masked from 'package:graphics':\n",
      "\n",
      "    layout\n",
      "\n",
      "\n",
      "Warning message:\n",
      "\"package 'mice' was built under R version 3.6.2\"\n",
      "Loading required package: lattice\n",
      "\n",
      "\n",
      "Attaching package: 'mice'\n",
      "\n",
      "\n",
      "The following objects are masked from 'package:base':\n",
      "\n",
      "    cbind, rbind\n",
      "\n",
      "\n",
      "-- \u001b[1mAttaching packages\u001b[22m --------------------------------------- tidyverse 1.3.0 --\n",
      "\n",
      "\u001b[32mv\u001b[39m \u001b[34mtibble \u001b[39m 2.1.3     \u001b[32mv\u001b[39m \u001b[34mdplyr  \u001b[39m 0.8.3\n",
      "\u001b[32mv\u001b[39m \u001b[34mtidyr  \u001b[39m 1.0.0     \u001b[32mv\u001b[39m \u001b[34mstringr\u001b[39m 1.4.0\n",
      "\u001b[32mv\u001b[39m \u001b[34mreadr  \u001b[39m 1.3.1     \u001b[32mv\u001b[39m \u001b[34mforcats\u001b[39m 0.4.0\n",
      "\u001b[32mv\u001b[39m \u001b[34mpurrr  \u001b[39m 0.3.3     \n",
      "\n",
      "-- \u001b[1mConflicts\u001b[22m ------------------------------------------ tidyverse_conflicts() --\n",
      "\u001b[31mx\u001b[39m \u001b[34mtidyr\u001b[39m::\u001b[32mcomplete()\u001b[39m masks \u001b[34mmice\u001b[39m::complete()\n",
      "\u001b[31mx\u001b[39m \u001b[34mdplyr\u001b[39m::\u001b[32mfilter()\u001b[39m   masks \u001b[34mplotly\u001b[39m::filter(), \u001b[34mstats\u001b[39m::filter()\n",
      "\u001b[31mx\u001b[39m \u001b[34mpurrr\u001b[39m::\u001b[32mis_null()\u001b[39m  masks \u001b[34mtestthat\u001b[39m::is_null()\n",
      "\u001b[31mx\u001b[39m \u001b[34mdplyr\u001b[39m::\u001b[32mlag()\u001b[39m      masks \u001b[34mstats\u001b[39m::lag()\n",
      "\u001b[31mx\u001b[39m \u001b[34mdplyr\u001b[39m::\u001b[32mmatches()\u001b[39m  masks \u001b[34mtidyr\u001b[39m::matches(), \u001b[34mtestthat\u001b[39m::matches()\n",
      "\u001b[31mx\u001b[39m \u001b[34mdplyr\u001b[39m::\u001b[32mselect()\u001b[39m   masks \u001b[34mplotly\u001b[39m::select(), \u001b[34mMASS\u001b[39m::select()\n",
      "\n"
     ]
    }
   ],
   "source": [
    "library(testthat)\n",
    "library(MASS)\n",
    "library(plotly)\n",
    "library(htmlwidgets)\n",
    "library(mice)\n",
    "library(tidyverse)\n",
    "library(plotly)\n",
    "library(rjson)\n",
    "library(htmlwidgets)"
   ]
  },
  {
   "cell_type": "code",
   "execution_count": 4,
   "metadata": {},
   "outputs": [
    {
     "name": "stderr",
     "output_type": "stream",
     "text": [
      "Parsed with column specification:\n",
      "cols(\n",
      "  .default = col_double(),\n",
      "  `Province/State` = \u001b[31mcol_character()\u001b[39m,\n",
      "  `Country/Region` = \u001b[31mcol_character()\u001b[39m\n",
      ")\n",
      "\n",
      "See spec(...) for full column specifications.\n",
      "\n",
      "Parsed with column specification:\n",
      "cols(\n",
      "  .default = col_double(),\n",
      "  `Province/State` = \u001b[31mcol_character()\u001b[39m,\n",
      "  `Country/Region` = \u001b[31mcol_character()\u001b[39m\n",
      ")\n",
      "\n",
      "See spec(...) for full column specifications.\n",
      "\n"
     ]
    }
   ],
   "source": [
    "url <- \"https://github.com/CSSEGISandData/COVID-19/blob/master/csse_covid_19_data/csse_covid_19_time_series\"\n",
    "covid19_confirmed <- read_csv(paste(url, \"/time_series_covid19_confirmed_global.csv?raw=true\", sep = \"\"))\n",
    "covid19_death <- read_csv(paste(url, \"/time_series_covid19_deaths_global.csv?raw=true\", sep = \"\"))"
   ]
  },
  {
   "cell_type": "code",
   "execution_count": 5,
   "metadata": {},
   "outputs": [
    {
     "name": "stderr",
     "output_type": "stream",
     "text": [
      "Parsed with column specification:\n",
      "cols(\n",
      "  .default = col_double(),\n",
      "  CountryName = \u001b[31mcol_character()\u001b[39m,\n",
      "  CountryCode = \u001b[31mcol_character()\u001b[39m,\n",
      "  C1_Flag = \u001b[33mcol_logical()\u001b[39m,\n",
      "  C2_Flag = \u001b[33mcol_logical()\u001b[39m,\n",
      "  C3_Flag = \u001b[33mcol_logical()\u001b[39m,\n",
      "  C4_Flag = \u001b[33mcol_logical()\u001b[39m,\n",
      "  C6_Flag = \u001b[33mcol_logical()\u001b[39m,\n",
      "  C7_Flag = \u001b[33mcol_logical()\u001b[39m,\n",
      "  E1_Flag = \u001b[33mcol_logical()\u001b[39m,\n",
      "  M1_Wildcard = \u001b[33mcol_logical()\u001b[39m\n",
      ")\n",
      "\n",
      "See spec(...) for full column specifications.\n",
      "\n"
     ]
    }
   ],
   "source": [
    "gov_resp <- read_csv(\"https://raw.githubusercontent.com/OxCGRT/covid-policy-tracker/master/data/OxCGRT_latest.csv\")"
   ]
  },
  {
   "cell_type": "code",
   "execution_count": 6,
   "metadata": {},
   "outputs": [
    {
     "data": {
      "text/html": [
       "<table>\n",
       "<caption>A tibble: 6 × 102</caption>\n",
       "<thead>\n",
       "\t<tr><th scope=col>Province/State</th><th scope=col>Country/Region</th><th scope=col>Lat</th><th scope=col>Long</th><th scope=col>1/22/20</th><th scope=col>1/23/20</th><th scope=col>1/24/20</th><th scope=col>1/25/20</th><th scope=col>1/26/20</th><th scope=col>1/27/20</th><th scope=col>...</th><th scope=col>4/19/20</th><th scope=col>4/20/20</th><th scope=col>4/21/20</th><th scope=col>4/22/20</th><th scope=col>4/23/20</th><th scope=col>4/24/20</th><th scope=col>4/25/20</th><th scope=col>4/26/20</th><th scope=col>4/27/20</th><th scope=col>4/28/20</th></tr>\n",
       "\t<tr><th scope=col>&lt;chr&gt;</th><th scope=col>&lt;chr&gt;</th><th scope=col>&lt;dbl&gt;</th><th scope=col>&lt;dbl&gt;</th><th scope=col>&lt;dbl&gt;</th><th scope=col>&lt;dbl&gt;</th><th scope=col>&lt;dbl&gt;</th><th scope=col>&lt;dbl&gt;</th><th scope=col>&lt;dbl&gt;</th><th scope=col>&lt;dbl&gt;</th><th scope=col>...</th><th scope=col>&lt;dbl&gt;</th><th scope=col>&lt;dbl&gt;</th><th scope=col>&lt;dbl&gt;</th><th scope=col>&lt;dbl&gt;</th><th scope=col>&lt;dbl&gt;</th><th scope=col>&lt;dbl&gt;</th><th scope=col>&lt;dbl&gt;</th><th scope=col>&lt;dbl&gt;</th><th scope=col>&lt;dbl&gt;</th><th scope=col>&lt;dbl&gt;</th></tr>\n",
       "</thead>\n",
       "<tbody>\n",
       "\t<tr><td>NA</td><td>Afghanistan        </td><td> 33.0000</td><td> 65.0000</td><td>0</td><td>0</td><td>0</td><td>0</td><td>0</td><td>0</td><td>...</td><td> 996</td><td>1026</td><td>1092</td><td>1176</td><td>1279</td><td>1351</td><td>1463</td><td>1531</td><td>1703</td><td>1828</td></tr>\n",
       "\t<tr><td>NA</td><td>Albania            </td><td> 41.1533</td><td> 20.1683</td><td>0</td><td>0</td><td>0</td><td>0</td><td>0</td><td>0</td><td>...</td><td> 562</td><td> 584</td><td> 609</td><td> 634</td><td> 663</td><td> 678</td><td> 712</td><td> 726</td><td> 736</td><td> 750</td></tr>\n",
       "\t<tr><td>NA</td><td>Algeria            </td><td> 28.0339</td><td>  1.6596</td><td>0</td><td>0</td><td>0</td><td>0</td><td>0</td><td>0</td><td>...</td><td>2629</td><td>2718</td><td>2811</td><td>2910</td><td>3007</td><td>3127</td><td>3256</td><td>3382</td><td>3517</td><td>3649</td></tr>\n",
       "\t<tr><td>NA</td><td>Andorra            </td><td> 42.5063</td><td>  1.5218</td><td>0</td><td>0</td><td>0</td><td>0</td><td>0</td><td>0</td><td>...</td><td> 713</td><td> 717</td><td> 717</td><td> 723</td><td> 723</td><td> 731</td><td> 738</td><td> 738</td><td> 743</td><td> 743</td></tr>\n",
       "\t<tr><td>NA</td><td>Angola             </td><td>-11.2027</td><td> 17.8739</td><td>0</td><td>0</td><td>0</td><td>0</td><td>0</td><td>0</td><td>...</td><td>  24</td><td>  24</td><td>  24</td><td>  25</td><td>  25</td><td>  25</td><td>  25</td><td>  26</td><td>  27</td><td>  27</td></tr>\n",
       "\t<tr><td>NA</td><td>Antigua and Barbuda</td><td> 17.0608</td><td>-61.7964</td><td>0</td><td>0</td><td>0</td><td>0</td><td>0</td><td>0</td><td>...</td><td>  23</td><td>  23</td><td>  23</td><td>  24</td><td>  24</td><td>  24</td><td>  24</td><td>  24</td><td>  24</td><td>  24</td></tr>\n",
       "</tbody>\n",
       "</table>\n"
      ],
      "text/latex": [
       "A tibble: 6 × 102\n",
       "\\begin{tabular}{r|llllllllllllllllllllllllllllllllllllllllllllllllllllllllllllllllllllllllllllllllllllllllllllllllllllll}\n",
       " Province/State & Country/Region & Lat & Long & 1/22/20 & 1/23/20 & 1/24/20 & 1/25/20 & 1/26/20 & 1/27/20 & 1/28/20 & 1/29/20 & 1/30/20 & 1/31/20 & 2/1/20 & 2/2/20 & 2/3/20 & 2/4/20 & 2/5/20 & 2/6/20 & 2/7/20 & 2/8/20 & 2/9/20 & 2/10/20 & 2/11/20 & 2/12/20 & 2/13/20 & 2/14/20 & 2/15/20 & 2/16/20 & 2/17/20 & 2/18/20 & 2/19/20 & 2/20/20 & 2/21/20 & 2/22/20 & 2/23/20 & 2/24/20 & 2/25/20 & 2/26/20 & 2/27/20 & 2/28/20 & 2/29/20 & 3/1/20 & 3/2/20 & 3/3/20 & 3/4/20 & 3/5/20 & 3/6/20 & 3/7/20 & 3/8/20 & 3/9/20 & 3/10/20 & 3/11/20 & 3/12/20 & 3/13/20 & 3/14/20 & 3/15/20 & 3/16/20 & 3/17/20 & 3/18/20 & 3/19/20 & 3/20/20 & 3/21/20 & 3/22/20 & 3/23/20 & 3/24/20 & 3/25/20 & 3/26/20 & 3/27/20 & 3/28/20 & 3/29/20 & 3/30/20 & 3/31/20 & 4/1/20 & 4/2/20 & 4/3/20 & 4/4/20 & 4/5/20 & 4/6/20 & 4/7/20 & 4/8/20 & 4/9/20 & 4/10/20 & 4/11/20 & 4/12/20 & 4/13/20 & 4/14/20 & 4/15/20 & 4/16/20 & 4/17/20 & 4/18/20 & 4/19/20 & 4/20/20 & 4/21/20 & 4/22/20 & 4/23/20 & 4/24/20 & 4/25/20 & 4/26/20 & 4/27/20 & 4/28/20\\\\\n",
       " <chr> & <chr> & <dbl> & <dbl> & <dbl> & <dbl> & <dbl> & <dbl> & <dbl> & <dbl> & <dbl> & <dbl> & <dbl> & <dbl> & <dbl> & <dbl> & <dbl> & <dbl> & <dbl> & <dbl> & <dbl> & <dbl> & <dbl> & <dbl> & <dbl> & <dbl> & <dbl> & <dbl> & <dbl> & <dbl> & <dbl> & <dbl> & <dbl> & <dbl> & <dbl> & <dbl> & <dbl> & <dbl> & <dbl> & <dbl> & <dbl> & <dbl> & <dbl> & <dbl> & <dbl> & <dbl> & <dbl> & <dbl> & <dbl> & <dbl> & <dbl> & <dbl> & <dbl> & <dbl> & <dbl> & <dbl> & <dbl> & <dbl> & <dbl> & <dbl> & <dbl> & <dbl> & <dbl> & <dbl> & <dbl> & <dbl> & <dbl> & <dbl> & <dbl> & <dbl> & <dbl> & <dbl> & <dbl> & <dbl> & <dbl> & <dbl> & <dbl> & <dbl> & <dbl> & <dbl> & <dbl> & <dbl> & <dbl> & <dbl> & <dbl> & <dbl> & <dbl> & <dbl> & <dbl> & <dbl> & <dbl> & <dbl> & <dbl> & <dbl> & <dbl> & <dbl> & <dbl> & <dbl> & <dbl> & <dbl> & <dbl> & <dbl>\\\\\n",
       "\\hline\n",
       "\t NA & Afghanistan         &  33.0000 &  65.0000 & 0 & 0 & 0 & 0 & 0 & 0 & 0 & 0 & 0 & 0 & 0 & 0 & 0 & 0 & 0 & 0 & 0 & 0 & 0 & 0 & 0 & 0 & 0 & 0 & 0 & 0 & 0 & 0 & 0 & 0 & 0 & 0 & 0 & 1 & 1 & 1 & 1 & 1 & 1 & 1 & 1 & 1 &  1 &  1 &  1 &  1 &  4 &  4 &  5 &  7 &  7 &  7 & 11 & 16 & 21 & 22 & 22 & 22 & 24 &  24 &  40 &  40 &  74 &  84 &  94 & 110 & 110 & 120 & 170 & 174 & 237 & 273 &  281 &  299 &  349 &  367 &  423 &  444 &  484 &  521 &  555 &  607 &  665 &  714 &  784 &  840 &  906 &  933 &  996 & 1026 & 1092 & 1176 & 1279 & 1351 & 1463 & 1531 & 1703 & 1828\\\\\n",
       "\t NA & Albania             &  41.1533 &  20.1683 & 0 & 0 & 0 & 0 & 0 & 0 & 0 & 0 & 0 & 0 & 0 & 0 & 0 & 0 & 0 & 0 & 0 & 0 & 0 & 0 & 0 & 0 & 0 & 0 & 0 & 0 & 0 & 0 & 0 & 0 & 0 & 0 & 0 & 0 & 0 & 0 & 0 & 0 & 0 & 0 & 0 & 0 &  0 &  0 &  0 &  0 &  0 &  2 & 10 & 12 & 23 & 33 & 38 & 42 & 51 & 55 & 59 & 64 & 70 &  76 &  89 & 104 & 123 & 146 & 174 & 186 & 197 & 212 & 223 & 243 & 259 & 277 &  304 &  333 &  361 &  377 &  383 &  400 &  409 &  416 &  433 &  446 &  467 &  475 &  494 &  518 &  539 &  548 &  562 &  584 &  609 &  634 &  663 &  678 &  712 &  726 &  736 &  750\\\\\n",
       "\t NA & Algeria             &  28.0339 &   1.6596 & 0 & 0 & 0 & 0 & 0 & 0 & 0 & 0 & 0 & 0 & 0 & 0 & 0 & 0 & 0 & 0 & 0 & 0 & 0 & 0 & 0 & 0 & 0 & 0 & 0 & 0 & 0 & 0 & 0 & 0 & 0 & 0 & 0 & 0 & 1 & 1 & 1 & 1 & 1 & 1 & 3 & 5 & 12 & 12 & 17 & 17 & 19 & 20 & 20 & 20 & 24 & 26 & 37 & 48 & 54 & 60 & 74 & 87 & 90 & 139 & 201 & 230 & 264 & 302 & 367 & 409 & 454 & 511 & 584 & 716 & 847 & 986 & 1171 & 1251 & 1320 & 1423 & 1468 & 1572 & 1666 & 1761 & 1825 & 1914 & 1983 & 2070 & 2160 & 2268 & 2418 & 2534 & 2629 & 2718 & 2811 & 2910 & 3007 & 3127 & 3256 & 3382 & 3517 & 3649\\\\\n",
       "\t NA & Andorra             &  42.5063 &   1.5218 & 0 & 0 & 0 & 0 & 0 & 0 & 0 & 0 & 0 & 0 & 0 & 0 & 0 & 0 & 0 & 0 & 0 & 0 & 0 & 0 & 0 & 0 & 0 & 0 & 0 & 0 & 0 & 0 & 0 & 0 & 0 & 0 & 0 & 0 & 0 & 0 & 0 & 0 & 0 & 0 & 1 & 1 &  1 &  1 &  1 &  1 &  1 &  1 &  1 &  1 &  1 &  1 &  1 &  1 &  2 & 39 & 39 & 53 & 75 &  88 & 113 & 133 & 164 & 188 & 224 & 267 & 308 & 334 & 370 & 376 & 390 & 428 &  439 &  466 &  501 &  525 &  545 &  564 &  583 &  601 &  601 &  638 &  646 &  659 &  673 &  673 &  696 &  704 &  713 &  717 &  717 &  723 &  723 &  731 &  738 &  738 &  743 &  743\\\\\n",
       "\t NA & Angola              & -11.2027 &  17.8739 & 0 & 0 & 0 & 0 & 0 & 0 & 0 & 0 & 0 & 0 & 0 & 0 & 0 & 0 & 0 & 0 & 0 & 0 & 0 & 0 & 0 & 0 & 0 & 0 & 0 & 0 & 0 & 0 & 0 & 0 & 0 & 0 & 0 & 0 & 0 & 0 & 0 & 0 & 0 & 0 & 0 & 0 &  0 &  0 &  0 &  0 &  0 &  0 &  0 &  0 &  0 &  0 &  0 &  0 &  0 &  0 &  0 &  0 &  1 &   2 &   2 &   3 &   3 &   3 &   4 &   4 &   5 &   7 &   7 &   7 &   8 &   8 &    8 &   10 &   14 &   16 &   17 &   19 &   19 &   19 &   19 &   19 &   19 &   19 &   19 &   19 &   19 &   24 &   24 &   24 &   24 &   25 &   25 &   25 &   25 &   26 &   27 &   27\\\\\n",
       "\t NA & Antigua and Barbuda &  17.0608 & -61.7964 & 0 & 0 & 0 & 0 & 0 & 0 & 0 & 0 & 0 & 0 & 0 & 0 & 0 & 0 & 0 & 0 & 0 & 0 & 0 & 0 & 0 & 0 & 0 & 0 & 0 & 0 & 0 & 0 & 0 & 0 & 0 & 0 & 0 & 0 & 0 & 0 & 0 & 0 & 0 & 0 & 0 & 0 &  0 &  0 &  0 &  0 &  0 &  0 &  0 &  0 &  0 &  1 &  1 &  1 &  1 &  1 &  1 &  1 &  1 &   1 &   1 &   3 &   3 &   3 &   7 &   7 &   7 &   7 &   7 &   7 &   7 &   9 &   15 &   15 &   15 &   15 &   19 &   19 &   19 &   19 &   21 &   21 &   23 &   23 &   23 &   23 &   23 &   23 &   23 &   23 &   23 &   24 &   24 &   24 &   24 &   24 &   24 &   24\\\\\n",
       "\\end{tabular}\n"
      ],
      "text/markdown": [
       "\n",
       "A tibble: 6 × 102\n",
       "\n",
       "| Province/State &lt;chr&gt; | Country/Region &lt;chr&gt; | Lat &lt;dbl&gt; | Long &lt;dbl&gt; | 1/22/20 &lt;dbl&gt; | 1/23/20 &lt;dbl&gt; | 1/24/20 &lt;dbl&gt; | 1/25/20 &lt;dbl&gt; | 1/26/20 &lt;dbl&gt; | 1/27/20 &lt;dbl&gt; | ... ... | 4/19/20 &lt;dbl&gt; | 4/20/20 &lt;dbl&gt; | 4/21/20 &lt;dbl&gt; | 4/22/20 &lt;dbl&gt; | 4/23/20 &lt;dbl&gt; | 4/24/20 &lt;dbl&gt; | 4/25/20 &lt;dbl&gt; | 4/26/20 &lt;dbl&gt; | 4/27/20 &lt;dbl&gt; | 4/28/20 &lt;dbl&gt; |\n",
       "|---|---|---|---|---|---|---|---|---|---|---|---|---|---|---|---|---|---|---|---|---|\n",
       "| NA | Afghanistan         |  33.0000 |  65.0000 | 0 | 0 | 0 | 0 | 0 | 0 | ... |  996 | 1026 | 1092 | 1176 | 1279 | 1351 | 1463 | 1531 | 1703 | 1828 |\n",
       "| NA | Albania             |  41.1533 |  20.1683 | 0 | 0 | 0 | 0 | 0 | 0 | ... |  562 |  584 |  609 |  634 |  663 |  678 |  712 |  726 |  736 |  750 |\n",
       "| NA | Algeria             |  28.0339 |   1.6596 | 0 | 0 | 0 | 0 | 0 | 0 | ... | 2629 | 2718 | 2811 | 2910 | 3007 | 3127 | 3256 | 3382 | 3517 | 3649 |\n",
       "| NA | Andorra             |  42.5063 |   1.5218 | 0 | 0 | 0 | 0 | 0 | 0 | ... |  713 |  717 |  717 |  723 |  723 |  731 |  738 |  738 |  743 |  743 |\n",
       "| NA | Angola              | -11.2027 |  17.8739 | 0 | 0 | 0 | 0 | 0 | 0 | ... |   24 |   24 |   24 |   25 |   25 |   25 |   25 |   26 |   27 |   27 |\n",
       "| NA | Antigua and Barbuda |  17.0608 | -61.7964 | 0 | 0 | 0 | 0 | 0 | 0 | ... |   23 |   23 |   23 |   24 |   24 |   24 |   24 |   24 |   24 |   24 |\n",
       "\n"
      ],
      "text/plain": [
       "  Province/State Country/Region      Lat      Long     1/22/20 1/23/20 1/24/20\n",
       "1 NA             Afghanistan          33.0000  65.0000 0       0       0      \n",
       "2 NA             Albania              41.1533  20.1683 0       0       0      \n",
       "3 NA             Algeria              28.0339   1.6596 0       0       0      \n",
       "4 NA             Andorra              42.5063   1.5218 0       0       0      \n",
       "5 NA             Angola              -11.2027  17.8739 0       0       0      \n",
       "6 NA             Antigua and Barbuda  17.0608 -61.7964 0       0       0      \n",
       "  1/25/20 1/26/20 1/27/20 ... 4/19/20 4/20/20 4/21/20 4/22/20 4/23/20 4/24/20\n",
       "1 0       0       0       ...  996    1026    1092    1176    1279    1351   \n",
       "2 0       0       0       ...  562     584     609     634     663     678   \n",
       "3 0       0       0       ... 2629    2718    2811    2910    3007    3127   \n",
       "4 0       0       0       ...  713     717     717     723     723     731   \n",
       "5 0       0       0       ...   24      24      24      25      25      25   \n",
       "6 0       0       0       ...   23      23      23      24      24      24   \n",
       "  4/25/20 4/26/20 4/27/20 4/28/20\n",
       "1 1463    1531    1703    1828   \n",
       "2  712     726     736     750   \n",
       "3 3256    3382    3517    3649   \n",
       "4  738     738     743     743   \n",
       "5   25      26      27      27   \n",
       "6   24      24      24      24   "
      ]
     },
     "metadata": {},
     "output_type": "display_data"
    }
   ],
   "source": [
    "head(covid19_confirmed)"
   ]
  },
  {
   "cell_type": "code",
   "execution_count": null,
   "metadata": {},
   "outputs": [],
   "source": [
    "\n",
    "#'\n",
    "#'\n",
    "get_data <- function(label, skip = 4){\n",
    "    read_csv(paste(\"../data/raw_data/\", label, sep = \"\"), skip = skip)\n",
    "}\n",
    "\n",
    "filenames <- fromJSON(file = \"../data/clean_data/filenames.json\")\n",
    "\n",
    "age_65up <- get_data(filenames[\"age_65up\"])\n",
    "age_1564 <- get_data(filenames[\"age_1564\"])\n",
    "air_pollution <- get_data(filenames[\"air_pollution\"])\n",
    "medical_bed <- get_data(filenames[\"medical_bed\"])\n",
    "physicians <- get_data(filenames[\"physicians\"])\n",
    "nurses_midwives <- get_data(filenames[\"nurses_midwives\"])\n",
    "population_density <- get_data(filenames[\"population_density\"])\n",
    "population_total <- get_data(filenames[\"population_total\"])\n",
    "smoking <- get_data(filenames[\"smoking\"])"
   ]
  },
  {
   "cell_type": "code",
   "execution_count": null,
   "metadata": {},
   "outputs": [],
   "source": [
    "head(age_65up)\n",
    "head(age_1564)\n",
    "head(air_pollution)\n",
    "head(medical_bed)\n",
    "head(physicians)\n",
    "head(nurses_midwives)\n",
    "head(population_density)\n",
    "head(population_total)\n",
    "head(smoking)"
   ]
  },
  {
   "cell_type": "code",
   "execution_count": 9,
   "metadata": {},
   "outputs": [
    {
     "data": {
      "text/html": [
       "<table>\n",
       "<caption>A tibble: 6 × 36</caption>\n",
       "<thead>\n",
       "\t<tr><th scope=col>CountryName</th><th scope=col>CountryCode</th><th scope=col>Date</th><th scope=col>C1_School closing</th><th scope=col>C1_Flag</th><th scope=col>C2_Workplace closing</th><th scope=col>C2_Flag</th><th scope=col>C3_Cancel public events</th><th scope=col>C3_Flag</th><th scope=col>C4_Restrictions on gatherings</th><th scope=col>...</th><th scope=col>H3_Contact tracing</th><th scope=col>H4_Emergency investment in healthcare</th><th scope=col>H5_Investment in vaccines</th><th scope=col>M1_Wildcard</th><th scope=col>ConfirmedCases</th><th scope=col>ConfirmedDeaths</th><th scope=col>StringencyIndex</th><th scope=col>StringencyIndexForDisplay</th><th scope=col>LegacyStringencyIndex</th><th scope=col>LegacyStringencyIndexForDisplay</th></tr>\n",
       "\t<tr><th scope=col>&lt;chr&gt;</th><th scope=col>&lt;chr&gt;</th><th scope=col>&lt;dbl&gt;</th><th scope=col>&lt;dbl&gt;</th><th scope=col>&lt;lgl&gt;</th><th scope=col>&lt;dbl&gt;</th><th scope=col>&lt;lgl&gt;</th><th scope=col>&lt;dbl&gt;</th><th scope=col>&lt;lgl&gt;</th><th scope=col>&lt;dbl&gt;</th><th scope=col>...</th><th scope=col>&lt;dbl&gt;</th><th scope=col>&lt;dbl&gt;</th><th scope=col>&lt;dbl&gt;</th><th scope=col>&lt;lgl&gt;</th><th scope=col>&lt;dbl&gt;</th><th scope=col>&lt;dbl&gt;</th><th scope=col>&lt;dbl&gt;</th><th scope=col>&lt;dbl&gt;</th><th scope=col>&lt;dbl&gt;</th><th scope=col>&lt;dbl&gt;</th></tr>\n",
       "</thead>\n",
       "<tbody>\n",
       "\t<tr><td>Aruba               </td><td>ABW</td><td>20200101</td><td>0</td><td>NA</td><td>0</td><td>NA</td><td>0</td><td>NA</td><td> 0</td><td>...</td><td> 0</td><td> 0</td><td> 0</td><td>NA</td><td>NA</td><td>NA</td><td>0</td><td>0</td><td>0</td><td>0</td></tr>\n",
       "\t<tr><td>Afghanistan         </td><td>AFG</td><td>20200101</td><td>0</td><td>NA</td><td>0</td><td>NA</td><td>0</td><td>NA</td><td>NA</td><td>...</td><td> 0</td><td> 0</td><td> 0</td><td>NA</td><td> 0</td><td> 0</td><td>0</td><td>0</td><td>0</td><td>0</td></tr>\n",
       "\t<tr><td>Angola              </td><td>AGO</td><td>20200101</td><td>0</td><td>NA</td><td>0</td><td>NA</td><td>0</td><td>NA</td><td> 0</td><td>...</td><td> 0</td><td> 0</td><td> 0</td><td>NA</td><td>NA</td><td>NA</td><td>0</td><td>0</td><td>0</td><td>0</td></tr>\n",
       "\t<tr><td>Albania             </td><td>ALB</td><td>20200101</td><td>0</td><td>NA</td><td>0</td><td>NA</td><td>0</td><td>NA</td><td>NA</td><td>...</td><td> 0</td><td> 0</td><td> 0</td><td>NA</td><td>NA</td><td>NA</td><td>0</td><td>0</td><td>0</td><td>0</td></tr>\n",
       "\t<tr><td>Andorra             </td><td>AND</td><td>20200101</td><td>0</td><td>NA</td><td>0</td><td>NA</td><td>0</td><td>NA</td><td>NA</td><td>...</td><td> 0</td><td> 0</td><td> 0</td><td>NA</td><td>NA</td><td>NA</td><td>0</td><td>0</td><td>0</td><td>0</td></tr>\n",
       "\t<tr><td>United Arab Emirates</td><td>ARE</td><td>20200101</td><td>0</td><td>NA</td><td>0</td><td>NA</td><td>0</td><td>NA</td><td>NA</td><td>...</td><td>NA</td><td>NA</td><td>NA</td><td>NA</td><td> 0</td><td> 0</td><td>0</td><td>0</td><td>0</td><td>0</td></tr>\n",
       "</tbody>\n",
       "</table>\n"
      ],
      "text/latex": [
       "A tibble: 6 × 36\n",
       "\\begin{tabular}{r|llllllllllllllllllllllllllllllllllll}\n",
       " CountryName & CountryCode & Date & C1\\_School closing & C1\\_Flag & C2\\_Workplace closing & C2\\_Flag & C3\\_Cancel public events & C3\\_Flag & C4\\_Restrictions on gatherings & C4\\_Flag & C5\\_Close public transport & C5\\_Flag & C6\\_Stay at home requirements & C6\\_Flag & C7\\_Restrictions on internal movement & C7\\_Flag & C8\\_International travel controls & E1\\_Income support & E1\\_Flag & E2\\_Debt/contract relief & E3\\_Fiscal measures & E4\\_International support & H1\\_Public information campaigns & H1\\_Flag & H2\\_Testing policy & H3\\_Contact tracing & H4\\_Emergency investment in healthcare & H5\\_Investment in vaccines & M1\\_Wildcard & ConfirmedCases & ConfirmedDeaths & StringencyIndex & StringencyIndexForDisplay & LegacyStringencyIndex & LegacyStringencyIndexForDisplay\\\\\n",
       " <chr> & <chr> & <dbl> & <dbl> & <lgl> & <dbl> & <lgl> & <dbl> & <lgl> & <dbl> & <lgl> & <dbl> & <dbl> & <dbl> & <lgl> & <dbl> & <lgl> & <dbl> & <dbl> & <lgl> & <dbl> & <dbl> & <dbl> & <dbl> & <dbl> & <dbl> & <dbl> & <dbl> & <dbl> & <lgl> & <dbl> & <dbl> & <dbl> & <dbl> & <dbl> & <dbl>\\\\\n",
       "\\hline\n",
       "\t Aruba                & ABW & 20200101 & 0 & NA & 0 & NA & 0 & NA &  0 & NA & 0 & NA &  0 & NA & 0 & NA & 0 & NA & NA & NA & 0 & NA & 0 & NA & 0 &  0 &  0 &  0 & NA & NA & NA & 0 & 0 & 0 & 0\\\\\n",
       "\t Afghanistan          & AFG & 20200101 & 0 & NA & 0 & NA & 0 & NA & NA & NA & 0 & NA & NA & NA & 0 & NA & 0 & NA & NA & NA & 0 & NA & 0 & NA & 0 &  0 &  0 &  0 & NA &  0 &  0 & 0 & 0 & 0 & 0\\\\\n",
       "\t Angola               & AGO & 20200101 & 0 & NA & 0 & NA & 0 & NA &  0 & NA & 0 & NA &  0 & NA & 0 & NA & 0 & NA & NA & NA & 0 & NA & 0 & NA & 0 &  0 &  0 &  0 & NA & NA & NA & 0 & 0 & 0 & 0\\\\\n",
       "\t Albania              & ALB & 20200101 & 0 & NA & 0 & NA & 0 & NA & NA & NA & 0 & NA & NA & NA & 0 & NA & 0 & NA & NA & NA & 0 & NA & 0 & NA & 0 &  0 &  0 &  0 & NA & NA & NA & 0 & 0 & 0 & 0\\\\\n",
       "\t Andorra              & AND & 20200101 & 0 & NA & 0 & NA & 0 & NA & NA & NA & 0 & NA & NA & NA & 0 & NA & 0 & NA & NA & NA & 0 & NA & 0 & NA & 0 &  0 &  0 &  0 & NA & NA & NA & 0 & 0 & 0 & 0\\\\\n",
       "\t United Arab Emirates & ARE & 20200101 & 0 & NA & 0 & NA & 0 & NA & NA & NA & 0 & NA & NA & NA & 0 & NA & 0 & NA & NA & NA & 0 & NA & 0 & NA & 0 & NA & NA & NA & NA &  0 &  0 & 0 & 0 & 0 & 0\\\\\n",
       "\\end{tabular}\n"
      ],
      "text/markdown": [
       "\n",
       "A tibble: 6 × 36\n",
       "\n",
       "| CountryName &lt;chr&gt; | CountryCode &lt;chr&gt; | Date &lt;dbl&gt; | C1_School closing &lt;dbl&gt; | C1_Flag &lt;lgl&gt; | C2_Workplace closing &lt;dbl&gt; | C2_Flag &lt;lgl&gt; | C3_Cancel public events &lt;dbl&gt; | C3_Flag &lt;lgl&gt; | C4_Restrictions on gatherings &lt;dbl&gt; | ... ... | H3_Contact tracing &lt;dbl&gt; | H4_Emergency investment in healthcare &lt;dbl&gt; | H5_Investment in vaccines &lt;dbl&gt; | M1_Wildcard &lt;lgl&gt; | ConfirmedCases &lt;dbl&gt; | ConfirmedDeaths &lt;dbl&gt; | StringencyIndex &lt;dbl&gt; | StringencyIndexForDisplay &lt;dbl&gt; | LegacyStringencyIndex &lt;dbl&gt; | LegacyStringencyIndexForDisplay &lt;dbl&gt; |\n",
       "|---|---|---|---|---|---|---|---|---|---|---|---|---|---|---|---|---|---|---|---|---|\n",
       "| Aruba                | ABW | 20200101 | 0 | NA | 0 | NA | 0 | NA |  0 | ... |  0 |  0 |  0 | NA | NA | NA | 0 | 0 | 0 | 0 |\n",
       "| Afghanistan          | AFG | 20200101 | 0 | NA | 0 | NA | 0 | NA | NA | ... |  0 |  0 |  0 | NA |  0 |  0 | 0 | 0 | 0 | 0 |\n",
       "| Angola               | AGO | 20200101 | 0 | NA | 0 | NA | 0 | NA |  0 | ... |  0 |  0 |  0 | NA | NA | NA | 0 | 0 | 0 | 0 |\n",
       "| Albania              | ALB | 20200101 | 0 | NA | 0 | NA | 0 | NA | NA | ... |  0 |  0 |  0 | NA | NA | NA | 0 | 0 | 0 | 0 |\n",
       "| Andorra              | AND | 20200101 | 0 | NA | 0 | NA | 0 | NA | NA | ... |  0 |  0 |  0 | NA | NA | NA | 0 | 0 | 0 | 0 |\n",
       "| United Arab Emirates | ARE | 20200101 | 0 | NA | 0 | NA | 0 | NA | NA | ... | NA | NA | NA | NA |  0 |  0 | 0 | 0 | 0 | 0 |\n",
       "\n"
      ],
      "text/plain": [
       "  CountryName          CountryCode Date     C1_School closing C1_Flag\n",
       "1 Aruba                ABW         20200101 0                 NA     \n",
       "2 Afghanistan          AFG         20200101 0                 NA     \n",
       "3 Angola               AGO         20200101 0                 NA     \n",
       "4 Albania              ALB         20200101 0                 NA     \n",
       "5 Andorra              AND         20200101 0                 NA     \n",
       "6 United Arab Emirates ARE         20200101 0                 NA     \n",
       "  C2_Workplace closing C2_Flag C3_Cancel public events C3_Flag\n",
       "1 0                    NA      0                       NA     \n",
       "2 0                    NA      0                       NA     \n",
       "3 0                    NA      0                       NA     \n",
       "4 0                    NA      0                       NA     \n",
       "5 0                    NA      0                       NA     \n",
       "6 0                    NA      0                       NA     \n",
       "  C4_Restrictions on gatherings ... H3_Contact tracing\n",
       "1  0                            ...  0                \n",
       "2 NA                            ...  0                \n",
       "3  0                            ...  0                \n",
       "4 NA                            ...  0                \n",
       "5 NA                            ...  0                \n",
       "6 NA                            ... NA                \n",
       "  H4_Emergency investment in healthcare H5_Investment in vaccines M1_Wildcard\n",
       "1  0                                     0                        NA         \n",
       "2  0                                     0                        NA         \n",
       "3  0                                     0                        NA         \n",
       "4  0                                     0                        NA         \n",
       "5  0                                     0                        NA         \n",
       "6 NA                                    NA                        NA         \n",
       "  ConfirmedCases ConfirmedDeaths StringencyIndex StringencyIndexForDisplay\n",
       "1 NA             NA              0               0                        \n",
       "2  0              0              0               0                        \n",
       "3 NA             NA              0               0                        \n",
       "4 NA             NA              0               0                        \n",
       "5 NA             NA              0               0                        \n",
       "6  0              0              0               0                        \n",
       "  LegacyStringencyIndex LegacyStringencyIndexForDisplay\n",
       "1 0                     0                              \n",
       "2 0                     0                              \n",
       "3 0                     0                              \n",
       "4 0                     0                              \n",
       "5 0                     0                              \n",
       "6 0                     0                              "
      ]
     },
     "metadata": {},
     "output_type": "display_data"
    }
   ],
   "source": [
    "head(gov_resp)"
   ]
  },
  {
   "cell_type": "markdown",
   "metadata": {},
   "source": [
    "## 3. Explore the dataset"
   ]
  },
  {
   "cell_type": "code",
   "execution_count": 10,
   "metadata": {},
   "outputs": [
    {
     "data": {
      "text/html": [
       "<ol class=list-inline>\n",
       "\t<li>264</li>\n",
       "\t<li>102</li>\n",
       "</ol>\n"
      ],
      "text/latex": [
       "\\begin{enumerate*}\n",
       "\\item 264\n",
       "\\item 102\n",
       "\\end{enumerate*}\n"
      ],
      "text/markdown": [
       "1. 264\n",
       "2. 102\n",
       "\n",
       "\n"
      ],
      "text/plain": [
       "[1] 264 102"
      ]
     },
     "metadata": {},
     "output_type": "display_data"
    }
   ],
   "source": [
    "dim(covid19_confirmed)"
   ]
  },
  {
   "cell_type": "code",
   "execution_count": 11,
   "metadata": {},
   "outputs": [
    {
     "data": {
      "text/html": [
       "'4/28/20'"
      ],
      "text/latex": [
       "'4/28/20'"
      ],
      "text/markdown": [
       "'4/28/20'"
      ],
      "text/plain": [
       "[1] \"4/28/20\""
      ]
     },
     "metadata": {},
     "output_type": "display_data"
    }
   ],
   "source": [
    "colnames(covid19_confirmed)[length(covid19_confirmed)]"
   ]
  },
  {
   "cell_type": "code",
   "execution_count": 12,
   "metadata": {},
   "outputs": [
    {
     "data": {
      "text/html": [
       "<ol class=list-inline>\n",
       "\t<li>264</li>\n",
       "\t<li>102</li>\n",
       "</ol>\n"
      ],
      "text/latex": [
       "\\begin{enumerate*}\n",
       "\\item 264\n",
       "\\item 102\n",
       "\\end{enumerate*}\n"
      ],
      "text/markdown": [
       "1. 264\n",
       "2. 102\n",
       "\n",
       "\n"
      ],
      "text/plain": [
       "[1] 264 102"
      ]
     },
     "metadata": {},
     "output_type": "display_data"
    }
   ],
   "source": [
    "dim(covid19_death)"
   ]
  },
  {
   "cell_type": "code",
   "execution_count": 13,
   "metadata": {},
   "outputs": [
    {
     "data": {
      "text/html": [
       "'4/28/20'"
      ],
      "text/latex": [
       "'4/28/20'"
      ],
      "text/markdown": [
       "'4/28/20'"
      ],
      "text/plain": [
       "[1] \"4/28/20\""
      ]
     },
     "metadata": {},
     "output_type": "display_data"
    }
   ],
   "source": [
    "colnames(covid19_death)[length(covid19_death)]"
   ]
  },
  {
   "cell_type": "code",
   "execution_count": 14,
   "metadata": {},
   "outputs": [
    {
     "data": {
      "text/html": [
       "151"
      ],
      "text/latex": [
       "151"
      ],
      "text/markdown": [
       "151"
      ],
      "text/plain": [
       "[1] 151"
      ]
     },
     "metadata": {},
     "output_type": "display_data"
    }
   ],
   "source": [
    "length(unique(gov_resp$CountryName))"
   ]
  },
  {
   "cell_type": "code",
   "execution_count": 15,
   "metadata": {},
   "outputs": [],
   "source": [
    "test_that(\"Column names of covid19_confirmed and covid19_death should be the same.\",\n",
    "          {expect_true(all(colnames(covid19_confirmed) == colnames(covid19_death)))\n",
    "          })"
   ]
  },
  {
   "cell_type": "code",
   "execution_count": 16,
   "metadata": {},
   "outputs": [],
   "source": [
    "test_that(\"The country column of covid19_confirmed and covid19_death should be the same.\",\n",
    "          {expect_true(all(covid19_confirmed[2] == covid19_death[2]))\n",
    "          })"
   ]
  },
  {
   "cell_type": "code",
   "execution_count": 17,
   "metadata": {},
   "outputs": [],
   "source": [
    "test_that(\"The last column of covid19_confirmed should not have missing values.\",\n",
    "          {expect_true(all(!is.na(covid19_confirmed[length(covid19_confirmed)])))\n",
    "          })"
   ]
  },
  {
   "cell_type": "code",
   "execution_count": 18,
   "metadata": {},
   "outputs": [],
   "source": [
    "test_that(\"The last column of covid19_death should not have missing values.\",\n",
    "          {expect_true(all(!is.na(covid19_death[length(covid19_death)])))\n",
    "          })"
   ]
  },
  {
   "cell_type": "markdown",
   "metadata": {},
   "source": [
    "## 4. Initial thoughts\n"
   ]
  },
  {
   "cell_type": "markdown",
   "metadata": {},
   "source": [
    "## 5. Wrangling"
   ]
  },
  {
   "cell_type": "code",
   "execution_count": 19,
   "metadata": {},
   "outputs": [],
   "source": [
    "#'\n",
    "#'\n",
    "clean_data <- function(df, name){\n",
    "    colnames(df)[1] <- 'country' \n",
    "    ret <- df[c(-2, -3, -4)] %>%\n",
    "        gather(year, {{name}}, -country) %>%\n",
    "        drop_na() %>%\n",
    "        group_by(country) %>%\n",
    "        top_n(1, year) %>%\n",
    "        ungroup() %>%\n",
    "        mutate(country = case_when(country == 'Bahamas, The' ~ 'Bahamas',\n",
    "                                   country == 'Brunei Darussalam' ~ 'Brunei',\n",
    "                                   country == 'Egypt, Arab Rep.' ~ 'Egypt',\n",
    "                                   country == 'Gambia, The' ~ 'Gambia',\n",
    "                                   country == 'Iran, Islamic Rep.' ~ 'Iran',\n",
    "                                   country == 'Korea, Dem. People’s Rep.' ~ 'South Korea',\n",
    "                                   country == 'Czech Republic' ~ 'Czechia',\n",
    "                                   country == 'Lao PDR' ~ 'Laos',\n",
    "                                   country == 'Russian Federation' ~ 'Russia',\n",
    "                                   country == 'St. Lucia' ~ 'Saint Lucia',\n",
    "                                   country == 'St. Vincent and the Grenadines' ~ 'Saint Vincent and the Grenadines',\n",
    "                                   country == 'Slovak Republic' ~ 'Slovakia',\n",
    "                                   country == 'Syrian Arab Republic' ~ 'Syria',\n",
    "                                   country == 'Venezuela, RB' ~ 'Venezuela',\n",
    "                                   country == 'Sub-Saharan Africa' ~ 'Western Sahara',\n",
    "                                   country == 'Yemen, Rep.' ~ 'Yemen',\n",
    "                                   TRUE ~ country))\n",
    "    colnames(ret)[2] <- paste(\"year_\", name, sep=\"\")\n",
    "    ret\n",
    "}"
   ]
  },
  {
   "cell_type": "code",
   "execution_count": 20,
   "metadata": {},
   "outputs": [],
   "source": [
    "age_65up <- clean_data(age_65up, \"age_65up\")\n",
    "age_1564 <- clean_data(age_1564, \"age_1564\")\n",
    "air_pollution <- clean_data(air_pollution, \"air_pollution\")\n",
    "medical_bed <- clean_data(medical_bed, \"med_bed\")\n",
    "physicians <- clean_data(physicians, \"physicians\")\n",
    "nurses_midwives <- clean_data(nurses_midwives, \"nurses_midwives\")\n",
    "population_density <- clean_data(population_density, \"pop_density\")\n",
    "population_total <- clean_data(population_total, \"pop_total\")\n",
    "smoking <- clean_data(smoking, \"smoking\")"
   ]
  },
  {
   "cell_type": "code",
   "execution_count": 21,
   "metadata": {},
   "outputs": [],
   "source": [
    "write_csv(age_65up, \"../data/clean_data/age_65up_clean.csv\")\n",
    "write_csv(age_1564, \"../data/clean_data/age_1564_clean.csv\")\n",
    "write_csv(air_pollution, \"../data/clean_data/air_pollution_clean.csv\")\n",
    "write_csv(medical_bed, \"../data/clean_data/medical_bed_clean.csv\")\n",
    "write_csv(physicians, \"../data/clean_data/physicians_clean.csv\")\n",
    "write_csv(nurses_midwives, \"../data/clean_data/nurses_midwives.csv\")\n",
    "write_csv(population_density, \"../data/clean_data/population_density_clean.csv\")\n",
    "write_csv(population_total, \"../data/clean_data/population_total_clean.csv\")\n",
    "write_csv(smoking, \"../data/clean_data/smoking_clean.csv\")"
   ]
  },
  {
   "cell_type": "code",
   "execution_count": null,
   "metadata": {},
   "outputs": [],
   "source": [
    "age_65up <- read_csv(\"../data/clean_data/age_65up_clean.csv\")\n",
    "age_1564 <- read_csv(\"../data/clean_data/age_1564_clean.csv\")\n",
    "air_pollution <- read_csv(\"../data/clean_data/air_pollution_clean.csv\")\n",
    "medical_bed <- read_csv(\"../data/clean_data/medical_bed_clean.csv\")\n",
    "physicians <- read_csv(\"../data/clean_data/physicians_clean.csv\")\n",
    "nurses_midwives <- read_csv(\"../data/clean_data/nurses_midwives.csv\")\n",
    "population_density <- read_csv(\"../data/clean_data/population_density_clean.csv\")\n",
    "population_total <- read_csv(\"../data/clean_data/population_total_clean.csv\")\n",
    "smoking <- read_csv(\"../data/clean_data/smoking_clean.csv\")"
   ]
  },
  {
   "cell_type": "code",
   "execution_count": 23,
   "metadata": {},
   "outputs": [
    {
     "data": {
      "text/html": [
       "<ol class=list-inline>\n",
       "\t<li>240</li>\n",
       "\t<li>3</li>\n",
       "</ol>\n"
      ],
      "text/latex": [
       "\\begin{enumerate*}\n",
       "\\item 240\n",
       "\\item 3\n",
       "\\end{enumerate*}\n"
      ],
      "text/markdown": [
       "1. 240\n",
       "2. 3\n",
       "\n",
       "\n"
      ],
      "text/plain": [
       "[1] 240   3"
      ]
     },
     "metadata": {},
     "output_type": "display_data"
    },
    {
     "data": {
      "text/html": [
       "<ol class=list-inline>\n",
       "\t<li>240</li>\n",
       "\t<li>3</li>\n",
       "</ol>\n"
      ],
      "text/latex": [
       "\\begin{enumerate*}\n",
       "\\item 240\n",
       "\\item 3\n",
       "\\end{enumerate*}\n"
      ],
      "text/markdown": [
       "1. 240\n",
       "2. 3\n",
       "\n",
       "\n"
      ],
      "text/plain": [
       "[1] 240   3"
      ]
     },
     "metadata": {},
     "output_type": "display_data"
    },
    {
     "data": {
      "text/html": [
       "<ol class=list-inline>\n",
       "\t<li>240</li>\n",
       "\t<li>3</li>\n",
       "</ol>\n"
      ],
      "text/latex": [
       "\\begin{enumerate*}\n",
       "\\item 240\n",
       "\\item 3\n",
       "\\end{enumerate*}\n"
      ],
      "text/markdown": [
       "1. 240\n",
       "2. 3\n",
       "\n",
       "\n"
      ],
      "text/plain": [
       "[1] 240   3"
      ]
     },
     "metadata": {},
     "output_type": "display_data"
    },
    {
     "data": {
      "text/html": [
       "<ol class=list-inline>\n",
       "\t<li>246</li>\n",
       "\t<li>3</li>\n",
       "</ol>\n"
      ],
      "text/latex": [
       "\\begin{enumerate*}\n",
       "\\item 246\n",
       "\\item 3\n",
       "\\end{enumerate*}\n"
      ],
      "text/markdown": [
       "1. 246\n",
       "2. 3\n",
       "\n",
       "\n"
      ],
      "text/plain": [
       "[1] 246   3"
      ]
     },
     "metadata": {},
     "output_type": "display_data"
    },
    {
     "data": {
      "text/html": [
       "<ol class=list-inline>\n",
       "\t<li>253</li>\n",
       "\t<li>3</li>\n",
       "</ol>\n"
      ],
      "text/latex": [
       "\\begin{enumerate*}\n",
       "\\item 253\n",
       "\\item 3\n",
       "\\end{enumerate*}\n"
      ],
      "text/markdown": [
       "1. 253\n",
       "2. 3\n",
       "\n",
       "\n"
      ],
      "text/plain": [
       "[1] 253   3"
      ]
     },
     "metadata": {},
     "output_type": "display_data"
    },
    {
     "data": {
      "text/html": [
       "<ol class=list-inline>\n",
       "\t<li>238</li>\n",
       "\t<li>3</li>\n",
       "</ol>\n"
      ],
      "text/latex": [
       "\\begin{enumerate*}\n",
       "\\item 238\n",
       "\\item 3\n",
       "\\end{enumerate*}\n"
      ],
      "text/markdown": [
       "1. 238\n",
       "2. 3\n",
       "\n",
       "\n"
      ],
      "text/plain": [
       "[1] 238   3"
      ]
     },
     "metadata": {},
     "output_type": "display_data"
    },
    {
     "data": {
      "text/html": [
       "<ol class=list-inline>\n",
       "\t<li>261</li>\n",
       "\t<li>3</li>\n",
       "</ol>\n"
      ],
      "text/latex": [
       "\\begin{enumerate*}\n",
       "\\item 261\n",
       "\\item 3\n",
       "\\end{enumerate*}\n"
      ],
      "text/markdown": [
       "1. 261\n",
       "2. 3\n",
       "\n",
       "\n"
      ],
      "text/plain": [
       "[1] 261   3"
      ]
     },
     "metadata": {},
     "output_type": "display_data"
    },
    {
     "data": {
      "text/html": [
       "<ol class=list-inline>\n",
       "\t<li>263</li>\n",
       "\t<li>3</li>\n",
       "</ol>\n"
      ],
      "text/latex": [
       "\\begin{enumerate*}\n",
       "\\item 263\n",
       "\\item 3\n",
       "\\end{enumerate*}\n"
      ],
      "text/markdown": [
       "1. 263\n",
       "2. 3\n",
       "\n",
       "\n"
      ],
      "text/plain": [
       "[1] 263   3"
      ]
     },
     "metadata": {},
     "output_type": "display_data"
    },
    {
     "data": {
      "text/html": [
       "<ol class=list-inline>\n",
       "\t<li>187</li>\n",
       "\t<li>3</li>\n",
       "</ol>\n"
      ],
      "text/latex": [
       "\\begin{enumerate*}\n",
       "\\item 187\n",
       "\\item 3\n",
       "\\end{enumerate*}\n"
      ],
      "text/markdown": [
       "1. 187\n",
       "2. 3\n",
       "\n",
       "\n"
      ],
      "text/plain": [
       "[1] 187   3"
      ]
     },
     "metadata": {},
     "output_type": "display_data"
    }
   ],
   "source": [
    "dim(age_65up)\n",
    "dim(age_1564)\n",
    "dim(air_pollution)\n",
    "dim(medical_bed)\n",
    "dim(physicians)\n",
    "dim(nurses_midwives)\n",
    "dim(population_density)\n",
    "dim(population_total)\n",
    "dim(smoking)"
   ]
  },
  {
   "cell_type": "code",
   "execution_count": 24,
   "metadata": {},
   "outputs": [],
   "source": [
    "df_list <- list(population_total, age_65up, age_1564, air_pollution, medical_bed, \n",
    "                physicians, nurses_midwives, population_density, smoking)\n",
    "country_data <- Reduce(function(left, right) merge(left, right, all = TRUE), df_list)"
   ]
  },
  {
   "cell_type": "code",
   "execution_count": 25,
   "metadata": {},
   "outputs": [
    {
     "data": {
      "text/html": [
       "<table>\n",
       "<caption>A data.frame: 6 × 19</caption>\n",
       "<thead>\n",
       "\t<tr><th scope=col>country</th><th scope=col>year_pop_total</th><th scope=col>pop_total</th><th scope=col>year_age_65up</th><th scope=col>age_65up</th><th scope=col>year_age_1564</th><th scope=col>age_1564</th><th scope=col>year_air_pollution</th><th scope=col>air_pollution</th><th scope=col>year_med_bed</th><th scope=col>med_bed</th><th scope=col>year_physicians</th><th scope=col>physicians</th><th scope=col>year_nurses_midwives</th><th scope=col>nurses_midwives</th><th scope=col>year_pop_density</th><th scope=col>pop_density</th><th scope=col>year_smoking</th><th scope=col>smoking</th></tr>\n",
       "\t<tr><th scope=col>&lt;chr&gt;</th><th scope=col>&lt;dbl&gt;</th><th scope=col>&lt;dbl&gt;</th><th scope=col>&lt;dbl&gt;</th><th scope=col>&lt;dbl&gt;</th><th scope=col>&lt;dbl&gt;</th><th scope=col>&lt;dbl&gt;</th><th scope=col>&lt;dbl&gt;</th><th scope=col>&lt;dbl&gt;</th><th scope=col>&lt;dbl&gt;</th><th scope=col>&lt;dbl&gt;</th><th scope=col>&lt;dbl&gt;</th><th scope=col>&lt;dbl&gt;</th><th scope=col>&lt;dbl&gt;</th><th scope=col>&lt;dbl&gt;</th><th scope=col>&lt;dbl&gt;</th><th scope=col>&lt;dbl&gt;</th><th scope=col>&lt;dbl&gt;</th><th scope=col>&lt;dbl&gt;</th></tr>\n",
       "</thead>\n",
       "<tbody>\n",
       "\t<tr><td>Afghanistan   </td><td>2018</td><td>37172386</td><td>2018</td><td> 2.584927</td><td>2018</td><td>54.32490</td><td>2017</td><td>56.91081</td><td>2015</td><td>0.5</td><td>2016</td><td>0.2840</td><td>2014</td><td>0.3200</td><td>2018</td><td> 56.93776</td><td>  NA</td><td>  NA</td></tr>\n",
       "\t<tr><td>Albania       </td><td>2018</td><td> 2866376</td><td>2018</td><td>13.744736</td><td>2018</td><td>68.58239</td><td>2017</td><td>18.20060</td><td>2013</td><td>2.9</td><td>2016</td><td>1.1998</td><td>2016</td><td>3.5998</td><td>2018</td><td>104.61226</td><td>2016</td><td>28.7</td></tr>\n",
       "\t<tr><td>Algeria       </td><td>2018</td><td>42228429</td><td>2018</td><td> 6.362497</td><td>2018</td><td>63.48882</td><td>2017</td><td>38.88401</td><td>2015</td><td>1.9</td><td>2016</td><td>1.8300</td><td>2016</td><td>2.2400</td><td>2018</td><td> 17.73008</td><td>2016</td><td>15.6</td></tr>\n",
       "\t<tr><td>American Samoa</td><td>2018</td><td>   55465</td><td>  NA</td><td>       NA</td><td>  NA</td><td>      NA</td><td>2017</td><td>12.47382</td><td>  NA</td><td> NA</td><td>1999</td><td>0.7810</td><td>  NA</td><td>    NA</td><td>2018</td><td>277.32500</td><td>  NA</td><td>  NA</td></tr>\n",
       "\t<tr><td>Andorra       </td><td>2018</td><td>   77006</td><td>  NA</td><td>       NA</td><td>  NA</td><td>      NA</td><td>2017</td><td>10.30762</td><td>2009</td><td>2.5</td><td>2015</td><td>3.3333</td><td>2015</td><td>4.0128</td><td>2018</td><td>163.84255</td><td>2016</td><td>33.5</td></tr>\n",
       "\t<tr><td>Angola        </td><td>2018</td><td>30809762</td><td>2018</td><td> 2.216374</td><td>2018</td><td>50.97470</td><td>2017</td><td>32.38850</td><td>2005</td><td>0.8</td><td>2017</td><td>0.2149</td><td>2009</td><td>1.3123</td><td>2018</td><td> 24.71305</td><td>  NA</td><td>  NA</td></tr>\n",
       "</tbody>\n",
       "</table>\n"
      ],
      "text/latex": [
       "A data.frame: 6 × 19\n",
       "\\begin{tabular}{r|lllllllllllllllllll}\n",
       " country & year\\_pop\\_total & pop\\_total & year\\_age\\_65up & age\\_65up & year\\_age\\_1564 & age\\_1564 & year\\_air\\_pollution & air\\_pollution & year\\_med\\_bed & med\\_bed & year\\_physicians & physicians & year\\_nurses\\_midwives & nurses\\_midwives & year\\_pop\\_density & pop\\_density & year\\_smoking & smoking\\\\\n",
       " <chr> & <dbl> & <dbl> & <dbl> & <dbl> & <dbl> & <dbl> & <dbl> & <dbl> & <dbl> & <dbl> & <dbl> & <dbl> & <dbl> & <dbl> & <dbl> & <dbl> & <dbl> & <dbl>\\\\\n",
       "\\hline\n",
       "\t Afghanistan    & 2018 & 37172386 & 2018 &  2.584927 & 2018 & 54.32490 & 2017 & 56.91081 & 2015 & 0.5 & 2016 & 0.2840 & 2014 & 0.3200 & 2018 &  56.93776 &   NA &   NA\\\\\n",
       "\t Albania        & 2018 &  2866376 & 2018 & 13.744736 & 2018 & 68.58239 & 2017 & 18.20060 & 2013 & 2.9 & 2016 & 1.1998 & 2016 & 3.5998 & 2018 & 104.61226 & 2016 & 28.7\\\\\n",
       "\t Algeria        & 2018 & 42228429 & 2018 &  6.362497 & 2018 & 63.48882 & 2017 & 38.88401 & 2015 & 1.9 & 2016 & 1.8300 & 2016 & 2.2400 & 2018 &  17.73008 & 2016 & 15.6\\\\\n",
       "\t American Samoa & 2018 &    55465 &   NA &        NA &   NA &       NA & 2017 & 12.47382 &   NA &  NA & 1999 & 0.7810 &   NA &     NA & 2018 & 277.32500 &   NA &   NA\\\\\n",
       "\t Andorra        & 2018 &    77006 &   NA &        NA &   NA &       NA & 2017 & 10.30762 & 2009 & 2.5 & 2015 & 3.3333 & 2015 & 4.0128 & 2018 & 163.84255 & 2016 & 33.5\\\\\n",
       "\t Angola         & 2018 & 30809762 & 2018 &  2.216374 & 2018 & 50.97470 & 2017 & 32.38850 & 2005 & 0.8 & 2017 & 0.2149 & 2009 & 1.3123 & 2018 &  24.71305 &   NA &   NA\\\\\n",
       "\\end{tabular}\n"
      ],
      "text/markdown": [
       "\n",
       "A data.frame: 6 × 19\n",
       "\n",
       "| country &lt;chr&gt; | year_pop_total &lt;dbl&gt; | pop_total &lt;dbl&gt; | year_age_65up &lt;dbl&gt; | age_65up &lt;dbl&gt; | year_age_1564 &lt;dbl&gt; | age_1564 &lt;dbl&gt; | year_air_pollution &lt;dbl&gt; | air_pollution &lt;dbl&gt; | year_med_bed &lt;dbl&gt; | med_bed &lt;dbl&gt; | year_physicians &lt;dbl&gt; | physicians &lt;dbl&gt; | year_nurses_midwives &lt;dbl&gt; | nurses_midwives &lt;dbl&gt; | year_pop_density &lt;dbl&gt; | pop_density &lt;dbl&gt; | year_smoking &lt;dbl&gt; | smoking &lt;dbl&gt; |\n",
       "|---|---|---|---|---|---|---|---|---|---|---|---|---|---|---|---|---|---|---|\n",
       "| Afghanistan    | 2018 | 37172386 | 2018 |  2.584927 | 2018 | 54.32490 | 2017 | 56.91081 | 2015 | 0.5 | 2016 | 0.2840 | 2014 | 0.3200 | 2018 |  56.93776 |   NA |   NA |\n",
       "| Albania        | 2018 |  2866376 | 2018 | 13.744736 | 2018 | 68.58239 | 2017 | 18.20060 | 2013 | 2.9 | 2016 | 1.1998 | 2016 | 3.5998 | 2018 | 104.61226 | 2016 | 28.7 |\n",
       "| Algeria        | 2018 | 42228429 | 2018 |  6.362497 | 2018 | 63.48882 | 2017 | 38.88401 | 2015 | 1.9 | 2016 | 1.8300 | 2016 | 2.2400 | 2018 |  17.73008 | 2016 | 15.6 |\n",
       "| American Samoa | 2018 |    55465 |   NA |        NA |   NA |       NA | 2017 | 12.47382 |   NA |  NA | 1999 | 0.7810 |   NA |     NA | 2018 | 277.32500 |   NA |   NA |\n",
       "| Andorra        | 2018 |    77006 |   NA |        NA |   NA |       NA | 2017 | 10.30762 | 2009 | 2.5 | 2015 | 3.3333 | 2015 | 4.0128 | 2018 | 163.84255 | 2016 | 33.5 |\n",
       "| Angola         | 2018 | 30809762 | 2018 |  2.216374 | 2018 | 50.97470 | 2017 | 32.38850 | 2005 | 0.8 | 2017 | 0.2149 | 2009 | 1.3123 | 2018 |  24.71305 |   NA |   NA |\n",
       "\n"
      ],
      "text/plain": [
       "  country        year_pop_total pop_total year_age_65up age_65up  year_age_1564\n",
       "1 Afghanistan    2018           37172386  2018           2.584927 2018         \n",
       "2 Albania        2018            2866376  2018          13.744736 2018         \n",
       "3 Algeria        2018           42228429  2018           6.362497 2018         \n",
       "4 American Samoa 2018              55465    NA                 NA   NA         \n",
       "5 Andorra        2018              77006    NA                 NA   NA         \n",
       "6 Angola         2018           30809762  2018           2.216374 2018         \n",
       "  age_1564 year_air_pollution air_pollution year_med_bed med_bed\n",
       "1 54.32490 2017               56.91081      2015         0.5    \n",
       "2 68.58239 2017               18.20060      2013         2.9    \n",
       "3 63.48882 2017               38.88401      2015         1.9    \n",
       "4       NA 2017               12.47382        NA          NA    \n",
       "5       NA 2017               10.30762      2009         2.5    \n",
       "6 50.97470 2017               32.38850      2005         0.8    \n",
       "  year_physicians physicians year_nurses_midwives nurses_midwives\n",
       "1 2016            0.2840     2014                 0.3200         \n",
       "2 2016            1.1998     2016                 3.5998         \n",
       "3 2016            1.8300     2016                 2.2400         \n",
       "4 1999            0.7810       NA                     NA         \n",
       "5 2015            3.3333     2015                 4.0128         \n",
       "6 2017            0.2149     2009                 1.3123         \n",
       "  year_pop_density pop_density year_smoking smoking\n",
       "1 2018              56.93776     NA           NA   \n",
       "2 2018             104.61226   2016         28.7   \n",
       "3 2018              17.73008   2016         15.6   \n",
       "4 2018             277.32500     NA           NA   \n",
       "5 2018             163.84255   2016         33.5   \n",
       "6 2018              24.71305     NA           NA   "
      ]
     },
     "metadata": {},
     "output_type": "display_data"
    }
   ],
   "source": [
    "head(country_data)"
   ]
  },
  {
   "cell_type": "code",
   "execution_count": 26,
   "metadata": {},
   "outputs": [
    {
     "data": {
      "text/html": [
       "<ol class=list-inline>\n",
       "\t<li>263</li>\n",
       "\t<li>19</li>\n",
       "</ol>\n"
      ],
      "text/latex": [
       "\\begin{enumerate*}\n",
       "\\item 263\n",
       "\\item 19\n",
       "\\end{enumerate*}\n"
      ],
      "text/markdown": [
       "1. 263\n",
       "2. 19\n",
       "\n",
       "\n"
      ],
      "text/plain": [
       "[1] 263  19"
      ]
     },
     "metadata": {},
     "output_type": "display_data"
    }
   ],
   "source": [
    "dim(country_data)"
   ]
  },
  {
   "cell_type": "code",
   "execution_count": 27,
   "metadata": {},
   "outputs": [],
   "source": [
    "confirmed <- covid19_confirmed[c(2, length(covid19_confirmed))]\n",
    "colnames(confirmed) = c(\"country\", \"n\")\n",
    "\n",
    "confirmed <- confirmed %>%\n",
    "    group_by(country) %>%\n",
    "    summarize(confirmed = sum(n))"
   ]
  },
  {
   "cell_type": "code",
   "execution_count": 28,
   "metadata": {},
   "outputs": [],
   "source": [
    "death <- covid19_death[c(2, length(covid19_death))]\n",
    "colnames(death) = c(\"country\", \"n\")\n",
    "\n",
    "death <- death %>%\n",
    "    group_by(country) %>%\n",
    "    summarize(death = sum(n))"
   ]
  },
  {
   "cell_type": "code",
   "execution_count": 29,
   "metadata": {},
   "outputs": [
    {
     "data": {
      "text/html": [
       "<table>\n",
       "<caption>A data.frame: 6 × 4</caption>\n",
       "<thead>\n",
       "\t<tr><th scope=col>country</th><th scope=col>confirmed</th><th scope=col>death</th><th scope=col>rate</th></tr>\n",
       "\t<tr><th scope=col>&lt;chr&gt;</th><th scope=col>&lt;dbl&gt;</th><th scope=col>&lt;dbl&gt;</th><th scope=col>&lt;dbl&gt;</th></tr>\n",
       "</thead>\n",
       "<tbody>\n",
       "\t<tr><td>Afghanistan        </td><td>1828</td><td> 58</td><td>0.03172867</td></tr>\n",
       "\t<tr><td>Albania            </td><td> 750</td><td> 30</td><td>0.04000000</td></tr>\n",
       "\t<tr><td>Algeria            </td><td>3649</td><td>437</td><td>0.11975884</td></tr>\n",
       "\t<tr><td>Andorra            </td><td> 743</td><td> 41</td><td>0.05518170</td></tr>\n",
       "\t<tr><td>Angola             </td><td>  27</td><td>  2</td><td>0.07407407</td></tr>\n",
       "\t<tr><td>Antigua and Barbuda</td><td>  24</td><td>  3</td><td>0.12500000</td></tr>\n",
       "</tbody>\n",
       "</table>\n"
      ],
      "text/latex": [
       "A data.frame: 6 × 4\n",
       "\\begin{tabular}{r|llll}\n",
       " country & confirmed & death & rate\\\\\n",
       " <chr> & <dbl> & <dbl> & <dbl>\\\\\n",
       "\\hline\n",
       "\t Afghanistan         & 1828 &  58 & 0.03172867\\\\\n",
       "\t Albania             &  750 &  30 & 0.04000000\\\\\n",
       "\t Algeria             & 3649 & 437 & 0.11975884\\\\\n",
       "\t Andorra             &  743 &  41 & 0.05518170\\\\\n",
       "\t Angola              &   27 &   2 & 0.07407407\\\\\n",
       "\t Antigua and Barbuda &   24 &   3 & 0.12500000\\\\\n",
       "\\end{tabular}\n"
      ],
      "text/markdown": [
       "\n",
       "A data.frame: 6 × 4\n",
       "\n",
       "| country &lt;chr&gt; | confirmed &lt;dbl&gt; | death &lt;dbl&gt; | rate &lt;dbl&gt; |\n",
       "|---|---|---|---|\n",
       "| Afghanistan         | 1828 |  58 | 0.03172867 |\n",
       "| Albania             |  750 |  30 | 0.04000000 |\n",
       "| Algeria             | 3649 | 437 | 0.11975884 |\n",
       "| Andorra             |  743 |  41 | 0.05518170 |\n",
       "| Angola              |   27 |   2 | 0.07407407 |\n",
       "| Antigua and Barbuda |   24 |   3 | 0.12500000 |\n",
       "\n"
      ],
      "text/plain": [
       "  country             confirmed death rate      \n",
       "1 Afghanistan         1828       58   0.03172867\n",
       "2 Albania              750       30   0.04000000\n",
       "3 Algeria             3649      437   0.11975884\n",
       "4 Andorra              743       41   0.05518170\n",
       "5 Angola                27        2   0.07407407\n",
       "6 Antigua and Barbuda   24        3   0.12500000"
      ]
     },
     "metadata": {},
     "output_type": "display_data"
    }
   ],
   "source": [
    "covid19 <- merge(confirmed, death, by = \"country\") %>%\n",
    "    mutate(rate = death / confirmed)\n",
    "head(covid19)"
   ]
  },
  {
   "cell_type": "code",
   "execution_count": 30,
   "metadata": {},
   "outputs": [
    {
     "data": {
      "text/html": [
       "<ol class=list-inline>\n",
       "\t<li>185</li>\n",
       "\t<li>4</li>\n",
       "</ol>\n"
      ],
      "text/latex": [
       "\\begin{enumerate*}\n",
       "\\item 185\n",
       "\\item 4\n",
       "\\end{enumerate*}\n"
      ],
      "text/markdown": [
       "1. 185\n",
       "2. 4\n",
       "\n",
       "\n"
      ],
      "text/plain": [
       "[1] 185   4"
      ]
     },
     "metadata": {},
     "output_type": "display_data"
    }
   ],
   "source": [
    "dim(covid19)"
   ]
  },
  {
   "cell_type": "code",
   "execution_count": 31,
   "metadata": {},
   "outputs": [
    {
     "data": {
      "text/html": [
       "<table>\n",
       "<caption>A data.frame: 0 × 4</caption>\n",
       "<thead>\n",
       "\t<tr><th scope=col>country</th><th scope=col>confirmed</th><th scope=col>death</th><th scope=col>rate</th></tr>\n",
       "\t<tr><th scope=col>&lt;chr&gt;</th><th scope=col>&lt;dbl&gt;</th><th scope=col>&lt;dbl&gt;</th><th scope=col>&lt;dbl&gt;</th></tr>\n",
       "</thead>\n",
       "<tbody>\n",
       "</tbody>\n",
       "</table>\n"
      ],
      "text/latex": [
       "A data.frame: 0 × 4\n",
       "\\begin{tabular}{r|llll}\n",
       " country & confirmed & death & rate\\\\\n",
       " <chr> & <dbl> & <dbl> & <dbl>\\\\\n",
       "\\hline\n",
       "\\end{tabular}\n"
      ],
      "text/markdown": [
       "\n",
       "A data.frame: 0 × 4\n",
       "\n",
       "| country &lt;chr&gt; | confirmed &lt;dbl&gt; | death &lt;dbl&gt; | rate &lt;dbl&gt; |\n",
       "|---|---|---|---|\n",
       "\n"
      ],
      "text/plain": [
       "     country confirmed death rate"
      ]
     },
     "metadata": {},
     "output_type": "display_data"
    }
   ],
   "source": [
    "covid19 %>%\n",
    "    filter(rate >= 1)"
   ]
  },
  {
   "cell_type": "code",
   "execution_count": 32,
   "metadata": {},
   "outputs": [
    {
     "data": {
      "text/html": [
       "<table>\n",
       "<caption>A data.frame: 11 × 4</caption>\n",
       "<thead>\n",
       "\t<tr><th scope=col>country</th><th scope=col>confirmed</th><th scope=col>death</th><th scope=col>rate</th></tr>\n",
       "\t<tr><th scope=col>&lt;chr&gt;</th><th scope=col>&lt;dbl&gt;</th><th scope=col>&lt;dbl&gt;</th><th scope=col>&lt;dbl&gt;</th></tr>\n",
       "</thead>\n",
       "<tbody>\n",
       "\t<tr><td>Burma                </td><td>    150</td><td>    5</td><td>0.03333333</td></tr>\n",
       "\t<tr><td>Congo (Brazzaville)  </td><td>    207</td><td>    8</td><td>0.03864734</td></tr>\n",
       "\t<tr><td>Congo (Kinshasa)     </td><td>    471</td><td>   30</td><td>0.06369427</td></tr>\n",
       "\t<tr><td>Diamond Princess     </td><td>    712</td><td>   13</td><td>0.01825843</td></tr>\n",
       "\t<tr><td>Holy See             </td><td>     10</td><td>    0</td><td>0.00000000</td></tr>\n",
       "\t<tr><td>Korea, South         </td><td>  10761</td><td>  246</td><td>0.02286033</td></tr>\n",
       "\t<tr><td>Kyrgyzstan           </td><td>    708</td><td>    8</td><td>0.01129944</td></tr>\n",
       "\t<tr><td>MS Zaandam           </td><td>      9</td><td>    2</td><td>0.22222222</td></tr>\n",
       "\t<tr><td>Saint Kitts and Nevis</td><td>     15</td><td>    0</td><td>0.00000000</td></tr>\n",
       "\t<tr><td>Taiwan*              </td><td>    429</td><td>    6</td><td>0.01398601</td></tr>\n",
       "\t<tr><td>US                   </td><td>1012582</td><td>58355</td><td>0.05762990</td></tr>\n",
       "</tbody>\n",
       "</table>\n"
      ],
      "text/latex": [
       "A data.frame: 11 × 4\n",
       "\\begin{tabular}{r|llll}\n",
       " country & confirmed & death & rate\\\\\n",
       " <chr> & <dbl> & <dbl> & <dbl>\\\\\n",
       "\\hline\n",
       "\t Burma                 &     150 &     5 & 0.03333333\\\\\n",
       "\t Congo (Brazzaville)   &     207 &     8 & 0.03864734\\\\\n",
       "\t Congo (Kinshasa)      &     471 &    30 & 0.06369427\\\\\n",
       "\t Diamond Princess      &     712 &    13 & 0.01825843\\\\\n",
       "\t Holy See              &      10 &     0 & 0.00000000\\\\\n",
       "\t Korea, South          &   10761 &   246 & 0.02286033\\\\\n",
       "\t Kyrgyzstan            &     708 &     8 & 0.01129944\\\\\n",
       "\t MS Zaandam            &       9 &     2 & 0.22222222\\\\\n",
       "\t Saint Kitts and Nevis &      15 &     0 & 0.00000000\\\\\n",
       "\t Taiwan*               &     429 &     6 & 0.01398601\\\\\n",
       "\t US                    & 1012582 & 58355 & 0.05762990\\\\\n",
       "\\end{tabular}\n"
      ],
      "text/markdown": [
       "\n",
       "A data.frame: 11 × 4\n",
       "\n",
       "| country &lt;chr&gt; | confirmed &lt;dbl&gt; | death &lt;dbl&gt; | rate &lt;dbl&gt; |\n",
       "|---|---|---|---|\n",
       "| Burma                 |     150 |     5 | 0.03333333 |\n",
       "| Congo (Brazzaville)   |     207 |     8 | 0.03864734 |\n",
       "| Congo (Kinshasa)      |     471 |    30 | 0.06369427 |\n",
       "| Diamond Princess      |     712 |    13 | 0.01825843 |\n",
       "| Holy See              |      10 |     0 | 0.00000000 |\n",
       "| Korea, South          |   10761 |   246 | 0.02286033 |\n",
       "| Kyrgyzstan            |     708 |     8 | 0.01129944 |\n",
       "| MS Zaandam            |       9 |     2 | 0.22222222 |\n",
       "| Saint Kitts and Nevis |      15 |     0 | 0.00000000 |\n",
       "| Taiwan*               |     429 |     6 | 0.01398601 |\n",
       "| US                    | 1012582 | 58355 | 0.05762990 |\n",
       "\n"
      ],
      "text/plain": [
       "   country               confirmed death rate      \n",
       "1  Burma                     150       5 0.03333333\n",
       "2  Congo (Brazzaville)       207       8 0.03864734\n",
       "3  Congo (Kinshasa)          471      30 0.06369427\n",
       "4  Diamond Princess          712      13 0.01825843\n",
       "5  Holy See                   10       0 0.00000000\n",
       "6  Korea, South            10761     246 0.02286033\n",
       "7  Kyrgyzstan                708       8 0.01129944\n",
       "8  MS Zaandam                  9       2 0.22222222\n",
       "9  Saint Kitts and Nevis      15       0 0.00000000\n",
       "10 Taiwan*                   429       6 0.01398601\n",
       "11 US                    1012582   58355 0.05762990"
      ]
     },
     "metadata": {},
     "output_type": "display_data"
    }
   ],
   "source": [
    "covid19 %>%\n",
    "    filter(!country %in% country_data$country)"
   ]
  },
  {
   "cell_type": "code",
   "execution_count": 33,
   "metadata": {},
   "outputs": [],
   "source": [
    "date_df <- gov_resp %>%\n",
    "    group_by(CountryName) %>%\n",
    "    summarize(Date = max(Date))"
   ]
  },
  {
   "cell_type": "code",
   "execution_count": 34,
   "metadata": {},
   "outputs": [],
   "source": [
    "gov_resp <- merge(gov_resp, date_df, by=c(\"CountryName\", \"Date\")) %>%\n",
    "    select(CountryName, StringencyIndexForDisplay)\n",
    "colnames(gov_resp) <- c(\"country\", \"gov_resp\")"
   ]
  },
  {
   "cell_type": "code",
   "execution_count": 35,
   "metadata": {},
   "outputs": [
    {
     "data": {
      "text/html": [
       "<table>\n",
       "<caption>A data.frame: 18 × 2</caption>\n",
       "<thead>\n",
       "\t<tr><th scope=col>country</th><th scope=col>gov_resp</th></tr>\n",
       "\t<tr><th scope=col>&lt;chr&gt;</th><th scope=col>&lt;dbl&gt;</th></tr>\n",
       "</thead>\n",
       "<tbody>\n",
       "\t<tr><td>Aruba                       </td><td>86.24</td></tr>\n",
       "\t<tr><td>Bermuda                     </td><td>92.72</td></tr>\n",
       "\t<tr><td>Cape Verde                  </td><td>79.63</td></tr>\n",
       "\t<tr><td>Czech Republic              </td><td>59.65</td></tr>\n",
       "\t<tr><td>Democratic Republic of Congo</td><td>82.02</td></tr>\n",
       "\t<tr><td>Greenland                   </td><td>86.11</td></tr>\n",
       "\t<tr><td>Guam                        </td><td>83.60</td></tr>\n",
       "\t<tr><td>Hong Kong                   </td><td>69.84</td></tr>\n",
       "\t<tr><td>Kyrgyz Republic             </td><td>87.31</td></tr>\n",
       "\t<tr><td>Lesotho                     </td><td>93.38</td></tr>\n",
       "\t<tr><td>Macao                       </td><td>60.05</td></tr>\n",
       "\t<tr><td>Myanmar                     </td><td>81.89</td></tr>\n",
       "\t<tr><td>Palestine                   </td><td>94.18</td></tr>\n",
       "\t<tr><td>Puerto Rico                 </td><td>94.58</td></tr>\n",
       "\t<tr><td>Slovak Republic             </td><td>74.99</td></tr>\n",
       "\t<tr><td>South Korea                 </td><td>46.16</td></tr>\n",
       "\t<tr><td>Taiwan                      </td><td>29.36</td></tr>\n",
       "\t<tr><td>United States               </td><td>52.91</td></tr>\n",
       "</tbody>\n",
       "</table>\n"
      ],
      "text/latex": [
       "A data.frame: 18 × 2\n",
       "\\begin{tabular}{r|ll}\n",
       " country & gov\\_resp\\\\\n",
       " <chr> & <dbl>\\\\\n",
       "\\hline\n",
       "\t Aruba                        & 86.24\\\\\n",
       "\t Bermuda                      & 92.72\\\\\n",
       "\t Cape Verde                   & 79.63\\\\\n",
       "\t Czech Republic               & 59.65\\\\\n",
       "\t Democratic Republic of Congo & 82.02\\\\\n",
       "\t Greenland                    & 86.11\\\\\n",
       "\t Guam                         & 83.60\\\\\n",
       "\t Hong Kong                    & 69.84\\\\\n",
       "\t Kyrgyz Republic              & 87.31\\\\\n",
       "\t Lesotho                      & 93.38\\\\\n",
       "\t Macao                        & 60.05\\\\\n",
       "\t Myanmar                      & 81.89\\\\\n",
       "\t Palestine                    & 94.18\\\\\n",
       "\t Puerto Rico                  & 94.58\\\\\n",
       "\t Slovak Republic              & 74.99\\\\\n",
       "\t South Korea                  & 46.16\\\\\n",
       "\t Taiwan                       & 29.36\\\\\n",
       "\t United States                & 52.91\\\\\n",
       "\\end{tabular}\n"
      ],
      "text/markdown": [
       "\n",
       "A data.frame: 18 × 2\n",
       "\n",
       "| country &lt;chr&gt; | gov_resp &lt;dbl&gt; |\n",
       "|---|---|\n",
       "| Aruba                        | 86.24 |\n",
       "| Bermuda                      | 92.72 |\n",
       "| Cape Verde                   | 79.63 |\n",
       "| Czech Republic               | 59.65 |\n",
       "| Democratic Republic of Congo | 82.02 |\n",
       "| Greenland                    | 86.11 |\n",
       "| Guam                         | 83.60 |\n",
       "| Hong Kong                    | 69.84 |\n",
       "| Kyrgyz Republic              | 87.31 |\n",
       "| Lesotho                      | 93.38 |\n",
       "| Macao                        | 60.05 |\n",
       "| Myanmar                      | 81.89 |\n",
       "| Palestine                    | 94.18 |\n",
       "| Puerto Rico                  | 94.58 |\n",
       "| Slovak Republic              | 74.99 |\n",
       "| South Korea                  | 46.16 |\n",
       "| Taiwan                       | 29.36 |\n",
       "| United States                | 52.91 |\n",
       "\n"
      ],
      "text/plain": [
       "   country                      gov_resp\n",
       "1  Aruba                        86.24   \n",
       "2  Bermuda                      92.72   \n",
       "3  Cape Verde                   79.63   \n",
       "4  Czech Republic               59.65   \n",
       "5  Democratic Republic of Congo 82.02   \n",
       "6  Greenland                    86.11   \n",
       "7  Guam                         83.60   \n",
       "8  Hong Kong                    69.84   \n",
       "9  Kyrgyz Republic              87.31   \n",
       "10 Lesotho                      93.38   \n",
       "11 Macao                        60.05   \n",
       "12 Myanmar                      81.89   \n",
       "13 Palestine                    94.18   \n",
       "14 Puerto Rico                  94.58   \n",
       "15 Slovak Republic              74.99   \n",
       "16 South Korea                  46.16   \n",
       "17 Taiwan                       29.36   \n",
       "18 United States                52.91   "
      ]
     },
     "metadata": {},
     "output_type": "display_data"
    }
   ],
   "source": [
    "gov_resp %>%\n",
    "    filter(!country %in% covid19$country)"
   ]
  },
  {
   "cell_type": "code",
   "execution_count": 36,
   "metadata": {},
   "outputs": [],
   "source": [
    "gov_resp <- gov_resp %>%\n",
    "    mutate(country = case_when(country == 'Cape Verde' ~ 'Cabo Verde',\n",
    "                               country == 'Czech Republic' ~ 'Czechia',\n",
    "                               country == 'Democratic Republic of Congo' ~ 'Congo, Dem. Rep.',\n",
    "                               country == 'Slovak Republic' ~ 'Slovakia',\n",
    "                               TRUE ~ country))"
   ]
  },
  {
   "cell_type": "code",
   "execution_count": 37,
   "metadata": {},
   "outputs": [],
   "source": [
    "covid19 <- covid19 %>%\n",
    "    mutate(country = case_when(country == 'Burma' ~ 'Myanmar',\n",
    "                               country == 'Congo (Brazzaville)' ~ 'Congo, Rep.',\n",
    "                               country == 'Congo (Kinshasa)' ~ 'Congo, Dem. Rep.',\n",
    "                               country == 'Korea, South' ~ 'South Korea',\n",
    "                               country == 'Kyrgyzstan' ~ 'Kyrgyz Republic',\n",
    "                               country == 'US' ~ 'United States',\n",
    "                               TRUE ~ country))"
   ]
  },
  {
   "cell_type": "code",
   "execution_count": 38,
   "metadata": {},
   "outputs": [
    {
     "data": {
      "text/html": [
       "<table>\n",
       "<caption>A data.frame: 5 × 4</caption>\n",
       "<thead>\n",
       "\t<tr><th scope=col>country</th><th scope=col>confirmed</th><th scope=col>death</th><th scope=col>rate</th></tr>\n",
       "\t<tr><th scope=col>&lt;chr&gt;</th><th scope=col>&lt;dbl&gt;</th><th scope=col>&lt;dbl&gt;</th><th scope=col>&lt;dbl&gt;</th></tr>\n",
       "</thead>\n",
       "<tbody>\n",
       "\t<tr><td>Diamond Princess     </td><td>712</td><td>13</td><td>0.01825843</td></tr>\n",
       "\t<tr><td>Holy See             </td><td> 10</td><td> 0</td><td>0.00000000</td></tr>\n",
       "\t<tr><td>MS Zaandam           </td><td>  9</td><td> 2</td><td>0.22222222</td></tr>\n",
       "\t<tr><td>Saint Kitts and Nevis</td><td> 15</td><td> 0</td><td>0.00000000</td></tr>\n",
       "\t<tr><td>Taiwan*              </td><td>429</td><td> 6</td><td>0.01398601</td></tr>\n",
       "</tbody>\n",
       "</table>\n"
      ],
      "text/latex": [
       "A data.frame: 5 × 4\n",
       "\\begin{tabular}{r|llll}\n",
       " country & confirmed & death & rate\\\\\n",
       " <chr> & <dbl> & <dbl> & <dbl>\\\\\n",
       "\\hline\n",
       "\t Diamond Princess      & 712 & 13 & 0.01825843\\\\\n",
       "\t Holy See              &  10 &  0 & 0.00000000\\\\\n",
       "\t MS Zaandam            &   9 &  2 & 0.22222222\\\\\n",
       "\t Saint Kitts and Nevis &  15 &  0 & 0.00000000\\\\\n",
       "\t Taiwan*               & 429 &  6 & 0.01398601\\\\\n",
       "\\end{tabular}\n"
      ],
      "text/markdown": [
       "\n",
       "A data.frame: 5 × 4\n",
       "\n",
       "| country &lt;chr&gt; | confirmed &lt;dbl&gt; | death &lt;dbl&gt; | rate &lt;dbl&gt; |\n",
       "|---|---|---|---|\n",
       "| Diamond Princess      | 712 | 13 | 0.01825843 |\n",
       "| Holy See              |  10 |  0 | 0.00000000 |\n",
       "| MS Zaandam            |   9 |  2 | 0.22222222 |\n",
       "| Saint Kitts and Nevis |  15 |  0 | 0.00000000 |\n",
       "| Taiwan*               | 429 |  6 | 0.01398601 |\n",
       "\n"
      ],
      "text/plain": [
       "  country               confirmed death rate      \n",
       "1 Diamond Princess      712       13    0.01825843\n",
       "2 Holy See               10        0    0.00000000\n",
       "3 MS Zaandam              9        2    0.22222222\n",
       "4 Saint Kitts and Nevis  15        0    0.00000000\n",
       "5 Taiwan*               429        6    0.01398601"
      ]
     },
     "metadata": {},
     "output_type": "display_data"
    }
   ],
   "source": [
    "covid19 %>%\n",
    "    filter(!country %in% country_data$country)"
   ]
  },
  {
   "cell_type": "code",
   "execution_count": 39,
   "metadata": {},
   "outputs": [
    {
     "data": {
      "text/html": [
       "<table>\n",
       "<caption>A data.frame: 10 × 2</caption>\n",
       "<thead>\n",
       "\t<tr><th scope=col>country</th><th scope=col>gov_resp</th></tr>\n",
       "\t<tr><th scope=col>&lt;chr&gt;</th><th scope=col>&lt;dbl&gt;</th></tr>\n",
       "</thead>\n",
       "<tbody>\n",
       "\t<tr><td>Aruba      </td><td>86.24</td></tr>\n",
       "\t<tr><td>Bermuda    </td><td>92.72</td></tr>\n",
       "\t<tr><td>Greenland  </td><td>86.11</td></tr>\n",
       "\t<tr><td>Guam       </td><td>83.60</td></tr>\n",
       "\t<tr><td>Hong Kong  </td><td>69.84</td></tr>\n",
       "\t<tr><td>Lesotho    </td><td>93.38</td></tr>\n",
       "\t<tr><td>Macao      </td><td>60.05</td></tr>\n",
       "\t<tr><td>Palestine  </td><td>94.18</td></tr>\n",
       "\t<tr><td>Puerto Rico</td><td>94.58</td></tr>\n",
       "\t<tr><td>Taiwan     </td><td>29.36</td></tr>\n",
       "</tbody>\n",
       "</table>\n"
      ],
      "text/latex": [
       "A data.frame: 10 × 2\n",
       "\\begin{tabular}{r|ll}\n",
       " country & gov\\_resp\\\\\n",
       " <chr> & <dbl>\\\\\n",
       "\\hline\n",
       "\t Aruba       & 86.24\\\\\n",
       "\t Bermuda     & 92.72\\\\\n",
       "\t Greenland   & 86.11\\\\\n",
       "\t Guam        & 83.60\\\\\n",
       "\t Hong Kong   & 69.84\\\\\n",
       "\t Lesotho     & 93.38\\\\\n",
       "\t Macao       & 60.05\\\\\n",
       "\t Palestine   & 94.18\\\\\n",
       "\t Puerto Rico & 94.58\\\\\n",
       "\t Taiwan      & 29.36\\\\\n",
       "\\end{tabular}\n"
      ],
      "text/markdown": [
       "\n",
       "A data.frame: 10 × 2\n",
       "\n",
       "| country &lt;chr&gt; | gov_resp &lt;dbl&gt; |\n",
       "|---|---|\n",
       "| Aruba       | 86.24 |\n",
       "| Bermuda     | 92.72 |\n",
       "| Greenland   | 86.11 |\n",
       "| Guam        | 83.60 |\n",
       "| Hong Kong   | 69.84 |\n",
       "| Lesotho     | 93.38 |\n",
       "| Macao       | 60.05 |\n",
       "| Palestine   | 94.18 |\n",
       "| Puerto Rico | 94.58 |\n",
       "| Taiwan      | 29.36 |\n",
       "\n"
      ],
      "text/plain": [
       "   country     gov_resp\n",
       "1  Aruba       86.24   \n",
       "2  Bermuda     92.72   \n",
       "3  Greenland   86.11   \n",
       "4  Guam        83.60   \n",
       "5  Hong Kong   69.84   \n",
       "6  Lesotho     93.38   \n",
       "7  Macao       60.05   \n",
       "8  Palestine   94.18   \n",
       "9  Puerto Rico 94.58   \n",
       "10 Taiwan      29.36   "
      ]
     },
     "metadata": {},
     "output_type": "display_data"
    }
   ],
   "source": [
    "gov_resp %>%\n",
    "    filter(!country %in% covid19$country)"
   ]
  },
  {
   "cell_type": "code",
   "execution_count": 40,
   "metadata": {},
   "outputs": [],
   "source": [
    "data <- merge(country_data, covid19, by = \"country\")"
   ]
  },
  {
   "cell_type": "code",
   "execution_count": 41,
   "metadata": {},
   "outputs": [],
   "source": [
    "data$confirmed_rate <- data$confirmed / data$pop_total"
   ]
  },
  {
   "cell_type": "code",
   "execution_count": 42,
   "metadata": {},
   "outputs": [
    {
     "data": {
      "text/html": [
       "<ol class=list-inline>\n",
       "\t<li>180</li>\n",
       "\t<li>23</li>\n",
       "</ol>\n"
      ],
      "text/latex": [
       "\\begin{enumerate*}\n",
       "\\item 180\n",
       "\\item 23\n",
       "\\end{enumerate*}\n"
      ],
      "text/markdown": [
       "1. 180\n",
       "2. 23\n",
       "\n",
       "\n"
      ],
      "text/plain": [
       "[1] 180  23"
      ]
     },
     "metadata": {},
     "output_type": "display_data"
    }
   ],
   "source": [
    "dim(data)"
   ]
  },
  {
   "cell_type": "code",
   "execution_count": 43,
   "metadata": {},
   "outputs": [],
   "source": [
    "data_gov <- merge(data, gov_resp, by = \"country\")"
   ]
  },
  {
   "cell_type": "code",
   "execution_count": 44,
   "metadata": {},
   "outputs": [
    {
     "data": {
      "text/html": [
       "<ol class=list-inline>\n",
       "\t<li>141</li>\n",
       "\t<li>24</li>\n",
       "</ol>\n"
      ],
      "text/latex": [
       "\\begin{enumerate*}\n",
       "\\item 141\n",
       "\\item 24\n",
       "\\end{enumerate*}\n"
      ],
      "text/markdown": [
       "1. 141\n",
       "2. 24\n",
       "\n",
       "\n"
      ],
      "text/plain": [
       "[1] 141  24"
      ]
     },
     "metadata": {},
     "output_type": "display_data"
    }
   ],
   "source": [
    "dim(data_gov)"
   ]
  },
  {
   "cell_type": "code",
   "execution_count": 45,
   "metadata": {},
   "outputs": [
    {
     "data": {
      "text/html": [
       "<table>\n",
       "<caption>A data.frame: 6 × 24</caption>\n",
       "<thead>\n",
       "\t<tr><th scope=col>country</th><th scope=col>year_pop_total</th><th scope=col>pop_total</th><th scope=col>year_age_65up</th><th scope=col>age_65up</th><th scope=col>year_age_1564</th><th scope=col>age_1564</th><th scope=col>year_air_pollution</th><th scope=col>air_pollution</th><th scope=col>year_med_bed</th><th scope=col>...</th><th scope=col>nurses_midwives</th><th scope=col>year_pop_density</th><th scope=col>pop_density</th><th scope=col>year_smoking</th><th scope=col>smoking</th><th scope=col>confirmed</th><th scope=col>death</th><th scope=col>rate</th><th scope=col>confirmed_rate</th><th scope=col>gov_resp</th></tr>\n",
       "\t<tr><th scope=col>&lt;chr&gt;</th><th scope=col>&lt;dbl&gt;</th><th scope=col>&lt;dbl&gt;</th><th scope=col>&lt;dbl&gt;</th><th scope=col>&lt;dbl&gt;</th><th scope=col>&lt;dbl&gt;</th><th scope=col>&lt;dbl&gt;</th><th scope=col>&lt;dbl&gt;</th><th scope=col>&lt;dbl&gt;</th><th scope=col>&lt;dbl&gt;</th><th scope=col>...</th><th scope=col>&lt;dbl&gt;</th><th scope=col>&lt;dbl&gt;</th><th scope=col>&lt;dbl&gt;</th><th scope=col>&lt;dbl&gt;</th><th scope=col>&lt;dbl&gt;</th><th scope=col>&lt;dbl&gt;</th><th scope=col>&lt;dbl&gt;</th><th scope=col>&lt;dbl&gt;</th><th scope=col>&lt;dbl&gt;</th><th scope=col>&lt;dbl&gt;</th></tr>\n",
       "</thead>\n",
       "<tbody>\n",
       "\t<tr><td>Afghanistan</td><td>2018</td><td>37172386</td><td>2018</td><td> 2.584927</td><td>2018</td><td>54.32490</td><td>2017</td><td>56.91081</td><td>2015</td><td>...</td><td>0.3200</td><td>2018</td><td> 56.93776</td><td>  NA</td><td>  NA</td><td>1828</td><td> 58</td><td>0.03172867</td><td>4.917629e-05</td><td>73.55</td></tr>\n",
       "\t<tr><td>Albania    </td><td>2018</td><td> 2866376</td><td>2018</td><td>13.744736</td><td>2018</td><td>68.58239</td><td>2017</td><td>18.20060</td><td>2013</td><td>...</td><td>3.5998</td><td>2018</td><td>104.61226</td><td>2016</td><td>28.7</td><td> 750</td><td> 30</td><td>0.04000000</td><td>2.616544e-04</td><td>88.36</td></tr>\n",
       "\t<tr><td>Algeria    </td><td>2018</td><td>42228429</td><td>2018</td><td> 6.362497</td><td>2018</td><td>63.48882</td><td>2017</td><td>38.88401</td><td>2015</td><td>...</td><td>2.2400</td><td>2018</td><td> 17.73008</td><td>2016</td><td>15.6</td><td>3649</td><td>437</td><td>0.11975884</td><td>8.641098e-05</td><td>82.42</td></tr>\n",
       "\t<tr><td>Andorra    </td><td>2018</td><td>   77006</td><td>  NA</td><td>       NA</td><td>  NA</td><td>      NA</td><td>2017</td><td>10.30762</td><td>2009</td><td>...</td><td>4.0128</td><td>2018</td><td>163.84255</td><td>2016</td><td>33.5</td><td> 743</td><td> 41</td><td>0.05518170</td><td>9.648599e-03</td><td>59.12</td></tr>\n",
       "\t<tr><td>Angola     </td><td>2018</td><td>30809762</td><td>2018</td><td> 2.216374</td><td>2018</td><td>50.97470</td><td>2017</td><td>32.38850</td><td>2005</td><td>...</td><td>1.3123</td><td>2018</td><td> 24.71305</td><td>  NA</td><td>  NA</td><td>  27</td><td>  2</td><td>0.07407407</td><td>8.763456e-07</td><td>86.77</td></tr>\n",
       "\t<tr><td>Argentina  </td><td>2018</td><td>44494502</td><td>2018</td><td>11.117789</td><td>2018</td><td>64.12128</td><td>2017</td><td>13.31183</td><td>2014</td><td>...</td><td>2.5800</td><td>2018</td><td> 16.25851</td><td>2016</td><td>21.8</td><td>4127</td><td>207</td><td>0.05015750</td><td>9.275303e-05</td><td>90.21</td></tr>\n",
       "</tbody>\n",
       "</table>\n"
      ],
      "text/latex": [
       "A data.frame: 6 × 24\n",
       "\\begin{tabular}{r|llllllllllllllllllllllll}\n",
       " country & year\\_pop\\_total & pop\\_total & year\\_age\\_65up & age\\_65up & year\\_age\\_1564 & age\\_1564 & year\\_air\\_pollution & air\\_pollution & year\\_med\\_bed & med\\_bed & year\\_physicians & physicians & year\\_nurses\\_midwives & nurses\\_midwives & year\\_pop\\_density & pop\\_density & year\\_smoking & smoking & confirmed & death & rate & confirmed\\_rate & gov\\_resp\\\\\n",
       " <chr> & <dbl> & <dbl> & <dbl> & <dbl> & <dbl> & <dbl> & <dbl> & <dbl> & <dbl> & <dbl> & <dbl> & <dbl> & <dbl> & <dbl> & <dbl> & <dbl> & <dbl> & <dbl> & <dbl> & <dbl> & <dbl> & <dbl> & <dbl>\\\\\n",
       "\\hline\n",
       "\t Afghanistan & 2018 & 37172386 & 2018 &  2.584927 & 2018 & 54.32490 & 2017 & 56.91081 & 2015 & 0.5 & 2016 & 0.2840 & 2014 & 0.3200 & 2018 &  56.93776 &   NA &   NA & 1828 &  58 & 0.03172867 & 4.917629e-05 & 73.55\\\\\n",
       "\t Albania     & 2018 &  2866376 & 2018 & 13.744736 & 2018 & 68.58239 & 2017 & 18.20060 & 2013 & 2.9 & 2016 & 1.1998 & 2016 & 3.5998 & 2018 & 104.61226 & 2016 & 28.7 &  750 &  30 & 0.04000000 & 2.616544e-04 & 88.36\\\\\n",
       "\t Algeria     & 2018 & 42228429 & 2018 &  6.362497 & 2018 & 63.48882 & 2017 & 38.88401 & 2015 & 1.9 & 2016 & 1.8300 & 2016 & 2.2400 & 2018 &  17.73008 & 2016 & 15.6 & 3649 & 437 & 0.11975884 & 8.641098e-05 & 82.42\\\\\n",
       "\t Andorra     & 2018 &    77006 &   NA &        NA &   NA &       NA & 2017 & 10.30762 & 2009 & 2.5 & 2015 & 3.3333 & 2015 & 4.0128 & 2018 & 163.84255 & 2016 & 33.5 &  743 &  41 & 0.05518170 & 9.648599e-03 & 59.12\\\\\n",
       "\t Angola      & 2018 & 30809762 & 2018 &  2.216374 & 2018 & 50.97470 & 2017 & 32.38850 & 2005 & 0.8 & 2017 & 0.2149 & 2009 & 1.3123 & 2018 &  24.71305 &   NA &   NA &   27 &   2 & 0.07407407 & 8.763456e-07 & 86.77\\\\\n",
       "\t Argentina   & 2018 & 44494502 & 2018 & 11.117789 & 2018 & 64.12128 & 2017 & 13.31183 & 2014 & 5.0 & 2017 & 3.9600 & 2017 & 2.5800 & 2018 &  16.25851 & 2016 & 21.8 & 4127 & 207 & 0.05015750 & 9.275303e-05 & 90.21\\\\\n",
       "\\end{tabular}\n"
      ],
      "text/markdown": [
       "\n",
       "A data.frame: 6 × 24\n",
       "\n",
       "| country &lt;chr&gt; | year_pop_total &lt;dbl&gt; | pop_total &lt;dbl&gt; | year_age_65up &lt;dbl&gt; | age_65up &lt;dbl&gt; | year_age_1564 &lt;dbl&gt; | age_1564 &lt;dbl&gt; | year_air_pollution &lt;dbl&gt; | air_pollution &lt;dbl&gt; | year_med_bed &lt;dbl&gt; | ... ... | nurses_midwives &lt;dbl&gt; | year_pop_density &lt;dbl&gt; | pop_density &lt;dbl&gt; | year_smoking &lt;dbl&gt; | smoking &lt;dbl&gt; | confirmed &lt;dbl&gt; | death &lt;dbl&gt; | rate &lt;dbl&gt; | confirmed_rate &lt;dbl&gt; | gov_resp &lt;dbl&gt; |\n",
       "|---|---|---|---|---|---|---|---|---|---|---|---|---|---|---|---|---|---|---|---|---|\n",
       "| Afghanistan | 2018 | 37172386 | 2018 |  2.584927 | 2018 | 54.32490 | 2017 | 56.91081 | 2015 | ... | 0.3200 | 2018 |  56.93776 |   NA |   NA | 1828 |  58 | 0.03172867 | 4.917629e-05 | 73.55 |\n",
       "| Albania     | 2018 |  2866376 | 2018 | 13.744736 | 2018 | 68.58239 | 2017 | 18.20060 | 2013 | ... | 3.5998 | 2018 | 104.61226 | 2016 | 28.7 |  750 |  30 | 0.04000000 | 2.616544e-04 | 88.36 |\n",
       "| Algeria     | 2018 | 42228429 | 2018 |  6.362497 | 2018 | 63.48882 | 2017 | 38.88401 | 2015 | ... | 2.2400 | 2018 |  17.73008 | 2016 | 15.6 | 3649 | 437 | 0.11975884 | 8.641098e-05 | 82.42 |\n",
       "| Andorra     | 2018 |    77006 |   NA |        NA |   NA |       NA | 2017 | 10.30762 | 2009 | ... | 4.0128 | 2018 | 163.84255 | 2016 | 33.5 |  743 |  41 | 0.05518170 | 9.648599e-03 | 59.12 |\n",
       "| Angola      | 2018 | 30809762 | 2018 |  2.216374 | 2018 | 50.97470 | 2017 | 32.38850 | 2005 | ... | 1.3123 | 2018 |  24.71305 |   NA |   NA |   27 |   2 | 0.07407407 | 8.763456e-07 | 86.77 |\n",
       "| Argentina   | 2018 | 44494502 | 2018 | 11.117789 | 2018 | 64.12128 | 2017 | 13.31183 | 2014 | ... | 2.5800 | 2018 |  16.25851 | 2016 | 21.8 | 4127 | 207 | 0.05015750 | 9.275303e-05 | 90.21 |\n",
       "\n"
      ],
      "text/plain": [
       "  country     year_pop_total pop_total year_age_65up age_65up  year_age_1564\n",
       "1 Afghanistan 2018           37172386  2018           2.584927 2018         \n",
       "2 Albania     2018            2866376  2018          13.744736 2018         \n",
       "3 Algeria     2018           42228429  2018           6.362497 2018         \n",
       "4 Andorra     2018              77006    NA                 NA   NA         \n",
       "5 Angola      2018           30809762  2018           2.216374 2018         \n",
       "6 Argentina   2018           44494502  2018          11.117789 2018         \n",
       "  age_1564 year_air_pollution air_pollution year_med_bed ... nurses_midwives\n",
       "1 54.32490 2017               56.91081      2015         ... 0.3200         \n",
       "2 68.58239 2017               18.20060      2013         ... 3.5998         \n",
       "3 63.48882 2017               38.88401      2015         ... 2.2400         \n",
       "4       NA 2017               10.30762      2009         ... 4.0128         \n",
       "5 50.97470 2017               32.38850      2005         ... 1.3123         \n",
       "6 64.12128 2017               13.31183      2014         ... 2.5800         \n",
       "  year_pop_density pop_density year_smoking smoking confirmed death rate      \n",
       "1 2018              56.93776     NA           NA    1828       58   0.03172867\n",
       "2 2018             104.61226   2016         28.7     750       30   0.04000000\n",
       "3 2018              17.73008   2016         15.6    3649      437   0.11975884\n",
       "4 2018             163.84255   2016         33.5     743       41   0.05518170\n",
       "5 2018              24.71305     NA           NA      27        2   0.07407407\n",
       "6 2018              16.25851   2016         21.8    4127      207   0.05015750\n",
       "  confirmed_rate gov_resp\n",
       "1 4.917629e-05   73.55   \n",
       "2 2.616544e-04   88.36   \n",
       "3 8.641098e-05   82.42   \n",
       "4 9.648599e-03   59.12   \n",
       "5 8.763456e-07   86.77   \n",
       "6 9.275303e-05   90.21   "
      ]
     },
     "metadata": {},
     "output_type": "display_data"
    }
   ],
   "source": [
    "head(data_gov)"
   ]
  },
  {
   "cell_type": "code",
   "execution_count": 46,
   "metadata": {},
   "outputs": [
    {
     "data": {
      "image/png": "[encoded data removed]",
      "text/plain": [
       "plot without title"
      ]
     },
     "metadata": {
      "image/png": {
       "height": 420,
       "width": 420
      },
      "text/plain": {
       "height": 420,
       "width": 420
      }
     },
     "output_type": "display_data"
    }
   ],
   "source": [
    "drop_na(data) %>%\n",
    "    ggplot(aes(sqrt(age_65up))) +\n",
    "    geom_histogram(bins = 20)"
   ]
  },
  {
   "cell_type": "code",
   "execution_count": 47,
   "metadata": {},
   "outputs": [
    {
     "data": {
      "image/png": "[encoded data removed]",
      "text/plain": [
       "plot without title"
      ]
     },
     "metadata": {
      "image/png": {
       "height": 420,
       "width": 420
      },
      "text/plain": {
       "height": 420,
       "width": 420
      }
     },
     "output_type": "display_data"
    }
   ],
   "source": [
    "drop_na(data) %>%\n",
    "    ggplot(aes(log(pop_density))) +\n",
    "    geom_histogram(bins = 30)"
   ]
  },
  {
   "cell_type": "code",
   "execution_count": 210,
   "metadata": {},
   "outputs": [
    {
     "data": {
      "image/png": "[encoded data removed]",
      "text/plain": [
       "plot without title"
      ]
     },
     "metadata": {
      "image/png": {
       "height": 420,
       "width": 420
      },
      "text/plain": {
       "height": 420,
       "width": 420
      }
     },
     "output_type": "display_data"
    }
   ],
   "source": [
    "drop_na(data) %>%\n",
    "    ggplot(aes(log(nurses_midwives))) +\n",
    "    geom_histogram(bins = 30)"
   ]
  },
  {
   "cell_type": "code",
   "execution_count": 205,
   "metadata": {},
   "outputs": [
    {
     "data": {
      "image/png": "[encoded data removed]",
      "text/plain": [
       "plot without title"
      ]
     },
     "metadata": {
      "image/png": {
       "height": 420,
       "width": 420
      },
      "text/plain": {
       "height": 420,
       "width": 420
      }
     },
     "output_type": "display_data"
    }
   ],
   "source": [
    "drop_na(data) %>%\n",
    "    ggplot(aes(log(air_pollution))) +\n",
    "    geom_histogram(bins = 30)"
   ]
  },
  {
   "cell_type": "code",
   "execution_count": 211,
   "metadata": {},
   "outputs": [
    {
     "data": {
      "image/png": "[encoded data removed]",
      "text/plain": [
       "plot without title"
      ]
     },
     "metadata": {
      "image/png": {
       "height": 420,
       "width": 420
      },
      "text/plain": {
       "height": 420,
       "width": 420
      }
     },
     "output_type": "display_data"
    }
   ],
   "source": [
    "drop_na(data) %>%\n",
    "    ggplot(aes(smoking)) +\n",
    "    geom_histogram(bins = 30)"
   ]
  },
  {
   "cell_type": "code",
   "execution_count": 216,
   "metadata": {},
   "outputs": [
    {
     "data": {
      "image/png": "[encoded data removed]",
      "text/plain": [
       "plot without title"
      ]
     },
     "metadata": {
      "image/png": {
       "height": 420,
       "width": 420
      },
      "text/plain": {
       "height": 420,
       "width": 420
      }
     },
     "output_type": "display_data"
    }
   ],
   "source": [
    "drop_na(data) %>%\n",
    "    ggplot(aes(sqrt(physicians))) +\n",
    "    geom_histogram(bins = 30)"
   ]
  },
  {
   "cell_type": "code",
   "execution_count": 219,
   "metadata": {},
   "outputs": [
    {
     "data": {
      "image/png": "[encoded data removed]",
      "text/plain": [
       "plot without title"
      ]
     },
     "metadata": {
      "image/png": {
       "height": 420,
       "width": 420
      },
      "text/plain": {
       "height": 420,
       "width": 420
      }
     },
     "output_type": "display_data"
    }
   ],
   "source": [
    "drop_na(data) %>%\n",
    "    ggplot(aes(sqrt(med_bed))) +\n",
    "    geom_histogram(bins = 30)"
   ]
  },
  {
   "cell_type": "code",
   "execution_count": 221,
   "metadata": {},
   "outputs": [
    {
     "data": {
      "image/png": "[encoded data removed]",
      "text/plain": [
       "plot without title"
      ]
     },
     "metadata": {
      "image/png": {
       "height": 420,
       "width": 420
      },
      "text/plain": {
       "height": 420,
       "width": 420
      }
     },
     "output_type": "display_data"
    }
   ],
   "source": [
    "drop_na(data) %>%\n",
    "    ggplot(aes(log(confirmed_rate))) +\n",
    "    geom_histogram(bins = 30)"
   ]
  },
  {
   "cell_type": "code",
   "execution_count": 198,
   "metadata": {},
   "outputs": [
    {
     "data": {
      "image/png": "[encoded data removed]",
      "text/plain": [
       "plot without title"
      ]
     },
     "metadata": {
      "image/png": {
       "height": 420,
       "width": 420
      },
      "text/plain": {
       "height": 420,
       "width": 420
      }
     },
     "output_type": "display_data"
    }
   ],
   "source": [
    "drop_na(data) %>%\n",
    "    filter(rate != 0) %>%\n",
    "    ggplot(aes(sqrt(rate))) +\n",
    "    geom_histogram(bins = 20)"
   ]
  },
  {
   "cell_type": "code",
   "execution_count": 226,
   "metadata": {},
   "outputs": [
    {
     "data": {
      "image/png": "[encoded data removed]",
      "text/plain": [
       "plot without title"
      ]
     },
     "metadata": {
      "image/png": {
       "height": 420,
       "width": 420
      },
      "text/plain": {
       "height": 420,
       "width": 420
      }
     },
     "output_type": "display_data"
    }
   ],
   "source": [
    "drop_na(data_gov) %>%\n",
    "    ggplot(aes(sqrt(max(gov_resp + 1) - gov_resp))) +\n",
    "    geom_histogram(bins = 20)"
   ]
  },
  {
   "cell_type": "code",
   "execution_count": 47,
   "metadata": {},
   "outputs": [],
   "source": [
    "p1 <- drop_na(data) %>%\n",
    "    ggplot(aes(age_65up, \n",
    "               rate, \n",
    "               text = paste(\n",
    "                   'country', country,\n",
    "                   '\\nage_65up', age_65up,\n",
    "                   '\\nrate', rate\n",
    "               ))) +\n",
    "    geom_point()"
   ]
  },
  {
   "cell_type": "code",
   "execution_count": 48,
   "metadata": {},
   "outputs": [
    {
     "data": {
      "image/png": "[encoded data removed]",
      "text/plain": [
       "plot without title"
      ]
     },
     "metadata": {
      "image/png": {
       "height": 420,
       "width": 420
      },
      "text/plain": {
       "height": 420,
       "width": 420
      }
     },
     "output_type": "display_data"
    }
   ],
   "source": [
    "p1"
   ]
  },
  {
   "cell_type": "code",
   "execution_count": null,
   "metadata": {},
   "outputs": [],
   "source": [
    "ggplotly(p1, tooltip = \"text\")"
   ]
  },
  {
   "cell_type": "code",
   "execution_count": 50,
   "metadata": {},
   "outputs": [
    {
     "data": {
      "image/png": "[encoded data removed]",
      "text/plain": [
       "plot without title"
      ]
     },
     "metadata": {
      "image/png": {
       "height": 420,
       "width": 420
      },
      "text/plain": {
       "height": 420,
       "width": 420
      }
     },
     "output_type": "display_data"
    }
   ],
   "source": [
    "drop_na(data_gov) %>%\n",
    "    ggplot(aes(gov_resp, rate)) +\n",
    "    geom_point()"
   ]
  },
  {
   "cell_type": "code",
   "execution_count": 51,
   "metadata": {},
   "outputs": [
    {
     "data": {
      "text/html": [
       "<ol class=list-inline>\n",
       "\t<li>'country'</li>\n",
       "\t<li>'year_pop_total'</li>\n",
       "\t<li>'pop_total'</li>\n",
       "\t<li>'year_age_65up'</li>\n",
       "\t<li>'age_65up'</li>\n",
       "\t<li>'year_age_1564'</li>\n",
       "\t<li>'age_1564'</li>\n",
       "\t<li>'year_air_pollution'</li>\n",
       "\t<li>'air_pollution'</li>\n",
       "\t<li>'year_med_bed'</li>\n",
       "\t<li>'med_bed'</li>\n",
       "\t<li>'year_physicians'</li>\n",
       "\t<li>'physicians'</li>\n",
       "\t<li>'year_nurses_midwives'</li>\n",
       "\t<li>'nurses_midwives'</li>\n",
       "\t<li>'year_pop_density'</li>\n",
       "\t<li>'pop_density'</li>\n",
       "\t<li>'year_smoking'</li>\n",
       "\t<li>'smoking'</li>\n",
       "\t<li>'confirmed'</li>\n",
       "\t<li>'death'</li>\n",
       "\t<li>'rate'</li>\n",
       "\t<li>'confirmed_rate'</li>\n",
       "</ol>\n"
      ],
      "text/latex": [
       "\\begin{enumerate*}\n",
       "\\item 'country'\n",
       "\\item 'year\\_pop\\_total'\n",
       "\\item 'pop\\_total'\n",
       "\\item 'year\\_age\\_65up'\n",
       "\\item 'age\\_65up'\n",
       "\\item 'year\\_age\\_1564'\n",
       "\\item 'age\\_1564'\n",
       "\\item 'year\\_air\\_pollution'\n",
       "\\item 'air\\_pollution'\n",
       "\\item 'year\\_med\\_bed'\n",
       "\\item 'med\\_bed'\n",
       "\\item 'year\\_physicians'\n",
       "\\item 'physicians'\n",
       "\\item 'year\\_nurses\\_midwives'\n",
       "\\item 'nurses\\_midwives'\n",
       "\\item 'year\\_pop\\_density'\n",
       "\\item 'pop\\_density'\n",
       "\\item 'year\\_smoking'\n",
       "\\item 'smoking'\n",
       "\\item 'confirmed'\n",
       "\\item 'death'\n",
       "\\item 'rate'\n",
       "\\item 'confirmed\\_rate'\n",
       "\\end{enumerate*}\n"
      ],
      "text/markdown": [
       "1. 'country'\n",
       "2. 'year_pop_total'\n",
       "3. 'pop_total'\n",
       "4. 'year_age_65up'\n",
       "5. 'age_65up'\n",
       "6. 'year_age_1564'\n",
       "7. 'age_1564'\n",
       "8. 'year_air_pollution'\n",
       "9. 'air_pollution'\n",
       "10. 'year_med_bed'\n",
       "11. 'med_bed'\n",
       "12. 'year_physicians'\n",
       "13. 'physicians'\n",
       "14. 'year_nurses_midwives'\n",
       "15. 'nurses_midwives'\n",
       "16. 'year_pop_density'\n",
       "17. 'pop_density'\n",
       "18. 'year_smoking'\n",
       "19. 'smoking'\n",
       "20. 'confirmed'\n",
       "21. 'death'\n",
       "22. 'rate'\n",
       "23. 'confirmed_rate'\n",
       "\n",
       "\n"
      ],
      "text/plain": [
       " [1] \"country\"              \"year_pop_total\"       \"pop_total\"           \n",
       " [4] \"year_age_65up\"        \"age_65up\"             \"year_age_1564\"       \n",
       " [7] \"age_1564\"             \"year_air_pollution\"   \"air_pollution\"       \n",
       "[10] \"year_med_bed\"         \"med_bed\"              \"year_physicians\"     \n",
       "[13] \"physicians\"           \"year_nurses_midwives\" \"nurses_midwives\"     \n",
       "[16] \"year_pop_density\"     \"pop_density\"          \"year_smoking\"        \n",
       "[19] \"smoking\"              \"confirmed\"            \"death\"               \n",
       "[22] \"rate\"                 \"confirmed_rate\"      "
      ]
     },
     "metadata": {},
     "output_type": "display_data"
    },
    {
     "data": {
      "text/html": [
       "<ol class=list-inline>\n",
       "\t<li>'country'</li>\n",
       "\t<li>'year_pop_total'</li>\n",
       "\t<li>'pop_total'</li>\n",
       "\t<li>'year_age_65up'</li>\n",
       "\t<li>'age_65up'</li>\n",
       "\t<li>'year_age_1564'</li>\n",
       "\t<li>'age_1564'</li>\n",
       "\t<li>'year_air_pollution'</li>\n",
       "\t<li>'air_pollution'</li>\n",
       "\t<li>'year_med_bed'</li>\n",
       "\t<li>'med_bed'</li>\n",
       "\t<li>'year_physicians'</li>\n",
       "\t<li>'physicians'</li>\n",
       "\t<li>'year_nurses_midwives'</li>\n",
       "\t<li>'nurses_midwives'</li>\n",
       "\t<li>'year_pop_density'</li>\n",
       "\t<li>'pop_density'</li>\n",
       "\t<li>'year_smoking'</li>\n",
       "\t<li>'smoking'</li>\n",
       "\t<li>'confirmed'</li>\n",
       "\t<li>'death'</li>\n",
       "\t<li>'rate'</li>\n",
       "\t<li>'confirmed_rate'</li>\n",
       "\t<li>'gov_resp'</li>\n",
       "</ol>\n"
      ],
      "text/latex": [
       "\\begin{enumerate*}\n",
       "\\item 'country'\n",
       "\\item 'year\\_pop\\_total'\n",
       "\\item 'pop\\_total'\n",
       "\\item 'year\\_age\\_65up'\n",
       "\\item 'age\\_65up'\n",
       "\\item 'year\\_age\\_1564'\n",
       "\\item 'age\\_1564'\n",
       "\\item 'year\\_air\\_pollution'\n",
       "\\item 'air\\_pollution'\n",
       "\\item 'year\\_med\\_bed'\n",
       "\\item 'med\\_bed'\n",
       "\\item 'year\\_physicians'\n",
       "\\item 'physicians'\n",
       "\\item 'year\\_nurses\\_midwives'\n",
       "\\item 'nurses\\_midwives'\n",
       "\\item 'year\\_pop\\_density'\n",
       "\\item 'pop\\_density'\n",
       "\\item 'year\\_smoking'\n",
       "\\item 'smoking'\n",
       "\\item 'confirmed'\n",
       "\\item 'death'\n",
       "\\item 'rate'\n",
       "\\item 'confirmed\\_rate'\n",
       "\\item 'gov\\_resp'\n",
       "\\end{enumerate*}\n"
      ],
      "text/markdown": [
       "1. 'country'\n",
       "2. 'year_pop_total'\n",
       "3. 'pop_total'\n",
       "4. 'year_age_65up'\n",
       "5. 'age_65up'\n",
       "6. 'year_age_1564'\n",
       "7. 'age_1564'\n",
       "8. 'year_air_pollution'\n",
       "9. 'air_pollution'\n",
       "10. 'year_med_bed'\n",
       "11. 'med_bed'\n",
       "12. 'year_physicians'\n",
       "13. 'physicians'\n",
       "14. 'year_nurses_midwives'\n",
       "15. 'nurses_midwives'\n",
       "16. 'year_pop_density'\n",
       "17. 'pop_density'\n",
       "18. 'year_smoking'\n",
       "19. 'smoking'\n",
       "20. 'confirmed'\n",
       "21. 'death'\n",
       "22. 'rate'\n",
       "23. 'confirmed_rate'\n",
       "24. 'gov_resp'\n",
       "\n",
       "\n"
      ],
      "text/plain": [
       " [1] \"country\"              \"year_pop_total\"       \"pop_total\"           \n",
       " [4] \"year_age_65up\"        \"age_65up\"             \"year_age_1564\"       \n",
       " [7] \"age_1564\"             \"year_air_pollution\"   \"air_pollution\"       \n",
       "[10] \"year_med_bed\"         \"med_bed\"              \"year_physicians\"     \n",
       "[13] \"physicians\"           \"year_nurses_midwives\" \"nurses_midwives\"     \n",
       "[16] \"year_pop_density\"     \"pop_density\"          \"year_smoking\"        \n",
       "[19] \"smoking\"              \"confirmed\"            \"death\"               \n",
       "[22] \"rate\"                 \"confirmed_rate\"       \"gov_resp\"            "
      ]
     },
     "metadata": {},
     "output_type": "display_data"
    }
   ],
   "source": [
    "colnames(data)\n",
    "colnames(data_gov)"
   ]
  },
  {
   "cell_type": "code",
   "execution_count": 48,
   "metadata": {},
   "outputs": [],
   "source": [
    "df_no_gov <- data[c(-1, -2, -3, -4, -6, -7, -8, -10, -12, -14, -16, -18, -20, -21)]\n",
    "df_cp <- data_gov[c(-1, -2, -3, -4, -6, -7, -8, -10, -12, -14, -16, -18, -20, -21)]"
   ]
  },
  {
   "cell_type": "code",
   "execution_count": 53,
   "metadata": {},
   "outputs": [
    {
     "data": {
      "text/html": [
       "<ol class=list-inline>\n",
       "\t<li>'age_65up'</li>\n",
       "\t<li>'air_pollution'</li>\n",
       "\t<li>'med_bed'</li>\n",
       "\t<li>'physicians'</li>\n",
       "\t<li>'nurses_midwives'</li>\n",
       "\t<li>'pop_density'</li>\n",
       "\t<li>'smoking'</li>\n",
       "\t<li>'rate'</li>\n",
       "\t<li>'confirmed_rate'</li>\n",
       "</ol>\n"
      ],
      "text/latex": [
       "\\begin{enumerate*}\n",
       "\\item 'age\\_65up'\n",
       "\\item 'air\\_pollution'\n",
       "\\item 'med\\_bed'\n",
       "\\item 'physicians'\n",
       "\\item 'nurses\\_midwives'\n",
       "\\item 'pop\\_density'\n",
       "\\item 'smoking'\n",
       "\\item 'rate'\n",
       "\\item 'confirmed\\_rate'\n",
       "\\end{enumerate*}\n"
      ],
      "text/markdown": [
       "1. 'age_65up'\n",
       "2. 'air_pollution'\n",
       "3. 'med_bed'\n",
       "4. 'physicians'\n",
       "5. 'nurses_midwives'\n",
       "6. 'pop_density'\n",
       "7. 'smoking'\n",
       "8. 'rate'\n",
       "9. 'confirmed_rate'\n",
       "\n",
       "\n"
      ],
      "text/plain": [
       "[1] \"age_65up\"        \"air_pollution\"   \"med_bed\"         \"physicians\"     \n",
       "[5] \"nurses_midwives\" \"pop_density\"     \"smoking\"         \"rate\"           \n",
       "[9] \"confirmed_rate\" "
      ]
     },
     "metadata": {},
     "output_type": "display_data"
    },
    {
     "data": {
      "text/html": [
       "<ol class=list-inline>\n",
       "\t<li>'age_65up'</li>\n",
       "\t<li>'air_pollution'</li>\n",
       "\t<li>'med_bed'</li>\n",
       "\t<li>'physicians'</li>\n",
       "\t<li>'nurses_midwives'</li>\n",
       "\t<li>'pop_density'</li>\n",
       "\t<li>'smoking'</li>\n",
       "\t<li>'rate'</li>\n",
       "\t<li>'confirmed_rate'</li>\n",
       "\t<li>'gov_resp'</li>\n",
       "</ol>\n"
      ],
      "text/latex": [
       "\\begin{enumerate*}\n",
       "\\item 'age\\_65up'\n",
       "\\item 'air\\_pollution'\n",
       "\\item 'med\\_bed'\n",
       "\\item 'physicians'\n",
       "\\item 'nurses\\_midwives'\n",
       "\\item 'pop\\_density'\n",
       "\\item 'smoking'\n",
       "\\item 'rate'\n",
       "\\item 'confirmed\\_rate'\n",
       "\\item 'gov\\_resp'\n",
       "\\end{enumerate*}\n"
      ],
      "text/markdown": [
       "1. 'age_65up'\n",
       "2. 'air_pollution'\n",
       "3. 'med_bed'\n",
       "4. 'physicians'\n",
       "5. 'nurses_midwives'\n",
       "6. 'pop_density'\n",
       "7. 'smoking'\n",
       "8. 'rate'\n",
       "9. 'confirmed_rate'\n",
       "10. 'gov_resp'\n",
       "\n",
       "\n"
      ],
      "text/plain": [
       " [1] \"age_65up\"        \"air_pollution\"   \"med_bed\"         \"physicians\"     \n",
       " [5] \"nurses_midwives\" \"pop_density\"     \"smoking\"         \"rate\"           \n",
       " [9] \"confirmed_rate\"  \"gov_resp\"       "
      ]
     },
     "metadata": {},
     "output_type": "display_data"
    }
   ],
   "source": [
    "colnames(df_no_gov)\n",
    "colnames(df_cp)"
   ]
  },
  {
   "cell_type": "code",
   "execution_count": 54,
   "metadata": {},
   "outputs": [
    {
     "name": "stdout",
     "output_type": "stream",
     "text": [
      "'data.frame':\t180 obs. of  9 variables:\n",
      " $ age_65up       : num  2.58 13.74 6.36 NA 2.22 ...\n",
      " $ air_pollution  : num  56.9 18.2 38.9 10.3 32.4 ...\n",
      " $ med_bed        : num  0.5 2.9 1.9 2.5 0.8 3.8 5 4.2 3.8 7.6 ...\n",
      " $ physicians     : num  0.284 1.2 1.83 3.333 0.215 ...\n",
      " $ nurses_midwives: num  0.32 3.6 2.24 4.01 1.31 ...\n",
      " $ pop_density    : num  56.9 104.6 17.7 163.8 24.7 ...\n",
      " $ smoking        : num  NA 28.7 15.6 33.5 NA NA 21.8 24.1 14.7 29.6 ...\n",
      " $ rate           : num  0.0335 0.038 0.1228 0.0538 0.0741 ...\n",
      " $ confirmed_rate : num  4.58e-05 2.57e-04 8.33e-05 9.65e-03 8.76e-07 ...\n"
     ]
    }
   ],
   "source": [
    "str(df_no_gov)"
   ]
  },
  {
   "cell_type": "code",
   "execution_count": 55,
   "metadata": {},
   "outputs": [
    {
     "data": {
      "text/plain": [
       "    age_65up      air_pollution       med_bed         physicians    \n",
       " Min.   : 1.085   Min.   : 5.861   Min.   : 0.100   Min.   :0.0008  \n",
       " 1st Qu.: 3.316   1st Qu.:15.876   1st Qu.: 1.200   1st Qu.:0.3200  \n",
       " Median : 6.440   Median :22.472   Median : 2.300   Median :1.3199  \n",
       " Mean   : 8.803   Mean   :28.428   Mean   : 2.913   Mean   :1.7727  \n",
       " 3rd Qu.:14.104   3rd Qu.:38.077   3rd Qu.: 4.000   3rd Qu.:2.8990  \n",
       " Max.   :27.576   Max.   :99.734   Max.   :13.800   Max.   :8.1900  \n",
       " NA's   :6        NA's   :4        NA's   :3        NA's   :3       \n",
       " nurses_midwives    pop_density           smoking           rate         \n",
       " Min.   : 0.0611   Min.   :    2.041   Min.   : 2.00   Min.   :0.000000  \n",
       " 1st Qu.: 1.0205   1st Qu.:   36.095   1st Qu.:13.72   1st Qu.:0.008871  \n",
       " Median : 2.6328   Median :   83.932   Median :21.55   Median :0.028415  \n",
       " Mean   : 4.1489   Mean   :  312.834   Mean   :21.22   Mean   :0.038498  \n",
       " 3rd Qu.: 6.3180   3rd Qu.:  203.073   3rd Qu.:27.80   3rd Qu.:0.055464  \n",
       " Max.   :20.2625   Max.   :19196.000   Max.   :45.90   Max.   :0.230769  \n",
       " NA's   :4         NA's   :2           NA's   :42                        \n",
       " confirmed_rate     \n",
       " Min.   :6.000e-09  \n",
       " 1st Qu.:2.113e-05  \n",
       " Median :1.132e-04  \n",
       " Mean   :7.165e-04  \n",
       " 3rd Qu.:6.273e-04  \n",
       " Max.   :1.592e-02  \n",
       "                    "
      ]
     },
     "metadata": {},
     "output_type": "display_data"
    }
   ],
   "source": [
    "summary(df_no_gov)"
   ]
  },
  {
   "cell_type": "code",
   "execution_count": 56,
   "metadata": {},
   "outputs": [
    {
     "name": "stdout",
     "output_type": "stream",
     "text": [
      "'data.frame':\t141 obs. of  10 variables:\n",
      " $ age_65up       : num  2.58 13.74 6.36 NA 2.22 ...\n",
      " $ air_pollution  : num  56.9 18.2 38.9 10.3 32.4 ...\n",
      " $ med_bed        : num  0.5 2.9 1.9 2.5 0.8 5 3.8 7.6 4.7 2 ...\n",
      " $ physicians     : num  0.284 1.2 1.83 3.333 0.215 ...\n",
      " $ nurses_midwives: num  0.32 3.6 2.24 4.01 1.31 ...\n",
      " $ pop_density    : num  56.9 104.6 17.7 163.8 24.7 ...\n",
      " $ smoking        : num  NA 28.7 15.6 33.5 NA 21.8 14.7 29.6 20.8 26.4 ...\n",
      " $ rate           : num  0.0335 0.038 0.1228 0.0538 0.0741 ...\n",
      " $ confirmed_rate : num  4.58e-05 2.57e-04 8.33e-05 9.65e-03 8.76e-07 ...\n",
      " $ gov_resp       : num  73.5 88.4 82.4 59.1 86.8 ...\n"
     ]
    }
   ],
   "source": [
    "str(df_cp)"
   ]
  },
  {
   "cell_type": "code",
   "execution_count": 57,
   "metadata": {},
   "outputs": [
    {
     "data": {
      "text/plain": [
       "    age_65up      air_pollution       med_bed         physicians    \n",
       " Min.   : 1.085   Min.   : 5.861   Min.   : 0.100   Min.   :0.0008  \n",
       " 1st Qu.: 3.581   1st Qu.:14.535   1st Qu.: 1.300   1st Qu.:0.4548  \n",
       " Median : 7.083   Median :21.569   Median : 2.300   Median :1.7605  \n",
       " Mean   : 9.251   Mean   :27.965   Mean   : 2.936   Mean   :1.8938  \n",
       " 3rd Qu.:14.815   3rd Qu.:38.091   3rd Qu.: 3.950   3rd Qu.:3.0164  \n",
       " Max.   :27.576   Max.   :94.054   Max.   :13.400   Max.   :8.1900  \n",
       " NA's   :4        NA's   :2        NA's   :2        NA's   :2       \n",
       " nurses_midwives    pop_density          smoking           rate        \n",
       " Min.   : 0.1059   Min.   :   2.041   Min.   : 2.00   Min.   :0.00000  \n",
       " 1st Qu.: 1.1471   1st Qu.:  31.663   1st Qu.:13.95   1st Qu.:0.01311  \n",
       " Median : 2.7750   Median :  88.531   Median :21.50   Median :0.03279  \n",
       " Mean   : 4.4203   Mean   : 207.213   Mean   :21.18   Mean   :0.04231  \n",
       " 3rd Qu.: 6.6227   3rd Qu.: 180.298   3rd Qu.:27.60   3rd Qu.:0.05693  \n",
       " Max.   :18.1247   Max.   :7952.998   Max.   :43.40   Max.   :0.23077  \n",
       " NA's   :2         NA's   :2          NA's   :26                       \n",
       " confirmed_rate         gov_resp     \n",
       " Min.   :5.470e-07   Min.   : 16.67  \n",
       " 1st Qu.:3.124e-05   1st Qu.: 74.88  \n",
       " Median :1.231e-04   Median : 83.87  \n",
       " Mean   :8.323e-04   Mean   : 80.67  \n",
       " 3rd Qu.:7.947e-04   3rd Qu.: 90.74  \n",
       " Max.   :1.592e-02   Max.   :100.00  \n",
       "                                     "
      ]
     },
     "metadata": {},
     "output_type": "display_data"
    }
   ],
   "source": [
    "summary(df_cp)"
   ]
  },
  {
   "cell_type": "code",
   "execution_count": 103,
   "metadata": {},
   "outputs": [
    {
     "data": {
      "text/html": [
       "13.7254803078296"
      ],
      "text/latex": [
       "13.7254803078296"
      ],
      "text/markdown": [
       "13.7254803078296"
      ],
      "text/plain": [
       "[1] 13.72548"
      ]
     },
     "metadata": {},
     "output_type": "display_data"
    }
   ],
   "source": [
    "# age_75 <- quantile(country_data$age_65up, 0.75, na.rm = TRUE, names = FALSE)\n",
    "# age_75"
   ]
  },
  {
   "cell_type": "code",
   "execution_count": 104,
   "metadata": {},
   "outputs": [
    {
     "data": {
      "text/html": [
       "40"
      ],
      "text/latex": [
       "40"
      ],
      "text/markdown": [
       "40"
      ],
      "text/plain": [
       "[1] 40"
      ]
     },
     "metadata": {},
     "output_type": "display_data"
    }
   ],
   "source": [
    "# sum(df_cp$age_65up > age_75, na.rm = TRUE)"
   ]
  },
  {
   "cell_type": "code",
   "execution_count": 105,
   "metadata": {},
   "outputs": [
    {
     "data": {
      "text/html": [
       "0.0552563216473224"
      ],
      "text/latex": [
       "0.0552563216473224"
      ],
      "text/markdown": [
       "0.0552563216473224"
      ],
      "text/plain": [
       "[1] 0.05525632"
      ]
     },
     "metadata": {},
     "output_type": "display_data"
    }
   ],
   "source": [
    "# rate_75 <- quantile(covid19$rate, 0.75, na.rm = TRUE, names = FALSE)\n",
    "# rate_75"
   ]
  },
  {
   "cell_type": "code",
   "execution_count": 107,
   "metadata": {},
   "outputs": [
    {
     "data": {
      "text/html": [
       "39"
      ],
      "text/latex": [
       "39"
      ],
      "text/markdown": [
       "39"
      ],
      "text/plain": [
       "[1] 39"
      ]
     },
     "metadata": {},
     "output_type": "display_data"
    }
   ],
   "source": [
    "# sum(df_cp$rate > rate_75, na.rm = TRUE)"
   ]
  },
  {
   "cell_type": "markdown",
   "metadata": {},
   "source": [
    "## 6. Research question\n",
    "\n",
    "Does a higher portion of the old (age 65 and up) in the population (population aging) lead to a higher COVID-19 death rate?\n",
    "\n",
    "Null hypothesis ($H_0$):\n",
    "\n",
    "> A higher portion of the old (age 65 and up) in the population (population aging) does not lead to a higher COVID-19 death rate.\n",
    "\n",
    "Alternative hypothesis ($H_A$):\n",
    "\n",
    "> A higher portion of the old (age 65 and up) in the population (population aging) leads to a higher COVID-19 death rate."
   ]
  },
  {
   "cell_type": "markdown",
   "metadata": {},
   "source": [
    "## 7. Data Analysis & Visualizations"
   ]
  },
  {
   "cell_type": "markdown",
   "metadata": {},
   "source": [
    "#### I. Linear regression"
   ]
  },
  {
   "cell_type": "code",
   "execution_count": 49,
   "metadata": {},
   "outputs": [],
   "source": [
    "#'\n",
    "#'\n",
    "analyze_lm <- function(model){\n",
    "    model %>%\n",
    "        broom::tidy() %>%\n",
    "        mutate(p.value.adjust = p.adjust(p.value, method = \"BH\"),\n",
    "               significant = p.value.adjust < 0.05)\n",
    "}"
   ]
  },
  {
   "cell_type": "markdown",
   "metadata": {},
   "source": [
    "1) Check all the potential confounding variables:"
   ]
  },
  {
   "cell_type": "code",
   "execution_count": 59,
   "metadata": {},
   "outputs": [
    {
     "data": {
      "text/html": [
       "<table>\n",
       "<caption>A tibble: 10 × 7</caption>\n",
       "<thead>\n",
       "\t<tr><th scope=col>term</th><th scope=col>estimate</th><th scope=col>std.error</th><th scope=col>statistic</th><th scope=col>p.value</th><th scope=col>p.value.adjust</th><th scope=col>significant</th></tr>\n",
       "\t<tr><th scope=col>&lt;chr&gt;</th><th scope=col>&lt;dbl&gt;</th><th scope=col>&lt;dbl&gt;</th><th scope=col>&lt;dbl&gt;</th><th scope=col>&lt;dbl&gt;</th><th scope=col>&lt;dbl&gt;</th><th scope=col>&lt;lgl&gt;</th></tr>\n",
       "</thead>\n",
       "<tbody>\n",
       "\t<tr><td>(Intercept)    </td><td> 3.047940e-02</td><td>2.235971e-02</td><td> 1.363139514</td><td>0.1757824796</td><td>0.292970799</td><td>FALSE</td></tr>\n",
       "\t<tr><td>age_65up       </td><td> 3.266314e-03</td><td>8.956228e-04</td><td> 3.646974668</td><td>0.0004164924</td><td>0.004164924</td><td> TRUE</td></tr>\n",
       "\t<tr><td>air_pollution  </td><td>-2.236423e-05</td><td>1.920940e-04</td><td>-0.116423343</td><td>0.9075415574</td><td>0.998641754</td><td>FALSE</td></tr>\n",
       "\t<tr><td>med_bed        </td><td>-3.926661e-03</td><td>2.222350e-03</td><td>-1.766896043</td><td>0.0801792324</td><td>0.292970799</td><td>FALSE</td></tr>\n",
       "\t<tr><td>physicians     </td><td>-7.936303e-04</td><td>3.409581e-03</td><td>-0.232764714</td><td>0.8164015861</td><td>0.998641754</td><td>FALSE</td></tr>\n",
       "\t<tr><td>nurses_midwives</td><td>-1.764807e-03</td><td>1.229300e-03</td><td>-1.435619167</td><td>0.1541116232</td><td>0.292970799</td><td>FALSE</td></tr>\n",
       "\t<tr><td>pop_density    </td><td>-6.280348e-06</td><td>4.080428e-06</td><td>-1.539139322</td><td>0.1268074136</td><td>0.292970799</td><td>FALSE</td></tr>\n",
       "\t<tr><td>smoking        </td><td>-2.120124e-04</td><td>4.119752e-04</td><td>-0.514624235</td><td>0.6079075770</td><td>0.868439396</td><td>FALSE</td></tr>\n",
       "\t<tr><td>confirmed_rate </td><td> 5.493238e+00</td><td>3.290078e+00</td><td> 1.669637743</td><td>0.0979984788</td><td>0.292970799</td><td>FALSE</td></tr>\n",
       "\t<tr><td>gov_resp       </td><td>-4.041836e-07</td><td>2.368624e-04</td><td>-0.001706407</td><td>0.9986417538</td><td>0.998641754</td><td>FALSE</td></tr>\n",
       "</tbody>\n",
       "</table>\n"
      ],
      "text/latex": [
       "A tibble: 10 × 7\n",
       "\\begin{tabular}{r|lllllll}\n",
       " term & estimate & std.error & statistic & p.value & p.value.adjust & significant\\\\\n",
       " <chr> & <dbl> & <dbl> & <dbl> & <dbl> & <dbl> & <lgl>\\\\\n",
       "\\hline\n",
       "\t (Intercept)     &  3.047940e-02 & 2.235971e-02 &  1.363139514 & 0.1757824796 & 0.292970799 & FALSE\\\\\n",
       "\t age\\_65up        &  3.266314e-03 & 8.956228e-04 &  3.646974668 & 0.0004164924 & 0.004164924 &  TRUE\\\\\n",
       "\t air\\_pollution   & -2.236423e-05 & 1.920940e-04 & -0.116423343 & 0.9075415574 & 0.998641754 & FALSE\\\\\n",
       "\t med\\_bed         & -3.926661e-03 & 2.222350e-03 & -1.766896043 & 0.0801792324 & 0.292970799 & FALSE\\\\\n",
       "\t physicians      & -7.936303e-04 & 3.409581e-03 & -0.232764714 & 0.8164015861 & 0.998641754 & FALSE\\\\\n",
       "\t nurses\\_midwives & -1.764807e-03 & 1.229300e-03 & -1.435619167 & 0.1541116232 & 0.292970799 & FALSE\\\\\n",
       "\t pop\\_density     & -6.280348e-06 & 4.080428e-06 & -1.539139322 & 0.1268074136 & 0.292970799 & FALSE\\\\\n",
       "\t smoking         & -2.120124e-04 & 4.119752e-04 & -0.514624235 & 0.6079075770 & 0.868439396 & FALSE\\\\\n",
       "\t confirmed\\_rate  &  5.493238e+00 & 3.290078e+00 &  1.669637743 & 0.0979984788 & 0.292970799 & FALSE\\\\\n",
       "\t gov\\_resp        & -4.041836e-07 & 2.368624e-04 & -0.001706407 & 0.9986417538 & 0.998641754 & FALSE\\\\\n",
       "\\end{tabular}\n"
      ],
      "text/markdown": [
       "\n",
       "A tibble: 10 × 7\n",
       "\n",
       "| term &lt;chr&gt; | estimate &lt;dbl&gt; | std.error &lt;dbl&gt; | statistic &lt;dbl&gt; | p.value &lt;dbl&gt; | p.value.adjust &lt;dbl&gt; | significant &lt;lgl&gt; |\n",
       "|---|---|---|---|---|---|---|\n",
       "| (Intercept)     |  3.047940e-02 | 2.235971e-02 |  1.363139514 | 0.1757824796 | 0.292970799 | FALSE |\n",
       "| age_65up        |  3.266314e-03 | 8.956228e-04 |  3.646974668 | 0.0004164924 | 0.004164924 |  TRUE |\n",
       "| air_pollution   | -2.236423e-05 | 1.920940e-04 | -0.116423343 | 0.9075415574 | 0.998641754 | FALSE |\n",
       "| med_bed         | -3.926661e-03 | 2.222350e-03 | -1.766896043 | 0.0801792324 | 0.292970799 | FALSE |\n",
       "| physicians      | -7.936303e-04 | 3.409581e-03 | -0.232764714 | 0.8164015861 | 0.998641754 | FALSE |\n",
       "| nurses_midwives | -1.764807e-03 | 1.229300e-03 | -1.435619167 | 0.1541116232 | 0.292970799 | FALSE |\n",
       "| pop_density     | -6.280348e-06 | 4.080428e-06 | -1.539139322 | 0.1268074136 | 0.292970799 | FALSE |\n",
       "| smoking         | -2.120124e-04 | 4.119752e-04 | -0.514624235 | 0.6079075770 | 0.868439396 | FALSE |\n",
       "| confirmed_rate  |  5.493238e+00 | 3.290078e+00 |  1.669637743 | 0.0979984788 | 0.292970799 | FALSE |\n",
       "| gov_resp        | -4.041836e-07 | 2.368624e-04 | -0.001706407 | 0.9986417538 | 0.998641754 | FALSE |\n",
       "\n"
      ],
      "text/plain": [
       "   term            estimate      std.error    statistic    p.value     \n",
       "1  (Intercept)      3.047940e-02 2.235971e-02  1.363139514 0.1757824796\n",
       "2  age_65up         3.266314e-03 8.956228e-04  3.646974668 0.0004164924\n",
       "3  air_pollution   -2.236423e-05 1.920940e-04 -0.116423343 0.9075415574\n",
       "4  med_bed         -3.926661e-03 2.222350e-03 -1.766896043 0.0801792324\n",
       "5  physicians      -7.936303e-04 3.409581e-03 -0.232764714 0.8164015861\n",
       "6  nurses_midwives -1.764807e-03 1.229300e-03 -1.435619167 0.1541116232\n",
       "7  pop_density     -6.280348e-06 4.080428e-06 -1.539139322 0.1268074136\n",
       "8  smoking         -2.120124e-04 4.119752e-04 -0.514624235 0.6079075770\n",
       "9  confirmed_rate   5.493238e+00 3.290078e+00  1.669637743 0.0979984788\n",
       "10 gov_resp        -4.041836e-07 2.368624e-04 -0.001706407 0.9986417538\n",
       "   p.value.adjust significant\n",
       "1  0.292970799    FALSE      \n",
       "2  0.004164924     TRUE      \n",
       "3  0.998641754    FALSE      \n",
       "4  0.292970799    FALSE      \n",
       "5  0.998641754    FALSE      \n",
       "6  0.292970799    FALSE      \n",
       "7  0.292970799    FALSE      \n",
       "8  0.868439396    FALSE      \n",
       "9  0.292970799    FALSE      \n",
       "10 0.998641754    FALSE      "
      ]
     },
     "metadata": {},
     "output_type": "display_data"
    }
   ],
   "source": [
    "fit <- lm(rate ~ ., df_cp)\n",
    "\n",
    "analyze_lm(fit)"
   ]
  },
  {
   "cell_type": "code",
   "execution_count": 60,
   "metadata": {},
   "outputs": [
    {
     "data": {
      "text/html": [
       "<table>\n",
       "<caption>A tibble: 9 × 7</caption>\n",
       "<thead>\n",
       "\t<tr><th scope=col>term</th><th scope=col>estimate</th><th scope=col>std.error</th><th scope=col>statistic</th><th scope=col>p.value</th><th scope=col>p.value.adjust</th><th scope=col>significant</th></tr>\n",
       "\t<tr><th scope=col>&lt;chr&gt;</th><th scope=col>&lt;dbl&gt;</th><th scope=col>&lt;dbl&gt;</th><th scope=col>&lt;dbl&gt;</th><th scope=col>&lt;dbl&gt;</th><th scope=col>&lt;dbl&gt;</th><th scope=col>&lt;lgl&gt;</th></tr>\n",
       "</thead>\n",
       "<tbody>\n",
       "\t<tr><td>(Intercept)    </td><td> 4.145850e-02</td><td>0.0101494288</td><td> 4.084811</td><td>7.727774e-05</td><td>0.0006954997</td><td> TRUE</td></tr>\n",
       "\t<tr><td>age_65up       </td><td> 2.727048e-03</td><td>0.0008488849</td><td> 3.212507</td><td>1.664681e-03</td><td>0.0074910660</td><td> TRUE</td></tr>\n",
       "\t<tr><td>air_pollution  </td><td>-1.942391e-04</td><td>0.0001756020</td><td>-1.106132</td><td>2.707439e-01</td><td>0.3093804367</td><td>FALSE</td></tr>\n",
       "\t<tr><td>med_bed        </td><td>-3.105694e-03</td><td>0.0020174383</td><td>-1.539425</td><td>1.261691e-01</td><td>0.2171446348</td><td>FALSE</td></tr>\n",
       "\t<tr><td>physicians     </td><td>-1.142673e-03</td><td>0.0033087865</td><td>-0.345345</td><td>7.304019e-01</td><td>0.7304018940</td><td>FALSE</td></tr>\n",
       "\t<tr><td>nurses_midwives</td><td>-1.814256e-03</td><td>0.0012365078</td><td>-1.467242</td><td>1.447631e-01</td><td>0.2171446348</td><td>FALSE</td></tr>\n",
       "\t<tr><td>pop_density    </td><td>-6.907478e-06</td><td>0.0000040539</td><td>-1.703909</td><td>9.082453e-02</td><td>0.2043551976</td><td>FALSE</td></tr>\n",
       "\t<tr><td>smoking        </td><td>-4.117416e-04</td><td>0.0003755730</td><td>-1.096302</td><td>2.750048e-01</td><td>0.3093804367</td><td>FALSE</td></tr>\n",
       "\t<tr><td>confirmed_rate </td><td> 6.527758e+00</td><td>3.3134644341</td><td> 1.970070</td><td>5.098916e-02</td><td>0.1529674929</td><td>FALSE</td></tr>\n",
       "</tbody>\n",
       "</table>\n"
      ],
      "text/latex": [
       "A tibble: 9 × 7\n",
       "\\begin{tabular}{r|lllllll}\n",
       " term & estimate & std.error & statistic & p.value & p.value.adjust & significant\\\\\n",
       " <chr> & <dbl> & <dbl> & <dbl> & <dbl> & <dbl> & <lgl>\\\\\n",
       "\\hline\n",
       "\t (Intercept)     &  4.145850e-02 & 0.0101494288 &  4.084811 & 7.727774e-05 & 0.0006954997 &  TRUE\\\\\n",
       "\t age\\_65up        &  2.727048e-03 & 0.0008488849 &  3.212507 & 1.664681e-03 & 0.0074910660 &  TRUE\\\\\n",
       "\t air\\_pollution   & -1.942391e-04 & 0.0001756020 & -1.106132 & 2.707439e-01 & 0.3093804367 & FALSE\\\\\n",
       "\t med\\_bed         & -3.105694e-03 & 0.0020174383 & -1.539425 & 1.261691e-01 & 0.2171446348 & FALSE\\\\\n",
       "\t physicians      & -1.142673e-03 & 0.0033087865 & -0.345345 & 7.304019e-01 & 0.7304018940 & FALSE\\\\\n",
       "\t nurses\\_midwives & -1.814256e-03 & 0.0012365078 & -1.467242 & 1.447631e-01 & 0.2171446348 & FALSE\\\\\n",
       "\t pop\\_density     & -6.907478e-06 & 0.0000040539 & -1.703909 & 9.082453e-02 & 0.2043551976 & FALSE\\\\\n",
       "\t smoking         & -4.117416e-04 & 0.0003755730 & -1.096302 & 2.750048e-01 & 0.3093804367 & FALSE\\\\\n",
       "\t confirmed\\_rate  &  6.527758e+00 & 3.3134644341 &  1.970070 & 5.098916e-02 & 0.1529674929 & FALSE\\\\\n",
       "\\end{tabular}\n"
      ],
      "text/markdown": [
       "\n",
       "A tibble: 9 × 7\n",
       "\n",
       "| term &lt;chr&gt; | estimate &lt;dbl&gt; | std.error &lt;dbl&gt; | statistic &lt;dbl&gt; | p.value &lt;dbl&gt; | p.value.adjust &lt;dbl&gt; | significant &lt;lgl&gt; |\n",
       "|---|---|---|---|---|---|---|\n",
       "| (Intercept)     |  4.145850e-02 | 0.0101494288 |  4.084811 | 7.727774e-05 | 0.0006954997 |  TRUE |\n",
       "| age_65up        |  2.727048e-03 | 0.0008488849 |  3.212507 | 1.664681e-03 | 0.0074910660 |  TRUE |\n",
       "| air_pollution   | -1.942391e-04 | 0.0001756020 | -1.106132 | 2.707439e-01 | 0.3093804367 | FALSE |\n",
       "| med_bed         | -3.105694e-03 | 0.0020174383 | -1.539425 | 1.261691e-01 | 0.2171446348 | FALSE |\n",
       "| physicians      | -1.142673e-03 | 0.0033087865 | -0.345345 | 7.304019e-01 | 0.7304018940 | FALSE |\n",
       "| nurses_midwives | -1.814256e-03 | 0.0012365078 | -1.467242 | 1.447631e-01 | 0.2171446348 | FALSE |\n",
       "| pop_density     | -6.907478e-06 | 0.0000040539 | -1.703909 | 9.082453e-02 | 0.2043551976 | FALSE |\n",
       "| smoking         | -4.117416e-04 | 0.0003755730 | -1.096302 | 2.750048e-01 | 0.3093804367 | FALSE |\n",
       "| confirmed_rate  |  6.527758e+00 | 3.3134644341 |  1.970070 | 5.098916e-02 | 0.1529674929 | FALSE |\n",
       "\n"
      ],
      "text/plain": [
       "  term            estimate      std.error    statistic p.value     \n",
       "1 (Intercept)      4.145850e-02 0.0101494288  4.084811 7.727774e-05\n",
       "2 age_65up         2.727048e-03 0.0008488849  3.212507 1.664681e-03\n",
       "3 air_pollution   -1.942391e-04 0.0001756020 -1.106132 2.707439e-01\n",
       "4 med_bed         -3.105694e-03 0.0020174383 -1.539425 1.261691e-01\n",
       "5 physicians      -1.142673e-03 0.0033087865 -0.345345 7.304019e-01\n",
       "6 nurses_midwives -1.814256e-03 0.0012365078 -1.467242 1.447631e-01\n",
       "7 pop_density     -6.907478e-06 0.0000040539 -1.703909 9.082453e-02\n",
       "8 smoking         -4.117416e-04 0.0003755730 -1.096302 2.750048e-01\n",
       "9 confirmed_rate   6.527758e+00 3.3134644341  1.970070 5.098916e-02\n",
       "  p.value.adjust significant\n",
       "1 0.0006954997    TRUE      \n",
       "2 0.0074910660    TRUE      \n",
       "3 0.3093804367   FALSE      \n",
       "4 0.2171446348   FALSE      \n",
       "5 0.7304018940   FALSE      \n",
       "6 0.2171446348   FALSE      \n",
       "7 0.2043551976   FALSE      \n",
       "8 0.3093804367   FALSE      \n",
       "9 0.1529674929   FALSE      "
      ]
     },
     "metadata": {},
     "output_type": "display_data"
    }
   ],
   "source": [
    "fit <- lm(rate ~ ., df_no_gov)\n",
    "\n",
    "analyze_lm(fit)"
   ]
  },
  {
   "cell_type": "markdown",
   "metadata": {},
   "source": [
    "> The `df_no_gov` data frame has more observations than the `df_cp` data frame. But the results are similar. Considering that I want to include the `gov_resp` variable in my model, I'll use the `df_cp` data frame in my following analysis.\n",
    ">\n",
    "> The model fitted with the `df_cp` data frame indicates that no confounder is significant (adjusted p-value < 0.05). The four confounding variables with the lowest adjusted p-values are `med_bed`, `pop_density`, `nurses_midwives`, and `confirmed_rate`. I'll test those variables individually. Besides, `gov_resp` could be a good potential confounder and I'll test it as well.\n"
   ]
  },
  {
   "cell_type": "code",
   "execution_count": 50,
   "metadata": {},
   "outputs": [],
   "source": [
    "# prepare the data frame for individual testing\n",
    "df_sub <- df_cp %>%\n",
    "    select(rate, age_65up, med_bed, pop_density, \n",
    "           nurses_midwives, confirmed_rate, gov_resp) %>%\n",
    "    drop_na()"
   ]
  },
  {
   "cell_type": "code",
   "execution_count": 51,
   "metadata": {},
   "outputs": [
    {
     "data": {
      "text/html": [
       "<ol class=list-inline>\n",
       "\t<li>135</li>\n",
       "\t<li>7</li>\n",
       "</ol>\n"
      ],
      "text/latex": [
       "\\begin{enumerate*}\n",
       "\\item 135\n",
       "\\item 7\n",
       "\\end{enumerate*}\n"
      ],
      "text/markdown": [
       "1. 135\n",
       "2. 7\n",
       "\n",
       "\n"
      ],
      "text/plain": [
       "[1] 135   7"
      ]
     },
     "metadata": {},
     "output_type": "display_data"
    }
   ],
   "source": [
    "# 6 observations are removed, which is not too bad\n",
    "dim(df_sub)"
   ]
  },
  {
   "cell_type": "markdown",
   "metadata": {},
   "source": [
    "2) Check selected confounding variables individually"
   ]
  },
  {
   "cell_type": "code",
   "execution_count": 63,
   "metadata": {},
   "outputs": [
    {
     "data": {
      "text/html": [
       "<table>\n",
       "<caption>A tibble: 2 × 7</caption>\n",
       "<thead>\n",
       "\t<tr><th scope=col>term</th><th scope=col>estimate</th><th scope=col>std.error</th><th scope=col>statistic</th><th scope=col>p.value</th><th scope=col>p.value.adjust</th><th scope=col>significant</th></tr>\n",
       "\t<tr><th scope=col>&lt;chr&gt;</th><th scope=col>&lt;dbl&gt;</th><th scope=col>&lt;dbl&gt;</th><th scope=col>&lt;dbl&gt;</th><th scope=col>&lt;dbl&gt;</th><th scope=col>&lt;dbl&gt;</th><th scope=col>&lt;lgl&gt;</th></tr>\n",
       "</thead>\n",
       "<tbody>\n",
       "\t<tr><td>(Intercept)</td><td>0.031128874</td><td>0.0058616878</td><td>5.310565</td><td>4.463533e-07</td><td>8.927066e-07</td><td>TRUE</td></tr>\n",
       "\t<tr><td>age_65up   </td><td>0.001214216</td><td>0.0005151427</td><td>2.357047</td><td>1.987983e-02</td><td>1.987983e-02</td><td>TRUE</td></tr>\n",
       "</tbody>\n",
       "</table>\n"
      ],
      "text/latex": [
       "A tibble: 2 × 7\n",
       "\\begin{tabular}{r|lllllll}\n",
       " term & estimate & std.error & statistic & p.value & p.value.adjust & significant\\\\\n",
       " <chr> & <dbl> & <dbl> & <dbl> & <dbl> & <dbl> & <lgl>\\\\\n",
       "\\hline\n",
       "\t (Intercept) & 0.031128874 & 0.0058616878 & 5.310565 & 4.463533e-07 & 8.927066e-07 & TRUE\\\\\n",
       "\t age\\_65up    & 0.001214216 & 0.0005151427 & 2.357047 & 1.987983e-02 & 1.987983e-02 & TRUE\\\\\n",
       "\\end{tabular}\n"
      ],
      "text/markdown": [
       "\n",
       "A tibble: 2 × 7\n",
       "\n",
       "| term &lt;chr&gt; | estimate &lt;dbl&gt; | std.error &lt;dbl&gt; | statistic &lt;dbl&gt; | p.value &lt;dbl&gt; | p.value.adjust &lt;dbl&gt; | significant &lt;lgl&gt; |\n",
       "|---|---|---|---|---|---|---|\n",
       "| (Intercept) | 0.031128874 | 0.0058616878 | 5.310565 | 4.463533e-07 | 8.927066e-07 | TRUE |\n",
       "| age_65up    | 0.001214216 | 0.0005151427 | 2.357047 | 1.987983e-02 | 1.987983e-02 | TRUE |\n",
       "\n"
      ],
      "text/plain": [
       "  term        estimate    std.error    statistic p.value      p.value.adjust\n",
       "1 (Intercept) 0.031128874 0.0058616878 5.310565  4.463533e-07 8.927066e-07  \n",
       "2 age_65up    0.001214216 0.0005151427 2.357047  1.987983e-02 1.987983e-02  \n",
       "  significant\n",
       "1 TRUE       \n",
       "2 TRUE       "
      ]
     },
     "metadata": {},
     "output_type": "display_data"
    }
   ],
   "source": [
    "# base model\n",
    "base <- lm(rate ~ age_65up, df_sub)\n",
    "\n",
    "analyze_lm(base)"
   ]
  },
  {
   "cell_type": "code",
   "execution_count": 64,
   "metadata": {},
   "outputs": [
    {
     "data": {
      "text/html": [
       "<table>\n",
       "<caption>A tibble: 3 × 7</caption>\n",
       "<thead>\n",
       "\t<tr><th scope=col>term</th><th scope=col>estimate</th><th scope=col>std.error</th><th scope=col>statistic</th><th scope=col>p.value</th><th scope=col>p.value.adjust</th><th scope=col>significant</th></tr>\n",
       "\t<tr><th scope=col>&lt;chr&gt;</th><th scope=col>&lt;dbl&gt;</th><th scope=col>&lt;dbl&gt;</th><th scope=col>&lt;dbl&gt;</th><th scope=col>&lt;dbl&gt;</th><th scope=col>&lt;dbl&gt;</th><th scope=col>&lt;lgl&gt;</th></tr>\n",
       "</thead>\n",
       "<tbody>\n",
       "\t<tr><td>(Intercept)</td><td> 0.034806530</td><td>0.0058322185</td><td> 5.967974</td><td>2.083585e-08</td><td>6.250755e-08</td><td>TRUE</td></tr>\n",
       "\t<tr><td>age_65up   </td><td> 0.002510293</td><td>0.0006654547</td><td> 3.772297</td><td>2.432430e-04</td><td>3.648644e-04</td><td>TRUE</td></tr>\n",
       "\t<tr><td>med_bed    </td><td>-0.005362246</td><td>0.0018131666</td><td>-2.957393</td><td>3.677099e-03</td><td>3.677099e-03</td><td>TRUE</td></tr>\n",
       "</tbody>\n",
       "</table>\n"
      ],
      "text/latex": [
       "A tibble: 3 × 7\n",
       "\\begin{tabular}{r|lllllll}\n",
       " term & estimate & std.error & statistic & p.value & p.value.adjust & significant\\\\\n",
       " <chr> & <dbl> & <dbl> & <dbl> & <dbl> & <dbl> & <lgl>\\\\\n",
       "\\hline\n",
       "\t (Intercept) &  0.034806530 & 0.0058322185 &  5.967974 & 2.083585e-08 & 6.250755e-08 & TRUE\\\\\n",
       "\t age\\_65up    &  0.002510293 & 0.0006654547 &  3.772297 & 2.432430e-04 & 3.648644e-04 & TRUE\\\\\n",
       "\t med\\_bed     & -0.005362246 & 0.0018131666 & -2.957393 & 3.677099e-03 & 3.677099e-03 & TRUE\\\\\n",
       "\\end{tabular}\n"
      ],
      "text/markdown": [
       "\n",
       "A tibble: 3 × 7\n",
       "\n",
       "| term &lt;chr&gt; | estimate &lt;dbl&gt; | std.error &lt;dbl&gt; | statistic &lt;dbl&gt; | p.value &lt;dbl&gt; | p.value.adjust &lt;dbl&gt; | significant &lt;lgl&gt; |\n",
       "|---|---|---|---|---|---|---|\n",
       "| (Intercept) |  0.034806530 | 0.0058322185 |  5.967974 | 2.083585e-08 | 6.250755e-08 | TRUE |\n",
       "| age_65up    |  0.002510293 | 0.0006654547 |  3.772297 | 2.432430e-04 | 3.648644e-04 | TRUE |\n",
       "| med_bed     | -0.005362246 | 0.0018131666 | -2.957393 | 3.677099e-03 | 3.677099e-03 | TRUE |\n",
       "\n"
      ],
      "text/plain": [
       "  term        estimate     std.error    statistic p.value      p.value.adjust\n",
       "1 (Intercept)  0.034806530 0.0058322185  5.967974 2.083585e-08 6.250755e-08  \n",
       "2 age_65up     0.002510293 0.0006654547  3.772297 2.432430e-04 3.648644e-04  \n",
       "3 med_bed     -0.005362246 0.0018131666 -2.957393 3.677099e-03 3.677099e-03  \n",
       "  significant\n",
       "1 TRUE       \n",
       "2 TRUE       \n",
       "3 TRUE       "
      ]
     },
     "metadata": {},
     "output_type": "display_data"
    }
   ],
   "source": [
    "# add med_bed to the base model\n",
    "fit_1 <- lm(rate ~ age_65up + med_bed, df_sub)\n",
    "\n",
    "analyze_lm(fit_1)"
   ]
  },
  {
   "cell_type": "code",
   "execution_count": 65,
   "metadata": {},
   "outputs": [
    {
     "data": {
      "text/html": [
       "<table>\n",
       "<caption>A anova: 2 × 6</caption>\n",
       "<thead>\n",
       "\t<tr><th scope=col>Res.Df</th><th scope=col>RSS</th><th scope=col>Df</th><th scope=col>Sum of Sq</th><th scope=col>F</th><th scope=col>Pr(&gt;F)</th></tr>\n",
       "\t<tr><th scope=col>&lt;dbl&gt;</th><th scope=col>&lt;dbl&gt;</th><th scope=col>&lt;dbl&gt;</th><th scope=col>&lt;dbl&gt;</th><th scope=col>&lt;dbl&gt;</th><th scope=col>&lt;dbl&gt;</th></tr>\n",
       "</thead>\n",
       "<tbody>\n",
       "\t<tr><td>132</td><td>0.1890903</td><td>NA</td><td>         NA</td><td>      NA</td><td>         NA</td></tr>\n",
       "\t<tr><td>133</td><td>0.2016192</td><td>-1</td><td>-0.01252891</td><td>8.746171</td><td>0.003677099</td></tr>\n",
       "</tbody>\n",
       "</table>\n"
      ],
      "text/latex": [
       "A anova: 2 × 6\n",
       "\\begin{tabular}{r|llllll}\n",
       " Res.Df & RSS & Df & Sum of Sq & F & Pr(>F)\\\\\n",
       " <dbl> & <dbl> & <dbl> & <dbl> & <dbl> & <dbl>\\\\\n",
       "\\hline\n",
       "\t 132 & 0.1890903 & NA &          NA &       NA &          NA\\\\\n",
       "\t 133 & 0.2016192 & -1 & -0.01252891 & 8.746171 & 0.003677099\\\\\n",
       "\\end{tabular}\n"
      ],
      "text/markdown": [
       "\n",
       "A anova: 2 × 6\n",
       "\n",
       "| Res.Df &lt;dbl&gt; | RSS &lt;dbl&gt; | Df &lt;dbl&gt; | Sum of Sq &lt;dbl&gt; | F &lt;dbl&gt; | Pr(&gt;F) &lt;dbl&gt; |\n",
       "|---|---|---|---|---|---|\n",
       "| 132 | 0.1890903 | NA |          NA |       NA |          NA |\n",
       "| 133 | 0.2016192 | -1 | -0.01252891 | 8.746171 | 0.003677099 |\n",
       "\n"
      ],
      "text/plain": [
       "  Res.Df RSS       Df Sum of Sq   F        Pr(>F)     \n",
       "1 132    0.1890903 NA          NA       NA          NA\n",
       "2 133    0.2016192 -1 -0.01252891 8.746171 0.003677099"
      ]
     },
     "metadata": {},
     "output_type": "display_data"
    }
   ],
   "source": [
    "anova(fit_1, base)"
   ]
  },
  {
   "cell_type": "markdown",
   "metadata": {},
   "source": [
    "> The model with `med_bed` is significantly (p-value < 0.05) different from the base model. I could add `med_bed` in my final model."
   ]
  },
  {
   "cell_type": "code",
   "execution_count": 66,
   "metadata": {},
   "outputs": [
    {
     "data": {
      "text/html": [
       "<table>\n",
       "<caption>A tibble: 3 × 7</caption>\n",
       "<thead>\n",
       "\t<tr><th scope=col>term</th><th scope=col>estimate</th><th scope=col>std.error</th><th scope=col>statistic</th><th scope=col>p.value</th><th scope=col>p.value.adjust</th><th scope=col>significant</th></tr>\n",
       "\t<tr><th scope=col>&lt;chr&gt;</th><th scope=col>&lt;dbl&gt;</th><th scope=col>&lt;dbl&gt;</th><th scope=col>&lt;dbl&gt;</th><th scope=col>&lt;dbl&gt;</th><th scope=col>&lt;dbl&gt;</th><th scope=col>&lt;lgl&gt;</th></tr>\n",
       "</thead>\n",
       "<tbody>\n",
       "\t<tr><td>(Intercept)</td><td> 3.219048e-02</td><td>5.916045e-03</td><td> 5.441216</td><td>2.485878e-07</td><td>7.457635e-07</td><td> TRUE</td></tr>\n",
       "\t<tr><td>age_65up   </td><td> 1.227200e-03</td><td>5.143323e-04</td><td> 2.386007</td><td>1.845238e-02</td><td>2.767856e-02</td><td> TRUE</td></tr>\n",
       "\t<tr><td>pop_density</td><td>-5.741454e-06</td><td>4.724150e-06</td><td>-1.215341</td><td>2.264053e-01</td><td>2.264053e-01</td><td>FALSE</td></tr>\n",
       "</tbody>\n",
       "</table>\n"
      ],
      "text/latex": [
       "A tibble: 3 × 7\n",
       "\\begin{tabular}{r|lllllll}\n",
       " term & estimate & std.error & statistic & p.value & p.value.adjust & significant\\\\\n",
       " <chr> & <dbl> & <dbl> & <dbl> & <dbl> & <dbl> & <lgl>\\\\\n",
       "\\hline\n",
       "\t (Intercept) &  3.219048e-02 & 5.916045e-03 &  5.441216 & 2.485878e-07 & 7.457635e-07 &  TRUE\\\\\n",
       "\t age\\_65up    &  1.227200e-03 & 5.143323e-04 &  2.386007 & 1.845238e-02 & 2.767856e-02 &  TRUE\\\\\n",
       "\t pop\\_density & -5.741454e-06 & 4.724150e-06 & -1.215341 & 2.264053e-01 & 2.264053e-01 & FALSE\\\\\n",
       "\\end{tabular}\n"
      ],
      "text/markdown": [
       "\n",
       "A tibble: 3 × 7\n",
       "\n",
       "| term &lt;chr&gt; | estimate &lt;dbl&gt; | std.error &lt;dbl&gt; | statistic &lt;dbl&gt; | p.value &lt;dbl&gt; | p.value.adjust &lt;dbl&gt; | significant &lt;lgl&gt; |\n",
       "|---|---|---|---|---|---|---|\n",
       "| (Intercept) |  3.219048e-02 | 5.916045e-03 |  5.441216 | 2.485878e-07 | 7.457635e-07 |  TRUE |\n",
       "| age_65up    |  1.227200e-03 | 5.143323e-04 |  2.386007 | 1.845238e-02 | 2.767856e-02 |  TRUE |\n",
       "| pop_density | -5.741454e-06 | 4.724150e-06 | -1.215341 | 2.264053e-01 | 2.264053e-01 | FALSE |\n",
       "\n"
      ],
      "text/plain": [
       "  term        estimate      std.error    statistic p.value      p.value.adjust\n",
       "1 (Intercept)  3.219048e-02 5.916045e-03  5.441216 2.485878e-07 7.457635e-07  \n",
       "2 age_65up     1.227200e-03 5.143323e-04  2.386007 1.845238e-02 2.767856e-02  \n",
       "3 pop_density -5.741454e-06 4.724150e-06 -1.215341 2.264053e-01 2.264053e-01  \n",
       "  significant\n",
       "1  TRUE      \n",
       "2  TRUE      \n",
       "3 FALSE      "
      ]
     },
     "metadata": {},
     "output_type": "display_data"
    }
   ],
   "source": [
    "# add pop_density to the base model\n",
    "fit_2 <- lm(rate ~ age_65up + pop_density, df_sub)\n",
    "\n",
    "analyze_lm(fit_2)"
   ]
  },
  {
   "cell_type": "code",
   "execution_count": 67,
   "metadata": {},
   "outputs": [
    {
     "data": {
      "text/html": [
       "<table>\n",
       "<caption>A anova: 2 × 6</caption>\n",
       "<thead>\n",
       "\t<tr><th scope=col>Res.Df</th><th scope=col>RSS</th><th scope=col>Df</th><th scope=col>Sum of Sq</th><th scope=col>F</th><th scope=col>Pr(&gt;F)</th></tr>\n",
       "\t<tr><th scope=col>&lt;dbl&gt;</th><th scope=col>&lt;dbl&gt;</th><th scope=col>&lt;dbl&gt;</th><th scope=col>&lt;dbl&gt;</th><th scope=col>&lt;dbl&gt;</th><th scope=col>&lt;dbl&gt;</th></tr>\n",
       "</thead>\n",
       "<tbody>\n",
       "\t<tr><td>132</td><td>0.1993881</td><td>NA</td><td>          NA</td><td>      NA</td><td>       NA</td></tr>\n",
       "\t<tr><td>133</td><td>0.2016192</td><td>-1</td><td>-0.002231114</td><td>1.477054</td><td>0.2264053</td></tr>\n",
       "</tbody>\n",
       "</table>\n"
      ],
      "text/latex": [
       "A anova: 2 × 6\n",
       "\\begin{tabular}{r|llllll}\n",
       " Res.Df & RSS & Df & Sum of Sq & F & Pr(>F)\\\\\n",
       " <dbl> & <dbl> & <dbl> & <dbl> & <dbl> & <dbl>\\\\\n",
       "\\hline\n",
       "\t 132 & 0.1993881 & NA &           NA &       NA &        NA\\\\\n",
       "\t 133 & 0.2016192 & -1 & -0.002231114 & 1.477054 & 0.2264053\\\\\n",
       "\\end{tabular}\n"
      ],
      "text/markdown": [
       "\n",
       "A anova: 2 × 6\n",
       "\n",
       "| Res.Df &lt;dbl&gt; | RSS &lt;dbl&gt; | Df &lt;dbl&gt; | Sum of Sq &lt;dbl&gt; | F &lt;dbl&gt; | Pr(&gt;F) &lt;dbl&gt; |\n",
       "|---|---|---|---|---|---|\n",
       "| 132 | 0.1993881 | NA |           NA |       NA |        NA |\n",
       "| 133 | 0.2016192 | -1 | -0.002231114 | 1.477054 | 0.2264053 |\n",
       "\n"
      ],
      "text/plain": [
       "  Res.Df RSS       Df Sum of Sq    F        Pr(>F)   \n",
       "1 132    0.1993881 NA           NA       NA        NA\n",
       "2 133    0.2016192 -1 -0.002231114 1.477054 0.2264053"
      ]
     },
     "metadata": {},
     "output_type": "display_data"
    }
   ],
   "source": [
    "anova(fit_2, base)"
   ]
  },
  {
   "cell_type": "markdown",
   "metadata": {},
   "source": [
    "> The model with `pop_density` is not significantly (p-value < 0.05) different from the base model. I would not add `pop_density` in my final model."
   ]
  },
  {
   "cell_type": "code",
   "execution_count": 68,
   "metadata": {},
   "outputs": [
    {
     "data": {
      "text/html": [
       "<table>\n",
       "<caption>A tibble: 3 × 7</caption>\n",
       "<thead>\n",
       "\t<tr><th scope=col>term</th><th scope=col>estimate</th><th scope=col>std.error</th><th scope=col>statistic</th><th scope=col>p.value</th><th scope=col>p.value.adjust</th><th scope=col>significant</th></tr>\n",
       "\t<tr><th scope=col>&lt;chr&gt;</th><th scope=col>&lt;dbl&gt;</th><th scope=col>&lt;dbl&gt;</th><th scope=col>&lt;dbl&gt;</th><th scope=col>&lt;dbl&gt;</th><th scope=col>&lt;dbl&gt;</th><th scope=col>&lt;lgl&gt;</th></tr>\n",
       "</thead>\n",
       "<tbody>\n",
       "\t<tr><td>(Intercept)   </td><td>0.031340618</td><td>0.0058785634</td><td>5.3313396</td><td>4.101413e-07</td><td>1.230424e-06</td><td> TRUE</td></tr>\n",
       "\t<tr><td>age_65up      </td><td>0.001015205</td><td>0.0005816089</td><td>1.7455109</td><td>8.322285e-02</td><td>1.248343e-01</td><td>FALSE</td></tr>\n",
       "\t<tr><td>confirmed_rate</td><td>2.434892512</td><td>3.2828962652</td><td>0.7416904</td><td>4.595926e-01</td><td>4.595926e-01</td><td>FALSE</td></tr>\n",
       "</tbody>\n",
       "</table>\n"
      ],
      "text/latex": [
       "A tibble: 3 × 7\n",
       "\\begin{tabular}{r|lllllll}\n",
       " term & estimate & std.error & statistic & p.value & p.value.adjust & significant\\\\\n",
       " <chr> & <dbl> & <dbl> & <dbl> & <dbl> & <dbl> & <lgl>\\\\\n",
       "\\hline\n",
       "\t (Intercept)    & 0.031340618 & 0.0058785634 & 5.3313396 & 4.101413e-07 & 1.230424e-06 &  TRUE\\\\\n",
       "\t age\\_65up       & 0.001015205 & 0.0005816089 & 1.7455109 & 8.322285e-02 & 1.248343e-01 & FALSE\\\\\n",
       "\t confirmed\\_rate & 2.434892512 & 3.2828962652 & 0.7416904 & 4.595926e-01 & 4.595926e-01 & FALSE\\\\\n",
       "\\end{tabular}\n"
      ],
      "text/markdown": [
       "\n",
       "A tibble: 3 × 7\n",
       "\n",
       "| term &lt;chr&gt; | estimate &lt;dbl&gt; | std.error &lt;dbl&gt; | statistic &lt;dbl&gt; | p.value &lt;dbl&gt; | p.value.adjust &lt;dbl&gt; | significant &lt;lgl&gt; |\n",
       "|---|---|---|---|---|---|---|\n",
       "| (Intercept)    | 0.031340618 | 0.0058785634 | 5.3313396 | 4.101413e-07 | 1.230424e-06 |  TRUE |\n",
       "| age_65up       | 0.001015205 | 0.0005816089 | 1.7455109 | 8.322285e-02 | 1.248343e-01 | FALSE |\n",
       "| confirmed_rate | 2.434892512 | 3.2828962652 | 0.7416904 | 4.595926e-01 | 4.595926e-01 | FALSE |\n",
       "\n"
      ],
      "text/plain": [
       "  term           estimate    std.error    statistic p.value      p.value.adjust\n",
       "1 (Intercept)    0.031340618 0.0058785634 5.3313396 4.101413e-07 1.230424e-06  \n",
       "2 age_65up       0.001015205 0.0005816089 1.7455109 8.322285e-02 1.248343e-01  \n",
       "3 confirmed_rate 2.434892512 3.2828962652 0.7416904 4.595926e-01 4.595926e-01  \n",
       "  significant\n",
       "1  TRUE      \n",
       "2 FALSE      \n",
       "3 FALSE      "
      ]
     },
     "metadata": {},
     "output_type": "display_data"
    }
   ],
   "source": [
    "# add confirmed_rate to the base model\n",
    "fit_3 <- lm(rate ~ age_65up + confirmed_rate, df_sub)\n",
    "\n",
    "analyze_lm(fit_3)"
   ]
  },
  {
   "cell_type": "code",
   "execution_count": 69,
   "metadata": {},
   "outputs": [
    {
     "data": {
      "text/html": [
       "<table>\n",
       "<caption>A anova: 2 × 6</caption>\n",
       "<thead>\n",
       "\t<tr><th scope=col>Res.Df</th><th scope=col>RSS</th><th scope=col>Df</th><th scope=col>Sum of Sq</th><th scope=col>F</th><th scope=col>Pr(&gt;F)</th></tr>\n",
       "\t<tr><th scope=col>&lt;dbl&gt;</th><th scope=col>&lt;dbl&gt;</th><th scope=col>&lt;dbl&gt;</th><th scope=col>&lt;dbl&gt;</th><th scope=col>&lt;dbl&gt;</th><th scope=col>&lt;dbl&gt;</th></tr>\n",
       "</thead>\n",
       "<tbody>\n",
       "\t<tr><td>132</td><td>0.2007825</td><td>NA</td><td>           NA</td><td>       NA</td><td>       NA</td></tr>\n",
       "\t<tr><td>133</td><td>0.2016192</td><td>-1</td><td>-0.0008367527</td><td>0.5501046</td><td>0.4595926</td></tr>\n",
       "</tbody>\n",
       "</table>\n"
      ],
      "text/latex": [
       "A anova: 2 × 6\n",
       "\\begin{tabular}{r|llllll}\n",
       " Res.Df & RSS & Df & Sum of Sq & F & Pr(>F)\\\\\n",
       " <dbl> & <dbl> & <dbl> & <dbl> & <dbl> & <dbl>\\\\\n",
       "\\hline\n",
       "\t 132 & 0.2007825 & NA &            NA &        NA &        NA\\\\\n",
       "\t 133 & 0.2016192 & -1 & -0.0008367527 & 0.5501046 & 0.4595926\\\\\n",
       "\\end{tabular}\n"
      ],
      "text/markdown": [
       "\n",
       "A anova: 2 × 6\n",
       "\n",
       "| Res.Df &lt;dbl&gt; | RSS &lt;dbl&gt; | Df &lt;dbl&gt; | Sum of Sq &lt;dbl&gt; | F &lt;dbl&gt; | Pr(&gt;F) &lt;dbl&gt; |\n",
       "|---|---|---|---|---|---|\n",
       "| 132 | 0.2007825 | NA |            NA |        NA |        NA |\n",
       "| 133 | 0.2016192 | -1 | -0.0008367527 | 0.5501046 | 0.4595926 |\n",
       "\n"
      ],
      "text/plain": [
       "  Res.Df RSS       Df Sum of Sq     F         Pr(>F)   \n",
       "1 132    0.2007825 NA            NA        NA        NA\n",
       "2 133    0.2016192 -1 -0.0008367527 0.5501046 0.4595926"
      ]
     },
     "metadata": {},
     "output_type": "display_data"
    }
   ],
   "source": [
    "anova(fit_3, base)"
   ]
  },
  {
   "cell_type": "markdown",
   "metadata": {},
   "source": [
    "> The model with `confirmed_rate` is not significantly (p-value < 0.05) different from the base model. I would not add `confirmed_rate` in my final model."
   ]
  },
  {
   "cell_type": "code",
   "execution_count": 70,
   "metadata": {},
   "outputs": [
    {
     "data": {
      "text/html": [
       "<table>\n",
       "<caption>A tibble: 3 × 7</caption>\n",
       "<thead>\n",
       "\t<tr><th scope=col>term</th><th scope=col>estimate</th><th scope=col>std.error</th><th scope=col>statistic</th><th scope=col>p.value</th><th scope=col>p.value.adjust</th><th scope=col>significant</th></tr>\n",
       "\t<tr><th scope=col>&lt;chr&gt;</th><th scope=col>&lt;dbl&gt;</th><th scope=col>&lt;dbl&gt;</th><th scope=col>&lt;dbl&gt;</th><th scope=col>&lt;dbl&gt;</th><th scope=col>&lt;dbl&gt;</th><th scope=col>&lt;lgl&gt;</th></tr>\n",
       "</thead>\n",
       "<tbody>\n",
       "\t<tr><td>(Intercept)    </td><td> 0.031692374</td><td>0.0058283766</td><td> 5.437599</td><td>2.527428e-07</td><td>7.582284e-07</td><td> TRUE</td></tr>\n",
       "\t<tr><td>age_65up       </td><td> 0.002062523</td><td>0.0007108536</td><td> 2.901473</td><td>4.353173e-03</td><td>6.529760e-03</td><td> TRUE</td></tr>\n",
       "\t<tr><td>nurses_midwives</td><td>-0.001925086</td><td>0.0011204575</td><td>-1.718125</td><td>8.811857e-02</td><td>8.811857e-02</td><td>FALSE</td></tr>\n",
       "</tbody>\n",
       "</table>\n"
      ],
      "text/latex": [
       "A tibble: 3 × 7\n",
       "\\begin{tabular}{r|lllllll}\n",
       " term & estimate & std.error & statistic & p.value & p.value.adjust & significant\\\\\n",
       " <chr> & <dbl> & <dbl> & <dbl> & <dbl> & <dbl> & <lgl>\\\\\n",
       "\\hline\n",
       "\t (Intercept)     &  0.031692374 & 0.0058283766 &  5.437599 & 2.527428e-07 & 7.582284e-07 &  TRUE\\\\\n",
       "\t age\\_65up        &  0.002062523 & 0.0007108536 &  2.901473 & 4.353173e-03 & 6.529760e-03 &  TRUE\\\\\n",
       "\t nurses\\_midwives & -0.001925086 & 0.0011204575 & -1.718125 & 8.811857e-02 & 8.811857e-02 & FALSE\\\\\n",
       "\\end{tabular}\n"
      ],
      "text/markdown": [
       "\n",
       "A tibble: 3 × 7\n",
       "\n",
       "| term &lt;chr&gt; | estimate &lt;dbl&gt; | std.error &lt;dbl&gt; | statistic &lt;dbl&gt; | p.value &lt;dbl&gt; | p.value.adjust &lt;dbl&gt; | significant &lt;lgl&gt; |\n",
       "|---|---|---|---|---|---|---|\n",
       "| (Intercept)     |  0.031692374 | 0.0058283766 |  5.437599 | 2.527428e-07 | 7.582284e-07 |  TRUE |\n",
       "| age_65up        |  0.002062523 | 0.0007108536 |  2.901473 | 4.353173e-03 | 6.529760e-03 |  TRUE |\n",
       "| nurses_midwives | -0.001925086 | 0.0011204575 | -1.718125 | 8.811857e-02 | 8.811857e-02 | FALSE |\n",
       "\n"
      ],
      "text/plain": [
       "  term            estimate     std.error    statistic p.value     \n",
       "1 (Intercept)      0.031692374 0.0058283766  5.437599 2.527428e-07\n",
       "2 age_65up         0.002062523 0.0007108536  2.901473 4.353173e-03\n",
       "3 nurses_midwives -0.001925086 0.0011204575 -1.718125 8.811857e-02\n",
       "  p.value.adjust significant\n",
       "1 7.582284e-07    TRUE      \n",
       "2 6.529760e-03    TRUE      \n",
       "3 8.811857e-02   FALSE      "
      ]
     },
     "metadata": {},
     "output_type": "display_data"
    }
   ],
   "source": [
    "# add nurses_midwives to the base model\n",
    "fit_4 <- lm(rate ~ age_65up + nurses_midwives, df_sub)\n",
    "\n",
    "analyze_lm(fit_4)"
   ]
  },
  {
   "cell_type": "code",
   "execution_count": 71,
   "metadata": {},
   "outputs": [
    {
     "data": {
      "text/html": [
       "<table>\n",
       "<caption>A anova: 2 × 6</caption>\n",
       "<thead>\n",
       "\t<tr><th scope=col>Res.Df</th><th scope=col>RSS</th><th scope=col>Df</th><th scope=col>Sum of Sq</th><th scope=col>F</th><th scope=col>Pr(&gt;F)</th></tr>\n",
       "\t<tr><th scope=col>&lt;dbl&gt;</th><th scope=col>&lt;dbl&gt;</th><th scope=col>&lt;dbl&gt;</th><th scope=col>&lt;dbl&gt;</th><th scope=col>&lt;dbl&gt;</th><th scope=col>&lt;dbl&gt;</th></tr>\n",
       "</thead>\n",
       "<tbody>\n",
       "\t<tr><td>132</td><td>0.1972090</td><td>NA</td><td>         NA</td><td>      NA</td><td>        NA</td></tr>\n",
       "\t<tr><td>133</td><td>0.2016192</td><td>-1</td><td>-0.00441024</td><td>2.951953</td><td>0.08811857</td></tr>\n",
       "</tbody>\n",
       "</table>\n"
      ],
      "text/latex": [
       "A anova: 2 × 6\n",
       "\\begin{tabular}{r|llllll}\n",
       " Res.Df & RSS & Df & Sum of Sq & F & Pr(>F)\\\\\n",
       " <dbl> & <dbl> & <dbl> & <dbl> & <dbl> & <dbl>\\\\\n",
       "\\hline\n",
       "\t 132 & 0.1972090 & NA &          NA &       NA &         NA\\\\\n",
       "\t 133 & 0.2016192 & -1 & -0.00441024 & 2.951953 & 0.08811857\\\\\n",
       "\\end{tabular}\n"
      ],
      "text/markdown": [
       "\n",
       "A anova: 2 × 6\n",
       "\n",
       "| Res.Df &lt;dbl&gt; | RSS &lt;dbl&gt; | Df &lt;dbl&gt; | Sum of Sq &lt;dbl&gt; | F &lt;dbl&gt; | Pr(&gt;F) &lt;dbl&gt; |\n",
       "|---|---|---|---|---|---|\n",
       "| 132 | 0.1972090 | NA |          NA |       NA |         NA |\n",
       "| 133 | 0.2016192 | -1 | -0.00441024 | 2.951953 | 0.08811857 |\n",
       "\n"
      ],
      "text/plain": [
       "  Res.Df RSS       Df Sum of Sq   F        Pr(>F)    \n",
       "1 132    0.1972090 NA          NA       NA         NA\n",
       "2 133    0.2016192 -1 -0.00441024 2.951953 0.08811857"
      ]
     },
     "metadata": {},
     "output_type": "display_data"
    }
   ],
   "source": [
    "anova(fit_4, base)"
   ]
  },
  {
   "cell_type": "code",
   "execution_count": 72,
   "metadata": {},
   "outputs": [
    {
     "data": {
      "text/html": [
       "<table>\n",
       "<caption>A tibble: 3 × 7</caption>\n",
       "<thead>\n",
       "\t<tr><th scope=col>term</th><th scope=col>estimate</th><th scope=col>std.error</th><th scope=col>statistic</th><th scope=col>p.value</th><th scope=col>p.value.adjust</th><th scope=col>significant</th></tr>\n",
       "\t<tr><th scope=col>&lt;chr&gt;</th><th scope=col>&lt;dbl&gt;</th><th scope=col>&lt;dbl&gt;</th><th scope=col>&lt;dbl&gt;</th><th scope=col>&lt;dbl&gt;</th><th scope=col>&lt;dbl&gt;</th><th scope=col>&lt;lgl&gt;</th></tr>\n",
       "</thead>\n",
       "<tbody>\n",
       "\t<tr><td>(Intercept)</td><td> 0.0682421118</td><td>0.0186604523</td><td> 3.657045</td><td>0.0003673733</td><td>0.00110212</td><td>TRUE</td></tr>\n",
       "\t<tr><td>age_65up   </td><td> 0.0011496097</td><td>0.0005096615</td><td> 2.255634</td><td>0.0257390664</td><td>0.03834713</td><td>TRUE</td></tr>\n",
       "\t<tr><td>gov_resp   </td><td>-0.0004534065</td><td>0.0002167255</td><td>-2.092078</td><td>0.0383471324</td><td>0.03834713</td><td>TRUE</td></tr>\n",
       "</tbody>\n",
       "</table>\n"
      ],
      "text/latex": [
       "A tibble: 3 × 7\n",
       "\\begin{tabular}{r|lllllll}\n",
       " term & estimate & std.error & statistic & p.value & p.value.adjust & significant\\\\\n",
       " <chr> & <dbl> & <dbl> & <dbl> & <dbl> & <dbl> & <lgl>\\\\\n",
       "\\hline\n",
       "\t (Intercept) &  0.0682421118 & 0.0186604523 &  3.657045 & 0.0003673733 & 0.00110212 & TRUE\\\\\n",
       "\t age\\_65up    &  0.0011496097 & 0.0005096615 &  2.255634 & 0.0257390664 & 0.03834713 & TRUE\\\\\n",
       "\t gov\\_resp    & -0.0004534065 & 0.0002167255 & -2.092078 & 0.0383471324 & 0.03834713 & TRUE\\\\\n",
       "\\end{tabular}\n"
      ],
      "text/markdown": [
       "\n",
       "A tibble: 3 × 7\n",
       "\n",
       "| term &lt;chr&gt; | estimate &lt;dbl&gt; | std.error &lt;dbl&gt; | statistic &lt;dbl&gt; | p.value &lt;dbl&gt; | p.value.adjust &lt;dbl&gt; | significant &lt;lgl&gt; |\n",
       "|---|---|---|---|---|---|---|\n",
       "| (Intercept) |  0.0682421118 | 0.0186604523 |  3.657045 | 0.0003673733 | 0.00110212 | TRUE |\n",
       "| age_65up    |  0.0011496097 | 0.0005096615 |  2.255634 | 0.0257390664 | 0.03834713 | TRUE |\n",
       "| gov_resp    | -0.0004534065 | 0.0002167255 | -2.092078 | 0.0383471324 | 0.03834713 | TRUE |\n",
       "\n"
      ],
      "text/plain": [
       "  term        estimate      std.error    statistic p.value      p.value.adjust\n",
       "1 (Intercept)  0.0682421118 0.0186604523  3.657045 0.0003673733 0.00110212    \n",
       "2 age_65up     0.0011496097 0.0005096615  2.255634 0.0257390664 0.03834713    \n",
       "3 gov_resp    -0.0004534065 0.0002167255 -2.092078 0.0383471324 0.03834713    \n",
       "  significant\n",
       "1 TRUE       \n",
       "2 TRUE       \n",
       "3 TRUE       "
      ]
     },
     "metadata": {},
     "output_type": "display_data"
    }
   ],
   "source": [
    "# add gov_resp to the base model\n",
    "fit_5 <- lm(rate ~ age_65up + gov_resp, df_sub)\n",
    "\n",
    "analyze_lm(fit_5)"
   ]
  },
  {
   "cell_type": "code",
   "execution_count": 73,
   "metadata": {},
   "outputs": [
    {
     "data": {
      "text/html": [
       "<table>\n",
       "<caption>A anova: 2 × 6</caption>\n",
       "<thead>\n",
       "\t<tr><th scope=col>Res.Df</th><th scope=col>RSS</th><th scope=col>Df</th><th scope=col>Sum of Sq</th><th scope=col>F</th><th scope=col>Pr(&gt;F)</th></tr>\n",
       "\t<tr><th scope=col>&lt;dbl&gt;</th><th scope=col>&lt;dbl&gt;</th><th scope=col>&lt;dbl&gt;</th><th scope=col>&lt;dbl&gt;</th><th scope=col>&lt;dbl&gt;</th><th scope=col>&lt;dbl&gt;</th></tr>\n",
       "</thead>\n",
       "<tbody>\n",
       "\t<tr><td>132</td><td>0.1951486</td><td>NA</td><td>          NA</td><td>      NA</td><td>        NA</td></tr>\n",
       "\t<tr><td>133</td><td>0.2016192</td><td>-1</td><td>-0.006470638</td><td>4.376789</td><td>0.03834713</td></tr>\n",
       "</tbody>\n",
       "</table>\n"
      ],
      "text/latex": [
       "A anova: 2 × 6\n",
       "\\begin{tabular}{r|llllll}\n",
       " Res.Df & RSS & Df & Sum of Sq & F & Pr(>F)\\\\\n",
       " <dbl> & <dbl> & <dbl> & <dbl> & <dbl> & <dbl>\\\\\n",
       "\\hline\n",
       "\t 132 & 0.1951486 & NA &           NA &       NA &         NA\\\\\n",
       "\t 133 & 0.2016192 & -1 & -0.006470638 & 4.376789 & 0.03834713\\\\\n",
       "\\end{tabular}\n"
      ],
      "text/markdown": [
       "\n",
       "A anova: 2 × 6\n",
       "\n",
       "| Res.Df &lt;dbl&gt; | RSS &lt;dbl&gt; | Df &lt;dbl&gt; | Sum of Sq &lt;dbl&gt; | F &lt;dbl&gt; | Pr(&gt;F) &lt;dbl&gt; |\n",
       "|---|---|---|---|---|---|\n",
       "| 132 | 0.1951486 | NA |           NA |       NA |         NA |\n",
       "| 133 | 0.2016192 | -1 | -0.006470638 | 4.376789 | 0.03834713 |\n",
       "\n"
      ],
      "text/plain": [
       "  Res.Df RSS       Df Sum of Sq    F        Pr(>F)    \n",
       "1 132    0.1951486 NA           NA       NA         NA\n",
       "2 133    0.2016192 -1 -0.006470638 4.376789 0.03834713"
      ]
     },
     "metadata": {},
     "output_type": "display_data"
    }
   ],
   "source": [
    "anova(fit_5, base)"
   ]
  },
  {
   "cell_type": "markdown",
   "metadata": {},
   "source": [
    "> The model with `gov_resp` is significantly (p-value < 0.05) different from the base model. I would not add `gov_resp` in my final model."
   ]
  },
  {
   "cell_type": "code",
   "execution_count": 160,
   "metadata": {},
   "outputs": [
    {
     "data": {
      "text/html": [
       "<table>\n",
       "<caption>A tibble: 4 × 7</caption>\n",
       "<thead>\n",
       "\t<tr><th scope=col>term</th><th scope=col>estimate</th><th scope=col>std.error</th><th scope=col>statistic</th><th scope=col>p.value</th><th scope=col>p.value.adjust</th><th scope=col>significant</th></tr>\n",
       "\t<tr><th scope=col>&lt;chr&gt;</th><th scope=col>&lt;dbl&gt;</th><th scope=col>&lt;dbl&gt;</th><th scope=col>&lt;dbl&gt;</th><th scope=col>&lt;dbl&gt;</th><th scope=col>&lt;dbl&gt;</th><th scope=col>&lt;lgl&gt;</th></tr>\n",
       "</thead>\n",
       "<tbody>\n",
       "\t<tr><td>(Intercept)</td><td> 0.0821109952</td><td>0.0183949142</td><td> 4.463788</td><td>1.718541e-05</td><td>6.874165e-05</td><td>TRUE</td></tr>\n",
       "\t<tr><td>age_65up   </td><td> 0.0026199868</td><td>0.0006513501</td><td> 4.022394</td><td>9.679219e-05</td><td>1.935844e-04</td><td>TRUE</td></tr>\n",
       "\t<tr><td>med_bed    </td><td>-0.0061528673</td><td>0.0017952518</td><td>-3.427301</td><td>8.150186e-04</td><td>1.086691e-03</td><td>TRUE</td></tr>\n",
       "\t<tr><td>gov_resp   </td><td>-0.0005712867</td><td>0.0002112271</td><td>-2.704609</td><td>7.747253e-03</td><td>7.747253e-03</td><td>TRUE</td></tr>\n",
       "</tbody>\n",
       "</table>\n"
      ],
      "text/latex": [
       "A tibble: 4 × 7\n",
       "\\begin{tabular}{r|lllllll}\n",
       " term & estimate & std.error & statistic & p.value & p.value.adjust & significant\\\\\n",
       " <chr> & <dbl> & <dbl> & <dbl> & <dbl> & <dbl> & <lgl>\\\\\n",
       "\\hline\n",
       "\t (Intercept) &  0.0821109952 & 0.0183949142 &  4.463788 & 1.718541e-05 & 6.874165e-05 & TRUE\\\\\n",
       "\t age\\_65up    &  0.0026199868 & 0.0006513501 &  4.022394 & 9.679219e-05 & 1.935844e-04 & TRUE\\\\\n",
       "\t med\\_bed     & -0.0061528673 & 0.0017952518 & -3.427301 & 8.150186e-04 & 1.086691e-03 & TRUE\\\\\n",
       "\t gov\\_resp    & -0.0005712867 & 0.0002112271 & -2.704609 & 7.747253e-03 & 7.747253e-03 & TRUE\\\\\n",
       "\\end{tabular}\n"
      ],
      "text/markdown": [
       "\n",
       "A tibble: 4 × 7\n",
       "\n",
       "| term &lt;chr&gt; | estimate &lt;dbl&gt; | std.error &lt;dbl&gt; | statistic &lt;dbl&gt; | p.value &lt;dbl&gt; | p.value.adjust &lt;dbl&gt; | significant &lt;lgl&gt; |\n",
       "|---|---|---|---|---|---|---|\n",
       "| (Intercept) |  0.0821109952 | 0.0183949142 |  4.463788 | 1.718541e-05 | 6.874165e-05 | TRUE |\n",
       "| age_65up    |  0.0026199868 | 0.0006513501 |  4.022394 | 9.679219e-05 | 1.935844e-04 | TRUE |\n",
       "| med_bed     | -0.0061528673 | 0.0017952518 | -3.427301 | 8.150186e-04 | 1.086691e-03 | TRUE |\n",
       "| gov_resp    | -0.0005712867 | 0.0002112271 | -2.704609 | 7.747253e-03 | 7.747253e-03 | TRUE |\n",
       "\n"
      ],
      "text/plain": [
       "  term        estimate      std.error    statistic p.value      p.value.adjust\n",
       "1 (Intercept)  0.0821109952 0.0183949142  4.463788 1.718541e-05 6.874165e-05  \n",
       "2 age_65up     0.0026199868 0.0006513501  4.022394 9.679219e-05 1.935844e-04  \n",
       "3 med_bed     -0.0061528673 0.0017952518 -3.427301 8.150186e-04 1.086691e-03  \n",
       "4 gov_resp    -0.0005712867 0.0002112271 -2.704609 7.747253e-03 7.747253e-03  \n",
       "  significant\n",
       "1 TRUE       \n",
       "2 TRUE       \n",
       "3 TRUE       \n",
       "4 TRUE       "
      ]
     },
     "metadata": {},
     "output_type": "display_data"
    }
   ],
   "source": [
    "# add med_bed and gov_resp to the base model\n",
    "fit_6 <- lm(rate ~ age_65up + med_bed + gov_resp, df_sub)\n",
    "\n",
    "analyze_lm(fit_6)"
   ]
  },
  {
   "cell_type": "code",
   "execution_count": 75,
   "metadata": {},
   "outputs": [
    {
     "data": {
      "text/html": [
       "<table>\n",
       "<caption>A anova: 2 × 6</caption>\n",
       "<thead>\n",
       "\t<tr><th scope=col>Res.Df</th><th scope=col>RSS</th><th scope=col>Df</th><th scope=col>Sum of Sq</th><th scope=col>F</th><th scope=col>Pr(&gt;F)</th></tr>\n",
       "\t<tr><th scope=col>&lt;dbl&gt;</th><th scope=col>&lt;dbl&gt;</th><th scope=col>&lt;dbl&gt;</th><th scope=col>&lt;dbl&gt;</th><th scope=col>&lt;dbl&gt;</th><th scope=col>&lt;dbl&gt;</th></tr>\n",
       "</thead>\n",
       "<tbody>\n",
       "\t<tr><td>131</td><td>0.1790901</td><td>NA</td><td>         NA</td><td>      NA</td><td>          NA</td></tr>\n",
       "\t<tr><td>133</td><td>0.2016192</td><td>-2</td><td>-0.02252913</td><td>8.239751</td><td>0.0004259377</td></tr>\n",
       "</tbody>\n",
       "</table>\n"
      ],
      "text/latex": [
       "A anova: 2 × 6\n",
       "\\begin{tabular}{r|llllll}\n",
       " Res.Df & RSS & Df & Sum of Sq & F & Pr(>F)\\\\\n",
       " <dbl> & <dbl> & <dbl> & <dbl> & <dbl> & <dbl>\\\\\n",
       "\\hline\n",
       "\t 131 & 0.1790901 & NA &          NA &       NA &           NA\\\\\n",
       "\t 133 & 0.2016192 & -2 & -0.02252913 & 8.239751 & 0.0004259377\\\\\n",
       "\\end{tabular}\n"
      ],
      "text/markdown": [
       "\n",
       "A anova: 2 × 6\n",
       "\n",
       "| Res.Df &lt;dbl&gt; | RSS &lt;dbl&gt; | Df &lt;dbl&gt; | Sum of Sq &lt;dbl&gt; | F &lt;dbl&gt; | Pr(&gt;F) &lt;dbl&gt; |\n",
       "|---|---|---|---|---|---|\n",
       "| 131 | 0.1790901 | NA |          NA |       NA |           NA |\n",
       "| 133 | 0.2016192 | -2 | -0.02252913 | 8.239751 | 0.0004259377 |\n",
       "\n"
      ],
      "text/plain": [
       "  Res.Df RSS       Df Sum of Sq   F        Pr(>F)      \n",
       "1 131    0.1790901 NA          NA       NA           NA\n",
       "2 133    0.2016192 -2 -0.02252913 8.239751 0.0004259377"
      ]
     },
     "metadata": {},
     "output_type": "display_data"
    }
   ],
   "source": [
    "anova(fit_6, base)"
   ]
  },
  {
   "cell_type": "code",
   "execution_count": 76,
   "metadata": {},
   "outputs": [
    {
     "data": {
      "text/html": [
       "<table>\n",
       "<caption>A anova: 2 × 6</caption>\n",
       "<thead>\n",
       "\t<tr><th scope=col>Res.Df</th><th scope=col>RSS</th><th scope=col>Df</th><th scope=col>Sum of Sq</th><th scope=col>F</th><th scope=col>Pr(&gt;F)</th></tr>\n",
       "\t<tr><th scope=col>&lt;dbl&gt;</th><th scope=col>&lt;dbl&gt;</th><th scope=col>&lt;dbl&gt;</th><th scope=col>&lt;dbl&gt;</th><th scope=col>&lt;dbl&gt;</th><th scope=col>&lt;dbl&gt;</th></tr>\n",
       "</thead>\n",
       "<tbody>\n",
       "\t<tr><td>131</td><td>0.1790901</td><td>NA</td><td>         NA</td><td>     NA</td><td>          NA</td></tr>\n",
       "\t<tr><td>132</td><td>0.1993881</td><td>-1</td><td>-0.02029801</td><td>14.8475</td><td>0.0001816851</td></tr>\n",
       "</tbody>\n",
       "</table>\n"
      ],
      "text/latex": [
       "A anova: 2 × 6\n",
       "\\begin{tabular}{r|llllll}\n",
       " Res.Df & RSS & Df & Sum of Sq & F & Pr(>F)\\\\\n",
       " <dbl> & <dbl> & <dbl> & <dbl> & <dbl> & <dbl>\\\\\n",
       "\\hline\n",
       "\t 131 & 0.1790901 & NA &          NA &      NA &           NA\\\\\n",
       "\t 132 & 0.1993881 & -1 & -0.02029801 & 14.8475 & 0.0001816851\\\\\n",
       "\\end{tabular}\n"
      ],
      "text/markdown": [
       "\n",
       "A anova: 2 × 6\n",
       "\n",
       "| Res.Df &lt;dbl&gt; | RSS &lt;dbl&gt; | Df &lt;dbl&gt; | Sum of Sq &lt;dbl&gt; | F &lt;dbl&gt; | Pr(&gt;F) &lt;dbl&gt; |\n",
       "|---|---|---|---|---|---|\n",
       "| 131 | 0.1790901 | NA |          NA |      NA |           NA |\n",
       "| 132 | 0.1993881 | -1 | -0.02029801 | 14.8475 | 0.0001816851 |\n",
       "\n"
      ],
      "text/plain": [
       "  Res.Df RSS       Df Sum of Sq   F       Pr(>F)      \n",
       "1 131    0.1790901 NA          NA      NA           NA\n",
       "2 132    0.1993881 -1 -0.02029801 14.8475 0.0001816851"
      ]
     },
     "metadata": {},
     "output_type": "display_data"
    }
   ],
   "source": [
    "anova(fit_6, fit_2)"
   ]
  },
  {
   "cell_type": "code",
   "execution_count": 77,
   "metadata": {},
   "outputs": [
    {
     "data": {
      "text/html": [
       "<table>\n",
       "<caption>A anova: 2 × 6</caption>\n",
       "<thead>\n",
       "\t<tr><th scope=col>Res.Df</th><th scope=col>RSS</th><th scope=col>Df</th><th scope=col>Sum of Sq</th><th scope=col>F</th><th scope=col>Pr(&gt;F)</th></tr>\n",
       "\t<tr><th scope=col>&lt;dbl&gt;</th><th scope=col>&lt;dbl&gt;</th><th scope=col>&lt;dbl&gt;</th><th scope=col>&lt;dbl&gt;</th><th scope=col>&lt;dbl&gt;</th><th scope=col>&lt;dbl&gt;</th></tr>\n",
       "</thead>\n",
       "<tbody>\n",
       "\t<tr><td>131</td><td>0.1790901</td><td>NA</td><td>         NA</td><td>      NA</td><td>          NA</td></tr>\n",
       "\t<tr><td>132</td><td>0.1951486</td><td>-1</td><td>-0.01605849</td><td>11.74639</td><td>0.0008150186</td></tr>\n",
       "</tbody>\n",
       "</table>\n"
      ],
      "text/latex": [
       "A anova: 2 × 6\n",
       "\\begin{tabular}{r|llllll}\n",
       " Res.Df & RSS & Df & Sum of Sq & F & Pr(>F)\\\\\n",
       " <dbl> & <dbl> & <dbl> & <dbl> & <dbl> & <dbl>\\\\\n",
       "\\hline\n",
       "\t 131 & 0.1790901 & NA &          NA &       NA &           NA\\\\\n",
       "\t 132 & 0.1951486 & -1 & -0.01605849 & 11.74639 & 0.0008150186\\\\\n",
       "\\end{tabular}\n"
      ],
      "text/markdown": [
       "\n",
       "A anova: 2 × 6\n",
       "\n",
       "| Res.Df &lt;dbl&gt; | RSS &lt;dbl&gt; | Df &lt;dbl&gt; | Sum of Sq &lt;dbl&gt; | F &lt;dbl&gt; | Pr(&gt;F) &lt;dbl&gt; |\n",
       "|---|---|---|---|---|---|\n",
       "| 131 | 0.1790901 | NA |          NA |       NA |           NA |\n",
       "| 132 | 0.1951486 | -1 | -0.01605849 | 11.74639 | 0.0008150186 |\n",
       "\n"
      ],
      "text/plain": [
       "  Res.Df RSS       Df Sum of Sq   F        Pr(>F)      \n",
       "1 131    0.1790901 NA          NA       NA           NA\n",
       "2 132    0.1951486 -1 -0.01605849 11.74639 0.0008150186"
      ]
     },
     "metadata": {},
     "output_type": "display_data"
    }
   ],
   "source": [
    "anova(fit_6, fit_5)"
   ]
  },
  {
   "cell_type": "markdown",
   "metadata": {},
   "source": [
    "> The model with `med_bed` and `gov_resp` is significantly (p-value < 0.05) different from the base model and the model with only `med_bed` or `gov_resp`. I would use this as my final model."
   ]
  },
  {
   "cell_type": "markdown",
   "metadata": {},
   "source": [
    "Check the residuals:"
   ]
  },
  {
   "cell_type": "code",
   "execution_count": 283,
   "metadata": {},
   "outputs": [
    {
     "data": {
      "image/png": "[encoded data removed]",
      "text/plain": [
       "Plot with title \"\""
      ]
     },
     "metadata": {
      "image/png": {
       "height": 420,
       "width": 420
      },
      "text/plain": {
       "height": 420,
       "width": 420
      }
     },
     "output_type": "display_data"
    },
    {
     "data": {
      "image/png": "[encoded data removed]",
      "text/plain": [
       "Plot with title \"\""
      ]
     },
     "metadata": {
      "image/png": {
       "height": 420,
       "width": 420
      },
      "text/plain": {
       "height": 420,
       "width": 420
      }
     },
     "output_type": "display_data"
    },
    {
     "data": {
      "image/png": "[encoded data removed]",
      "text/plain": [
       "Plot with title \"\""
      ]
     },
     "metadata": {
      "image/png": {
       "height": 420,
       "width": 420
      },
      "text/plain": {
       "height": 420,
       "width": 420
      }
     },
     "output_type": "display_data"
    },
    {
     "data": {
      "image/png": "[encoded data removed]",
      "text/plain": [
       "Plot with title \"\""
      ]
     },
     "metadata": {
      "image/png": {
       "height": 420,
       "width": 420
      },
      "text/plain": {
       "height": 420,
       "width": 420
      }
     },
     "output_type": "display_data"
    }
   ],
   "source": [
    "plot(fit_6)"
   ]
  },
  {
   "cell_type": "code",
   "execution_count": 284,
   "metadata": {},
   "outputs": [
    {
     "data": {
      "image/png": "[encoded data removed]",
      "text/plain": [
       "plot without title"
      ]
     },
     "metadata": {
      "image/png": {
       "height": 420,
       "width": 420
      },
      "text/plain": {
       "height": 420,
       "width": 420
      }
     },
     "output_type": "display_data"
    }
   ],
   "source": [
    "tibble(residual = fit_6$residuals) %>%\n",
    "    ggplot(aes(residual)) +\n",
    "    geom_histogram(bins = 20)"
   ]
  },
  {
   "cell_type": "markdown",
   "metadata": {},
   "source": [
    "> The distribution is slightly right skewed. So the residuals does not follow the normal distribution. It seems that my model failed to capture some features."
   ]
  },
  {
   "cell_type": "markdown",
   "metadata": {},
   "source": [
    "3) Data transformation"
   ]
  },
  {
   "cell_type": "code",
   "execution_count": 289,
   "metadata": {},
   "outputs": [
    {
     "data": {
      "image/png": "[encoded data removed]",
      "text/plain": [
       "plot without title"
      ]
     },
     "metadata": {
      "image/png": {
       "height": 420,
       "width": 420
      },
      "text/plain": {
       "height": 420,
       "width": 420
      }
     },
     "output_type": "display_data"
    }
   ],
   "source": [
    "df_sub %>%\n",
    "    ggplot(aes(sqrt(age_65up))) +\n",
    "    geom_histogram(bins = 30)"
   ]
  },
  {
   "cell_type": "code",
   "execution_count": 61,
   "metadata": {},
   "outputs": [
    {
     "data": {
      "image/png": "[encoded data removed]",
      "text/plain": [
       "plot without title"
      ]
     },
     "metadata": {
      "image/png": {
       "height": 420,
       "width": 420
      },
      "text/plain": {
       "height": 420,
       "width": 420
      }
     },
     "output_type": "display_data"
    }
   ],
   "source": [
    "df_sub %>%\n",
    "    ggplot(aes(sqrt(rate))) +\n",
    "    geom_histogram(bins = 30)"
   ]
  },
  {
   "cell_type": "code",
   "execution_count": 53,
   "metadata": {},
   "outputs": [
    {
     "data": {
      "image/png": "[encoded data removed]",
      "text/plain": [
       "plot without title"
      ]
     },
     "metadata": {
      "image/png": {
       "height": 420,
       "width": 420
      },
      "text/plain": {
       "height": 420,
       "width": 420
      }
     },
     "output_type": "display_data"
    }
   ],
   "source": [
    "df_sub %>%\n",
    "    ggplot(aes(log(med_bed))) +\n",
    "    geom_histogram(bins = 30)"
   ]
  },
  {
   "cell_type": "code",
   "execution_count": 54,
   "metadata": {},
   "outputs": [
    {
     "data": {
      "image/png": "[encoded data removed]",
      "text/plain": [
       "plot without title"
      ]
     },
     "metadata": {
      "image/png": {
       "height": 420,
       "width": 420
      },
      "text/plain": {
       "height": 420,
       "width": 420
      }
     },
     "output_type": "display_data"
    }
   ],
   "source": [
    "df_sub %>%\n",
    "    ggplot(aes(sqrt(max(gov_resp + 1) - gov_resp))) +\n",
    "    geom_histogram(bins = 30)"
   ]
  },
  {
   "cell_type": "code",
   "execution_count": 55,
   "metadata": {},
   "outputs": [
    {
     "data": {
      "image/png": "[encoded data removed]",
      "text/plain": [
       "plot without title"
      ]
     },
     "metadata": {
      "image/png": {
       "height": 420,
       "width": 420
      },
      "text/plain": {
       "height": 420,
       "width": 420
      }
     },
     "output_type": "display_data"
    }
   ],
   "source": [
    "df_sub %>%\n",
    "    ggplot(aes(log(confirmed_rate))) +\n",
    "    geom_histogram(bins = 30)"
   ]
  },
  {
   "cell_type": "code",
   "execution_count": 56,
   "metadata": {},
   "outputs": [
    {
     "data": {
      "image/png": "[encoded data removed]",
      "text/plain": [
       "plot without title"
      ]
     },
     "metadata": {
      "image/png": {
       "height": 420,
       "width": 420
      },
      "text/plain": {
       "height": 420,
       "width": 420
      }
     },
     "output_type": "display_data"
    }
   ],
   "source": [
    "df_sub %>%\n",
    "    ggplot(aes(log(nurses_midwives))) +\n",
    "    geom_histogram(bins = 30)"
   ]
  },
  {
   "cell_type": "code",
   "execution_count": 57,
   "metadata": {},
   "outputs": [
    {
     "data": {
      "image/png": "[encoded data removed]",
      "text/plain": [
       "plot without title"
      ]
     },
     "metadata": {
      "image/png": {
       "height": 420,
       "width": 420
      },
      "text/plain": {
       "height": 420,
       "width": 420
      }
     },
     "output_type": "display_data"
    }
   ],
   "source": [
    "df_sub %>%\n",
    "    ggplot(aes(log(pop_density))) +\n",
    "    geom_histogram(bins = 30)"
   ]
  },
  {
   "cell_type": "code",
   "execution_count": 279,
   "metadata": {},
   "outputs": [],
   "source": [
    "# df_cp_2 <- df_cp %>%\n",
    "#      filter(rate != 0) %>%\n",
    "#     mutate(rate_sqrt = sqrt(rate),\n",
    "#            age_65up_sqrt = sqrt(age_65up),\n",
    "#            med_bed_log = log(med_bed),\n",
    "#            gov_resp_sqrt_trans = sqrt(max(gov_resp + 1) - gov_resp),\n",
    "#            confirmed_rate_log = log(confirmed_rate),\n",
    "#            physicians_sqrt = sqrt(physicians),\n",
    "#            air_pollution_log = log(air_pollution),\n",
    "#            nurses_midwives_log = log(nurses_midwives),\n",
    "#            pop_density_log = log(pop_density)) %>%\n",
    "#     select(rate_sqrt, age_65up_sqrt,med_bed_log, gov_resp_sqrt_trans, \n",
    "#            smoking, confirmed_rate_log, physicians_sqrt, air_pollution_log,\n",
    "#            nurses_midwives_log, pop_density_log)\n"
   ]
  },
  {
   "cell_type": "code",
   "execution_count": 62,
   "metadata": {},
   "outputs": [],
   "source": [
    "df_trans <- df_sub %>%\n",
    "    filter(rate != 0) %>%\n",
    "    mutate(rate_sqrt = sqrt(rate),\n",
    "           age_65up_sqrt = sqrt(age_65up),\n",
    "           med_bed_log = log(med_bed),\n",
    "           gov_resp_sqrt_trans = sqrt(max(gov_resp + 1) - gov_resp),\n",
    "           confirmed_rate_log = log(confirmed_rate),\n",
    "           nurses_midwives_log = log(nurses_midwives),\n",
    "           pop_density_log = log(pop_density)) %>%\n",
    "    select(rate_sqrt, age_65up_sqrt,med_bed_log, gov_resp_sqrt_trans, \n",
    "           confirmed_rate_log, nurses_midwives_log, pop_density_log)\n"
   ]
  },
  {
   "cell_type": "code",
   "execution_count": 64,
   "metadata": {},
   "outputs": [
    {
     "data": {
      "text/html": [
       "<table>\n",
       "<caption>A tibble: 2 × 7</caption>\n",
       "<thead>\n",
       "\t<tr><th scope=col>term</th><th scope=col>estimate</th><th scope=col>std.error</th><th scope=col>statistic</th><th scope=col>p.value</th><th scope=col>p.value.adjust</th><th scope=col>significant</th></tr>\n",
       "\t<tr><th scope=col>&lt;chr&gt;</th><th scope=col>&lt;dbl&gt;</th><th scope=col>&lt;dbl&gt;</th><th scope=col>&lt;dbl&gt;</th><th scope=col>&lt;dbl&gt;</th><th scope=col>&lt;dbl&gt;</th><th scope=col>&lt;lgl&gt;</th></tr>\n",
       "</thead>\n",
       "<tbody>\n",
       "\t<tr><td>(Intercept)  </td><td>0.15920379</td><td>0.022212834</td><td>7.167198</td><td>6.199752e-11</td><td>1.239950e-10</td><td> TRUE</td></tr>\n",
       "\t<tr><td>age_65up_sqrt</td><td>0.01307724</td><td>0.007111616</td><td>1.838856</td><td>6.834842e-02</td><td>6.834842e-02</td><td>FALSE</td></tr>\n",
       "</tbody>\n",
       "</table>\n"
      ],
      "text/latex": [
       "A tibble: 2 × 7\n",
       "\\begin{tabular}{r|lllllll}\n",
       " term & estimate & std.error & statistic & p.value & p.value.adjust & significant\\\\\n",
       " <chr> & <dbl> & <dbl> & <dbl> & <dbl> & <dbl> & <lgl>\\\\\n",
       "\\hline\n",
       "\t (Intercept)   & 0.15920379 & 0.022212834 & 7.167198 & 6.199752e-11 & 1.239950e-10 &  TRUE\\\\\n",
       "\t age\\_65up\\_sqrt & 0.01307724 & 0.007111616 & 1.838856 & 6.834842e-02 & 6.834842e-02 & FALSE\\\\\n",
       "\\end{tabular}\n"
      ],
      "text/markdown": [
       "\n",
       "A tibble: 2 × 7\n",
       "\n",
       "| term &lt;chr&gt; | estimate &lt;dbl&gt; | std.error &lt;dbl&gt; | statistic &lt;dbl&gt; | p.value &lt;dbl&gt; | p.value.adjust &lt;dbl&gt; | significant &lt;lgl&gt; |\n",
       "|---|---|---|---|---|---|---|\n",
       "| (Intercept)   | 0.15920379 | 0.022212834 | 7.167198 | 6.199752e-11 | 1.239950e-10 |  TRUE |\n",
       "| age_65up_sqrt | 0.01307724 | 0.007111616 | 1.838856 | 6.834842e-02 | 6.834842e-02 | FALSE |\n",
       "\n"
      ],
      "text/plain": [
       "  term          estimate   std.error   statistic p.value      p.value.adjust\n",
       "1 (Intercept)   0.15920379 0.022212834 7.167198  6.199752e-11 1.239950e-10  \n",
       "2 age_65up_sqrt 0.01307724 0.007111616 1.838856  6.834842e-02 6.834842e-02  \n",
       "  significant\n",
       "1  TRUE      \n",
       "2 FALSE      "
      ]
     },
     "metadata": {},
     "output_type": "display_data"
    }
   ],
   "source": [
    "# base model\n",
    "base <- lm(rate_sqrt ~ age_65up_sqrt, df_trans)\n",
    "\n",
    "analyze_lm(base)"
   ]
  },
  {
   "cell_type": "code",
   "execution_count": 65,
   "metadata": {},
   "outputs": [
    {
     "data": {
      "text/html": [
       "<table>\n",
       "<caption>A tibble: 3 × 7</caption>\n",
       "<thead>\n",
       "\t<tr><th scope=col>term</th><th scope=col>estimate</th><th scope=col>std.error</th><th scope=col>statistic</th><th scope=col>p.value</th><th scope=col>p.value.adjust</th><th scope=col>significant</th></tr>\n",
       "\t<tr><th scope=col>&lt;chr&gt;</th><th scope=col>&lt;dbl&gt;</th><th scope=col>&lt;dbl&gt;</th><th scope=col>&lt;dbl&gt;</th><th scope=col>&lt;dbl&gt;</th><th scope=col>&lt;dbl&gt;</th><th scope=col>&lt;lgl&gt;</th></tr>\n",
       "</thead>\n",
       "<tbody>\n",
       "\t<tr><td>(Intercept)  </td><td> 0.11424735</td><td>0.024212652</td><td> 4.718498</td><td>6.389477e-06</td><td>1.916843e-05</td><td>TRUE</td></tr>\n",
       "\t<tr><td>age_65up_sqrt</td><td> 0.04022139</td><td>0.009851976</td><td> 4.082571</td><td>7.993820e-05</td><td>1.199073e-04</td><td>TRUE</td></tr>\n",
       "\t<tr><td>med_bed_log  </td><td>-0.04558047</td><td>0.012042361</td><td>-3.785011</td><td>2.397351e-04</td><td>2.397351e-04</td><td>TRUE</td></tr>\n",
       "</tbody>\n",
       "</table>\n"
      ],
      "text/latex": [
       "A tibble: 3 × 7\n",
       "\\begin{tabular}{r|lllllll}\n",
       " term & estimate & std.error & statistic & p.value & p.value.adjust & significant\\\\\n",
       " <chr> & <dbl> & <dbl> & <dbl> & <dbl> & <dbl> & <lgl>\\\\\n",
       "\\hline\n",
       "\t (Intercept)   &  0.11424735 & 0.024212652 &  4.718498 & 6.389477e-06 & 1.916843e-05 & TRUE\\\\\n",
       "\t age\\_65up\\_sqrt &  0.04022139 & 0.009851976 &  4.082571 & 7.993820e-05 & 1.199073e-04 & TRUE\\\\\n",
       "\t med\\_bed\\_log   & -0.04558047 & 0.012042361 & -3.785011 & 2.397351e-04 & 2.397351e-04 & TRUE\\\\\n",
       "\\end{tabular}\n"
      ],
      "text/markdown": [
       "\n",
       "A tibble: 3 × 7\n",
       "\n",
       "| term &lt;chr&gt; | estimate &lt;dbl&gt; | std.error &lt;dbl&gt; | statistic &lt;dbl&gt; | p.value &lt;dbl&gt; | p.value.adjust &lt;dbl&gt; | significant &lt;lgl&gt; |\n",
       "|---|---|---|---|---|---|---|\n",
       "| (Intercept)   |  0.11424735 | 0.024212652 |  4.718498 | 6.389477e-06 | 1.916843e-05 | TRUE |\n",
       "| age_65up_sqrt |  0.04022139 | 0.009851976 |  4.082571 | 7.993820e-05 | 1.199073e-04 | TRUE |\n",
       "| med_bed_log   | -0.04558047 | 0.012042361 | -3.785011 | 2.397351e-04 | 2.397351e-04 | TRUE |\n",
       "\n"
      ],
      "text/plain": [
       "  term          estimate    std.error   statistic p.value      p.value.adjust\n",
       "1 (Intercept)    0.11424735 0.024212652  4.718498 6.389477e-06 1.916843e-05  \n",
       "2 age_65up_sqrt  0.04022139 0.009851976  4.082571 7.993820e-05 1.199073e-04  \n",
       "3 med_bed_log   -0.04558047 0.012042361 -3.785011 2.397351e-04 2.397351e-04  \n",
       "  significant\n",
       "1 TRUE       \n",
       "2 TRUE       \n",
       "3 TRUE       "
      ]
     },
     "metadata": {},
     "output_type": "display_data"
    }
   ],
   "source": [
    "# add med_bed_log to the base model\n",
    "fit_1 <- lm(rate_sqrt ~ age_65up_sqrt + med_bed_log, df_trans)\n",
    "\n",
    "analyze_lm(fit_1)"
   ]
  },
  {
   "cell_type": "code",
   "execution_count": 66,
   "metadata": {},
   "outputs": [
    {
     "data": {
      "text/html": [
       "<table>\n",
       "<caption>A anova: 2 × 6</caption>\n",
       "<thead>\n",
       "\t<tr><th scope=col>Res.Df</th><th scope=col>RSS</th><th scope=col>Df</th><th scope=col>Sum of Sq</th><th scope=col>F</th><th scope=col>Pr(&gt;F)</th></tr>\n",
       "\t<tr><th scope=col>&lt;dbl&gt;</th><th scope=col>&lt;dbl&gt;</th><th scope=col>&lt;dbl&gt;</th><th scope=col>&lt;dbl&gt;</th><th scope=col>&lt;dbl&gt;</th><th scope=col>&lt;dbl&gt;</th></tr>\n",
       "</thead>\n",
       "<tbody>\n",
       "\t<tr><td>122</td><td>0.7872952</td><td>NA</td><td>         NA</td><td>      NA</td><td>          NA</td></tr>\n",
       "\t<tr><td>123</td><td>0.8797463</td><td>-1</td><td>-0.09245108</td><td>14.32631</td><td>0.0002397351</td></tr>\n",
       "</tbody>\n",
       "</table>\n"
      ],
      "text/latex": [
       "A anova: 2 × 6\n",
       "\\begin{tabular}{r|llllll}\n",
       " Res.Df & RSS & Df & Sum of Sq & F & Pr(>F)\\\\\n",
       " <dbl> & <dbl> & <dbl> & <dbl> & <dbl> & <dbl>\\\\\n",
       "\\hline\n",
       "\t 122 & 0.7872952 & NA &          NA &       NA &           NA\\\\\n",
       "\t 123 & 0.8797463 & -1 & -0.09245108 & 14.32631 & 0.0002397351\\\\\n",
       "\\end{tabular}\n"
      ],
      "text/markdown": [
       "\n",
       "A anova: 2 × 6\n",
       "\n",
       "| Res.Df &lt;dbl&gt; | RSS &lt;dbl&gt; | Df &lt;dbl&gt; | Sum of Sq &lt;dbl&gt; | F &lt;dbl&gt; | Pr(&gt;F) &lt;dbl&gt; |\n",
       "|---|---|---|---|---|---|\n",
       "| 122 | 0.7872952 | NA |          NA |       NA |           NA |\n",
       "| 123 | 0.8797463 | -1 | -0.09245108 | 14.32631 | 0.0002397351 |\n",
       "\n"
      ],
      "text/plain": [
       "  Res.Df RSS       Df Sum of Sq   F        Pr(>F)      \n",
       "1 122    0.7872952 NA          NA       NA           NA\n",
       "2 123    0.8797463 -1 -0.09245108 14.32631 0.0002397351"
      ]
     },
     "metadata": {},
     "output_type": "display_data"
    }
   ],
   "source": [
    "anova(fit_1, base)"
   ]
  },
  {
   "cell_type": "markdown",
   "metadata": {},
   "source": [
    "> The model with `med_bed_log` is significantly (p-value < 0.05) different from the base model. I could add `med_bed_log` in my final model."
   ]
  },
  {
   "cell_type": "code",
   "execution_count": 67,
   "metadata": {},
   "outputs": [
    {
     "data": {
      "text/html": [
       "<table>\n",
       "<caption>A tibble: 3 × 7</caption>\n",
       "<thead>\n",
       "\t<tr><th scope=col>term</th><th scope=col>estimate</th><th scope=col>std.error</th><th scope=col>statistic</th><th scope=col>p.value</th><th scope=col>p.value.adjust</th><th scope=col>significant</th></tr>\n",
       "\t<tr><th scope=col>&lt;chr&gt;</th><th scope=col>&lt;dbl&gt;</th><th scope=col>&lt;dbl&gt;</th><th scope=col>&lt;dbl&gt;</th><th scope=col>&lt;dbl&gt;</th><th scope=col>&lt;dbl&gt;</th><th scope=col>&lt;lgl&gt;</th></tr>\n",
       "</thead>\n",
       "<tbody>\n",
       "\t<tr><td>(Intercept)    </td><td> 0.176441656</td><td>0.031506654</td><td> 5.6001395</td><td>1.346061e-07</td><td>4.038184e-07</td><td> TRUE</td></tr>\n",
       "\t<tr><td>age_65up_sqrt  </td><td> 0.013575583</td><td>0.007152427</td><td> 1.8980388</td><td>6.005373e-02</td><td>9.008059e-02</td><td>FALSE</td></tr>\n",
       "\t<tr><td>pop_density_log</td><td>-0.004340059</td><td>0.005616540</td><td>-0.7727284</td><td>4.411776e-01</td><td>4.411776e-01</td><td>FALSE</td></tr>\n",
       "</tbody>\n",
       "</table>\n"
      ],
      "text/latex": [
       "A tibble: 3 × 7\n",
       "\\begin{tabular}{r|lllllll}\n",
       " term & estimate & std.error & statistic & p.value & p.value.adjust & significant\\\\\n",
       " <chr> & <dbl> & <dbl> & <dbl> & <dbl> & <dbl> & <lgl>\\\\\n",
       "\\hline\n",
       "\t (Intercept)     &  0.176441656 & 0.031506654 &  5.6001395 & 1.346061e-07 & 4.038184e-07 &  TRUE\\\\\n",
       "\t age\\_65up\\_sqrt   &  0.013575583 & 0.007152427 &  1.8980388 & 6.005373e-02 & 9.008059e-02 & FALSE\\\\\n",
       "\t pop\\_density\\_log & -0.004340059 & 0.005616540 & -0.7727284 & 4.411776e-01 & 4.411776e-01 & FALSE\\\\\n",
       "\\end{tabular}\n"
      ],
      "text/markdown": [
       "\n",
       "A tibble: 3 × 7\n",
       "\n",
       "| term &lt;chr&gt; | estimate &lt;dbl&gt; | std.error &lt;dbl&gt; | statistic &lt;dbl&gt; | p.value &lt;dbl&gt; | p.value.adjust &lt;dbl&gt; | significant &lt;lgl&gt; |\n",
       "|---|---|---|---|---|---|---|\n",
       "| (Intercept)     |  0.176441656 | 0.031506654 |  5.6001395 | 1.346061e-07 | 4.038184e-07 |  TRUE |\n",
       "| age_65up_sqrt   |  0.013575583 | 0.007152427 |  1.8980388 | 6.005373e-02 | 9.008059e-02 | FALSE |\n",
       "| pop_density_log | -0.004340059 | 0.005616540 | -0.7727284 | 4.411776e-01 | 4.411776e-01 | FALSE |\n",
       "\n"
      ],
      "text/plain": [
       "  term            estimate     std.error   statistic  p.value     \n",
       "1 (Intercept)      0.176441656 0.031506654  5.6001395 1.346061e-07\n",
       "2 age_65up_sqrt    0.013575583 0.007152427  1.8980388 6.005373e-02\n",
       "3 pop_density_log -0.004340059 0.005616540 -0.7727284 4.411776e-01\n",
       "  p.value.adjust significant\n",
       "1 4.038184e-07    TRUE      \n",
       "2 9.008059e-02   FALSE      \n",
       "3 4.411776e-01   FALSE      "
      ]
     },
     "metadata": {},
     "output_type": "display_data"
    }
   ],
   "source": [
    "# add pop_density_log to the base model\n",
    "fit_2 <- lm(rate_sqrt ~ age_65up_sqrt + pop_density_log, df_trans)\n",
    "\n",
    "analyze_lm(fit_2)"
   ]
  },
  {
   "cell_type": "code",
   "execution_count": 68,
   "metadata": {},
   "outputs": [
    {
     "data": {
      "text/html": [
       "<table>\n",
       "<caption>A anova: 2 × 6</caption>\n",
       "<thead>\n",
       "\t<tr><th scope=col>Res.Df</th><th scope=col>RSS</th><th scope=col>Df</th><th scope=col>Sum of Sq</th><th scope=col>F</th><th scope=col>Pr(&gt;F)</th></tr>\n",
       "\t<tr><th scope=col>&lt;dbl&gt;</th><th scope=col>&lt;dbl&gt;</th><th scope=col>&lt;dbl&gt;</th><th scope=col>&lt;dbl&gt;</th><th scope=col>&lt;dbl&gt;</th><th scope=col>&lt;dbl&gt;</th></tr>\n",
       "</thead>\n",
       "<tbody>\n",
       "\t<tr><td>122</td><td>0.8754615</td><td>NA</td><td>          NA</td><td>       NA</td><td>       NA</td></tr>\n",
       "\t<tr><td>123</td><td>0.8797463</td><td>-1</td><td>-0.004284803</td><td>0.5971091</td><td>0.4411776</td></tr>\n",
       "</tbody>\n",
       "</table>\n"
      ],
      "text/latex": [
       "A anova: 2 × 6\n",
       "\\begin{tabular}{r|llllll}\n",
       " Res.Df & RSS & Df & Sum of Sq & F & Pr(>F)\\\\\n",
       " <dbl> & <dbl> & <dbl> & <dbl> & <dbl> & <dbl>\\\\\n",
       "\\hline\n",
       "\t 122 & 0.8754615 & NA &           NA &        NA &        NA\\\\\n",
       "\t 123 & 0.8797463 & -1 & -0.004284803 & 0.5971091 & 0.4411776\\\\\n",
       "\\end{tabular}\n"
      ],
      "text/markdown": [
       "\n",
       "A anova: 2 × 6\n",
       "\n",
       "| Res.Df &lt;dbl&gt; | RSS &lt;dbl&gt; | Df &lt;dbl&gt; | Sum of Sq &lt;dbl&gt; | F &lt;dbl&gt; | Pr(&gt;F) &lt;dbl&gt; |\n",
       "|---|---|---|---|---|---|\n",
       "| 122 | 0.8754615 | NA |           NA |        NA |        NA |\n",
       "| 123 | 0.8797463 | -1 | -0.004284803 | 0.5971091 | 0.4411776 |\n",
       "\n"
      ],
      "text/plain": [
       "  Res.Df RSS       Df Sum of Sq    F         Pr(>F)   \n",
       "1 122    0.8754615 NA           NA        NA        NA\n",
       "2 123    0.8797463 -1 -0.004284803 0.5971091 0.4411776"
      ]
     },
     "metadata": {},
     "output_type": "display_data"
    }
   ],
   "source": [
    "anova(fit_2, base)"
   ]
  },
  {
   "cell_type": "markdown",
   "metadata": {},
   "source": [
    "> The model with `pop_density` is not significantly (p-value < 0.05) different from the base model. I would not add `pop_density` in my final model."
   ]
  },
  {
   "cell_type": "code",
   "execution_count": 69,
   "metadata": {},
   "outputs": [
    {
     "data": {
      "text/html": [
       "<table>\n",
       "<caption>A tibble: 3 × 7</caption>\n",
       "<thead>\n",
       "\t<tr><th scope=col>term</th><th scope=col>estimate</th><th scope=col>std.error</th><th scope=col>statistic</th><th scope=col>p.value</th><th scope=col>p.value.adjust</th><th scope=col>significant</th></tr>\n",
       "\t<tr><th scope=col>&lt;chr&gt;</th><th scope=col>&lt;dbl&gt;</th><th scope=col>&lt;dbl&gt;</th><th scope=col>&lt;dbl&gt;</th><th scope=col>&lt;dbl&gt;</th><th scope=col>&lt;dbl&gt;</th><th scope=col>&lt;lgl&gt;</th></tr>\n",
       "</thead>\n",
       "<tbody>\n",
       "\t<tr><td>(Intercept)       </td><td>-0.08133396</td><td>0.056008683</td><td>-1.452167</td><td>1.490221e-01</td><td>1.490221e-01</td><td>FALSE</td></tr>\n",
       "\t<tr><td>age_65up_sqrt     </td><td> 0.03776837</td><td>0.008485055</td><td> 4.451164</td><td>1.901691e-05</td><td>2.852537e-05</td><td> TRUE</td></tr>\n",
       "\t<tr><td>confirmed_rate_log</td><td>-0.01914078</td><td>0.004145178</td><td>-4.617600</td><td>9.688940e-06</td><td>2.852537e-05</td><td> TRUE</td></tr>\n",
       "</tbody>\n",
       "</table>\n"
      ],
      "text/latex": [
       "A tibble: 3 × 7\n",
       "\\begin{tabular}{r|lllllll}\n",
       " term & estimate & std.error & statistic & p.value & p.value.adjust & significant\\\\\n",
       " <chr> & <dbl> & <dbl> & <dbl> & <dbl> & <dbl> & <lgl>\\\\\n",
       "\\hline\n",
       "\t (Intercept)        & -0.08133396 & 0.056008683 & -1.452167 & 1.490221e-01 & 1.490221e-01 & FALSE\\\\\n",
       "\t age\\_65up\\_sqrt      &  0.03776837 & 0.008485055 &  4.451164 & 1.901691e-05 & 2.852537e-05 &  TRUE\\\\\n",
       "\t confirmed\\_rate\\_log & -0.01914078 & 0.004145178 & -4.617600 & 9.688940e-06 & 2.852537e-05 &  TRUE\\\\\n",
       "\\end{tabular}\n"
      ],
      "text/markdown": [
       "\n",
       "A tibble: 3 × 7\n",
       "\n",
       "| term &lt;chr&gt; | estimate &lt;dbl&gt; | std.error &lt;dbl&gt; | statistic &lt;dbl&gt; | p.value &lt;dbl&gt; | p.value.adjust &lt;dbl&gt; | significant &lt;lgl&gt; |\n",
       "|---|---|---|---|---|---|---|\n",
       "| (Intercept)        | -0.08133396 | 0.056008683 | -1.452167 | 1.490221e-01 | 1.490221e-01 | FALSE |\n",
       "| age_65up_sqrt      |  0.03776837 | 0.008485055 |  4.451164 | 1.901691e-05 | 2.852537e-05 |  TRUE |\n",
       "| confirmed_rate_log | -0.01914078 | 0.004145178 | -4.617600 | 9.688940e-06 | 2.852537e-05 |  TRUE |\n",
       "\n"
      ],
      "text/plain": [
       "  term               estimate    std.error   statistic p.value     \n",
       "1 (Intercept)        -0.08133396 0.056008683 -1.452167 1.490221e-01\n",
       "2 age_65up_sqrt       0.03776837 0.008485055  4.451164 1.901691e-05\n",
       "3 confirmed_rate_log -0.01914078 0.004145178 -4.617600 9.688940e-06\n",
       "  p.value.adjust significant\n",
       "1 1.490221e-01   FALSE      \n",
       "2 2.852537e-05    TRUE      \n",
       "3 2.852537e-05    TRUE      "
      ]
     },
     "metadata": {},
     "output_type": "display_data"
    }
   ],
   "source": [
    "# add confirmed_rate_log to the base model\n",
    "fit_3 <- lm(rate_sqrt ~ age_65up_sqrt + confirmed_rate_log, df_trans)\n",
    "\n",
    "analyze_lm(fit_3)"
   ]
  },
  {
   "cell_type": "code",
   "execution_count": 70,
   "metadata": {},
   "outputs": [
    {
     "data": {
      "text/html": [
       "<table>\n",
       "<caption>A anova: 2 × 6</caption>\n",
       "<thead>\n",
       "\t<tr><th scope=col>Res.Df</th><th scope=col>RSS</th><th scope=col>Df</th><th scope=col>Sum of Sq</th><th scope=col>F</th><th scope=col>Pr(&gt;F)</th></tr>\n",
       "\t<tr><th scope=col>&lt;dbl&gt;</th><th scope=col>&lt;dbl&gt;</th><th scope=col>&lt;dbl&gt;</th><th scope=col>&lt;dbl&gt;</th><th scope=col>&lt;dbl&gt;</th><th scope=col>&lt;dbl&gt;</th></tr>\n",
       "</thead>\n",
       "<tbody>\n",
       "\t<tr><td>122</td><td>0.7488653</td><td>NA</td><td>       NA</td><td>      NA</td><td>         NA</td></tr>\n",
       "\t<tr><td>123</td><td>0.8797463</td><td>-1</td><td>-0.130881</td><td>21.32223</td><td>9.68894e-06</td></tr>\n",
       "</tbody>\n",
       "</table>\n"
      ],
      "text/latex": [
       "A anova: 2 × 6\n",
       "\\begin{tabular}{r|llllll}\n",
       " Res.Df & RSS & Df & Sum of Sq & F & Pr(>F)\\\\\n",
       " <dbl> & <dbl> & <dbl> & <dbl> & <dbl> & <dbl>\\\\\n",
       "\\hline\n",
       "\t 122 & 0.7488653 & NA &        NA &       NA &          NA\\\\\n",
       "\t 123 & 0.8797463 & -1 & -0.130881 & 21.32223 & 9.68894e-06\\\\\n",
       "\\end{tabular}\n"
      ],
      "text/markdown": [
       "\n",
       "A anova: 2 × 6\n",
       "\n",
       "| Res.Df &lt;dbl&gt; | RSS &lt;dbl&gt; | Df &lt;dbl&gt; | Sum of Sq &lt;dbl&gt; | F &lt;dbl&gt; | Pr(&gt;F) &lt;dbl&gt; |\n",
       "|---|---|---|---|---|---|\n",
       "| 122 | 0.7488653 | NA |        NA |       NA |          NA |\n",
       "| 123 | 0.8797463 | -1 | -0.130881 | 21.32223 | 9.68894e-06 |\n",
       "\n"
      ],
      "text/plain": [
       "  Res.Df RSS       Df Sum of Sq F        Pr(>F)     \n",
       "1 122    0.7488653 NA        NA       NA          NA\n",
       "2 123    0.8797463 -1 -0.130881 21.32223 9.68894e-06"
      ]
     },
     "metadata": {},
     "output_type": "display_data"
    }
   ],
   "source": [
    "anova(fit_3, base)"
   ]
  },
  {
   "cell_type": "markdown",
   "metadata": {},
   "source": [
    "> The model with `confirmed_rate_log` is significantly (p-value < 0.05) different from the base model. I could add `confirmed_rate_log` in my final model."
   ]
  },
  {
   "cell_type": "code",
   "execution_count": 71,
   "metadata": {},
   "outputs": [
    {
     "data": {
      "text/html": [
       "<table>\n",
       "<caption>A tibble: 3 × 7</caption>\n",
       "<thead>\n",
       "\t<tr><th scope=col>term</th><th scope=col>estimate</th><th scope=col>std.error</th><th scope=col>statistic</th><th scope=col>p.value</th><th scope=col>p.value.adjust</th><th scope=col>significant</th></tr>\n",
       "\t<tr><th scope=col>&lt;chr&gt;</th><th scope=col>&lt;dbl&gt;</th><th scope=col>&lt;dbl&gt;</th><th scope=col>&lt;dbl&gt;</th><th scope=col>&lt;dbl&gt;</th><th scope=col>&lt;dbl&gt;</th><th scope=col>&lt;lgl&gt;</th></tr>\n",
       "</thead>\n",
       "<tbody>\n",
       "\t<tr><td>(Intercept)        </td><td>0.127543108</td><td>0.028504980</td><td>4.474415</td><td>1.732357e-05</td><td>0.0000519707</td><td> TRUE</td></tr>\n",
       "\t<tr><td>age_65up_sqrt      </td><td>0.011940880</td><td>0.007082542</td><td>1.685960</td><td>9.435948e-02</td><td>0.0943594798</td><td>FALSE</td></tr>\n",
       "\t<tr><td>gov_resp_sqrt_trans</td><td>0.008266881</td><td>0.004723564</td><td>1.750136</td><td>8.260891e-02</td><td>0.0943594798</td><td>FALSE</td></tr>\n",
       "</tbody>\n",
       "</table>\n"
      ],
      "text/latex": [
       "A tibble: 3 × 7\n",
       "\\begin{tabular}{r|lllllll}\n",
       " term & estimate & std.error & statistic & p.value & p.value.adjust & significant\\\\\n",
       " <chr> & <dbl> & <dbl> & <dbl> & <dbl> & <dbl> & <lgl>\\\\\n",
       "\\hline\n",
       "\t (Intercept)         & 0.127543108 & 0.028504980 & 4.474415 & 1.732357e-05 & 0.0000519707 &  TRUE\\\\\n",
       "\t age\\_65up\\_sqrt       & 0.011940880 & 0.007082542 & 1.685960 & 9.435948e-02 & 0.0943594798 & FALSE\\\\\n",
       "\t gov\\_resp\\_sqrt\\_trans & 0.008266881 & 0.004723564 & 1.750136 & 8.260891e-02 & 0.0943594798 & FALSE\\\\\n",
       "\\end{tabular}\n"
      ],
      "text/markdown": [
       "\n",
       "A tibble: 3 × 7\n",
       "\n",
       "| term &lt;chr&gt; | estimate &lt;dbl&gt; | std.error &lt;dbl&gt; | statistic &lt;dbl&gt; | p.value &lt;dbl&gt; | p.value.adjust &lt;dbl&gt; | significant &lt;lgl&gt; |\n",
       "|---|---|---|---|---|---|---|\n",
       "| (Intercept)         | 0.127543108 | 0.028504980 | 4.474415 | 1.732357e-05 | 0.0000519707 |  TRUE |\n",
       "| age_65up_sqrt       | 0.011940880 | 0.007082542 | 1.685960 | 9.435948e-02 | 0.0943594798 | FALSE |\n",
       "| gov_resp_sqrt_trans | 0.008266881 | 0.004723564 | 1.750136 | 8.260891e-02 | 0.0943594798 | FALSE |\n",
       "\n"
      ],
      "text/plain": [
       "  term                estimate    std.error   statistic p.value     \n",
       "1 (Intercept)         0.127543108 0.028504980 4.474415  1.732357e-05\n",
       "2 age_65up_sqrt       0.011940880 0.007082542 1.685960  9.435948e-02\n",
       "3 gov_resp_sqrt_trans 0.008266881 0.004723564 1.750136  8.260891e-02\n",
       "  p.value.adjust significant\n",
       "1 0.0000519707    TRUE      \n",
       "2 0.0943594798   FALSE      \n",
       "3 0.0943594798   FALSE      "
      ]
     },
     "metadata": {},
     "output_type": "display_data"
    }
   ],
   "source": [
    "# add gov_resp_sqrt_trans to the base model\n",
    "fit_4 <- lm(rate_sqrt ~ age_65up_sqrt + gov_resp_sqrt_trans, df_trans)\n",
    "\n",
    "analyze_lm(fit_4)"
   ]
  },
  {
   "cell_type": "code",
   "execution_count": 71,
   "metadata": {},
   "outputs": [
    {
     "data": {
      "text/html": [
       "<table>\n",
       "<caption>A anova: 2 × 6</caption>\n",
       "<thead>\n",
       "\t<tr><th scope=col>Res.Df</th><th scope=col>RSS</th><th scope=col>Df</th><th scope=col>Sum of Sq</th><th scope=col>F</th><th scope=col>Pr(&gt;F)</th></tr>\n",
       "\t<tr><th scope=col>&lt;dbl&gt;</th><th scope=col>&lt;dbl&gt;</th><th scope=col>&lt;dbl&gt;</th><th scope=col>&lt;dbl&gt;</th><th scope=col>&lt;dbl&gt;</th><th scope=col>&lt;dbl&gt;</th></tr>\n",
       "</thead>\n",
       "<tbody>\n",
       "\t<tr><td>132</td><td>0.1972090</td><td>NA</td><td>         NA</td><td>      NA</td><td>        NA</td></tr>\n",
       "\t<tr><td>133</td><td>0.2016192</td><td>-1</td><td>-0.00441024</td><td>2.951953</td><td>0.08811857</td></tr>\n",
       "</tbody>\n",
       "</table>\n"
      ],
      "text/latex": [
       "A anova: 2 × 6\n",
       "\\begin{tabular}{r|llllll}\n",
       " Res.Df & RSS & Df & Sum of Sq & F & Pr(>F)\\\\\n",
       " <dbl> & <dbl> & <dbl> & <dbl> & <dbl> & <dbl>\\\\\n",
       "\\hline\n",
       "\t 132 & 0.1972090 & NA &          NA &       NA &         NA\\\\\n",
       "\t 133 & 0.2016192 & -1 & -0.00441024 & 2.951953 & 0.08811857\\\\\n",
       "\\end{tabular}\n"
      ],
      "text/markdown": [
       "\n",
       "A anova: 2 × 6\n",
       "\n",
       "| Res.Df &lt;dbl&gt; | RSS &lt;dbl&gt; | Df &lt;dbl&gt; | Sum of Sq &lt;dbl&gt; | F &lt;dbl&gt; | Pr(&gt;F) &lt;dbl&gt; |\n",
       "|---|---|---|---|---|---|\n",
       "| 132 | 0.1972090 | NA |          NA |       NA |         NA |\n",
       "| 133 | 0.2016192 | -1 | -0.00441024 | 2.951953 | 0.08811857 |\n",
       "\n"
      ],
      "text/plain": [
       "  Res.Df RSS       Df Sum of Sq   F        Pr(>F)    \n",
       "1 132    0.1972090 NA          NA       NA         NA\n",
       "2 133    0.2016192 -1 -0.00441024 2.951953 0.08811857"
      ]
     },
     "metadata": {},
     "output_type": "display_data"
    }
   ],
   "source": [
    "anova(fit_4, base)"
   ]
  },
  {
   "cell_type": "markdown",
   "metadata": {},
   "source": [
    "> The model with `gov_resp_sqrt_trans` is not significantly (p-value < 0.05) different from the base model. I would not add `gov_resp_sqrt_trans` in my final model."
   ]
  },
  {
   "cell_type": "code",
   "execution_count": 74,
   "metadata": {},
   "outputs": [
    {
     "data": {
      "text/html": [
       "<table>\n",
       "<caption>A tibble: 3 × 7</caption>\n",
       "<thead>\n",
       "\t<tr><th scope=col>term</th><th scope=col>estimate</th><th scope=col>std.error</th><th scope=col>statistic</th><th scope=col>p.value</th><th scope=col>p.value.adjust</th><th scope=col>significant</th></tr>\n",
       "\t<tr><th scope=col>&lt;chr&gt;</th><th scope=col>&lt;dbl&gt;</th><th scope=col>&lt;dbl&gt;</th><th scope=col>&lt;dbl&gt;</th><th scope=col>&lt;dbl&gt;</th><th scope=col>&lt;dbl&gt;</th><th scope=col>&lt;lgl&gt;</th></tr>\n",
       "</thead>\n",
       "<tbody>\n",
       "\t<tr><td>(Intercept)        </td><td> 0.13009127</td><td>0.023347479</td><td> 5.571962</td><td>1.531524e-07</td><td>4.594573e-07</td><td>TRUE</td></tr>\n",
       "\t<tr><td>age_65up_sqrt      </td><td> 0.03298721</td><td>0.009326207</td><td> 3.537044</td><td>5.730204e-04</td><td>8.595306e-04</td><td>TRUE</td></tr>\n",
       "\t<tr><td>nurses_midwives_log</td><td>-0.02841025</td><td>0.009005991</td><td>-3.154594</td><td>2.024121e-03</td><td>2.024121e-03</td><td>TRUE</td></tr>\n",
       "</tbody>\n",
       "</table>\n"
      ],
      "text/latex": [
       "A tibble: 3 × 7\n",
       "\\begin{tabular}{r|lllllll}\n",
       " term & estimate & std.error & statistic & p.value & p.value.adjust & significant\\\\\n",
       " <chr> & <dbl> & <dbl> & <dbl> & <dbl> & <dbl> & <lgl>\\\\\n",
       "\\hline\n",
       "\t (Intercept)         &  0.13009127 & 0.023347479 &  5.571962 & 1.531524e-07 & 4.594573e-07 & TRUE\\\\\n",
       "\t age\\_65up\\_sqrt       &  0.03298721 & 0.009326207 &  3.537044 & 5.730204e-04 & 8.595306e-04 & TRUE\\\\\n",
       "\t nurses\\_midwives\\_log & -0.02841025 & 0.009005991 & -3.154594 & 2.024121e-03 & 2.024121e-03 & TRUE\\\\\n",
       "\\end{tabular}\n"
      ],
      "text/markdown": [
       "\n",
       "A tibble: 3 × 7\n",
       "\n",
       "| term &lt;chr&gt; | estimate &lt;dbl&gt; | std.error &lt;dbl&gt; | statistic &lt;dbl&gt; | p.value &lt;dbl&gt; | p.value.adjust &lt;dbl&gt; | significant &lt;lgl&gt; |\n",
       "|---|---|---|---|---|---|---|\n",
       "| (Intercept)         |  0.13009127 | 0.023347479 |  5.571962 | 1.531524e-07 | 4.594573e-07 | TRUE |\n",
       "| age_65up_sqrt       |  0.03298721 | 0.009326207 |  3.537044 | 5.730204e-04 | 8.595306e-04 | TRUE |\n",
       "| nurses_midwives_log | -0.02841025 | 0.009005991 | -3.154594 | 2.024121e-03 | 2.024121e-03 | TRUE |\n",
       "\n"
      ],
      "text/plain": [
       "  term                estimate    std.error   statistic p.value     \n",
       "1 (Intercept)          0.13009127 0.023347479  5.571962 1.531524e-07\n",
       "2 age_65up_sqrt        0.03298721 0.009326207  3.537044 5.730204e-04\n",
       "3 nurses_midwives_log -0.02841025 0.009005991 -3.154594 2.024121e-03\n",
       "  p.value.adjust significant\n",
       "1 4.594573e-07   TRUE       \n",
       "2 8.595306e-04   TRUE       \n",
       "3 2.024121e-03   TRUE       "
      ]
     },
     "metadata": {},
     "output_type": "display_data"
    }
   ],
   "source": [
    "# add nurses_midwives_log to the base model\n",
    "fit_5 <- lm(rate_sqrt ~ age_65up_sqrt + nurses_midwives_log, df_trans)\n",
    "\n",
    "analyze_lm(fit_5)"
   ]
  },
  {
   "cell_type": "code",
   "execution_count": 75,
   "metadata": {},
   "outputs": [
    {
     "data": {
      "text/html": [
       "<table>\n",
       "<caption>A anova: 2 × 6</caption>\n",
       "<thead>\n",
       "\t<tr><th scope=col>Res.Df</th><th scope=col>RSS</th><th scope=col>Df</th><th scope=col>Sum of Sq</th><th scope=col>F</th><th scope=col>Pr(&gt;F)</th></tr>\n",
       "\t<tr><th scope=col>&lt;dbl&gt;</th><th scope=col>&lt;dbl&gt;</th><th scope=col>&lt;dbl&gt;</th><th scope=col>&lt;dbl&gt;</th><th scope=col>&lt;dbl&gt;</th><th scope=col>&lt;dbl&gt;</th></tr>\n",
       "</thead>\n",
       "<tbody>\n",
       "\t<tr><td>122</td><td>0.8133979</td><td>NA</td><td>         NA</td><td>      NA</td><td>         NA</td></tr>\n",
       "\t<tr><td>123</td><td>0.8797463</td><td>-1</td><td>-0.06634837</td><td>9.951466</td><td>0.002024121</td></tr>\n",
       "</tbody>\n",
       "</table>\n"
      ],
      "text/latex": [
       "A anova: 2 × 6\n",
       "\\begin{tabular}{r|llllll}\n",
       " Res.Df & RSS & Df & Sum of Sq & F & Pr(>F)\\\\\n",
       " <dbl> & <dbl> & <dbl> & <dbl> & <dbl> & <dbl>\\\\\n",
       "\\hline\n",
       "\t 122 & 0.8133979 & NA &          NA &       NA &          NA\\\\\n",
       "\t 123 & 0.8797463 & -1 & -0.06634837 & 9.951466 & 0.002024121\\\\\n",
       "\\end{tabular}\n"
      ],
      "text/markdown": [
       "\n",
       "A anova: 2 × 6\n",
       "\n",
       "| Res.Df &lt;dbl&gt; | RSS &lt;dbl&gt; | Df &lt;dbl&gt; | Sum of Sq &lt;dbl&gt; | F &lt;dbl&gt; | Pr(&gt;F) &lt;dbl&gt; |\n",
       "|---|---|---|---|---|---|\n",
       "| 122 | 0.8133979 | NA |          NA |       NA |          NA |\n",
       "| 123 | 0.8797463 | -1 | -0.06634837 | 9.951466 | 0.002024121 |\n",
       "\n"
      ],
      "text/plain": [
       "  Res.Df RSS       Df Sum of Sq   F        Pr(>F)     \n",
       "1 122    0.8133979 NA          NA       NA          NA\n",
       "2 123    0.8797463 -1 -0.06634837 9.951466 0.002024121"
      ]
     },
     "metadata": {},
     "output_type": "display_data"
    }
   ],
   "source": [
    "anova(fit_5, base)"
   ]
  },
  {
   "cell_type": "markdown",
   "metadata": {},
   "source": [
    "> The model with `nurses_midwives_log` is significantly (p-value < 0.05) different from the base model. I would not add `nurses_midwives_log` in my final model."
   ]
  },
  {
   "cell_type": "code",
   "execution_count": 78,
   "metadata": {},
   "outputs": [
    {
     "data": {
      "text/html": [
       "<table>\n",
       "<caption>A tibble: 4 × 7</caption>\n",
       "<thead>\n",
       "\t<tr><th scope=col>term</th><th scope=col>estimate</th><th scope=col>std.error</th><th scope=col>statistic</th><th scope=col>p.value</th><th scope=col>p.value.adjust</th><th scope=col>significant</th></tr>\n",
       "\t<tr><th scope=col>&lt;chr&gt;</th><th scope=col>&lt;dbl&gt;</th><th scope=col>&lt;dbl&gt;</th><th scope=col>&lt;dbl&gt;</th><th scope=col>&lt;dbl&gt;</th><th scope=col>&lt;dbl&gt;</th><th scope=col>&lt;lgl&gt;</th></tr>\n",
       "</thead>\n",
       "<tbody>\n",
       "\t<tr><td>(Intercept)        </td><td> 0.11027878</td><td>0.02431901</td><td> 4.534674</td><td>1.367161e-05</td><td>5.468645e-05</td><td> TRUE</td></tr>\n",
       "\t<tr><td>age_65up_sqrt      </td><td> 0.04377936</td><td>0.01017720</td><td> 4.301709</td><td>3.455772e-05</td><td>6.911545e-05</td><td> TRUE</td></tr>\n",
       "\t<tr><td>med_bed_log        </td><td>-0.03490020</td><td>0.01443350</td><td>-2.418000</td><td>1.709684e-02</td><td>2.279579e-02</td><td> TRUE</td></tr>\n",
       "\t<tr><td>nurses_midwives_log</td><td>-0.01415277</td><td>0.01061962</td><td>-1.332701</td><td>1.851341e-01</td><td>1.851341e-01</td><td>FALSE</td></tr>\n",
       "</tbody>\n",
       "</table>\n"
      ],
      "text/latex": [
       "A tibble: 4 × 7\n",
       "\\begin{tabular}{r|lllllll}\n",
       " term & estimate & std.error & statistic & p.value & p.value.adjust & significant\\\\\n",
       " <chr> & <dbl> & <dbl> & <dbl> & <dbl> & <dbl> & <lgl>\\\\\n",
       "\\hline\n",
       "\t (Intercept)         &  0.11027878 & 0.02431901 &  4.534674 & 1.367161e-05 & 5.468645e-05 &  TRUE\\\\\n",
       "\t age\\_65up\\_sqrt       &  0.04377936 & 0.01017720 &  4.301709 & 3.455772e-05 & 6.911545e-05 &  TRUE\\\\\n",
       "\t med\\_bed\\_log         & -0.03490020 & 0.01443350 & -2.418000 & 1.709684e-02 & 2.279579e-02 &  TRUE\\\\\n",
       "\t nurses\\_midwives\\_log & -0.01415277 & 0.01061962 & -1.332701 & 1.851341e-01 & 1.851341e-01 & FALSE\\\\\n",
       "\\end{tabular}\n"
      ],
      "text/markdown": [
       "\n",
       "A tibble: 4 × 7\n",
       "\n",
       "| term &lt;chr&gt; | estimate &lt;dbl&gt; | std.error &lt;dbl&gt; | statistic &lt;dbl&gt; | p.value &lt;dbl&gt; | p.value.adjust &lt;dbl&gt; | significant &lt;lgl&gt; |\n",
       "|---|---|---|---|---|---|---|\n",
       "| (Intercept)         |  0.11027878 | 0.02431901 |  4.534674 | 1.367161e-05 | 5.468645e-05 |  TRUE |\n",
       "| age_65up_sqrt       |  0.04377936 | 0.01017720 |  4.301709 | 3.455772e-05 | 6.911545e-05 |  TRUE |\n",
       "| med_bed_log         | -0.03490020 | 0.01443350 | -2.418000 | 1.709684e-02 | 2.279579e-02 |  TRUE |\n",
       "| nurses_midwives_log | -0.01415277 | 0.01061962 | -1.332701 | 1.851341e-01 | 1.851341e-01 | FALSE |\n",
       "\n"
      ],
      "text/plain": [
       "  term                estimate    std.error  statistic p.value     \n",
       "1 (Intercept)          0.11027878 0.02431901  4.534674 1.367161e-05\n",
       "2 age_65up_sqrt        0.04377936 0.01017720  4.301709 3.455772e-05\n",
       "3 med_bed_log         -0.03490020 0.01443350 -2.418000 1.709684e-02\n",
       "4 nurses_midwives_log -0.01415277 0.01061962 -1.332701 1.851341e-01\n",
       "  p.value.adjust significant\n",
       "1 5.468645e-05    TRUE      \n",
       "2 6.911545e-05    TRUE      \n",
       "3 2.279579e-02    TRUE      \n",
       "4 1.851341e-01   FALSE      "
      ]
     },
     "metadata": {},
     "output_type": "display_data"
    }
   ],
   "source": [
    "# add med_bed_log and nurses_midwives_log to the base model\n",
    "fit_6 <- lm(rate_sqrt ~ age_65up_sqrt + med_bed_log + nurses_midwives_log, df_trans)\n",
    "\n",
    "analyze_lm(fit_6)"
   ]
  },
  {
   "cell_type": "code",
   "execution_count": 80,
   "metadata": {},
   "outputs": [
    {
     "data": {
      "text/html": [
       "<table>\n",
       "<caption>A anova: 2 × 6</caption>\n",
       "<thead>\n",
       "\t<tr><th scope=col>Res.Df</th><th scope=col>RSS</th><th scope=col>Df</th><th scope=col>Sum of Sq</th><th scope=col>F</th><th scope=col>Pr(&gt;F)</th></tr>\n",
       "\t<tr><th scope=col>&lt;dbl&gt;</th><th scope=col>&lt;dbl&gt;</th><th scope=col>&lt;dbl&gt;</th><th scope=col>&lt;dbl&gt;</th><th scope=col>&lt;dbl&gt;</th><th scope=col>&lt;dbl&gt;</th></tr>\n",
       "</thead>\n",
       "<tbody>\n",
       "\t<tr><td>121</td><td>0.7759061</td><td>NA</td><td>         NA</td><td>      NA</td><td>       NA</td></tr>\n",
       "\t<tr><td>122</td><td>0.7872952</td><td>-1</td><td>-0.01138909</td><td>1.776092</td><td>0.1851341</td></tr>\n",
       "</tbody>\n",
       "</table>\n"
      ],
      "text/latex": [
       "A anova: 2 × 6\n",
       "\\begin{tabular}{r|llllll}\n",
       " Res.Df & RSS & Df & Sum of Sq & F & Pr(>F)\\\\\n",
       " <dbl> & <dbl> & <dbl> & <dbl> & <dbl> & <dbl>\\\\\n",
       "\\hline\n",
       "\t 121 & 0.7759061 & NA &          NA &       NA &        NA\\\\\n",
       "\t 122 & 0.7872952 & -1 & -0.01138909 & 1.776092 & 0.1851341\\\\\n",
       "\\end{tabular}\n"
      ],
      "text/markdown": [
       "\n",
       "A anova: 2 × 6\n",
       "\n",
       "| Res.Df &lt;dbl&gt; | RSS &lt;dbl&gt; | Df &lt;dbl&gt; | Sum of Sq &lt;dbl&gt; | F &lt;dbl&gt; | Pr(&gt;F) &lt;dbl&gt; |\n",
       "|---|---|---|---|---|---|\n",
       "| 121 | 0.7759061 | NA |          NA |       NA |        NA |\n",
       "| 122 | 0.7872952 | -1 | -0.01138909 | 1.776092 | 0.1851341 |\n",
       "\n"
      ],
      "text/plain": [
       "  Res.Df RSS       Df Sum of Sq   F        Pr(>F)   \n",
       "1 121    0.7759061 NA          NA       NA        NA\n",
       "2 122    0.7872952 -1 -0.01138909 1.776092 0.1851341"
      ]
     },
     "metadata": {},
     "output_type": "display_data"
    }
   ],
   "source": [
    "anova(fit_6, fit_1)"
   ]
  },
  {
   "cell_type": "code",
   "execution_count": 81,
   "metadata": {},
   "outputs": [
    {
     "data": {
      "text/html": [
       "<table>\n",
       "<caption>A tibble: 4 × 7</caption>\n",
       "<thead>\n",
       "\t<tr><th scope=col>term</th><th scope=col>estimate</th><th scope=col>std.error</th><th scope=col>statistic</th><th scope=col>p.value</th><th scope=col>p.value.adjust</th><th scope=col>significant</th></tr>\n",
       "\t<tr><th scope=col>&lt;chr&gt;</th><th scope=col>&lt;dbl&gt;</th><th scope=col>&lt;dbl&gt;</th><th scope=col>&lt;dbl&gt;</th><th scope=col>&lt;dbl&gt;</th><th scope=col>&lt;dbl&gt;</th><th scope=col>&lt;lgl&gt;</th></tr>\n",
       "</thead>\n",
       "<tbody>\n",
       "\t<tr><td>(Intercept)       </td><td>-0.07937245</td><td>0.054303867</td><td>-1.461635</td><td>1.464334e-01</td><td>1.464334e-01</td><td>FALSE</td></tr>\n",
       "\t<tr><td>age_65up_sqrt     </td><td> 0.05474364</td><td>0.010020816</td><td> 5.462992</td><td>2.545043e-07</td><td>1.018017e-06</td><td> TRUE</td></tr>\n",
       "\t<tr><td>med_bed_log       </td><td>-0.03475098</td><td>0.011714801</td><td>-2.966416</td><td>3.631331e-03</td><td>4.841775e-03</td><td> TRUE</td></tr>\n",
       "\t<tr><td>confirmed_rate_log</td><td>-0.01625724</td><td>0.004134599</td><td>-3.931999</td><td>1.408823e-04</td><td>2.817647e-04</td><td> TRUE</td></tr>\n",
       "</tbody>\n",
       "</table>\n"
      ],
      "text/latex": [
       "A tibble: 4 × 7\n",
       "\\begin{tabular}{r|lllllll}\n",
       " term & estimate & std.error & statistic & p.value & p.value.adjust & significant\\\\\n",
       " <chr> & <dbl> & <dbl> & <dbl> & <dbl> & <dbl> & <lgl>\\\\\n",
       "\\hline\n",
       "\t (Intercept)        & -0.07937245 & 0.054303867 & -1.461635 & 1.464334e-01 & 1.464334e-01 & FALSE\\\\\n",
       "\t age\\_65up\\_sqrt      &  0.05474364 & 0.010020816 &  5.462992 & 2.545043e-07 & 1.018017e-06 &  TRUE\\\\\n",
       "\t med\\_bed\\_log        & -0.03475098 & 0.011714801 & -2.966416 & 3.631331e-03 & 4.841775e-03 &  TRUE\\\\\n",
       "\t confirmed\\_rate\\_log & -0.01625724 & 0.004134599 & -3.931999 & 1.408823e-04 & 2.817647e-04 &  TRUE\\\\\n",
       "\\end{tabular}\n"
      ],
      "text/markdown": [
       "\n",
       "A tibble: 4 × 7\n",
       "\n",
       "| term &lt;chr&gt; | estimate &lt;dbl&gt; | std.error &lt;dbl&gt; | statistic &lt;dbl&gt; | p.value &lt;dbl&gt; | p.value.adjust &lt;dbl&gt; | significant &lt;lgl&gt; |\n",
       "|---|---|---|---|---|---|---|\n",
       "| (Intercept)        | -0.07937245 | 0.054303867 | -1.461635 | 1.464334e-01 | 1.464334e-01 | FALSE |\n",
       "| age_65up_sqrt      |  0.05474364 | 0.010020816 |  5.462992 | 2.545043e-07 | 1.018017e-06 |  TRUE |\n",
       "| med_bed_log        | -0.03475098 | 0.011714801 | -2.966416 | 3.631331e-03 | 4.841775e-03 |  TRUE |\n",
       "| confirmed_rate_log | -0.01625724 | 0.004134599 | -3.931999 | 1.408823e-04 | 2.817647e-04 |  TRUE |\n",
       "\n"
      ],
      "text/plain": [
       "  term               estimate    std.error   statistic p.value     \n",
       "1 (Intercept)        -0.07937245 0.054303867 -1.461635 1.464334e-01\n",
       "2 age_65up_sqrt       0.05474364 0.010020816  5.462992 2.545043e-07\n",
       "3 med_bed_log        -0.03475098 0.011714801 -2.966416 3.631331e-03\n",
       "4 confirmed_rate_log -0.01625724 0.004134599 -3.931999 1.408823e-04\n",
       "  p.value.adjust significant\n",
       "1 1.464334e-01   FALSE      \n",
       "2 1.018017e-06    TRUE      \n",
       "3 4.841775e-03    TRUE      \n",
       "4 2.817647e-04    TRUE      "
      ]
     },
     "metadata": {},
     "output_type": "display_data"
    }
   ],
   "source": [
    "# add med_bed_log and confirmed_rate_log to the base model\n",
    "fit_7 <- lm(rate_sqrt ~ age_65up_sqrt + med_bed_log + confirmed_rate_log, df_trans)\n",
    "\n",
    "analyze_lm(fit_7)"
   ]
  },
  {
   "cell_type": "code",
   "execution_count": 83,
   "metadata": {},
   "outputs": [
    {
     "data": {
      "text/html": [
       "<table>\n",
       "<caption>A anova: 2 × 6</caption>\n",
       "<thead>\n",
       "\t<tr><th scope=col>Res.Df</th><th scope=col>RSS</th><th scope=col>Df</th><th scope=col>Sum of Sq</th><th scope=col>F</th><th scope=col>Pr(&gt;F)</th></tr>\n",
       "\t<tr><th scope=col>&lt;dbl&gt;</th><th scope=col>&lt;dbl&gt;</th><th scope=col>&lt;dbl&gt;</th><th scope=col>&lt;dbl&gt;</th><th scope=col>&lt;dbl&gt;</th><th scope=col>&lt;dbl&gt;</th></tr>\n",
       "</thead>\n",
       "<tbody>\n",
       "\t<tr><td>121</td><td>0.6980968</td><td>NA</td><td>        NA</td><td>      NA</td><td>          NA</td></tr>\n",
       "\t<tr><td>122</td><td>0.7872952</td><td>-1</td><td>-0.0891984</td><td>15.46062</td><td>0.0001408823</td></tr>\n",
       "</tbody>\n",
       "</table>\n"
      ],
      "text/latex": [
       "A anova: 2 × 6\n",
       "\\begin{tabular}{r|llllll}\n",
       " Res.Df & RSS & Df & Sum of Sq & F & Pr(>F)\\\\\n",
       " <dbl> & <dbl> & <dbl> & <dbl> & <dbl> & <dbl>\\\\\n",
       "\\hline\n",
       "\t 121 & 0.6980968 & NA &         NA &       NA &           NA\\\\\n",
       "\t 122 & 0.7872952 & -1 & -0.0891984 & 15.46062 & 0.0001408823\\\\\n",
       "\\end{tabular}\n"
      ],
      "text/markdown": [
       "\n",
       "A anova: 2 × 6\n",
       "\n",
       "| Res.Df &lt;dbl&gt; | RSS &lt;dbl&gt; | Df &lt;dbl&gt; | Sum of Sq &lt;dbl&gt; | F &lt;dbl&gt; | Pr(&gt;F) &lt;dbl&gt; |\n",
       "|---|---|---|---|---|---|\n",
       "| 121 | 0.6980968 | NA |         NA |       NA |           NA |\n",
       "| 122 | 0.7872952 | -1 | -0.0891984 | 15.46062 | 0.0001408823 |\n",
       "\n"
      ],
      "text/plain": [
       "  Res.Df RSS       Df Sum of Sq  F        Pr(>F)      \n",
       "1 121    0.6980968 NA         NA       NA           NA\n",
       "2 122    0.7872952 -1 -0.0891984 15.46062 0.0001408823"
      ]
     },
     "metadata": {},
     "output_type": "display_data"
    }
   ],
   "source": [
    "anova(fit_7, fit_1)"
   ]
  },
  {
   "cell_type": "code",
   "execution_count": 84,
   "metadata": {},
   "outputs": [
    {
     "data": {
      "text/html": [
       "<table>\n",
       "<caption>A anova: 2 × 6</caption>\n",
       "<thead>\n",
       "\t<tr><th scope=col>Res.Df</th><th scope=col>RSS</th><th scope=col>Df</th><th scope=col>Sum of Sq</th><th scope=col>F</th><th scope=col>Pr(&gt;F)</th></tr>\n",
       "\t<tr><th scope=col>&lt;dbl&gt;</th><th scope=col>&lt;dbl&gt;</th><th scope=col>&lt;dbl&gt;</th><th scope=col>&lt;dbl&gt;</th><th scope=col>&lt;dbl&gt;</th><th scope=col>&lt;dbl&gt;</th></tr>\n",
       "</thead>\n",
       "<tbody>\n",
       "\t<tr><td>121</td><td>0.6980968</td><td>NA</td><td>         NA</td><td>      NA</td><td>         NA</td></tr>\n",
       "\t<tr><td>122</td><td>0.7488653</td><td>-1</td><td>-0.05076851</td><td>8.799625</td><td>0.003631331</td></tr>\n",
       "</tbody>\n",
       "</table>\n"
      ],
      "text/latex": [
       "A anova: 2 × 6\n",
       "\\begin{tabular}{r|llllll}\n",
       " Res.Df & RSS & Df & Sum of Sq & F & Pr(>F)\\\\\n",
       " <dbl> & <dbl> & <dbl> & <dbl> & <dbl> & <dbl>\\\\\n",
       "\\hline\n",
       "\t 121 & 0.6980968 & NA &          NA &       NA &          NA\\\\\n",
       "\t 122 & 0.7488653 & -1 & -0.05076851 & 8.799625 & 0.003631331\\\\\n",
       "\\end{tabular}\n"
      ],
      "text/markdown": [
       "\n",
       "A anova: 2 × 6\n",
       "\n",
       "| Res.Df &lt;dbl&gt; | RSS &lt;dbl&gt; | Df &lt;dbl&gt; | Sum of Sq &lt;dbl&gt; | F &lt;dbl&gt; | Pr(&gt;F) &lt;dbl&gt; |\n",
       "|---|---|---|---|---|---|\n",
       "| 121 | 0.6980968 | NA |          NA |       NA |          NA |\n",
       "| 122 | 0.7488653 | -1 | -0.05076851 | 8.799625 | 0.003631331 |\n",
       "\n"
      ],
      "text/plain": [
       "  Res.Df RSS       Df Sum of Sq   F        Pr(>F)     \n",
       "1 121    0.6980968 NA          NA       NA          NA\n",
       "2 122    0.7488653 -1 -0.05076851 8.799625 0.003631331"
      ]
     },
     "metadata": {},
     "output_type": "display_data"
    }
   ],
   "source": [
    "anova(fit_7, fit_3)"
   ]
  },
  {
   "cell_type": "code",
   "execution_count": 85,
   "metadata": {},
   "outputs": [
    {
     "data": {
      "image/png": "[encoded data removed]",
      "text/plain": [
       "Plot with title \"\""
      ]
     },
     "metadata": {
      "image/png": {
       "height": 420,
       "width": 420
      },
      "text/plain": {
       "height": 420,
       "width": 420
      }
     },
     "output_type": "display_data"
    },
    {
     "data": {
      "image/png": "[encoded data removed]",
      "text/plain": [
       "Plot with title \"\""
      ]
     },
     "metadata": {
      "image/png": {
       "height": 420,
       "width": 420
      },
      "text/plain": {
       "height": 420,
       "width": 420
      }
     },
     "output_type": "display_data"
    },
    {
     "data": {
      "image/png": "[encoded data removed]",
      "text/plain": [
       "Plot with title \"\""
      ]
     },
     "metadata": {
      "image/png": {
       "height": 420,
       "width": 420
      },
      "text/plain": {
       "height": 420,
       "width": 420
      }
     },
     "output_type": "display_data"
    },
    {
     "data": {
      "image/png": "[encoded data removed]",
      "text/plain": [
       "Plot with title \"\""
      ]
     },
     "metadata": {
      "image/png": {
       "height": 420,
       "width": 420
      },
      "text/plain": {
       "height": 420,
       "width": 420
      }
     },
     "output_type": "display_data"
    }
   ],
   "source": [
    "plot(fit_7)"
   ]
  },
  {
   "cell_type": "code",
   "execution_count": 86,
   "metadata": {},
   "outputs": [
    {
     "data": {
      "text/html": [
       "0.383838383838384"
      ],
      "text/latex": [
       "0.383838383838384"
      ],
      "text/markdown": [
       "0.383838383838384"
      ],
      "text/plain": [
       "[1] 0.3838384"
      ]
     },
     "metadata": {},
     "output_type": "display_data"
    },
    {
     "data": {
      "image/png": "[encoded data removed]",
      "text/plain": [
       "plot without title"
      ]
     },
     "metadata": {
      "image/png": {
       "height": 420,
       "width": 420
      },
      "text/plain": {
       "height": 420,
       "width": 420
      }
     },
     "output_type": "display_data"
    }
   ],
   "source": [
    "bc = MASS::boxcox(fit_7)\n",
    "best_lam = bc$x[which(bc$y == max(bc$y))]\n",
    "best_lam"
   ]
  },
  {
   "cell_type": "code",
   "execution_count": 93,
   "metadata": {},
   "outputs": [
    {
     "data": {
      "text/html": [
       "<table>\n",
       "<caption>A tibble: 4 × 7</caption>\n",
       "<thead>\n",
       "\t<tr><th scope=col>term</th><th scope=col>estimate</th><th scope=col>std.error</th><th scope=col>statistic</th><th scope=col>p.value</th><th scope=col>p.value.adjust</th><th scope=col>significant</th></tr>\n",
       "\t<tr><th scope=col>&lt;chr&gt;</th><th scope=col>&lt;dbl&gt;</th><th scope=col>&lt;dbl&gt;</th><th scope=col>&lt;dbl&gt;</th><th scope=col>&lt;dbl&gt;</th><th scope=col>&lt;dbl&gt;</th><th scope=col>&lt;lgl&gt;</th></tr>\n",
       "</thead>\n",
       "<tbody>\n",
       "\t<tr><td>(Intercept)       </td><td> 0.07162423</td><td>0.060590968</td><td> 1.182094</td><td>2.394862e-01</td><td>2.394862e-01</td><td>FALSE</td></tr>\n",
       "\t<tr><td>age_65up_sqrt     </td><td> 0.06945491</td><td>0.011180989</td><td> 6.211876</td><td>7.666104e-09</td><td>3.066442e-08</td><td> TRUE</td></tr>\n",
       "\t<tr><td>med_bed_log       </td><td>-0.04123936</td><td>0.013071098</td><td>-3.155004</td><td>2.025168e-03</td><td>2.700224e-03</td><td> TRUE</td></tr>\n",
       "\t<tr><td>confirmed_rate_log</td><td>-0.02157625</td><td>0.004613288</td><td>-4.676980</td><td>7.642687e-06</td><td>1.528537e-05</td><td> TRUE</td></tr>\n",
       "</tbody>\n",
       "</table>\n"
      ],
      "text/latex": [
       "A tibble: 4 × 7\n",
       "\\begin{tabular}{r|lllllll}\n",
       " term & estimate & std.error & statistic & p.value & p.value.adjust & significant\\\\\n",
       " <chr> & <dbl> & <dbl> & <dbl> & <dbl> & <dbl> & <lgl>\\\\\n",
       "\\hline\n",
       "\t (Intercept)        &  0.07162423 & 0.060590968 &  1.182094 & 2.394862e-01 & 2.394862e-01 & FALSE\\\\\n",
       "\t age\\_65up\\_sqrt      &  0.06945491 & 0.011180989 &  6.211876 & 7.666104e-09 & 3.066442e-08 &  TRUE\\\\\n",
       "\t med\\_bed\\_log        & -0.04123936 & 0.013071098 & -3.155004 & 2.025168e-03 & 2.700224e-03 &  TRUE\\\\\n",
       "\t confirmed\\_rate\\_log & -0.02157625 & 0.004613288 & -4.676980 & 7.642687e-06 & 1.528537e-05 &  TRUE\\\\\n",
       "\\end{tabular}\n"
      ],
      "text/markdown": [
       "\n",
       "A tibble: 4 × 7\n",
       "\n",
       "| term &lt;chr&gt; | estimate &lt;dbl&gt; | std.error &lt;dbl&gt; | statistic &lt;dbl&gt; | p.value &lt;dbl&gt; | p.value.adjust &lt;dbl&gt; | significant &lt;lgl&gt; |\n",
       "|---|---|---|---|---|---|---|\n",
       "| (Intercept)        |  0.07162423 | 0.060590968 |  1.182094 | 2.394862e-01 | 2.394862e-01 | FALSE |\n",
       "| age_65up_sqrt      |  0.06945491 | 0.011180989 |  6.211876 | 7.666104e-09 | 3.066442e-08 |  TRUE |\n",
       "| med_bed_log        | -0.04123936 | 0.013071098 | -3.155004 | 2.025168e-03 | 2.700224e-03 |  TRUE |\n",
       "| confirmed_rate_log | -0.02157625 | 0.004613288 | -4.676980 | 7.642687e-06 | 1.528537e-05 |  TRUE |\n",
       "\n"
      ],
      "text/plain": [
       "  term               estimate    std.error   statistic p.value     \n",
       "1 (Intercept)         0.07162423 0.060590968  1.182094 2.394862e-01\n",
       "2 age_65up_sqrt       0.06945491 0.011180989  6.211876 7.666104e-09\n",
       "3 med_bed_log        -0.04123936 0.013071098 -3.155004 2.025168e-03\n",
       "4 confirmed_rate_log -0.02157625 0.004613288 -4.676980 7.642687e-06\n",
       "  p.value.adjust significant\n",
       "1 2.394862e-01   FALSE      \n",
       "2 3.066442e-08    TRUE      \n",
       "3 2.700224e-03    TRUE      \n",
       "4 1.528537e-05    TRUE      "
      ]
     },
     "metadata": {},
     "output_type": "display_data"
    },
    {
     "data": {
      "image/png": "[encoded data removed]",
      "text/plain": [
       "Plot with title \"\""
      ]
     },
     "metadata": {
      "image/png": {
       "height": 420,
       "width": 420
      },
      "text/plain": {
       "height": 420,
       "width": 420
      }
     },
     "output_type": "display_data"
    },
    {
     "data": {
      "image/png": "[encoded data removed]",
      "text/plain": [
       "Plot with title \"\""
      ]
     },
     "metadata": {
      "image/png": {
       "height": 420,
       "width": 420
      },
      "text/plain": {
       "height": 420,
       "width": 420
      }
     },
     "output_type": "display_data"
    },
    {
     "data": {
      "image/png": "[encoded data removed]",
      "text/plain": [
       "Plot with title \"\""
      ]
     },
     "metadata": {
      "image/png": {
       "height": 420,
       "width": 420
      },
      "text/plain": {
       "height": 420,
       "width": 420
      }
     },
     "output_type": "display_data"
    },
    {
     "data": {
      "image/png": "[encoded data removed]",
      "text/plain": [
       "Plot with title \"\""
      ]
     },
     "metadata": {
      "image/png": {
       "height": 420,
       "width": 420
      },
      "text/plain": {
       "height": 420,
       "width": 420
      }
     },
     "output_type": "display_data"
    }
   ],
   "source": [
    "fit_8 <- lm(sqrt(rate_sqrt) ~ age_65up_sqrt + med_bed_log + confirmed_rate_log, df_trans)\n",
    "\n",
    "analyze_lm(fit_8)\n",
    "\n",
    "plot(fit_8)"
   ]
  },
  {
   "cell_type": "code",
   "execution_count": 94,
   "metadata": {},
   "outputs": [
    {
     "data": {
      "text/html": [
       "<table>\n",
       "<caption>A tibble: 5 × 7</caption>\n",
       "<thead>\n",
       "\t<tr><th scope=col>term</th><th scope=col>estimate</th><th scope=col>std.error</th><th scope=col>statistic</th><th scope=col>p.value</th><th scope=col>p.value.adjust</th><th scope=col>significant</th></tr>\n",
       "\t<tr><th scope=col>&lt;chr&gt;</th><th scope=col>&lt;dbl&gt;</th><th scope=col>&lt;dbl&gt;</th><th scope=col>&lt;dbl&gt;</th><th scope=col>&lt;dbl&gt;</th><th scope=col>&lt;dbl&gt;</th><th scope=col>&lt;lgl&gt;</th></tr>\n",
       "</thead>\n",
       "<tbody>\n",
       "\t<tr><td>(Intercept)                     </td><td>-0.24868439</td><td>0.092672220</td><td>-2.683484</td><td>8.314934e-03</td><td>1.039367e-02</td><td>TRUE</td></tr>\n",
       "\t<tr><td>age_65up_sqrt                   </td><td> 0.19386064</td><td>0.030369649</td><td> 6.383368</td><td>3.402373e-09</td><td>1.701187e-08</td><td>TRUE</td></tr>\n",
       "\t<tr><td>confirmed_rate_log              </td><td>-0.06219908</td><td>0.010259808</td><td>-6.062402</td><td>1.597477e-08</td><td>3.993691e-08</td><td>TRUE</td></tr>\n",
       "\t<tr><td>med_bed_log                     </td><td>-0.02754460</td><td>0.012592072</td><td>-2.187456</td><td>3.064785e-02</td><td>3.064785e-02</td><td>TRUE</td></tr>\n",
       "\t<tr><td>age_65up_sqrt:confirmed_rate_log</td><td> 0.01694398</td><td>0.003884689</td><td> 4.361733</td><td>2.745050e-05</td><td>4.575083e-05</td><td>TRUE</td></tr>\n",
       "</tbody>\n",
       "</table>\n"
      ],
      "text/latex": [
       "A tibble: 5 × 7\n",
       "\\begin{tabular}{r|lllllll}\n",
       " term & estimate & std.error & statistic & p.value & p.value.adjust & significant\\\\\n",
       " <chr> & <dbl> & <dbl> & <dbl> & <dbl> & <dbl> & <lgl>\\\\\n",
       "\\hline\n",
       "\t (Intercept)                      & -0.24868439 & 0.092672220 & -2.683484 & 8.314934e-03 & 1.039367e-02 & TRUE\\\\\n",
       "\t age\\_65up\\_sqrt                    &  0.19386064 & 0.030369649 &  6.383368 & 3.402373e-09 & 1.701187e-08 & TRUE\\\\\n",
       "\t confirmed\\_rate\\_log               & -0.06219908 & 0.010259808 & -6.062402 & 1.597477e-08 & 3.993691e-08 & TRUE\\\\\n",
       "\t med\\_bed\\_log                      & -0.02754460 & 0.012592072 & -2.187456 & 3.064785e-02 & 3.064785e-02 & TRUE\\\\\n",
       "\t age\\_65up\\_sqrt:confirmed\\_rate\\_log &  0.01694398 & 0.003884689 &  4.361733 & 2.745050e-05 & 4.575083e-05 & TRUE\\\\\n",
       "\\end{tabular}\n"
      ],
      "text/markdown": [
       "\n",
       "A tibble: 5 × 7\n",
       "\n",
       "| term &lt;chr&gt; | estimate &lt;dbl&gt; | std.error &lt;dbl&gt; | statistic &lt;dbl&gt; | p.value &lt;dbl&gt; | p.value.adjust &lt;dbl&gt; | significant &lt;lgl&gt; |\n",
       "|---|---|---|---|---|---|---|\n",
       "| (Intercept)                      | -0.24868439 | 0.092672220 | -2.683484 | 8.314934e-03 | 1.039367e-02 | TRUE |\n",
       "| age_65up_sqrt                    |  0.19386064 | 0.030369649 |  6.383368 | 3.402373e-09 | 1.701187e-08 | TRUE |\n",
       "| confirmed_rate_log               | -0.06219908 | 0.010259808 | -6.062402 | 1.597477e-08 | 3.993691e-08 | TRUE |\n",
       "| med_bed_log                      | -0.02754460 | 0.012592072 | -2.187456 | 3.064785e-02 | 3.064785e-02 | TRUE |\n",
       "| age_65up_sqrt:confirmed_rate_log |  0.01694398 | 0.003884689 |  4.361733 | 2.745050e-05 | 4.575083e-05 | TRUE |\n",
       "\n"
      ],
      "text/plain": [
       "  term                             estimate    std.error   statistic\n",
       "1 (Intercept)                      -0.24868439 0.092672220 -2.683484\n",
       "2 age_65up_sqrt                     0.19386064 0.030369649  6.383368\n",
       "3 confirmed_rate_log               -0.06219908 0.010259808 -6.062402\n",
       "4 med_bed_log                      -0.02754460 0.012592072 -2.187456\n",
       "5 age_65up_sqrt:confirmed_rate_log  0.01694398 0.003884689  4.361733\n",
       "  p.value      p.value.adjust significant\n",
       "1 8.314934e-03 1.039367e-02   TRUE       \n",
       "2 3.402373e-09 1.701187e-08   TRUE       \n",
       "3 1.597477e-08 3.993691e-08   TRUE       \n",
       "4 3.064785e-02 3.064785e-02   TRUE       \n",
       "5 2.745050e-05 4.575083e-05   TRUE       "
      ]
     },
     "metadata": {},
     "output_type": "display_data"
    },
    {
     "data": {
      "text/html": [
       "<table>\n",
       "<caption>A anova: 2 × 6</caption>\n",
       "<thead>\n",
       "\t<tr><th scope=col>Res.Df</th><th scope=col>RSS</th><th scope=col>Df</th><th scope=col>Sum of Sq</th><th scope=col>F</th><th scope=col>Pr(&gt;F)</th></tr>\n",
       "\t<tr><th scope=col>&lt;dbl&gt;</th><th scope=col>&lt;dbl&gt;</th><th scope=col>&lt;dbl&gt;</th><th scope=col>&lt;dbl&gt;</th><th scope=col>&lt;dbl&gt;</th><th scope=col>&lt;dbl&gt;</th></tr>\n",
       "</thead>\n",
       "<tbody>\n",
       "\t<tr><td>121</td><td>0.8691003</td><td>NA</td><td>       NA</td><td>      NA</td><td>         NA</td></tr>\n",
       "\t<tr><td>120</td><td>0.7501690</td><td> 1</td><td>0.1189313</td><td>19.02472</td><td>2.74505e-05</td></tr>\n",
       "</tbody>\n",
       "</table>\n"
      ],
      "text/latex": [
       "A anova: 2 × 6\n",
       "\\begin{tabular}{r|llllll}\n",
       " Res.Df & RSS & Df & Sum of Sq & F & Pr(>F)\\\\\n",
       " <dbl> & <dbl> & <dbl> & <dbl> & <dbl> & <dbl>\\\\\n",
       "\\hline\n",
       "\t 121 & 0.8691003 & NA &        NA &       NA &          NA\\\\\n",
       "\t 120 & 0.7501690 &  1 & 0.1189313 & 19.02472 & 2.74505e-05\\\\\n",
       "\\end{tabular}\n"
      ],
      "text/markdown": [
       "\n",
       "A anova: 2 × 6\n",
       "\n",
       "| Res.Df &lt;dbl&gt; | RSS &lt;dbl&gt; | Df &lt;dbl&gt; | Sum of Sq &lt;dbl&gt; | F &lt;dbl&gt; | Pr(&gt;F) &lt;dbl&gt; |\n",
       "|---|---|---|---|---|---|\n",
       "| 121 | 0.8691003 | NA |        NA |       NA |          NA |\n",
       "| 120 | 0.7501690 |  1 | 0.1189313 | 19.02472 | 2.74505e-05 |\n",
       "\n"
      ],
      "text/plain": [
       "  Res.Df RSS       Df Sum of Sq F        Pr(>F)     \n",
       "1 121    0.8691003 NA        NA       NA          NA\n",
       "2 120    0.7501690  1 0.1189313 19.02472 2.74505e-05"
      ]
     },
     "metadata": {},
     "output_type": "display_data"
    },
    {
     "data": {
      "image/png": "[encoded data removed]",
      "text/plain": [
       "Plot with title \"\""
      ]
     },
     "metadata": {
      "image/png": {
       "height": 420,
       "width": 420
      },
      "text/plain": {
       "height": 420,
       "width": 420
      }
     },
     "output_type": "display_data"
    },
    {
     "data": {
      "image/png": "[encoded data removed]",
      "text/plain": [
       "Plot with title \"\""
      ]
     },
     "metadata": {
      "image/png": {
       "height": 420,
       "width": 420
      },
      "text/plain": {
       "height": 420,
       "width": 420
      }
     },
     "output_type": "display_data"
    },
    {
     "data": {
      "image/png": "[encoded data removed]",
      "text/plain": [
       "Plot with title \"\""
      ]
     },
     "metadata": {
      "image/png": {
       "height": 420,
       "width": 420
      },
      "text/plain": {
       "height": 420,
       "width": 420
      }
     },
     "output_type": "display_data"
    },
    {
     "data": {
      "image/png": "[encoded data removed]",
      "text/plain": [
       "Plot with title \"\""
      ]
     },
     "metadata": {
      "image/png": {
       "height": 420,
       "width": 420
      },
      "text/plain": {
       "height": 420,
       "width": 420
      }
     },
     "output_type": "display_data"
    }
   ],
   "source": [
    "fit_9 <- lm(sqrt(rate_sqrt) ~ age_65up_sqrt +age_65up_sqrt*confirmed_rate_log + \n",
    "                med_bed_log + confirmed_rate_log, df_trans)\n",
    "\n",
    "analyze_lm(fit_9)\n",
    "\n",
    "anova(fit_8, fit_9)\n",
    "\n",
    "plot(fit_9)"
   ]
  },
  {
   "cell_type": "code",
   "execution_count": 244,
   "metadata": {},
   "outputs": [],
   "source": [
    "df_cp_2 <- df_cp %>%\n",
    "    filter(rate != 0) %>%\n",
    "    mutate(rate_sqrt = sqrt(rate),\n",
    "           age_65up_sqrt = sqrt(age_65up),\n",
    "           med_bed_log = log(med_bed),\n",
    "           )\n",
    "fit <- lm(rate^0.25 ~ sqrt(age_65up) + log(med_bed), df_cp)"
   ]
  },
  {
   "cell_type": "code",
   "execution_count": 245,
   "metadata": {},
   "outputs": [
    {
     "data": {
      "text/html": [
       "<table>\n",
       "<caption>A tibble: 3 × 5</caption>\n",
       "<thead>\n",
       "\t<tr><th scope=col>term</th><th scope=col>estimate</th><th scope=col>std.error</th><th scope=col>statistic</th><th scope=col>p.value</th></tr>\n",
       "\t<tr><th scope=col>&lt;chr&gt;</th><th scope=col>&lt;dbl&gt;</th><th scope=col>&lt;dbl&gt;</th><th scope=col>&lt;dbl&gt;</th><th scope=col>&lt;dbl&gt;</th></tr>\n",
       "</thead>\n",
       "<tbody>\n",
       "\t<tr><td>(Intercept)   </td><td> 0.21888224</td><td>0.03929393</td><td> 5.570382</td><td>1.354592e-07</td></tr>\n",
       "\t<tr><td>sqrt(age_65up)</td><td> 0.07832135</td><td>0.01608053</td><td> 4.870570</td><td>3.108905e-06</td></tr>\n",
       "\t<tr><td>log(med_bed)  </td><td>-0.05975826</td><td>0.01921090</td><td>-3.110643</td><td>2.284709e-03</td></tr>\n",
       "</tbody>\n",
       "</table>\n"
      ],
      "text/latex": [
       "A tibble: 3 × 5\n",
       "\\begin{tabular}{r|lllll}\n",
       " term & estimate & std.error & statistic & p.value\\\\\n",
       " <chr> & <dbl> & <dbl> & <dbl> & <dbl>\\\\\n",
       "\\hline\n",
       "\t (Intercept)    &  0.21888224 & 0.03929393 &  5.570382 & 1.354592e-07\\\\\n",
       "\t sqrt(age\\_65up) &  0.07832135 & 0.01608053 &  4.870570 & 3.108905e-06\\\\\n",
       "\t log(med\\_bed)   & -0.05975826 & 0.01921090 & -3.110643 & 2.284709e-03\\\\\n",
       "\\end{tabular}\n"
      ],
      "text/markdown": [
       "\n",
       "A tibble: 3 × 5\n",
       "\n",
       "| term &lt;chr&gt; | estimate &lt;dbl&gt; | std.error &lt;dbl&gt; | statistic &lt;dbl&gt; | p.value &lt;dbl&gt; |\n",
       "|---|---|---|---|---|\n",
       "| (Intercept)    |  0.21888224 | 0.03929393 |  5.570382 | 1.354592e-07 |\n",
       "| sqrt(age_65up) |  0.07832135 | 0.01608053 |  4.870570 | 3.108905e-06 |\n",
       "| log(med_bed)   | -0.05975826 | 0.01921090 | -3.110643 | 2.284709e-03 |\n",
       "\n"
      ],
      "text/plain": [
       "  term           estimate    std.error  statistic p.value     \n",
       "1 (Intercept)     0.21888224 0.03929393  5.570382 1.354592e-07\n",
       "2 sqrt(age_65up)  0.07832135 0.01608053  4.870570 3.108905e-06\n",
       "3 log(med_bed)   -0.05975826 0.01921090 -3.110643 2.284709e-03"
      ]
     },
     "metadata": {},
     "output_type": "display_data"
    }
   ],
   "source": [
    "fit %>%\n",
    "    broom::tidy()"
   ]
  },
  {
   "cell_type": "code",
   "execution_count": 246,
   "metadata": {},
   "outputs": [
    {
     "data": {
      "image/png": "[encoded data removed]",
      "text/plain": [
       "Plot with title \"\""
      ]
     },
     "metadata": {
      "image/png": {
       "height": 420,
       "width": 420
      },
      "text/plain": {
       "height": 420,
       "width": 420
      }
     },
     "output_type": "display_data"
    },
    {
     "data": {
      "image/png": "[encoded data removed]",
      "text/plain": [
       "Plot with title \"\""
      ]
     },
     "metadata": {
      "image/png": {
       "height": 420,
       "width": 420
      },
      "text/plain": {
       "height": 420,
       "width": 420
      }
     },
     "output_type": "display_data"
    },
    {
     "data": {
      "image/png": "[encoded data removed]",
      "text/plain": [
       "Plot with title \"\""
      ]
     },
     "metadata": {
      "image/png": {
       "height": 420,
       "width": 420
      },
      "text/plain": {
       "height": 420,
       "width": 420
      }
     },
     "output_type": "display_data"
    },
    {
     "data": {
      "image/png": "[encoded data removed]",
      "text/plain": [
       "Plot with title \"\""
      ]
     },
     "metadata": {
      "image/png": {
       "height": 420,
       "width": 420
      },
      "text/plain": {
       "height": 420,
       "width": 420
      }
     },
     "output_type": "display_data"
    }
   ],
   "source": [
    "plot(fit)"
   ]
  },
  {
   "cell_type": "markdown",
   "metadata": {},
   "source": [
    "#### II. Stratified analysis"
   ]
  },
  {
   "cell_type": "code",
   "execution_count": 109,
   "metadata": {},
   "outputs": [
    {
     "data": {
      "text/html": [
       "<table>\n",
       "<caption>A data.frame: 6 × 7</caption>\n",
       "<thead>\n",
       "\t<tr><th></th><th scope=col>rate</th><th scope=col>age_65up</th><th scope=col>med_bed</th><th scope=col>pop_density</th><th scope=col>nurses_midwives</th><th scope=col>confirmed_rate</th><th scope=col>gov_resp</th></tr>\n",
       "\t<tr><th></th><th scope=col>&lt;dbl&gt;</th><th scope=col>&lt;dbl&gt;</th><th scope=col>&lt;dbl&gt;</th><th scope=col>&lt;dbl&gt;</th><th scope=col>&lt;dbl&gt;</th><th scope=col>&lt;dbl&gt;</th><th scope=col>&lt;dbl&gt;</th></tr>\n",
       "</thead>\n",
       "<tbody>\n",
       "\t<tr><th scope=row>1</th><td>0.03347035</td><td> 2.584927</td><td>0.5</td><td> 56.937760</td><td> 0.3200</td><td>4.581358e-05</td><td>73.55</td></tr>\n",
       "\t<tr><th scope=row>2</th><td>0.03804348</td><td>13.744736</td><td>2.9</td><td>104.612263</td><td> 3.5998</td><td>2.567702e-04</td><td>88.36</td></tr>\n",
       "\t<tr><th scope=row>3</th><td>0.12283196</td><td> 6.362497</td><td>1.9</td><td> 17.730075</td><td> 2.2400</td><td>8.328513e-05</td><td>82.42</td></tr>\n",
       "\t<tr><th scope=row>5</th><td>0.07407407</td><td> 2.216374</td><td>0.8</td><td> 24.713052</td><td> 1.3123</td><td>8.763456e-07</td><td>86.77</td></tr>\n",
       "\t<tr><th scope=row>6</th><td>0.04921309</td><td>11.117789</td><td>5.0</td><td> 16.258510</td><td> 2.5800</td><td>8.996617e-05</td><td>90.21</td></tr>\n",
       "\t<tr><th scope=row>7</th><td>0.01234935</td><td>15.656475</td><td>3.8</td><td>  3.249129</td><td>12.6612</td><td>2.690263e-04</td><td>68.26</td></tr>\n",
       "</tbody>\n",
       "</table>\n"
      ],
      "text/latex": [
       "A data.frame: 6 × 7\n",
       "\\begin{tabular}{r|lllllll}\n",
       "  & rate & age\\_65up & med\\_bed & pop\\_density & nurses\\_midwives & confirmed\\_rate & gov\\_resp\\\\\n",
       "  & <dbl> & <dbl> & <dbl> & <dbl> & <dbl> & <dbl> & <dbl>\\\\\n",
       "\\hline\n",
       "\t1 & 0.03347035 &  2.584927 & 0.5 &  56.937760 &  0.3200 & 4.581358e-05 & 73.55\\\\\n",
       "\t2 & 0.03804348 & 13.744736 & 2.9 & 104.612263 &  3.5998 & 2.567702e-04 & 88.36\\\\\n",
       "\t3 & 0.12283196 &  6.362497 & 1.9 &  17.730075 &  2.2400 & 8.328513e-05 & 82.42\\\\\n",
       "\t5 & 0.07407407 &  2.216374 & 0.8 &  24.713052 &  1.3123 & 8.763456e-07 & 86.77\\\\\n",
       "\t6 & 0.04921309 & 11.117789 & 5.0 &  16.258510 &  2.5800 & 8.996617e-05 & 90.21\\\\\n",
       "\t7 & 0.01234935 & 15.656475 & 3.8 &   3.249129 & 12.6612 & 2.690263e-04 & 68.26\\\\\n",
       "\\end{tabular}\n"
      ],
      "text/markdown": [
       "\n",
       "A data.frame: 6 × 7\n",
       "\n",
       "| <!--/--> | rate &lt;dbl&gt; | age_65up &lt;dbl&gt; | med_bed &lt;dbl&gt; | pop_density &lt;dbl&gt; | nurses_midwives &lt;dbl&gt; | confirmed_rate &lt;dbl&gt; | gov_resp &lt;dbl&gt; |\n",
       "|---|---|---|---|---|---|---|---|\n",
       "| 1 | 0.03347035 |  2.584927 | 0.5 |  56.937760 |  0.3200 | 4.581358e-05 | 73.55 |\n",
       "| 2 | 0.03804348 | 13.744736 | 2.9 | 104.612263 |  3.5998 | 2.567702e-04 | 88.36 |\n",
       "| 3 | 0.12283196 |  6.362497 | 1.9 |  17.730075 |  2.2400 | 8.328513e-05 | 82.42 |\n",
       "| 5 | 0.07407407 |  2.216374 | 0.8 |  24.713052 |  1.3123 | 8.763456e-07 | 86.77 |\n",
       "| 6 | 0.04921309 | 11.117789 | 5.0 |  16.258510 |  2.5800 | 8.996617e-05 | 90.21 |\n",
       "| 7 | 0.01234935 | 15.656475 | 3.8 |   3.249129 | 12.6612 | 2.690263e-04 | 68.26 |\n",
       "\n"
      ],
      "text/plain": [
       "  rate       age_65up  med_bed pop_density nurses_midwives confirmed_rate\n",
       "1 0.03347035  2.584927 0.5      56.937760   0.3200         4.581358e-05  \n",
       "2 0.03804348 13.744736 2.9     104.612263   3.5998         2.567702e-04  \n",
       "3 0.12283196  6.362497 1.9      17.730075   2.2400         8.328513e-05  \n",
       "5 0.07407407  2.216374 0.8      24.713052   1.3123         8.763456e-07  \n",
       "6 0.04921309 11.117789 5.0      16.258510   2.5800         8.996617e-05  \n",
       "7 0.01234935 15.656475 3.8       3.249129  12.6612         2.690263e-04  \n",
       "  gov_resp\n",
       "1 73.55   \n",
       "2 88.36   \n",
       "3 82.42   \n",
       "5 86.77   \n",
       "6 90.21   \n",
       "7 68.26   "
      ]
     },
     "metadata": {},
     "output_type": "display_data"
    }
   ],
   "source": [
    "head(df_sub)"
   ]
  },
  {
   "cell_type": "code",
   "execution_count": 113,
   "metadata": {},
   "outputs": [
    {
     "data": {
      "text/html": [
       "<dl class=dl-horizontal>\n",
       "\t<dt>(0,1.3]</dt>\n",
       "\t\t<dd>38</dd>\n",
       "\t<dt>(1.3,2.3]</dt>\n",
       "\t\t<dd>31</dd>\n",
       "\t<dt>(2.3,4.01]</dt>\n",
       "\t\t<dd>32</dd>\n",
       "\t<dt>(4.01,Inf]</dt>\n",
       "\t\t<dd>34</dd>\n",
       "</dl>\n"
      ],
      "text/latex": [
       "\\begin{description*}\n",
       "\\item[(0,1.3\\{{]}\\}] 38\n",
       "\\item[(1.3,2.3\\{{]}\\}] 31\n",
       "\\item[(2.3,4.01\\{{]}\\}] 32\n",
       "\\item[(4.01,Inf\\{{]}\\}] 34\n",
       "\\end{description*}\n"
      ],
      "text/markdown": [
       "(0,1.3]\n",
       ":   38(1.3,2.3]\n",
       ":   31(2.3,4.01]\n",
       ":   32(4.01,Inf]\n",
       ":   34\n",
       "\n"
      ],
      "text/plain": [
       "   (0,1.3]  (1.3,2.3] (2.3,4.01] (4.01,Inf] \n",
       "        38         31         32         34 "
      ]
     },
     "metadata": {},
     "output_type": "display_data"
    }
   ],
   "source": [
    "med_bed_bin <- cut(df_sub$med_bed, breaks = c(0, quantile(df_sub$med_bed, (1:3)/4), Inf))\n",
    "summary(med_bed_bin)"
   ]
  },
  {
   "cell_type": "code",
   "execution_count": 114,
   "metadata": {},
   "outputs": [
    {
     "data": {
      "text/html": [
       "<dl class=dl-horizontal>\n",
       "\t<dt>(0,30.5]</dt>\n",
       "\t\t<dd>34</dd>\n",
       "\t<dt>(30.5,84.6]</dt>\n",
       "\t\t<dd>34</dd>\n",
       "\t<dt>(84.6,177]</dt>\n",
       "\t\t<dd>33</dd>\n",
       "\t<dt>(177,Inf]</dt>\n",
       "\t\t<dd>34</dd>\n",
       "</dl>\n"
      ],
      "text/latex": [
       "\\begin{description*}\n",
       "\\item[(0,30.5\\{{]}\\}] 34\n",
       "\\item[(30.5,84.6\\{{]}\\}] 34\n",
       "\\item[(84.6,177\\{{]}\\}] 33\n",
       "\\item[(177,Inf\\{{]}\\}] 34\n",
       "\\end{description*}\n"
      ],
      "text/markdown": [
       "(0,30.5]\n",
       ":   34(30.5,84.6]\n",
       ":   34(84.6,177]\n",
       ":   33(177,Inf]\n",
       ":   34\n",
       "\n"
      ],
      "text/plain": [
       "   (0,30.5] (30.5,84.6]  (84.6,177]   (177,Inf] \n",
       "         34          34          33          34 "
      ]
     },
     "metadata": {},
     "output_type": "display_data"
    }
   ],
   "source": [
    "pop_density_bin <- cut(df_sub$pop_density, breaks = c(0, quantile(df_sub$pop_density, (1:3)/4), Inf))\n",
    "summary(pop_density_bin)"
   ]
  },
  {
   "cell_type": "code",
   "execution_count": 115,
   "metadata": {},
   "outputs": [
    {
     "data": {
      "text/html": [
       "<dl class=dl-horizontal>\n",
       "\t<dt>(0,1.15]</dt>\n",
       "\t\t<dd>34</dd>\n",
       "\t<dt>(1.15,2.64]</dt>\n",
       "\t\t<dd>34</dd>\n",
       "\t<dt>(2.64,6.62]</dt>\n",
       "\t\t<dd>33</dd>\n",
       "\t<dt>(6.62,Inf]</dt>\n",
       "\t\t<dd>34</dd>\n",
       "</dl>\n"
      ],
      "text/latex": [
       "\\begin{description*}\n",
       "\\item[(0,1.15\\{{]}\\}] 34\n",
       "\\item[(1.15,2.64\\{{]}\\}] 34\n",
       "\\item[(2.64,6.62\\{{]}\\}] 33\n",
       "\\item[(6.62,Inf\\{{]}\\}] 34\n",
       "\\end{description*}\n"
      ],
      "text/markdown": [
       "(0,1.15]\n",
       ":   34(1.15,2.64]\n",
       ":   34(2.64,6.62]\n",
       ":   33(6.62,Inf]\n",
       ":   34\n",
       "\n"
      ],
      "text/plain": [
       "   (0,1.15] (1.15,2.64] (2.64,6.62]  (6.62,Inf] \n",
       "         34          34          33          34 "
      ]
     },
     "metadata": {},
     "output_type": "display_data"
    }
   ],
   "source": [
    "nurses_midwives_bin <- cut(df_sub$nurses_midwives, breaks = c(0, quantile(df_sub$nurses_midwives, (1:3)/4), Inf))\n",
    "summary(nurses_midwives_bin)"
   ]
  },
  {
   "cell_type": "code",
   "execution_count": 116,
   "metadata": {},
   "outputs": [
    {
     "data": {
      "text/html": [
       "<dl class=dl-horizontal>\n",
       "\t<dt>(0,3.17e-05]</dt>\n",
       "\t\t<dd>34</dd>\n",
       "\t<dt>(3.17e-05,0.000123]</dt>\n",
       "\t\t<dd>34</dd>\n",
       "\t<dt>(0.000123,0.000766]</dt>\n",
       "\t\t<dd>33</dd>\n",
       "\t<dt>(0.000766,Inf]</dt>\n",
       "\t\t<dd>34</dd>\n",
       "</dl>\n"
      ],
      "text/latex": [
       "\\begin{description*}\n",
       "\\item[(0,3.17e-05\\{{]}\\}] 34\n",
       "\\item[(3.17e-05,0.000123\\{{]}\\}] 34\n",
       "\\item[(0.000123,0.000766\\{{]}\\}] 33\n",
       "\\item[(0.000766,Inf\\{{]}\\}] 34\n",
       "\\end{description*}\n"
      ],
      "text/markdown": [
       "(0,3.17e-05]\n",
       ":   34(3.17e-05,0.000123]\n",
       ":   34(0.000123,0.000766]\n",
       ":   33(0.000766,Inf]\n",
       ":   34\n",
       "\n"
      ],
      "text/plain": [
       "       (0,3.17e-05] (3.17e-05,0.000123] (0.000123,0.000766]      (0.000766,Inf] \n",
       "                 34                  34                  33                  34 "
      ]
     },
     "metadata": {},
     "output_type": "display_data"
    }
   ],
   "source": [
    "confirmed_rate_bin <- cut(df_sub$confirmed_rate, breaks = c(0, quantile(df_sub$confirmed_rate, (1:3)/4), Inf))\n",
    "summary(confirmed_rate_bin)"
   ]
  },
  {
   "cell_type": "code",
   "execution_count": 117,
   "metadata": {},
   "outputs": [
    {
     "data": {
      "text/html": [
       "<dl class=dl-horizontal>\n",
       "\t<dt>(0,74.9]</dt>\n",
       "\t\t<dd>34</dd>\n",
       "\t<dt>(74.9,82.9]</dt>\n",
       "\t\t<dd>34</dd>\n",
       "\t<dt>(82.9,91.1]</dt>\n",
       "\t\t<dd>33</dd>\n",
       "\t<dt>(91.1,Inf]</dt>\n",
       "\t\t<dd>34</dd>\n",
       "</dl>\n"
      ],
      "text/latex": [
       "\\begin{description*}\n",
       "\\item[(0,74.9\\{{]}\\}] 34\n",
       "\\item[(74.9,82.9\\{{]}\\}] 34\n",
       "\\item[(82.9,91.1\\{{]}\\}] 33\n",
       "\\item[(91.1,Inf\\{{]}\\}] 34\n",
       "\\end{description*}\n"
      ],
      "text/markdown": [
       "(0,74.9]\n",
       ":   34(74.9,82.9]\n",
       ":   34(82.9,91.1]\n",
       ":   33(91.1,Inf]\n",
       ":   34\n",
       "\n"
      ],
      "text/plain": [
       "   (0,74.9] (74.9,82.9] (82.9,91.1]  (91.1,Inf] \n",
       "         34          34          33          34 "
      ]
     },
     "metadata": {},
     "output_type": "display_data"
    }
   ],
   "source": [
    "gov_resp_bin <- cut(df_sub$gov_resp, breaks = c(0, quantile(df_sub$gov_resp, (1:3)/4), Inf))\n",
    "summary(gov_resp_bin)"
   ]
  },
  {
   "cell_type": "code",
   "execution_count": 120,
   "metadata": {},
   "outputs": [
    {
     "data": {
      "text/html": [
       "<table>\n",
       "<caption>A tibble: 6 × 7</caption>\n",
       "<thead>\n",
       "\t<tr><th scope=col>med_bed_bin</th><th scope=col>pop_density_bin</th><th scope=col>nurses_midwives_bin</th><th scope=col>confirmed_rate_bin</th><th scope=col>gov_resp_bin</th><th scope=col>age_65up</th><th scope=col>rate</th></tr>\n",
       "\t<tr><th scope=col>&lt;fct&gt;</th><th scope=col>&lt;fct&gt;</th><th scope=col>&lt;fct&gt;</th><th scope=col>&lt;fct&gt;</th><th scope=col>&lt;fct&gt;</th><th scope=col>&lt;dbl&gt;</th><th scope=col>&lt;dbl&gt;</th></tr>\n",
       "</thead>\n",
       "<tbody>\n",
       "\t<tr><td>(0,1.3]   </td><td>(30.5,84.6]</td><td>(0,1.15]   </td><td>(3.17e-05,0.000123]</td><td>(0,74.9]   </td><td> 2.584927</td><td>0.03347035</td></tr>\n",
       "\t<tr><td>(2.3,4.01]</td><td>(84.6,177] </td><td>(2.64,6.62]</td><td>(0.000123,0.000766]</td><td>(82.9,91.1]</td><td>13.744736</td><td>0.03804348</td></tr>\n",
       "\t<tr><td>(1.3,2.3] </td><td>(0,30.5]   </td><td>(1.15,2.64]</td><td>(3.17e-05,0.000123]</td><td>(74.9,82.9]</td><td> 6.362497</td><td>0.12283196</td></tr>\n",
       "\t<tr><td>(0,1.3]   </td><td>(0,30.5]   </td><td>(1.15,2.64]</td><td>(0,3.17e-05]       </td><td>(82.9,91.1]</td><td> 2.216374</td><td>0.07407407</td></tr>\n",
       "\t<tr><td>(4.01,Inf]</td><td>(0,30.5]   </td><td>(1.15,2.64]</td><td>(3.17e-05,0.000123]</td><td>(82.9,91.1]</td><td>11.117789</td><td>0.04921309</td></tr>\n",
       "\t<tr><td>(2.3,4.01]</td><td>(0,30.5]   </td><td>(6.62,Inf] </td><td>(0.000123,0.000766]</td><td>(0,74.9]   </td><td>15.656475</td><td>0.01234935</td></tr>\n",
       "</tbody>\n",
       "</table>\n"
      ],
      "text/latex": [
       "A tibble: 6 × 7\n",
       "\\begin{tabular}{r|lllllll}\n",
       " med\\_bed\\_bin & pop\\_density\\_bin & nurses\\_midwives\\_bin & confirmed\\_rate\\_bin & gov\\_resp\\_bin & age\\_65up & rate\\\\\n",
       " <fct> & <fct> & <fct> & <fct> & <fct> & <dbl> & <dbl>\\\\\n",
       "\\hline\n",
       "\t (0,1.3{]}    & (30.5,84.6{]} & (0,1.15{]}    & (3.17e-05,0.000123{]} & (0,74.9{]}    &  2.584927 & 0.03347035\\\\\n",
       "\t (2.3,4.01{]} & (84.6,177{]}  & (2.64,6.62{]} & (0.000123,0.000766{]} & (82.9,91.1{]} & 13.744736 & 0.03804348\\\\\n",
       "\t (1.3,2.3{]}  & (0,30.5{]}    & (1.15,2.64{]} & (3.17e-05,0.000123{]} & (74.9,82.9{]} &  6.362497 & 0.12283196\\\\\n",
       "\t (0,1.3{]}    & (0,30.5{]}    & (1.15,2.64{]} & (0,3.17e-05{]}        & (82.9,91.1{]} &  2.216374 & 0.07407407\\\\\n",
       "\t (4.01,Inf{]} & (0,30.5{]}    & (1.15,2.64{]} & (3.17e-05,0.000123{]} & (82.9,91.1{]} & 11.117789 & 0.04921309\\\\\n",
       "\t (2.3,4.01{]} & (0,30.5{]}    & (6.62,Inf{]}  & (0.000123,0.000766{]} & (0,74.9{]}    & 15.656475 & 0.01234935\\\\\n",
       "\\end{tabular}\n"
      ],
      "text/markdown": [
       "\n",
       "A tibble: 6 × 7\n",
       "\n",
       "| med_bed_bin &lt;fct&gt; | pop_density_bin &lt;fct&gt; | nurses_midwives_bin &lt;fct&gt; | confirmed_rate_bin &lt;fct&gt; | gov_resp_bin &lt;fct&gt; | age_65up &lt;dbl&gt; | rate &lt;dbl&gt; |\n",
       "|---|---|---|---|---|---|---|\n",
       "| (0,1.3]    | (30.5,84.6] | (0,1.15]    | (3.17e-05,0.000123] | (0,74.9]    |  2.584927 | 0.03347035 |\n",
       "| (2.3,4.01] | (84.6,177]  | (2.64,6.62] | (0.000123,0.000766] | (82.9,91.1] | 13.744736 | 0.03804348 |\n",
       "| (1.3,2.3]  | (0,30.5]    | (1.15,2.64] | (3.17e-05,0.000123] | (74.9,82.9] |  6.362497 | 0.12283196 |\n",
       "| (0,1.3]    | (0,30.5]    | (1.15,2.64] | (0,3.17e-05]        | (82.9,91.1] |  2.216374 | 0.07407407 |\n",
       "| (4.01,Inf] | (0,30.5]    | (1.15,2.64] | (3.17e-05,0.000123] | (82.9,91.1] | 11.117789 | 0.04921309 |\n",
       "| (2.3,4.01] | (0,30.5]    | (6.62,Inf]  | (0.000123,0.000766] | (0,74.9]    | 15.656475 | 0.01234935 |\n",
       "\n"
      ],
      "text/plain": [
       "  med_bed_bin pop_density_bin nurses_midwives_bin confirmed_rate_bin \n",
       "1 (0,1.3]     (30.5,84.6]     (0,1.15]            (3.17e-05,0.000123]\n",
       "2 (2.3,4.01]  (84.6,177]      (2.64,6.62]         (0.000123,0.000766]\n",
       "3 (1.3,2.3]   (0,30.5]        (1.15,2.64]         (3.17e-05,0.000123]\n",
       "4 (0,1.3]     (0,30.5]        (1.15,2.64]         (0,3.17e-05]       \n",
       "5 (4.01,Inf]  (0,30.5]        (1.15,2.64]         (3.17e-05,0.000123]\n",
       "6 (2.3,4.01]  (0,30.5]        (6.62,Inf]          (0.000123,0.000766]\n",
       "  gov_resp_bin age_65up  rate      \n",
       "1 (0,74.9]      2.584927 0.03347035\n",
       "2 (82.9,91.1]  13.744736 0.03804348\n",
       "3 (74.9,82.9]   6.362497 0.12283196\n",
       "4 (82.9,91.1]   2.216374 0.07407407\n",
       "5 (82.9,91.1]  11.117789 0.04921309\n",
       "6 (0,74.9]     15.656475 0.01234935"
      ]
     },
     "metadata": {},
     "output_type": "display_data"
    }
   ],
   "source": [
    "df_bin <- tibble(med_bed_bin = med_bed_bin,\n",
    "                 pop_density_bin = pop_density_bin,\n",
    "                 nurses_midwives_bin = nurses_midwives_bin,\n",
    "                 confirmed_rate_bin = confirmed_rate_bin,\n",
    "                 gov_resp_bin = gov_resp_bin)\n",
    "df_bin$age_65up <- df_sub$age_65up\n",
    "df_bin$rate <- df_sub$rate\n",
    "head(df_bin)"
   ]
  },
  {
   "cell_type": "code",
   "execution_count": 124,
   "metadata": {},
   "outputs": [
    {
     "data": {
      "text/html": [
       "135"
      ],
      "text/latex": [
       "135"
      ],
      "text/markdown": [
       "135"
      ],
      "text/plain": [
       "[1] 135"
      ]
     },
     "metadata": {},
     "output_type": "display_data"
    }
   ],
   "source": [
    "sum(!is.na(df_sub$rate))"
   ]
  },
  {
   "cell_type": "code",
   "execution_count": 142,
   "metadata": {},
   "outputs": [
    {
     "data": {
      "text/html": [
       "<table>\n",
       "<caption>A grouped_df: 112 × 6</caption>\n",
       "<thead>\n",
       "\t<tr><th scope=col>med_bed_bin</th><th scope=col>pop_density_bin</th><th scope=col>nurses_midwives_bin</th><th scope=col>confirmed_rate_bin</th><th scope=col>gov_resp_bin</th><th scope=col>coef</th></tr>\n",
       "\t<tr><th scope=col>&lt;fct&gt;</th><th scope=col>&lt;fct&gt;</th><th scope=col>&lt;fct&gt;</th><th scope=col>&lt;fct&gt;</th><th scope=col>&lt;fct&gt;</th><th scope=col>&lt;dbl&gt;</th></tr>\n",
       "</thead>\n",
       "<tbody>\n",
       "\t<tr><td>(0,1.3]  </td><td>(0,30.5]   </td><td>(0,1.15]   </td><td>(0,3.17e-05]       </td><td>(0,74.9]   </td><td>0.001214216</td></tr>\n",
       "\t<tr><td>(0,1.3]  </td><td>(0,30.5]   </td><td>(0,1.15]   </td><td>(0,3.17e-05]       </td><td>(74.9,82.9]</td><td>0.001214216</td></tr>\n",
       "\t<tr><td>(0,1.3]  </td><td>(0,30.5]   </td><td>(0,1.15]   </td><td>(3.17e-05,0.000123]</td><td>(82.9,91.1]</td><td>0.001214216</td></tr>\n",
       "\t<tr><td>(0,1.3]  </td><td>(0,30.5]   </td><td>(1.15,2.64]</td><td>(0,3.17e-05]       </td><td>(82.9,91.1]</td><td>0.001214216</td></tr>\n",
       "\t<tr><td>(0,1.3]  </td><td>(0,30.5]   </td><td>(1.15,2.64]</td><td>(3.17e-05,0.000123]</td><td>(0,74.9]   </td><td>0.001214216</td></tr>\n",
       "\t<tr><td>(0,1.3]  </td><td>(0,30.5]   </td><td>(1.15,2.64]</td><td>(3.17e-05,0.000123]</td><td>(91.1,Inf] </td><td>0.001214216</td></tr>\n",
       "\t<tr><td>(0,1.3]  </td><td>(30.5,84.6]</td><td>(0,1.15]   </td><td>(0,3.17e-05]       </td><td>(0,74.9]   </td><td>0.001214216</td></tr>\n",
       "\t<tr><td>(0,1.3]  </td><td>(30.5,84.6]</td><td>(0,1.15]   </td><td>(0,3.17e-05]       </td><td>(74.9,82.9]</td><td>0.001214216</td></tr>\n",
       "\t<tr><td>(0,1.3]  </td><td>(30.5,84.6]</td><td>(0,1.15]   </td><td>(0,3.17e-05]       </td><td>(82.9,91.1]</td><td>0.001214216</td></tr>\n",
       "\t<tr><td>(0,1.3]  </td><td>(30.5,84.6]</td><td>(0,1.15]   </td><td>(3.17e-05,0.000123]</td><td>(0,74.9]   </td><td>0.001214216</td></tr>\n",
       "\t<tr><td>(0,1.3]  </td><td>(30.5,84.6]</td><td>(0,1.15]   </td><td>(3.17e-05,0.000123]</td><td>(82.9,91.1]</td><td>0.001214216</td></tr>\n",
       "\t<tr><td>(0,1.3]  </td><td>(30.5,84.6]</td><td>(0,1.15]   </td><td>(3.17e-05,0.000123]</td><td>(91.1,Inf] </td><td>0.001214216</td></tr>\n",
       "\t<tr><td>(0,1.3]  </td><td>(30.5,84.6]</td><td>(1.15,2.64]</td><td>(0,3.17e-05]       </td><td>(0,74.9]   </td><td>0.001214216</td></tr>\n",
       "\t<tr><td>(0,1.3]  </td><td>(84.6,177] </td><td>(0,1.15]   </td><td>(0,3.17e-05]       </td><td>(74.9,82.9]</td><td>0.001214216</td></tr>\n",
       "\t<tr><td>(0,1.3]  </td><td>(84.6,177] </td><td>(0,1.15]   </td><td>(0,3.17e-05]       </td><td>(91.1,Inf] </td><td>0.001214216</td></tr>\n",
       "\t<tr><td>(0,1.3]  </td><td>(84.6,177] </td><td>(0,1.15]   </td><td>(3.17e-05,0.000123]</td><td>(91.1,Inf] </td><td>0.001214216</td></tr>\n",
       "\t<tr><td>(0,1.3]  </td><td>(84.6,177] </td><td>(0,1.15]   </td><td>(0.000123,0.000766]</td><td>(0,74.9]   </td><td>0.001214216</td></tr>\n",
       "\t<tr><td>(0,1.3]  </td><td>(84.6,177] </td><td>(1.15,2.64]</td><td>(3.17e-05,0.000123]</td><td>(0,74.9]   </td><td>0.001214216</td></tr>\n",
       "\t<tr><td>(0,1.3]  </td><td>(84.6,177] </td><td>(2.64,6.62]</td><td>(0.000766,Inf]     </td><td>(82.9,91.1]</td><td>0.001214216</td></tr>\n",
       "\t<tr><td>(0,1.3]  </td><td>(177,Inf]  </td><td>(0,1.15]   </td><td>(0,3.17e-05]       </td><td>(0,74.9]   </td><td>0.001214216</td></tr>\n",
       "\t<tr><td>(0,1.3]  </td><td>(177,Inf]  </td><td>(0,1.15]   </td><td>(0,3.17e-05]       </td><td>(74.9,82.9]</td><td>0.001214216</td></tr>\n",
       "\t<tr><td>(0,1.3]  </td><td>(177,Inf]  </td><td>(0,1.15]   </td><td>(3.17e-05,0.000123]</td><td>(74.9,82.9]</td><td>0.001214216</td></tr>\n",
       "\t<tr><td>(0,1.3]  </td><td>(177,Inf]  </td><td>(0,1.15]   </td><td>(3.17e-05,0.000123]</td><td>(91.1,Inf] </td><td>0.001214216</td></tr>\n",
       "\t<tr><td>(0,1.3]  </td><td>(177,Inf]  </td><td>(1.15,2.64]</td><td>(0,3.17e-05]       </td><td>(82.9,91.1]</td><td>0.001214216</td></tr>\n",
       "\t<tr><td>(0,1.3]  </td><td>(177,Inf]  </td><td>(1.15,2.64]</td><td>(0,3.17e-05]       </td><td>(91.1,Inf] </td><td>0.001214216</td></tr>\n",
       "\t<tr><td>(0,1.3]  </td><td>(177,Inf]  </td><td>(1.15,2.64]</td><td>(3.17e-05,0.000123]</td><td>(91.1,Inf] </td><td>0.001214216</td></tr>\n",
       "\t<tr><td>(0,1.3]  </td><td>(177,Inf]  </td><td>(2.64,6.62]</td><td>(0.000766,Inf]     </td><td>(82.9,91.1]</td><td>0.001214216</td></tr>\n",
       "\t<tr><td>(1.3,2.3]</td><td>(0,30.5]   </td><td>(0,1.15]   </td><td>(0,3.17e-05]       </td><td>(0,74.9]   </td><td>0.001214216</td></tr>\n",
       "\t<tr><td>(1.3,2.3]</td><td>(0,30.5]   </td><td>(0,1.15]   </td><td>(0.000123,0.000766]</td><td>(74.9,82.9]</td><td>0.001214216</td></tr>\n",
       "\t<tr><td>(1.3,2.3]</td><td>(0,30.5]   </td><td>(1.15,2.64]</td><td>(3.17e-05,0.000123]</td><td>(74.9,82.9]</td><td>0.001214216</td></tr>\n",
       "\t<tr><td>...</td><td>...</td><td>...</td><td>...</td><td>...</td><td>...</td></tr>\n",
       "\t<tr><td>(2.3,4.01]</td><td>(177,Inf]  </td><td>(2.64,6.62]</td><td>(0.000766,Inf]     </td><td>(91.1,Inf] </td><td>0.001214216</td></tr>\n",
       "\t<tr><td>(2.3,4.01]</td><td>(177,Inf]  </td><td>(6.62,Inf] </td><td>(0.000766,Inf]     </td><td>(74.9,82.9]</td><td>0.001214216</td></tr>\n",
       "\t<tr><td>(4.01,Inf]</td><td>(0,30.5]   </td><td>(0,1.15]   </td><td>(0,3.17e-05]       </td><td>(82.9,91.1]</td><td>0.001214216</td></tr>\n",
       "\t<tr><td>(4.01,Inf]</td><td>(0,30.5]   </td><td>(1.15,2.64]</td><td>(3.17e-05,0.000123]</td><td>(0,74.9]   </td><td>0.001214216</td></tr>\n",
       "\t<tr><td>(4.01,Inf]</td><td>(0,30.5]   </td><td>(1.15,2.64]</td><td>(3.17e-05,0.000123]</td><td>(82.9,91.1]</td><td>0.001214216</td></tr>\n",
       "\t<tr><td>(4.01,Inf]</td><td>(0,30.5]   </td><td>(2.64,6.62]</td><td>(0,3.17e-05]       </td><td>(0,74.9]   </td><td>0.001214216</td></tr>\n",
       "\t<tr><td>(4.01,Inf]</td><td>(0,30.5]   </td><td>(2.64,6.62]</td><td>(0.000766,Inf]     </td><td>(74.9,82.9]</td><td>0.001214216</td></tr>\n",
       "\t<tr><td>(4.01,Inf]</td><td>(0,30.5]   </td><td>(6.62,Inf] </td><td>(0.000123,0.000766]</td><td>(74.9,82.9]</td><td>0.001214216</td></tr>\n",
       "\t<tr><td>(4.01,Inf]</td><td>(0,30.5]   </td><td>(6.62,Inf] </td><td>(0.000766,Inf]     </td><td>(0,74.9]   </td><td>0.001214216</td></tr>\n",
       "\t<tr><td>(4.01,Inf]</td><td>(30.5,84.6]</td><td>(2.64,6.62]</td><td>(3.17e-05,0.000123]</td><td>(82.9,91.1]</td><td>0.001214216</td></tr>\n",
       "\t<tr><td>(4.01,Inf]</td><td>(30.5,84.6]</td><td>(2.64,6.62]</td><td>(0.000123,0.000766]</td><td>(0,74.9]   </td><td>0.001214216</td></tr>\n",
       "\t<tr><td>(4.01,Inf]</td><td>(30.5,84.6]</td><td>(2.64,6.62]</td><td>(0.000123,0.000766]</td><td>(74.9,82.9]</td><td>0.001214216</td></tr>\n",
       "\t<tr><td>(4.01,Inf]</td><td>(30.5,84.6]</td><td>(2.64,6.62]</td><td>(0.000123,0.000766]</td><td>(82.9,91.1]</td><td>0.001214216</td></tr>\n",
       "\t<tr><td>(4.01,Inf]</td><td>(30.5,84.6]</td><td>(2.64,6.62]</td><td>(0.000766,Inf]     </td><td>(91.1,Inf] </td><td>0.001214216</td></tr>\n",
       "\t<tr><td>(4.01,Inf]</td><td>(30.5,84.6]</td><td>(6.62,Inf] </td><td>(0.000123,0.000766]</td><td>(91.1,Inf] </td><td>0.001214216</td></tr>\n",
       "\t<tr><td>(4.01,Inf]</td><td>(84.6,177] </td><td>(1.15,2.64]</td><td>(3.17e-05,0.000123]</td><td>(0,74.9]   </td><td>0.001214216</td></tr>\n",
       "\t<tr><td>(4.01,Inf]</td><td>(84.6,177] </td><td>(2.64,6.62]</td><td>(0.000123,0.000766]</td><td>(82.9,91.1]</td><td>0.001214216</td></tr>\n",
       "\t<tr><td>(4.01,Inf]</td><td>(84.6,177] </td><td>(2.64,6.62]</td><td>(0.000766,Inf]     </td><td>(82.9,91.1]</td><td>0.001214216</td></tr>\n",
       "\t<tr><td>(4.01,Inf]</td><td>(84.6,177] </td><td>(6.62,Inf] </td><td>(3.17e-05,0.000123]</td><td>(82.9,91.1]</td><td>0.001214216</td></tr>\n",
       "\t<tr><td>(4.01,Inf]</td><td>(84.6,177] </td><td>(6.62,Inf] </td><td>(0.000123,0.000766]</td><td>(0,74.9]   </td><td>0.001214216</td></tr>\n",
       "\t<tr><td>(4.01,Inf]</td><td>(84.6,177] </td><td>(6.62,Inf] </td><td>(0.000123,0.000766]</td><td>(74.9,82.9]</td><td>0.001214216</td></tr>\n",
       "\t<tr><td>(4.01,Inf]</td><td>(84.6,177] </td><td>(6.62,Inf] </td><td>(0.000123,0.000766]</td><td>(82.9,91.1]</td><td>0.001214216</td></tr>\n",
       "\t<tr><td>(4.01,Inf]</td><td>(84.6,177] </td><td>(6.62,Inf] </td><td>(0.000766,Inf]     </td><td>(0,74.9]   </td><td>0.001214216</td></tr>\n",
       "\t<tr><td>(4.01,Inf]</td><td>(84.6,177] </td><td>(6.62,Inf] </td><td>(0.000766,Inf]     </td><td>(82.9,91.1]</td><td>0.001214216</td></tr>\n",
       "\t<tr><td>(4.01,Inf]</td><td>(177,Inf]  </td><td>(2.64,6.62]</td><td>(0.000123,0.000766]</td><td>(0,74.9]   </td><td>0.001214216</td></tr>\n",
       "\t<tr><td>(4.01,Inf]</td><td>(177,Inf]  </td><td>(2.64,6.62]</td><td>(0.000123,0.000766]</td><td>(82.9,91.1]</td><td>0.001214216</td></tr>\n",
       "\t<tr><td>(4.01,Inf]</td><td>(177,Inf]  </td><td>(6.62,Inf] </td><td>(3.17e-05,0.000123]</td><td>(0,74.9]   </td><td>0.001214216</td></tr>\n",
       "\t<tr><td>(4.01,Inf]</td><td>(177,Inf]  </td><td>(6.62,Inf] </td><td>(0.000766,Inf]     </td><td>(0,74.9]   </td><td>0.001214216</td></tr>\n",
       "\t<tr><td>(4.01,Inf]</td><td>(177,Inf]  </td><td>(6.62,Inf] </td><td>(0.000766,Inf]     </td><td>(74.9,82.9]</td><td>0.001214216</td></tr>\n",
       "\t<tr><td>(4.01,Inf]</td><td>(177,Inf]  </td><td>(6.62,Inf] </td><td>(0.000766,Inf]     </td><td>(82.9,91.1]</td><td>0.001214216</td></tr>\n",
       "</tbody>\n",
       "</table>\n"
      ],
      "text/latex": [
       "A grouped_df: 112 × 6\n",
       "\\begin{tabular}{r|llllll}\n",
       " med\\_bed\\_bin & pop\\_density\\_bin & nurses\\_midwives\\_bin & confirmed\\_rate\\_bin & gov\\_resp\\_bin & coef\\\\\n",
       " <fct> & <fct> & <fct> & <fct> & <fct> & <dbl>\\\\\n",
       "\\hline\n",
       "\t (0,1.3{]}   & (0,30.5{]}    & (0,1.15{]}    & (0,3.17e-05{]}        & (0,74.9{]}    & 0.001214216\\\\\n",
       "\t (0,1.3{]}   & (0,30.5{]}    & (0,1.15{]}    & (0,3.17e-05{]}        & (74.9,82.9{]} & 0.001214216\\\\\n",
       "\t (0,1.3{]}   & (0,30.5{]}    & (0,1.15{]}    & (3.17e-05,0.000123{]} & (82.9,91.1{]} & 0.001214216\\\\\n",
       "\t (0,1.3{]}   & (0,30.5{]}    & (1.15,2.64{]} & (0,3.17e-05{]}        & (82.9,91.1{]} & 0.001214216\\\\\n",
       "\t (0,1.3{]}   & (0,30.5{]}    & (1.15,2.64{]} & (3.17e-05,0.000123{]} & (0,74.9{]}    & 0.001214216\\\\\n",
       "\t (0,1.3{]}   & (0,30.5{]}    & (1.15,2.64{]} & (3.17e-05,0.000123{]} & (91.1,Inf{]}  & 0.001214216\\\\\n",
       "\t (0,1.3{]}   & (30.5,84.6{]} & (0,1.15{]}    & (0,3.17e-05{]}        & (0,74.9{]}    & 0.001214216\\\\\n",
       "\t (0,1.3{]}   & (30.5,84.6{]} & (0,1.15{]}    & (0,3.17e-05{]}        & (74.9,82.9{]} & 0.001214216\\\\\n",
       "\t (0,1.3{]}   & (30.5,84.6{]} & (0,1.15{]}    & (0,3.17e-05{]}        & (82.9,91.1{]} & 0.001214216\\\\\n",
       "\t (0,1.3{]}   & (30.5,84.6{]} & (0,1.15{]}    & (3.17e-05,0.000123{]} & (0,74.9{]}    & 0.001214216\\\\\n",
       "\t (0,1.3{]}   & (30.5,84.6{]} & (0,1.15{]}    & (3.17e-05,0.000123{]} & (82.9,91.1{]} & 0.001214216\\\\\n",
       "\t (0,1.3{]}   & (30.5,84.6{]} & (0,1.15{]}    & (3.17e-05,0.000123{]} & (91.1,Inf{]}  & 0.001214216\\\\\n",
       "\t (0,1.3{]}   & (30.5,84.6{]} & (1.15,2.64{]} & (0,3.17e-05{]}        & (0,74.9{]}    & 0.001214216\\\\\n",
       "\t (0,1.3{]}   & (84.6,177{]}  & (0,1.15{]}    & (0,3.17e-05{]}        & (74.9,82.9{]} & 0.001214216\\\\\n",
       "\t (0,1.3{]}   & (84.6,177{]}  & (0,1.15{]}    & (0,3.17e-05{]}        & (91.1,Inf{]}  & 0.001214216\\\\\n",
       "\t (0,1.3{]}   & (84.6,177{]}  & (0,1.15{]}    & (3.17e-05,0.000123{]} & (91.1,Inf{]}  & 0.001214216\\\\\n",
       "\t (0,1.3{]}   & (84.6,177{]}  & (0,1.15{]}    & (0.000123,0.000766{]} & (0,74.9{]}    & 0.001214216\\\\\n",
       "\t (0,1.3{]}   & (84.6,177{]}  & (1.15,2.64{]} & (3.17e-05,0.000123{]} & (0,74.9{]}    & 0.001214216\\\\\n",
       "\t (0,1.3{]}   & (84.6,177{]}  & (2.64,6.62{]} & (0.000766,Inf{]}      & (82.9,91.1{]} & 0.001214216\\\\\n",
       "\t (0,1.3{]}   & (177,Inf{]}   & (0,1.15{]}    & (0,3.17e-05{]}        & (0,74.9{]}    & 0.001214216\\\\\n",
       "\t (0,1.3{]}   & (177,Inf{]}   & (0,1.15{]}    & (0,3.17e-05{]}        & (74.9,82.9{]} & 0.001214216\\\\\n",
       "\t (0,1.3{]}   & (177,Inf{]}   & (0,1.15{]}    & (3.17e-05,0.000123{]} & (74.9,82.9{]} & 0.001214216\\\\\n",
       "\t (0,1.3{]}   & (177,Inf{]}   & (0,1.15{]}    & (3.17e-05,0.000123{]} & (91.1,Inf{]}  & 0.001214216\\\\\n",
       "\t (0,1.3{]}   & (177,Inf{]}   & (1.15,2.64{]} & (0,3.17e-05{]}        & (82.9,91.1{]} & 0.001214216\\\\\n",
       "\t (0,1.3{]}   & (177,Inf{]}   & (1.15,2.64{]} & (0,3.17e-05{]}        & (91.1,Inf{]}  & 0.001214216\\\\\n",
       "\t (0,1.3{]}   & (177,Inf{]}   & (1.15,2.64{]} & (3.17e-05,0.000123{]} & (91.1,Inf{]}  & 0.001214216\\\\\n",
       "\t (0,1.3{]}   & (177,Inf{]}   & (2.64,6.62{]} & (0.000766,Inf{]}      & (82.9,91.1{]} & 0.001214216\\\\\n",
       "\t (1.3,2.3{]} & (0,30.5{]}    & (0,1.15{]}    & (0,3.17e-05{]}        & (0,74.9{]}    & 0.001214216\\\\\n",
       "\t (1.3,2.3{]} & (0,30.5{]}    & (0,1.15{]}    & (0.000123,0.000766{]} & (74.9,82.9{]} & 0.001214216\\\\\n",
       "\t (1.3,2.3{]} & (0,30.5{]}    & (1.15,2.64{]} & (3.17e-05,0.000123{]} & (74.9,82.9{]} & 0.001214216\\\\\n",
       "\t ... & ... & ... & ... & ... & ...\\\\\n",
       "\t (2.3,4.01{]} & (177,Inf{]}   & (2.64,6.62{]} & (0.000766,Inf{]}      & (91.1,Inf{]}  & 0.001214216\\\\\n",
       "\t (2.3,4.01{]} & (177,Inf{]}   & (6.62,Inf{]}  & (0.000766,Inf{]}      & (74.9,82.9{]} & 0.001214216\\\\\n",
       "\t (4.01,Inf{]} & (0,30.5{]}    & (0,1.15{]}    & (0,3.17e-05{]}        & (82.9,91.1{]} & 0.001214216\\\\\n",
       "\t (4.01,Inf{]} & (0,30.5{]}    & (1.15,2.64{]} & (3.17e-05,0.000123{]} & (0,74.9{]}    & 0.001214216\\\\\n",
       "\t (4.01,Inf{]} & (0,30.5{]}    & (1.15,2.64{]} & (3.17e-05,0.000123{]} & (82.9,91.1{]} & 0.001214216\\\\\n",
       "\t (4.01,Inf{]} & (0,30.5{]}    & (2.64,6.62{]} & (0,3.17e-05{]}        & (0,74.9{]}    & 0.001214216\\\\\n",
       "\t (4.01,Inf{]} & (0,30.5{]}    & (2.64,6.62{]} & (0.000766,Inf{]}      & (74.9,82.9{]} & 0.001214216\\\\\n",
       "\t (4.01,Inf{]} & (0,30.5{]}    & (6.62,Inf{]}  & (0.000123,0.000766{]} & (74.9,82.9{]} & 0.001214216\\\\\n",
       "\t (4.01,Inf{]} & (0,30.5{]}    & (6.62,Inf{]}  & (0.000766,Inf{]}      & (0,74.9{]}    & 0.001214216\\\\\n",
       "\t (4.01,Inf{]} & (30.5,84.6{]} & (2.64,6.62{]} & (3.17e-05,0.000123{]} & (82.9,91.1{]} & 0.001214216\\\\\n",
       "\t (4.01,Inf{]} & (30.5,84.6{]} & (2.64,6.62{]} & (0.000123,0.000766{]} & (0,74.9{]}    & 0.001214216\\\\\n",
       "\t (4.01,Inf{]} & (30.5,84.6{]} & (2.64,6.62{]} & (0.000123,0.000766{]} & (74.9,82.9{]} & 0.001214216\\\\\n",
       "\t (4.01,Inf{]} & (30.5,84.6{]} & (2.64,6.62{]} & (0.000123,0.000766{]} & (82.9,91.1{]} & 0.001214216\\\\\n",
       "\t (4.01,Inf{]} & (30.5,84.6{]} & (2.64,6.62{]} & (0.000766,Inf{]}      & (91.1,Inf{]}  & 0.001214216\\\\\n",
       "\t (4.01,Inf{]} & (30.5,84.6{]} & (6.62,Inf{]}  & (0.000123,0.000766{]} & (91.1,Inf{]}  & 0.001214216\\\\\n",
       "\t (4.01,Inf{]} & (84.6,177{]}  & (1.15,2.64{]} & (3.17e-05,0.000123{]} & (0,74.9{]}    & 0.001214216\\\\\n",
       "\t (4.01,Inf{]} & (84.6,177{]}  & (2.64,6.62{]} & (0.000123,0.000766{]} & (82.9,91.1{]} & 0.001214216\\\\\n",
       "\t (4.01,Inf{]} & (84.6,177{]}  & (2.64,6.62{]} & (0.000766,Inf{]}      & (82.9,91.1{]} & 0.001214216\\\\\n",
       "\t (4.01,Inf{]} & (84.6,177{]}  & (6.62,Inf{]}  & (3.17e-05,0.000123{]} & (82.9,91.1{]} & 0.001214216\\\\\n",
       "\t (4.01,Inf{]} & (84.6,177{]}  & (6.62,Inf{]}  & (0.000123,0.000766{]} & (0,74.9{]}    & 0.001214216\\\\\n",
       "\t (4.01,Inf{]} & (84.6,177{]}  & (6.62,Inf{]}  & (0.000123,0.000766{]} & (74.9,82.9{]} & 0.001214216\\\\\n",
       "\t (4.01,Inf{]} & (84.6,177{]}  & (6.62,Inf{]}  & (0.000123,0.000766{]} & (82.9,91.1{]} & 0.001214216\\\\\n",
       "\t (4.01,Inf{]} & (84.6,177{]}  & (6.62,Inf{]}  & (0.000766,Inf{]}      & (0,74.9{]}    & 0.001214216\\\\\n",
       "\t (4.01,Inf{]} & (84.6,177{]}  & (6.62,Inf{]}  & (0.000766,Inf{]}      & (82.9,91.1{]} & 0.001214216\\\\\n",
       "\t (4.01,Inf{]} & (177,Inf{]}   & (2.64,6.62{]} & (0.000123,0.000766{]} & (0,74.9{]}    & 0.001214216\\\\\n",
       "\t (4.01,Inf{]} & (177,Inf{]}   & (2.64,6.62{]} & (0.000123,0.000766{]} & (82.9,91.1{]} & 0.001214216\\\\\n",
       "\t (4.01,Inf{]} & (177,Inf{]}   & (6.62,Inf{]}  & (3.17e-05,0.000123{]} & (0,74.9{]}    & 0.001214216\\\\\n",
       "\t (4.01,Inf{]} & (177,Inf{]}   & (6.62,Inf{]}  & (0.000766,Inf{]}      & (0,74.9{]}    & 0.001214216\\\\\n",
       "\t (4.01,Inf{]} & (177,Inf{]}   & (6.62,Inf{]}  & (0.000766,Inf{]}      & (74.9,82.9{]} & 0.001214216\\\\\n",
       "\t (4.01,Inf{]} & (177,Inf{]}   & (6.62,Inf{]}  & (0.000766,Inf{]}      & (82.9,91.1{]} & 0.001214216\\\\\n",
       "\\end{tabular}\n"
      ],
      "text/markdown": [
       "\n",
       "A grouped_df: 112 × 6\n",
       "\n",
       "| med_bed_bin &lt;fct&gt; | pop_density_bin &lt;fct&gt; | nurses_midwives_bin &lt;fct&gt; | confirmed_rate_bin &lt;fct&gt; | gov_resp_bin &lt;fct&gt; | coef &lt;dbl&gt; |\n",
       "|---|---|---|---|---|---|\n",
       "| (0,1.3]   | (0,30.5]    | (0,1.15]    | (0,3.17e-05]        | (0,74.9]    | 0.001214216 |\n",
       "| (0,1.3]   | (0,30.5]    | (0,1.15]    | (0,3.17e-05]        | (74.9,82.9] | 0.001214216 |\n",
       "| (0,1.3]   | (0,30.5]    | (0,1.15]    | (3.17e-05,0.000123] | (82.9,91.1] | 0.001214216 |\n",
       "| (0,1.3]   | (0,30.5]    | (1.15,2.64] | (0,3.17e-05]        | (82.9,91.1] | 0.001214216 |\n",
       "| (0,1.3]   | (0,30.5]    | (1.15,2.64] | (3.17e-05,0.000123] | (0,74.9]    | 0.001214216 |\n",
       "| (0,1.3]   | (0,30.5]    | (1.15,2.64] | (3.17e-05,0.000123] | (91.1,Inf]  | 0.001214216 |\n",
       "| (0,1.3]   | (30.5,84.6] | (0,1.15]    | (0,3.17e-05]        | (0,74.9]    | 0.001214216 |\n",
       "| (0,1.3]   | (30.5,84.6] | (0,1.15]    | (0,3.17e-05]        | (74.9,82.9] | 0.001214216 |\n",
       "| (0,1.3]   | (30.5,84.6] | (0,1.15]    | (0,3.17e-05]        | (82.9,91.1] | 0.001214216 |\n",
       "| (0,1.3]   | (30.5,84.6] | (0,1.15]    | (3.17e-05,0.000123] | (0,74.9]    | 0.001214216 |\n",
       "| (0,1.3]   | (30.5,84.6] | (0,1.15]    | (3.17e-05,0.000123] | (82.9,91.1] | 0.001214216 |\n",
       "| (0,1.3]   | (30.5,84.6] | (0,1.15]    | (3.17e-05,0.000123] | (91.1,Inf]  | 0.001214216 |\n",
       "| (0,1.3]   | (30.5,84.6] | (1.15,2.64] | (0,3.17e-05]        | (0,74.9]    | 0.001214216 |\n",
       "| (0,1.3]   | (84.6,177]  | (0,1.15]    | (0,3.17e-05]        | (74.9,82.9] | 0.001214216 |\n",
       "| (0,1.3]   | (84.6,177]  | (0,1.15]    | (0,3.17e-05]        | (91.1,Inf]  | 0.001214216 |\n",
       "| (0,1.3]   | (84.6,177]  | (0,1.15]    | (3.17e-05,0.000123] | (91.1,Inf]  | 0.001214216 |\n",
       "| (0,1.3]   | (84.6,177]  | (0,1.15]    | (0.000123,0.000766] | (0,74.9]    | 0.001214216 |\n",
       "| (0,1.3]   | (84.6,177]  | (1.15,2.64] | (3.17e-05,0.000123] | (0,74.9]    | 0.001214216 |\n",
       "| (0,1.3]   | (84.6,177]  | (2.64,6.62] | (0.000766,Inf]      | (82.9,91.1] | 0.001214216 |\n",
       "| (0,1.3]   | (177,Inf]   | (0,1.15]    | (0,3.17e-05]        | (0,74.9]    | 0.001214216 |\n",
       "| (0,1.3]   | (177,Inf]   | (0,1.15]    | (0,3.17e-05]        | (74.9,82.9] | 0.001214216 |\n",
       "| (0,1.3]   | (177,Inf]   | (0,1.15]    | (3.17e-05,0.000123] | (74.9,82.9] | 0.001214216 |\n",
       "| (0,1.3]   | (177,Inf]   | (0,1.15]    | (3.17e-05,0.000123] | (91.1,Inf]  | 0.001214216 |\n",
       "| (0,1.3]   | (177,Inf]   | (1.15,2.64] | (0,3.17e-05]        | (82.9,91.1] | 0.001214216 |\n",
       "| (0,1.3]   | (177,Inf]   | (1.15,2.64] | (0,3.17e-05]        | (91.1,Inf]  | 0.001214216 |\n",
       "| (0,1.3]   | (177,Inf]   | (1.15,2.64] | (3.17e-05,0.000123] | (91.1,Inf]  | 0.001214216 |\n",
       "| (0,1.3]   | (177,Inf]   | (2.64,6.62] | (0.000766,Inf]      | (82.9,91.1] | 0.001214216 |\n",
       "| (1.3,2.3] | (0,30.5]    | (0,1.15]    | (0,3.17e-05]        | (0,74.9]    | 0.001214216 |\n",
       "| (1.3,2.3] | (0,30.5]    | (0,1.15]    | (0.000123,0.000766] | (74.9,82.9] | 0.001214216 |\n",
       "| (1.3,2.3] | (0,30.5]    | (1.15,2.64] | (3.17e-05,0.000123] | (74.9,82.9] | 0.001214216 |\n",
       "| ... | ... | ... | ... | ... | ... |\n",
       "| (2.3,4.01] | (177,Inf]   | (2.64,6.62] | (0.000766,Inf]      | (91.1,Inf]  | 0.001214216 |\n",
       "| (2.3,4.01] | (177,Inf]   | (6.62,Inf]  | (0.000766,Inf]      | (74.9,82.9] | 0.001214216 |\n",
       "| (4.01,Inf] | (0,30.5]    | (0,1.15]    | (0,3.17e-05]        | (82.9,91.1] | 0.001214216 |\n",
       "| (4.01,Inf] | (0,30.5]    | (1.15,2.64] | (3.17e-05,0.000123] | (0,74.9]    | 0.001214216 |\n",
       "| (4.01,Inf] | (0,30.5]    | (1.15,2.64] | (3.17e-05,0.000123] | (82.9,91.1] | 0.001214216 |\n",
       "| (4.01,Inf] | (0,30.5]    | (2.64,6.62] | (0,3.17e-05]        | (0,74.9]    | 0.001214216 |\n",
       "| (4.01,Inf] | (0,30.5]    | (2.64,6.62] | (0.000766,Inf]      | (74.9,82.9] | 0.001214216 |\n",
       "| (4.01,Inf] | (0,30.5]    | (6.62,Inf]  | (0.000123,0.000766] | (74.9,82.9] | 0.001214216 |\n",
       "| (4.01,Inf] | (0,30.5]    | (6.62,Inf]  | (0.000766,Inf]      | (0,74.9]    | 0.001214216 |\n",
       "| (4.01,Inf] | (30.5,84.6] | (2.64,6.62] | (3.17e-05,0.000123] | (82.9,91.1] | 0.001214216 |\n",
       "| (4.01,Inf] | (30.5,84.6] | (2.64,6.62] | (0.000123,0.000766] | (0,74.9]    | 0.001214216 |\n",
       "| (4.01,Inf] | (30.5,84.6] | (2.64,6.62] | (0.000123,0.000766] | (74.9,82.9] | 0.001214216 |\n",
       "| (4.01,Inf] | (30.5,84.6] | (2.64,6.62] | (0.000123,0.000766] | (82.9,91.1] | 0.001214216 |\n",
       "| (4.01,Inf] | (30.5,84.6] | (2.64,6.62] | (0.000766,Inf]      | (91.1,Inf]  | 0.001214216 |\n",
       "| (4.01,Inf] | (30.5,84.6] | (6.62,Inf]  | (0.000123,0.000766] | (91.1,Inf]  | 0.001214216 |\n",
       "| (4.01,Inf] | (84.6,177]  | (1.15,2.64] | (3.17e-05,0.000123] | (0,74.9]    | 0.001214216 |\n",
       "| (4.01,Inf] | (84.6,177]  | (2.64,6.62] | (0.000123,0.000766] | (82.9,91.1] | 0.001214216 |\n",
       "| (4.01,Inf] | (84.6,177]  | (2.64,6.62] | (0.000766,Inf]      | (82.9,91.1] | 0.001214216 |\n",
       "| (4.01,Inf] | (84.6,177]  | (6.62,Inf]  | (3.17e-05,0.000123] | (82.9,91.1] | 0.001214216 |\n",
       "| (4.01,Inf] | (84.6,177]  | (6.62,Inf]  | (0.000123,0.000766] | (0,74.9]    | 0.001214216 |\n",
       "| (4.01,Inf] | (84.6,177]  | (6.62,Inf]  | (0.000123,0.000766] | (74.9,82.9] | 0.001214216 |\n",
       "| (4.01,Inf] | (84.6,177]  | (6.62,Inf]  | (0.000123,0.000766] | (82.9,91.1] | 0.001214216 |\n",
       "| (4.01,Inf] | (84.6,177]  | (6.62,Inf]  | (0.000766,Inf]      | (0,74.9]    | 0.001214216 |\n",
       "| (4.01,Inf] | (84.6,177]  | (6.62,Inf]  | (0.000766,Inf]      | (82.9,91.1] | 0.001214216 |\n",
       "| (4.01,Inf] | (177,Inf]   | (2.64,6.62] | (0.000123,0.000766] | (0,74.9]    | 0.001214216 |\n",
       "| (4.01,Inf] | (177,Inf]   | (2.64,6.62] | (0.000123,0.000766] | (82.9,91.1] | 0.001214216 |\n",
       "| (4.01,Inf] | (177,Inf]   | (6.62,Inf]  | (3.17e-05,0.000123] | (0,74.9]    | 0.001214216 |\n",
       "| (4.01,Inf] | (177,Inf]   | (6.62,Inf]  | (0.000766,Inf]      | (0,74.9]    | 0.001214216 |\n",
       "| (4.01,Inf] | (177,Inf]   | (6.62,Inf]  | (0.000766,Inf]      | (74.9,82.9] | 0.001214216 |\n",
       "| (4.01,Inf] | (177,Inf]   | (6.62,Inf]  | (0.000766,Inf]      | (82.9,91.1] | 0.001214216 |\n",
       "\n"
      ],
      "text/plain": [
       "    med_bed_bin pop_density_bin nurses_midwives_bin confirmed_rate_bin \n",
       "1   (0,1.3]     (0,30.5]        (0,1.15]            (0,3.17e-05]       \n",
       "2   (0,1.3]     (0,30.5]        (0,1.15]            (0,3.17e-05]       \n",
       "3   (0,1.3]     (0,30.5]        (0,1.15]            (3.17e-05,0.000123]\n",
       "4   (0,1.3]     (0,30.5]        (1.15,2.64]         (0,3.17e-05]       \n",
       "5   (0,1.3]     (0,30.5]        (1.15,2.64]         (3.17e-05,0.000123]\n",
       "6   (0,1.3]     (0,30.5]        (1.15,2.64]         (3.17e-05,0.000123]\n",
       "7   (0,1.3]     (30.5,84.6]     (0,1.15]            (0,3.17e-05]       \n",
       "8   (0,1.3]     (30.5,84.6]     (0,1.15]            (0,3.17e-05]       \n",
       "9   (0,1.3]     (30.5,84.6]     (0,1.15]            (0,3.17e-05]       \n",
       "10  (0,1.3]     (30.5,84.6]     (0,1.15]            (3.17e-05,0.000123]\n",
       "11  (0,1.3]     (30.5,84.6]     (0,1.15]            (3.17e-05,0.000123]\n",
       "12  (0,1.3]     (30.5,84.6]     (0,1.15]            (3.17e-05,0.000123]\n",
       "13  (0,1.3]     (30.5,84.6]     (1.15,2.64]         (0,3.17e-05]       \n",
       "14  (0,1.3]     (84.6,177]      (0,1.15]            (0,3.17e-05]       \n",
       "15  (0,1.3]     (84.6,177]      (0,1.15]            (0,3.17e-05]       \n",
       "16  (0,1.3]     (84.6,177]      (0,1.15]            (3.17e-05,0.000123]\n",
       "17  (0,1.3]     (84.6,177]      (0,1.15]            (0.000123,0.000766]\n",
       "18  (0,1.3]     (84.6,177]      (1.15,2.64]         (3.17e-05,0.000123]\n",
       "19  (0,1.3]     (84.6,177]      (2.64,6.62]         (0.000766,Inf]     \n",
       "20  (0,1.3]     (177,Inf]       (0,1.15]            (0,3.17e-05]       \n",
       "21  (0,1.3]     (177,Inf]       (0,1.15]            (0,3.17e-05]       \n",
       "22  (0,1.3]     (177,Inf]       (0,1.15]            (3.17e-05,0.000123]\n",
       "23  (0,1.3]     (177,Inf]       (0,1.15]            (3.17e-05,0.000123]\n",
       "24  (0,1.3]     (177,Inf]       (1.15,2.64]         (0,3.17e-05]       \n",
       "25  (0,1.3]     (177,Inf]       (1.15,2.64]         (0,3.17e-05]       \n",
       "26  (0,1.3]     (177,Inf]       (1.15,2.64]         (3.17e-05,0.000123]\n",
       "27  (0,1.3]     (177,Inf]       (2.64,6.62]         (0.000766,Inf]     \n",
       "28  (1.3,2.3]   (0,30.5]        (0,1.15]            (0,3.17e-05]       \n",
       "29  (1.3,2.3]   (0,30.5]        (0,1.15]            (0.000123,0.000766]\n",
       "30  (1.3,2.3]   (0,30.5]        (1.15,2.64]         (3.17e-05,0.000123]\n",
       "... ...         ...             ...                 ...                \n",
       "83  (2.3,4.01]  (177,Inf]       (2.64,6.62]         (0.000766,Inf]     \n",
       "84  (2.3,4.01]  (177,Inf]       (6.62,Inf]          (0.000766,Inf]     \n",
       "85  (4.01,Inf]  (0,30.5]        (0,1.15]            (0,3.17e-05]       \n",
       "86  (4.01,Inf]  (0,30.5]        (1.15,2.64]         (3.17e-05,0.000123]\n",
       "87  (4.01,Inf]  (0,30.5]        (1.15,2.64]         (3.17e-05,0.000123]\n",
       "88  (4.01,Inf]  (0,30.5]        (2.64,6.62]         (0,3.17e-05]       \n",
       "89  (4.01,Inf]  (0,30.5]        (2.64,6.62]         (0.000766,Inf]     \n",
       "90  (4.01,Inf]  (0,30.5]        (6.62,Inf]          (0.000123,0.000766]\n",
       "91  (4.01,Inf]  (0,30.5]        (6.62,Inf]          (0.000766,Inf]     \n",
       "92  (4.01,Inf]  (30.5,84.6]     (2.64,6.62]         (3.17e-05,0.000123]\n",
       "93  (4.01,Inf]  (30.5,84.6]     (2.64,6.62]         (0.000123,0.000766]\n",
       "94  (4.01,Inf]  (30.5,84.6]     (2.64,6.62]         (0.000123,0.000766]\n",
       "95  (4.01,Inf]  (30.5,84.6]     (2.64,6.62]         (0.000123,0.000766]\n",
       "96  (4.01,Inf]  (30.5,84.6]     (2.64,6.62]         (0.000766,Inf]     \n",
       "97  (4.01,Inf]  (30.5,84.6]     (6.62,Inf]          (0.000123,0.000766]\n",
       "98  (4.01,Inf]  (84.6,177]      (1.15,2.64]         (3.17e-05,0.000123]\n",
       "99  (4.01,Inf]  (84.6,177]      (2.64,6.62]         (0.000123,0.000766]\n",
       "100 (4.01,Inf]  (84.6,177]      (2.64,6.62]         (0.000766,Inf]     \n",
       "101 (4.01,Inf]  (84.6,177]      (6.62,Inf]          (3.17e-05,0.000123]\n",
       "102 (4.01,Inf]  (84.6,177]      (6.62,Inf]          (0.000123,0.000766]\n",
       "103 (4.01,Inf]  (84.6,177]      (6.62,Inf]          (0.000123,0.000766]\n",
       "104 (4.01,Inf]  (84.6,177]      (6.62,Inf]          (0.000123,0.000766]\n",
       "105 (4.01,Inf]  (84.6,177]      (6.62,Inf]          (0.000766,Inf]     \n",
       "106 (4.01,Inf]  (84.6,177]      (6.62,Inf]          (0.000766,Inf]     \n",
       "107 (4.01,Inf]  (177,Inf]       (2.64,6.62]         (0.000123,0.000766]\n",
       "108 (4.01,Inf]  (177,Inf]       (2.64,6.62]         (0.000123,0.000766]\n",
       "109 (4.01,Inf]  (177,Inf]       (6.62,Inf]          (3.17e-05,0.000123]\n",
       "110 (4.01,Inf]  (177,Inf]       (6.62,Inf]          (0.000766,Inf]     \n",
       "111 (4.01,Inf]  (177,Inf]       (6.62,Inf]          (0.000766,Inf]     \n",
       "112 (4.01,Inf]  (177,Inf]       (6.62,Inf]          (0.000766,Inf]     \n",
       "    gov_resp_bin coef       \n",
       "1   (0,74.9]     0.001214216\n",
       "2   (74.9,82.9]  0.001214216\n",
       "3   (82.9,91.1]  0.001214216\n",
       "4   (82.9,91.1]  0.001214216\n",
       "5   (0,74.9]     0.001214216\n",
       "6   (91.1,Inf]   0.001214216\n",
       "7   (0,74.9]     0.001214216\n",
       "8   (74.9,82.9]  0.001214216\n",
       "9   (82.9,91.1]  0.001214216\n",
       "10  (0,74.9]     0.001214216\n",
       "11  (82.9,91.1]  0.001214216\n",
       "12  (91.1,Inf]   0.001214216\n",
       "13  (0,74.9]     0.001214216\n",
       "14  (74.9,82.9]  0.001214216\n",
       "15  (91.1,Inf]   0.001214216\n",
       "16  (91.1,Inf]   0.001214216\n",
       "17  (0,74.9]     0.001214216\n",
       "18  (0,74.9]     0.001214216\n",
       "19  (82.9,91.1]  0.001214216\n",
       "20  (0,74.9]     0.001214216\n",
       "21  (74.9,82.9]  0.001214216\n",
       "22  (74.9,82.9]  0.001214216\n",
       "23  (91.1,Inf]   0.001214216\n",
       "24  (82.9,91.1]  0.001214216\n",
       "25  (91.1,Inf]   0.001214216\n",
       "26  (91.1,Inf]   0.001214216\n",
       "27  (82.9,91.1]  0.001214216\n",
       "28  (0,74.9]     0.001214216\n",
       "29  (74.9,82.9]  0.001214216\n",
       "30  (74.9,82.9]  0.001214216\n",
       "... ...          ...        \n",
       "83  (91.1,Inf]   0.001214216\n",
       "84  (74.9,82.9]  0.001214216\n",
       "85  (82.9,91.1]  0.001214216\n",
       "86  (0,74.9]     0.001214216\n",
       "87  (82.9,91.1]  0.001214216\n",
       "88  (0,74.9]     0.001214216\n",
       "89  (74.9,82.9]  0.001214216\n",
       "90  (74.9,82.9]  0.001214216\n",
       "91  (0,74.9]     0.001214216\n",
       "92  (82.9,91.1]  0.001214216\n",
       "93  (0,74.9]     0.001214216\n",
       "94  (74.9,82.9]  0.001214216\n",
       "95  (82.9,91.1]  0.001214216\n",
       "96  (91.1,Inf]   0.001214216\n",
       "97  (91.1,Inf]   0.001214216\n",
       "98  (0,74.9]     0.001214216\n",
       "99  (82.9,91.1]  0.001214216\n",
       "100 (82.9,91.1]  0.001214216\n",
       "101 (82.9,91.1]  0.001214216\n",
       "102 (0,74.9]     0.001214216\n",
       "103 (74.9,82.9]  0.001214216\n",
       "104 (82.9,91.1]  0.001214216\n",
       "105 (0,74.9]     0.001214216\n",
       "106 (82.9,91.1]  0.001214216\n",
       "107 (0,74.9]     0.001214216\n",
       "108 (82.9,91.1]  0.001214216\n",
       "109 (0,74.9]     0.001214216\n",
       "110 (0,74.9]     0.001214216\n",
       "111 (74.9,82.9]  0.001214216\n",
       "112 (82.9,91.1]  0.001214216"
      ]
     },
     "metadata": {},
     "output_type": "display_data"
    }
   ],
   "source": [
    "\n",
    "df_bin %>%\n",
    "    group_by(med_bed_bin, pop_density_bin, \n",
    "             nurses_midwives_bin, confirmed_rate_bin, \n",
    "             gov_resp_bin) %>%\n",
    "    summarize(coef = lm(rate ~ age_65up, .)$coefficients[2])"
   ]
  },
  {
   "cell_type": "code",
   "execution_count": 141,
   "metadata": {},
   "outputs": [
    {
     "data": {
      "text/html": [
       "<strong>age_65up:</strong> 0.00312907528103036"
      ],
      "text/latex": [
       "\\textbf{age\\textbackslash{}\\_65up:} 0.00312907528103036"
      ],
      "text/markdown": [
       "**age_65up:** 0.00312907528103036"
      ],
      "text/plain": [
       "   age_65up \n",
       "0.003129075 "
      ]
     },
     "metadata": {},
     "output_type": "display_data"
    }
   ],
   "source": [
    "# add med_bed and gov_resp to the base model\n",
    "fit <- lm(rate ~ age_65up + med_bed_bin, df_bin)\n",
    "\n",
    "fit$coefficients[2]"
   ]
  },
  {
   "cell_type": "code",
   "execution_count": 132,
   "metadata": {},
   "outputs": [
    {
     "ename": "ERROR",
     "evalue": "Error in if (d2 == 0L) {: missing value where TRUE/FALSE needed\n",
     "output_type": "error",
     "traceback": [
      "Error in if (d2 == 0L) {: missing value where TRUE/FALSE needed\nTraceback:\n",
      "1. apply(df_bin, 1:5, sum)"
     ]
    }
   ],
   "source": [
    "lm_se <- function(df) {\n",
    "    df %>% lm()\n",
    "}\n",
    "\n",
    "# check strata properties\n",
    "n_strata <- apply(df_bin, 1:5, sum)\n",
    "# est_strata.or <- apply(df_bin, 3:5, logOR.est)\n",
    "# se_strata <- apply(df_bin, 3:5, logOR.se)\n",
    "\n",
    "# sort(se.strata)"
   ]
  },
  {
   "cell_type": "code",
   "execution_count": 133,
   "metadata": {},
   "outputs": [
    {
     "ename": "ERROR",
     "evalue": "Error in if (d2 == 0L) {: missing value where TRUE/FALSE needed\n",
     "output_type": "error",
     "traceback": [
      "Error in if (d2 == 0L) {: missing value where TRUE/FALSE needed\nTraceback:\n",
      "1. apply(tb, 2:3, print)"
     ]
    }
   ],
   "source": [
    "tb <- tibble(a = c(1,2, 3,4),\n",
    "             b = c(-1, -2, -3, -4),\n",
    "             c = c(1, 2,3 ,4))\n",
    "apply(tb, 2:3, print)"
   ]
  },
  {
   "cell_type": "markdown",
   "metadata": {},
   "source": [
    "## 8. Summary and conclusions\n"
   ]
  },
  {
   "cell_type": "code",
   "execution_count": null,
   "metadata": {},
   "outputs": [],
   "source": []
  },
  {
   "cell_type": "code",
   "execution_count": null,
   "metadata": {},
   "outputs": [],
   "source": []
  },
  {
   "cell_type": "code",
   "execution_count": null,
   "metadata": {},
   "outputs": [],
   "source": []
  }
 ],
 "metadata": {
  "kernelspec": {
   "display_name": "R",
   "language": "R",
   "name": "ir"
  },
  "language_info": {
   "codemirror_mode": "r",
   "file_extension": ".r",
   "mimetype": "text/x-r-source",
   "name": "R",
   "pygments_lexer": "r",
   "version": "3.6.1"
  }
 },
 "nbformat": 4,
 "nbformat_minor": 4
}
