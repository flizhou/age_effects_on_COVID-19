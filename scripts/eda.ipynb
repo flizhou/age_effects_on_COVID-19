{
 "cells": [
  {
   "cell_type": "markdown",
   "metadata": {},
   "source": [
    "# Exploratory data analysis"
   ]
  },
  {
   "cell_type": "markdown",
   "metadata": {},
   "source": [
    "## 1. Dataset description\n",
    "\n",
    "\n"
   ]
  },
  {
   "cell_type": "markdown",
   "metadata": {},
   "source": [
    "## 2. Load the dataset"
   ]
  },
  {
   "cell_type": "code",
   "execution_count": 1,
   "metadata": {},
   "outputs": [
    {
     "name": "stderr",
     "output_type": "stream",
     "text": [
      "Warning message:\n",
      "\"package 'testthat' was built under R version 3.6.2\"\n",
      "-- \u001b[1mAttaching packages\u001b[22m --------------------------------------- tidyverse 1.3.0 --\n",
      "\n",
      "\u001b[32mv\u001b[39m \u001b[34mggplot2\u001b[39m 3.2.1     \u001b[32mv\u001b[39m \u001b[34mpurrr  \u001b[39m 0.3.3\n",
      "\u001b[32mv\u001b[39m \u001b[34mtibble \u001b[39m 2.1.3     \u001b[32mv\u001b[39m \u001b[34mdplyr  \u001b[39m 0.8.3\n",
      "\u001b[32mv\u001b[39m \u001b[34mtidyr  \u001b[39m 1.0.0     \u001b[32mv\u001b[39m \u001b[34mstringr\u001b[39m 1.4.0\n",
      "\u001b[32mv\u001b[39m \u001b[34mreadr  \u001b[39m 1.3.1     \u001b[32mv\u001b[39m \u001b[34mforcats\u001b[39m 0.4.0\n",
      "\n",
      "-- \u001b[1mConflicts\u001b[22m ------------------------------------------ tidyverse_conflicts() --\n",
      "\u001b[31mx\u001b[39m \u001b[34mdplyr\u001b[39m::\u001b[32mfilter()\u001b[39m  masks \u001b[34mstats\u001b[39m::filter()\n",
      "\u001b[31mx\u001b[39m \u001b[34mpurrr\u001b[39m::\u001b[32mis_null()\u001b[39m masks \u001b[34mtestthat\u001b[39m::is_null()\n",
      "\u001b[31mx\u001b[39m \u001b[34mdplyr\u001b[39m::\u001b[32mlag()\u001b[39m     masks \u001b[34mstats\u001b[39m::lag()\n",
      "\u001b[31mx\u001b[39m \u001b[34mdplyr\u001b[39m::\u001b[32mmatches()\u001b[39m masks \u001b[34mtidyr\u001b[39m::matches(), \u001b[34mtestthat\u001b[39m::matches()\n",
      "\u001b[31mx\u001b[39m \u001b[34mdplyr\u001b[39m::\u001b[32mselect()\u001b[39m  masks \u001b[34mMASS\u001b[39m::select()\n",
      "\n"
     ]
    }
   ],
   "source": [
    "library(testthat)\n",
    "library(MASS)\n",
    "library(tidyverse)"
   ]
  },
  {
   "cell_type": "code",
   "execution_count": 2,
   "metadata": {},
   "outputs": [
    {
     "name": "stderr",
     "output_type": "stream",
     "text": [
      "Parsed with column specification:\n",
      "cols(\n",
      "  .default = col_double(),\n",
      "  `Province/State` = \u001b[31mcol_character()\u001b[39m,\n",
      "  `Country/Region` = \u001b[31mcol_character()\u001b[39m\n",
      ")\n",
      "\n",
      "See spec(...) for full column specifications.\n",
      "\n",
      "Parsed with column specification:\n",
      "cols(\n",
      "  .default = col_double(),\n",
      "  `Province/State` = \u001b[31mcol_character()\u001b[39m,\n",
      "  `Country/Region` = \u001b[31mcol_character()\u001b[39m\n",
      ")\n",
      "\n",
      "See spec(...) for full column specifications.\n",
      "\n"
     ]
    }
   ],
   "source": [
    "url <- \"https://github.com/CSSEGISandData/COVID-19/blob/master/csse_covid_19_data/csse_covid_19_time_series\"\n",
    "covid19_confirmed <- read_csv(paste(url, \"/time_series_covid19_confirmed_global.csv?raw=true\", sep = \"\"))\n",
    "covid19_death <- read_csv(paste(url, \"/time_series_covid19_deaths_global.csv?raw=true\", sep = \"\"))"
   ]
  },
  {
   "cell_type": "code",
   "execution_count": 3,
   "metadata": {},
   "outputs": [
    {
     "data": {
      "text/html": [
       "<table>\n",
       "<caption>A tibble: 6 × 99</caption>\n",
       "<thead>\n",
       "\t<tr><th scope=col>Province/State</th><th scope=col>Country/Region</th><th scope=col>Lat</th><th scope=col>Long</th><th scope=col>1/22/20</th><th scope=col>1/23/20</th><th scope=col>1/24/20</th><th scope=col>1/25/20</th><th scope=col>1/26/20</th><th scope=col>1/27/20</th><th scope=col>...</th><th scope=col>4/16/20</th><th scope=col>4/17/20</th><th scope=col>4/18/20</th><th scope=col>4/19/20</th><th scope=col>4/20/20</th><th scope=col>4/21/20</th><th scope=col>4/22/20</th><th scope=col>4/23/20</th><th scope=col>4/24/20</th><th scope=col>4/25/20</th></tr>\n",
       "\t<tr><th scope=col>&lt;chr&gt;</th><th scope=col>&lt;chr&gt;</th><th scope=col>&lt;dbl&gt;</th><th scope=col>&lt;dbl&gt;</th><th scope=col>&lt;dbl&gt;</th><th scope=col>&lt;dbl&gt;</th><th scope=col>&lt;dbl&gt;</th><th scope=col>&lt;dbl&gt;</th><th scope=col>&lt;dbl&gt;</th><th scope=col>&lt;dbl&gt;</th><th scope=col>...</th><th scope=col>&lt;dbl&gt;</th><th scope=col>&lt;dbl&gt;</th><th scope=col>&lt;dbl&gt;</th><th scope=col>&lt;dbl&gt;</th><th scope=col>&lt;dbl&gt;</th><th scope=col>&lt;dbl&gt;</th><th scope=col>&lt;dbl&gt;</th><th scope=col>&lt;dbl&gt;</th><th scope=col>&lt;dbl&gt;</th><th scope=col>&lt;dbl&gt;</th></tr>\n",
       "</thead>\n",
       "<tbody>\n",
       "\t<tr><td>NA</td><td>Afghanistan        </td><td> 33.0000</td><td> 65.0000</td><td>0</td><td>0</td><td>0</td><td>0</td><td>0</td><td>0</td><td>...</td><td> 840</td><td> 906</td><td> 933</td><td> 996</td><td>1026</td><td>1092</td><td>1176</td><td>1279</td><td>1351</td><td>1463</td></tr>\n",
       "\t<tr><td>NA</td><td>Albania            </td><td> 41.1533</td><td> 20.1683</td><td>0</td><td>0</td><td>0</td><td>0</td><td>0</td><td>0</td><td>...</td><td> 518</td><td> 539</td><td> 548</td><td> 562</td><td> 584</td><td> 609</td><td> 634</td><td> 663</td><td> 678</td><td> 712</td></tr>\n",
       "\t<tr><td>NA</td><td>Algeria            </td><td> 28.0339</td><td>  1.6596</td><td>0</td><td>0</td><td>0</td><td>0</td><td>0</td><td>0</td><td>...</td><td>2268</td><td>2418</td><td>2534</td><td>2629</td><td>2718</td><td>2811</td><td>2910</td><td>3007</td><td>3127</td><td>3256</td></tr>\n",
       "\t<tr><td>NA</td><td>Andorra            </td><td> 42.5063</td><td>  1.5218</td><td>0</td><td>0</td><td>0</td><td>0</td><td>0</td><td>0</td><td>...</td><td> 673</td><td> 696</td><td> 704</td><td> 713</td><td> 717</td><td> 717</td><td> 723</td><td> 723</td><td> 731</td><td> 738</td></tr>\n",
       "\t<tr><td>NA</td><td>Angola             </td><td>-11.2027</td><td> 17.8739</td><td>0</td><td>0</td><td>0</td><td>0</td><td>0</td><td>0</td><td>...</td><td>  19</td><td>  19</td><td>  24</td><td>  24</td><td>  24</td><td>  24</td><td>  25</td><td>  25</td><td>  25</td><td>  25</td></tr>\n",
       "\t<tr><td>NA</td><td>Antigua and Barbuda</td><td> 17.0608</td><td>-61.7964</td><td>0</td><td>0</td><td>0</td><td>0</td><td>0</td><td>0</td><td>...</td><td>  23</td><td>  23</td><td>  23</td><td>  23</td><td>  23</td><td>  23</td><td>  24</td><td>  24</td><td>  24</td><td>  24</td></tr>\n",
       "</tbody>\n",
       "</table>\n"
      ],
      "text/latex": [
       "A tibble: 6 × 99\n",
       "\\begin{tabular}{r|lllllllllllllllllllllllllllllllllllllllllllllllllllllllllllllllllllllllllllllllllllllllllllllllllll}\n",
       " Province/State & Country/Region & Lat & Long & 1/22/20 & 1/23/20 & 1/24/20 & 1/25/20 & 1/26/20 & 1/27/20 & 1/28/20 & 1/29/20 & 1/30/20 & 1/31/20 & 2/1/20 & 2/2/20 & 2/3/20 & 2/4/20 & 2/5/20 & 2/6/20 & 2/7/20 & 2/8/20 & 2/9/20 & 2/10/20 & 2/11/20 & 2/12/20 & 2/13/20 & 2/14/20 & 2/15/20 & 2/16/20 & 2/17/20 & 2/18/20 & 2/19/20 & 2/20/20 & 2/21/20 & 2/22/20 & 2/23/20 & 2/24/20 & 2/25/20 & 2/26/20 & 2/27/20 & 2/28/20 & 2/29/20 & 3/1/20 & 3/2/20 & 3/3/20 & 3/4/20 & 3/5/20 & 3/6/20 & 3/7/20 & 3/8/20 & 3/9/20 & 3/10/20 & 3/11/20 & 3/12/20 & 3/13/20 & 3/14/20 & 3/15/20 & 3/16/20 & 3/17/20 & 3/18/20 & 3/19/20 & 3/20/20 & 3/21/20 & 3/22/20 & 3/23/20 & 3/24/20 & 3/25/20 & 3/26/20 & 3/27/20 & 3/28/20 & 3/29/20 & 3/30/20 & 3/31/20 & 4/1/20 & 4/2/20 & 4/3/20 & 4/4/20 & 4/5/20 & 4/6/20 & 4/7/20 & 4/8/20 & 4/9/20 & 4/10/20 & 4/11/20 & 4/12/20 & 4/13/20 & 4/14/20 & 4/15/20 & 4/16/20 & 4/17/20 & 4/18/20 & 4/19/20 & 4/20/20 & 4/21/20 & 4/22/20 & 4/23/20 & 4/24/20 & 4/25/20\\\\\n",
       " <chr> & <chr> & <dbl> & <dbl> & <dbl> & <dbl> & <dbl> & <dbl> & <dbl> & <dbl> & <dbl> & <dbl> & <dbl> & <dbl> & <dbl> & <dbl> & <dbl> & <dbl> & <dbl> & <dbl> & <dbl> & <dbl> & <dbl> & <dbl> & <dbl> & <dbl> & <dbl> & <dbl> & <dbl> & <dbl> & <dbl> & <dbl> & <dbl> & <dbl> & <dbl> & <dbl> & <dbl> & <dbl> & <dbl> & <dbl> & <dbl> & <dbl> & <dbl> & <dbl> & <dbl> & <dbl> & <dbl> & <dbl> & <dbl> & <dbl> & <dbl> & <dbl> & <dbl> & <dbl> & <dbl> & <dbl> & <dbl> & <dbl> & <dbl> & <dbl> & <dbl> & <dbl> & <dbl> & <dbl> & <dbl> & <dbl> & <dbl> & <dbl> & <dbl> & <dbl> & <dbl> & <dbl> & <dbl> & <dbl> & <dbl> & <dbl> & <dbl> & <dbl> & <dbl> & <dbl> & <dbl> & <dbl> & <dbl> & <dbl> & <dbl> & <dbl> & <dbl> & <dbl> & <dbl> & <dbl> & <dbl> & <dbl> & <dbl> & <dbl> & <dbl> & <dbl> & <dbl> & <dbl> & <dbl>\\\\\n",
       "\\hline\n",
       "\t NA & Afghanistan         &  33.0000 &  65.0000 & 0 & 0 & 0 & 0 & 0 & 0 & 0 & 0 & 0 & 0 & 0 & 0 & 0 & 0 & 0 & 0 & 0 & 0 & 0 & 0 & 0 & 0 & 0 & 0 & 0 & 0 & 0 & 0 & 0 & 0 & 0 & 0 & 0 & 1 & 1 & 1 & 1 & 1 & 1 & 1 & 1 & 1 &  1 &  1 &  1 &  1 &  4 &  4 &  5 &  7 &  7 &  7 & 11 & 16 & 21 & 22 & 22 & 22 & 24 &  24 &  40 &  40 &  74 &  84 &  94 & 110 & 110 & 120 & 170 & 174 & 237 & 273 &  281 &  299 &  349 &  367 &  423 &  444 &  484 &  521 &  555 &  607 &  665 &  714 &  784 &  840 &  906 &  933 &  996 & 1026 & 1092 & 1176 & 1279 & 1351 & 1463\\\\\n",
       "\t NA & Albania             &  41.1533 &  20.1683 & 0 & 0 & 0 & 0 & 0 & 0 & 0 & 0 & 0 & 0 & 0 & 0 & 0 & 0 & 0 & 0 & 0 & 0 & 0 & 0 & 0 & 0 & 0 & 0 & 0 & 0 & 0 & 0 & 0 & 0 & 0 & 0 & 0 & 0 & 0 & 0 & 0 & 0 & 0 & 0 & 0 & 0 &  0 &  0 &  0 &  0 &  0 &  2 & 10 & 12 & 23 & 33 & 38 & 42 & 51 & 55 & 59 & 64 & 70 &  76 &  89 & 104 & 123 & 146 & 174 & 186 & 197 & 212 & 223 & 243 & 259 & 277 &  304 &  333 &  361 &  377 &  383 &  400 &  409 &  416 &  433 &  446 &  467 &  475 &  494 &  518 &  539 &  548 &  562 &  584 &  609 &  634 &  663 &  678 &  712\\\\\n",
       "\t NA & Algeria             &  28.0339 &   1.6596 & 0 & 0 & 0 & 0 & 0 & 0 & 0 & 0 & 0 & 0 & 0 & 0 & 0 & 0 & 0 & 0 & 0 & 0 & 0 & 0 & 0 & 0 & 0 & 0 & 0 & 0 & 0 & 0 & 0 & 0 & 0 & 0 & 0 & 0 & 1 & 1 & 1 & 1 & 1 & 1 & 3 & 5 & 12 & 12 & 17 & 17 & 19 & 20 & 20 & 20 & 24 & 26 & 37 & 48 & 54 & 60 & 74 & 87 & 90 & 139 & 201 & 230 & 264 & 302 & 367 & 409 & 454 & 511 & 584 & 716 & 847 & 986 & 1171 & 1251 & 1320 & 1423 & 1468 & 1572 & 1666 & 1761 & 1825 & 1914 & 1983 & 2070 & 2160 & 2268 & 2418 & 2534 & 2629 & 2718 & 2811 & 2910 & 3007 & 3127 & 3256\\\\\n",
       "\t NA & Andorra             &  42.5063 &   1.5218 & 0 & 0 & 0 & 0 & 0 & 0 & 0 & 0 & 0 & 0 & 0 & 0 & 0 & 0 & 0 & 0 & 0 & 0 & 0 & 0 & 0 & 0 & 0 & 0 & 0 & 0 & 0 & 0 & 0 & 0 & 0 & 0 & 0 & 0 & 0 & 0 & 0 & 0 & 0 & 0 & 1 & 1 &  1 &  1 &  1 &  1 &  1 &  1 &  1 &  1 &  1 &  1 &  1 &  1 &  2 & 39 & 39 & 53 & 75 &  88 & 113 & 133 & 164 & 188 & 224 & 267 & 308 & 334 & 370 & 376 & 390 & 428 &  439 &  466 &  501 &  525 &  545 &  564 &  583 &  601 &  601 &  638 &  646 &  659 &  673 &  673 &  696 &  704 &  713 &  717 &  717 &  723 &  723 &  731 &  738\\\\\n",
       "\t NA & Angola              & -11.2027 &  17.8739 & 0 & 0 & 0 & 0 & 0 & 0 & 0 & 0 & 0 & 0 & 0 & 0 & 0 & 0 & 0 & 0 & 0 & 0 & 0 & 0 & 0 & 0 & 0 & 0 & 0 & 0 & 0 & 0 & 0 & 0 & 0 & 0 & 0 & 0 & 0 & 0 & 0 & 0 & 0 & 0 & 0 & 0 &  0 &  0 &  0 &  0 &  0 &  0 &  0 &  0 &  0 &  0 &  0 &  0 &  0 &  0 &  0 &  0 &  1 &   2 &   2 &   3 &   3 &   3 &   4 &   4 &   5 &   7 &   7 &   7 &   8 &   8 &    8 &   10 &   14 &   16 &   17 &   19 &   19 &   19 &   19 &   19 &   19 &   19 &   19 &   19 &   19 &   24 &   24 &   24 &   24 &   25 &   25 &   25 &   25\\\\\n",
       "\t NA & Antigua and Barbuda &  17.0608 & -61.7964 & 0 & 0 & 0 & 0 & 0 & 0 & 0 & 0 & 0 & 0 & 0 & 0 & 0 & 0 & 0 & 0 & 0 & 0 & 0 & 0 & 0 & 0 & 0 & 0 & 0 & 0 & 0 & 0 & 0 & 0 & 0 & 0 & 0 & 0 & 0 & 0 & 0 & 0 & 0 & 0 & 0 & 0 &  0 &  0 &  0 &  0 &  0 &  0 &  0 &  0 &  0 &  1 &  1 &  1 &  1 &  1 &  1 &  1 &  1 &   1 &   1 &   3 &   3 &   3 &   7 &   7 &   7 &   7 &   7 &   7 &   7 &   9 &   15 &   15 &   15 &   15 &   19 &   19 &   19 &   19 &   21 &   21 &   23 &   23 &   23 &   23 &   23 &   23 &   23 &   23 &   23 &   24 &   24 &   24 &   24\\\\\n",
       "\\end{tabular}\n"
      ],
      "text/markdown": [
       "\n",
       "A tibble: 6 × 99\n",
       "\n",
       "| Province/State &lt;chr&gt; | Country/Region &lt;chr&gt; | Lat &lt;dbl&gt; | Long &lt;dbl&gt; | 1/22/20 &lt;dbl&gt; | 1/23/20 &lt;dbl&gt; | 1/24/20 &lt;dbl&gt; | 1/25/20 &lt;dbl&gt; | 1/26/20 &lt;dbl&gt; | 1/27/20 &lt;dbl&gt; | ... ... | 4/16/20 &lt;dbl&gt; | 4/17/20 &lt;dbl&gt; | 4/18/20 &lt;dbl&gt; | 4/19/20 &lt;dbl&gt; | 4/20/20 &lt;dbl&gt; | 4/21/20 &lt;dbl&gt; | 4/22/20 &lt;dbl&gt; | 4/23/20 &lt;dbl&gt; | 4/24/20 &lt;dbl&gt; | 4/25/20 &lt;dbl&gt; |\n",
       "|---|---|---|---|---|---|---|---|---|---|---|---|---|---|---|---|---|---|---|---|---|\n",
       "| NA | Afghanistan         |  33.0000 |  65.0000 | 0 | 0 | 0 | 0 | 0 | 0 | ... |  840 |  906 |  933 |  996 | 1026 | 1092 | 1176 | 1279 | 1351 | 1463 |\n",
       "| NA | Albania             |  41.1533 |  20.1683 | 0 | 0 | 0 | 0 | 0 | 0 | ... |  518 |  539 |  548 |  562 |  584 |  609 |  634 |  663 |  678 |  712 |\n",
       "| NA | Algeria             |  28.0339 |   1.6596 | 0 | 0 | 0 | 0 | 0 | 0 | ... | 2268 | 2418 | 2534 | 2629 | 2718 | 2811 | 2910 | 3007 | 3127 | 3256 |\n",
       "| NA | Andorra             |  42.5063 |   1.5218 | 0 | 0 | 0 | 0 | 0 | 0 | ... |  673 |  696 |  704 |  713 |  717 |  717 |  723 |  723 |  731 |  738 |\n",
       "| NA | Angola              | -11.2027 |  17.8739 | 0 | 0 | 0 | 0 | 0 | 0 | ... |   19 |   19 |   24 |   24 |   24 |   24 |   25 |   25 |   25 |   25 |\n",
       "| NA | Antigua and Barbuda |  17.0608 | -61.7964 | 0 | 0 | 0 | 0 | 0 | 0 | ... |   23 |   23 |   23 |   23 |   23 |   23 |   24 |   24 |   24 |   24 |\n",
       "\n"
      ],
      "text/plain": [
       "  Province/State Country/Region      Lat      Long     1/22/20 1/23/20 1/24/20\n",
       "1 NA             Afghanistan          33.0000  65.0000 0       0       0      \n",
       "2 NA             Albania              41.1533  20.1683 0       0       0      \n",
       "3 NA             Algeria              28.0339   1.6596 0       0       0      \n",
       "4 NA             Andorra              42.5063   1.5218 0       0       0      \n",
       "5 NA             Angola              -11.2027  17.8739 0       0       0      \n",
       "6 NA             Antigua and Barbuda  17.0608 -61.7964 0       0       0      \n",
       "  1/25/20 1/26/20 1/27/20 ... 4/16/20 4/17/20 4/18/20 4/19/20 4/20/20 4/21/20\n",
       "1 0       0       0       ...  840     906     933     996    1026    1092   \n",
       "2 0       0       0       ...  518     539     548     562     584     609   \n",
       "3 0       0       0       ... 2268    2418    2534    2629    2718    2811   \n",
       "4 0       0       0       ...  673     696     704     713     717     717   \n",
       "5 0       0       0       ...   19      19      24      24      24      24   \n",
       "6 0       0       0       ...   23      23      23      23      23      23   \n",
       "  4/22/20 4/23/20 4/24/20 4/25/20\n",
       "1 1176    1279    1351    1463   \n",
       "2  634     663     678     712   \n",
       "3 2910    3007    3127    3256   \n",
       "4  723     723     731     738   \n",
       "5   25      25      25      25   \n",
       "6   24      24      24      24   "
      ]
     },
     "metadata": {},
     "output_type": "display_data"
    }
   ],
   "source": [
    "head(covid19_confirmed)"
   ]
  },
  {
   "cell_type": "code",
   "execution_count": 4,
   "metadata": {},
   "outputs": [
    {
     "name": "stderr",
     "output_type": "stream",
     "text": [
      "Parsed with column specification:\n",
      "cols(\n",
      "  country = \u001b[31mcol_character()\u001b[39m,\n",
      "  age_1564 = \u001b[32mcol_double()\u001b[39m,\n",
      "  age_64up = \u001b[32mcol_double()\u001b[39m,\n",
      "  age_0014 = \u001b[32mcol_double()\u001b[39m,\n",
      "  smok = \u001b[32mcol_double()\u001b[39m,\n",
      "  air_polution = \u001b[32mcol_double()\u001b[39m,\n",
      "  doctor = \u001b[32mcol_double()\u001b[39m,\n",
      "  nurse_midwivies = \u001b[32mcol_double()\u001b[39m\n",
      ")\n",
      "\n"
     ]
    }
   ],
   "source": [
    "country_data <- read_csv(\"../data/clean_data/country_data.csv\")"
   ]
  },
  {
   "cell_type": "code",
   "execution_count": 5,
   "metadata": {},
   "outputs": [
    {
     "data": {
      "text/html": [
       "<table>\n",
       "<caption>A tibble: 6 × 8</caption>\n",
       "<thead>\n",
       "\t<tr><th scope=col>country</th><th scope=col>age_1564</th><th scope=col>age_64up</th><th scope=col>age_0014</th><th scope=col>smok</th><th scope=col>air_polution</th><th scope=col>doctor</th><th scope=col>nurse_midwivies</th></tr>\n",
       "\t<tr><th scope=col>&lt;chr&gt;</th><th scope=col>&lt;dbl&gt;</th><th scope=col>&lt;dbl&gt;</th><th scope=col>&lt;dbl&gt;</th><th scope=col>&lt;dbl&gt;</th><th scope=col>&lt;dbl&gt;</th><th scope=col>&lt;dbl&gt;</th><th scope=col>&lt;dbl&gt;</th></tr>\n",
       "</thead>\n",
       "<tbody>\n",
       "\t<tr><td>Afghanistan   </td><td>54.32490</td><td> 2.584927</td><td>43.09018</td><td>  NA</td><td>56.91081</td><td>0.2907</td><td>    NA</td></tr>\n",
       "\t<tr><td>Albania       </td><td>68.58239</td><td>13.744736</td><td>17.67287</td><td>28.7</td><td>18.20060</td><td>    NA</td><td>    NA</td></tr>\n",
       "\t<tr><td>Algeria       </td><td>63.48882</td><td> 6.362497</td><td>30.14868</td><td>15.6</td><td>38.88401</td><td>    NA</td><td>    NA</td></tr>\n",
       "\t<tr><td>American Samoa</td><td>      NA</td><td>       NA</td><td>      NA</td><td>  NA</td><td>12.47382</td><td>    NA</td><td>    NA</td></tr>\n",
       "\t<tr><td>Andorra       </td><td>      NA</td><td>       NA</td><td>      NA</td><td>33.5</td><td>10.30762</td><td>3.3333</td><td>4.0128</td></tr>\n",
       "\t<tr><td>Angola        </td><td>50.97470</td><td> 2.216374</td><td>46.80892</td><td>  NA</td><td>32.38850</td><td>    NA</td><td>    NA</td></tr>\n",
       "</tbody>\n",
       "</table>\n"
      ],
      "text/latex": [
       "A tibble: 6 × 8\n",
       "\\begin{tabular}{r|llllllll}\n",
       " country & age\\_1564 & age\\_64up & age\\_0014 & smok & air\\_polution & doctor & nurse\\_midwivies\\\\\n",
       " <chr> & <dbl> & <dbl> & <dbl> & <dbl> & <dbl> & <dbl> & <dbl>\\\\\n",
       "\\hline\n",
       "\t Afghanistan    & 54.32490 &  2.584927 & 43.09018 &   NA & 56.91081 & 0.2907 &     NA\\\\\n",
       "\t Albania        & 68.58239 & 13.744736 & 17.67287 & 28.7 & 18.20060 &     NA &     NA\\\\\n",
       "\t Algeria        & 63.48882 &  6.362497 & 30.14868 & 15.6 & 38.88401 &     NA &     NA\\\\\n",
       "\t American Samoa &       NA &        NA &       NA &   NA & 12.47382 &     NA &     NA\\\\\n",
       "\t Andorra        &       NA &        NA &       NA & 33.5 & 10.30762 & 3.3333 & 4.0128\\\\\n",
       "\t Angola         & 50.97470 &  2.216374 & 46.80892 &   NA & 32.38850 &     NA &     NA\\\\\n",
       "\\end{tabular}\n"
      ],
      "text/markdown": [
       "\n",
       "A tibble: 6 × 8\n",
       "\n",
       "| country &lt;chr&gt; | age_1564 &lt;dbl&gt; | age_64up &lt;dbl&gt; | age_0014 &lt;dbl&gt; | smok &lt;dbl&gt; | air_polution &lt;dbl&gt; | doctor &lt;dbl&gt; | nurse_midwivies &lt;dbl&gt; |\n",
       "|---|---|---|---|---|---|---|---|\n",
       "| Afghanistan    | 54.32490 |  2.584927 | 43.09018 |   NA | 56.91081 | 0.2907 |     NA |\n",
       "| Albania        | 68.58239 | 13.744736 | 17.67287 | 28.7 | 18.20060 |     NA |     NA |\n",
       "| Algeria        | 63.48882 |  6.362497 | 30.14868 | 15.6 | 38.88401 |     NA |     NA |\n",
       "| American Samoa |       NA |        NA |       NA |   NA | 12.47382 |     NA |     NA |\n",
       "| Andorra        |       NA |        NA |       NA | 33.5 | 10.30762 | 3.3333 | 4.0128 |\n",
       "| Angola         | 50.97470 |  2.216374 | 46.80892 |   NA | 32.38850 |     NA |     NA |\n",
       "\n"
      ],
      "text/plain": [
       "  country        age_1564 age_64up  age_0014 smok air_polution doctor\n",
       "1 Afghanistan    54.32490  2.584927 43.09018   NA 56.91081     0.2907\n",
       "2 Albania        68.58239 13.744736 17.67287 28.7 18.20060         NA\n",
       "3 Algeria        63.48882  6.362497 30.14868 15.6 38.88401         NA\n",
       "4 American Samoa       NA        NA       NA   NA 12.47382         NA\n",
       "5 Andorra              NA        NA       NA 33.5 10.30762     3.3333\n",
       "6 Angola         50.97470  2.216374 46.80892   NA 32.38850         NA\n",
       "  nurse_midwivies\n",
       "1     NA         \n",
       "2     NA         \n",
       "3     NA         \n",
       "4     NA         \n",
       "5 4.0128         \n",
       "6     NA         "
      ]
     },
     "metadata": {},
     "output_type": "display_data"
    }
   ],
   "source": [
    "head(country_data)"
   ]
  },
  {
   "cell_type": "markdown",
   "metadata": {},
   "source": [
    "## 3. Explore the dataset"
   ]
  },
  {
   "cell_type": "code",
   "execution_count": 6,
   "metadata": {},
   "outputs": [
    {
     "data": {
      "text/html": [
       "<ol class=list-inline>\n",
       "\t<li>264</li>\n",
       "\t<li>99</li>\n",
       "</ol>\n"
      ],
      "text/latex": [
       "\\begin{enumerate*}\n",
       "\\item 264\n",
       "\\item 99\n",
       "\\end{enumerate*}\n"
      ],
      "text/markdown": [
       "1. 264\n",
       "2. 99\n",
       "\n",
       "\n"
      ],
      "text/plain": [
       "[1] 264  99"
      ]
     },
     "metadata": {},
     "output_type": "display_data"
    }
   ],
   "source": [
    "dim(covid19_confirmed)"
   ]
  },
  {
   "cell_type": "code",
   "execution_count": 7,
   "metadata": {},
   "outputs": [
    {
     "data": {
      "text/html": [
       "'4/25/20'"
      ],
      "text/latex": [
       "'4/25/20'"
      ],
      "text/markdown": [
       "'4/25/20'"
      ],
      "text/plain": [
       "[1] \"4/25/20\""
      ]
     },
     "metadata": {},
     "output_type": "display_data"
    }
   ],
   "source": [
    "colnames(covid19_confirmed)[length(covid19_confirmed)]"
   ]
  },
  {
   "cell_type": "code",
   "execution_count": 8,
   "metadata": {},
   "outputs": [
    {
     "data": {
      "text/html": [
       "<ol class=list-inline>\n",
       "\t<li>264</li>\n",
       "\t<li>99</li>\n",
       "</ol>\n"
      ],
      "text/latex": [
       "\\begin{enumerate*}\n",
       "\\item 264\n",
       "\\item 99\n",
       "\\end{enumerate*}\n"
      ],
      "text/markdown": [
       "1. 264\n",
       "2. 99\n",
       "\n",
       "\n"
      ],
      "text/plain": [
       "[1] 264  99"
      ]
     },
     "metadata": {},
     "output_type": "display_data"
    }
   ],
   "source": [
    "dim(covid19_death)"
   ]
  },
  {
   "cell_type": "code",
   "execution_count": 9,
   "metadata": {},
   "outputs": [
    {
     "data": {
      "text/html": [
       "'4/25/20'"
      ],
      "text/latex": [
       "'4/25/20'"
      ],
      "text/markdown": [
       "'4/25/20'"
      ],
      "text/plain": [
       "[1] \"4/25/20\""
      ]
     },
     "metadata": {},
     "output_type": "display_data"
    }
   ],
   "source": [
    "colnames(covid19_death)[length(covid19_death)]"
   ]
  },
  {
   "cell_type": "code",
   "execution_count": 10,
   "metadata": {},
   "outputs": [],
   "source": [
    "test_that(\"Column names of covid19_confirmed and covid19_death should be the same.\",\n",
    "          {expect_true(all(colnames(covid19_confirmed) == colnames(covid19_death)))\n",
    "          })"
   ]
  },
  {
   "cell_type": "code",
   "execution_count": 11,
   "metadata": {},
   "outputs": [],
   "source": [
    "test_that(\"The country column of covid19_confirmed and covid19_death should be the same.\",\n",
    "          {expect_true(all(covid19_confirmed[2] == covid19_death[2]))\n",
    "          })"
   ]
  },
  {
   "cell_type": "code",
   "execution_count": 12,
   "metadata": {},
   "outputs": [],
   "source": [
    "test_that(\"The last column of covid19_confirmed should not have missing values.\",\n",
    "          {expect_true(all(!is.na(covid19_confirmed[length(covid19_confirmed)])))\n",
    "          })"
   ]
  },
  {
   "cell_type": "code",
   "execution_count": 13,
   "metadata": {},
   "outputs": [],
   "source": [
    "test_that(\"The last column of covid19_death should not have missing values.\",\n",
    "          {expect_true(all(!is.na(covid19_death[length(covid19_death)])))\n",
    "          })"
   ]
  },
  {
   "cell_type": "code",
   "execution_count": 14,
   "metadata": {},
   "outputs": [
    {
     "data": {
      "text/html": [
       "<ol class=list-inline>\n",
       "\t<li>264</li>\n",
       "\t<li>8</li>\n",
       "</ol>\n"
      ],
      "text/latex": [
       "\\begin{enumerate*}\n",
       "\\item 264\n",
       "\\item 8\n",
       "\\end{enumerate*}\n"
      ],
      "text/markdown": [
       "1. 264\n",
       "2. 8\n",
       "\n",
       "\n"
      ],
      "text/plain": [
       "[1] 264   8"
      ]
     },
     "metadata": {},
     "output_type": "display_data"
    }
   ],
   "source": [
    "dim(country_data)"
   ]
  },
  {
   "cell_type": "markdown",
   "metadata": {},
   "source": [
    "## 4. Initial thoughts\n"
   ]
  },
  {
   "cell_type": "markdown",
   "metadata": {},
   "source": [
    "## 5. Wrangling"
   ]
  },
  {
   "cell_type": "code",
   "execution_count": 15,
   "metadata": {},
   "outputs": [],
   "source": [
    "confirmed <- covid19_confirmed[c(2, length(covid19_confirmed))]\n",
    "colnames(confirmed) = c(\"country\", \"n\")\n",
    "\n",
    "confirmed <- confirmed %>%\n",
    "    group_by(country) %>%\n",
    "    summarize(confirmed = sum(n))"
   ]
  },
  {
   "cell_type": "code",
   "execution_count": 16,
   "metadata": {},
   "outputs": [],
   "source": [
    "death <- covid19_death[c(2, length(covid19_death))]\n",
    "colnames(death) = c(\"country\", \"n\")\n",
    "\n",
    "death <- death %>%\n",
    "    group_by(country) %>%\n",
    "    summarize(death = sum(n))"
   ]
  },
  {
   "cell_type": "code",
   "execution_count": 17,
   "metadata": {},
   "outputs": [
    {
     "data": {
      "text/html": [
       "<table>\n",
       "<caption>A data.frame: 6 × 4</caption>\n",
       "<thead>\n",
       "\t<tr><th scope=col>country</th><th scope=col>confirmed</th><th scope=col>death</th><th scope=col>rate</th></tr>\n",
       "\t<tr><th scope=col>&lt;chr&gt;</th><th scope=col>&lt;dbl&gt;</th><th scope=col>&lt;dbl&gt;</th><th scope=col>&lt;dbl&gt;</th></tr>\n",
       "</thead>\n",
       "<tbody>\n",
       "\t<tr><td>Afghanistan        </td><td>1463</td><td> 47</td><td>0.03212577</td></tr>\n",
       "\t<tr><td>Albania            </td><td> 712</td><td> 27</td><td>0.03792135</td></tr>\n",
       "\t<tr><td>Algeria            </td><td>3256</td><td>419</td><td>0.12868550</td></tr>\n",
       "\t<tr><td>Andorra            </td><td> 738</td><td> 40</td><td>0.05420054</td></tr>\n",
       "\t<tr><td>Angola             </td><td>  25</td><td>  2</td><td>0.08000000</td></tr>\n",
       "\t<tr><td>Antigua and Barbuda</td><td>  24</td><td>  3</td><td>0.12500000</td></tr>\n",
       "</tbody>\n",
       "</table>\n"
      ],
      "text/latex": [
       "A data.frame: 6 × 4\n",
       "\\begin{tabular}{r|llll}\n",
       " country & confirmed & death & rate\\\\\n",
       " <chr> & <dbl> & <dbl> & <dbl>\\\\\n",
       "\\hline\n",
       "\t Afghanistan         & 1463 &  47 & 0.03212577\\\\\n",
       "\t Albania             &  712 &  27 & 0.03792135\\\\\n",
       "\t Algeria             & 3256 & 419 & 0.12868550\\\\\n",
       "\t Andorra             &  738 &  40 & 0.05420054\\\\\n",
       "\t Angola              &   25 &   2 & 0.08000000\\\\\n",
       "\t Antigua and Barbuda &   24 &   3 & 0.12500000\\\\\n",
       "\\end{tabular}\n"
      ],
      "text/markdown": [
       "\n",
       "A data.frame: 6 × 4\n",
       "\n",
       "| country &lt;chr&gt; | confirmed &lt;dbl&gt; | death &lt;dbl&gt; | rate &lt;dbl&gt; |\n",
       "|---|---|---|---|\n",
       "| Afghanistan         | 1463 |  47 | 0.03212577 |\n",
       "| Albania             |  712 |  27 | 0.03792135 |\n",
       "| Algeria             | 3256 | 419 | 0.12868550 |\n",
       "| Andorra             |  738 |  40 | 0.05420054 |\n",
       "| Angola              |   25 |   2 | 0.08000000 |\n",
       "| Antigua and Barbuda |   24 |   3 | 0.12500000 |\n",
       "\n"
      ],
      "text/plain": [
       "  country             confirmed death rate      \n",
       "1 Afghanistan         1463       47   0.03212577\n",
       "2 Albania              712       27   0.03792135\n",
       "3 Algeria             3256      419   0.12868550\n",
       "4 Andorra              738       40   0.05420054\n",
       "5 Angola                25        2   0.08000000\n",
       "6 Antigua and Barbuda   24        3   0.12500000"
      ]
     },
     "metadata": {},
     "output_type": "display_data"
    }
   ],
   "source": [
    "covid19 <- merge(confirmed, death, by = \"country\") %>%\n",
    "    mutate(rate = death / confirmed)\n",
    "head(covid19)"
   ]
  },
  {
   "cell_type": "code",
   "execution_count": 18,
   "metadata": {},
   "outputs": [
    {
     "data": {
      "text/html": [
       "<ol class=list-inline>\n",
       "\t<li>185</li>\n",
       "\t<li>4</li>\n",
       "</ol>\n"
      ],
      "text/latex": [
       "\\begin{enumerate*}\n",
       "\\item 185\n",
       "\\item 4\n",
       "\\end{enumerate*}\n"
      ],
      "text/markdown": [
       "1. 185\n",
       "2. 4\n",
       "\n",
       "\n"
      ],
      "text/plain": [
       "[1] 185   4"
      ]
     },
     "metadata": {},
     "output_type": "display_data"
    }
   ],
   "source": [
    "dim(covid19)"
   ]
  },
  {
   "cell_type": "code",
   "execution_count": 19,
   "metadata": {},
   "outputs": [
    {
     "data": {
      "text/html": [
       "<table>\n",
       "<caption>A data.frame: 0 × 4</caption>\n",
       "<thead>\n",
       "\t<tr><th scope=col>country</th><th scope=col>confirmed</th><th scope=col>death</th><th scope=col>rate</th></tr>\n",
       "\t<tr><th scope=col>&lt;chr&gt;</th><th scope=col>&lt;dbl&gt;</th><th scope=col>&lt;dbl&gt;</th><th scope=col>&lt;dbl&gt;</th></tr>\n",
       "</thead>\n",
       "<tbody>\n",
       "</tbody>\n",
       "</table>\n"
      ],
      "text/latex": [
       "A data.frame: 0 × 4\n",
       "\\begin{tabular}{r|llll}\n",
       " country & confirmed & death & rate\\\\\n",
       " <chr> & <dbl> & <dbl> & <dbl>\\\\\n",
       "\\hline\n",
       "\\end{tabular}\n"
      ],
      "text/markdown": [
       "\n",
       "A data.frame: 0 × 4\n",
       "\n",
       "| country &lt;chr&gt; | confirmed &lt;dbl&gt; | death &lt;dbl&gt; | rate &lt;dbl&gt; |\n",
       "|---|---|---|---|\n",
       "\n"
      ],
      "text/plain": [
       "     country confirmed death rate"
      ]
     },
     "metadata": {},
     "output_type": "display_data"
    }
   ],
   "source": [
    "covid19 %>%\n",
    "    filter(rate >= 1)"
   ]
  },
  {
   "cell_type": "code",
   "execution_count": 20,
   "metadata": {},
   "outputs": [
    {
     "data": {
      "text/html": [
       "<table>\n",
       "<caption>A data.frame: 26 × 4</caption>\n",
       "<thead>\n",
       "\t<tr><th scope=col>country</th><th scope=col>confirmed</th><th scope=col>death</th><th scope=col>rate</th></tr>\n",
       "\t<tr><th scope=col>&lt;chr&gt;</th><th scope=col>&lt;dbl&gt;</th><th scope=col>&lt;dbl&gt;</th><th scope=col>&lt;dbl&gt;</th></tr>\n",
       "</thead>\n",
       "<tbody>\n",
       "\t<tr><td>Bahamas                         </td><td>    78</td><td>   11</td><td>0.141025641</td></tr>\n",
       "\t<tr><td>Brunei                          </td><td>   138</td><td>    1</td><td>0.007246377</td></tr>\n",
       "\t<tr><td>Burma                           </td><td>   146</td><td>    5</td><td>0.034246575</td></tr>\n",
       "\t<tr><td>Congo (Brazzaville)             </td><td>   200</td><td>    6</td><td>0.030000000</td></tr>\n",
       "\t<tr><td>Congo (Kinshasa)                </td><td>   416</td><td>   28</td><td>0.067307692</td></tr>\n",
       "\t<tr><td>Czechia                         </td><td>  7352</td><td>  218</td><td>0.029651795</td></tr>\n",
       "\t<tr><td>Diamond Princess                </td><td>   712</td><td>   13</td><td>0.018258427</td></tr>\n",
       "\t<tr><td>Egypt                           </td><td>  4319</td><td>  307</td><td>0.071081269</td></tr>\n",
       "\t<tr><td>Gambia                          </td><td>    10</td><td>    1</td><td>0.100000000</td></tr>\n",
       "\t<tr><td>Holy See                        </td><td>     9</td><td>    0</td><td>0.000000000</td></tr>\n",
       "\t<tr><td>Iran                            </td><td> 89328</td><td> 5650</td><td>0.063250045</td></tr>\n",
       "\t<tr><td>Korea, South                    </td><td> 10728</td><td>  242</td><td>0.022557793</td></tr>\n",
       "\t<tr><td>Kyrgyzstan                      </td><td>   665</td><td>    8</td><td>0.012030075</td></tr>\n",
       "\t<tr><td>Laos                            </td><td>    19</td><td>    0</td><td>0.000000000</td></tr>\n",
       "\t<tr><td>MS Zaandam                      </td><td>     9</td><td>    2</td><td>0.222222222</td></tr>\n",
       "\t<tr><td>Russia                          </td><td> 74588</td><td>  681</td><td>0.009130155</td></tr>\n",
       "\t<tr><td>Saint Kitts and Nevis           </td><td>    15</td><td>    0</td><td>0.000000000</td></tr>\n",
       "\t<tr><td>Saint Lucia                     </td><td>    15</td><td>    0</td><td>0.000000000</td></tr>\n",
       "\t<tr><td>Saint Vincent and the Grenadines</td><td>    14</td><td>    0</td><td>0.000000000</td></tr>\n",
       "\t<tr><td>Slovakia                        </td><td>  1373</td><td>   17</td><td>0.012381646</td></tr>\n",
       "\t<tr><td>Syria                           </td><td>    42</td><td>    3</td><td>0.071428571</td></tr>\n",
       "\t<tr><td>Taiwan*                         </td><td>   429</td><td>    6</td><td>0.013986014</td></tr>\n",
       "\t<tr><td>US                              </td><td>938154</td><td>53755</td><td>0.057298695</td></tr>\n",
       "\t<tr><td>Venezuela                       </td><td>   323</td><td>   10</td><td>0.030959752</td></tr>\n",
       "\t<tr><td>Western Sahara                  </td><td>     6</td><td>    0</td><td>0.000000000</td></tr>\n",
       "\t<tr><td>Yemen                           </td><td>     1</td><td>    0</td><td>0.000000000</td></tr>\n",
       "</tbody>\n",
       "</table>\n"
      ],
      "text/latex": [
       "A data.frame: 26 × 4\n",
       "\\begin{tabular}{r|llll}\n",
       " country & confirmed & death & rate\\\\\n",
       " <chr> & <dbl> & <dbl> & <dbl>\\\\\n",
       "\\hline\n",
       "\t Bahamas                          &     78 &    11 & 0.141025641\\\\\n",
       "\t Brunei                           &    138 &     1 & 0.007246377\\\\\n",
       "\t Burma                            &    146 &     5 & 0.034246575\\\\\n",
       "\t Congo (Brazzaville)              &    200 &     6 & 0.030000000\\\\\n",
       "\t Congo (Kinshasa)                 &    416 &    28 & 0.067307692\\\\\n",
       "\t Czechia                          &   7352 &   218 & 0.029651795\\\\\n",
       "\t Diamond Princess                 &    712 &    13 & 0.018258427\\\\\n",
       "\t Egypt                            &   4319 &   307 & 0.071081269\\\\\n",
       "\t Gambia                           &     10 &     1 & 0.100000000\\\\\n",
       "\t Holy See                         &      9 &     0 & 0.000000000\\\\\n",
       "\t Iran                             &  89328 &  5650 & 0.063250045\\\\\n",
       "\t Korea, South                     &  10728 &   242 & 0.022557793\\\\\n",
       "\t Kyrgyzstan                       &    665 &     8 & 0.012030075\\\\\n",
       "\t Laos                             &     19 &     0 & 0.000000000\\\\\n",
       "\t MS Zaandam                       &      9 &     2 & 0.222222222\\\\\n",
       "\t Russia                           &  74588 &   681 & 0.009130155\\\\\n",
       "\t Saint Kitts and Nevis            &     15 &     0 & 0.000000000\\\\\n",
       "\t Saint Lucia                      &     15 &     0 & 0.000000000\\\\\n",
       "\t Saint Vincent and the Grenadines &     14 &     0 & 0.000000000\\\\\n",
       "\t Slovakia                         &   1373 &    17 & 0.012381646\\\\\n",
       "\t Syria                            &     42 &     3 & 0.071428571\\\\\n",
       "\t Taiwan*                          &    429 &     6 & 0.013986014\\\\\n",
       "\t US                               & 938154 & 53755 & 0.057298695\\\\\n",
       "\t Venezuela                        &    323 &    10 & 0.030959752\\\\\n",
       "\t Western Sahara                   &      6 &     0 & 0.000000000\\\\\n",
       "\t Yemen                            &      1 &     0 & 0.000000000\\\\\n",
       "\\end{tabular}\n"
      ],
      "text/markdown": [
       "\n",
       "A data.frame: 26 × 4\n",
       "\n",
       "| country &lt;chr&gt; | confirmed &lt;dbl&gt; | death &lt;dbl&gt; | rate &lt;dbl&gt; |\n",
       "|---|---|---|---|\n",
       "| Bahamas                          |     78 |    11 | 0.141025641 |\n",
       "| Brunei                           |    138 |     1 | 0.007246377 |\n",
       "| Burma                            |    146 |     5 | 0.034246575 |\n",
       "| Congo (Brazzaville)              |    200 |     6 | 0.030000000 |\n",
       "| Congo (Kinshasa)                 |    416 |    28 | 0.067307692 |\n",
       "| Czechia                          |   7352 |   218 | 0.029651795 |\n",
       "| Diamond Princess                 |    712 |    13 | 0.018258427 |\n",
       "| Egypt                            |   4319 |   307 | 0.071081269 |\n",
       "| Gambia                           |     10 |     1 | 0.100000000 |\n",
       "| Holy See                         |      9 |     0 | 0.000000000 |\n",
       "| Iran                             |  89328 |  5650 | 0.063250045 |\n",
       "| Korea, South                     |  10728 |   242 | 0.022557793 |\n",
       "| Kyrgyzstan                       |    665 |     8 | 0.012030075 |\n",
       "| Laos                             |     19 |     0 | 0.000000000 |\n",
       "| MS Zaandam                       |      9 |     2 | 0.222222222 |\n",
       "| Russia                           |  74588 |   681 | 0.009130155 |\n",
       "| Saint Kitts and Nevis            |     15 |     0 | 0.000000000 |\n",
       "| Saint Lucia                      |     15 |     0 | 0.000000000 |\n",
       "| Saint Vincent and the Grenadines |     14 |     0 | 0.000000000 |\n",
       "| Slovakia                         |   1373 |    17 | 0.012381646 |\n",
       "| Syria                            |     42 |     3 | 0.071428571 |\n",
       "| Taiwan*                          |    429 |     6 | 0.013986014 |\n",
       "| US                               | 938154 | 53755 | 0.057298695 |\n",
       "| Venezuela                        |    323 |    10 | 0.030959752 |\n",
       "| Western Sahara                   |      6 |     0 | 0.000000000 |\n",
       "| Yemen                            |      1 |     0 | 0.000000000 |\n",
       "\n"
      ],
      "text/plain": [
       "   country                          confirmed death rate       \n",
       "1  Bahamas                              78       11 0.141025641\n",
       "2  Brunei                              138        1 0.007246377\n",
       "3  Burma                               146        5 0.034246575\n",
       "4  Congo (Brazzaville)                 200        6 0.030000000\n",
       "5  Congo (Kinshasa)                    416       28 0.067307692\n",
       "6  Czechia                            7352      218 0.029651795\n",
       "7  Diamond Princess                    712       13 0.018258427\n",
       "8  Egypt                              4319      307 0.071081269\n",
       "9  Gambia                               10        1 0.100000000\n",
       "10 Holy See                              9        0 0.000000000\n",
       "11 Iran                              89328     5650 0.063250045\n",
       "12 Korea, South                      10728      242 0.022557793\n",
       "13 Kyrgyzstan                          665        8 0.012030075\n",
       "14 Laos                                 19        0 0.000000000\n",
       "15 MS Zaandam                            9        2 0.222222222\n",
       "16 Russia                            74588      681 0.009130155\n",
       "17 Saint Kitts and Nevis                15        0 0.000000000\n",
       "18 Saint Lucia                          15        0 0.000000000\n",
       "19 Saint Vincent and the Grenadines     14        0 0.000000000\n",
       "20 Slovakia                           1373       17 0.012381646\n",
       "21 Syria                                42        3 0.071428571\n",
       "22 Taiwan*                             429        6 0.013986014\n",
       "23 US                               938154    53755 0.057298695\n",
       "24 Venezuela                           323       10 0.030959752\n",
       "25 Western Sahara                        6        0 0.000000000\n",
       "26 Yemen                                 1        0 0.000000000"
      ]
     },
     "metadata": {},
     "output_type": "display_data"
    }
   ],
   "source": [
    "covid19 %>%\n",
    "    filter(!country %in% country_data$country)"
   ]
  },
  {
   "cell_type": "code",
   "execution_count": 21,
   "metadata": {},
   "outputs": [],
   "source": [
    "country_data <- country_data %>%\n",
    "    mutate(country = case_when(country == 'Bahamas, The' ~ 'Bahamas',\n",
    "                               country == 'Brunei Darussalam' ~ 'Brunei',\n",
    "                               country == 'Egypt, Arab Rep.' ~ 'Egypt',\n",
    "                               country == 'Gambia, The' ~ 'Gambia',\n",
    "                               country == 'Iran, Islamic Rep.' ~ 'Iran',\n",
    "                               country == 'Korea, Dem. People’s Rep.' ~ 'Korea, South',\n",
    "                               country == 'Czech Republic' ~ 'Czechia',\n",
    "                               country == 'Lao PDR' ~ 'Laos',\n",
    "                               country == 'Russian Federation' ~ 'Russia',\n",
    "                               country == 'St. Lucia' ~ 'Saint Lucia',\n",
    "                               country == 'St. Vincent and the Grenadines' ~ 'Saint Vincent and the Grenadines',\n",
    "                               country == 'Slovak Republic' ~ 'Slovakia',\n",
    "                               country == 'Syrian Arab Republic' ~ 'Syria',\n",
    "                               country == 'Venezuela, RB' ~ 'Venezuela',\n",
    "                               country == 'Sub-Saharan Africa' ~ 'Western Sahara',\n",
    "                               country == 'Yemen, Rep.' ~ 'Yemen',\n",
    "                               TRUE ~ country))"
   ]
  },
  {
   "cell_type": "code",
   "execution_count": 22,
   "metadata": {},
   "outputs": [],
   "source": [
    "covid19 <- covid19 %>%\n",
    "    mutate(country = case_when(country == 'Burma' ~ 'Myanmar',\n",
    "                               country == 'Congo (Brazzaville)' ~ 'Congo, Rep.',\n",
    "                               country == 'Congo (Kinshasa)' ~ 'Congo, Dem. Rep.',\n",
    "                               country == 'Kyrgyzstan' ~ 'Kyrgyz Republic',\n",
    "                               country == 'Kyrgyzstan' ~ 'Kyrgyz Republic',\n",
    "                               country == 'US' ~ 'United States',\n",
    "                               TRUE ~ country))"
   ]
  },
  {
   "cell_type": "code",
   "execution_count": 23,
   "metadata": {},
   "outputs": [
    {
     "data": {
      "text/html": [
       "<table>\n",
       "<caption>A data.frame: 5 × 4</caption>\n",
       "<thead>\n",
       "\t<tr><th scope=col>country</th><th scope=col>confirmed</th><th scope=col>death</th><th scope=col>rate</th></tr>\n",
       "\t<tr><th scope=col>&lt;chr&gt;</th><th scope=col>&lt;dbl&gt;</th><th scope=col>&lt;dbl&gt;</th><th scope=col>&lt;dbl&gt;</th></tr>\n",
       "</thead>\n",
       "<tbody>\n",
       "\t<tr><td>Diamond Princess     </td><td>712</td><td>13</td><td>0.01825843</td></tr>\n",
       "\t<tr><td>Holy See             </td><td>  9</td><td> 0</td><td>0.00000000</td></tr>\n",
       "\t<tr><td>MS Zaandam           </td><td>  9</td><td> 2</td><td>0.22222222</td></tr>\n",
       "\t<tr><td>Saint Kitts and Nevis</td><td> 15</td><td> 0</td><td>0.00000000</td></tr>\n",
       "\t<tr><td>Taiwan*              </td><td>429</td><td> 6</td><td>0.01398601</td></tr>\n",
       "</tbody>\n",
       "</table>\n"
      ],
      "text/latex": [
       "A data.frame: 5 × 4\n",
       "\\begin{tabular}{r|llll}\n",
       " country & confirmed & death & rate\\\\\n",
       " <chr> & <dbl> & <dbl> & <dbl>\\\\\n",
       "\\hline\n",
       "\t Diamond Princess      & 712 & 13 & 0.01825843\\\\\n",
       "\t Holy See              &   9 &  0 & 0.00000000\\\\\n",
       "\t MS Zaandam            &   9 &  2 & 0.22222222\\\\\n",
       "\t Saint Kitts and Nevis &  15 &  0 & 0.00000000\\\\\n",
       "\t Taiwan*               & 429 &  6 & 0.01398601\\\\\n",
       "\\end{tabular}\n"
      ],
      "text/markdown": [
       "\n",
       "A data.frame: 5 × 4\n",
       "\n",
       "| country &lt;chr&gt; | confirmed &lt;dbl&gt; | death &lt;dbl&gt; | rate &lt;dbl&gt; |\n",
       "|---|---|---|---|\n",
       "| Diamond Princess      | 712 | 13 | 0.01825843 |\n",
       "| Holy See              |   9 |  0 | 0.00000000 |\n",
       "| MS Zaandam            |   9 |  2 | 0.22222222 |\n",
       "| Saint Kitts and Nevis |  15 |  0 | 0.00000000 |\n",
       "| Taiwan*               | 429 |  6 | 0.01398601 |\n",
       "\n"
      ],
      "text/plain": [
       "  country               confirmed death rate      \n",
       "1 Diamond Princess      712       13    0.01825843\n",
       "2 Holy See                9        0    0.00000000\n",
       "3 MS Zaandam              9        2    0.22222222\n",
       "4 Saint Kitts and Nevis  15        0    0.00000000\n",
       "5 Taiwan*               429        6    0.01398601"
      ]
     },
     "metadata": {},
     "output_type": "display_data"
    }
   ],
   "source": [
    "covid19 %>%\n",
    "    filter(!country %in% country_data$country)"
   ]
  },
  {
   "cell_type": "code",
   "execution_count": 24,
   "metadata": {},
   "outputs": [],
   "source": [
    "data <- merge(country_data, covid19, by = \"country\")"
   ]
  },
  {
   "cell_type": "code",
   "execution_count": 25,
   "metadata": {},
   "outputs": [
    {
     "data": {
      "text/html": [
       "<table>\n",
       "<caption>A data.frame: 6 × 11</caption>\n",
       "<thead>\n",
       "\t<tr><th scope=col>country</th><th scope=col>age_1564</th><th scope=col>age_64up</th><th scope=col>age_0014</th><th scope=col>smok</th><th scope=col>air_polution</th><th scope=col>doctor</th><th scope=col>nurse_midwivies</th><th scope=col>confirmed</th><th scope=col>death</th><th scope=col>rate</th></tr>\n",
       "\t<tr><th scope=col>&lt;chr&gt;</th><th scope=col>&lt;dbl&gt;</th><th scope=col>&lt;dbl&gt;</th><th scope=col>&lt;dbl&gt;</th><th scope=col>&lt;dbl&gt;</th><th scope=col>&lt;dbl&gt;</th><th scope=col>&lt;dbl&gt;</th><th scope=col>&lt;dbl&gt;</th><th scope=col>&lt;dbl&gt;</th><th scope=col>&lt;dbl&gt;</th><th scope=col>&lt;dbl&gt;</th></tr>\n",
       "</thead>\n",
       "<tbody>\n",
       "\t<tr><td>Afghanistan        </td><td>54.32490</td><td> 2.584927</td><td>43.09018</td><td>  NA</td><td>56.91081</td><td>0.2907</td><td>    NA</td><td>1463</td><td> 47</td><td>0.03212577</td></tr>\n",
       "\t<tr><td>Albania            </td><td>68.58239</td><td>13.744736</td><td>17.67287</td><td>28.7</td><td>18.20060</td><td>    NA</td><td>    NA</td><td> 712</td><td> 27</td><td>0.03792135</td></tr>\n",
       "\t<tr><td>Algeria            </td><td>63.48882</td><td> 6.362497</td><td>30.14868</td><td>15.6</td><td>38.88401</td><td>    NA</td><td>    NA</td><td>3256</td><td>419</td><td>0.12868550</td></tr>\n",
       "\t<tr><td>Andorra            </td><td>      NA</td><td>       NA</td><td>      NA</td><td>33.5</td><td>10.30762</td><td>3.3333</td><td>4.0128</td><td> 738</td><td> 40</td><td>0.05420054</td></tr>\n",
       "\t<tr><td>Angola             </td><td>50.97470</td><td> 2.216374</td><td>46.80892</td><td>  NA</td><td>32.38850</td><td>    NA</td><td>    NA</td><td>  25</td><td>  2</td><td>0.08000000</td></tr>\n",
       "\t<tr><td>Antigua and Barbuda</td><td>69.11908</td><td> 8.799826</td><td>22.08109</td><td>  NA</td><td>18.62234</td><td>    NA</td><td>    NA</td><td>  24</td><td>  3</td><td>0.12500000</td></tr>\n",
       "</tbody>\n",
       "</table>\n"
      ],
      "text/latex": [
       "A data.frame: 6 × 11\n",
       "\\begin{tabular}{r|lllllllllll}\n",
       " country & age\\_1564 & age\\_64up & age\\_0014 & smok & air\\_polution & doctor & nurse\\_midwivies & confirmed & death & rate\\\\\n",
       " <chr> & <dbl> & <dbl> & <dbl> & <dbl> & <dbl> & <dbl> & <dbl> & <dbl> & <dbl> & <dbl>\\\\\n",
       "\\hline\n",
       "\t Afghanistan         & 54.32490 &  2.584927 & 43.09018 &   NA & 56.91081 & 0.2907 &     NA & 1463 &  47 & 0.03212577\\\\\n",
       "\t Albania             & 68.58239 & 13.744736 & 17.67287 & 28.7 & 18.20060 &     NA &     NA &  712 &  27 & 0.03792135\\\\\n",
       "\t Algeria             & 63.48882 &  6.362497 & 30.14868 & 15.6 & 38.88401 &     NA &     NA & 3256 & 419 & 0.12868550\\\\\n",
       "\t Andorra             &       NA &        NA &       NA & 33.5 & 10.30762 & 3.3333 & 4.0128 &  738 &  40 & 0.05420054\\\\\n",
       "\t Angola              & 50.97470 &  2.216374 & 46.80892 &   NA & 32.38850 &     NA &     NA &   25 &   2 & 0.08000000\\\\\n",
       "\t Antigua and Barbuda & 69.11908 &  8.799826 & 22.08109 &   NA & 18.62234 &     NA &     NA &   24 &   3 & 0.12500000\\\\\n",
       "\\end{tabular}\n"
      ],
      "text/markdown": [
       "\n",
       "A data.frame: 6 × 11\n",
       "\n",
       "| country &lt;chr&gt; | age_1564 &lt;dbl&gt; | age_64up &lt;dbl&gt; | age_0014 &lt;dbl&gt; | smok &lt;dbl&gt; | air_polution &lt;dbl&gt; | doctor &lt;dbl&gt; | nurse_midwivies &lt;dbl&gt; | confirmed &lt;dbl&gt; | death &lt;dbl&gt; | rate &lt;dbl&gt; |\n",
       "|---|---|---|---|---|---|---|---|---|---|---|\n",
       "| Afghanistan         | 54.32490 |  2.584927 | 43.09018 |   NA | 56.91081 | 0.2907 |     NA | 1463 |  47 | 0.03212577 |\n",
       "| Albania             | 68.58239 | 13.744736 | 17.67287 | 28.7 | 18.20060 |     NA |     NA |  712 |  27 | 0.03792135 |\n",
       "| Algeria             | 63.48882 |  6.362497 | 30.14868 | 15.6 | 38.88401 |     NA |     NA | 3256 | 419 | 0.12868550 |\n",
       "| Andorra             |       NA |        NA |       NA | 33.5 | 10.30762 | 3.3333 | 4.0128 |  738 |  40 | 0.05420054 |\n",
       "| Angola              | 50.97470 |  2.216374 | 46.80892 |   NA | 32.38850 |     NA |     NA |   25 |   2 | 0.08000000 |\n",
       "| Antigua and Barbuda | 69.11908 |  8.799826 | 22.08109 |   NA | 18.62234 |     NA |     NA |   24 |   3 | 0.12500000 |\n",
       "\n"
      ],
      "text/plain": [
       "  country             age_1564 age_64up  age_0014 smok air_polution doctor\n",
       "1 Afghanistan         54.32490  2.584927 43.09018   NA 56.91081     0.2907\n",
       "2 Albania             68.58239 13.744736 17.67287 28.7 18.20060         NA\n",
       "3 Algeria             63.48882  6.362497 30.14868 15.6 38.88401         NA\n",
       "4 Andorra                   NA        NA       NA 33.5 10.30762     3.3333\n",
       "5 Angola              50.97470  2.216374 46.80892   NA 32.38850         NA\n",
       "6 Antigua and Barbuda 69.11908  8.799826 22.08109   NA 18.62234         NA\n",
       "  nurse_midwivies confirmed death rate      \n",
       "1     NA          1463       47   0.03212577\n",
       "2     NA           712       27   0.03792135\n",
       "3     NA          3256      419   0.12868550\n",
       "4 4.0128           738       40   0.05420054\n",
       "5     NA            25        2   0.08000000\n",
       "6     NA            24        3   0.12500000"
      ]
     },
     "metadata": {},
     "output_type": "display_data"
    }
   ],
   "source": [
    "head(data)"
   ]
  },
  {
   "cell_type": "code",
   "execution_count": 33,
   "metadata": {},
   "outputs": [
    {
     "data": {
      "text/html": [
       "<table>\n",
       "<caption>A data.frame: 66 × 11</caption>\n",
       "<thead>\n",
       "\t<tr><th></th><th scope=col>country</th><th scope=col>age_1564</th><th scope=col>age_64up</th><th scope=col>age_0014</th><th scope=col>smok</th><th scope=col>air_polution</th><th scope=col>doctor</th><th scope=col>nurse_midwivies</th><th scope=col>confirmed</th><th scope=col>death</th><th scope=col>rate</th></tr>\n",
       "\t<tr><th></th><th scope=col>&lt;chr&gt;</th><th scope=col>&lt;dbl&gt;</th><th scope=col>&lt;dbl&gt;</th><th scope=col>&lt;dbl&gt;</th><th scope=col>&lt;dbl&gt;</th><th scope=col>&lt;dbl&gt;</th><th scope=col>&lt;dbl&gt;</th><th scope=col>&lt;dbl&gt;</th><th scope=col>&lt;dbl&gt;</th><th scope=col>&lt;dbl&gt;</th><th scope=col>&lt;dbl&gt;</th></tr>\n",
       "</thead>\n",
       "<tbody>\n",
       "\t<tr><th scope=row>9</th><td>Australia </td><td>65.15291</td><td>15.656475</td><td>19.19062</td><td>14.7</td><td> 8.550324</td><td>3.5213</td><td>12.4667</td><td>  6694</td><td>   80</td><td>0.011951001</td></tr>\n",
       "\t<tr><th scope=row>10</th><td>Austria   </td><td>66.70049</td><td>19.001566</td><td>14.29795</td><td>29.6</td><td>12.477967</td><td>5.0701</td><td> 8.1758</td><td> 15148</td><td>  536</td><td>0.035384209</td></tr>\n",
       "\t<tr><th scope=row>13</th><td>Bahrain   </td><td>78.31936</td><td> 2.426334</td><td>19.25431</td><td>26.4</td><td>70.816208</td><td>0.9257</td><td> 2.4944</td><td>  2588</td><td>    8</td><td>0.003091190</td></tr>\n",
       "\t<tr><th scope=row>14</th><td>Bangladesh</td><td>67.13559</td><td> 5.158391</td><td>27.70602</td><td>23.0</td><td>60.845785</td><td>0.4709</td><td> 0.2665</td><td>  4998</td><td>  140</td><td>0.028011204</td></tr>\n",
       "\t<tr><th scope=row>17</th><td>Belgium   </td><td>64.15583</td><td>18.788744</td><td>17.05542</td><td>28.2</td><td>12.886518</td><td>3.0138</td><td>10.8193</td><td> 45325</td><td> 6917</td><td>0.152608935</td></tr>\n",
       "\t<tr><th scope=row>25</th><td>Brunei    </td><td>72.10039</td><td> 4.873148</td><td>23.02646</td><td>16.9</td><td> 5.903065</td><td>1.7701</td><td> 6.6012</td><td>   138</td><td>    1</td><td>0.007246377</td></tr>\n",
       "\t<tr><th scope=row>29</th><td>Cabo Verde</td><td>66.61291</td><td> 4.609327</td><td>28.77777</td><td> 9.1</td><td>34.778700</td><td>0.7694</td><td> 1.2272</td><td>    90</td><td>    1</td><td>0.011111111</td></tr>\n",
       "\t<tr><th scope=row>32</th><td>Canada    </td><td>66.89774</td><td>17.232007</td><td>15.87025</td><td>14.3</td><td> 6.428383</td><td>2.5388</td><td> 9.8398</td><td> 45491</td><td> 2547</td><td>0.055989097</td></tr>\n",
       "\t<tr><th scope=row>36</th><td>China     </td><td>71.20211</td><td>10.920884</td><td>17.87700</td><td>25.6</td><td>52.664596</td><td>1.7855</td><td> 2.3073</td><td> 83909</td><td> 4636</td><td>0.055250331</td></tr>\n",
       "\t<tr><th scope=row>37</th><td>Colombia  </td><td>68.44406</td><td> 8.478047</td><td>23.07790</td><td> 9.0</td><td>16.527210</td><td>1.9379</td><td> 1.1400</td><td>  5142</td><td>  233</td><td>0.045313108</td></tr>\n",
       "\t<tr><th scope=row>46</th><td>Denmark   </td><td>63.72878</td><td>19.812953</td><td>16.45826</td><td>19.1</td><td>10.029653</td><td>3.6743</td><td>17.2138</td><td>  8643</td><td>  418</td><td>0.048362837</td></tr>\n",
       "\t<tr><th scope=row>50</th><td>Ecuador   </td><td>64.81412</td><td> 7.157290</td><td>28.02859</td><td> 7.1</td><td>14.886101</td><td>2.0734</td><td> 2.4882</td><td> 22719</td><td>  576</td><td>0.025353229</td></tr>\n",
       "\t<tr><th scope=row>51</th><td>Egypt     </td><td>60.97150</td><td> 5.229779</td><td>33.79872</td><td>25.2</td><td>86.999452</td><td>0.8100</td><td> 1.5000</td><td>  4319</td><td>  307</td><td>0.071081269</td></tr>\n",
       "\t<tr><th scope=row>55</th><td>Estonia   </td><td>64.01657</td><td>19.626357</td><td>16.35707</td><td>31.3</td><td> 6.732124</td><td>3.4152</td><td> 6.3522</td><td>  1635</td><td>   46</td><td>0.028134557</td></tr>\n",
       "\t<tr><th scope=row>58</th><td>Fiji      </td><td>65.03770</td><td> 5.449680</td><td>29.51262</td><td>22.6</td><td>10.840160</td><td>0.8374</td><td> 2.9380</td><td>    18</td><td>    0</td><td>0.000000000</td></tr>\n",
       "\t<tr><th scope=row>60</th><td>France    </td><td>62.00891</td><td>20.034625</td><td>17.95646</td><td>32.7</td><td>11.814964</td><td>3.2237</td><td>10.9403</td><td>161644</td><td>22648</td><td>0.140110366</td></tr>\n",
       "\t<tr><th scope=row>62</th><td>Gambia    </td><td>53.14127</td><td> 2.589981</td><td>44.26875</td><td>15.5</td><td>33.982639</td><td>0.1077</td><td> 1.6292</td><td>    10</td><td>    1</td><td>0.100000000</td></tr>\n",
       "\t<tr><th scope=row>63</th><td>Georgia   </td><td>65.33927</td><td>14.865491</td><td>19.79524</td><td>28.8</td><td>22.196055</td><td>5.0976</td><td> 4.0914</td><td>   456</td><td>    5</td><td>0.010964912</td></tr>\n",
       "\t<tr><th scope=row>64</th><td>Germany   </td><td>64.91701</td><td>21.461962</td><td>13.62103</td><td>30.6</td><td>12.028767</td><td>4.1383</td><td>12.9241</td><td>156513</td><td> 5877</td><td>0.037549597</td></tr>\n",
       "\t<tr><th scope=row>74</th><td>Hungary   </td><td>66.43028</td><td>19.157725</td><td>14.41199</td><td>30.6</td><td>15.926048</td><td>3.1159</td><td> 6.6811</td><td>  2443</td><td>  262</td><td>0.107245190</td></tr>\n",
       "\t<tr><th scope=row>75</th><td>Iceland   </td><td>65.37259</td><td>14.795093</td><td>19.83232</td><td>14.7</td><td> 6.481147</td><td>3.7826</td><td>16.3144</td><td>  1790</td><td>   10</td><td>0.005586592</td></tr>\n",
       "\t<tr><th scope=row>77</th><td>Indonesia </td><td>67.59164</td><td> 5.857166</td><td>26.55120</td><td>39.4</td><td>16.502653</td><td>0.2740</td><td> 1.3001</td><td>  8607</td><td>  720</td><td>0.083652841</td></tr>\n",
       "\t<tr><th scope=row>78</th><td>Iran      </td><td>69.33887</td><td> 6.184574</td><td>24.47656</td><td>11.0</td><td>38.978760</td><td>1.1400</td><td> 1.8700</td><td> 89328</td><td> 5650</td><td>0.063250045</td></tr>\n",
       "\t<tr><th scope=row>80</th><td>Ireland   </td><td>64.72778</td><td>13.865802</td><td>21.40642</td><td>24.3</td><td> 8.208577</td><td>2.7819</td><td>13.8727</td><td> 18561</td><td> 1063</td><td>0.057270621</td></tr>\n",
       "\t<tr><th scope=row>81</th><td>Israel    </td><td>60.09777</td><td>11.976986</td><td>27.92525</td><td>25.2</td><td>21.381102</td><td>3.1906</td><td> 5.0715</td><td> 15298</td><td>  199</td><td>0.013008236</td></tr>\n",
       "\t<tr><th scope=row>82</th><td>Italy     </td><td>63.91920</td><td>22.751680</td><td>13.32912</td><td>23.7</td><td>16.750712</td><td>3.9174</td><td> 5.8184</td><td>195351</td><td>26384</td><td>0.135059457</td></tr>\n",
       "\t<tr><th scope=row>83</th><td>Jamaica   </td><td>67.45326</td><td> 8.796643</td><td>23.75010</td><td>16.8</td><td>13.404151</td><td>0.4175</td><td> 1.4583</td><td>   305</td><td>    7</td><td>0.022950820</td></tr>\n",
       "\t<tr><th scope=row>90</th><td>Kuwait    </td><td>75.91064</td><td> 2.550472</td><td>21.53889</td><td>22.5</td><td>60.745160</td><td>2.5789</td><td> 6.9694</td><td>  2892</td><td>   19</td><td>0.006569848</td></tr>\n",
       "\t<tr><th scope=row>93</th><td>Latvia    </td><td>63.96060</td><td>20.043620</td><td>15.99578</td><td>37.0</td><td>13.426458</td><td>3.1736</td><td> 4.8482</td><td>   804</td><td>   12</td><td>0.014925373</td></tr>\n",
       "\t<tr><th scope=row>94</th><td>Lebanon   </td><td>66.90176</td><td> 7.002368</td><td>26.09587</td><td>33.8</td><td>30.621111</td><td>2.3478</td><td> 2.4438</td><td>   704</td><td>   24</td><td>0.034090909</td></tr>\n",
       "\t<tr><th scope=row>...</th><td>...</td><td>...</td><td>...</td><td>...</td><td>...</td><td>...</td><td>...</td><td>...</td><td>...</td><td>...</td><td>...</td></tr>\n",
       "\t<tr><th scope=row>107</th><td>Mauritius           </td><td>70.73213</td><td>11.474173</td><td>17.79369</td><td>21.60000</td><td>14.457827</td><td>2.0246000</td><td> 3.383100</td><td>   331</td><td>    9</td><td>0.027190332</td></tr>\n",
       "\t<tr><th scope=row>108</th><td>Mexico              </td><td>66.21947</td><td> 7.223685</td><td>26.55685</td><td>14.00000</td><td>20.921116</td><td>2.2513000</td><td> 2.668600</td><td> 13842</td><td> 1305</td><td>0.094278283</td></tr>\n",
       "\t<tr><th scope=row>109</th><td>Moldova             </td><td>72.67035</td><td>11.469556</td><td>15.86009</td><td>24.20000</td><td>16.251033</td><td>3.2002000</td><td> 4.511300</td><td>  3304</td><td>   94</td><td>0.028450363</td></tr>\n",
       "\t<tr><th scope=row>112</th><td>Montenegro          </td><td>66.81554</td><td>14.974937</td><td>18.20952</td><td>45.90000</td><td>20.781814</td><td>2.3337000</td><td> 5.717900</td><td>   320</td><td>    6</td><td>0.018750000</td></tr>\n",
       "\t<tr><th scope=row>118</th><td>Netherlands         </td><td>64.69565</td><td>19.196193</td><td>16.10816</td><td>25.80000</td><td>12.034408</td><td>3.4875000</td><td>10.467500</td><td> 37384</td><td> 4424</td><td>0.118339397</td></tr>\n",
       "\t<tr><th scope=row>119</th><td>New Zealand         </td><td>64.69414</td><td>15.652425</td><td>19.65343</td><td>16.00000</td><td> 5.956001</td><td>3.0003000</td><td>10.791900</td><td>  1470</td><td>   18</td><td>0.012244898</td></tr>\n",
       "\t<tr><th scope=row>124</th><td>Norway              </td><td>65.40174</td><td>17.049222</td><td>17.54904</td><td>20.20000</td><td> 6.956520</td><td>4.3940000</td><td>17.862200</td><td>  7499</td><td>  201</td><td>0.026803574</td></tr>\n",
       "\t<tr><th scope=row>125</th><td>Oman                </td><td>75.36071</td><td> 2.392787</td><td>22.24651</td><td>11.10000</td><td>41.115238</td><td>2.1225000</td><td> 4.602800</td><td>  1905</td><td>   10</td><td>0.005249344</td></tr>\n",
       "\t<tr><th scope=row>126</th><td>Pakistan            </td><td>60.41741</td><td> 4.312774</td><td>35.26981</td><td>20.10000</td><td>58.282419</td><td>0.9753000</td><td> 0.500400</td><td> 12723</td><td>  269</td><td>0.021142812</td></tr>\n",
       "\t<tr><th scope=row>132</th><td>Poland              </td><td>67.42991</td><td>17.517817</td><td>15.05228</td><td>28.00000</td><td>20.877822</td><td>2.3112000</td><td> 5.745300</td><td> 11273</td><td>  524</td><td>0.046482746</td></tr>\n",
       "\t<tr><th scope=row>136</th><td>Russia              </td><td>67.41121</td><td>14.674708</td><td>17.91408</td><td>39.30000</td><td>16.160224</td><td>3.9632000</td><td> 8.656700</td><td> 74588</td><td>  681</td><td>0.009130155</td></tr>\n",
       "\t<tr><th scope=row>137</th><td>Rwanda              </td><td>57.08623</td><td> 2.938196</td><td>39.97557</td><td>12.30000</td><td>43.210217</td><td>0.1408000</td><td> 0.830700</td><td>   183</td><td>    0</td><td>0.000000000</td></tr>\n",
       "\t<tr><th scope=row>143</th><td>Senegal             </td><td>53.85775</td><td> 3.086824</td><td>43.05543</td><td> 8.20000</td><td>40.695826</td><td>0.2018000</td><td> 0.775500</td><td>   614</td><td>    7</td><td>0.011400651</td></tr>\n",
       "\t<tr><th scope=row>148</th><td>Slovakia            </td><td>68.92462</td><td>15.629247</td><td>15.44614</td><td>30.10000</td><td>17.562911</td><td>3.4414000</td><td> 6.005200</td><td>  1373</td><td>   17</td><td>0.012381646</td></tr>\n",
       "\t<tr><th scope=row>149</th><td>Slovenia            </td><td>65.37135</td><td>19.606880</td><td>15.02178</td><td>22.50000</td><td>16.023980</td><td>2.8099000</td><td> 8.809000</td><td>  1388</td><td>   81</td><td>0.058357349</td></tr>\n",
       "\t<tr><th scope=row>151</th><td>South Africa        </td><td>65.60251</td><td> 5.318005</td><td>29.07949</td><td>20.30000</td><td>25.102205</td><td>0.7827000</td><td> 5.039100</td><td>  4361</td><td>   86</td><td>0.019720248</td></tr>\n",
       "\t<tr><th scope=row>153</th><td>Spain               </td><td>65.95449</td><td>19.378508</td><td>14.66700</td><td>29.30000</td><td> 9.697928</td><td>3.8493000</td><td> 5.291900</td><td>223759</td><td>22902</td><td>0.102351190</td></tr>\n",
       "\t<tr><th scope=row>154</th><td>Sri Lanka           </td><td>65.32978</td><td>10.473220</td><td>24.19700</td><td>13.00000</td><td>11.099617</td><td>0.9746000</td><td> 2.487000</td><td>   460</td><td>    7</td><td>0.015217391</td></tr>\n",
       "\t<tr><th scope=row>157</th><td>Sweden              </td><td>62.32269</td><td>20.095525</td><td>17.58179</td><td>18.80000</td><td> 6.184665</td><td>4.2861000</td><td>11.850300</td><td> 18177</td><td> 2192</td><td>0.120591957</td></tr>\n",
       "\t<tr><th scope=row>158</th><td>Switzerland         </td><td>66.46583</td><td>18.623217</td><td>14.91095</td><td>25.70000</td><td>10.303100</td><td>4.1782000</td><td>16.815200</td><td> 28894</td><td> 1599</td><td>0.055340209</td></tr>\n",
       "\t<tr><th scope=row>161</th><td>Thailand            </td><td>71.01212</td><td>11.900893</td><td>17.08699</td><td>19.90000</td><td>26.256727</td><td>0.4655000</td><td> 2.370200</td><td>  2907</td><td>   51</td><td>0.017543860</td></tr>\n",
       "\t<tr><th scope=row>162</th><td>Timor-Leste         </td><td>57.90284</td><td> 4.316492</td><td>37.78066</td><td>42.60000</td><td>19.257209</td><td>0.6696000</td><td> 1.428700</td><td>    24</td><td>    0</td><td>0.000000000</td></tr>\n",
       "\t<tr><th scope=row>163</th><td>Togo                </td><td>55.79601</td><td> 2.869468</td><td>41.33452</td><td> 7.40000</td><td>35.731336</td><td>0.0487000</td><td> 0.298000</td><td>    96</td><td>    6</td><td>0.062500000</td></tr>\n",
       "\t<tr><th scope=row>165</th><td>Tunisia             </td><td>67.51420</td><td> 8.315679</td><td>24.17012</td><td>32.70000</td><td>37.655994</td><td>1.2999000</td><td> 2.647800</td><td>   939</td><td>   38</td><td>0.040468584</td></tr>\n",
       "\t<tr><th scope=row>167</th><td>Uganda              </td><td>51.12849</td><td> 1.940987</td><td>46.93053</td><td>10.00000</td><td>50.494321</td><td>0.0908000</td><td> 0.630300</td><td>    75</td><td>    0</td><td>0.000000000</td></tr>\n",
       "\t<tr><th scope=row>169</th><td>United Arab Emirates</td><td>84.31149</td><td> 1.085001</td><td>14.60351</td><td>28.90000</td><td>40.917510</td><td>2.2373000</td><td> 5.041900</td><td>  9813</td><td>   71</td><td>0.007235300</td></tr>\n",
       "\t<tr><th scope=row>170</th><td>United Kingdom      </td><td>63.92605</td><td>18.395866</td><td>17.67808</td><td>22.30000</td><td>10.472690</td><td>2.7780000</td><td> 8.827100</td><td>149569</td><td>20381</td><td>0.136264868</td></tr>\n",
       "\t<tr><th scope=row>171</th><td>United States       </td><td>65.48331</td><td>15.807654</td><td>18.70904</td><td>21.80000</td><td> 7.409442</td><td>2.5858000</td><td> 8.550000</td><td>938154</td><td>53755</td><td>0.057298695</td></tr>\n",
       "\t<tr><th scope=row>175</th><td>Vietnam             </td><td>69.55234</td><td> 7.274978</td><td>23.17268</td><td>22.80000</td><td>29.626728</td><td>0.7887000</td><td> 1.409200</td><td>   270</td><td>    0</td><td>0.000000000</td></tr>\n",
       "\t<tr><th scope=row>177</th><td>Western Sahara      </td><td>54.47388</td><td> 2.987706</td><td>42.53841</td><td>10.17691</td><td>44.602096</td><td>0.2196454</td><td> 1.028596</td><td>     6</td><td>    0</td><td>0.000000000</td></tr>\n",
       "</tbody>\n",
       "</table>\n"
      ],
      "text/latex": [
       "A data.frame: 66 × 11\n",
       "\\begin{tabular}{r|lllllllllll}\n",
       "  & country & age\\_1564 & age\\_64up & age\\_0014 & smok & air\\_polution & doctor & nurse\\_midwivies & confirmed & death & rate\\\\\n",
       "  & <chr> & <dbl> & <dbl> & <dbl> & <dbl> & <dbl> & <dbl> & <dbl> & <dbl> & <dbl> & <dbl>\\\\\n",
       "\\hline\n",
       "\t9 & Australia  & 65.15291 & 15.656475 & 19.19062 & 14.7 &  8.550324 & 3.5213 & 12.4667 &   6694 &    80 & 0.011951001\\\\\n",
       "\t10 & Austria    & 66.70049 & 19.001566 & 14.29795 & 29.6 & 12.477967 & 5.0701 &  8.1758 &  15148 &   536 & 0.035384209\\\\\n",
       "\t13 & Bahrain    & 78.31936 &  2.426334 & 19.25431 & 26.4 & 70.816208 & 0.9257 &  2.4944 &   2588 &     8 & 0.003091190\\\\\n",
       "\t14 & Bangladesh & 67.13559 &  5.158391 & 27.70602 & 23.0 & 60.845785 & 0.4709 &  0.2665 &   4998 &   140 & 0.028011204\\\\\n",
       "\t17 & Belgium    & 64.15583 & 18.788744 & 17.05542 & 28.2 & 12.886518 & 3.0138 & 10.8193 &  45325 &  6917 & 0.152608935\\\\\n",
       "\t25 & Brunei     & 72.10039 &  4.873148 & 23.02646 & 16.9 &  5.903065 & 1.7701 &  6.6012 &    138 &     1 & 0.007246377\\\\\n",
       "\t29 & Cabo Verde & 66.61291 &  4.609327 & 28.77777 &  9.1 & 34.778700 & 0.7694 &  1.2272 &     90 &     1 & 0.011111111\\\\\n",
       "\t32 & Canada     & 66.89774 & 17.232007 & 15.87025 & 14.3 &  6.428383 & 2.5388 &  9.8398 &  45491 &  2547 & 0.055989097\\\\\n",
       "\t36 & China      & 71.20211 & 10.920884 & 17.87700 & 25.6 & 52.664596 & 1.7855 &  2.3073 &  83909 &  4636 & 0.055250331\\\\\n",
       "\t37 & Colombia   & 68.44406 &  8.478047 & 23.07790 &  9.0 & 16.527210 & 1.9379 &  1.1400 &   5142 &   233 & 0.045313108\\\\\n",
       "\t46 & Denmark    & 63.72878 & 19.812953 & 16.45826 & 19.1 & 10.029653 & 3.6743 & 17.2138 &   8643 &   418 & 0.048362837\\\\\n",
       "\t50 & Ecuador    & 64.81412 &  7.157290 & 28.02859 &  7.1 & 14.886101 & 2.0734 &  2.4882 &  22719 &   576 & 0.025353229\\\\\n",
       "\t51 & Egypt      & 60.97150 &  5.229779 & 33.79872 & 25.2 & 86.999452 & 0.8100 &  1.5000 &   4319 &   307 & 0.071081269\\\\\n",
       "\t55 & Estonia    & 64.01657 & 19.626357 & 16.35707 & 31.3 &  6.732124 & 3.4152 &  6.3522 &   1635 &    46 & 0.028134557\\\\\n",
       "\t58 & Fiji       & 65.03770 &  5.449680 & 29.51262 & 22.6 & 10.840160 & 0.8374 &  2.9380 &     18 &     0 & 0.000000000\\\\\n",
       "\t60 & France     & 62.00891 & 20.034625 & 17.95646 & 32.7 & 11.814964 & 3.2237 & 10.9403 & 161644 & 22648 & 0.140110366\\\\\n",
       "\t62 & Gambia     & 53.14127 &  2.589981 & 44.26875 & 15.5 & 33.982639 & 0.1077 &  1.6292 &     10 &     1 & 0.100000000\\\\\n",
       "\t63 & Georgia    & 65.33927 & 14.865491 & 19.79524 & 28.8 & 22.196055 & 5.0976 &  4.0914 &    456 &     5 & 0.010964912\\\\\n",
       "\t64 & Germany    & 64.91701 & 21.461962 & 13.62103 & 30.6 & 12.028767 & 4.1383 & 12.9241 & 156513 &  5877 & 0.037549597\\\\\n",
       "\t74 & Hungary    & 66.43028 & 19.157725 & 14.41199 & 30.6 & 15.926048 & 3.1159 &  6.6811 &   2443 &   262 & 0.107245190\\\\\n",
       "\t75 & Iceland    & 65.37259 & 14.795093 & 19.83232 & 14.7 &  6.481147 & 3.7826 & 16.3144 &   1790 &    10 & 0.005586592\\\\\n",
       "\t77 & Indonesia  & 67.59164 &  5.857166 & 26.55120 & 39.4 & 16.502653 & 0.2740 &  1.3001 &   8607 &   720 & 0.083652841\\\\\n",
       "\t78 & Iran       & 69.33887 &  6.184574 & 24.47656 & 11.0 & 38.978760 & 1.1400 &  1.8700 &  89328 &  5650 & 0.063250045\\\\\n",
       "\t80 & Ireland    & 64.72778 & 13.865802 & 21.40642 & 24.3 &  8.208577 & 2.7819 & 13.8727 &  18561 &  1063 & 0.057270621\\\\\n",
       "\t81 & Israel     & 60.09777 & 11.976986 & 27.92525 & 25.2 & 21.381102 & 3.1906 &  5.0715 &  15298 &   199 & 0.013008236\\\\\n",
       "\t82 & Italy      & 63.91920 & 22.751680 & 13.32912 & 23.7 & 16.750712 & 3.9174 &  5.8184 & 195351 & 26384 & 0.135059457\\\\\n",
       "\t83 & Jamaica    & 67.45326 &  8.796643 & 23.75010 & 16.8 & 13.404151 & 0.4175 &  1.4583 &    305 &     7 & 0.022950820\\\\\n",
       "\t90 & Kuwait     & 75.91064 &  2.550472 & 21.53889 & 22.5 & 60.745160 & 2.5789 &  6.9694 &   2892 &    19 & 0.006569848\\\\\n",
       "\t93 & Latvia     & 63.96060 & 20.043620 & 15.99578 & 37.0 & 13.426458 & 3.1736 &  4.8482 &    804 &    12 & 0.014925373\\\\\n",
       "\t94 & Lebanon    & 66.90176 &  7.002368 & 26.09587 & 33.8 & 30.621111 & 2.3478 &  2.4438 &    704 &    24 & 0.034090909\\\\\n",
       "\t... & ... & ... & ... & ... & ... & ... & ... & ... & ... & ... & ...\\\\\n",
       "\t107 & Mauritius            & 70.73213 & 11.474173 & 17.79369 & 21.60000 & 14.457827 & 2.0246000 &  3.383100 &    331 &     9 & 0.027190332\\\\\n",
       "\t108 & Mexico               & 66.21947 &  7.223685 & 26.55685 & 14.00000 & 20.921116 & 2.2513000 &  2.668600 &  13842 &  1305 & 0.094278283\\\\\n",
       "\t109 & Moldova              & 72.67035 & 11.469556 & 15.86009 & 24.20000 & 16.251033 & 3.2002000 &  4.511300 &   3304 &    94 & 0.028450363\\\\\n",
       "\t112 & Montenegro           & 66.81554 & 14.974937 & 18.20952 & 45.90000 & 20.781814 & 2.3337000 &  5.717900 &    320 &     6 & 0.018750000\\\\\n",
       "\t118 & Netherlands          & 64.69565 & 19.196193 & 16.10816 & 25.80000 & 12.034408 & 3.4875000 & 10.467500 &  37384 &  4424 & 0.118339397\\\\\n",
       "\t119 & New Zealand          & 64.69414 & 15.652425 & 19.65343 & 16.00000 &  5.956001 & 3.0003000 & 10.791900 &   1470 &    18 & 0.012244898\\\\\n",
       "\t124 & Norway               & 65.40174 & 17.049222 & 17.54904 & 20.20000 &  6.956520 & 4.3940000 & 17.862200 &   7499 &   201 & 0.026803574\\\\\n",
       "\t125 & Oman                 & 75.36071 &  2.392787 & 22.24651 & 11.10000 & 41.115238 & 2.1225000 &  4.602800 &   1905 &    10 & 0.005249344\\\\\n",
       "\t126 & Pakistan             & 60.41741 &  4.312774 & 35.26981 & 20.10000 & 58.282419 & 0.9753000 &  0.500400 &  12723 &   269 & 0.021142812\\\\\n",
       "\t132 & Poland               & 67.42991 & 17.517817 & 15.05228 & 28.00000 & 20.877822 & 2.3112000 &  5.745300 &  11273 &   524 & 0.046482746\\\\\n",
       "\t136 & Russia               & 67.41121 & 14.674708 & 17.91408 & 39.30000 & 16.160224 & 3.9632000 &  8.656700 &  74588 &   681 & 0.009130155\\\\\n",
       "\t137 & Rwanda               & 57.08623 &  2.938196 & 39.97557 & 12.30000 & 43.210217 & 0.1408000 &  0.830700 &    183 &     0 & 0.000000000\\\\\n",
       "\t143 & Senegal              & 53.85775 &  3.086824 & 43.05543 &  8.20000 & 40.695826 & 0.2018000 &  0.775500 &    614 &     7 & 0.011400651\\\\\n",
       "\t148 & Slovakia             & 68.92462 & 15.629247 & 15.44614 & 30.10000 & 17.562911 & 3.4414000 &  6.005200 &   1373 &    17 & 0.012381646\\\\\n",
       "\t149 & Slovenia             & 65.37135 & 19.606880 & 15.02178 & 22.50000 & 16.023980 & 2.8099000 &  8.809000 &   1388 &    81 & 0.058357349\\\\\n",
       "\t151 & South Africa         & 65.60251 &  5.318005 & 29.07949 & 20.30000 & 25.102205 & 0.7827000 &  5.039100 &   4361 &    86 & 0.019720248\\\\\n",
       "\t153 & Spain                & 65.95449 & 19.378508 & 14.66700 & 29.30000 &  9.697928 & 3.8493000 &  5.291900 & 223759 & 22902 & 0.102351190\\\\\n",
       "\t154 & Sri Lanka            & 65.32978 & 10.473220 & 24.19700 & 13.00000 & 11.099617 & 0.9746000 &  2.487000 &    460 &     7 & 0.015217391\\\\\n",
       "\t157 & Sweden               & 62.32269 & 20.095525 & 17.58179 & 18.80000 &  6.184665 & 4.2861000 & 11.850300 &  18177 &  2192 & 0.120591957\\\\\n",
       "\t158 & Switzerland          & 66.46583 & 18.623217 & 14.91095 & 25.70000 & 10.303100 & 4.1782000 & 16.815200 &  28894 &  1599 & 0.055340209\\\\\n",
       "\t161 & Thailand             & 71.01212 & 11.900893 & 17.08699 & 19.90000 & 26.256727 & 0.4655000 &  2.370200 &   2907 &    51 & 0.017543860\\\\\n",
       "\t162 & Timor-Leste          & 57.90284 &  4.316492 & 37.78066 & 42.60000 & 19.257209 & 0.6696000 &  1.428700 &     24 &     0 & 0.000000000\\\\\n",
       "\t163 & Togo                 & 55.79601 &  2.869468 & 41.33452 &  7.40000 & 35.731336 & 0.0487000 &  0.298000 &     96 &     6 & 0.062500000\\\\\n",
       "\t165 & Tunisia              & 67.51420 &  8.315679 & 24.17012 & 32.70000 & 37.655994 & 1.2999000 &  2.647800 &    939 &    38 & 0.040468584\\\\\n",
       "\t167 & Uganda               & 51.12849 &  1.940987 & 46.93053 & 10.00000 & 50.494321 & 0.0908000 &  0.630300 &     75 &     0 & 0.000000000\\\\\n",
       "\t169 & United Arab Emirates & 84.31149 &  1.085001 & 14.60351 & 28.90000 & 40.917510 & 2.2373000 &  5.041900 &   9813 &    71 & 0.007235300\\\\\n",
       "\t170 & United Kingdom       & 63.92605 & 18.395866 & 17.67808 & 22.30000 & 10.472690 & 2.7780000 &  8.827100 & 149569 & 20381 & 0.136264868\\\\\n",
       "\t171 & United States        & 65.48331 & 15.807654 & 18.70904 & 21.80000 &  7.409442 & 2.5858000 &  8.550000 & 938154 & 53755 & 0.057298695\\\\\n",
       "\t175 & Vietnam              & 69.55234 &  7.274978 & 23.17268 & 22.80000 & 29.626728 & 0.7887000 &  1.409200 &    270 &     0 & 0.000000000\\\\\n",
       "\t177 & Western Sahara       & 54.47388 &  2.987706 & 42.53841 & 10.17691 & 44.602096 & 0.2196454 &  1.028596 &      6 &     0 & 0.000000000\\\\\n",
       "\\end{tabular}\n"
      ],
      "text/markdown": [
       "\n",
       "A data.frame: 66 × 11\n",
       "\n",
       "| <!--/--> | country &lt;chr&gt; | age_1564 &lt;dbl&gt; | age_64up &lt;dbl&gt; | age_0014 &lt;dbl&gt; | smok &lt;dbl&gt; | air_polution &lt;dbl&gt; | doctor &lt;dbl&gt; | nurse_midwivies &lt;dbl&gt; | confirmed &lt;dbl&gt; | death &lt;dbl&gt; | rate &lt;dbl&gt; |\n",
       "|---|---|---|---|---|---|---|---|---|---|---|---|\n",
       "| 9 | Australia  | 65.15291 | 15.656475 | 19.19062 | 14.7 |  8.550324 | 3.5213 | 12.4667 |   6694 |    80 | 0.011951001 |\n",
       "| 10 | Austria    | 66.70049 | 19.001566 | 14.29795 | 29.6 | 12.477967 | 5.0701 |  8.1758 |  15148 |   536 | 0.035384209 |\n",
       "| 13 | Bahrain    | 78.31936 |  2.426334 | 19.25431 | 26.4 | 70.816208 | 0.9257 |  2.4944 |   2588 |     8 | 0.003091190 |\n",
       "| 14 | Bangladesh | 67.13559 |  5.158391 | 27.70602 | 23.0 | 60.845785 | 0.4709 |  0.2665 |   4998 |   140 | 0.028011204 |\n",
       "| 17 | Belgium    | 64.15583 | 18.788744 | 17.05542 | 28.2 | 12.886518 | 3.0138 | 10.8193 |  45325 |  6917 | 0.152608935 |\n",
       "| 25 | Brunei     | 72.10039 |  4.873148 | 23.02646 | 16.9 |  5.903065 | 1.7701 |  6.6012 |    138 |     1 | 0.007246377 |\n",
       "| 29 | Cabo Verde | 66.61291 |  4.609327 | 28.77777 |  9.1 | 34.778700 | 0.7694 |  1.2272 |     90 |     1 | 0.011111111 |\n",
       "| 32 | Canada     | 66.89774 | 17.232007 | 15.87025 | 14.3 |  6.428383 | 2.5388 |  9.8398 |  45491 |  2547 | 0.055989097 |\n",
       "| 36 | China      | 71.20211 | 10.920884 | 17.87700 | 25.6 | 52.664596 | 1.7855 |  2.3073 |  83909 |  4636 | 0.055250331 |\n",
       "| 37 | Colombia   | 68.44406 |  8.478047 | 23.07790 |  9.0 | 16.527210 | 1.9379 |  1.1400 |   5142 |   233 | 0.045313108 |\n",
       "| 46 | Denmark    | 63.72878 | 19.812953 | 16.45826 | 19.1 | 10.029653 | 3.6743 | 17.2138 |   8643 |   418 | 0.048362837 |\n",
       "| 50 | Ecuador    | 64.81412 |  7.157290 | 28.02859 |  7.1 | 14.886101 | 2.0734 |  2.4882 |  22719 |   576 | 0.025353229 |\n",
       "| 51 | Egypt      | 60.97150 |  5.229779 | 33.79872 | 25.2 | 86.999452 | 0.8100 |  1.5000 |   4319 |   307 | 0.071081269 |\n",
       "| 55 | Estonia    | 64.01657 | 19.626357 | 16.35707 | 31.3 |  6.732124 | 3.4152 |  6.3522 |   1635 |    46 | 0.028134557 |\n",
       "| 58 | Fiji       | 65.03770 |  5.449680 | 29.51262 | 22.6 | 10.840160 | 0.8374 |  2.9380 |     18 |     0 | 0.000000000 |\n",
       "| 60 | France     | 62.00891 | 20.034625 | 17.95646 | 32.7 | 11.814964 | 3.2237 | 10.9403 | 161644 | 22648 | 0.140110366 |\n",
       "| 62 | Gambia     | 53.14127 |  2.589981 | 44.26875 | 15.5 | 33.982639 | 0.1077 |  1.6292 |     10 |     1 | 0.100000000 |\n",
       "| 63 | Georgia    | 65.33927 | 14.865491 | 19.79524 | 28.8 | 22.196055 | 5.0976 |  4.0914 |    456 |     5 | 0.010964912 |\n",
       "| 64 | Germany    | 64.91701 | 21.461962 | 13.62103 | 30.6 | 12.028767 | 4.1383 | 12.9241 | 156513 |  5877 | 0.037549597 |\n",
       "| 74 | Hungary    | 66.43028 | 19.157725 | 14.41199 | 30.6 | 15.926048 | 3.1159 |  6.6811 |   2443 |   262 | 0.107245190 |\n",
       "| 75 | Iceland    | 65.37259 | 14.795093 | 19.83232 | 14.7 |  6.481147 | 3.7826 | 16.3144 |   1790 |    10 | 0.005586592 |\n",
       "| 77 | Indonesia  | 67.59164 |  5.857166 | 26.55120 | 39.4 | 16.502653 | 0.2740 |  1.3001 |   8607 |   720 | 0.083652841 |\n",
       "| 78 | Iran       | 69.33887 |  6.184574 | 24.47656 | 11.0 | 38.978760 | 1.1400 |  1.8700 |  89328 |  5650 | 0.063250045 |\n",
       "| 80 | Ireland    | 64.72778 | 13.865802 | 21.40642 | 24.3 |  8.208577 | 2.7819 | 13.8727 |  18561 |  1063 | 0.057270621 |\n",
       "| 81 | Israel     | 60.09777 | 11.976986 | 27.92525 | 25.2 | 21.381102 | 3.1906 |  5.0715 |  15298 |   199 | 0.013008236 |\n",
       "| 82 | Italy      | 63.91920 | 22.751680 | 13.32912 | 23.7 | 16.750712 | 3.9174 |  5.8184 | 195351 | 26384 | 0.135059457 |\n",
       "| 83 | Jamaica    | 67.45326 |  8.796643 | 23.75010 | 16.8 | 13.404151 | 0.4175 |  1.4583 |    305 |     7 | 0.022950820 |\n",
       "| 90 | Kuwait     | 75.91064 |  2.550472 | 21.53889 | 22.5 | 60.745160 | 2.5789 |  6.9694 |   2892 |    19 | 0.006569848 |\n",
       "| 93 | Latvia     | 63.96060 | 20.043620 | 15.99578 | 37.0 | 13.426458 | 3.1736 |  4.8482 |    804 |    12 | 0.014925373 |\n",
       "| 94 | Lebanon    | 66.90176 |  7.002368 | 26.09587 | 33.8 | 30.621111 | 2.3478 |  2.4438 |    704 |    24 | 0.034090909 |\n",
       "| ... | ... | ... | ... | ... | ... | ... | ... | ... | ... | ... | ... |\n",
       "| 107 | Mauritius            | 70.73213 | 11.474173 | 17.79369 | 21.60000 | 14.457827 | 2.0246000 |  3.383100 |    331 |     9 | 0.027190332 |\n",
       "| 108 | Mexico               | 66.21947 |  7.223685 | 26.55685 | 14.00000 | 20.921116 | 2.2513000 |  2.668600 |  13842 |  1305 | 0.094278283 |\n",
       "| 109 | Moldova              | 72.67035 | 11.469556 | 15.86009 | 24.20000 | 16.251033 | 3.2002000 |  4.511300 |   3304 |    94 | 0.028450363 |\n",
       "| 112 | Montenegro           | 66.81554 | 14.974937 | 18.20952 | 45.90000 | 20.781814 | 2.3337000 |  5.717900 |    320 |     6 | 0.018750000 |\n",
       "| 118 | Netherlands          | 64.69565 | 19.196193 | 16.10816 | 25.80000 | 12.034408 | 3.4875000 | 10.467500 |  37384 |  4424 | 0.118339397 |\n",
       "| 119 | New Zealand          | 64.69414 | 15.652425 | 19.65343 | 16.00000 |  5.956001 | 3.0003000 | 10.791900 |   1470 |    18 | 0.012244898 |\n",
       "| 124 | Norway               | 65.40174 | 17.049222 | 17.54904 | 20.20000 |  6.956520 | 4.3940000 | 17.862200 |   7499 |   201 | 0.026803574 |\n",
       "| 125 | Oman                 | 75.36071 |  2.392787 | 22.24651 | 11.10000 | 41.115238 | 2.1225000 |  4.602800 |   1905 |    10 | 0.005249344 |\n",
       "| 126 | Pakistan             | 60.41741 |  4.312774 | 35.26981 | 20.10000 | 58.282419 | 0.9753000 |  0.500400 |  12723 |   269 | 0.021142812 |\n",
       "| 132 | Poland               | 67.42991 | 17.517817 | 15.05228 | 28.00000 | 20.877822 | 2.3112000 |  5.745300 |  11273 |   524 | 0.046482746 |\n",
       "| 136 | Russia               | 67.41121 | 14.674708 | 17.91408 | 39.30000 | 16.160224 | 3.9632000 |  8.656700 |  74588 |   681 | 0.009130155 |\n",
       "| 137 | Rwanda               | 57.08623 |  2.938196 | 39.97557 | 12.30000 | 43.210217 | 0.1408000 |  0.830700 |    183 |     0 | 0.000000000 |\n",
       "| 143 | Senegal              | 53.85775 |  3.086824 | 43.05543 |  8.20000 | 40.695826 | 0.2018000 |  0.775500 |    614 |     7 | 0.011400651 |\n",
       "| 148 | Slovakia             | 68.92462 | 15.629247 | 15.44614 | 30.10000 | 17.562911 | 3.4414000 |  6.005200 |   1373 |    17 | 0.012381646 |\n",
       "| 149 | Slovenia             | 65.37135 | 19.606880 | 15.02178 | 22.50000 | 16.023980 | 2.8099000 |  8.809000 |   1388 |    81 | 0.058357349 |\n",
       "| 151 | South Africa         | 65.60251 |  5.318005 | 29.07949 | 20.30000 | 25.102205 | 0.7827000 |  5.039100 |   4361 |    86 | 0.019720248 |\n",
       "| 153 | Spain                | 65.95449 | 19.378508 | 14.66700 | 29.30000 |  9.697928 | 3.8493000 |  5.291900 | 223759 | 22902 | 0.102351190 |\n",
       "| 154 | Sri Lanka            | 65.32978 | 10.473220 | 24.19700 | 13.00000 | 11.099617 | 0.9746000 |  2.487000 |    460 |     7 | 0.015217391 |\n",
       "| 157 | Sweden               | 62.32269 | 20.095525 | 17.58179 | 18.80000 |  6.184665 | 4.2861000 | 11.850300 |  18177 |  2192 | 0.120591957 |\n",
       "| 158 | Switzerland          | 66.46583 | 18.623217 | 14.91095 | 25.70000 | 10.303100 | 4.1782000 | 16.815200 |  28894 |  1599 | 0.055340209 |\n",
       "| 161 | Thailand             | 71.01212 | 11.900893 | 17.08699 | 19.90000 | 26.256727 | 0.4655000 |  2.370200 |   2907 |    51 | 0.017543860 |\n",
       "| 162 | Timor-Leste          | 57.90284 |  4.316492 | 37.78066 | 42.60000 | 19.257209 | 0.6696000 |  1.428700 |     24 |     0 | 0.000000000 |\n",
       "| 163 | Togo                 | 55.79601 |  2.869468 | 41.33452 |  7.40000 | 35.731336 | 0.0487000 |  0.298000 |     96 |     6 | 0.062500000 |\n",
       "| 165 | Tunisia              | 67.51420 |  8.315679 | 24.17012 | 32.70000 | 37.655994 | 1.2999000 |  2.647800 |    939 |    38 | 0.040468584 |\n",
       "| 167 | Uganda               | 51.12849 |  1.940987 | 46.93053 | 10.00000 | 50.494321 | 0.0908000 |  0.630300 |     75 |     0 | 0.000000000 |\n",
       "| 169 | United Arab Emirates | 84.31149 |  1.085001 | 14.60351 | 28.90000 | 40.917510 | 2.2373000 |  5.041900 |   9813 |    71 | 0.007235300 |\n",
       "| 170 | United Kingdom       | 63.92605 | 18.395866 | 17.67808 | 22.30000 | 10.472690 | 2.7780000 |  8.827100 | 149569 | 20381 | 0.136264868 |\n",
       "| 171 | United States        | 65.48331 | 15.807654 | 18.70904 | 21.80000 |  7.409442 | 2.5858000 |  8.550000 | 938154 | 53755 | 0.057298695 |\n",
       "| 175 | Vietnam              | 69.55234 |  7.274978 | 23.17268 | 22.80000 | 29.626728 | 0.7887000 |  1.409200 |    270 |     0 | 0.000000000 |\n",
       "| 177 | Western Sahara       | 54.47388 |  2.987706 | 42.53841 | 10.17691 | 44.602096 | 0.2196454 |  1.028596 |      6 |     0 | 0.000000000 |\n",
       "\n"
      ],
      "text/plain": [
       "    country              age_1564 age_64up  age_0014 smok     air_polution\n",
       "9   Australia            65.15291 15.656475 19.19062 14.7      8.550324   \n",
       "10  Austria              66.70049 19.001566 14.29795 29.6     12.477967   \n",
       "13  Bahrain              78.31936  2.426334 19.25431 26.4     70.816208   \n",
       "14  Bangladesh           67.13559  5.158391 27.70602 23.0     60.845785   \n",
       "17  Belgium              64.15583 18.788744 17.05542 28.2     12.886518   \n",
       "25  Brunei               72.10039  4.873148 23.02646 16.9      5.903065   \n",
       "29  Cabo Verde           66.61291  4.609327 28.77777  9.1     34.778700   \n",
       "32  Canada               66.89774 17.232007 15.87025 14.3      6.428383   \n",
       "36  China                71.20211 10.920884 17.87700 25.6     52.664596   \n",
       "37  Colombia             68.44406  8.478047 23.07790  9.0     16.527210   \n",
       "46  Denmark              63.72878 19.812953 16.45826 19.1     10.029653   \n",
       "50  Ecuador              64.81412  7.157290 28.02859  7.1     14.886101   \n",
       "51  Egypt                60.97150  5.229779 33.79872 25.2     86.999452   \n",
       "55  Estonia              64.01657 19.626357 16.35707 31.3      6.732124   \n",
       "58  Fiji                 65.03770  5.449680 29.51262 22.6     10.840160   \n",
       "60  France               62.00891 20.034625 17.95646 32.7     11.814964   \n",
       "62  Gambia               53.14127  2.589981 44.26875 15.5     33.982639   \n",
       "63  Georgia              65.33927 14.865491 19.79524 28.8     22.196055   \n",
       "64  Germany              64.91701 21.461962 13.62103 30.6     12.028767   \n",
       "74  Hungary              66.43028 19.157725 14.41199 30.6     15.926048   \n",
       "75  Iceland              65.37259 14.795093 19.83232 14.7      6.481147   \n",
       "77  Indonesia            67.59164  5.857166 26.55120 39.4     16.502653   \n",
       "78  Iran                 69.33887  6.184574 24.47656 11.0     38.978760   \n",
       "80  Ireland              64.72778 13.865802 21.40642 24.3      8.208577   \n",
       "81  Israel               60.09777 11.976986 27.92525 25.2     21.381102   \n",
       "82  Italy                63.91920 22.751680 13.32912 23.7     16.750712   \n",
       "83  Jamaica              67.45326  8.796643 23.75010 16.8     13.404151   \n",
       "90  Kuwait               75.91064  2.550472 21.53889 22.5     60.745160   \n",
       "93  Latvia               63.96060 20.043620 15.99578 37.0     13.426458   \n",
       "94  Lebanon              66.90176  7.002368 26.09587 33.8     30.621111   \n",
       "... ...                  ...      ...       ...      ...      ...         \n",
       "107 Mauritius            70.73213 11.474173 17.79369 21.60000 14.457827   \n",
       "108 Mexico               66.21947  7.223685 26.55685 14.00000 20.921116   \n",
       "109 Moldova              72.67035 11.469556 15.86009 24.20000 16.251033   \n",
       "112 Montenegro           66.81554 14.974937 18.20952 45.90000 20.781814   \n",
       "118 Netherlands          64.69565 19.196193 16.10816 25.80000 12.034408   \n",
       "119 New Zealand          64.69414 15.652425 19.65343 16.00000  5.956001   \n",
       "124 Norway               65.40174 17.049222 17.54904 20.20000  6.956520   \n",
       "125 Oman                 75.36071  2.392787 22.24651 11.10000 41.115238   \n",
       "126 Pakistan             60.41741  4.312774 35.26981 20.10000 58.282419   \n",
       "132 Poland               67.42991 17.517817 15.05228 28.00000 20.877822   \n",
       "136 Russia               67.41121 14.674708 17.91408 39.30000 16.160224   \n",
       "137 Rwanda               57.08623  2.938196 39.97557 12.30000 43.210217   \n",
       "143 Senegal              53.85775  3.086824 43.05543  8.20000 40.695826   \n",
       "148 Slovakia             68.92462 15.629247 15.44614 30.10000 17.562911   \n",
       "149 Slovenia             65.37135 19.606880 15.02178 22.50000 16.023980   \n",
       "151 South Africa         65.60251  5.318005 29.07949 20.30000 25.102205   \n",
       "153 Spain                65.95449 19.378508 14.66700 29.30000  9.697928   \n",
       "154 Sri Lanka            65.32978 10.473220 24.19700 13.00000 11.099617   \n",
       "157 Sweden               62.32269 20.095525 17.58179 18.80000  6.184665   \n",
       "158 Switzerland          66.46583 18.623217 14.91095 25.70000 10.303100   \n",
       "161 Thailand             71.01212 11.900893 17.08699 19.90000 26.256727   \n",
       "162 Timor-Leste          57.90284  4.316492 37.78066 42.60000 19.257209   \n",
       "163 Togo                 55.79601  2.869468 41.33452  7.40000 35.731336   \n",
       "165 Tunisia              67.51420  8.315679 24.17012 32.70000 37.655994   \n",
       "167 Uganda               51.12849  1.940987 46.93053 10.00000 50.494321   \n",
       "169 United Arab Emirates 84.31149  1.085001 14.60351 28.90000 40.917510   \n",
       "170 United Kingdom       63.92605 18.395866 17.67808 22.30000 10.472690   \n",
       "171 United States        65.48331 15.807654 18.70904 21.80000  7.409442   \n",
       "175 Vietnam              69.55234  7.274978 23.17268 22.80000 29.626728   \n",
       "177 Western Sahara       54.47388  2.987706 42.53841 10.17691 44.602096   \n",
       "    doctor    nurse_midwivies confirmed death rate       \n",
       "9   3.5213    12.4667           6694       80 0.011951001\n",
       "10  5.0701     8.1758          15148      536 0.035384209\n",
       "13  0.9257     2.4944           2588        8 0.003091190\n",
       "14  0.4709     0.2665           4998      140 0.028011204\n",
       "17  3.0138    10.8193          45325     6917 0.152608935\n",
       "25  1.7701     6.6012            138        1 0.007246377\n",
       "29  0.7694     1.2272             90        1 0.011111111\n",
       "32  2.5388     9.8398          45491     2547 0.055989097\n",
       "36  1.7855     2.3073          83909     4636 0.055250331\n",
       "37  1.9379     1.1400           5142      233 0.045313108\n",
       "46  3.6743    17.2138           8643      418 0.048362837\n",
       "50  2.0734     2.4882          22719      576 0.025353229\n",
       "51  0.8100     1.5000           4319      307 0.071081269\n",
       "55  3.4152     6.3522           1635       46 0.028134557\n",
       "58  0.8374     2.9380             18        0 0.000000000\n",
       "60  3.2237    10.9403         161644    22648 0.140110366\n",
       "62  0.1077     1.6292             10        1 0.100000000\n",
       "63  5.0976     4.0914            456        5 0.010964912\n",
       "64  4.1383    12.9241         156513     5877 0.037549597\n",
       "74  3.1159     6.6811           2443      262 0.107245190\n",
       "75  3.7826    16.3144           1790       10 0.005586592\n",
       "77  0.2740     1.3001           8607      720 0.083652841\n",
       "78  1.1400     1.8700          89328     5650 0.063250045\n",
       "80  2.7819    13.8727          18561     1063 0.057270621\n",
       "81  3.1906     5.0715          15298      199 0.013008236\n",
       "82  3.9174     5.8184         195351    26384 0.135059457\n",
       "83  0.4175     1.4583            305        7 0.022950820\n",
       "90  2.5789     6.9694           2892       19 0.006569848\n",
       "93  3.1736     4.8482            804       12 0.014925373\n",
       "94  2.3478     2.4438            704       24 0.034090909\n",
       "... ...       ...             ...       ...   ...        \n",
       "107 2.0246000  3.383100          331        9 0.027190332\n",
       "108 2.2513000  2.668600        13842     1305 0.094278283\n",
       "109 3.2002000  4.511300         3304       94 0.028450363\n",
       "112 2.3337000  5.717900          320        6 0.018750000\n",
       "118 3.4875000 10.467500        37384     4424 0.118339397\n",
       "119 3.0003000 10.791900         1470       18 0.012244898\n",
       "124 4.3940000 17.862200         7499      201 0.026803574\n",
       "125 2.1225000  4.602800         1905       10 0.005249344\n",
       "126 0.9753000  0.500400        12723      269 0.021142812\n",
       "132 2.3112000  5.745300        11273      524 0.046482746\n",
       "136 3.9632000  8.656700        74588      681 0.009130155\n",
       "137 0.1408000  0.830700          183        0 0.000000000\n",
       "143 0.2018000  0.775500          614        7 0.011400651\n",
       "148 3.4414000  6.005200         1373       17 0.012381646\n",
       "149 2.8099000  8.809000         1388       81 0.058357349\n",
       "151 0.7827000  5.039100         4361       86 0.019720248\n",
       "153 3.8493000  5.291900       223759    22902 0.102351190\n",
       "154 0.9746000  2.487000          460        7 0.015217391\n",
       "157 4.2861000 11.850300        18177     2192 0.120591957\n",
       "158 4.1782000 16.815200        28894     1599 0.055340209\n",
       "161 0.4655000  2.370200         2907       51 0.017543860\n",
       "162 0.6696000  1.428700           24        0 0.000000000\n",
       "163 0.0487000  0.298000           96        6 0.062500000\n",
       "165 1.2999000  2.647800          939       38 0.040468584\n",
       "167 0.0908000  0.630300           75        0 0.000000000\n",
       "169 2.2373000  5.041900         9813       71 0.007235300\n",
       "170 2.7780000  8.827100       149569    20381 0.136264868\n",
       "171 2.5858000  8.550000       938154    53755 0.057298695\n",
       "175 0.7887000  1.409200          270        0 0.000000000\n",
       "177 0.2196454  1.028596            6        0 0.000000000"
      ]
     },
     "metadata": {},
     "output_type": "display_data"
    }
   ],
   "source": [
    "drop_na(data)"
   ]
  },
  {
   "cell_type": "markdown",
   "metadata": {},
   "source": [
    "## 6. Research questions\n",
    "\n"
   ]
  },
  {
   "cell_type": "markdown",
   "metadata": {},
   "source": [
    "## 7. Data Analysis & Visualizations"
   ]
  },
  {
   "cell_type": "code",
   "execution_count": 36,
   "metadata": {},
   "outputs": [
    {
     "data": {
      "text/html": [
       "<table>\n",
       "<caption>A tibble: 6 × 5</caption>\n",
       "<thead>\n",
       "\t<tr><th scope=col>term</th><th scope=col>estimate</th><th scope=col>std.error</th><th scope=col>statistic</th><th scope=col>p.value</th></tr>\n",
       "\t<tr><th scope=col>&lt;chr&gt;</th><th scope=col>&lt;dbl&gt;</th><th scope=col>&lt;dbl&gt;</th><th scope=col>&lt;dbl&gt;</th><th scope=col>&lt;dbl&gt;</th></tr>\n",
       "</thead>\n",
       "<tbody>\n",
       "\t<tr><td>(Intercept)    </td><td> 0.0126676901</td><td>0.0188622789</td><td> 0.6715885</td><td>0.5044233299</td></tr>\n",
       "\t<tr><td>age_64up       </td><td> 0.0050672295</td><td>0.0012844502</td><td> 3.9450571</td><td>0.0002116083</td></tr>\n",
       "\t<tr><td>smok           </td><td>-0.0003567535</td><td>0.0005786309</td><td>-0.6165476</td><td>0.5398655547</td></tr>\n",
       "\t<tr><td>air_polution   </td><td> 0.0002083572</td><td>0.0003442810</td><td> 0.6051951</td><td>0.5473316181</td></tr>\n",
       "\t<tr><td>doctor         </td><td>-0.0104240619</td><td>0.0062209343</td><td>-1.6756425</td><td>0.0990125499</td></tr>\n",
       "\t<tr><td>nurse_midwivies</td><td>-0.0004123217</td><td>0.0016039963</td><td>-0.2570590</td><td>0.7980127033</td></tr>\n",
       "</tbody>\n",
       "</table>\n"
      ],
      "text/latex": [
       "A tibble: 6 × 5\n",
       "\\begin{tabular}{r|lllll}\n",
       " term & estimate & std.error & statistic & p.value\\\\\n",
       " <chr> & <dbl> & <dbl> & <dbl> & <dbl>\\\\\n",
       "\\hline\n",
       "\t (Intercept)     &  0.0126676901 & 0.0188622789 &  0.6715885 & 0.5044233299\\\\\n",
       "\t age\\_64up        &  0.0050672295 & 0.0012844502 &  3.9450571 & 0.0002116083\\\\\n",
       "\t smok            & -0.0003567535 & 0.0005786309 & -0.6165476 & 0.5398655547\\\\\n",
       "\t air\\_polution    &  0.0002083572 & 0.0003442810 &  0.6051951 & 0.5473316181\\\\\n",
       "\t doctor          & -0.0104240619 & 0.0062209343 & -1.6756425 & 0.0990125499\\\\\n",
       "\t nurse\\_midwivies & -0.0004123217 & 0.0016039963 & -0.2570590 & 0.7980127033\\\\\n",
       "\\end{tabular}\n"
      ],
      "text/markdown": [
       "\n",
       "A tibble: 6 × 5\n",
       "\n",
       "| term &lt;chr&gt; | estimate &lt;dbl&gt; | std.error &lt;dbl&gt; | statistic &lt;dbl&gt; | p.value &lt;dbl&gt; |\n",
       "|---|---|---|---|---|\n",
       "| (Intercept)     |  0.0126676901 | 0.0188622789 |  0.6715885 | 0.5044233299 |\n",
       "| age_64up        |  0.0050672295 | 0.0012844502 |  3.9450571 | 0.0002116083 |\n",
       "| smok            | -0.0003567535 | 0.0005786309 | -0.6165476 | 0.5398655547 |\n",
       "| air_polution    |  0.0002083572 | 0.0003442810 |  0.6051951 | 0.5473316181 |\n",
       "| doctor          | -0.0104240619 | 0.0062209343 | -1.6756425 | 0.0990125499 |\n",
       "| nurse_midwivies | -0.0004123217 | 0.0016039963 | -0.2570590 | 0.7980127033 |\n",
       "\n"
      ],
      "text/plain": [
       "  term            estimate      std.error    statistic  p.value     \n",
       "1 (Intercept)      0.0126676901 0.0188622789  0.6715885 0.5044233299\n",
       "2 age_64up         0.0050672295 0.0012844502  3.9450571 0.0002116083\n",
       "3 smok            -0.0003567535 0.0005786309 -0.6165476 0.5398655547\n",
       "4 air_polution     0.0002083572 0.0003442810  0.6051951 0.5473316181\n",
       "5 doctor          -0.0104240619 0.0062209343 -1.6756425 0.0990125499\n",
       "6 nurse_midwivies -0.0004123217 0.0016039963 -0.2570590 0.7980127033"
      ]
     },
     "metadata": {},
     "output_type": "display_data"
    }
   ],
   "source": [
    "fit <- lm(rate ~ ., drop_na(data)[c(-1, -2, -4, -9, -10)])\n",
    "fit %>%\n",
    "    broom::tidy()"
   ]
  },
  {
   "cell_type": "code",
   "execution_count": 38,
   "metadata": {},
   "outputs": [
    {
     "data": {
      "text/html": [
       "<table>\n",
       "<caption>A anova: 6 × 5</caption>\n",
       "<thead>\n",
       "\t<tr><th></th><th scope=col>Df</th><th scope=col>Sum Sq</th><th scope=col>Mean Sq</th><th scope=col>F value</th><th scope=col>Pr(&gt;F)</th></tr>\n",
       "\t<tr><th></th><th scope=col>&lt;int&gt;</th><th scope=col>&lt;dbl&gt;</th><th scope=col>&lt;dbl&gt;</th><th scope=col>&lt;dbl&gt;</th><th scope=col>&lt;dbl&gt;</th></tr>\n",
       "</thead>\n",
       "<tbody>\n",
       "\t<tr><th scope=row>age_64up</th><td> 1</td><td>1.867756e-02</td><td>1.867756e-02</td><td>13.76629064</td><td>0.0004548139</td></tr>\n",
       "\t<tr><th scope=row>smok</th><td> 1</td><td>8.338623e-04</td><td>8.338623e-04</td><td> 0.61459808</td><td>0.4361458261</td></tr>\n",
       "\t<tr><th scope=row>air_polution</th><td> 1</td><td>1.119795e-03</td><td>1.119795e-03</td><td> 0.82534441</td><td>0.3672569408</td></tr>\n",
       "\t<tr><th scope=row>doctor</th><td> 1</td><td>5.703673e-03</td><td>5.703673e-03</td><td> 4.20389168</td><td>0.0447077574</td></tr>\n",
       "\t<tr><th scope=row>nurse_midwivies</th><td> 1</td><td>8.965383e-05</td><td>8.965383e-05</td><td> 0.06607934</td><td>0.7980127033</td></tr>\n",
       "\t<tr><th scope=row>Residuals</th><td>60</td><td>8.140562e-02</td><td>1.356760e-03</td><td>         NA</td><td>          NA</td></tr>\n",
       "</tbody>\n",
       "</table>\n"
      ],
      "text/latex": [
       "A anova: 6 × 5\n",
       "\\begin{tabular}{r|lllll}\n",
       "  & Df & Sum Sq & Mean Sq & F value & Pr(>F)\\\\\n",
       "  & <int> & <dbl> & <dbl> & <dbl> & <dbl>\\\\\n",
       "\\hline\n",
       "\tage\\_64up &  1 & 1.867756e-02 & 1.867756e-02 & 13.76629064 & 0.0004548139\\\\\n",
       "\tsmok &  1 & 8.338623e-04 & 8.338623e-04 &  0.61459808 & 0.4361458261\\\\\n",
       "\tair\\_polution &  1 & 1.119795e-03 & 1.119795e-03 &  0.82534441 & 0.3672569408\\\\\n",
       "\tdoctor &  1 & 5.703673e-03 & 5.703673e-03 &  4.20389168 & 0.0447077574\\\\\n",
       "\tnurse\\_midwivies &  1 & 8.965383e-05 & 8.965383e-05 &  0.06607934 & 0.7980127033\\\\\n",
       "\tResiduals & 60 & 8.140562e-02 & 1.356760e-03 &          NA &           NA\\\\\n",
       "\\end{tabular}\n"
      ],
      "text/markdown": [
       "\n",
       "A anova: 6 × 5\n",
       "\n",
       "| <!--/--> | Df &lt;int&gt; | Sum Sq &lt;dbl&gt; | Mean Sq &lt;dbl&gt; | F value &lt;dbl&gt; | Pr(&gt;F) &lt;dbl&gt; |\n",
       "|---|---|---|---|---|---|\n",
       "| age_64up |  1 | 1.867756e-02 | 1.867756e-02 | 13.76629064 | 0.0004548139 |\n",
       "| smok |  1 | 8.338623e-04 | 8.338623e-04 |  0.61459808 | 0.4361458261 |\n",
       "| air_polution |  1 | 1.119795e-03 | 1.119795e-03 |  0.82534441 | 0.3672569408 |\n",
       "| doctor |  1 | 5.703673e-03 | 5.703673e-03 |  4.20389168 | 0.0447077574 |\n",
       "| nurse_midwivies |  1 | 8.965383e-05 | 8.965383e-05 |  0.06607934 | 0.7980127033 |\n",
       "| Residuals | 60 | 8.140562e-02 | 1.356760e-03 |          NA |           NA |\n",
       "\n"
      ],
      "text/plain": [
       "                Df Sum Sq       Mean Sq      F value     Pr(>F)      \n",
       "age_64up         1 1.867756e-02 1.867756e-02 13.76629064 0.0004548139\n",
       "smok             1 8.338623e-04 8.338623e-04  0.61459808 0.4361458261\n",
       "air_polution     1 1.119795e-03 1.119795e-03  0.82534441 0.3672569408\n",
       "doctor           1 5.703673e-03 5.703673e-03  4.20389168 0.0447077574\n",
       "nurse_midwivies  1 8.965383e-05 8.965383e-05  0.06607934 0.7980127033\n",
       "Residuals       60 8.140562e-02 1.356760e-03          NA           NA"
      ]
     },
     "metadata": {},
     "output_type": "display_data"
    }
   ],
   "source": [
    "anova(fit)"
   ]
  },
  {
   "cell_type": "code",
   "execution_count": 40,
   "metadata": {},
   "outputs": [
    {
     "data": {
      "text/html": [
       "<table>\n",
       "<caption>A tibble: 2 × 5</caption>\n",
       "<thead>\n",
       "\t<tr><th scope=col>term</th><th scope=col>estimate</th><th scope=col>std.error</th><th scope=col>statistic</th><th scope=col>p.value</th></tr>\n",
       "\t<tr><th scope=col>&lt;chr&gt;</th><th scope=col>&lt;dbl&gt;</th><th scope=col>&lt;dbl&gt;</th><th scope=col>&lt;dbl&gt;</th><th scope=col>&lt;dbl&gt;</th></tr>\n",
       "</thead>\n",
       "<tbody>\n",
       "\t<tr><td>(Intercept)</td><td>0.012071280</td><td>0.0091360741</td><td>1.321277</td><td>0.1911135184</td></tr>\n",
       "\t<tr><td>age_64up   </td><td>0.002543938</td><td>0.0006947418</td><td>3.661702</td><td>0.0005096342</td></tr>\n",
       "</tbody>\n",
       "</table>\n"
      ],
      "text/latex": [
       "A tibble: 2 × 5\n",
       "\\begin{tabular}{r|lllll}\n",
       " term & estimate & std.error & statistic & p.value\\\\\n",
       " <chr> & <dbl> & <dbl> & <dbl> & <dbl>\\\\\n",
       "\\hline\n",
       "\t (Intercept) & 0.012071280 & 0.0091360741 & 1.321277 & 0.1911135184\\\\\n",
       "\t age\\_64up    & 0.002543938 & 0.0006947418 & 3.661702 & 0.0005096342\\\\\n",
       "\\end{tabular}\n"
      ],
      "text/markdown": [
       "\n",
       "A tibble: 2 × 5\n",
       "\n",
       "| term &lt;chr&gt; | estimate &lt;dbl&gt; | std.error &lt;dbl&gt; | statistic &lt;dbl&gt; | p.value &lt;dbl&gt; |\n",
       "|---|---|---|---|---|\n",
       "| (Intercept) | 0.012071280 | 0.0091360741 | 1.321277 | 0.1911135184 |\n",
       "| age_64up    | 0.002543938 | 0.0006947418 | 3.661702 | 0.0005096342 |\n",
       "\n"
      ],
      "text/plain": [
       "  term        estimate    std.error    statistic p.value     \n",
       "1 (Intercept) 0.012071280 0.0091360741 1.321277  0.1911135184\n",
       "2 age_64up    0.002543938 0.0006947418 3.661702  0.0005096342"
      ]
     },
     "metadata": {},
     "output_type": "display_data"
    }
   ],
   "source": [
    "fit_base <- lm(rate ~ age_64up, drop_na(data))\n",
    "fit_base %>%\n",
    "    broom::tidy()"
   ]
  },
  {
   "cell_type": "code",
   "execution_count": 41,
   "metadata": {},
   "outputs": [
    {
     "data": {
      "text/html": [
       "<table>\n",
       "<caption>A tibble: 3 × 5</caption>\n",
       "<thead>\n",
       "\t<tr><th scope=col>term</th><th scope=col>estimate</th><th scope=col>std.error</th><th scope=col>statistic</th><th scope=col>p.value</th></tr>\n",
       "\t<tr><th scope=col>&lt;chr&gt;</th><th scope=col>&lt;dbl&gt;</th><th scope=col>&lt;dbl&gt;</th><th scope=col>&lt;dbl&gt;</th><th scope=col>&lt;dbl&gt;</th></tr>\n",
       "</thead>\n",
       "<tbody>\n",
       "\t<tr><td>(Intercept)</td><td> 0.015853042</td><td>0.009008437</td><td> 1.759799</td><td>0.0832963278</td></tr>\n",
       "\t<tr><td>age_64up   </td><td> 0.004597708</td><td>0.001127520</td><td> 4.077717</td><td>0.0001299839</td></tr>\n",
       "\t<tr><td>doctor     </td><td>-0.011971537</td><td>0.005272208</td><td>-2.270687</td><td>0.0265942204</td></tr>\n",
       "</tbody>\n",
       "</table>\n"
      ],
      "text/latex": [
       "A tibble: 3 × 5\n",
       "\\begin{tabular}{r|lllll}\n",
       " term & estimate & std.error & statistic & p.value\\\\\n",
       " <chr> & <dbl> & <dbl> & <dbl> & <dbl>\\\\\n",
       "\\hline\n",
       "\t (Intercept) &  0.015853042 & 0.009008437 &  1.759799 & 0.0832963278\\\\\n",
       "\t age\\_64up    &  0.004597708 & 0.001127520 &  4.077717 & 0.0001299839\\\\\n",
       "\t doctor      & -0.011971537 & 0.005272208 & -2.270687 & 0.0265942204\\\\\n",
       "\\end{tabular}\n"
      ],
      "text/markdown": [
       "\n",
       "A tibble: 3 × 5\n",
       "\n",
       "| term &lt;chr&gt; | estimate &lt;dbl&gt; | std.error &lt;dbl&gt; | statistic &lt;dbl&gt; | p.value &lt;dbl&gt; |\n",
       "|---|---|---|---|---|\n",
       "| (Intercept) |  0.015853042 | 0.009008437 |  1.759799 | 0.0832963278 |\n",
       "| age_64up    |  0.004597708 | 0.001127520 |  4.077717 | 0.0001299839 |\n",
       "| doctor      | -0.011971537 | 0.005272208 | -2.270687 | 0.0265942204 |\n",
       "\n"
      ],
      "text/plain": [
       "  term        estimate     std.error   statistic p.value     \n",
       "1 (Intercept)  0.015853042 0.009008437  1.759799 0.0832963278\n",
       "2 age_64up     0.004597708 0.001127520  4.077717 0.0001299839\n",
       "3 doctor      -0.011971537 0.005272208 -2.270687 0.0265942204"
      ]
     },
     "metadata": {},
     "output_type": "display_data"
    }
   ],
   "source": [
    "fit_1 <- lm(rate ~ age_64up + doctor, drop_na(data))\n",
    "fit_1 %>%\n",
    "    broom::tidy()"
   ]
  },
  {
   "cell_type": "code",
   "execution_count": 43,
   "metadata": {},
   "outputs": [
    {
     "data": {
      "text/html": [
       "<table>\n",
       "<caption>A anova: 2 × 6</caption>\n",
       "<thead>\n",
       "\t<tr><th scope=col>Res.Df</th><th scope=col>RSS</th><th scope=col>Df</th><th scope=col>Sum of Sq</th><th scope=col>F</th><th scope=col>Pr(&gt;F)</th></tr>\n",
       "\t<tr><th scope=col>&lt;dbl&gt;</th><th scope=col>&lt;dbl&gt;</th><th scope=col>&lt;dbl&gt;</th><th scope=col>&lt;dbl&gt;</th><th scope=col>&lt;dbl&gt;</th><th scope=col>&lt;dbl&gt;</th></tr>\n",
       "</thead>\n",
       "<tbody>\n",
       "\t<tr><td>63</td><td>0.08240819</td><td>NA</td><td>          NA</td><td>      NA</td><td>        NA</td></tr>\n",
       "\t<tr><td>64</td><td>0.08915260</td><td>-1</td><td>-0.006744418</td><td>5.156021</td><td>0.02659422</td></tr>\n",
       "</tbody>\n",
       "</table>\n"
      ],
      "text/latex": [
       "A anova: 2 × 6\n",
       "\\begin{tabular}{r|llllll}\n",
       " Res.Df & RSS & Df & Sum of Sq & F & Pr(>F)\\\\\n",
       " <dbl> & <dbl> & <dbl> & <dbl> & <dbl> & <dbl>\\\\\n",
       "\\hline\n",
       "\t 63 & 0.08240819 & NA &           NA &       NA &         NA\\\\\n",
       "\t 64 & 0.08915260 & -1 & -0.006744418 & 5.156021 & 0.02659422\\\\\n",
       "\\end{tabular}\n"
      ],
      "text/markdown": [
       "\n",
       "A anova: 2 × 6\n",
       "\n",
       "| Res.Df &lt;dbl&gt; | RSS &lt;dbl&gt; | Df &lt;dbl&gt; | Sum of Sq &lt;dbl&gt; | F &lt;dbl&gt; | Pr(&gt;F) &lt;dbl&gt; |\n",
       "|---|---|---|---|---|---|\n",
       "| 63 | 0.08240819 | NA |           NA |       NA |         NA |\n",
       "| 64 | 0.08915260 | -1 | -0.006744418 | 5.156021 | 0.02659422 |\n",
       "\n"
      ],
      "text/plain": [
       "  Res.Df RSS        Df Sum of Sq    F        Pr(>F)    \n",
       "1 63     0.08240819 NA           NA       NA         NA\n",
       "2 64     0.08915260 -1 -0.006744418 5.156021 0.02659422"
      ]
     },
     "metadata": {},
     "output_type": "display_data"
    }
   ],
   "source": [
    "anova(fit_1, fit_base)"
   ]
  },
  {
   "cell_type": "markdown",
   "metadata": {},
   "source": [
    "## 8. Summary and conclusions\n"
   ]
  }
 ],
 "metadata": {
  "kernelspec": {
   "display_name": "R",
   "language": "R",
   "name": "ir"
  },
  "language_info": {
   "codemirror_mode": "r",
   "file_extension": ".r",
   "mimetype": "text/x-r-source",
   "name": "R",
   "pygments_lexer": "r",
   "version": "3.6.1"
  }
 },
 "nbformat": 4,
 "nbformat_minor": 4
}
