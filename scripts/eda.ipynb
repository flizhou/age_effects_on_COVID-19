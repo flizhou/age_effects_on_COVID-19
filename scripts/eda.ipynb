{
 "cells": [
  {
   "cell_type": "markdown",
   "metadata": {},
   "source": [
    "# Exploratory data analysis"
   ]
  },
  {
   "cell_type": "markdown",
   "metadata": {},
   "source": [
    "## 1. Dataset description\n",
    "\n",
    "\n"
   ]
  },
  {
   "cell_type": "markdown",
   "metadata": {},
   "source": [
    "## 2. Load the dataset"
   ]
  },
  {
   "cell_type": "code",
   "execution_count": 1,
   "metadata": {},
   "outputs": [
    {
     "name": "stderr",
     "output_type": "stream",
     "text": [
      "Warning message:\n",
      "\"package 'testthat' was built under R version 3.6.2\"\n",
      "Loading required package: ggplot2\n",
      "\n",
      "\n",
      "Attaching package: 'plotly'\n",
      "\n",
      "\n",
      "The following object is masked from 'package:ggplot2':\n",
      "\n",
      "    last_plot\n",
      "\n",
      "\n",
      "The following object is masked from 'package:MASS':\n",
      "\n",
      "    select\n",
      "\n",
      "\n",
      "The following object is masked from 'package:stats':\n",
      "\n",
      "    filter\n",
      "\n",
      "\n",
      "The following object is masked from 'package:graphics':\n",
      "\n",
      "    layout\n",
      "\n",
      "\n",
      "Warning message:\n",
      "\"package 'mice' was built under R version 3.6.2\"\n",
      "Loading required package: lattice\n",
      "\n",
      "\n",
      "Attaching package: 'mice'\n",
      "\n",
      "\n",
      "The following objects are masked from 'package:base':\n",
      "\n",
      "    cbind, rbind\n",
      "\n",
      "\n",
      "-- \u001b[1mAttaching packages\u001b[22m --------------------------------------- tidyverse 1.3.0 --\n",
      "\n",
      "\u001b[32mv\u001b[39m \u001b[34mtibble \u001b[39m 2.1.3     \u001b[32mv\u001b[39m \u001b[34mdplyr  \u001b[39m 0.8.3\n",
      "\u001b[32mv\u001b[39m \u001b[34mtidyr  \u001b[39m 1.0.0     \u001b[32mv\u001b[39m \u001b[34mstringr\u001b[39m 1.4.0\n",
      "\u001b[32mv\u001b[39m \u001b[34mreadr  \u001b[39m 1.3.1     \u001b[32mv\u001b[39m \u001b[34mforcats\u001b[39m 0.4.0\n",
      "\u001b[32mv\u001b[39m \u001b[34mpurrr  \u001b[39m 0.3.3     \n",
      "\n",
      "-- \u001b[1mConflicts\u001b[22m ------------------------------------------ tidyverse_conflicts() --\n",
      "\u001b[31mx\u001b[39m \u001b[34mtidyr\u001b[39m::\u001b[32mcomplete()\u001b[39m masks \u001b[34mmice\u001b[39m::complete()\n",
      "\u001b[31mx\u001b[39m \u001b[34mdplyr\u001b[39m::\u001b[32mfilter()\u001b[39m   masks \u001b[34mplotly\u001b[39m::filter(), \u001b[34mstats\u001b[39m::filter()\n",
      "\u001b[31mx\u001b[39m \u001b[34mpurrr\u001b[39m::\u001b[32mis_null()\u001b[39m  masks \u001b[34mtestthat\u001b[39m::is_null()\n",
      "\u001b[31mx\u001b[39m \u001b[34mdplyr\u001b[39m::\u001b[32mlag()\u001b[39m      masks \u001b[34mstats\u001b[39m::lag()\n",
      "\u001b[31mx\u001b[39m \u001b[34mdplyr\u001b[39m::\u001b[32mmatches()\u001b[39m  masks \u001b[34mtidyr\u001b[39m::matches(), \u001b[34mtestthat\u001b[39m::matches()\n",
      "\u001b[31mx\u001b[39m \u001b[34mdplyr\u001b[39m::\u001b[32mselect()\u001b[39m   masks \u001b[34mplotly\u001b[39m::select(), \u001b[34mMASS\u001b[39m::select()\n",
      "\n"
     ]
    }
   ],
   "source": [
    "library(testthat)\n",
    "library(MASS)\n",
    "library(plotly)\n",
    "library(htmlwidgets)\n",
    "library(mice)\n",
    "library(tidyverse)\n",
    "library(plotly)\n",
    "library(htmlwidgets)"
   ]
  },
  {
   "cell_type": "code",
   "execution_count": 2,
   "metadata": {},
   "outputs": [
    {
     "name": "stderr",
     "output_type": "stream",
     "text": [
      "Parsed with column specification:\n",
      "cols(\n",
      "  .default = col_double(),\n",
      "  `Province/State` = \u001b[31mcol_character()\u001b[39m,\n",
      "  `Country/Region` = \u001b[31mcol_character()\u001b[39m\n",
      ")\n",
      "\n",
      "See spec(...) for full column specifications.\n",
      "\n",
      "Parsed with column specification:\n",
      "cols(\n",
      "  .default = col_double(),\n",
      "  `Province/State` = \u001b[31mcol_character()\u001b[39m,\n",
      "  `Country/Region` = \u001b[31mcol_character()\u001b[39m\n",
      ")\n",
      "\n",
      "See spec(...) for full column specifications.\n",
      "\n"
     ]
    }
   ],
   "source": [
    "url <- \"https://github.com/CSSEGISandData/COVID-19/blob/master/csse_covid_19_data/csse_covid_19_time_series\"\n",
    "covid19_confirmed <- read_csv(paste(url, \"/time_series_covid19_confirmed_global.csv?raw=true\", sep = \"\"))\n",
    "covid19_death <- read_csv(paste(url, \"/time_series_covid19_deaths_global.csv?raw=true\", sep = \"\"))"
   ]
  },
  {
   "cell_type": "code",
   "execution_count": 3,
   "metadata": {},
   "outputs": [
    {
     "name": "stderr",
     "output_type": "stream",
     "text": [
      "Warning message:\n",
      "\"Missing column names filled in: 'X27' [27]\"\n",
      "Parsed with column specification:\n",
      "cols(\n",
      "  .default = col_double(),\n",
      "  CountryName = \u001b[31mcol_character()\u001b[39m,\n",
      "  CountryCode = \u001b[31mcol_character()\u001b[39m,\n",
      "  X27 = \u001b[33mcol_logical()\u001b[39m\n",
      ")\n",
      "\n",
      "See spec(...) for full column specifications.\n",
      "\n"
     ]
    }
   ],
   "source": [
    "gov_resp <- read_csv(\"https://raw.githubusercontent.com/OxCGRT/covid-policy-tracker/master/data/OxCGRT_latest.csv\")"
   ]
  },
  {
   "cell_type": "code",
   "execution_count": 4,
   "metadata": {},
   "outputs": [
    {
     "data": {
      "text/html": [
       "<table>\n",
       "<caption>A tibble: 6 × 101</caption>\n",
       "<thead>\n",
       "\t<tr><th scope=col>Province/State</th><th scope=col>Country/Region</th><th scope=col>Lat</th><th scope=col>Long</th><th scope=col>1/22/20</th><th scope=col>1/23/20</th><th scope=col>1/24/20</th><th scope=col>1/25/20</th><th scope=col>1/26/20</th><th scope=col>1/27/20</th><th scope=col>...</th><th scope=col>4/18/20</th><th scope=col>4/19/20</th><th scope=col>4/20/20</th><th scope=col>4/21/20</th><th scope=col>4/22/20</th><th scope=col>4/23/20</th><th scope=col>4/24/20</th><th scope=col>4/25/20</th><th scope=col>4/26/20</th><th scope=col>4/27/20</th></tr>\n",
       "\t<tr><th scope=col>&lt;chr&gt;</th><th scope=col>&lt;chr&gt;</th><th scope=col>&lt;dbl&gt;</th><th scope=col>&lt;dbl&gt;</th><th scope=col>&lt;dbl&gt;</th><th scope=col>&lt;dbl&gt;</th><th scope=col>&lt;dbl&gt;</th><th scope=col>&lt;dbl&gt;</th><th scope=col>&lt;dbl&gt;</th><th scope=col>&lt;dbl&gt;</th><th scope=col>...</th><th scope=col>&lt;dbl&gt;</th><th scope=col>&lt;dbl&gt;</th><th scope=col>&lt;dbl&gt;</th><th scope=col>&lt;dbl&gt;</th><th scope=col>&lt;dbl&gt;</th><th scope=col>&lt;dbl&gt;</th><th scope=col>&lt;dbl&gt;</th><th scope=col>&lt;dbl&gt;</th><th scope=col>&lt;dbl&gt;</th><th scope=col>&lt;dbl&gt;</th></tr>\n",
       "</thead>\n",
       "<tbody>\n",
       "\t<tr><td>NA</td><td>Afghanistan        </td><td> 33.0000</td><td> 65.0000</td><td>0</td><td>0</td><td>0</td><td>0</td><td>0</td><td>0</td><td>...</td><td> 933</td><td> 996</td><td>1026</td><td>1092</td><td>1176</td><td>1279</td><td>1351</td><td>1463</td><td>1531</td><td>1703</td></tr>\n",
       "\t<tr><td>NA</td><td>Albania            </td><td> 41.1533</td><td> 20.1683</td><td>0</td><td>0</td><td>0</td><td>0</td><td>0</td><td>0</td><td>...</td><td> 548</td><td> 562</td><td> 584</td><td> 609</td><td> 634</td><td> 663</td><td> 678</td><td> 712</td><td> 726</td><td> 736</td></tr>\n",
       "\t<tr><td>NA</td><td>Algeria            </td><td> 28.0339</td><td>  1.6596</td><td>0</td><td>0</td><td>0</td><td>0</td><td>0</td><td>0</td><td>...</td><td>2534</td><td>2629</td><td>2718</td><td>2811</td><td>2910</td><td>3007</td><td>3127</td><td>3256</td><td>3382</td><td>3517</td></tr>\n",
       "\t<tr><td>NA</td><td>Andorra            </td><td> 42.5063</td><td>  1.5218</td><td>0</td><td>0</td><td>0</td><td>0</td><td>0</td><td>0</td><td>...</td><td> 704</td><td> 713</td><td> 717</td><td> 717</td><td> 723</td><td> 723</td><td> 731</td><td> 738</td><td> 738</td><td> 743</td></tr>\n",
       "\t<tr><td>NA</td><td>Angola             </td><td>-11.2027</td><td> 17.8739</td><td>0</td><td>0</td><td>0</td><td>0</td><td>0</td><td>0</td><td>...</td><td>  24</td><td>  24</td><td>  24</td><td>  24</td><td>  25</td><td>  25</td><td>  25</td><td>  25</td><td>  26</td><td>  27</td></tr>\n",
       "\t<tr><td>NA</td><td>Antigua and Barbuda</td><td> 17.0608</td><td>-61.7964</td><td>0</td><td>0</td><td>0</td><td>0</td><td>0</td><td>0</td><td>...</td><td>  23</td><td>  23</td><td>  23</td><td>  23</td><td>  24</td><td>  24</td><td>  24</td><td>  24</td><td>  24</td><td>  24</td></tr>\n",
       "</tbody>\n",
       "</table>\n"
      ],
      "text/latex": [
       "A tibble: 6 × 101\n",
       "\\begin{tabular}{r|lllllllllllllllllllllllllllllllllllllllllllllllllllllllllllllllllllllllllllllllllllllllllllllllllllll}\n",
       " Province/State & Country/Region & Lat & Long & 1/22/20 & 1/23/20 & 1/24/20 & 1/25/20 & 1/26/20 & 1/27/20 & 1/28/20 & 1/29/20 & 1/30/20 & 1/31/20 & 2/1/20 & 2/2/20 & 2/3/20 & 2/4/20 & 2/5/20 & 2/6/20 & 2/7/20 & 2/8/20 & 2/9/20 & 2/10/20 & 2/11/20 & 2/12/20 & 2/13/20 & 2/14/20 & 2/15/20 & 2/16/20 & 2/17/20 & 2/18/20 & 2/19/20 & 2/20/20 & 2/21/20 & 2/22/20 & 2/23/20 & 2/24/20 & 2/25/20 & 2/26/20 & 2/27/20 & 2/28/20 & 2/29/20 & 3/1/20 & 3/2/20 & 3/3/20 & 3/4/20 & 3/5/20 & 3/6/20 & 3/7/20 & 3/8/20 & 3/9/20 & 3/10/20 & 3/11/20 & 3/12/20 & 3/13/20 & 3/14/20 & 3/15/20 & 3/16/20 & 3/17/20 & 3/18/20 & 3/19/20 & 3/20/20 & 3/21/20 & 3/22/20 & 3/23/20 & 3/24/20 & 3/25/20 & 3/26/20 & 3/27/20 & 3/28/20 & 3/29/20 & 3/30/20 & 3/31/20 & 4/1/20 & 4/2/20 & 4/3/20 & 4/4/20 & 4/5/20 & 4/6/20 & 4/7/20 & 4/8/20 & 4/9/20 & 4/10/20 & 4/11/20 & 4/12/20 & 4/13/20 & 4/14/20 & 4/15/20 & 4/16/20 & 4/17/20 & 4/18/20 & 4/19/20 & 4/20/20 & 4/21/20 & 4/22/20 & 4/23/20 & 4/24/20 & 4/25/20 & 4/26/20 & 4/27/20\\\\\n",
       " <chr> & <chr> & <dbl> & <dbl> & <dbl> & <dbl> & <dbl> & <dbl> & <dbl> & <dbl> & <dbl> & <dbl> & <dbl> & <dbl> & <dbl> & <dbl> & <dbl> & <dbl> & <dbl> & <dbl> & <dbl> & <dbl> & <dbl> & <dbl> & <dbl> & <dbl> & <dbl> & <dbl> & <dbl> & <dbl> & <dbl> & <dbl> & <dbl> & <dbl> & <dbl> & <dbl> & <dbl> & <dbl> & <dbl> & <dbl> & <dbl> & <dbl> & <dbl> & <dbl> & <dbl> & <dbl> & <dbl> & <dbl> & <dbl> & <dbl> & <dbl> & <dbl> & <dbl> & <dbl> & <dbl> & <dbl> & <dbl> & <dbl> & <dbl> & <dbl> & <dbl> & <dbl> & <dbl> & <dbl> & <dbl> & <dbl> & <dbl> & <dbl> & <dbl> & <dbl> & <dbl> & <dbl> & <dbl> & <dbl> & <dbl> & <dbl> & <dbl> & <dbl> & <dbl> & <dbl> & <dbl> & <dbl> & <dbl> & <dbl> & <dbl> & <dbl> & <dbl> & <dbl> & <dbl> & <dbl> & <dbl> & <dbl> & <dbl> & <dbl> & <dbl> & <dbl> & <dbl> & <dbl> & <dbl> & <dbl> & <dbl>\\\\\n",
       "\\hline\n",
       "\t NA & Afghanistan         &  33.0000 &  65.0000 & 0 & 0 & 0 & 0 & 0 & 0 & 0 & 0 & 0 & 0 & 0 & 0 & 0 & 0 & 0 & 0 & 0 & 0 & 0 & 0 & 0 & 0 & 0 & 0 & 0 & 0 & 0 & 0 & 0 & 0 & 0 & 0 & 0 & 1 & 1 & 1 & 1 & 1 & 1 & 1 & 1 & 1 &  1 &  1 &  1 &  1 &  4 &  4 &  5 &  7 &  7 &  7 & 11 & 16 & 21 & 22 & 22 & 22 & 24 &  24 &  40 &  40 &  74 &  84 &  94 & 110 & 110 & 120 & 170 & 174 & 237 & 273 &  281 &  299 &  349 &  367 &  423 &  444 &  484 &  521 &  555 &  607 &  665 &  714 &  784 &  840 &  906 &  933 &  996 & 1026 & 1092 & 1176 & 1279 & 1351 & 1463 & 1531 & 1703\\\\\n",
       "\t NA & Albania             &  41.1533 &  20.1683 & 0 & 0 & 0 & 0 & 0 & 0 & 0 & 0 & 0 & 0 & 0 & 0 & 0 & 0 & 0 & 0 & 0 & 0 & 0 & 0 & 0 & 0 & 0 & 0 & 0 & 0 & 0 & 0 & 0 & 0 & 0 & 0 & 0 & 0 & 0 & 0 & 0 & 0 & 0 & 0 & 0 & 0 &  0 &  0 &  0 &  0 &  0 &  2 & 10 & 12 & 23 & 33 & 38 & 42 & 51 & 55 & 59 & 64 & 70 &  76 &  89 & 104 & 123 & 146 & 174 & 186 & 197 & 212 & 223 & 243 & 259 & 277 &  304 &  333 &  361 &  377 &  383 &  400 &  409 &  416 &  433 &  446 &  467 &  475 &  494 &  518 &  539 &  548 &  562 &  584 &  609 &  634 &  663 &  678 &  712 &  726 &  736\\\\\n",
       "\t NA & Algeria             &  28.0339 &   1.6596 & 0 & 0 & 0 & 0 & 0 & 0 & 0 & 0 & 0 & 0 & 0 & 0 & 0 & 0 & 0 & 0 & 0 & 0 & 0 & 0 & 0 & 0 & 0 & 0 & 0 & 0 & 0 & 0 & 0 & 0 & 0 & 0 & 0 & 0 & 1 & 1 & 1 & 1 & 1 & 1 & 3 & 5 & 12 & 12 & 17 & 17 & 19 & 20 & 20 & 20 & 24 & 26 & 37 & 48 & 54 & 60 & 74 & 87 & 90 & 139 & 201 & 230 & 264 & 302 & 367 & 409 & 454 & 511 & 584 & 716 & 847 & 986 & 1171 & 1251 & 1320 & 1423 & 1468 & 1572 & 1666 & 1761 & 1825 & 1914 & 1983 & 2070 & 2160 & 2268 & 2418 & 2534 & 2629 & 2718 & 2811 & 2910 & 3007 & 3127 & 3256 & 3382 & 3517\\\\\n",
       "\t NA & Andorra             &  42.5063 &   1.5218 & 0 & 0 & 0 & 0 & 0 & 0 & 0 & 0 & 0 & 0 & 0 & 0 & 0 & 0 & 0 & 0 & 0 & 0 & 0 & 0 & 0 & 0 & 0 & 0 & 0 & 0 & 0 & 0 & 0 & 0 & 0 & 0 & 0 & 0 & 0 & 0 & 0 & 0 & 0 & 0 & 1 & 1 &  1 &  1 &  1 &  1 &  1 &  1 &  1 &  1 &  1 &  1 &  1 &  1 &  2 & 39 & 39 & 53 & 75 &  88 & 113 & 133 & 164 & 188 & 224 & 267 & 308 & 334 & 370 & 376 & 390 & 428 &  439 &  466 &  501 &  525 &  545 &  564 &  583 &  601 &  601 &  638 &  646 &  659 &  673 &  673 &  696 &  704 &  713 &  717 &  717 &  723 &  723 &  731 &  738 &  738 &  743\\\\\n",
       "\t NA & Angola              & -11.2027 &  17.8739 & 0 & 0 & 0 & 0 & 0 & 0 & 0 & 0 & 0 & 0 & 0 & 0 & 0 & 0 & 0 & 0 & 0 & 0 & 0 & 0 & 0 & 0 & 0 & 0 & 0 & 0 & 0 & 0 & 0 & 0 & 0 & 0 & 0 & 0 & 0 & 0 & 0 & 0 & 0 & 0 & 0 & 0 &  0 &  0 &  0 &  0 &  0 &  0 &  0 &  0 &  0 &  0 &  0 &  0 &  0 &  0 &  0 &  0 &  1 &   2 &   2 &   3 &   3 &   3 &   4 &   4 &   5 &   7 &   7 &   7 &   8 &   8 &    8 &   10 &   14 &   16 &   17 &   19 &   19 &   19 &   19 &   19 &   19 &   19 &   19 &   19 &   19 &   24 &   24 &   24 &   24 &   25 &   25 &   25 &   25 &   26 &   27\\\\\n",
       "\t NA & Antigua and Barbuda &  17.0608 & -61.7964 & 0 & 0 & 0 & 0 & 0 & 0 & 0 & 0 & 0 & 0 & 0 & 0 & 0 & 0 & 0 & 0 & 0 & 0 & 0 & 0 & 0 & 0 & 0 & 0 & 0 & 0 & 0 & 0 & 0 & 0 & 0 & 0 & 0 & 0 & 0 & 0 & 0 & 0 & 0 & 0 & 0 & 0 &  0 &  0 &  0 &  0 &  0 &  0 &  0 &  0 &  0 &  1 &  1 &  1 &  1 &  1 &  1 &  1 &  1 &   1 &   1 &   3 &   3 &   3 &   7 &   7 &   7 &   7 &   7 &   7 &   7 &   9 &   15 &   15 &   15 &   15 &   19 &   19 &   19 &   19 &   21 &   21 &   23 &   23 &   23 &   23 &   23 &   23 &   23 &   23 &   23 &   24 &   24 &   24 &   24 &   24 &   24\\\\\n",
       "\\end{tabular}\n"
      ],
      "text/markdown": [
       "\n",
       "A tibble: 6 × 101\n",
       "\n",
       "| Province/State &lt;chr&gt; | Country/Region &lt;chr&gt; | Lat &lt;dbl&gt; | Long &lt;dbl&gt; | 1/22/20 &lt;dbl&gt; | 1/23/20 &lt;dbl&gt; | 1/24/20 &lt;dbl&gt; | 1/25/20 &lt;dbl&gt; | 1/26/20 &lt;dbl&gt; | 1/27/20 &lt;dbl&gt; | ... ... | 4/18/20 &lt;dbl&gt; | 4/19/20 &lt;dbl&gt; | 4/20/20 &lt;dbl&gt; | 4/21/20 &lt;dbl&gt; | 4/22/20 &lt;dbl&gt; | 4/23/20 &lt;dbl&gt; | 4/24/20 &lt;dbl&gt; | 4/25/20 &lt;dbl&gt; | 4/26/20 &lt;dbl&gt; | 4/27/20 &lt;dbl&gt; |\n",
       "|---|---|---|---|---|---|---|---|---|---|---|---|---|---|---|---|---|---|---|---|---|\n",
       "| NA | Afghanistan         |  33.0000 |  65.0000 | 0 | 0 | 0 | 0 | 0 | 0 | ... |  933 |  996 | 1026 | 1092 | 1176 | 1279 | 1351 | 1463 | 1531 | 1703 |\n",
       "| NA | Albania             |  41.1533 |  20.1683 | 0 | 0 | 0 | 0 | 0 | 0 | ... |  548 |  562 |  584 |  609 |  634 |  663 |  678 |  712 |  726 |  736 |\n",
       "| NA | Algeria             |  28.0339 |   1.6596 | 0 | 0 | 0 | 0 | 0 | 0 | ... | 2534 | 2629 | 2718 | 2811 | 2910 | 3007 | 3127 | 3256 | 3382 | 3517 |\n",
       "| NA | Andorra             |  42.5063 |   1.5218 | 0 | 0 | 0 | 0 | 0 | 0 | ... |  704 |  713 |  717 |  717 |  723 |  723 |  731 |  738 |  738 |  743 |\n",
       "| NA | Angola              | -11.2027 |  17.8739 | 0 | 0 | 0 | 0 | 0 | 0 | ... |   24 |   24 |   24 |   24 |   25 |   25 |   25 |   25 |   26 |   27 |\n",
       "| NA | Antigua and Barbuda |  17.0608 | -61.7964 | 0 | 0 | 0 | 0 | 0 | 0 | ... |   23 |   23 |   23 |   23 |   24 |   24 |   24 |   24 |   24 |   24 |\n",
       "\n"
      ],
      "text/plain": [
       "  Province/State Country/Region      Lat      Long     1/22/20 1/23/20 1/24/20\n",
       "1 NA             Afghanistan          33.0000  65.0000 0       0       0      \n",
       "2 NA             Albania              41.1533  20.1683 0       0       0      \n",
       "3 NA             Algeria              28.0339   1.6596 0       0       0      \n",
       "4 NA             Andorra              42.5063   1.5218 0       0       0      \n",
       "5 NA             Angola              -11.2027  17.8739 0       0       0      \n",
       "6 NA             Antigua and Barbuda  17.0608 -61.7964 0       0       0      \n",
       "  1/25/20 1/26/20 1/27/20 ... 4/18/20 4/19/20 4/20/20 4/21/20 4/22/20 4/23/20\n",
       "1 0       0       0       ...  933     996    1026    1092    1176    1279   \n",
       "2 0       0       0       ...  548     562     584     609     634     663   \n",
       "3 0       0       0       ... 2534    2629    2718    2811    2910    3007   \n",
       "4 0       0       0       ...  704     713     717     717     723     723   \n",
       "5 0       0       0       ...   24      24      24      24      25      25   \n",
       "6 0       0       0       ...   23      23      23      23      24      24   \n",
       "  4/24/20 4/25/20 4/26/20 4/27/20\n",
       "1 1351    1463    1531    1703   \n",
       "2  678     712     726     736   \n",
       "3 3127    3256    3382    3517   \n",
       "4  731     738     738     743   \n",
       "5   25      25      26      27   \n",
       "6   24      24      24      24   "
      ]
     },
     "metadata": {},
     "output_type": "display_data"
    }
   ],
   "source": [
    "head(covid19_confirmed)"
   ]
  },
  {
   "cell_type": "code",
   "execution_count": null,
   "metadata": {},
   "outputs": [],
   "source": [
    "\n",
    "#'\n",
    "#'\n",
    "get_data <- function(label, skip = 4){\n",
    "    read_csv(paste(\"../data/raw_data/\", label, sep = \"\"), skip = skip)\n",
    "}\n",
    "\n",
    "with open('../data/clean_data/filenames.json', 'r') as json_data:\n",
    "    filenames = json.load(json_data)\n",
    "\n",
    "age_65up <- get_data(filenames['age_65up'])\n",
    "age_1564 <- get_data(filenames['age_1564'])\n",
    "air_pollution <- get_data(filenames['air_pollution'])\n",
    "medical_bed <- get_data(filenames['medical_bed'])\n",
    "physicians <- get_data(filenames['physicians'])\n",
    "nurses_midwives <- get_data(filenames['nurses_midwives'])\n",
    "population_density <- get_data(filenames['population_density'])\n",
    "population_total <- get_data(filenames['population_total'])\n",
    "smoking <- get_data(filenames['smoking'])"
   ]
  },
  {
   "cell_type": "code",
   "execution_count": null,
   "metadata": {},
   "outputs": [],
   "source": [
    "head(age_65up)\n",
    "head(age_1564)\n",
    "head(air_pollution)\n",
    "head(medical_bed)\n",
    "head(physicians)\n",
    "head(nurses_midwives)\n",
    "head(population_density)\n",
    "head(population_total)\n",
    "head(smoking)"
   ]
  },
  {
   "cell_type": "code",
   "execution_count": 7,
   "metadata": {},
   "outputs": [
    {
     "data": {
      "text/html": [
       "<table>\n",
       "<caption>A tibble: 6 × 27</caption>\n",
       "<thead>\n",
       "\t<tr><th scope=col>CountryName</th><th scope=col>CountryCode</th><th scope=col>Date</th><th scope=col>S1_School closing</th><th scope=col>S1_IsGeneral</th><th scope=col>S2_Workplace closing</th><th scope=col>S2_IsGeneral</th><th scope=col>S3_Cancel public events</th><th scope=col>S3_IsGeneral</th><th scope=col>S4_Close public transport</th><th scope=col>...</th><th scope=col>S9_Monetary measures</th><th scope=col>S10_Emergency investment in health care</th><th scope=col>S11_Investment in Vaccines</th><th scope=col>S12_Testing framework</th><th scope=col>S13_Contact tracing</th><th scope=col>ConfirmedCases</th><th scope=col>ConfirmedDeaths</th><th scope=col>StringencyIndex</th><th scope=col>StringencyIndexForDisplay</th><th scope=col>X27</th></tr>\n",
       "\t<tr><th scope=col>&lt;chr&gt;</th><th scope=col>&lt;chr&gt;</th><th scope=col>&lt;dbl&gt;</th><th scope=col>&lt;dbl&gt;</th><th scope=col>&lt;dbl&gt;</th><th scope=col>&lt;dbl&gt;</th><th scope=col>&lt;dbl&gt;</th><th scope=col>&lt;dbl&gt;</th><th scope=col>&lt;dbl&gt;</th><th scope=col>&lt;dbl&gt;</th><th scope=col>...</th><th scope=col>&lt;dbl&gt;</th><th scope=col>&lt;dbl&gt;</th><th scope=col>&lt;dbl&gt;</th><th scope=col>&lt;dbl&gt;</th><th scope=col>&lt;dbl&gt;</th><th scope=col>&lt;dbl&gt;</th><th scope=col>&lt;dbl&gt;</th><th scope=col>&lt;dbl&gt;</th><th scope=col>&lt;dbl&gt;</th><th scope=col>&lt;lgl&gt;</th></tr>\n",
       "</thead>\n",
       "<tbody>\n",
       "\t<tr><td>Aruba</td><td>ABW</td><td>20200101</td><td>0</td><td>NA</td><td>0</td><td>NA</td><td>0</td><td>NA</td><td>0</td><td>...</td><td>0</td><td>0</td><td>0</td><td>0</td><td>0</td><td>NA</td><td>NA</td><td>0</td><td>0</td><td>NA</td></tr>\n",
       "\t<tr><td>Aruba</td><td>ABW</td><td>20200102</td><td>0</td><td>NA</td><td>0</td><td>NA</td><td>0</td><td>NA</td><td>0</td><td>...</td><td>0</td><td>0</td><td>0</td><td>0</td><td>0</td><td>NA</td><td>NA</td><td>0</td><td>0</td><td>NA</td></tr>\n",
       "\t<tr><td>Aruba</td><td>ABW</td><td>20200103</td><td>0</td><td>NA</td><td>0</td><td>NA</td><td>0</td><td>NA</td><td>0</td><td>...</td><td>0</td><td>0</td><td>0</td><td>0</td><td>0</td><td>NA</td><td>NA</td><td>0</td><td>0</td><td>NA</td></tr>\n",
       "\t<tr><td>Aruba</td><td>ABW</td><td>20200104</td><td>0</td><td>NA</td><td>0</td><td>NA</td><td>0</td><td>NA</td><td>0</td><td>...</td><td>0</td><td>0</td><td>0</td><td>0</td><td>0</td><td>NA</td><td>NA</td><td>0</td><td>0</td><td>NA</td></tr>\n",
       "\t<tr><td>Aruba</td><td>ABW</td><td>20200105</td><td>0</td><td>NA</td><td>0</td><td>NA</td><td>0</td><td>NA</td><td>0</td><td>...</td><td>0</td><td>0</td><td>0</td><td>0</td><td>0</td><td>NA</td><td>NA</td><td>0</td><td>0</td><td>NA</td></tr>\n",
       "\t<tr><td>Aruba</td><td>ABW</td><td>20200106</td><td>0</td><td>NA</td><td>0</td><td>NA</td><td>0</td><td>NA</td><td>0</td><td>...</td><td>0</td><td>0</td><td>0</td><td>0</td><td>0</td><td>NA</td><td>NA</td><td>0</td><td>0</td><td>NA</td></tr>\n",
       "</tbody>\n",
       "</table>\n"
      ],
      "text/latex": [
       "A tibble: 6 × 27\n",
       "\\begin{tabular}{r|lllllllllllllllllllllllllll}\n",
       " CountryName & CountryCode & Date & S1\\_School closing & S1\\_IsGeneral & S2\\_Workplace closing & S2\\_IsGeneral & S3\\_Cancel public events & S3\\_IsGeneral & S4\\_Close public transport & S4\\_IsGeneral & S5\\_Public information campaigns & S5\\_IsGeneral & S6\\_Restrictions on internal movement & S6\\_IsGeneral & S7\\_International travel controls & S8\\_Fiscal measures & S9\\_Monetary measures & S10\\_Emergency investment in health care & S11\\_Investment in Vaccines & S12\\_Testing framework & S13\\_Contact tracing & ConfirmedCases & ConfirmedDeaths & StringencyIndex & StringencyIndexForDisplay & X27\\\\\n",
       " <chr> & <chr> & <dbl> & <dbl> & <dbl> & <dbl> & <dbl> & <dbl> & <dbl> & <dbl> & <dbl> & <dbl> & <dbl> & <dbl> & <dbl> & <dbl> & <dbl> & <dbl> & <dbl> & <dbl> & <dbl> & <dbl> & <dbl> & <dbl> & <dbl> & <dbl> & <lgl>\\\\\n",
       "\\hline\n",
       "\t Aruba & ABW & 20200101 & 0 & NA & 0 & NA & 0 & NA & 0 & NA & 0 & NA & 0 & NA & 0 & 0 & 0 & 0 & 0 & 0 & 0 & NA & NA & 0 & 0 & NA\\\\\n",
       "\t Aruba & ABW & 20200102 & 0 & NA & 0 & NA & 0 & NA & 0 & NA & 0 & NA & 0 & NA & 0 & 0 & 0 & 0 & 0 & 0 & 0 & NA & NA & 0 & 0 & NA\\\\\n",
       "\t Aruba & ABW & 20200103 & 0 & NA & 0 & NA & 0 & NA & 0 & NA & 0 & NA & 0 & NA & 0 & 0 & 0 & 0 & 0 & 0 & 0 & NA & NA & 0 & 0 & NA\\\\\n",
       "\t Aruba & ABW & 20200104 & 0 & NA & 0 & NA & 0 & NA & 0 & NA & 0 & NA & 0 & NA & 0 & 0 & 0 & 0 & 0 & 0 & 0 & NA & NA & 0 & 0 & NA\\\\\n",
       "\t Aruba & ABW & 20200105 & 0 & NA & 0 & NA & 0 & NA & 0 & NA & 0 & NA & 0 & NA & 0 & 0 & 0 & 0 & 0 & 0 & 0 & NA & NA & 0 & 0 & NA\\\\\n",
       "\t Aruba & ABW & 20200106 & 0 & NA & 0 & NA & 0 & NA & 0 & NA & 0 & NA & 0 & NA & 0 & 0 & 0 & 0 & 0 & 0 & 0 & NA & NA & 0 & 0 & NA\\\\\n",
       "\\end{tabular}\n"
      ],
      "text/markdown": [
       "\n",
       "A tibble: 6 × 27\n",
       "\n",
       "| CountryName &lt;chr&gt; | CountryCode &lt;chr&gt; | Date &lt;dbl&gt; | S1_School closing &lt;dbl&gt; | S1_IsGeneral &lt;dbl&gt; | S2_Workplace closing &lt;dbl&gt; | S2_IsGeneral &lt;dbl&gt; | S3_Cancel public events &lt;dbl&gt; | S3_IsGeneral &lt;dbl&gt; | S4_Close public transport &lt;dbl&gt; | ... ... | S9_Monetary measures &lt;dbl&gt; | S10_Emergency investment in health care &lt;dbl&gt; | S11_Investment in Vaccines &lt;dbl&gt; | S12_Testing framework &lt;dbl&gt; | S13_Contact tracing &lt;dbl&gt; | ConfirmedCases &lt;dbl&gt; | ConfirmedDeaths &lt;dbl&gt; | StringencyIndex &lt;dbl&gt; | StringencyIndexForDisplay &lt;dbl&gt; | X27 &lt;lgl&gt; |\n",
       "|---|---|---|---|---|---|---|---|---|---|---|---|---|---|---|---|---|---|---|---|---|\n",
       "| Aruba | ABW | 20200101 | 0 | NA | 0 | NA | 0 | NA | 0 | ... | 0 | 0 | 0 | 0 | 0 | NA | NA | 0 | 0 | NA |\n",
       "| Aruba | ABW | 20200102 | 0 | NA | 0 | NA | 0 | NA | 0 | ... | 0 | 0 | 0 | 0 | 0 | NA | NA | 0 | 0 | NA |\n",
       "| Aruba | ABW | 20200103 | 0 | NA | 0 | NA | 0 | NA | 0 | ... | 0 | 0 | 0 | 0 | 0 | NA | NA | 0 | 0 | NA |\n",
       "| Aruba | ABW | 20200104 | 0 | NA | 0 | NA | 0 | NA | 0 | ... | 0 | 0 | 0 | 0 | 0 | NA | NA | 0 | 0 | NA |\n",
       "| Aruba | ABW | 20200105 | 0 | NA | 0 | NA | 0 | NA | 0 | ... | 0 | 0 | 0 | 0 | 0 | NA | NA | 0 | 0 | NA |\n",
       "| Aruba | ABW | 20200106 | 0 | NA | 0 | NA | 0 | NA | 0 | ... | 0 | 0 | 0 | 0 | 0 | NA | NA | 0 | 0 | NA |\n",
       "\n"
      ],
      "text/plain": [
       "  CountryName CountryCode Date     S1_School closing S1_IsGeneral\n",
       "1 Aruba       ABW         20200101 0                 NA          \n",
       "2 Aruba       ABW         20200102 0                 NA          \n",
       "3 Aruba       ABW         20200103 0                 NA          \n",
       "4 Aruba       ABW         20200104 0                 NA          \n",
       "5 Aruba       ABW         20200105 0                 NA          \n",
       "6 Aruba       ABW         20200106 0                 NA          \n",
       "  S2_Workplace closing S2_IsGeneral S3_Cancel public events S3_IsGeneral\n",
       "1 0                    NA           0                       NA          \n",
       "2 0                    NA           0                       NA          \n",
       "3 0                    NA           0                       NA          \n",
       "4 0                    NA           0                       NA          \n",
       "5 0                    NA           0                       NA          \n",
       "6 0                    NA           0                       NA          \n",
       "  S4_Close public transport ... S9_Monetary measures\n",
       "1 0                         ... 0                   \n",
       "2 0                         ... 0                   \n",
       "3 0                         ... 0                   \n",
       "4 0                         ... 0                   \n",
       "5 0                         ... 0                   \n",
       "6 0                         ... 0                   \n",
       "  S10_Emergency investment in health care S11_Investment in Vaccines\n",
       "1 0                                       0                         \n",
       "2 0                                       0                         \n",
       "3 0                                       0                         \n",
       "4 0                                       0                         \n",
       "5 0                                       0                         \n",
       "6 0                                       0                         \n",
       "  S12_Testing framework S13_Contact tracing ConfirmedCases ConfirmedDeaths\n",
       "1 0                     0                   NA             NA             \n",
       "2 0                     0                   NA             NA             \n",
       "3 0                     0                   NA             NA             \n",
       "4 0                     0                   NA             NA             \n",
       "5 0                     0                   NA             NA             \n",
       "6 0                     0                   NA             NA             \n",
       "  StringencyIndex StringencyIndexForDisplay X27\n",
       "1 0               0                         NA \n",
       "2 0               0                         NA \n",
       "3 0               0                         NA \n",
       "4 0               0                         NA \n",
       "5 0               0                         NA \n",
       "6 0               0                         NA "
      ]
     },
     "metadata": {},
     "output_type": "display_data"
    }
   ],
   "source": [
    "head(gov_resp)"
   ]
  },
  {
   "cell_type": "markdown",
   "metadata": {},
   "source": [
    "## 3. Explore the dataset"
   ]
  },
  {
   "cell_type": "code",
   "execution_count": 8,
   "metadata": {},
   "outputs": [
    {
     "data": {
      "text/html": [
       "<ol class=list-inline>\n",
       "\t<li>264</li>\n",
       "\t<li>101</li>\n",
       "</ol>\n"
      ],
      "text/latex": [
       "\\begin{enumerate*}\n",
       "\\item 264\n",
       "\\item 101\n",
       "\\end{enumerate*}\n"
      ],
      "text/markdown": [
       "1. 264\n",
       "2. 101\n",
       "\n",
       "\n"
      ],
      "text/plain": [
       "[1] 264 101"
      ]
     },
     "metadata": {},
     "output_type": "display_data"
    }
   ],
   "source": [
    "dim(covid19_confirmed)"
   ]
  },
  {
   "cell_type": "code",
   "execution_count": 9,
   "metadata": {},
   "outputs": [
    {
     "data": {
      "text/html": [
       "'4/27/20'"
      ],
      "text/latex": [
       "'4/27/20'"
      ],
      "text/markdown": [
       "'4/27/20'"
      ],
      "text/plain": [
       "[1] \"4/27/20\""
      ]
     },
     "metadata": {},
     "output_type": "display_data"
    }
   ],
   "source": [
    "colnames(covid19_confirmed)[length(covid19_confirmed)]"
   ]
  },
  {
   "cell_type": "code",
   "execution_count": 10,
   "metadata": {},
   "outputs": [
    {
     "data": {
      "text/html": [
       "<ol class=list-inline>\n",
       "\t<li>264</li>\n",
       "\t<li>101</li>\n",
       "</ol>\n"
      ],
      "text/latex": [
       "\\begin{enumerate*}\n",
       "\\item 264\n",
       "\\item 101\n",
       "\\end{enumerate*}\n"
      ],
      "text/markdown": [
       "1. 264\n",
       "2. 101\n",
       "\n",
       "\n"
      ],
      "text/plain": [
       "[1] 264 101"
      ]
     },
     "metadata": {},
     "output_type": "display_data"
    }
   ],
   "source": [
    "dim(covid19_death)"
   ]
  },
  {
   "cell_type": "code",
   "execution_count": 11,
   "metadata": {},
   "outputs": [
    {
     "data": {
      "text/html": [
       "'4/27/20'"
      ],
      "text/latex": [
       "'4/27/20'"
      ],
      "text/markdown": [
       "'4/27/20'"
      ],
      "text/plain": [
       "[1] \"4/27/20\""
      ]
     },
     "metadata": {},
     "output_type": "display_data"
    }
   ],
   "source": [
    "colnames(covid19_death)[length(covid19_death)]"
   ]
  },
  {
   "cell_type": "code",
   "execution_count": 12,
   "metadata": {},
   "outputs": [
    {
     "data": {
      "text/html": [
       "151"
      ],
      "text/latex": [
       "151"
      ],
      "text/markdown": [
       "151"
      ],
      "text/plain": [
       "[1] 151"
      ]
     },
     "metadata": {},
     "output_type": "display_data"
    }
   ],
   "source": [
    "length(unique(gov_resp$CountryName))"
   ]
  },
  {
   "cell_type": "code",
   "execution_count": 13,
   "metadata": {},
   "outputs": [],
   "source": [
    "test_that(\"Column names of covid19_confirmed and covid19_death should be the same.\",\n",
    "          {expect_true(all(colnames(covid19_confirmed) == colnames(covid19_death)))\n",
    "          })"
   ]
  },
  {
   "cell_type": "code",
   "execution_count": 14,
   "metadata": {},
   "outputs": [],
   "source": [
    "test_that(\"The country column of covid19_confirmed and covid19_death should be the same.\",\n",
    "          {expect_true(all(covid19_confirmed[2] == covid19_death[2]))\n",
    "          })"
   ]
  },
  {
   "cell_type": "code",
   "execution_count": 15,
   "metadata": {},
   "outputs": [],
   "source": [
    "test_that(\"The last column of covid19_confirmed should not have missing values.\",\n",
    "          {expect_true(all(!is.na(covid19_confirmed[length(covid19_confirmed)])))\n",
    "          })"
   ]
  },
  {
   "cell_type": "code",
   "execution_count": 16,
   "metadata": {},
   "outputs": [],
   "source": [
    "test_that(\"The last column of covid19_death should not have missing values.\",\n",
    "          {expect_true(all(!is.na(covid19_death[length(covid19_death)])))\n",
    "          })"
   ]
  },
  {
   "cell_type": "markdown",
   "metadata": {},
   "source": [
    "## 4. Initial thoughts\n"
   ]
  },
  {
   "cell_type": "markdown",
   "metadata": {},
   "source": [
    "## 5. Wrangling"
   ]
  },
  {
   "cell_type": "code",
   "execution_count": 17,
   "metadata": {},
   "outputs": [],
   "source": [
    "#'\n",
    "#'\n",
    "clean_data <- function(df, name){\n",
    "    colnames(df)[1] <- 'country' \n",
    "    ret <- df[c(-2, -3, -4)] %>%\n",
    "        gather(year, {{name}}, -country) %>%\n",
    "        drop_na() %>%\n",
    "        group_by(country) %>%\n",
    "        top_n(1, year) %>%\n",
    "        ungroup() %>%\n",
    "        mutate(country = case_when(country == 'Bahamas, The' ~ 'Bahamas',\n",
    "                                   country == 'Brunei Darussalam' ~ 'Brunei',\n",
    "                                   country == 'Egypt, Arab Rep.' ~ 'Egypt',\n",
    "                                   country == 'Gambia, The' ~ 'Gambia',\n",
    "                                   country == 'Iran, Islamic Rep.' ~ 'Iran',\n",
    "                                   country == 'Korea, Dem. People’s Rep.' ~ 'South Korea',\n",
    "                                   country == 'Czech Republic' ~ 'Czechia',\n",
    "                                   country == 'Lao PDR' ~ 'Laos',\n",
    "                                   country == 'Russian Federation' ~ 'Russia',\n",
    "                                   country == 'St. Lucia' ~ 'Saint Lucia',\n",
    "                                   country == 'St. Vincent and the Grenadines' ~ 'Saint Vincent and the Grenadines',\n",
    "                                   country == 'Slovak Republic' ~ 'Slovakia',\n",
    "                                   country == 'Syrian Arab Republic' ~ 'Syria',\n",
    "                                   country == 'Venezuela, RB' ~ 'Venezuela',\n",
    "                                   country == 'Sub-Saharan Africa' ~ 'Western Sahara',\n",
    "                                   country == 'Yemen, Rep.' ~ 'Yemen',\n",
    "                                   TRUE ~ country))\n",
    "    colnames(ret)[2] <- paste(\"year_\", name, sep=\"\")\n",
    "    ret\n",
    "}"
   ]
  },
  {
   "cell_type": "code",
   "execution_count": 18,
   "metadata": {},
   "outputs": [],
   "source": [
    "age_65up <- clean_data(age_65up, \"age_65up\")\n",
    "age_1564 <- clean_data(age_1564, \"age_1564\")\n",
    "air_pollution <- clean_data(air_pollution, \"air_pollution\")\n",
    "medical_bed <- clean_data(medical_bed, \"med_bed\")\n",
    "physicians <- clean_data(physicians, \"physicians\")\n",
    "nurses_midwives <- clean_data(nurses_midwives, \"nurses_midwives\")\n",
    "population_density <- clean_data(population_density, \"pop_density\")\n",
    "population_total <- clean_data(population_total, \"pop_total\")\n",
    "smoking <- clean_data(smoking, \"smoking\")"
   ]
  },
  {
   "cell_type": "code",
   "execution_count": 19,
   "metadata": {},
   "outputs": [],
   "source": [
    "write_csv(age_65up, \"../data/clean_data/age_65up_clean.csv\")\n",
    "write_csv(age_1564, \"../data/clean_data/age_1564_clean.csv\")\n",
    "write_csv(air_pollution, \"../data/clean_data/air_pollution_clean.csv\")\n",
    "write_csv(medical_bed, \"../data/clean_data/medical_bed_clean.csv\")\n",
    "write_csv(physicians, \"../data/clean_data/physicians_clean.csv\")\n",
    "write_csv(nurses_midwives, \"../data/clean_data/nurses_midwives.csv\")\n",
    "write_csv(population_density, \"../data/clean_data/population_density_clean.csv\")\n",
    "write_csv(population_total, \"../data/clean_data/population_total_clean.csv\")\n",
    "write_csv(smoking, \"../data/clean_data/smoking_clean.csv\")"
   ]
  },
  {
   "cell_type": "code",
   "execution_count": null,
   "metadata": {},
   "outputs": [],
   "source": [
    "age_65up <- read_csv(\"../data/clean_data/age_65up_clean.csv\")\n",
    "age_1564 <- read_csv(\"../data/clean_data/age_1564_clean.csv\")\n",
    "air_pollution <- read_csv(\"../data/clean_data/air_pollution_clean.csv\")\n",
    "medical_bed <- read_csv(\"../data/clean_data/medical_bed_clean.csv\")\n",
    "physicians <- read_csv(\"../data/clean_data/physicians_clean.csv\")\n",
    "nurses_midwives <- read_csv(\"../data/clean_data/nurses_midwives.csv\")\n",
    "population_density <- read_csv(\"../data/clean_data/population_density_clean.csv\")\n",
    "population_total <- read_csv(\"../data/clean_data/population_total_clean.csv\")\n",
    "smoking <- read_csv(\"../data/clean_data/smoking_clean.csv\")"
   ]
  },
  {
   "cell_type": "code",
   "execution_count": 21,
   "metadata": {},
   "outputs": [
    {
     "data": {
      "text/html": [
       "<ol class=list-inline>\n",
       "\t<li>240</li>\n",
       "\t<li>3</li>\n",
       "</ol>\n"
      ],
      "text/latex": [
       "\\begin{enumerate*}\n",
       "\\item 240\n",
       "\\item 3\n",
       "\\end{enumerate*}\n"
      ],
      "text/markdown": [
       "1. 240\n",
       "2. 3\n",
       "\n",
       "\n"
      ],
      "text/plain": [
       "[1] 240   3"
      ]
     },
     "metadata": {},
     "output_type": "display_data"
    },
    {
     "data": {
      "text/html": [
       "<ol class=list-inline>\n",
       "\t<li>240</li>\n",
       "\t<li>3</li>\n",
       "</ol>\n"
      ],
      "text/latex": [
       "\\begin{enumerate*}\n",
       "\\item 240\n",
       "\\item 3\n",
       "\\end{enumerate*}\n"
      ],
      "text/markdown": [
       "1. 240\n",
       "2. 3\n",
       "\n",
       "\n"
      ],
      "text/plain": [
       "[1] 240   3"
      ]
     },
     "metadata": {},
     "output_type": "display_data"
    },
    {
     "data": {
      "text/html": [
       "<ol class=list-inline>\n",
       "\t<li>240</li>\n",
       "\t<li>3</li>\n",
       "</ol>\n"
      ],
      "text/latex": [
       "\\begin{enumerate*}\n",
       "\\item 240\n",
       "\\item 3\n",
       "\\end{enumerate*}\n"
      ],
      "text/markdown": [
       "1. 240\n",
       "2. 3\n",
       "\n",
       "\n"
      ],
      "text/plain": [
       "[1] 240   3"
      ]
     },
     "metadata": {},
     "output_type": "display_data"
    },
    {
     "data": {
      "text/html": [
       "<ol class=list-inline>\n",
       "\t<li>246</li>\n",
       "\t<li>3</li>\n",
       "</ol>\n"
      ],
      "text/latex": [
       "\\begin{enumerate*}\n",
       "\\item 246\n",
       "\\item 3\n",
       "\\end{enumerate*}\n"
      ],
      "text/markdown": [
       "1. 246\n",
       "2. 3\n",
       "\n",
       "\n"
      ],
      "text/plain": [
       "[1] 246   3"
      ]
     },
     "metadata": {},
     "output_type": "display_data"
    },
    {
     "data": {
      "text/html": [
       "<ol class=list-inline>\n",
       "\t<li>253</li>\n",
       "\t<li>3</li>\n",
       "</ol>\n"
      ],
      "text/latex": [
       "\\begin{enumerate*}\n",
       "\\item 253\n",
       "\\item 3\n",
       "\\end{enumerate*}\n"
      ],
      "text/markdown": [
       "1. 253\n",
       "2. 3\n",
       "\n",
       "\n"
      ],
      "text/plain": [
       "[1] 253   3"
      ]
     },
     "metadata": {},
     "output_type": "display_data"
    },
    {
     "data": {
      "text/html": [
       "<ol class=list-inline>\n",
       "\t<li>238</li>\n",
       "\t<li>3</li>\n",
       "</ol>\n"
      ],
      "text/latex": [
       "\\begin{enumerate*}\n",
       "\\item 238\n",
       "\\item 3\n",
       "\\end{enumerate*}\n"
      ],
      "text/markdown": [
       "1. 238\n",
       "2. 3\n",
       "\n",
       "\n"
      ],
      "text/plain": [
       "[1] 238   3"
      ]
     },
     "metadata": {},
     "output_type": "display_data"
    },
    {
     "data": {
      "text/html": [
       "<ol class=list-inline>\n",
       "\t<li>261</li>\n",
       "\t<li>3</li>\n",
       "</ol>\n"
      ],
      "text/latex": [
       "\\begin{enumerate*}\n",
       "\\item 261\n",
       "\\item 3\n",
       "\\end{enumerate*}\n"
      ],
      "text/markdown": [
       "1. 261\n",
       "2. 3\n",
       "\n",
       "\n"
      ],
      "text/plain": [
       "[1] 261   3"
      ]
     },
     "metadata": {},
     "output_type": "display_data"
    },
    {
     "data": {
      "text/html": [
       "<ol class=list-inline>\n",
       "\t<li>263</li>\n",
       "\t<li>3</li>\n",
       "</ol>\n"
      ],
      "text/latex": [
       "\\begin{enumerate*}\n",
       "\\item 263\n",
       "\\item 3\n",
       "\\end{enumerate*}\n"
      ],
      "text/markdown": [
       "1. 263\n",
       "2. 3\n",
       "\n",
       "\n"
      ],
      "text/plain": [
       "[1] 263   3"
      ]
     },
     "metadata": {},
     "output_type": "display_data"
    },
    {
     "data": {
      "text/html": [
       "<ol class=list-inline>\n",
       "\t<li>187</li>\n",
       "\t<li>3</li>\n",
       "</ol>\n"
      ],
      "text/latex": [
       "\\begin{enumerate*}\n",
       "\\item 187\n",
       "\\item 3\n",
       "\\end{enumerate*}\n"
      ],
      "text/markdown": [
       "1. 187\n",
       "2. 3\n",
       "\n",
       "\n"
      ],
      "text/plain": [
       "[1] 187   3"
      ]
     },
     "metadata": {},
     "output_type": "display_data"
    }
   ],
   "source": [
    "dim(age_65up)\n",
    "dim(age_1564)\n",
    "dim(air_pollution)\n",
    "dim(medical_bed)\n",
    "dim(physicians)\n",
    "dim(nurses_midwives)\n",
    "dim(population_density)\n",
    "dim(population_total)\n",
    "dim(smoking)"
   ]
  },
  {
   "cell_type": "code",
   "execution_count": 22,
   "metadata": {},
   "outputs": [],
   "source": [
    "df_list <- list(population_total, age_65up, age_1564, air_pollution, medical_bed, \n",
    "                physicians, nurses_midwives, population_density, smoking)\n",
    "country_data <- Reduce(function(left, right) merge(left, right, all = TRUE), df_list)"
   ]
  },
  {
   "cell_type": "code",
   "execution_count": 23,
   "metadata": {},
   "outputs": [
    {
     "data": {
      "text/html": [
       "<table>\n",
       "<caption>A data.frame: 6 × 19</caption>\n",
       "<thead>\n",
       "\t<tr><th scope=col>country</th><th scope=col>year_pop_total</th><th scope=col>pop_total</th><th scope=col>year_age_65up</th><th scope=col>age_65up</th><th scope=col>year_age_1564</th><th scope=col>age_1564</th><th scope=col>year_air_pollution</th><th scope=col>air_pollution</th><th scope=col>year_med_bed</th><th scope=col>med_bed</th><th scope=col>year_physicians</th><th scope=col>physicians</th><th scope=col>year_nurses_midwives</th><th scope=col>nurses_midwives</th><th scope=col>year_pop_density</th><th scope=col>pop_density</th><th scope=col>year_smoking</th><th scope=col>smoking</th></tr>\n",
       "\t<tr><th scope=col>&lt;chr&gt;</th><th scope=col>&lt;dbl&gt;</th><th scope=col>&lt;dbl&gt;</th><th scope=col>&lt;dbl&gt;</th><th scope=col>&lt;dbl&gt;</th><th scope=col>&lt;dbl&gt;</th><th scope=col>&lt;dbl&gt;</th><th scope=col>&lt;dbl&gt;</th><th scope=col>&lt;dbl&gt;</th><th scope=col>&lt;dbl&gt;</th><th scope=col>&lt;dbl&gt;</th><th scope=col>&lt;dbl&gt;</th><th scope=col>&lt;dbl&gt;</th><th scope=col>&lt;dbl&gt;</th><th scope=col>&lt;dbl&gt;</th><th scope=col>&lt;dbl&gt;</th><th scope=col>&lt;dbl&gt;</th><th scope=col>&lt;dbl&gt;</th><th scope=col>&lt;dbl&gt;</th></tr>\n",
       "</thead>\n",
       "<tbody>\n",
       "\t<tr><td>Afghanistan   </td><td>2018</td><td>37172386</td><td>2018</td><td> 2.584927</td><td>2018</td><td>54.32490</td><td>2017</td><td>56.91081</td><td>2015</td><td>0.5</td><td>2016</td><td>0.2840</td><td>2014</td><td>0.3200</td><td>2018</td><td> 56.93776</td><td>  NA</td><td>  NA</td></tr>\n",
       "\t<tr><td>Albania       </td><td>2018</td><td> 2866376</td><td>2018</td><td>13.744736</td><td>2018</td><td>68.58239</td><td>2017</td><td>18.20060</td><td>2013</td><td>2.9</td><td>2016</td><td>1.1998</td><td>2016</td><td>3.5998</td><td>2018</td><td>104.61226</td><td>2016</td><td>28.7</td></tr>\n",
       "\t<tr><td>Algeria       </td><td>2018</td><td>42228429</td><td>2018</td><td> 6.362497</td><td>2018</td><td>63.48882</td><td>2017</td><td>38.88401</td><td>2015</td><td>1.9</td><td>2016</td><td>1.8300</td><td>2016</td><td>2.2400</td><td>2018</td><td> 17.73008</td><td>2016</td><td>15.6</td></tr>\n",
       "\t<tr><td>American Samoa</td><td>2018</td><td>   55465</td><td>  NA</td><td>       NA</td><td>  NA</td><td>      NA</td><td>2017</td><td>12.47382</td><td>  NA</td><td> NA</td><td>1999</td><td>0.7810</td><td>  NA</td><td>    NA</td><td>2018</td><td>277.32500</td><td>  NA</td><td>  NA</td></tr>\n",
       "\t<tr><td>Andorra       </td><td>2018</td><td>   77006</td><td>  NA</td><td>       NA</td><td>  NA</td><td>      NA</td><td>2017</td><td>10.30762</td><td>2009</td><td>2.5</td><td>2015</td><td>3.3333</td><td>2015</td><td>4.0128</td><td>2018</td><td>163.84255</td><td>2016</td><td>33.5</td></tr>\n",
       "\t<tr><td>Angola        </td><td>2018</td><td>30809762</td><td>2018</td><td> 2.216374</td><td>2018</td><td>50.97470</td><td>2017</td><td>32.38850</td><td>2005</td><td>0.8</td><td>2017</td><td>0.2149</td><td>2009</td><td>1.3123</td><td>2018</td><td> 24.71305</td><td>  NA</td><td>  NA</td></tr>\n",
       "</tbody>\n",
       "</table>\n"
      ],
      "text/latex": [
       "A data.frame: 6 × 19\n",
       "\\begin{tabular}{r|lllllllllllllllllll}\n",
       " country & year\\_pop\\_total & pop\\_total & year\\_age\\_65up & age\\_65up & year\\_age\\_1564 & age\\_1564 & year\\_air\\_pollution & air\\_pollution & year\\_med\\_bed & med\\_bed & year\\_physicians & physicians & year\\_nurses\\_midwives & nurses\\_midwives & year\\_pop\\_density & pop\\_density & year\\_smoking & smoking\\\\\n",
       " <chr> & <dbl> & <dbl> & <dbl> & <dbl> & <dbl> & <dbl> & <dbl> & <dbl> & <dbl> & <dbl> & <dbl> & <dbl> & <dbl> & <dbl> & <dbl> & <dbl> & <dbl> & <dbl>\\\\\n",
       "\\hline\n",
       "\t Afghanistan    & 2018 & 37172386 & 2018 &  2.584927 & 2018 & 54.32490 & 2017 & 56.91081 & 2015 & 0.5 & 2016 & 0.2840 & 2014 & 0.3200 & 2018 &  56.93776 &   NA &   NA\\\\\n",
       "\t Albania        & 2018 &  2866376 & 2018 & 13.744736 & 2018 & 68.58239 & 2017 & 18.20060 & 2013 & 2.9 & 2016 & 1.1998 & 2016 & 3.5998 & 2018 & 104.61226 & 2016 & 28.7\\\\\n",
       "\t Algeria        & 2018 & 42228429 & 2018 &  6.362497 & 2018 & 63.48882 & 2017 & 38.88401 & 2015 & 1.9 & 2016 & 1.8300 & 2016 & 2.2400 & 2018 &  17.73008 & 2016 & 15.6\\\\\n",
       "\t American Samoa & 2018 &    55465 &   NA &        NA &   NA &       NA & 2017 & 12.47382 &   NA &  NA & 1999 & 0.7810 &   NA &     NA & 2018 & 277.32500 &   NA &   NA\\\\\n",
       "\t Andorra        & 2018 &    77006 &   NA &        NA &   NA &       NA & 2017 & 10.30762 & 2009 & 2.5 & 2015 & 3.3333 & 2015 & 4.0128 & 2018 & 163.84255 & 2016 & 33.5\\\\\n",
       "\t Angola         & 2018 & 30809762 & 2018 &  2.216374 & 2018 & 50.97470 & 2017 & 32.38850 & 2005 & 0.8 & 2017 & 0.2149 & 2009 & 1.3123 & 2018 &  24.71305 &   NA &   NA\\\\\n",
       "\\end{tabular}\n"
      ],
      "text/markdown": [
       "\n",
       "A data.frame: 6 × 19\n",
       "\n",
       "| country &lt;chr&gt; | year_pop_total &lt;dbl&gt; | pop_total &lt;dbl&gt; | year_age_65up &lt;dbl&gt; | age_65up &lt;dbl&gt; | year_age_1564 &lt;dbl&gt; | age_1564 &lt;dbl&gt; | year_air_pollution &lt;dbl&gt; | air_pollution &lt;dbl&gt; | year_med_bed &lt;dbl&gt; | med_bed &lt;dbl&gt; | year_physicians &lt;dbl&gt; | physicians &lt;dbl&gt; | year_nurses_midwives &lt;dbl&gt; | nurses_midwives &lt;dbl&gt; | year_pop_density &lt;dbl&gt; | pop_density &lt;dbl&gt; | year_smoking &lt;dbl&gt; | smoking &lt;dbl&gt; |\n",
       "|---|---|---|---|---|---|---|---|---|---|---|---|---|---|---|---|---|---|---|\n",
       "| Afghanistan    | 2018 | 37172386 | 2018 |  2.584927 | 2018 | 54.32490 | 2017 | 56.91081 | 2015 | 0.5 | 2016 | 0.2840 | 2014 | 0.3200 | 2018 |  56.93776 |   NA |   NA |\n",
       "| Albania        | 2018 |  2866376 | 2018 | 13.744736 | 2018 | 68.58239 | 2017 | 18.20060 | 2013 | 2.9 | 2016 | 1.1998 | 2016 | 3.5998 | 2018 | 104.61226 | 2016 | 28.7 |\n",
       "| Algeria        | 2018 | 42228429 | 2018 |  6.362497 | 2018 | 63.48882 | 2017 | 38.88401 | 2015 | 1.9 | 2016 | 1.8300 | 2016 | 2.2400 | 2018 |  17.73008 | 2016 | 15.6 |\n",
       "| American Samoa | 2018 |    55465 |   NA |        NA |   NA |       NA | 2017 | 12.47382 |   NA |  NA | 1999 | 0.7810 |   NA |     NA | 2018 | 277.32500 |   NA |   NA |\n",
       "| Andorra        | 2018 |    77006 |   NA |        NA |   NA |       NA | 2017 | 10.30762 | 2009 | 2.5 | 2015 | 3.3333 | 2015 | 4.0128 | 2018 | 163.84255 | 2016 | 33.5 |\n",
       "| Angola         | 2018 | 30809762 | 2018 |  2.216374 | 2018 | 50.97470 | 2017 | 32.38850 | 2005 | 0.8 | 2017 | 0.2149 | 2009 | 1.3123 | 2018 |  24.71305 |   NA |   NA |\n",
       "\n"
      ],
      "text/plain": [
       "  country        year_pop_total pop_total year_age_65up age_65up  year_age_1564\n",
       "1 Afghanistan    2018           37172386  2018           2.584927 2018         \n",
       "2 Albania        2018            2866376  2018          13.744736 2018         \n",
       "3 Algeria        2018           42228429  2018           6.362497 2018         \n",
       "4 American Samoa 2018              55465    NA                 NA   NA         \n",
       "5 Andorra        2018              77006    NA                 NA   NA         \n",
       "6 Angola         2018           30809762  2018           2.216374 2018         \n",
       "  age_1564 year_air_pollution air_pollution year_med_bed med_bed\n",
       "1 54.32490 2017               56.91081      2015         0.5    \n",
       "2 68.58239 2017               18.20060      2013         2.9    \n",
       "3 63.48882 2017               38.88401      2015         1.9    \n",
       "4       NA 2017               12.47382        NA          NA    \n",
       "5       NA 2017               10.30762      2009         2.5    \n",
       "6 50.97470 2017               32.38850      2005         0.8    \n",
       "  year_physicians physicians year_nurses_midwives nurses_midwives\n",
       "1 2016            0.2840     2014                 0.3200         \n",
       "2 2016            1.1998     2016                 3.5998         \n",
       "3 2016            1.8300     2016                 2.2400         \n",
       "4 1999            0.7810       NA                     NA         \n",
       "5 2015            3.3333     2015                 4.0128         \n",
       "6 2017            0.2149     2009                 1.3123         \n",
       "  year_pop_density pop_density year_smoking smoking\n",
       "1 2018              56.93776     NA           NA   \n",
       "2 2018             104.61226   2016         28.7   \n",
       "3 2018              17.73008   2016         15.6   \n",
       "4 2018             277.32500     NA           NA   \n",
       "5 2018             163.84255   2016         33.5   \n",
       "6 2018              24.71305     NA           NA   "
      ]
     },
     "metadata": {},
     "output_type": "display_data"
    }
   ],
   "source": [
    "head(country_data)"
   ]
  },
  {
   "cell_type": "code",
   "execution_count": 24,
   "metadata": {},
   "outputs": [
    {
     "data": {
      "text/html": [
       "<ol class=list-inline>\n",
       "\t<li>263</li>\n",
       "\t<li>19</li>\n",
       "</ol>\n"
      ],
      "text/latex": [
       "\\begin{enumerate*}\n",
       "\\item 263\n",
       "\\item 19\n",
       "\\end{enumerate*}\n"
      ],
      "text/markdown": [
       "1. 263\n",
       "2. 19\n",
       "\n",
       "\n"
      ],
      "text/plain": [
       "[1] 263  19"
      ]
     },
     "metadata": {},
     "output_type": "display_data"
    }
   ],
   "source": [
    "dim(country_data)"
   ]
  },
  {
   "cell_type": "code",
   "execution_count": 25,
   "metadata": {},
   "outputs": [],
   "source": [
    "confirmed <- covid19_confirmed[c(2, length(covid19_confirmed))]\n",
    "colnames(confirmed) = c(\"country\", \"n\")\n",
    "\n",
    "confirmed <- confirmed %>%\n",
    "    group_by(country) %>%\n",
    "    summarize(confirmed = sum(n))"
   ]
  },
  {
   "cell_type": "code",
   "execution_count": 26,
   "metadata": {},
   "outputs": [],
   "source": [
    "death <- covid19_death[c(2, length(covid19_death))]\n",
    "colnames(death) = c(\"country\", \"n\")\n",
    "\n",
    "death <- death %>%\n",
    "    group_by(country) %>%\n",
    "    summarize(death = sum(n))"
   ]
  },
  {
   "cell_type": "code",
   "execution_count": 27,
   "metadata": {},
   "outputs": [
    {
     "data": {
      "text/html": [
       "<table>\n",
       "<caption>A data.frame: 6 × 4</caption>\n",
       "<thead>\n",
       "\t<tr><th scope=col>country</th><th scope=col>confirmed</th><th scope=col>death</th><th scope=col>rate</th></tr>\n",
       "\t<tr><th scope=col>&lt;chr&gt;</th><th scope=col>&lt;dbl&gt;</th><th scope=col>&lt;dbl&gt;</th><th scope=col>&lt;dbl&gt;</th></tr>\n",
       "</thead>\n",
       "<tbody>\n",
       "\t<tr><td>Afghanistan        </td><td>1703</td><td> 57</td><td>0.03347035</td></tr>\n",
       "\t<tr><td>Albania            </td><td> 736</td><td> 28</td><td>0.03804348</td></tr>\n",
       "\t<tr><td>Algeria            </td><td>3517</td><td>432</td><td>0.12283196</td></tr>\n",
       "\t<tr><td>Andorra            </td><td> 743</td><td> 40</td><td>0.05383580</td></tr>\n",
       "\t<tr><td>Angola             </td><td>  27</td><td>  2</td><td>0.07407407</td></tr>\n",
       "\t<tr><td>Antigua and Barbuda</td><td>  24</td><td>  3</td><td>0.12500000</td></tr>\n",
       "</tbody>\n",
       "</table>\n"
      ],
      "text/latex": [
       "A data.frame: 6 × 4\n",
       "\\begin{tabular}{r|llll}\n",
       " country & confirmed & death & rate\\\\\n",
       " <chr> & <dbl> & <dbl> & <dbl>\\\\\n",
       "\\hline\n",
       "\t Afghanistan         & 1703 &  57 & 0.03347035\\\\\n",
       "\t Albania             &  736 &  28 & 0.03804348\\\\\n",
       "\t Algeria             & 3517 & 432 & 0.12283196\\\\\n",
       "\t Andorra             &  743 &  40 & 0.05383580\\\\\n",
       "\t Angola              &   27 &   2 & 0.07407407\\\\\n",
       "\t Antigua and Barbuda &   24 &   3 & 0.12500000\\\\\n",
       "\\end{tabular}\n"
      ],
      "text/markdown": [
       "\n",
       "A data.frame: 6 × 4\n",
       "\n",
       "| country &lt;chr&gt; | confirmed &lt;dbl&gt; | death &lt;dbl&gt; | rate &lt;dbl&gt; |\n",
       "|---|---|---|---|\n",
       "| Afghanistan         | 1703 |  57 | 0.03347035 |\n",
       "| Albania             |  736 |  28 | 0.03804348 |\n",
       "| Algeria             | 3517 | 432 | 0.12283196 |\n",
       "| Andorra             |  743 |  40 | 0.05383580 |\n",
       "| Angola              |   27 |   2 | 0.07407407 |\n",
       "| Antigua and Barbuda |   24 |   3 | 0.12500000 |\n",
       "\n"
      ],
      "text/plain": [
       "  country             confirmed death rate      \n",
       "1 Afghanistan         1703       57   0.03347035\n",
       "2 Albania              736       28   0.03804348\n",
       "3 Algeria             3517      432   0.12283196\n",
       "4 Andorra              743       40   0.05383580\n",
       "5 Angola                27        2   0.07407407\n",
       "6 Antigua and Barbuda   24        3   0.12500000"
      ]
     },
     "metadata": {},
     "output_type": "display_data"
    }
   ],
   "source": [
    "covid19 <- merge(confirmed, death, by = \"country\") %>%\n",
    "    mutate(rate = death / confirmed)\n",
    "head(covid19)"
   ]
  },
  {
   "cell_type": "code",
   "execution_count": 28,
   "metadata": {},
   "outputs": [
    {
     "data": {
      "text/html": [
       "<ol class=list-inline>\n",
       "\t<li>185</li>\n",
       "\t<li>4</li>\n",
       "</ol>\n"
      ],
      "text/latex": [
       "\\begin{enumerate*}\n",
       "\\item 185\n",
       "\\item 4\n",
       "\\end{enumerate*}\n"
      ],
      "text/markdown": [
       "1. 185\n",
       "2. 4\n",
       "\n",
       "\n"
      ],
      "text/plain": [
       "[1] 185   4"
      ]
     },
     "metadata": {},
     "output_type": "display_data"
    }
   ],
   "source": [
    "dim(covid19)"
   ]
  },
  {
   "cell_type": "code",
   "execution_count": 29,
   "metadata": {},
   "outputs": [
    {
     "data": {
      "text/html": [
       "<table>\n",
       "<caption>A data.frame: 0 × 4</caption>\n",
       "<thead>\n",
       "\t<tr><th scope=col>country</th><th scope=col>confirmed</th><th scope=col>death</th><th scope=col>rate</th></tr>\n",
       "\t<tr><th scope=col>&lt;chr&gt;</th><th scope=col>&lt;dbl&gt;</th><th scope=col>&lt;dbl&gt;</th><th scope=col>&lt;dbl&gt;</th></tr>\n",
       "</thead>\n",
       "<tbody>\n",
       "</tbody>\n",
       "</table>\n"
      ],
      "text/latex": [
       "A data.frame: 0 × 4\n",
       "\\begin{tabular}{r|llll}\n",
       " country & confirmed & death & rate\\\\\n",
       " <chr> & <dbl> & <dbl> & <dbl>\\\\\n",
       "\\hline\n",
       "\\end{tabular}\n"
      ],
      "text/markdown": [
       "\n",
       "A data.frame: 0 × 4\n",
       "\n",
       "| country &lt;chr&gt; | confirmed &lt;dbl&gt; | death &lt;dbl&gt; | rate &lt;dbl&gt; |\n",
       "|---|---|---|---|\n",
       "\n"
      ],
      "text/plain": [
       "     country confirmed death rate"
      ]
     },
     "metadata": {},
     "output_type": "display_data"
    }
   ],
   "source": [
    "covid19 %>%\n",
    "    filter(rate >= 1)"
   ]
  },
  {
   "cell_type": "code",
   "execution_count": 30,
   "metadata": {},
   "outputs": [
    {
     "data": {
      "text/html": [
       "<table>\n",
       "<caption>A data.frame: 11 × 4</caption>\n",
       "<thead>\n",
       "\t<tr><th scope=col>country</th><th scope=col>confirmed</th><th scope=col>death</th><th scope=col>rate</th></tr>\n",
       "\t<tr><th scope=col>&lt;chr&gt;</th><th scope=col>&lt;dbl&gt;</th><th scope=col>&lt;dbl&gt;</th><th scope=col>&lt;dbl&gt;</th></tr>\n",
       "</thead>\n",
       "<tbody>\n",
       "\t<tr><td>Burma                </td><td>   146</td><td>    5</td><td>0.03424658</td></tr>\n",
       "\t<tr><td>Congo (Brazzaville)  </td><td>   200</td><td>    6</td><td>0.03000000</td></tr>\n",
       "\t<tr><td>Congo (Kinshasa)     </td><td>   459</td><td>   28</td><td>0.06100218</td></tr>\n",
       "\t<tr><td>Diamond Princess     </td><td>   712</td><td>   13</td><td>0.01825843</td></tr>\n",
       "\t<tr><td>Holy See             </td><td>     9</td><td>    0</td><td>0.00000000</td></tr>\n",
       "\t<tr><td>Korea, South         </td><td> 10752</td><td>  244</td><td>0.02269345</td></tr>\n",
       "\t<tr><td>Kyrgyzstan           </td><td>   695</td><td>    8</td><td>0.01151079</td></tr>\n",
       "\t<tr><td>MS Zaandam           </td><td>     9</td><td>    2</td><td>0.22222222</td></tr>\n",
       "\t<tr><td>Saint Kitts and Nevis</td><td>    15</td><td>    0</td><td>0.00000000</td></tr>\n",
       "\t<tr><td>Taiwan*              </td><td>   429</td><td>    6</td><td>0.01398601</td></tr>\n",
       "\t<tr><td>US                   </td><td>988197</td><td>56259</td><td>0.05693096</td></tr>\n",
       "</tbody>\n",
       "</table>\n"
      ],
      "text/latex": [
       "A data.frame: 11 × 4\n",
       "\\begin{tabular}{r|llll}\n",
       " country & confirmed & death & rate\\\\\n",
       " <chr> & <dbl> & <dbl> & <dbl>\\\\\n",
       "\\hline\n",
       "\t Burma                 &    146 &     5 & 0.03424658\\\\\n",
       "\t Congo (Brazzaville)   &    200 &     6 & 0.03000000\\\\\n",
       "\t Congo (Kinshasa)      &    459 &    28 & 0.06100218\\\\\n",
       "\t Diamond Princess      &    712 &    13 & 0.01825843\\\\\n",
       "\t Holy See              &      9 &     0 & 0.00000000\\\\\n",
       "\t Korea, South          &  10752 &   244 & 0.02269345\\\\\n",
       "\t Kyrgyzstan            &    695 &     8 & 0.01151079\\\\\n",
       "\t MS Zaandam            &      9 &     2 & 0.22222222\\\\\n",
       "\t Saint Kitts and Nevis &     15 &     0 & 0.00000000\\\\\n",
       "\t Taiwan*               &    429 &     6 & 0.01398601\\\\\n",
       "\t US                    & 988197 & 56259 & 0.05693096\\\\\n",
       "\\end{tabular}\n"
      ],
      "text/markdown": [
       "\n",
       "A data.frame: 11 × 4\n",
       "\n",
       "| country &lt;chr&gt; | confirmed &lt;dbl&gt; | death &lt;dbl&gt; | rate &lt;dbl&gt; |\n",
       "|---|---|---|---|\n",
       "| Burma                 |    146 |     5 | 0.03424658 |\n",
       "| Congo (Brazzaville)   |    200 |     6 | 0.03000000 |\n",
       "| Congo (Kinshasa)      |    459 |    28 | 0.06100218 |\n",
       "| Diamond Princess      |    712 |    13 | 0.01825843 |\n",
       "| Holy See              |      9 |     0 | 0.00000000 |\n",
       "| Korea, South          |  10752 |   244 | 0.02269345 |\n",
       "| Kyrgyzstan            |    695 |     8 | 0.01151079 |\n",
       "| MS Zaandam            |      9 |     2 | 0.22222222 |\n",
       "| Saint Kitts and Nevis |     15 |     0 | 0.00000000 |\n",
       "| Taiwan*               |    429 |     6 | 0.01398601 |\n",
       "| US                    | 988197 | 56259 | 0.05693096 |\n",
       "\n"
      ],
      "text/plain": [
       "   country               confirmed death rate      \n",
       "1  Burma                    146        5 0.03424658\n",
       "2  Congo (Brazzaville)      200        6 0.03000000\n",
       "3  Congo (Kinshasa)         459       28 0.06100218\n",
       "4  Diamond Princess         712       13 0.01825843\n",
       "5  Holy See                   9        0 0.00000000\n",
       "6  Korea, South           10752      244 0.02269345\n",
       "7  Kyrgyzstan               695        8 0.01151079\n",
       "8  MS Zaandam                 9        2 0.22222222\n",
       "9  Saint Kitts and Nevis     15        0 0.00000000\n",
       "10 Taiwan*                  429        6 0.01398601\n",
       "11 US                    988197    56259 0.05693096"
      ]
     },
     "metadata": {},
     "output_type": "display_data"
    }
   ],
   "source": [
    "covid19 %>%\n",
    "    filter(!country %in% country_data$country)"
   ]
  },
  {
   "cell_type": "code",
   "execution_count": 31,
   "metadata": {},
   "outputs": [],
   "source": [
    "date_df <- gov_resp %>%\n",
    "    group_by(CountryName) %>%\n",
    "    summarize(Date = max(Date))"
   ]
  },
  {
   "cell_type": "code",
   "execution_count": 32,
   "metadata": {},
   "outputs": [],
   "source": [
    "gov_resp <- merge(gov_resp, date_df, by=c(\"CountryName\", \"Date\")) %>%\n",
    "    select(CountryName, StringencyIndexForDisplay)\n",
    "colnames(gov_resp) <- c(\"country\", \"gov_resp\")"
   ]
  },
  {
   "cell_type": "code",
   "execution_count": 33,
   "metadata": {},
   "outputs": [
    {
     "data": {
      "text/html": [
       "<table>\n",
       "<caption>A data.frame: 18 × 2</caption>\n",
       "<thead>\n",
       "\t<tr><th scope=col>country</th><th scope=col>gov_resp</th></tr>\n",
       "\t<tr><th scope=col>&lt;chr&gt;</th><th scope=col>&lt;dbl&gt;</th></tr>\n",
       "</thead>\n",
       "<tbody>\n",
       "\t<tr><td>Aruba                       </td><td> 85.71</td></tr>\n",
       "\t<tr><td>Bermuda                     </td><td> 85.71</td></tr>\n",
       "\t<tr><td>Cape Verde                  </td><td>    NA</td></tr>\n",
       "\t<tr><td>Czech Republic              </td><td> 80.95</td></tr>\n",
       "\t<tr><td>Democratic Republic of Congo</td><td> 85.71</td></tr>\n",
       "\t<tr><td>Greenland                   </td><td> 71.43</td></tr>\n",
       "\t<tr><td>Guam                        </td><td> 76.19</td></tr>\n",
       "\t<tr><td>Hong Kong                   </td><td> 85.71</td></tr>\n",
       "\t<tr><td>Kyrgyz Republic             </td><td> 90.48</td></tr>\n",
       "\t<tr><td>Lesotho                     </td><td>100.00</td></tr>\n",
       "\t<tr><td>Macao                       </td><td> 66.67</td></tr>\n",
       "\t<tr><td>Myanmar                     </td><td> 80.95</td></tr>\n",
       "\t<tr><td>Palestine                   </td><td> 54.76</td></tr>\n",
       "\t<tr><td>Puerto Rico                 </td><td> 80.95</td></tr>\n",
       "\t<tr><td>Slovak Republic             </td><td> 80.95</td></tr>\n",
       "\t<tr><td>South Korea                 </td><td> 76.19</td></tr>\n",
       "\t<tr><td>Taiwan                      </td><td> 38.10</td></tr>\n",
       "\t<tr><td>United States               </td><td> 76.19</td></tr>\n",
       "</tbody>\n",
       "</table>\n"
      ],
      "text/latex": [
       "A data.frame: 18 × 2\n",
       "\\begin{tabular}{r|ll}\n",
       " country & gov\\_resp\\\\\n",
       " <chr> & <dbl>\\\\\n",
       "\\hline\n",
       "\t Aruba                        &  85.71\\\\\n",
       "\t Bermuda                      &  85.71\\\\\n",
       "\t Cape Verde                   &     NA\\\\\n",
       "\t Czech Republic               &  80.95\\\\\n",
       "\t Democratic Republic of Congo &  85.71\\\\\n",
       "\t Greenland                    &  71.43\\\\\n",
       "\t Guam                         &  76.19\\\\\n",
       "\t Hong Kong                    &  85.71\\\\\n",
       "\t Kyrgyz Republic              &  90.48\\\\\n",
       "\t Lesotho                      & 100.00\\\\\n",
       "\t Macao                        &  66.67\\\\\n",
       "\t Myanmar                      &  80.95\\\\\n",
       "\t Palestine                    &  54.76\\\\\n",
       "\t Puerto Rico                  &  80.95\\\\\n",
       "\t Slovak Republic              &  80.95\\\\\n",
       "\t South Korea                  &  76.19\\\\\n",
       "\t Taiwan                       &  38.10\\\\\n",
       "\t United States                &  76.19\\\\\n",
       "\\end{tabular}\n"
      ],
      "text/markdown": [
       "\n",
       "A data.frame: 18 × 2\n",
       "\n",
       "| country &lt;chr&gt; | gov_resp &lt;dbl&gt; |\n",
       "|---|---|\n",
       "| Aruba                        |  85.71 |\n",
       "| Bermuda                      |  85.71 |\n",
       "| Cape Verde                   |     NA |\n",
       "| Czech Republic               |  80.95 |\n",
       "| Democratic Republic of Congo |  85.71 |\n",
       "| Greenland                    |  71.43 |\n",
       "| Guam                         |  76.19 |\n",
       "| Hong Kong                    |  85.71 |\n",
       "| Kyrgyz Republic              |  90.48 |\n",
       "| Lesotho                      | 100.00 |\n",
       "| Macao                        |  66.67 |\n",
       "| Myanmar                      |  80.95 |\n",
       "| Palestine                    |  54.76 |\n",
       "| Puerto Rico                  |  80.95 |\n",
       "| Slovak Republic              |  80.95 |\n",
       "| South Korea                  |  76.19 |\n",
       "| Taiwan                       |  38.10 |\n",
       "| United States                |  76.19 |\n",
       "\n"
      ],
      "text/plain": [
       "   country                      gov_resp\n",
       "1  Aruba                         85.71  \n",
       "2  Bermuda                       85.71  \n",
       "3  Cape Verde                       NA  \n",
       "4  Czech Republic                80.95  \n",
       "5  Democratic Republic of Congo  85.71  \n",
       "6  Greenland                     71.43  \n",
       "7  Guam                          76.19  \n",
       "8  Hong Kong                     85.71  \n",
       "9  Kyrgyz Republic               90.48  \n",
       "10 Lesotho                      100.00  \n",
       "11 Macao                         66.67  \n",
       "12 Myanmar                       80.95  \n",
       "13 Palestine                     54.76  \n",
       "14 Puerto Rico                   80.95  \n",
       "15 Slovak Republic               80.95  \n",
       "16 South Korea                   76.19  \n",
       "17 Taiwan                        38.10  \n",
       "18 United States                 76.19  "
      ]
     },
     "metadata": {},
     "output_type": "display_data"
    }
   ],
   "source": [
    "gov_resp %>%\n",
    "    filter(!country %in% covid19$country)"
   ]
  },
  {
   "cell_type": "code",
   "execution_count": 34,
   "metadata": {},
   "outputs": [],
   "source": [
    "gov_resp <- gov_resp %>%\n",
    "    mutate(country = case_when(country == 'Cape Verde' ~ 'Cabo Verde',\n",
    "                               country == 'Czech Republic' ~ 'Czechia',\n",
    "                               country == 'Democratic Republic of Congo' ~ 'Congo, Dem. Rep.',\n",
    "                               country == 'Slovak Republic' ~ 'Slovakia',\n",
    "                               TRUE ~ country))"
   ]
  },
  {
   "cell_type": "code",
   "execution_count": 35,
   "metadata": {},
   "outputs": [],
   "source": [
    "covid19 <- covid19 %>%\n",
    "    mutate(country = case_when(country == 'Burma' ~ 'Myanmar',\n",
    "                               country == 'Congo (Brazzaville)' ~ 'Congo, Rep.',\n",
    "                               country == 'Congo (Kinshasa)' ~ 'Congo, Dem. Rep.',\n",
    "                               country == 'Korea, South' ~ 'South Korea',\n",
    "                               country == 'Kyrgyzstan' ~ 'Kyrgyz Republic',\n",
    "                               country == 'US' ~ 'United States',\n",
    "                               TRUE ~ country))"
   ]
  },
  {
   "cell_type": "code",
   "execution_count": 36,
   "metadata": {},
   "outputs": [
    {
     "data": {
      "text/html": [
       "<table>\n",
       "<caption>A data.frame: 5 × 4</caption>\n",
       "<thead>\n",
       "\t<tr><th scope=col>country</th><th scope=col>confirmed</th><th scope=col>death</th><th scope=col>rate</th></tr>\n",
       "\t<tr><th scope=col>&lt;chr&gt;</th><th scope=col>&lt;dbl&gt;</th><th scope=col>&lt;dbl&gt;</th><th scope=col>&lt;dbl&gt;</th></tr>\n",
       "</thead>\n",
       "<tbody>\n",
       "\t<tr><td>Diamond Princess     </td><td>712</td><td>13</td><td>0.01825843</td></tr>\n",
       "\t<tr><td>Holy See             </td><td>  9</td><td> 0</td><td>0.00000000</td></tr>\n",
       "\t<tr><td>MS Zaandam           </td><td>  9</td><td> 2</td><td>0.22222222</td></tr>\n",
       "\t<tr><td>Saint Kitts and Nevis</td><td> 15</td><td> 0</td><td>0.00000000</td></tr>\n",
       "\t<tr><td>Taiwan*              </td><td>429</td><td> 6</td><td>0.01398601</td></tr>\n",
       "</tbody>\n",
       "</table>\n"
      ],
      "text/latex": [
       "A data.frame: 5 × 4\n",
       "\\begin{tabular}{r|llll}\n",
       " country & confirmed & death & rate\\\\\n",
       " <chr> & <dbl> & <dbl> & <dbl>\\\\\n",
       "\\hline\n",
       "\t Diamond Princess      & 712 & 13 & 0.01825843\\\\\n",
       "\t Holy See              &   9 &  0 & 0.00000000\\\\\n",
       "\t MS Zaandam            &   9 &  2 & 0.22222222\\\\\n",
       "\t Saint Kitts and Nevis &  15 &  0 & 0.00000000\\\\\n",
       "\t Taiwan*               & 429 &  6 & 0.01398601\\\\\n",
       "\\end{tabular}\n"
      ],
      "text/markdown": [
       "\n",
       "A data.frame: 5 × 4\n",
       "\n",
       "| country &lt;chr&gt; | confirmed &lt;dbl&gt; | death &lt;dbl&gt; | rate &lt;dbl&gt; |\n",
       "|---|---|---|---|\n",
       "| Diamond Princess      | 712 | 13 | 0.01825843 |\n",
       "| Holy See              |   9 |  0 | 0.00000000 |\n",
       "| MS Zaandam            |   9 |  2 | 0.22222222 |\n",
       "| Saint Kitts and Nevis |  15 |  0 | 0.00000000 |\n",
       "| Taiwan*               | 429 |  6 | 0.01398601 |\n",
       "\n"
      ],
      "text/plain": [
       "  country               confirmed death rate      \n",
       "1 Diamond Princess      712       13    0.01825843\n",
       "2 Holy See                9        0    0.00000000\n",
       "3 MS Zaandam              9        2    0.22222222\n",
       "4 Saint Kitts and Nevis  15        0    0.00000000\n",
       "5 Taiwan*               429        6    0.01398601"
      ]
     },
     "metadata": {},
     "output_type": "display_data"
    }
   ],
   "source": [
    "covid19 %>%\n",
    "    filter(!country %in% country_data$country)"
   ]
  },
  {
   "cell_type": "code",
   "execution_count": 37,
   "metadata": {},
   "outputs": [
    {
     "data": {
      "text/html": [
       "<table>\n",
       "<caption>A data.frame: 10 × 2</caption>\n",
       "<thead>\n",
       "\t<tr><th scope=col>country</th><th scope=col>gov_resp</th></tr>\n",
       "\t<tr><th scope=col>&lt;chr&gt;</th><th scope=col>&lt;dbl&gt;</th></tr>\n",
       "</thead>\n",
       "<tbody>\n",
       "\t<tr><td>Aruba      </td><td> 85.71</td></tr>\n",
       "\t<tr><td>Bermuda    </td><td> 85.71</td></tr>\n",
       "\t<tr><td>Greenland  </td><td> 71.43</td></tr>\n",
       "\t<tr><td>Guam       </td><td> 76.19</td></tr>\n",
       "\t<tr><td>Hong Kong  </td><td> 85.71</td></tr>\n",
       "\t<tr><td>Lesotho    </td><td>100.00</td></tr>\n",
       "\t<tr><td>Macao      </td><td> 66.67</td></tr>\n",
       "\t<tr><td>Palestine  </td><td> 54.76</td></tr>\n",
       "\t<tr><td>Puerto Rico</td><td> 80.95</td></tr>\n",
       "\t<tr><td>Taiwan     </td><td> 38.10</td></tr>\n",
       "</tbody>\n",
       "</table>\n"
      ],
      "text/latex": [
       "A data.frame: 10 × 2\n",
       "\\begin{tabular}{r|ll}\n",
       " country & gov\\_resp\\\\\n",
       " <chr> & <dbl>\\\\\n",
       "\\hline\n",
       "\t Aruba       &  85.71\\\\\n",
       "\t Bermuda     &  85.71\\\\\n",
       "\t Greenland   &  71.43\\\\\n",
       "\t Guam        &  76.19\\\\\n",
       "\t Hong Kong   &  85.71\\\\\n",
       "\t Lesotho     & 100.00\\\\\n",
       "\t Macao       &  66.67\\\\\n",
       "\t Palestine   &  54.76\\\\\n",
       "\t Puerto Rico &  80.95\\\\\n",
       "\t Taiwan      &  38.10\\\\\n",
       "\\end{tabular}\n"
      ],
      "text/markdown": [
       "\n",
       "A data.frame: 10 × 2\n",
       "\n",
       "| country &lt;chr&gt; | gov_resp &lt;dbl&gt; |\n",
       "|---|---|\n",
       "| Aruba       |  85.71 |\n",
       "| Bermuda     |  85.71 |\n",
       "| Greenland   |  71.43 |\n",
       "| Guam        |  76.19 |\n",
       "| Hong Kong   |  85.71 |\n",
       "| Lesotho     | 100.00 |\n",
       "| Macao       |  66.67 |\n",
       "| Palestine   |  54.76 |\n",
       "| Puerto Rico |  80.95 |\n",
       "| Taiwan      |  38.10 |\n",
       "\n"
      ],
      "text/plain": [
       "   country     gov_resp\n",
       "1  Aruba        85.71  \n",
       "2  Bermuda      85.71  \n",
       "3  Greenland    71.43  \n",
       "4  Guam         76.19  \n",
       "5  Hong Kong    85.71  \n",
       "6  Lesotho     100.00  \n",
       "7  Macao        66.67  \n",
       "8  Palestine    54.76  \n",
       "9  Puerto Rico  80.95  \n",
       "10 Taiwan       38.10  "
      ]
     },
     "metadata": {},
     "output_type": "display_data"
    }
   ],
   "source": [
    "gov_resp %>%\n",
    "    filter(!country %in% covid19$country)"
   ]
  },
  {
   "cell_type": "code",
   "execution_count": 38,
   "metadata": {},
   "outputs": [],
   "source": [
    "data <- merge(country_data, covid19, by = \"country\")"
   ]
  },
  {
   "cell_type": "code",
   "execution_count": 39,
   "metadata": {},
   "outputs": [],
   "source": [
    "data$confirmed_rate <- data$confirmed / data$pop_total"
   ]
  },
  {
   "cell_type": "code",
   "execution_count": 40,
   "metadata": {},
   "outputs": [
    {
     "data": {
      "text/html": [
       "<ol class=list-inline>\n",
       "\t<li>180</li>\n",
       "\t<li>23</li>\n",
       "</ol>\n"
      ],
      "text/latex": [
       "\\begin{enumerate*}\n",
       "\\item 180\n",
       "\\item 23\n",
       "\\end{enumerate*}\n"
      ],
      "text/markdown": [
       "1. 180\n",
       "2. 23\n",
       "\n",
       "\n"
      ],
      "text/plain": [
       "[1] 180  23"
      ]
     },
     "metadata": {},
     "output_type": "display_data"
    }
   ],
   "source": [
    "dim(data)"
   ]
  },
  {
   "cell_type": "code",
   "execution_count": 41,
   "metadata": {},
   "outputs": [],
   "source": [
    "data_gov <- merge(data, gov_resp, by = \"country\")"
   ]
  },
  {
   "cell_type": "code",
   "execution_count": 42,
   "metadata": {},
   "outputs": [
    {
     "data": {
      "text/html": [
       "<ol class=list-inline>\n",
       "\t<li>141</li>\n",
       "\t<li>24</li>\n",
       "</ol>\n"
      ],
      "text/latex": [
       "\\begin{enumerate*}\n",
       "\\item 141\n",
       "\\item 24\n",
       "\\end{enumerate*}\n"
      ],
      "text/markdown": [
       "1. 141\n",
       "2. 24\n",
       "\n",
       "\n"
      ],
      "text/plain": [
       "[1] 141  24"
      ]
     },
     "metadata": {},
     "output_type": "display_data"
    }
   ],
   "source": [
    "dim(data_gov)"
   ]
  },
  {
   "cell_type": "code",
   "execution_count": 43,
   "metadata": {},
   "outputs": [
    {
     "data": {
      "text/html": [
       "<table>\n",
       "<caption>A data.frame: 6 × 24</caption>\n",
       "<thead>\n",
       "\t<tr><th scope=col>country</th><th scope=col>year_pop_total</th><th scope=col>pop_total</th><th scope=col>year_age_65up</th><th scope=col>age_65up</th><th scope=col>year_age_1564</th><th scope=col>age_1564</th><th scope=col>year_air_pollution</th><th scope=col>air_pollution</th><th scope=col>year_med_bed</th><th scope=col>...</th><th scope=col>nurses_midwives</th><th scope=col>year_pop_density</th><th scope=col>pop_density</th><th scope=col>year_smoking</th><th scope=col>smoking</th><th scope=col>confirmed</th><th scope=col>death</th><th scope=col>rate</th><th scope=col>confirmed_rate</th><th scope=col>gov_resp</th></tr>\n",
       "\t<tr><th scope=col>&lt;chr&gt;</th><th scope=col>&lt;dbl&gt;</th><th scope=col>&lt;dbl&gt;</th><th scope=col>&lt;dbl&gt;</th><th scope=col>&lt;dbl&gt;</th><th scope=col>&lt;dbl&gt;</th><th scope=col>&lt;dbl&gt;</th><th scope=col>&lt;dbl&gt;</th><th scope=col>&lt;dbl&gt;</th><th scope=col>&lt;dbl&gt;</th><th scope=col>...</th><th scope=col>&lt;dbl&gt;</th><th scope=col>&lt;dbl&gt;</th><th scope=col>&lt;dbl&gt;</th><th scope=col>&lt;dbl&gt;</th><th scope=col>&lt;dbl&gt;</th><th scope=col>&lt;dbl&gt;</th><th scope=col>&lt;dbl&gt;</th><th scope=col>&lt;dbl&gt;</th><th scope=col>&lt;dbl&gt;</th><th scope=col>&lt;dbl&gt;</th></tr>\n",
       "</thead>\n",
       "<tbody>\n",
       "\t<tr><td>Afghanistan</td><td>2018</td><td>37172386</td><td>2018</td><td> 2.584927</td><td>2018</td><td>54.32490</td><td>2017</td><td>56.91081</td><td>2015</td><td>...</td><td>0.3200</td><td>2018</td><td> 56.93776</td><td>  NA</td><td>  NA</td><td>1703</td><td> 57</td><td>0.03347035</td><td>4.581358e-05</td><td>71.43</td></tr>\n",
       "\t<tr><td>Albania    </td><td>2018</td><td> 2866376</td><td>2018</td><td>13.744736</td><td>2018</td><td>68.58239</td><td>2017</td><td>18.20060</td><td>2013</td><td>...</td><td>3.5998</td><td>2018</td><td>104.61226</td><td>2016</td><td>28.7</td><td> 736</td><td> 28</td><td>0.03804348</td><td>2.567702e-04</td><td>85.71</td></tr>\n",
       "\t<tr><td>Algeria    </td><td>2018</td><td>42228429</td><td>2018</td><td> 6.362497</td><td>2018</td><td>63.48882</td><td>2017</td><td>38.88401</td><td>2015</td><td>...</td><td>2.2400</td><td>2018</td><td> 17.73008</td><td>2016</td><td>15.6</td><td>3517</td><td>432</td><td>0.12283196</td><td>8.328513e-05</td><td>95.24</td></tr>\n",
       "\t<tr><td>Andorra    </td><td>2018</td><td>   77006</td><td>  NA</td><td>       NA</td><td>  NA</td><td>      NA</td><td>2017</td><td>10.30762</td><td>2009</td><td>...</td><td>4.0128</td><td>2018</td><td>163.84255</td><td>2016</td><td>33.5</td><td> 743</td><td> 40</td><td>0.05383580</td><td>9.648599e-03</td><td>71.43</td></tr>\n",
       "\t<tr><td>Angola     </td><td>2018</td><td>30809762</td><td>2018</td><td> 2.216374</td><td>2018</td><td>50.97470</td><td>2017</td><td>32.38850</td><td>2005</td><td>...</td><td>1.3123</td><td>2018</td><td> 24.71305</td><td>  NA</td><td>  NA</td><td>  27</td><td>  2</td><td>0.07407407</td><td>8.763456e-07</td><td>71.43</td></tr>\n",
       "\t<tr><td>Argentina  </td><td>2018</td><td>44494502</td><td>2018</td><td>11.117789</td><td>2018</td><td>64.12128</td><td>2017</td><td>13.31183</td><td>2014</td><td>...</td><td>2.5800</td><td>2018</td><td> 16.25851</td><td>2016</td><td>21.8</td><td>4003</td><td>197</td><td>0.04921309</td><td>8.996617e-05</td><td>95.24</td></tr>\n",
       "</tbody>\n",
       "</table>\n"
      ],
      "text/latex": [
       "A data.frame: 6 × 24\n",
       "\\begin{tabular}{r|llllllllllllllllllllllll}\n",
       " country & year\\_pop\\_total & pop\\_total & year\\_age\\_65up & age\\_65up & year\\_age\\_1564 & age\\_1564 & year\\_air\\_pollution & air\\_pollution & year\\_med\\_bed & med\\_bed & year\\_physicians & physicians & year\\_nurses\\_midwives & nurses\\_midwives & year\\_pop\\_density & pop\\_density & year\\_smoking & smoking & confirmed & death & rate & confirmed\\_rate & gov\\_resp\\\\\n",
       " <chr> & <dbl> & <dbl> & <dbl> & <dbl> & <dbl> & <dbl> & <dbl> & <dbl> & <dbl> & <dbl> & <dbl> & <dbl> & <dbl> & <dbl> & <dbl> & <dbl> & <dbl> & <dbl> & <dbl> & <dbl> & <dbl> & <dbl> & <dbl>\\\\\n",
       "\\hline\n",
       "\t Afghanistan & 2018 & 37172386 & 2018 &  2.584927 & 2018 & 54.32490 & 2017 & 56.91081 & 2015 & 0.5 & 2016 & 0.2840 & 2014 & 0.3200 & 2018 &  56.93776 &   NA &   NA & 1703 &  57 & 0.03347035 & 4.581358e-05 & 71.43\\\\\n",
       "\t Albania     & 2018 &  2866376 & 2018 & 13.744736 & 2018 & 68.58239 & 2017 & 18.20060 & 2013 & 2.9 & 2016 & 1.1998 & 2016 & 3.5998 & 2018 & 104.61226 & 2016 & 28.7 &  736 &  28 & 0.03804348 & 2.567702e-04 & 85.71\\\\\n",
       "\t Algeria     & 2018 & 42228429 & 2018 &  6.362497 & 2018 & 63.48882 & 2017 & 38.88401 & 2015 & 1.9 & 2016 & 1.8300 & 2016 & 2.2400 & 2018 &  17.73008 & 2016 & 15.6 & 3517 & 432 & 0.12283196 & 8.328513e-05 & 95.24\\\\\n",
       "\t Andorra     & 2018 &    77006 &   NA &        NA &   NA &       NA & 2017 & 10.30762 & 2009 & 2.5 & 2015 & 3.3333 & 2015 & 4.0128 & 2018 & 163.84255 & 2016 & 33.5 &  743 &  40 & 0.05383580 & 9.648599e-03 & 71.43\\\\\n",
       "\t Angola      & 2018 & 30809762 & 2018 &  2.216374 & 2018 & 50.97470 & 2017 & 32.38850 & 2005 & 0.8 & 2017 & 0.2149 & 2009 & 1.3123 & 2018 &  24.71305 &   NA &   NA &   27 &   2 & 0.07407407 & 8.763456e-07 & 71.43\\\\\n",
       "\t Argentina   & 2018 & 44494502 & 2018 & 11.117789 & 2018 & 64.12128 & 2017 & 13.31183 & 2014 & 5.0 & 2017 & 3.9600 & 2017 & 2.5800 & 2018 &  16.25851 & 2016 & 21.8 & 4003 & 197 & 0.04921309 & 8.996617e-05 & 95.24\\\\\n",
       "\\end{tabular}\n"
      ],
      "text/markdown": [
       "\n",
       "A data.frame: 6 × 24\n",
       "\n",
       "| country &lt;chr&gt; | year_pop_total &lt;dbl&gt; | pop_total &lt;dbl&gt; | year_age_65up &lt;dbl&gt; | age_65up &lt;dbl&gt; | year_age_1564 &lt;dbl&gt; | age_1564 &lt;dbl&gt; | year_air_pollution &lt;dbl&gt; | air_pollution &lt;dbl&gt; | year_med_bed &lt;dbl&gt; | ... ... | nurses_midwives &lt;dbl&gt; | year_pop_density &lt;dbl&gt; | pop_density &lt;dbl&gt; | year_smoking &lt;dbl&gt; | smoking &lt;dbl&gt; | confirmed &lt;dbl&gt; | death &lt;dbl&gt; | rate &lt;dbl&gt; | confirmed_rate &lt;dbl&gt; | gov_resp &lt;dbl&gt; |\n",
       "|---|---|---|---|---|---|---|---|---|---|---|---|---|---|---|---|---|---|---|---|---|\n",
       "| Afghanistan | 2018 | 37172386 | 2018 |  2.584927 | 2018 | 54.32490 | 2017 | 56.91081 | 2015 | ... | 0.3200 | 2018 |  56.93776 |   NA |   NA | 1703 |  57 | 0.03347035 | 4.581358e-05 | 71.43 |\n",
       "| Albania     | 2018 |  2866376 | 2018 | 13.744736 | 2018 | 68.58239 | 2017 | 18.20060 | 2013 | ... | 3.5998 | 2018 | 104.61226 | 2016 | 28.7 |  736 |  28 | 0.03804348 | 2.567702e-04 | 85.71 |\n",
       "| Algeria     | 2018 | 42228429 | 2018 |  6.362497 | 2018 | 63.48882 | 2017 | 38.88401 | 2015 | ... | 2.2400 | 2018 |  17.73008 | 2016 | 15.6 | 3517 | 432 | 0.12283196 | 8.328513e-05 | 95.24 |\n",
       "| Andorra     | 2018 |    77006 |   NA |        NA |   NA |       NA | 2017 | 10.30762 | 2009 | ... | 4.0128 | 2018 | 163.84255 | 2016 | 33.5 |  743 |  40 | 0.05383580 | 9.648599e-03 | 71.43 |\n",
       "| Angola      | 2018 | 30809762 | 2018 |  2.216374 | 2018 | 50.97470 | 2017 | 32.38850 | 2005 | ... | 1.3123 | 2018 |  24.71305 |   NA |   NA |   27 |   2 | 0.07407407 | 8.763456e-07 | 71.43 |\n",
       "| Argentina   | 2018 | 44494502 | 2018 | 11.117789 | 2018 | 64.12128 | 2017 | 13.31183 | 2014 | ... | 2.5800 | 2018 |  16.25851 | 2016 | 21.8 | 4003 | 197 | 0.04921309 | 8.996617e-05 | 95.24 |\n",
       "\n"
      ],
      "text/plain": [
       "  country     year_pop_total pop_total year_age_65up age_65up  year_age_1564\n",
       "1 Afghanistan 2018           37172386  2018           2.584927 2018         \n",
       "2 Albania     2018            2866376  2018          13.744736 2018         \n",
       "3 Algeria     2018           42228429  2018           6.362497 2018         \n",
       "4 Andorra     2018              77006    NA                 NA   NA         \n",
       "5 Angola      2018           30809762  2018           2.216374 2018         \n",
       "6 Argentina   2018           44494502  2018          11.117789 2018         \n",
       "  age_1564 year_air_pollution air_pollution year_med_bed ... nurses_midwives\n",
       "1 54.32490 2017               56.91081      2015         ... 0.3200         \n",
       "2 68.58239 2017               18.20060      2013         ... 3.5998         \n",
       "3 63.48882 2017               38.88401      2015         ... 2.2400         \n",
       "4       NA 2017               10.30762      2009         ... 4.0128         \n",
       "5 50.97470 2017               32.38850      2005         ... 1.3123         \n",
       "6 64.12128 2017               13.31183      2014         ... 2.5800         \n",
       "  year_pop_density pop_density year_smoking smoking confirmed death rate      \n",
       "1 2018              56.93776     NA           NA    1703       57   0.03347035\n",
       "2 2018             104.61226   2016         28.7     736       28   0.03804348\n",
       "3 2018              17.73008   2016         15.6    3517      432   0.12283196\n",
       "4 2018             163.84255   2016         33.5     743       40   0.05383580\n",
       "5 2018              24.71305     NA           NA      27        2   0.07407407\n",
       "6 2018              16.25851   2016         21.8    4003      197   0.04921309\n",
       "  confirmed_rate gov_resp\n",
       "1 4.581358e-05   71.43   \n",
       "2 2.567702e-04   85.71   \n",
       "3 8.328513e-05   95.24   \n",
       "4 9.648599e-03   71.43   \n",
       "5 8.763456e-07   71.43   \n",
       "6 8.996617e-05   95.24   "
      ]
     },
     "metadata": {},
     "output_type": "display_data"
    }
   ],
   "source": [
    "head(data_gov)"
   ]
  },
  {
   "cell_type": "code",
   "execution_count": 46,
   "metadata": {},
   "outputs": [
    {
     "name": "stderr",
     "output_type": "stream",
     "text": [
      "`stat_bin()` using `bins = 30`. Pick better value with `binwidth`.\n",
      "\n"
     ]
    },
    {
     "data": {
      "image/png": "[encoded data removed]",
      "text/plain": [
       "plot without title"
      ]
     },
     "metadata": {
      "image/png": {
       "height": 420,
       "width": 420
      },
      "text/plain": {
       "height": 420,
       "width": 420
      }
     },
     "output_type": "display_data"
    }
   ],
   "source": [
    "drop_na(data) %>%\n",
    "    ggplot(aes(age_65up)) +\n",
    "    geom_histogram()"
   ]
  },
  {
   "cell_type": "code",
   "execution_count": 47,
   "metadata": {},
   "outputs": [
    {
     "name": "stderr",
     "output_type": "stream",
     "text": [
      "`stat_bin()` using `bins = 30`. Pick better value with `binwidth`.\n",
      "\n"
     ]
    },
    {
     "data": {
      "image/png": "[encoded data removed]",
      "text/plain": [
       "plot without title"
      ]
     },
     "metadata": {
      "image/png": {
       "height": 420,
       "width": 420
      },
      "text/plain": {
       "height": 420,
       "width": 420
      }
     },
     "output_type": "display_data"
    }
   ],
   "source": [
    "drop_na(data) %>%\n",
    "    ggplot(aes(rate)) +\n",
    "    geom_histogram()"
   ]
  },
  {
   "cell_type": "code",
   "execution_count": 48,
   "metadata": {},
   "outputs": [
    {
     "name": "stderr",
     "output_type": "stream",
     "text": [
      "`stat_bin()` using `bins = 30`. Pick better value with `binwidth`.\n",
      "\n"
     ]
    },
    {
     "data": {
      "image/png": "[encoded data removed]",
      "text/plain": [
       "plot without title"
      ]
     },
     "metadata": {
      "image/png": {
       "height": 420,
       "width": 420
      },
      "text/plain": {
       "height": 420,
       "width": 420
      }
     },
     "output_type": "display_data"
    }
   ],
   "source": [
    "drop_na(data_gov) %>%\n",
    "    ggplot(aes(gov_resp)) +\n",
    "    geom_histogram()"
   ]
  },
  {
   "cell_type": "code",
   "execution_count": 53,
   "metadata": {},
   "outputs": [],
   "source": [
    "p1 <- drop_na(data) %>%\n",
    "    ggplot(aes(age_65up, \n",
    "               rate, \n",
    "               text = paste(\n",
    "                   'country', country,\n",
    "                   '\\nage_65up', age_65up,\n",
    "                   '\\nrate', rate\n",
    "               ))) +\n",
    "    geom_point()"
   ]
  },
  {
   "cell_type": "code",
   "execution_count": 55,
   "metadata": {},
   "outputs": [
    {
     "data": {
      "image/png": "[encoded data removed]",
      "text/plain": [
       "plot without title"
      ]
     },
     "metadata": {
      "image/png": {
       "height": 420,
       "width": 420
      },
      "text/plain": {
       "height": 420,
       "width": 420
      }
     },
     "output_type": "display_data"
    }
   ],
   "source": [
    "p1"
   ]
  },
  {
   "cell_type": "code",
   "execution_count": null,
   "metadata": {},
   "outputs": [],
   "source": [
    "ggplotly(p1, tooltip = \"text\")"
   ]
  },
  {
   "cell_type": "code",
   "execution_count": 41,
   "metadata": {},
   "outputs": [
    {
     "data": {
      "image/png": "[encoded data removed]",
      "text/plain": [
       "plot without title"
      ]
     },
     "metadata": {
      "image/png": {
       "height": 420,
       "width": 420
      },
      "text/plain": {
       "height": 420,
       "width": 420
      }
     },
     "output_type": "display_data"
    }
   ],
   "source": [
    "drop_na(data_gov) %>%\n",
    "    ggplot(aes(age_64up, rate)) +\n",
    "    geom_point()"
   ]
  },
  {
   "cell_type": "code",
   "execution_count": 56,
   "metadata": {},
   "outputs": [
    {
     "data": {
      "image/png": "[encoded data removed]",
      "text/plain": [
       "plot without title"
      ]
     },
     "metadata": {
      "image/png": {
       "height": 420,
       "width": 420
      },
      "text/plain": {
       "height": 420,
       "width": 420
      }
     },
     "output_type": "display_data"
    }
   ],
   "source": [
    "drop_na(data_gov) %>%\n",
    "    ggplot(aes(gov_resp, rate)) +\n",
    "    geom_point()"
   ]
  },
  {
   "cell_type": "code",
   "execution_count": 44,
   "metadata": {},
   "outputs": [
    {
     "data": {
      "text/html": [
       "<ol class=list-inline>\n",
       "\t<li>'country'</li>\n",
       "\t<li>'year_pop_total'</li>\n",
       "\t<li>'pop_total'</li>\n",
       "\t<li>'year_age_65up'</li>\n",
       "\t<li>'age_65up'</li>\n",
       "\t<li>'year_age_1564'</li>\n",
       "\t<li>'age_1564'</li>\n",
       "\t<li>'year_air_pollution'</li>\n",
       "\t<li>'air_pollution'</li>\n",
       "\t<li>'year_med_bed'</li>\n",
       "\t<li>'med_bed'</li>\n",
       "\t<li>'year_physicians'</li>\n",
       "\t<li>'physicians'</li>\n",
       "\t<li>'year_nurses_midwives'</li>\n",
       "\t<li>'nurses_midwives'</li>\n",
       "\t<li>'year_pop_density'</li>\n",
       "\t<li>'pop_density'</li>\n",
       "\t<li>'year_smoking'</li>\n",
       "\t<li>'smoking'</li>\n",
       "\t<li>'confirmed'</li>\n",
       "\t<li>'death'</li>\n",
       "\t<li>'rate'</li>\n",
       "\t<li>'confirmed_rate'</li>\n",
       "</ol>\n"
      ],
      "text/latex": [
       "\\begin{enumerate*}\n",
       "\\item 'country'\n",
       "\\item 'year\\_pop\\_total'\n",
       "\\item 'pop\\_total'\n",
       "\\item 'year\\_age\\_65up'\n",
       "\\item 'age\\_65up'\n",
       "\\item 'year\\_age\\_1564'\n",
       "\\item 'age\\_1564'\n",
       "\\item 'year\\_air\\_pollution'\n",
       "\\item 'air\\_pollution'\n",
       "\\item 'year\\_med\\_bed'\n",
       "\\item 'med\\_bed'\n",
       "\\item 'year\\_physicians'\n",
       "\\item 'physicians'\n",
       "\\item 'year\\_nurses\\_midwives'\n",
       "\\item 'nurses\\_midwives'\n",
       "\\item 'year\\_pop\\_density'\n",
       "\\item 'pop\\_density'\n",
       "\\item 'year\\_smoking'\n",
       "\\item 'smoking'\n",
       "\\item 'confirmed'\n",
       "\\item 'death'\n",
       "\\item 'rate'\n",
       "\\item 'confirmed\\_rate'\n",
       "\\end{enumerate*}\n"
      ],
      "text/markdown": [
       "1. 'country'\n",
       "2. 'year_pop_total'\n",
       "3. 'pop_total'\n",
       "4. 'year_age_65up'\n",
       "5. 'age_65up'\n",
       "6. 'year_age_1564'\n",
       "7. 'age_1564'\n",
       "8. 'year_air_pollution'\n",
       "9. 'air_pollution'\n",
       "10. 'year_med_bed'\n",
       "11. 'med_bed'\n",
       "12. 'year_physicians'\n",
       "13. 'physicians'\n",
       "14. 'year_nurses_midwives'\n",
       "15. 'nurses_midwives'\n",
       "16. 'year_pop_density'\n",
       "17. 'pop_density'\n",
       "18. 'year_smoking'\n",
       "19. 'smoking'\n",
       "20. 'confirmed'\n",
       "21. 'death'\n",
       "22. 'rate'\n",
       "23. 'confirmed_rate'\n",
       "\n",
       "\n"
      ],
      "text/plain": [
       " [1] \"country\"              \"year_pop_total\"       \"pop_total\"           \n",
       " [4] \"year_age_65up\"        \"age_65up\"             \"year_age_1564\"       \n",
       " [7] \"age_1564\"             \"year_air_pollution\"   \"air_pollution\"       \n",
       "[10] \"year_med_bed\"         \"med_bed\"              \"year_physicians\"     \n",
       "[13] \"physicians\"           \"year_nurses_midwives\" \"nurses_midwives\"     \n",
       "[16] \"year_pop_density\"     \"pop_density\"          \"year_smoking\"        \n",
       "[19] \"smoking\"              \"confirmed\"            \"death\"               \n",
       "[22] \"rate\"                 \"confirmed_rate\"      "
      ]
     },
     "metadata": {},
     "output_type": "display_data"
    },
    {
     "data": {
      "text/html": [
       "<ol class=list-inline>\n",
       "\t<li>'country'</li>\n",
       "\t<li>'year_pop_total'</li>\n",
       "\t<li>'pop_total'</li>\n",
       "\t<li>'year_age_65up'</li>\n",
       "\t<li>'age_65up'</li>\n",
       "\t<li>'year_age_1564'</li>\n",
       "\t<li>'age_1564'</li>\n",
       "\t<li>'year_air_pollution'</li>\n",
       "\t<li>'air_pollution'</li>\n",
       "\t<li>'year_med_bed'</li>\n",
       "\t<li>'med_bed'</li>\n",
       "\t<li>'year_physicians'</li>\n",
       "\t<li>'physicians'</li>\n",
       "\t<li>'year_nurses_midwives'</li>\n",
       "\t<li>'nurses_midwives'</li>\n",
       "\t<li>'year_pop_density'</li>\n",
       "\t<li>'pop_density'</li>\n",
       "\t<li>'year_smoking'</li>\n",
       "\t<li>'smoking'</li>\n",
       "\t<li>'confirmed'</li>\n",
       "\t<li>'death'</li>\n",
       "\t<li>'rate'</li>\n",
       "\t<li>'confirmed_rate'</li>\n",
       "\t<li>'gov_resp'</li>\n",
       "</ol>\n"
      ],
      "text/latex": [
       "\\begin{enumerate*}\n",
       "\\item 'country'\n",
       "\\item 'year\\_pop\\_total'\n",
       "\\item 'pop\\_total'\n",
       "\\item 'year\\_age\\_65up'\n",
       "\\item 'age\\_65up'\n",
       "\\item 'year\\_age\\_1564'\n",
       "\\item 'age\\_1564'\n",
       "\\item 'year\\_air\\_pollution'\n",
       "\\item 'air\\_pollution'\n",
       "\\item 'year\\_med\\_bed'\n",
       "\\item 'med\\_bed'\n",
       "\\item 'year\\_physicians'\n",
       "\\item 'physicians'\n",
       "\\item 'year\\_nurses\\_midwives'\n",
       "\\item 'nurses\\_midwives'\n",
       "\\item 'year\\_pop\\_density'\n",
       "\\item 'pop\\_density'\n",
       "\\item 'year\\_smoking'\n",
       "\\item 'smoking'\n",
       "\\item 'confirmed'\n",
       "\\item 'death'\n",
       "\\item 'rate'\n",
       "\\item 'confirmed\\_rate'\n",
       "\\item 'gov\\_resp'\n",
       "\\end{enumerate*}\n"
      ],
      "text/markdown": [
       "1. 'country'\n",
       "2. 'year_pop_total'\n",
       "3. 'pop_total'\n",
       "4. 'year_age_65up'\n",
       "5. 'age_65up'\n",
       "6. 'year_age_1564'\n",
       "7. 'age_1564'\n",
       "8. 'year_air_pollution'\n",
       "9. 'air_pollution'\n",
       "10. 'year_med_bed'\n",
       "11. 'med_bed'\n",
       "12. 'year_physicians'\n",
       "13. 'physicians'\n",
       "14. 'year_nurses_midwives'\n",
       "15. 'nurses_midwives'\n",
       "16. 'year_pop_density'\n",
       "17. 'pop_density'\n",
       "18. 'year_smoking'\n",
       "19. 'smoking'\n",
       "20. 'confirmed'\n",
       "21. 'death'\n",
       "22. 'rate'\n",
       "23. 'confirmed_rate'\n",
       "24. 'gov_resp'\n",
       "\n",
       "\n"
      ],
      "text/plain": [
       " [1] \"country\"              \"year_pop_total\"       \"pop_total\"           \n",
       " [4] \"year_age_65up\"        \"age_65up\"             \"year_age_1564\"       \n",
       " [7] \"age_1564\"             \"year_air_pollution\"   \"air_pollution\"       \n",
       "[10] \"year_med_bed\"         \"med_bed\"              \"year_physicians\"     \n",
       "[13] \"physicians\"           \"year_nurses_midwives\" \"nurses_midwives\"     \n",
       "[16] \"year_pop_density\"     \"pop_density\"          \"year_smoking\"        \n",
       "[19] \"smoking\"              \"confirmed\"            \"death\"               \n",
       "[22] \"rate\"                 \"confirmed_rate\"       \"gov_resp\"            "
      ]
     },
     "metadata": {},
     "output_type": "display_data"
    }
   ],
   "source": [
    "colnames(data)\n",
    "colnames(data_gov)"
   ]
  },
  {
   "cell_type": "code",
   "execution_count": 45,
   "metadata": {},
   "outputs": [],
   "source": [
    "df_no_gov <- data[c(-1, -2, -3, -4, -6, -7, -8, -10, -12, -14, -16, -18, -20, -21)]\n",
    "df_cp <- data_gov[c(-1, -2, -3, -4, -6, -7, -8, -10, -12, -14, -16, -18, -20, -21)]"
   ]
  },
  {
   "cell_type": "code",
   "execution_count": 46,
   "metadata": {},
   "outputs": [
    {
     "data": {
      "text/html": [
       "<ol class=list-inline>\n",
       "\t<li>'age_65up'</li>\n",
       "\t<li>'air_pollution'</li>\n",
       "\t<li>'med_bed'</li>\n",
       "\t<li>'physicians'</li>\n",
       "\t<li>'nurses_midwives'</li>\n",
       "\t<li>'pop_density'</li>\n",
       "\t<li>'smoking'</li>\n",
       "\t<li>'rate'</li>\n",
       "\t<li>'confirmed_rate'</li>\n",
       "</ol>\n"
      ],
      "text/latex": [
       "\\begin{enumerate*}\n",
       "\\item 'age\\_65up'\n",
       "\\item 'air\\_pollution'\n",
       "\\item 'med\\_bed'\n",
       "\\item 'physicians'\n",
       "\\item 'nurses\\_midwives'\n",
       "\\item 'pop\\_density'\n",
       "\\item 'smoking'\n",
       "\\item 'rate'\n",
       "\\item 'confirmed\\_rate'\n",
       "\\end{enumerate*}\n"
      ],
      "text/markdown": [
       "1. 'age_65up'\n",
       "2. 'air_pollution'\n",
       "3. 'med_bed'\n",
       "4. 'physicians'\n",
       "5. 'nurses_midwives'\n",
       "6. 'pop_density'\n",
       "7. 'smoking'\n",
       "8. 'rate'\n",
       "9. 'confirmed_rate'\n",
       "\n",
       "\n"
      ],
      "text/plain": [
       "[1] \"age_65up\"        \"air_pollution\"   \"med_bed\"         \"physicians\"     \n",
       "[5] \"nurses_midwives\" \"pop_density\"     \"smoking\"         \"rate\"           \n",
       "[9] \"confirmed_rate\" "
      ]
     },
     "metadata": {},
     "output_type": "display_data"
    },
    {
     "data": {
      "text/html": [
       "<ol class=list-inline>\n",
       "\t<li>'age_65up'</li>\n",
       "\t<li>'air_pollution'</li>\n",
       "\t<li>'med_bed'</li>\n",
       "\t<li>'physicians'</li>\n",
       "\t<li>'nurses_midwives'</li>\n",
       "\t<li>'pop_density'</li>\n",
       "\t<li>'smoking'</li>\n",
       "\t<li>'rate'</li>\n",
       "\t<li>'confirmed_rate'</li>\n",
       "\t<li>'gov_resp'</li>\n",
       "</ol>\n"
      ],
      "text/latex": [
       "\\begin{enumerate*}\n",
       "\\item 'age\\_65up'\n",
       "\\item 'air\\_pollution'\n",
       "\\item 'med\\_bed'\n",
       "\\item 'physicians'\n",
       "\\item 'nurses\\_midwives'\n",
       "\\item 'pop\\_density'\n",
       "\\item 'smoking'\n",
       "\\item 'rate'\n",
       "\\item 'confirmed\\_rate'\n",
       "\\item 'gov\\_resp'\n",
       "\\end{enumerate*}\n"
      ],
      "text/markdown": [
       "1. 'age_65up'\n",
       "2. 'air_pollution'\n",
       "3. 'med_bed'\n",
       "4. 'physicians'\n",
       "5. 'nurses_midwives'\n",
       "6. 'pop_density'\n",
       "7. 'smoking'\n",
       "8. 'rate'\n",
       "9. 'confirmed_rate'\n",
       "10. 'gov_resp'\n",
       "\n",
       "\n"
      ],
      "text/plain": [
       " [1] \"age_65up\"        \"air_pollution\"   \"med_bed\"         \"physicians\"     \n",
       " [5] \"nurses_midwives\" \"pop_density\"     \"smoking\"         \"rate\"           \n",
       " [9] \"confirmed_rate\"  \"gov_resp\"       "
      ]
     },
     "metadata": {},
     "output_type": "display_data"
    }
   ],
   "source": [
    "colnames(df_no_gov)\n",
    "colnames(df_cp)"
   ]
  },
  {
   "cell_type": "code",
   "execution_count": 47,
   "metadata": {},
   "outputs": [
    {
     "name": "stdout",
     "output_type": "stream",
     "text": [
      "'data.frame':\t180 obs. of  9 variables:\n",
      " $ age_65up       : num  2.58 13.74 6.36 NA 2.22 ...\n",
      " $ air_pollution  : num  56.9 18.2 38.9 10.3 32.4 ...\n",
      " $ med_bed        : num  0.5 2.9 1.9 2.5 0.8 3.8 5 4.2 3.8 7.6 ...\n",
      " $ physicians     : num  0.284 1.2 1.83 3.333 0.215 ...\n",
      " $ nurses_midwives: num  0.32 3.6 2.24 4.01 1.31 ...\n",
      " $ pop_density    : num  56.9 104.6 17.7 163.8 24.7 ...\n",
      " $ smoking        : num  NA 28.7 15.6 33.5 NA NA 21.8 24.1 14.7 29.6 ...\n",
      " $ rate           : num  0.0335 0.038 0.1228 0.0538 0.0741 ...\n",
      " $ confirmed_rate : num  4.58e-05 2.57e-04 8.33e-05 9.65e-03 8.76e-07 ...\n"
     ]
    }
   ],
   "source": [
    "str(df_no_gov)"
   ]
  },
  {
   "cell_type": "code",
   "execution_count": 48,
   "metadata": {},
   "outputs": [
    {
     "data": {
      "text/plain": [
       "    age_65up      air_pollution       med_bed         physicians    \n",
       " Min.   : 1.085   Min.   : 5.861   Min.   : 0.100   Min.   :0.0008  \n",
       " 1st Qu.: 3.316   1st Qu.:15.876   1st Qu.: 1.200   1st Qu.:0.3200  \n",
       " Median : 6.440   Median :22.472   Median : 2.300   Median :1.3199  \n",
       " Mean   : 8.803   Mean   :28.428   Mean   : 2.913   Mean   :1.7727  \n",
       " 3rd Qu.:14.104   3rd Qu.:38.077   3rd Qu.: 4.000   3rd Qu.:2.8990  \n",
       " Max.   :27.576   Max.   :99.734   Max.   :13.800   Max.   :8.1900  \n",
       " NA's   :6        NA's   :4        NA's   :3        NA's   :3       \n",
       " nurses_midwives    pop_density           smoking           rate         \n",
       " Min.   : 0.0611   Min.   :    2.041   Min.   : 2.00   Min.   :0.000000  \n",
       " 1st Qu.: 1.0205   1st Qu.:   36.095   1st Qu.:13.72   1st Qu.:0.008871  \n",
       " Median : 2.6328   Median :   83.932   Median :21.55   Median :0.028415  \n",
       " Mean   : 4.1489   Mean   :  312.834   Mean   :21.22   Mean   :0.038498  \n",
       " 3rd Qu.: 6.3180   3rd Qu.:  203.073   3rd Qu.:27.80   3rd Qu.:0.055464  \n",
       " Max.   :20.2625   Max.   :19196.000   Max.   :45.90   Max.   :0.230769  \n",
       " NA's   :4         NA's   :2           NA's   :42                        \n",
       " confirmed_rate     \n",
       " Min.   :6.000e-09  \n",
       " 1st Qu.:2.113e-05  \n",
       " Median :1.132e-04  \n",
       " Mean   :7.165e-04  \n",
       " 3rd Qu.:6.273e-04  \n",
       " Max.   :1.592e-02  \n",
       "                    "
      ]
     },
     "metadata": {},
     "output_type": "display_data"
    }
   ],
   "source": [
    "summary(df_no_gov)"
   ]
  },
  {
   "cell_type": "code",
   "execution_count": 49,
   "metadata": {},
   "outputs": [
    {
     "name": "stdout",
     "output_type": "stream",
     "text": [
      "'data.frame':\t141 obs. of  10 variables:\n",
      " $ age_65up       : num  2.58 13.74 6.36 NA 2.22 ...\n",
      " $ air_pollution  : num  56.9 18.2 38.9 10.3 32.4 ...\n",
      " $ med_bed        : num  0.5 2.9 1.9 2.5 0.8 5 3.8 7.6 4.7 2 ...\n",
      " $ physicians     : num  0.284 1.2 1.83 3.333 0.215 ...\n",
      " $ nurses_midwives: num  0.32 3.6 2.24 4.01 1.31 ...\n",
      " $ pop_density    : num  56.9 104.6 17.7 163.8 24.7 ...\n",
      " $ smoking        : num  NA 28.7 15.6 33.5 NA 21.8 14.7 29.6 20.8 26.4 ...\n",
      " $ rate           : num  0.0335 0.038 0.1228 0.0538 0.0741 ...\n",
      " $ confirmed_rate : num  4.58e-05 2.57e-04 8.33e-05 9.65e-03 8.76e-07 ...\n",
      " $ gov_resp       : num  71.4 85.7 95.2 71.4 71.4 ...\n"
     ]
    }
   ],
   "source": [
    "str(df_cp)"
   ]
  },
  {
   "cell_type": "code",
   "execution_count": 50,
   "metadata": {},
   "outputs": [
    {
     "data": {
      "text/plain": [
       "    age_65up      air_pollution       med_bed         physicians    \n",
       " Min.   : 1.085   Min.   : 5.861   Min.   : 0.100   Min.   :0.0008  \n",
       " 1st Qu.: 3.581   1st Qu.:14.535   1st Qu.: 1.300   1st Qu.:0.4548  \n",
       " Median : 7.083   Median :21.569   Median : 2.300   Median :1.7605  \n",
       " Mean   : 9.251   Mean   :27.965   Mean   : 2.936   Mean   :1.8938  \n",
       " 3rd Qu.:14.815   3rd Qu.:38.091   3rd Qu.: 3.950   3rd Qu.:3.0164  \n",
       " Max.   :27.576   Max.   :94.054   Max.   :13.400   Max.   :8.1900  \n",
       " NA's   :4        NA's   :2        NA's   :2        NA's   :2       \n",
       " nurses_midwives    pop_density          smoking           rate        \n",
       " Min.   : 0.1059   Min.   :   2.041   Min.   : 2.00   Min.   :0.00000  \n",
       " 1st Qu.: 1.1471   1st Qu.:  31.663   1st Qu.:13.95   1st Qu.:0.01311  \n",
       " Median : 2.7750   Median :  88.531   Median :21.50   Median :0.03279  \n",
       " Mean   : 4.4203   Mean   : 207.213   Mean   :21.18   Mean   :0.04231  \n",
       " 3rd Qu.: 6.6227   3rd Qu.: 180.298   3rd Qu.:27.60   3rd Qu.:0.05693  \n",
       " Max.   :18.1247   Max.   :7952.998   Max.   :43.40   Max.   :0.23077  \n",
       " NA's   :2         NA's   :2          NA's   :26                       \n",
       " confirmed_rate         gov_resp     \n",
       " Min.   :5.470e-07   Min.   : 11.90  \n",
       " 1st Qu.:3.124e-05   1st Qu.: 76.19  \n",
       " Median :1.231e-04   Median : 85.71  \n",
       " Mean   :8.323e-04   Mean   : 83.40  \n",
       " 3rd Qu.:7.947e-04   3rd Qu.: 95.24  \n",
       " Max.   :1.592e-02   Max.   :100.00  \n",
       "                     NA's   :1       "
      ]
     },
     "metadata": {},
     "output_type": "display_data"
    }
   ],
   "source": [
    "summary(df_cp)"
   ]
  },
  {
   "cell_type": "markdown",
   "metadata": {},
   "source": [
    "## 6. Research question\n",
    "\n",
    "Does a higher portion of the old (age 65 and up) in the population (population aging) lead to a higher COVID-19 death rate?\n",
    "\n",
    "Null hypothesis ($H_0$):\n",
    "\n",
    "> A higher portion of the old (age 65 and up) in the population (population aging) does not lead to a higher COVID-19 death rate.\n",
    "\n",
    "Alternative hypothesis ($H_A$):\n",
    "\n",
    "> A higher portion of the old (age 65 and up) in the population (population aging) leads to a higher COVID-19 death rate."
   ]
  },
  {
   "cell_type": "markdown",
   "metadata": {},
   "source": [
    "## 7. Data Analysis & Visualizations"
   ]
  },
  {
   "cell_type": "code",
   "execution_count": 51,
   "metadata": {},
   "outputs": [],
   "source": [
    "#'\n",
    "#'\n",
    "analyze_lm <- function(model){\n",
    "    model %>%\n",
    "        broom::tidy() %>%\n",
    "        mutate(p.value.adjust = p.adjust(p.value, method = \"BH\"),\n",
    "               significant = p.value.adjust < 0.05)\n",
    "}"
   ]
  },
  {
   "cell_type": "markdown",
   "metadata": {},
   "source": [
    "1) Check all the potential confounding variables:"
   ]
  },
  {
   "cell_type": "code",
   "execution_count": 52,
   "metadata": {},
   "outputs": [
    {
     "data": {
      "text/html": [
       "<table>\n",
       "<caption>A tibble: 10 × 7</caption>\n",
       "<thead>\n",
       "\t<tr><th scope=col>term</th><th scope=col>estimate</th><th scope=col>std.error</th><th scope=col>statistic</th><th scope=col>p.value</th><th scope=col>p.value.adjust</th><th scope=col>significant</th></tr>\n",
       "\t<tr><th scope=col>&lt;chr&gt;</th><th scope=col>&lt;dbl&gt;</th><th scope=col>&lt;dbl&gt;</th><th scope=col>&lt;dbl&gt;</th><th scope=col>&lt;dbl&gt;</th><th scope=col>&lt;dbl&gt;</th><th scope=col>&lt;lgl&gt;</th></tr>\n",
       "</thead>\n",
       "<tbody>\n",
       "\t<tr><td>(Intercept)    </td><td> 3.354478e-02</td><td>2.285647e-02</td><td> 1.46762725</td><td>0.1452525395</td><td>0.242974941</td><td>FALSE</td></tr>\n",
       "\t<tr><td>age_65up       </td><td> 3.261399e-03</td><td>8.991999e-04</td><td> 3.62700113</td><td>0.0004478877</td><td>0.004478877</td><td> TRUE</td></tr>\n",
       "\t<tr><td>air_pollution  </td><td>-1.813443e-05</td><td>1.951902e-04</td><td>-0.09290645</td><td>0.9261583565</td><td>0.926158356</td><td>FALSE</td></tr>\n",
       "\t<tr><td>med_bed        </td><td>-3.847639e-03</td><td>2.225285e-03</td><td>-1.72905482</td><td>0.0867953692</td><td>0.242974941</td><td>FALSE</td></tr>\n",
       "\t<tr><td>physicians     </td><td>-7.653382e-04</td><td>3.426235e-03</td><td>-0.22337586</td><td>0.8236854114</td><td>0.926158356</td><td>FALSE</td></tr>\n",
       "\t<tr><td>nurses_midwives</td><td>-1.808198e-03</td><td>1.233702e-03</td><td>-1.46566775</td><td>0.1457849648</td><td>0.242974941</td><td>FALSE</td></tr>\n",
       "\t<tr><td>pop_density    </td><td>-6.321616e-06</td><td>4.089758e-06</td><td>-1.54571891</td><td>0.1252395320</td><td>0.242974941</td><td>FALSE</td></tr>\n",
       "\t<tr><td>smoking        </td><td>-2.399337e-04</td><td>4.173200e-04</td><td>-0.57493940</td><td>0.5665860332</td><td>0.809408619</td><td>FALSE</td></tr>\n",
       "\t<tr><td>confirmed_rate </td><td> 5.521217e+00</td><td>3.303907e+00</td><td> 1.67111768</td><td>0.0977342200</td><td>0.242974941</td><td>FALSE</td></tr>\n",
       "\t<tr><td>gov_resp       </td><td>-2.920887e-05</td><td>2.641057e-04</td><td>-0.11059541</td><td>0.9121523982</td><td>0.926158356</td><td>FALSE</td></tr>\n",
       "</tbody>\n",
       "</table>\n"
      ],
      "text/latex": [
       "A tibble: 10 × 7\n",
       "\\begin{tabular}{r|lllllll}\n",
       " term & estimate & std.error & statistic & p.value & p.value.adjust & significant\\\\\n",
       " <chr> & <dbl> & <dbl> & <dbl> & <dbl> & <dbl> & <lgl>\\\\\n",
       "\\hline\n",
       "\t (Intercept)     &  3.354478e-02 & 2.285647e-02 &  1.46762725 & 0.1452525395 & 0.242974941 & FALSE\\\\\n",
       "\t age\\_65up        &  3.261399e-03 & 8.991999e-04 &  3.62700113 & 0.0004478877 & 0.004478877 &  TRUE\\\\\n",
       "\t air\\_pollution   & -1.813443e-05 & 1.951902e-04 & -0.09290645 & 0.9261583565 & 0.926158356 & FALSE\\\\\n",
       "\t med\\_bed         & -3.847639e-03 & 2.225285e-03 & -1.72905482 & 0.0867953692 & 0.242974941 & FALSE\\\\\n",
       "\t physicians      & -7.653382e-04 & 3.426235e-03 & -0.22337586 & 0.8236854114 & 0.926158356 & FALSE\\\\\n",
       "\t nurses\\_midwives & -1.808198e-03 & 1.233702e-03 & -1.46566775 & 0.1457849648 & 0.242974941 & FALSE\\\\\n",
       "\t pop\\_density     & -6.321616e-06 & 4.089758e-06 & -1.54571891 & 0.1252395320 & 0.242974941 & FALSE\\\\\n",
       "\t smoking         & -2.399337e-04 & 4.173200e-04 & -0.57493940 & 0.5665860332 & 0.809408619 & FALSE\\\\\n",
       "\t confirmed\\_rate  &  5.521217e+00 & 3.303907e+00 &  1.67111768 & 0.0977342200 & 0.242974941 & FALSE\\\\\n",
       "\t gov\\_resp        & -2.920887e-05 & 2.641057e-04 & -0.11059541 & 0.9121523982 & 0.926158356 & FALSE\\\\\n",
       "\\end{tabular}\n"
      ],
      "text/markdown": [
       "\n",
       "A tibble: 10 × 7\n",
       "\n",
       "| term &lt;chr&gt; | estimate &lt;dbl&gt; | std.error &lt;dbl&gt; | statistic &lt;dbl&gt; | p.value &lt;dbl&gt; | p.value.adjust &lt;dbl&gt; | significant &lt;lgl&gt; |\n",
       "|---|---|---|---|---|---|---|\n",
       "| (Intercept)     |  3.354478e-02 | 2.285647e-02 |  1.46762725 | 0.1452525395 | 0.242974941 | FALSE |\n",
       "| age_65up        |  3.261399e-03 | 8.991999e-04 |  3.62700113 | 0.0004478877 | 0.004478877 |  TRUE |\n",
       "| air_pollution   | -1.813443e-05 | 1.951902e-04 | -0.09290645 | 0.9261583565 | 0.926158356 | FALSE |\n",
       "| med_bed         | -3.847639e-03 | 2.225285e-03 | -1.72905482 | 0.0867953692 | 0.242974941 | FALSE |\n",
       "| physicians      | -7.653382e-04 | 3.426235e-03 | -0.22337586 | 0.8236854114 | 0.926158356 | FALSE |\n",
       "| nurses_midwives | -1.808198e-03 | 1.233702e-03 | -1.46566775 | 0.1457849648 | 0.242974941 | FALSE |\n",
       "| pop_density     | -6.321616e-06 | 4.089758e-06 | -1.54571891 | 0.1252395320 | 0.242974941 | FALSE |\n",
       "| smoking         | -2.399337e-04 | 4.173200e-04 | -0.57493940 | 0.5665860332 | 0.809408619 | FALSE |\n",
       "| confirmed_rate  |  5.521217e+00 | 3.303907e+00 |  1.67111768 | 0.0977342200 | 0.242974941 | FALSE |\n",
       "| gov_resp        | -2.920887e-05 | 2.641057e-04 | -0.11059541 | 0.9121523982 | 0.926158356 | FALSE |\n",
       "\n"
      ],
      "text/plain": [
       "   term            estimate      std.error    statistic   p.value     \n",
       "1  (Intercept)      3.354478e-02 2.285647e-02  1.46762725 0.1452525395\n",
       "2  age_65up         3.261399e-03 8.991999e-04  3.62700113 0.0004478877\n",
       "3  air_pollution   -1.813443e-05 1.951902e-04 -0.09290645 0.9261583565\n",
       "4  med_bed         -3.847639e-03 2.225285e-03 -1.72905482 0.0867953692\n",
       "5  physicians      -7.653382e-04 3.426235e-03 -0.22337586 0.8236854114\n",
       "6  nurses_midwives -1.808198e-03 1.233702e-03 -1.46566775 0.1457849648\n",
       "7  pop_density     -6.321616e-06 4.089758e-06 -1.54571891 0.1252395320\n",
       "8  smoking         -2.399337e-04 4.173200e-04 -0.57493940 0.5665860332\n",
       "9  confirmed_rate   5.521217e+00 3.303907e+00  1.67111768 0.0977342200\n",
       "10 gov_resp        -2.920887e-05 2.641057e-04 -0.11059541 0.9121523982\n",
       "   p.value.adjust significant\n",
       "1  0.242974941    FALSE      \n",
       "2  0.004478877     TRUE      \n",
       "3  0.926158356    FALSE      \n",
       "4  0.242974941    FALSE      \n",
       "5  0.926158356    FALSE      \n",
       "6  0.242974941    FALSE      \n",
       "7  0.242974941    FALSE      \n",
       "8  0.809408619    FALSE      \n",
       "9  0.242974941    FALSE      \n",
       "10 0.926158356    FALSE      "
      ]
     },
     "metadata": {},
     "output_type": "display_data"
    }
   ],
   "source": [
    "fit <- lm(rate ~ ., df_cp)\n",
    "\n",
    "analyze_lm(fit)"
   ]
  },
  {
   "cell_type": "code",
   "execution_count": 53,
   "metadata": {},
   "outputs": [
    {
     "data": {
      "text/html": [
       "<table>\n",
       "<caption>A tibble: 9 × 7</caption>\n",
       "<thead>\n",
       "\t<tr><th scope=col>term</th><th scope=col>estimate</th><th scope=col>std.error</th><th scope=col>statistic</th><th scope=col>p.value</th><th scope=col>p.value.adjust</th><th scope=col>significant</th></tr>\n",
       "\t<tr><th scope=col>&lt;chr&gt;</th><th scope=col>&lt;dbl&gt;</th><th scope=col>&lt;dbl&gt;</th><th scope=col>&lt;dbl&gt;</th><th scope=col>&lt;dbl&gt;</th><th scope=col>&lt;dbl&gt;</th><th scope=col>&lt;lgl&gt;</th></tr>\n",
       "</thead>\n",
       "<tbody>\n",
       "\t<tr><td>(Intercept)    </td><td> 4.145850e-02</td><td>0.0101494288</td><td> 4.084811</td><td>7.727774e-05</td><td>0.0006954997</td><td> TRUE</td></tr>\n",
       "\t<tr><td>age_65up       </td><td> 2.727048e-03</td><td>0.0008488849</td><td> 3.212507</td><td>1.664681e-03</td><td>0.0074910660</td><td> TRUE</td></tr>\n",
       "\t<tr><td>air_pollution  </td><td>-1.942391e-04</td><td>0.0001756020</td><td>-1.106132</td><td>2.707439e-01</td><td>0.3093804367</td><td>FALSE</td></tr>\n",
       "\t<tr><td>med_bed        </td><td>-3.105694e-03</td><td>0.0020174383</td><td>-1.539425</td><td>1.261691e-01</td><td>0.2171446348</td><td>FALSE</td></tr>\n",
       "\t<tr><td>physicians     </td><td>-1.142673e-03</td><td>0.0033087865</td><td>-0.345345</td><td>7.304019e-01</td><td>0.7304018940</td><td>FALSE</td></tr>\n",
       "\t<tr><td>nurses_midwives</td><td>-1.814256e-03</td><td>0.0012365078</td><td>-1.467242</td><td>1.447631e-01</td><td>0.2171446348</td><td>FALSE</td></tr>\n",
       "\t<tr><td>pop_density    </td><td>-6.907478e-06</td><td>0.0000040539</td><td>-1.703909</td><td>9.082453e-02</td><td>0.2043551976</td><td>FALSE</td></tr>\n",
       "\t<tr><td>smoking        </td><td>-4.117416e-04</td><td>0.0003755730</td><td>-1.096302</td><td>2.750048e-01</td><td>0.3093804367</td><td>FALSE</td></tr>\n",
       "\t<tr><td>confirmed_rate </td><td> 6.527758e+00</td><td>3.3134644341</td><td> 1.970070</td><td>5.098916e-02</td><td>0.1529674929</td><td>FALSE</td></tr>\n",
       "</tbody>\n",
       "</table>\n"
      ],
      "text/latex": [
       "A tibble: 9 × 7\n",
       "\\begin{tabular}{r|lllllll}\n",
       " term & estimate & std.error & statistic & p.value & p.value.adjust & significant\\\\\n",
       " <chr> & <dbl> & <dbl> & <dbl> & <dbl> & <dbl> & <lgl>\\\\\n",
       "\\hline\n",
       "\t (Intercept)     &  4.145850e-02 & 0.0101494288 &  4.084811 & 7.727774e-05 & 0.0006954997 &  TRUE\\\\\n",
       "\t age\\_65up        &  2.727048e-03 & 0.0008488849 &  3.212507 & 1.664681e-03 & 0.0074910660 &  TRUE\\\\\n",
       "\t air\\_pollution   & -1.942391e-04 & 0.0001756020 & -1.106132 & 2.707439e-01 & 0.3093804367 & FALSE\\\\\n",
       "\t med\\_bed         & -3.105694e-03 & 0.0020174383 & -1.539425 & 1.261691e-01 & 0.2171446348 & FALSE\\\\\n",
       "\t physicians      & -1.142673e-03 & 0.0033087865 & -0.345345 & 7.304019e-01 & 0.7304018940 & FALSE\\\\\n",
       "\t nurses\\_midwives & -1.814256e-03 & 0.0012365078 & -1.467242 & 1.447631e-01 & 0.2171446348 & FALSE\\\\\n",
       "\t pop\\_density     & -6.907478e-06 & 0.0000040539 & -1.703909 & 9.082453e-02 & 0.2043551976 & FALSE\\\\\n",
       "\t smoking         & -4.117416e-04 & 0.0003755730 & -1.096302 & 2.750048e-01 & 0.3093804367 & FALSE\\\\\n",
       "\t confirmed\\_rate  &  6.527758e+00 & 3.3134644341 &  1.970070 & 5.098916e-02 & 0.1529674929 & FALSE\\\\\n",
       "\\end{tabular}\n"
      ],
      "text/markdown": [
       "\n",
       "A tibble: 9 × 7\n",
       "\n",
       "| term &lt;chr&gt; | estimate &lt;dbl&gt; | std.error &lt;dbl&gt; | statistic &lt;dbl&gt; | p.value &lt;dbl&gt; | p.value.adjust &lt;dbl&gt; | significant &lt;lgl&gt; |\n",
       "|---|---|---|---|---|---|---|\n",
       "| (Intercept)     |  4.145850e-02 | 0.0101494288 |  4.084811 | 7.727774e-05 | 0.0006954997 |  TRUE |\n",
       "| age_65up        |  2.727048e-03 | 0.0008488849 |  3.212507 | 1.664681e-03 | 0.0074910660 |  TRUE |\n",
       "| air_pollution   | -1.942391e-04 | 0.0001756020 | -1.106132 | 2.707439e-01 | 0.3093804367 | FALSE |\n",
       "| med_bed         | -3.105694e-03 | 0.0020174383 | -1.539425 | 1.261691e-01 | 0.2171446348 | FALSE |\n",
       "| physicians      | -1.142673e-03 | 0.0033087865 | -0.345345 | 7.304019e-01 | 0.7304018940 | FALSE |\n",
       "| nurses_midwives | -1.814256e-03 | 0.0012365078 | -1.467242 | 1.447631e-01 | 0.2171446348 | FALSE |\n",
       "| pop_density     | -6.907478e-06 | 0.0000040539 | -1.703909 | 9.082453e-02 | 0.2043551976 | FALSE |\n",
       "| smoking         | -4.117416e-04 | 0.0003755730 | -1.096302 | 2.750048e-01 | 0.3093804367 | FALSE |\n",
       "| confirmed_rate  |  6.527758e+00 | 3.3134644341 |  1.970070 | 5.098916e-02 | 0.1529674929 | FALSE |\n",
       "\n"
      ],
      "text/plain": [
       "  term            estimate      std.error    statistic p.value     \n",
       "1 (Intercept)      4.145850e-02 0.0101494288  4.084811 7.727774e-05\n",
       "2 age_65up         2.727048e-03 0.0008488849  3.212507 1.664681e-03\n",
       "3 air_pollution   -1.942391e-04 0.0001756020 -1.106132 2.707439e-01\n",
       "4 med_bed         -3.105694e-03 0.0020174383 -1.539425 1.261691e-01\n",
       "5 physicians      -1.142673e-03 0.0033087865 -0.345345 7.304019e-01\n",
       "6 nurses_midwives -1.814256e-03 0.0012365078 -1.467242 1.447631e-01\n",
       "7 pop_density     -6.907478e-06 0.0000040539 -1.703909 9.082453e-02\n",
       "8 smoking         -4.117416e-04 0.0003755730 -1.096302 2.750048e-01\n",
       "9 confirmed_rate   6.527758e+00 3.3134644341  1.970070 5.098916e-02\n",
       "  p.value.adjust significant\n",
       "1 0.0006954997    TRUE      \n",
       "2 0.0074910660    TRUE      \n",
       "3 0.3093804367   FALSE      \n",
       "4 0.2171446348   FALSE      \n",
       "5 0.7304018940   FALSE      \n",
       "6 0.2171446348   FALSE      \n",
       "7 0.2043551976   FALSE      \n",
       "8 0.3093804367   FALSE      \n",
       "9 0.1529674929   FALSE      "
      ]
     },
     "metadata": {},
     "output_type": "display_data"
    }
   ],
   "source": [
    "fit <- lm(rate ~ ., df_no_gov)\n",
    "\n",
    "analyze_lm(fit)"
   ]
  },
  {
   "cell_type": "markdown",
   "metadata": {},
   "source": [
    "> The `df_no_gov` data frame has more observations than the `df_cp` data frame. But the results are similar. Considering that I want to include the `gov_resp` variable in my model, I'll use the `df_cp` data frame in my following analysis.\n",
    ">\n",
    "> The model fitted with the `df_cp` data frame indicates that no confounder is significant (adjusted p-value < 0.05). The four confounding variables with the lowest adjusted p-values are `med_bed`, `pop_density`, `nurses_midwives`, and `confirmed_rate`. I'll test those variables individually. Besides, `gov_resp` could be a good potential confounder and I'll test it as well.\n"
   ]
  },
  {
   "cell_type": "code",
   "execution_count": 54,
   "metadata": {},
   "outputs": [],
   "source": [
    "# prepare the data frame for individual testing\n",
    "df_sub <- df_cp %>%\n",
    "    select(rate, age_65up, med_bed, pop_density, \n",
    "           nurses_midwives, confirmed_rate, gov_resp) %>%\n",
    "    drop_na()"
   ]
  },
  {
   "cell_type": "code",
   "execution_count": 55,
   "metadata": {},
   "outputs": [
    {
     "data": {
      "text/html": [
       "<ol class=list-inline>\n",
       "\t<li>134</li>\n",
       "\t<li>7</li>\n",
       "</ol>\n"
      ],
      "text/latex": [
       "\\begin{enumerate*}\n",
       "\\item 134\n",
       "\\item 7\n",
       "\\end{enumerate*}\n"
      ],
      "text/markdown": [
       "1. 134\n",
       "2. 7\n",
       "\n",
       "\n"
      ],
      "text/plain": [
       "[1] 134   7"
      ]
     },
     "metadata": {},
     "output_type": "display_data"
    }
   ],
   "source": [
    "# 7 observations are removed, which is not too bad\n",
    "dim(df_sub)"
   ]
  },
  {
   "cell_type": "markdown",
   "metadata": {},
   "source": [
    "2) Check selected confounding variables individually"
   ]
  },
  {
   "cell_type": "code",
   "execution_count": 56,
   "metadata": {},
   "outputs": [
    {
     "data": {
      "text/html": [
       "<table>\n",
       "<caption>A tibble: 2 × 7</caption>\n",
       "<thead>\n",
       "\t<tr><th scope=col>term</th><th scope=col>estimate</th><th scope=col>std.error</th><th scope=col>statistic</th><th scope=col>p.value</th><th scope=col>p.value.adjust</th><th scope=col>significant</th></tr>\n",
       "\t<tr><th scope=col>&lt;chr&gt;</th><th scope=col>&lt;dbl&gt;</th><th scope=col>&lt;dbl&gt;</th><th scope=col>&lt;dbl&gt;</th><th scope=col>&lt;dbl&gt;</th><th scope=col>&lt;dbl&gt;</th><th scope=col>&lt;lgl&gt;</th></tr>\n",
       "</thead>\n",
       "<tbody>\n",
       "\t<tr><td>(Intercept)</td><td>0.031550563</td><td>0.0059025646</td><td>5.345230</td><td>3.851118e-07</td><td>7.702235e-07</td><td>TRUE</td></tr>\n",
       "\t<tr><td>age_65up   </td><td>0.001191158</td><td>0.0005171247</td><td>2.303425</td><td>2.281803e-02</td><td>2.281803e-02</td><td>TRUE</td></tr>\n",
       "</tbody>\n",
       "</table>\n"
      ],
      "text/latex": [
       "A tibble: 2 × 7\n",
       "\\begin{tabular}{r|lllllll}\n",
       " term & estimate & std.error & statistic & p.value & p.value.adjust & significant\\\\\n",
       " <chr> & <dbl> & <dbl> & <dbl> & <dbl> & <dbl> & <lgl>\\\\\n",
       "\\hline\n",
       "\t (Intercept) & 0.031550563 & 0.0059025646 & 5.345230 & 3.851118e-07 & 7.702235e-07 & TRUE\\\\\n",
       "\t age\\_65up    & 0.001191158 & 0.0005171247 & 2.303425 & 2.281803e-02 & 2.281803e-02 & TRUE\\\\\n",
       "\\end{tabular}\n"
      ],
      "text/markdown": [
       "\n",
       "A tibble: 2 × 7\n",
       "\n",
       "| term &lt;chr&gt; | estimate &lt;dbl&gt; | std.error &lt;dbl&gt; | statistic &lt;dbl&gt; | p.value &lt;dbl&gt; | p.value.adjust &lt;dbl&gt; | significant &lt;lgl&gt; |\n",
       "|---|---|---|---|---|---|---|\n",
       "| (Intercept) | 0.031550563 | 0.0059025646 | 5.345230 | 3.851118e-07 | 7.702235e-07 | TRUE |\n",
       "| age_65up    | 0.001191158 | 0.0005171247 | 2.303425 | 2.281803e-02 | 2.281803e-02 | TRUE |\n",
       "\n"
      ],
      "text/plain": [
       "  term        estimate    std.error    statistic p.value      p.value.adjust\n",
       "1 (Intercept) 0.031550563 0.0059025646 5.345230  3.851118e-07 7.702235e-07  \n",
       "2 age_65up    0.001191158 0.0005171247 2.303425  2.281803e-02 2.281803e-02  \n",
       "  significant\n",
       "1 TRUE       \n",
       "2 TRUE       "
      ]
     },
     "metadata": {},
     "output_type": "display_data"
    }
   ],
   "source": [
    "# base model\n",
    "base <- lm(rate ~ age_65up, df_sub)\n",
    "\n",
    "analyze_lm(base)"
   ]
  },
  {
   "cell_type": "code",
   "execution_count": 57,
   "metadata": {},
   "outputs": [
    {
     "data": {
      "text/html": [
       "<table>\n",
       "<caption>A tibble: 3 × 7</caption>\n",
       "<thead>\n",
       "\t<tr><th scope=col>term</th><th scope=col>estimate</th><th scope=col>std.error</th><th scope=col>statistic</th><th scope=col>p.value</th><th scope=col>p.value.adjust</th><th scope=col>significant</th></tr>\n",
       "\t<tr><th scope=col>&lt;chr&gt;</th><th scope=col>&lt;dbl&gt;</th><th scope=col>&lt;dbl&gt;</th><th scope=col>&lt;dbl&gt;</th><th scope=col>&lt;dbl&gt;</th><th scope=col>&lt;dbl&gt;</th><th scope=col>&lt;lgl&gt;</th></tr>\n",
       "</thead>\n",
       "<tbody>\n",
       "\t<tr><td>(Intercept)</td><td> 0.035191279</td><td>0.0058705813</td><td> 5.994514</td><td>1.859324e-08</td><td>5.577973e-08</td><td>TRUE</td></tr>\n",
       "\t<tr><td>age_65up   </td><td> 0.002484209</td><td>0.0006678629</td><td> 3.719638</td><td>2.948116e-04</td><td>4.422173e-04</td><td>TRUE</td></tr>\n",
       "\t<tr><td>med_bed    </td><td>-0.005344172</td><td>0.0018169842</td><td>-2.941232</td><td>3.866544e-03</td><td>3.866544e-03</td><td>TRUE</td></tr>\n",
       "</tbody>\n",
       "</table>\n"
      ],
      "text/latex": [
       "A tibble: 3 × 7\n",
       "\\begin{tabular}{r|lllllll}\n",
       " term & estimate & std.error & statistic & p.value & p.value.adjust & significant\\\\\n",
       " <chr> & <dbl> & <dbl> & <dbl> & <dbl> & <dbl> & <lgl>\\\\\n",
       "\\hline\n",
       "\t (Intercept) &  0.035191279 & 0.0058705813 &  5.994514 & 1.859324e-08 & 5.577973e-08 & TRUE\\\\\n",
       "\t age\\_65up    &  0.002484209 & 0.0006678629 &  3.719638 & 2.948116e-04 & 4.422173e-04 & TRUE\\\\\n",
       "\t med\\_bed     & -0.005344172 & 0.0018169842 & -2.941232 & 3.866544e-03 & 3.866544e-03 & TRUE\\\\\n",
       "\\end{tabular}\n"
      ],
      "text/markdown": [
       "\n",
       "A tibble: 3 × 7\n",
       "\n",
       "| term &lt;chr&gt; | estimate &lt;dbl&gt; | std.error &lt;dbl&gt; | statistic &lt;dbl&gt; | p.value &lt;dbl&gt; | p.value.adjust &lt;dbl&gt; | significant &lt;lgl&gt; |\n",
       "|---|---|---|---|---|---|---|\n",
       "| (Intercept) |  0.035191279 | 0.0058705813 |  5.994514 | 1.859324e-08 | 5.577973e-08 | TRUE |\n",
       "| age_65up    |  0.002484209 | 0.0006678629 |  3.719638 | 2.948116e-04 | 4.422173e-04 | TRUE |\n",
       "| med_bed     | -0.005344172 | 0.0018169842 | -2.941232 | 3.866544e-03 | 3.866544e-03 | TRUE |\n",
       "\n"
      ],
      "text/plain": [
       "  term        estimate     std.error    statistic p.value      p.value.adjust\n",
       "1 (Intercept)  0.035191279 0.0058705813  5.994514 1.859324e-08 5.577973e-08  \n",
       "2 age_65up     0.002484209 0.0006678629  3.719638 2.948116e-04 4.422173e-04  \n",
       "3 med_bed     -0.005344172 0.0018169842 -2.941232 3.866544e-03 3.866544e-03  \n",
       "  significant\n",
       "1 TRUE       \n",
       "2 TRUE       \n",
       "3 TRUE       "
      ]
     },
     "metadata": {},
     "output_type": "display_data"
    }
   ],
   "source": [
    "# add med_bed to the base model\n",
    "fit_1 <- lm(rate ~ age_65up + med_bed, df_sub)\n",
    "\n",
    "analyze_lm(fit_1)"
   ]
  },
  {
   "cell_type": "code",
   "execution_count": 58,
   "metadata": {},
   "outputs": [
    {
     "data": {
      "text/html": [
       "<table>\n",
       "<caption>A anova: 2 × 6</caption>\n",
       "<thead>\n",
       "\t<tr><th scope=col>Res.Df</th><th scope=col>RSS</th><th scope=col>Df</th><th scope=col>Sum of Sq</th><th scope=col>F</th><th scope=col>Pr(&gt;F)</th></tr>\n",
       "\t<tr><th scope=col>&lt;dbl&gt;</th><th scope=col>&lt;dbl&gt;</th><th scope=col>&lt;dbl&gt;</th><th scope=col>&lt;dbl&gt;</th><th scope=col>&lt;dbl&gt;</th><th scope=col>&lt;dbl&gt;</th></tr>\n",
       "</thead>\n",
       "<tbody>\n",
       "\t<tr><td>131</td><td>0.1884095</td><td>NA</td><td>       NA</td><td>      NA</td><td>         NA</td></tr>\n",
       "\t<tr><td>132</td><td>0.2008515</td><td>-1</td><td>-0.012442</td><td>8.650847</td><td>0.003866544</td></tr>\n",
       "</tbody>\n",
       "</table>\n"
      ],
      "text/latex": [
       "A anova: 2 × 6\n",
       "\\begin{tabular}{r|llllll}\n",
       " Res.Df & RSS & Df & Sum of Sq & F & Pr(>F)\\\\\n",
       " <dbl> & <dbl> & <dbl> & <dbl> & <dbl> & <dbl>\\\\\n",
       "\\hline\n",
       "\t 131 & 0.1884095 & NA &        NA &       NA &          NA\\\\\n",
       "\t 132 & 0.2008515 & -1 & -0.012442 & 8.650847 & 0.003866544\\\\\n",
       "\\end{tabular}\n"
      ],
      "text/markdown": [
       "\n",
       "A anova: 2 × 6\n",
       "\n",
       "| Res.Df &lt;dbl&gt; | RSS &lt;dbl&gt; | Df &lt;dbl&gt; | Sum of Sq &lt;dbl&gt; | F &lt;dbl&gt; | Pr(&gt;F) &lt;dbl&gt; |\n",
       "|---|---|---|---|---|---|\n",
       "| 131 | 0.1884095 | NA |        NA |       NA |          NA |\n",
       "| 132 | 0.2008515 | -1 | -0.012442 | 8.650847 | 0.003866544 |\n",
       "\n"
      ],
      "text/plain": [
       "  Res.Df RSS       Df Sum of Sq F        Pr(>F)     \n",
       "1 131    0.1884095 NA        NA       NA          NA\n",
       "2 132    0.2008515 -1 -0.012442 8.650847 0.003866544"
      ]
     },
     "metadata": {},
     "output_type": "display_data"
    }
   ],
   "source": [
    "anova(fit_1, base)"
   ]
  },
  {
   "cell_type": "markdown",
   "metadata": {},
   "source": [
    "> The model with `med_bed` is significantly (p-value < 0.05) different from the base model. I could add `med_bed` in my final model."
   ]
  },
  {
   "cell_type": "code",
   "execution_count": 59,
   "metadata": {},
   "outputs": [
    {
     "data": {
      "text/html": [
       "<table>\n",
       "<caption>A tibble: 3 × 7</caption>\n",
       "<thead>\n",
       "\t<tr><th scope=col>term</th><th scope=col>estimate</th><th scope=col>std.error</th><th scope=col>statistic</th><th scope=col>p.value</th><th scope=col>p.value.adjust</th><th scope=col>significant</th></tr>\n",
       "\t<tr><th scope=col>&lt;chr&gt;</th><th scope=col>&lt;dbl&gt;</th><th scope=col>&lt;dbl&gt;</th><th scope=col>&lt;dbl&gt;</th><th scope=col>&lt;dbl&gt;</th><th scope=col>&lt;dbl&gt;</th><th scope=col>&lt;lgl&gt;</th></tr>\n",
       "</thead>\n",
       "<tbody>\n",
       "\t<tr><td>(Intercept)</td><td> 3.262215e-02</td><td>5.957043e-03</td><td> 5.476232</td><td>2.139079e-07</td><td>6.417238e-07</td><td> TRUE</td></tr>\n",
       "\t<tr><td>age_65up   </td><td> 1.203908e-03</td><td>5.162842e-04</td><td> 2.331871</td><td>2.123297e-02</td><td>3.184945e-02</td><td> TRUE</td></tr>\n",
       "\t<tr><td>pop_density</td><td>-5.766635e-06</td><td>4.732904e-06</td><td>-1.218413</td><td>2.252566e-01</td><td>2.252566e-01</td><td>FALSE</td></tr>\n",
       "</tbody>\n",
       "</table>\n"
      ],
      "text/latex": [
       "A tibble: 3 × 7\n",
       "\\begin{tabular}{r|lllllll}\n",
       " term & estimate & std.error & statistic & p.value & p.value.adjust & significant\\\\\n",
       " <chr> & <dbl> & <dbl> & <dbl> & <dbl> & <dbl> & <lgl>\\\\\n",
       "\\hline\n",
       "\t (Intercept) &  3.262215e-02 & 5.957043e-03 &  5.476232 & 2.139079e-07 & 6.417238e-07 &  TRUE\\\\\n",
       "\t age\\_65up    &  1.203908e-03 & 5.162842e-04 &  2.331871 & 2.123297e-02 & 3.184945e-02 &  TRUE\\\\\n",
       "\t pop\\_density & -5.766635e-06 & 4.732904e-06 & -1.218413 & 2.252566e-01 & 2.252566e-01 & FALSE\\\\\n",
       "\\end{tabular}\n"
      ],
      "text/markdown": [
       "\n",
       "A tibble: 3 × 7\n",
       "\n",
       "| term &lt;chr&gt; | estimate &lt;dbl&gt; | std.error &lt;dbl&gt; | statistic &lt;dbl&gt; | p.value &lt;dbl&gt; | p.value.adjust &lt;dbl&gt; | significant &lt;lgl&gt; |\n",
       "|---|---|---|---|---|---|---|\n",
       "| (Intercept) |  3.262215e-02 | 5.957043e-03 |  5.476232 | 2.139079e-07 | 6.417238e-07 |  TRUE |\n",
       "| age_65up    |  1.203908e-03 | 5.162842e-04 |  2.331871 | 2.123297e-02 | 3.184945e-02 |  TRUE |\n",
       "| pop_density | -5.766635e-06 | 4.732904e-06 | -1.218413 | 2.252566e-01 | 2.252566e-01 | FALSE |\n",
       "\n"
      ],
      "text/plain": [
       "  term        estimate      std.error    statistic p.value      p.value.adjust\n",
       "1 (Intercept)  3.262215e-02 5.957043e-03  5.476232 2.139079e-07 6.417238e-07  \n",
       "2 age_65up     1.203908e-03 5.162842e-04  2.331871 2.123297e-02 3.184945e-02  \n",
       "3 pop_density -5.766635e-06 4.732904e-06 -1.218413 2.252566e-01 2.252566e-01  \n",
       "  significant\n",
       "1  TRUE      \n",
       "2  TRUE      \n",
       "3 FALSE      "
      ]
     },
     "metadata": {},
     "output_type": "display_data"
    }
   ],
   "source": [
    "# add pop_density to the base model\n",
    "fit_2 <- lm(rate ~ age_65up + pop_density, df_sub)\n",
    "\n",
    "analyze_lm(fit_2)"
   ]
  },
  {
   "cell_type": "code",
   "execution_count": 60,
   "metadata": {},
   "outputs": [
    {
     "data": {
      "text/html": [
       "<table>\n",
       "<caption>A anova: 2 × 6</caption>\n",
       "<thead>\n",
       "\t<tr><th scope=col>Res.Df</th><th scope=col>RSS</th><th scope=col>Df</th><th scope=col>Sum of Sq</th><th scope=col>F</th><th scope=col>Pr(&gt;F)</th></tr>\n",
       "\t<tr><th scope=col>&lt;dbl&gt;</th><th scope=col>&lt;dbl&gt;</th><th scope=col>&lt;dbl&gt;</th><th scope=col>&lt;dbl&gt;</th><th scope=col>&lt;dbl&gt;</th><th scope=col>&lt;dbl&gt;</th></tr>\n",
       "</thead>\n",
       "<tbody>\n",
       "\t<tr><td>131</td><td>0.1986009</td><td>NA</td><td>          NA</td><td>      NA</td><td>       NA</td></tr>\n",
       "\t<tr><td>132</td><td>0.2008515</td><td>-1</td><td>-0.002250605</td><td>1.484531</td><td>0.2252566</td></tr>\n",
       "</tbody>\n",
       "</table>\n"
      ],
      "text/latex": [
       "A anova: 2 × 6\n",
       "\\begin{tabular}{r|llllll}\n",
       " Res.Df & RSS & Df & Sum of Sq & F & Pr(>F)\\\\\n",
       " <dbl> & <dbl> & <dbl> & <dbl> & <dbl> & <dbl>\\\\\n",
       "\\hline\n",
       "\t 131 & 0.1986009 & NA &           NA &       NA &        NA\\\\\n",
       "\t 132 & 0.2008515 & -1 & -0.002250605 & 1.484531 & 0.2252566\\\\\n",
       "\\end{tabular}\n"
      ],
      "text/markdown": [
       "\n",
       "A anova: 2 × 6\n",
       "\n",
       "| Res.Df &lt;dbl&gt; | RSS &lt;dbl&gt; | Df &lt;dbl&gt; | Sum of Sq &lt;dbl&gt; | F &lt;dbl&gt; | Pr(&gt;F) &lt;dbl&gt; |\n",
       "|---|---|---|---|---|---|\n",
       "| 131 | 0.1986009 | NA |           NA |       NA |        NA |\n",
       "| 132 | 0.2008515 | -1 | -0.002250605 | 1.484531 | 0.2252566 |\n",
       "\n"
      ],
      "text/plain": [
       "  Res.Df RSS       Df Sum of Sq    F        Pr(>F)   \n",
       "1 131    0.1986009 NA           NA       NA        NA\n",
       "2 132    0.2008515 -1 -0.002250605 1.484531 0.2252566"
      ]
     },
     "metadata": {},
     "output_type": "display_data"
    }
   ],
   "source": [
    "anova(fit_2, base)"
   ]
  },
  {
   "cell_type": "markdown",
   "metadata": {},
   "source": [
    "> The model with `pop_density` is not significantly (p-value < 0.05) different from the base model. I would not add `pop_density` in my final model."
   ]
  },
  {
   "cell_type": "code",
   "execution_count": 61,
   "metadata": {},
   "outputs": [
    {
     "data": {
      "text/html": [
       "<table>\n",
       "<caption>A tibble: 3 × 7</caption>\n",
       "<thead>\n",
       "\t<tr><th scope=col>term</th><th scope=col>estimate</th><th scope=col>std.error</th><th scope=col>statistic</th><th scope=col>p.value</th><th scope=col>p.value.adjust</th><th scope=col>significant</th></tr>\n",
       "\t<tr><th scope=col>&lt;chr&gt;</th><th scope=col>&lt;dbl&gt;</th><th scope=col>&lt;dbl&gt;</th><th scope=col>&lt;dbl&gt;</th><th scope=col>&lt;dbl&gt;</th><th scope=col>&lt;dbl&gt;</th><th scope=col>&lt;lgl&gt;</th></tr>\n",
       "</thead>\n",
       "<tbody>\n",
       "\t<tr><td>(Intercept)   </td><td>0.0317574802</td><td>0.0059195729</td><td>5.3648263</td><td>3.558047e-07</td><td>1.067414e-06</td><td> TRUE</td></tr>\n",
       "\t<tr><td>age_65up      </td><td>0.0009937576</td><td>0.0005835216</td><td>1.7030347</td><td>9.093299e-02</td><td>1.363995e-01</td><td>FALSE</td></tr>\n",
       "\t<tr><td>confirmed_rate</td><td>2.4173951749</td><td>3.2892889177</td><td>0.7349294</td><td>4.636961e-01</td><td>4.636961e-01</td><td>FALSE</td></tr>\n",
       "</tbody>\n",
       "</table>\n"
      ],
      "text/latex": [
       "A tibble: 3 × 7\n",
       "\\begin{tabular}{r|lllllll}\n",
       " term & estimate & std.error & statistic & p.value & p.value.adjust & significant\\\\\n",
       " <chr> & <dbl> & <dbl> & <dbl> & <dbl> & <dbl> & <lgl>\\\\\n",
       "\\hline\n",
       "\t (Intercept)    & 0.0317574802 & 0.0059195729 & 5.3648263 & 3.558047e-07 & 1.067414e-06 &  TRUE\\\\\n",
       "\t age\\_65up       & 0.0009937576 & 0.0005835216 & 1.7030347 & 9.093299e-02 & 1.363995e-01 & FALSE\\\\\n",
       "\t confirmed\\_rate & 2.4173951749 & 3.2892889177 & 0.7349294 & 4.636961e-01 & 4.636961e-01 & FALSE\\\\\n",
       "\\end{tabular}\n"
      ],
      "text/markdown": [
       "\n",
       "A tibble: 3 × 7\n",
       "\n",
       "| term &lt;chr&gt; | estimate &lt;dbl&gt; | std.error &lt;dbl&gt; | statistic &lt;dbl&gt; | p.value &lt;dbl&gt; | p.value.adjust &lt;dbl&gt; | significant &lt;lgl&gt; |\n",
       "|---|---|---|---|---|---|---|\n",
       "| (Intercept)    | 0.0317574802 | 0.0059195729 | 5.3648263 | 3.558047e-07 | 1.067414e-06 |  TRUE |\n",
       "| age_65up       | 0.0009937576 | 0.0005835216 | 1.7030347 | 9.093299e-02 | 1.363995e-01 | FALSE |\n",
       "| confirmed_rate | 2.4173951749 | 3.2892889177 | 0.7349294 | 4.636961e-01 | 4.636961e-01 | FALSE |\n",
       "\n"
      ],
      "text/plain": [
       "  term           estimate     std.error    statistic p.value     \n",
       "1 (Intercept)    0.0317574802 0.0059195729 5.3648263 3.558047e-07\n",
       "2 age_65up       0.0009937576 0.0005835216 1.7030347 9.093299e-02\n",
       "3 confirmed_rate 2.4173951749 3.2892889177 0.7349294 4.636961e-01\n",
       "  p.value.adjust significant\n",
       "1 1.067414e-06    TRUE      \n",
       "2 1.363995e-01   FALSE      \n",
       "3 4.636961e-01   FALSE      "
      ]
     },
     "metadata": {},
     "output_type": "display_data"
    }
   ],
   "source": [
    "# add confirmed_rate to the base model\n",
    "fit_3 <- lm(rate ~ age_65up + confirmed_rate, df_sub)\n",
    "\n",
    "analyze_lm(fit_3)"
   ]
  },
  {
   "cell_type": "code",
   "execution_count": 62,
   "metadata": {},
   "outputs": [
    {
     "data": {
      "text/html": [
       "<table>\n",
       "<caption>A anova: 2 × 6</caption>\n",
       "<thead>\n",
       "\t<tr><th scope=col>Res.Df</th><th scope=col>RSS</th><th scope=col>Df</th><th scope=col>Sum of Sq</th><th scope=col>F</th><th scope=col>Pr(&gt;F)</th></tr>\n",
       "\t<tr><th scope=col>&lt;dbl&gt;</th><th scope=col>&lt;dbl&gt;</th><th scope=col>&lt;dbl&gt;</th><th scope=col>&lt;dbl&gt;</th><th scope=col>&lt;dbl&gt;</th><th scope=col>&lt;dbl&gt;</th></tr>\n",
       "</thead>\n",
       "<tbody>\n",
       "\t<tr><td>131</td><td>0.2000267</td><td>NA</td><td>           NA</td><td>       NA</td><td>       NA</td></tr>\n",
       "\t<tr><td>132</td><td>0.2008515</td><td>-1</td><td>-0.0008247228</td><td>0.5401212</td><td>0.4636961</td></tr>\n",
       "</tbody>\n",
       "</table>\n"
      ],
      "text/latex": [
       "A anova: 2 × 6\n",
       "\\begin{tabular}{r|llllll}\n",
       " Res.Df & RSS & Df & Sum of Sq & F & Pr(>F)\\\\\n",
       " <dbl> & <dbl> & <dbl> & <dbl> & <dbl> & <dbl>\\\\\n",
       "\\hline\n",
       "\t 131 & 0.2000267 & NA &            NA &        NA &        NA\\\\\n",
       "\t 132 & 0.2008515 & -1 & -0.0008247228 & 0.5401212 & 0.4636961\\\\\n",
       "\\end{tabular}\n"
      ],
      "text/markdown": [
       "\n",
       "A anova: 2 × 6\n",
       "\n",
       "| Res.Df &lt;dbl&gt; | RSS &lt;dbl&gt; | Df &lt;dbl&gt; | Sum of Sq &lt;dbl&gt; | F &lt;dbl&gt; | Pr(&gt;F) &lt;dbl&gt; |\n",
       "|---|---|---|---|---|---|\n",
       "| 131 | 0.2000267 | NA |            NA |        NA |        NA |\n",
       "| 132 | 0.2008515 | -1 | -0.0008247228 | 0.5401212 | 0.4636961 |\n",
       "\n"
      ],
      "text/plain": [
       "  Res.Df RSS       Df Sum of Sq     F         Pr(>F)   \n",
       "1 131    0.2000267 NA            NA        NA        NA\n",
       "2 132    0.2008515 -1 -0.0008247228 0.5401212 0.4636961"
      ]
     },
     "metadata": {},
     "output_type": "display_data"
    }
   ],
   "source": [
    "anova(fit_3, base)"
   ]
  },
  {
   "cell_type": "markdown",
   "metadata": {},
   "source": [
    "> The model with `confirmed_rate` is not significantly (p-value < 0.05) different from the base model. I would not add `confirmed_rate` in my final model."
   ]
  },
  {
   "cell_type": "code",
   "execution_count": 63,
   "metadata": {},
   "outputs": [
    {
     "data": {
      "text/html": [
       "<table>\n",
       "<caption>A tibble: 3 × 7</caption>\n",
       "<thead>\n",
       "\t<tr><th scope=col>term</th><th scope=col>estimate</th><th scope=col>std.error</th><th scope=col>statistic</th><th scope=col>p.value</th><th scope=col>p.value.adjust</th><th scope=col>significant</th></tr>\n",
       "\t<tr><th scope=col>&lt;chr&gt;</th><th scope=col>&lt;dbl&gt;</th><th scope=col>&lt;dbl&gt;</th><th scope=col>&lt;dbl&gt;</th><th scope=col>&lt;dbl&gt;</th><th scope=col>&lt;dbl&gt;</th><th scope=col>&lt;lgl&gt;</th></tr>\n",
       "</thead>\n",
       "<tbody>\n",
       "\t<tr><td>(Intercept)    </td><td> 0.032154942</td><td>0.0058681011</td><td> 5.479616</td><td>2.106077e-07</td><td>6.318231e-07</td><td> TRUE</td></tr>\n",
       "\t<tr><td>age_65up       </td><td> 0.002049868</td><td>0.0007121373</td><td> 2.878473</td><td>4.668234e-03</td><td>7.002350e-03</td><td> TRUE</td></tr>\n",
       "\t<tr><td>nurses_midwives</td><td>-0.001952762</td><td>0.0011227567</td><td>-1.739257</td><td>8.433862e-02</td><td>8.433862e-02</td><td>FALSE</td></tr>\n",
       "</tbody>\n",
       "</table>\n"
      ],
      "text/latex": [
       "A tibble: 3 × 7\n",
       "\\begin{tabular}{r|lllllll}\n",
       " term & estimate & std.error & statistic & p.value & p.value.adjust & significant\\\\\n",
       " <chr> & <dbl> & <dbl> & <dbl> & <dbl> & <dbl> & <lgl>\\\\\n",
       "\\hline\n",
       "\t (Intercept)     &  0.032154942 & 0.0058681011 &  5.479616 & 2.106077e-07 & 6.318231e-07 &  TRUE\\\\\n",
       "\t age\\_65up        &  0.002049868 & 0.0007121373 &  2.878473 & 4.668234e-03 & 7.002350e-03 &  TRUE\\\\\n",
       "\t nurses\\_midwives & -0.001952762 & 0.0011227567 & -1.739257 & 8.433862e-02 & 8.433862e-02 & FALSE\\\\\n",
       "\\end{tabular}\n"
      ],
      "text/markdown": [
       "\n",
       "A tibble: 3 × 7\n",
       "\n",
       "| term &lt;chr&gt; | estimate &lt;dbl&gt; | std.error &lt;dbl&gt; | statistic &lt;dbl&gt; | p.value &lt;dbl&gt; | p.value.adjust &lt;dbl&gt; | significant &lt;lgl&gt; |\n",
       "|---|---|---|---|---|---|---|\n",
       "| (Intercept)     |  0.032154942 | 0.0058681011 |  5.479616 | 2.106077e-07 | 6.318231e-07 |  TRUE |\n",
       "| age_65up        |  0.002049868 | 0.0007121373 |  2.878473 | 4.668234e-03 | 7.002350e-03 |  TRUE |\n",
       "| nurses_midwives | -0.001952762 | 0.0011227567 | -1.739257 | 8.433862e-02 | 8.433862e-02 | FALSE |\n",
       "\n"
      ],
      "text/plain": [
       "  term            estimate     std.error    statistic p.value     \n",
       "1 (Intercept)      0.032154942 0.0058681011  5.479616 2.106077e-07\n",
       "2 age_65up         0.002049868 0.0007121373  2.878473 4.668234e-03\n",
       "3 nurses_midwives -0.001952762 0.0011227567 -1.739257 8.433862e-02\n",
       "  p.value.adjust significant\n",
       "1 6.318231e-07    TRUE      \n",
       "2 7.002350e-03    TRUE      \n",
       "3 8.433862e-02   FALSE      "
      ]
     },
     "metadata": {},
     "output_type": "display_data"
    }
   ],
   "source": [
    "# add gov_resp to the base model\n",
    "fit_4 <- lm(rate ~ age_65up + nurses_midwives, df_sub)\n",
    "\n",
    "analyze_lm(fit_4)"
   ]
  },
  {
   "cell_type": "code",
   "execution_count": 64,
   "metadata": {},
   "outputs": [
    {
     "data": {
      "text/html": [
       "<table>\n",
       "<caption>A anova: 2 × 6</caption>\n",
       "<thead>\n",
       "\t<tr><th scope=col>Res.Df</th><th scope=col>RSS</th><th scope=col>Df</th><th scope=col>Sum of Sq</th><th scope=col>F</th><th scope=col>Pr(&gt;F)</th></tr>\n",
       "\t<tr><th scope=col>&lt;dbl&gt;</th><th scope=col>&lt;dbl&gt;</th><th scope=col>&lt;dbl&gt;</th><th scope=col>&lt;dbl&gt;</th><th scope=col>&lt;dbl&gt;</th><th scope=col>&lt;dbl&gt;</th></tr>\n",
       "</thead>\n",
       "<tbody>\n",
       "\t<tr><td>131</td><td>0.1963181</td><td>NA</td><td>          NA</td><td>      NA</td><td>        NA</td></tr>\n",
       "\t<tr><td>132</td><td>0.2008515</td><td>-1</td><td>-0.004533321</td><td>3.025014</td><td>0.08433862</td></tr>\n",
       "</tbody>\n",
       "</table>\n"
      ],
      "text/latex": [
       "A anova: 2 × 6\n",
       "\\begin{tabular}{r|llllll}\n",
       " Res.Df & RSS & Df & Sum of Sq & F & Pr(>F)\\\\\n",
       " <dbl> & <dbl> & <dbl> & <dbl> & <dbl> & <dbl>\\\\\n",
       "\\hline\n",
       "\t 131 & 0.1963181 & NA &           NA &       NA &         NA\\\\\n",
       "\t 132 & 0.2008515 & -1 & -0.004533321 & 3.025014 & 0.08433862\\\\\n",
       "\\end{tabular}\n"
      ],
      "text/markdown": [
       "\n",
       "A anova: 2 × 6\n",
       "\n",
       "| Res.Df &lt;dbl&gt; | RSS &lt;dbl&gt; | Df &lt;dbl&gt; | Sum of Sq &lt;dbl&gt; | F &lt;dbl&gt; | Pr(&gt;F) &lt;dbl&gt; |\n",
       "|---|---|---|---|---|---|\n",
       "| 131 | 0.1963181 | NA |           NA |       NA |         NA |\n",
       "| 132 | 0.2008515 | -1 | -0.004533321 | 3.025014 | 0.08433862 |\n",
       "\n"
      ],
      "text/plain": [
       "  Res.Df RSS       Df Sum of Sq    F        Pr(>F)    \n",
       "1 131    0.1963181 NA           NA       NA         NA\n",
       "2 132    0.2008515 -1 -0.004533321 3.025014 0.08433862"
      ]
     },
     "metadata": {},
     "output_type": "display_data"
    }
   ],
   "source": [
    "anova(fit_4, base)"
   ]
  },
  {
   "cell_type": "code",
   "execution_count": 65,
   "metadata": {},
   "outputs": [
    {
     "data": {
      "text/html": [
       "<table>\n",
       "<caption>A tibble: 3 × 7</caption>\n",
       "<thead>\n",
       "\t<tr><th scope=col>term</th><th scope=col>estimate</th><th scope=col>std.error</th><th scope=col>statistic</th><th scope=col>p.value</th><th scope=col>p.value.adjust</th><th scope=col>significant</th></tr>\n",
       "\t<tr><th scope=col>&lt;chr&gt;</th><th scope=col>&lt;dbl&gt;</th><th scope=col>&lt;dbl&gt;</th><th scope=col>&lt;dbl&gt;</th><th scope=col>&lt;dbl&gt;</th><th scope=col>&lt;dbl&gt;</th><th scope=col>&lt;lgl&gt;</th></tr>\n",
       "</thead>\n",
       "<tbody>\n",
       "\t<tr><td>(Intercept)</td><td> 0.0939226067</td><td>0.0194255069</td><td> 4.835014</td><td>3.670351e-06</td><td>1.101105e-05</td><td>TRUE</td></tr>\n",
       "\t<tr><td>age_65up   </td><td> 0.0013833093</td><td>0.0005013774</td><td> 2.759018</td><td>6.627770e-03</td><td>6.627770e-03</td><td>TRUE</td></tr>\n",
       "\t<tr><td>gov_resp   </td><td>-0.0007709026</td><td>0.0002295808</td><td>-3.357870</td><td>1.028638e-03</td><td>1.542957e-03</td><td>TRUE</td></tr>\n",
       "</tbody>\n",
       "</table>\n"
      ],
      "text/latex": [
       "A tibble: 3 × 7\n",
       "\\begin{tabular}{r|lllllll}\n",
       " term & estimate & std.error & statistic & p.value & p.value.adjust & significant\\\\\n",
       " <chr> & <dbl> & <dbl> & <dbl> & <dbl> & <dbl> & <lgl>\\\\\n",
       "\\hline\n",
       "\t (Intercept) &  0.0939226067 & 0.0194255069 &  4.835014 & 3.670351e-06 & 1.101105e-05 & TRUE\\\\\n",
       "\t age\\_65up    &  0.0013833093 & 0.0005013774 &  2.759018 & 6.627770e-03 & 6.627770e-03 & TRUE\\\\\n",
       "\t gov\\_resp    & -0.0007709026 & 0.0002295808 & -3.357870 & 1.028638e-03 & 1.542957e-03 & TRUE\\\\\n",
       "\\end{tabular}\n"
      ],
      "text/markdown": [
       "\n",
       "A tibble: 3 × 7\n",
       "\n",
       "| term &lt;chr&gt; | estimate &lt;dbl&gt; | std.error &lt;dbl&gt; | statistic &lt;dbl&gt; | p.value &lt;dbl&gt; | p.value.adjust &lt;dbl&gt; | significant &lt;lgl&gt; |\n",
       "|---|---|---|---|---|---|---|\n",
       "| (Intercept) |  0.0939226067 | 0.0194255069 |  4.835014 | 3.670351e-06 | 1.101105e-05 | TRUE |\n",
       "| age_65up    |  0.0013833093 | 0.0005013774 |  2.759018 | 6.627770e-03 | 6.627770e-03 | TRUE |\n",
       "| gov_resp    | -0.0007709026 | 0.0002295808 | -3.357870 | 1.028638e-03 | 1.542957e-03 | TRUE |\n",
       "\n"
      ],
      "text/plain": [
       "  term        estimate      std.error    statistic p.value      p.value.adjust\n",
       "1 (Intercept)  0.0939226067 0.0194255069  4.835014 3.670351e-06 1.101105e-05  \n",
       "2 age_65up     0.0013833093 0.0005013774  2.759018 6.627770e-03 6.627770e-03  \n",
       "3 gov_resp    -0.0007709026 0.0002295808 -3.357870 1.028638e-03 1.542957e-03  \n",
       "  significant\n",
       "1 TRUE       \n",
       "2 TRUE       \n",
       "3 TRUE       "
      ]
     },
     "metadata": {},
     "output_type": "display_data"
    }
   ],
   "source": [
    "# add gov_resp to the base model\n",
    "fit_5 <- lm(rate ~ age_65up + gov_resp, df_sub)\n",
    "\n",
    "analyze_lm(fit_5)"
   ]
  },
  {
   "cell_type": "code",
   "execution_count": 66,
   "metadata": {},
   "outputs": [
    {
     "data": {
      "text/html": [
       "<table>\n",
       "<caption>A anova: 2 × 6</caption>\n",
       "<thead>\n",
       "\t<tr><th scope=col>Res.Df</th><th scope=col>RSS</th><th scope=col>Df</th><th scope=col>Sum of Sq</th><th scope=col>F</th><th scope=col>Pr(&gt;F)</th></tr>\n",
       "\t<tr><th scope=col>&lt;dbl&gt;</th><th scope=col>&lt;dbl&gt;</th><th scope=col>&lt;dbl&gt;</th><th scope=col>&lt;dbl&gt;</th><th scope=col>&lt;dbl&gt;</th><th scope=col>&lt;dbl&gt;</th></tr>\n",
       "</thead>\n",
       "<tbody>\n",
       "\t<tr><td>131</td><td>0.1849340</td><td>NA</td><td>         NA</td><td>      NA</td><td>         NA</td></tr>\n",
       "\t<tr><td>132</td><td>0.2008515</td><td>-1</td><td>-0.01591744</td><td>11.27529</td><td>0.001028638</td></tr>\n",
       "</tbody>\n",
       "</table>\n"
      ],
      "text/latex": [
       "A anova: 2 × 6\n",
       "\\begin{tabular}{r|llllll}\n",
       " Res.Df & RSS & Df & Sum of Sq & F & Pr(>F)\\\\\n",
       " <dbl> & <dbl> & <dbl> & <dbl> & <dbl> & <dbl>\\\\\n",
       "\\hline\n",
       "\t 131 & 0.1849340 & NA &          NA &       NA &          NA\\\\\n",
       "\t 132 & 0.2008515 & -1 & -0.01591744 & 11.27529 & 0.001028638\\\\\n",
       "\\end{tabular}\n"
      ],
      "text/markdown": [
       "\n",
       "A anova: 2 × 6\n",
       "\n",
       "| Res.Df &lt;dbl&gt; | RSS &lt;dbl&gt; | Df &lt;dbl&gt; | Sum of Sq &lt;dbl&gt; | F &lt;dbl&gt; | Pr(&gt;F) &lt;dbl&gt; |\n",
       "|---|---|---|---|---|---|\n",
       "| 131 | 0.1849340 | NA |          NA |       NA |          NA |\n",
       "| 132 | 0.2008515 | -1 | -0.01591744 | 11.27529 | 0.001028638 |\n",
       "\n"
      ],
      "text/plain": [
       "  Res.Df RSS       Df Sum of Sq   F        Pr(>F)     \n",
       "1 131    0.1849340 NA          NA       NA          NA\n",
       "2 132    0.2008515 -1 -0.01591744 11.27529 0.001028638"
      ]
     },
     "metadata": {},
     "output_type": "display_data"
    }
   ],
   "source": [
    "anova(fit_5, base)"
   ]
  },
  {
   "cell_type": "markdown",
   "metadata": {},
   "source": [
    "> The model with `gov_resp` is significantly (p-value < 0.05) different from the base model. I would not add `gov_resp` in my final model."
   ]
  },
  {
   "cell_type": "code",
   "execution_count": 67,
   "metadata": {},
   "outputs": [
    {
     "data": {
      "text/html": [
       "<table>\n",
       "<caption>A tibble: 4 × 7</caption>\n",
       "<thead>\n",
       "\t<tr><th scope=col>term</th><th scope=col>estimate</th><th scope=col>std.error</th><th scope=col>statistic</th><th scope=col>p.value</th><th scope=col>p.value.adjust</th><th scope=col>significant</th></tr>\n",
       "\t<tr><th scope=col>&lt;chr&gt;</th><th scope=col>&lt;dbl&gt;</th><th scope=col>&lt;dbl&gt;</th><th scope=col>&lt;dbl&gt;</th><th scope=col>&lt;dbl&gt;</th><th scope=col>&lt;dbl&gt;</th><th scope=col>&lt;lgl&gt;</th></tr>\n",
       "</thead>\n",
       "<tbody>\n",
       "\t<tr><td>(Intercept)</td><td> 0.0977449314</td><td>0.0188690126</td><td> 5.180183</td><td>8.231020e-07</td><td>3.292408e-06</td><td>TRUE</td></tr>\n",
       "\t<tr><td>age_65up   </td><td> 0.0026813597</td><td>0.0006438279</td><td> 4.164715</td><td>5.640980e-05</td><td>1.128196e-04</td><td>TRUE</td></tr>\n",
       "\t<tr><td>med_bed    </td><td>-0.0053626832</td><td>0.0017447842</td><td>-3.073551</td><td>2.577915e-03</td><td>2.577915e-03</td><td>TRUE</td></tr>\n",
       "\t<tr><td>gov_resp   </td><td>-0.0007729914</td><td>0.0002225201</td><td>-3.473806</td><td>6.975773e-04</td><td>9.301031e-04</td><td>TRUE</td></tr>\n",
       "</tbody>\n",
       "</table>\n"
      ],
      "text/latex": [
       "A tibble: 4 × 7\n",
       "\\begin{tabular}{r|lllllll}\n",
       " term & estimate & std.error & statistic & p.value & p.value.adjust & significant\\\\\n",
       " <chr> & <dbl> & <dbl> & <dbl> & <dbl> & <dbl> & <lgl>\\\\\n",
       "\\hline\n",
       "\t (Intercept) &  0.0977449314 & 0.0188690126 &  5.180183 & 8.231020e-07 & 3.292408e-06 & TRUE\\\\\n",
       "\t age\\_65up    &  0.0026813597 & 0.0006438279 &  4.164715 & 5.640980e-05 & 1.128196e-04 & TRUE\\\\\n",
       "\t med\\_bed     & -0.0053626832 & 0.0017447842 & -3.073551 & 2.577915e-03 & 2.577915e-03 & TRUE\\\\\n",
       "\t gov\\_resp    & -0.0007729914 & 0.0002225201 & -3.473806 & 6.975773e-04 & 9.301031e-04 & TRUE\\\\\n",
       "\\end{tabular}\n"
      ],
      "text/markdown": [
       "\n",
       "A tibble: 4 × 7\n",
       "\n",
       "| term &lt;chr&gt; | estimate &lt;dbl&gt; | std.error &lt;dbl&gt; | statistic &lt;dbl&gt; | p.value &lt;dbl&gt; | p.value.adjust &lt;dbl&gt; | significant &lt;lgl&gt; |\n",
       "|---|---|---|---|---|---|---|\n",
       "| (Intercept) |  0.0977449314 | 0.0188690126 |  5.180183 | 8.231020e-07 | 3.292408e-06 | TRUE |\n",
       "| age_65up    |  0.0026813597 | 0.0006438279 |  4.164715 | 5.640980e-05 | 1.128196e-04 | TRUE |\n",
       "| med_bed     | -0.0053626832 | 0.0017447842 | -3.073551 | 2.577915e-03 | 2.577915e-03 | TRUE |\n",
       "| gov_resp    | -0.0007729914 | 0.0002225201 | -3.473806 | 6.975773e-04 | 9.301031e-04 | TRUE |\n",
       "\n"
      ],
      "text/plain": [
       "  term        estimate      std.error    statistic p.value      p.value.adjust\n",
       "1 (Intercept)  0.0977449314 0.0188690126  5.180183 8.231020e-07 3.292408e-06  \n",
       "2 age_65up     0.0026813597 0.0006438279  4.164715 5.640980e-05 1.128196e-04  \n",
       "3 med_bed     -0.0053626832 0.0017447842 -3.073551 2.577915e-03 2.577915e-03  \n",
       "4 gov_resp    -0.0007729914 0.0002225201 -3.473806 6.975773e-04 9.301031e-04  \n",
       "  significant\n",
       "1 TRUE       \n",
       "2 TRUE       \n",
       "3 TRUE       \n",
       "4 TRUE       "
      ]
     },
     "metadata": {},
     "output_type": "display_data"
    }
   ],
   "source": [
    "# add med_bed and gov_resp to the base model\n",
    "fit_6 <- lm(rate ~ age_65up + med_bed + gov_resp, df_sub)\n",
    "\n",
    "analyze_lm(fit_6)"
   ]
  },
  {
   "cell_type": "code",
   "execution_count": 68,
   "metadata": {},
   "outputs": [
    {
     "data": {
      "text/html": [
       "<table>\n",
       "<caption>A anova: 2 × 6</caption>\n",
       "<thead>\n",
       "\t<tr><th scope=col>Res.Df</th><th scope=col>RSS</th><th scope=col>Df</th><th scope=col>Sum of Sq</th><th scope=col>F</th><th scope=col>Pr(&gt;F)</th></tr>\n",
       "\t<tr><th scope=col>&lt;dbl&gt;</th><th scope=col>&lt;dbl&gt;</th><th scope=col>&lt;dbl&gt;</th><th scope=col>&lt;dbl&gt;</th><th scope=col>&lt;dbl&gt;</th><th scope=col>&lt;dbl&gt;</th></tr>\n",
       "</thead>\n",
       "<tbody>\n",
       "\t<tr><td>130</td><td>0.1724058</td><td>NA</td><td>         NA</td><td>      NA</td><td>          NA</td></tr>\n",
       "\t<tr><td>132</td><td>0.2008515</td><td>-2</td><td>-0.02844566</td><td>10.72451</td><td>4.886485e-05</td></tr>\n",
       "</tbody>\n",
       "</table>\n"
      ],
      "text/latex": [
       "A anova: 2 × 6\n",
       "\\begin{tabular}{r|llllll}\n",
       " Res.Df & RSS & Df & Sum of Sq & F & Pr(>F)\\\\\n",
       " <dbl> & <dbl> & <dbl> & <dbl> & <dbl> & <dbl>\\\\\n",
       "\\hline\n",
       "\t 130 & 0.1724058 & NA &          NA &       NA &           NA\\\\\n",
       "\t 132 & 0.2008515 & -2 & -0.02844566 & 10.72451 & 4.886485e-05\\\\\n",
       "\\end{tabular}\n"
      ],
      "text/markdown": [
       "\n",
       "A anova: 2 × 6\n",
       "\n",
       "| Res.Df &lt;dbl&gt; | RSS &lt;dbl&gt; | Df &lt;dbl&gt; | Sum of Sq &lt;dbl&gt; | F &lt;dbl&gt; | Pr(&gt;F) &lt;dbl&gt; |\n",
       "|---|---|---|---|---|---|\n",
       "| 130 | 0.1724058 | NA |          NA |       NA |           NA |\n",
       "| 132 | 0.2008515 | -2 | -0.02844566 | 10.72451 | 4.886485e-05 |\n",
       "\n"
      ],
      "text/plain": [
       "  Res.Df RSS       Df Sum of Sq   F        Pr(>F)      \n",
       "1 130    0.1724058 NA          NA       NA           NA\n",
       "2 132    0.2008515 -2 -0.02844566 10.72451 4.886485e-05"
      ]
     },
     "metadata": {},
     "output_type": "display_data"
    }
   ],
   "source": [
    "anova(fit_6, base)"
   ]
  },
  {
   "cell_type": "code",
   "execution_count": 69,
   "metadata": {},
   "outputs": [
    {
     "data": {
      "text/html": [
       "<table>\n",
       "<caption>A anova: 2 × 6</caption>\n",
       "<thead>\n",
       "\t<tr><th scope=col>Res.Df</th><th scope=col>RSS</th><th scope=col>Df</th><th scope=col>Sum of Sq</th><th scope=col>F</th><th scope=col>Pr(&gt;F)</th></tr>\n",
       "\t<tr><th scope=col>&lt;dbl&gt;</th><th scope=col>&lt;dbl&gt;</th><th scope=col>&lt;dbl&gt;</th><th scope=col>&lt;dbl&gt;</th><th scope=col>&lt;dbl&gt;</th><th scope=col>&lt;dbl&gt;</th></tr>\n",
       "</thead>\n",
       "<tbody>\n",
       "\t<tr><td>130</td><td>0.1724058</td><td>NA</td><td>         NA</td><td>      NA</td><td>          NA</td></tr>\n",
       "\t<tr><td>131</td><td>0.1986009</td><td>-1</td><td>-0.02619506</td><td>19.75199</td><td>1.869093e-05</td></tr>\n",
       "</tbody>\n",
       "</table>\n"
      ],
      "text/latex": [
       "A anova: 2 × 6\n",
       "\\begin{tabular}{r|llllll}\n",
       " Res.Df & RSS & Df & Sum of Sq & F & Pr(>F)\\\\\n",
       " <dbl> & <dbl> & <dbl> & <dbl> & <dbl> & <dbl>\\\\\n",
       "\\hline\n",
       "\t 130 & 0.1724058 & NA &          NA &       NA &           NA\\\\\n",
       "\t 131 & 0.1986009 & -1 & -0.02619506 & 19.75199 & 1.869093e-05\\\\\n",
       "\\end{tabular}\n"
      ],
      "text/markdown": [
       "\n",
       "A anova: 2 × 6\n",
       "\n",
       "| Res.Df &lt;dbl&gt; | RSS &lt;dbl&gt; | Df &lt;dbl&gt; | Sum of Sq &lt;dbl&gt; | F &lt;dbl&gt; | Pr(&gt;F) &lt;dbl&gt; |\n",
       "|---|---|---|---|---|---|\n",
       "| 130 | 0.1724058 | NA |          NA |       NA |           NA |\n",
       "| 131 | 0.1986009 | -1 | -0.02619506 | 19.75199 | 1.869093e-05 |\n",
       "\n"
      ],
      "text/plain": [
       "  Res.Df RSS       Df Sum of Sq   F        Pr(>F)      \n",
       "1 130    0.1724058 NA          NA       NA           NA\n",
       "2 131    0.1986009 -1 -0.02619506 19.75199 1.869093e-05"
      ]
     },
     "metadata": {},
     "output_type": "display_data"
    }
   ],
   "source": [
    "anova(fit_6, fit_2)"
   ]
  },
  {
   "cell_type": "code",
   "execution_count": 70,
   "metadata": {},
   "outputs": [
    {
     "data": {
      "text/html": [
       "<table>\n",
       "<caption>A anova: 2 × 6</caption>\n",
       "<thead>\n",
       "\t<tr><th scope=col>Res.Df</th><th scope=col>RSS</th><th scope=col>Df</th><th scope=col>Sum of Sq</th><th scope=col>F</th><th scope=col>Pr(&gt;F)</th></tr>\n",
       "\t<tr><th scope=col>&lt;dbl&gt;</th><th scope=col>&lt;dbl&gt;</th><th scope=col>&lt;dbl&gt;</th><th scope=col>&lt;dbl&gt;</th><th scope=col>&lt;dbl&gt;</th><th scope=col>&lt;dbl&gt;</th></tr>\n",
       "</thead>\n",
       "<tbody>\n",
       "\t<tr><td>130</td><td>0.1724058</td><td>NA</td><td>         NA</td><td>      NA</td><td>         NA</td></tr>\n",
       "\t<tr><td>131</td><td>0.1849340</td><td>-1</td><td>-0.01252822</td><td>9.446716</td><td>0.002577915</td></tr>\n",
       "</tbody>\n",
       "</table>\n"
      ],
      "text/latex": [
       "A anova: 2 × 6\n",
       "\\begin{tabular}{r|llllll}\n",
       " Res.Df & RSS & Df & Sum of Sq & F & Pr(>F)\\\\\n",
       " <dbl> & <dbl> & <dbl> & <dbl> & <dbl> & <dbl>\\\\\n",
       "\\hline\n",
       "\t 130 & 0.1724058 & NA &          NA &       NA &          NA\\\\\n",
       "\t 131 & 0.1849340 & -1 & -0.01252822 & 9.446716 & 0.002577915\\\\\n",
       "\\end{tabular}\n"
      ],
      "text/markdown": [
       "\n",
       "A anova: 2 × 6\n",
       "\n",
       "| Res.Df &lt;dbl&gt; | RSS &lt;dbl&gt; | Df &lt;dbl&gt; | Sum of Sq &lt;dbl&gt; | F &lt;dbl&gt; | Pr(&gt;F) &lt;dbl&gt; |\n",
       "|---|---|---|---|---|---|\n",
       "| 130 | 0.1724058 | NA |          NA |       NA |          NA |\n",
       "| 131 | 0.1849340 | -1 | -0.01252822 | 9.446716 | 0.002577915 |\n",
       "\n"
      ],
      "text/plain": [
       "  Res.Df RSS       Df Sum of Sq   F        Pr(>F)     \n",
       "1 130    0.1724058 NA          NA       NA          NA\n",
       "2 131    0.1849340 -1 -0.01252822 9.446716 0.002577915"
      ]
     },
     "metadata": {},
     "output_type": "display_data"
    }
   ],
   "source": [
    "anova(fit_6, fit_5)"
   ]
  },
  {
   "cell_type": "markdown",
   "metadata": {},
   "source": [
    "> The model with `med_bed` and `gov_resp` is significantly (p-value < 0.05) different from the base model and the model with only `med_bed` or `gov_resp`. I would use this as my final model."
   ]
  },
  {
   "cell_type": "markdown",
   "metadata": {},
   "source": [
    "Check the residuals:"
   ]
  },
  {
   "cell_type": "code",
   "execution_count": 72,
   "metadata": {},
   "outputs": [
    {
     "data": {
      "image/png": "[encoded data removed]",
      "text/plain": [
       "plot without title"
      ]
     },
     "metadata": {
      "image/png": {
       "height": 420,
       "width": 420
      },
      "text/plain": {
       "height": 420,
       "width": 420
      }
     },
     "output_type": "display_data"
    }
   ],
   "source": [
    "tibble(residual = fit_6$residuals) %>%\n",
    "    ggplot(aes(residual)) +\n",
    "    geom_histogram(bins = 20)"
   ]
  },
  {
   "cell_type": "markdown",
   "metadata": {},
   "source": [
    "> The distribution is slightly right skewed. So the residuals does not follow the normal distribution. It seems that my model failed to capture some features."
   ]
  },
  {
   "cell_type": "markdown",
   "metadata": {},
   "source": [
    "## 8. Summary and conclusions\n"
   ]
  },
  {
   "cell_type": "code",
   "execution_count": null,
   "metadata": {},
   "outputs": [],
   "source": []
  },
  {
   "cell_type": "code",
   "execution_count": null,
   "metadata": {},
   "outputs": [],
   "source": []
  },
  {
   "cell_type": "code",
   "execution_count": null,
   "metadata": {},
   "outputs": [],
   "source": []
  }
 ],
 "metadata": {
  "kernelspec": {
   "display_name": "R",
   "language": "R",
   "name": "ir"
  },
  "language_info": {
   "codemirror_mode": "r",
   "file_extension": ".r",
   "mimetype": "text/x-r-source",
   "name": "R",
   "pygments_lexer": "r",
   "version": "3.6.1"
  }
 },
 "nbformat": 4,
 "nbformat_minor": 4
}
