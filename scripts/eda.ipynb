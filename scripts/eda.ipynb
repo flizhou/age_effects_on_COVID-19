{
 "cells": [
  {
   "cell_type": "markdown",
   "metadata": {},
   "source": [
    "# Exploratory data analysis"
   ]
  },
  {
   "cell_type": "markdown",
   "metadata": {},
   "source": [
    "## 1. Dataset description\n",
    "\n",
    "\n"
   ]
  },
  {
   "cell_type": "markdown",
   "metadata": {},
   "source": [
    "## 2. Load the dataset"
   ]
  },
  {
   "cell_type": "code",
   "execution_count": 103,
   "metadata": {},
   "outputs": [
    {
     "name": "stderr",
     "output_type": "stream",
     "text": [
      "Warning message:\n",
      "\"package 'httr' was built under R version 3.6.3\"\n",
      "\n",
      "Attaching package: 'jsonlite'\n",
      "\n",
      "\n",
      "The following object is masked from 'package:purrr':\n",
      "\n",
      "    flatten\n",
      "\n",
      "\n"
     ]
    }
   ],
   "source": [
    "library(httr)\n",
    "library(jsonlite)\n",
    "library(tidyverse)\n"
   ]
  },
  {
   "cell_type": "code",
   "execution_count": 34,
   "metadata": {},
   "outputs": [
    {
     "name": "stderr",
     "output_type": "stream",
     "text": [
      "Parsed with column specification:\n",
      "cols(\n",
      "  .default = col_double(),\n",
      "  `Province/State` = \u001b[31mcol_character()\u001b[39m,\n",
      "  `Country/Region` = \u001b[31mcol_character()\u001b[39m\n",
      ")\n",
      "\n",
      "See spec(...) for full column specifications.\n",
      "\n",
      "Parsed with column specification:\n",
      "cols(\n",
      "  .default = col_double(),\n",
      "  `Province/State` = \u001b[31mcol_character()\u001b[39m,\n",
      "  `Country/Region` = \u001b[31mcol_character()\u001b[39m\n",
      ")\n",
      "\n",
      "See spec(...) for full column specifications.\n",
      "\n"
     ]
    }
   ],
   "source": [
    "url <- \"https://github.com/CSSEGISandData/COVID-19/blob/master/csse_covid_19_data/csse_covid_19_time_series\"\n",
    "covid19_confirmed <- read_csv(paste(url, \"/time_series_covid19_confirmed_global.csv?raw=true\", sep = \"\"))\n",
    "covid19_death <- read_csv(paste(url, \"/time_series_covid19_deaths_global.csv?raw=true\", sep = \"\"))"
   ]
  },
  {
   "cell_type": "code",
   "execution_count": 111,
   "metadata": {},
   "outputs": [
    {
     "data": {
      "text/html": [
       "<table>\n",
       "<caption>A tibble: 6 × 98</caption>\n",
       "<thead>\n",
       "\t<tr><th scope=col>Province/State</th><th scope=col>Country/Region</th><th scope=col>Lat</th><th scope=col>Long</th><th scope=col>1/22/20</th><th scope=col>1/23/20</th><th scope=col>1/24/20</th><th scope=col>1/25/20</th><th scope=col>1/26/20</th><th scope=col>1/27/20</th><th scope=col>...</th><th scope=col>4/15/20</th><th scope=col>4/16/20</th><th scope=col>4/17/20</th><th scope=col>4/18/20</th><th scope=col>4/19/20</th><th scope=col>4/20/20</th><th scope=col>4/21/20</th><th scope=col>4/22/20</th><th scope=col>4/23/20</th><th scope=col>4/24/20</th></tr>\n",
       "\t<tr><th scope=col>&lt;chr&gt;</th><th scope=col>&lt;chr&gt;</th><th scope=col>&lt;dbl&gt;</th><th scope=col>&lt;dbl&gt;</th><th scope=col>&lt;dbl&gt;</th><th scope=col>&lt;dbl&gt;</th><th scope=col>&lt;dbl&gt;</th><th scope=col>&lt;dbl&gt;</th><th scope=col>&lt;dbl&gt;</th><th scope=col>&lt;dbl&gt;</th><th scope=col>...</th><th scope=col>&lt;dbl&gt;</th><th scope=col>&lt;dbl&gt;</th><th scope=col>&lt;dbl&gt;</th><th scope=col>&lt;dbl&gt;</th><th scope=col>&lt;dbl&gt;</th><th scope=col>&lt;dbl&gt;</th><th scope=col>&lt;dbl&gt;</th><th scope=col>&lt;dbl&gt;</th><th scope=col>&lt;dbl&gt;</th><th scope=col>&lt;dbl&gt;</th></tr>\n",
       "</thead>\n",
       "<tbody>\n",
       "\t<tr><td>NA</td><td>Afghanistan        </td><td> 33.0000</td><td> 65.0000</td><td>0</td><td>0</td><td>0</td><td>0</td><td>0</td><td>0</td><td>...</td><td> 784</td><td> 840</td><td> 906</td><td> 933</td><td> 996</td><td>1026</td><td>1092</td><td>1176</td><td>1279</td><td>1351</td></tr>\n",
       "\t<tr><td>NA</td><td>Albania            </td><td> 41.1533</td><td> 20.1683</td><td>0</td><td>0</td><td>0</td><td>0</td><td>0</td><td>0</td><td>...</td><td> 494</td><td> 518</td><td> 539</td><td> 548</td><td> 562</td><td> 584</td><td> 609</td><td> 634</td><td> 663</td><td> 678</td></tr>\n",
       "\t<tr><td>NA</td><td>Algeria            </td><td> 28.0339</td><td>  1.6596</td><td>0</td><td>0</td><td>0</td><td>0</td><td>0</td><td>0</td><td>...</td><td>2160</td><td>2268</td><td>2418</td><td>2534</td><td>2629</td><td>2718</td><td>2811</td><td>2910</td><td>3007</td><td>3127</td></tr>\n",
       "\t<tr><td>NA</td><td>Andorra            </td><td> 42.5063</td><td>  1.5218</td><td>0</td><td>0</td><td>0</td><td>0</td><td>0</td><td>0</td><td>...</td><td> 673</td><td> 673</td><td> 696</td><td> 704</td><td> 713</td><td> 717</td><td> 717</td><td> 723</td><td> 723</td><td> 731</td></tr>\n",
       "\t<tr><td>NA</td><td>Angola             </td><td>-11.2027</td><td> 17.8739</td><td>0</td><td>0</td><td>0</td><td>0</td><td>0</td><td>0</td><td>...</td><td>  19</td><td>  19</td><td>  19</td><td>  24</td><td>  24</td><td>  24</td><td>  24</td><td>  25</td><td>  25</td><td>  25</td></tr>\n",
       "\t<tr><td>NA</td><td>Antigua and Barbuda</td><td> 17.0608</td><td>-61.7964</td><td>0</td><td>0</td><td>0</td><td>0</td><td>0</td><td>0</td><td>...</td><td>  23</td><td>  23</td><td>  23</td><td>  23</td><td>  23</td><td>  23</td><td>  23</td><td>  24</td><td>  24</td><td>  24</td></tr>\n",
       "</tbody>\n",
       "</table>\n"
      ],
      "text/latex": [
       "A tibble: 6 × 98\n",
       "\\begin{tabular}{r|llllllllllllllllllllllllllllllllllllllllllllllllllllllllllllllllllllllllllllllllllllllllllllllllll}\n",
       " Province/State & Country/Region & Lat & Long & 1/22/20 & 1/23/20 & 1/24/20 & 1/25/20 & 1/26/20 & 1/27/20 & 1/28/20 & 1/29/20 & 1/30/20 & 1/31/20 & 2/1/20 & 2/2/20 & 2/3/20 & 2/4/20 & 2/5/20 & 2/6/20 & 2/7/20 & 2/8/20 & 2/9/20 & 2/10/20 & 2/11/20 & 2/12/20 & 2/13/20 & 2/14/20 & 2/15/20 & 2/16/20 & 2/17/20 & 2/18/20 & 2/19/20 & 2/20/20 & 2/21/20 & 2/22/20 & 2/23/20 & 2/24/20 & 2/25/20 & 2/26/20 & 2/27/20 & 2/28/20 & 2/29/20 & 3/1/20 & 3/2/20 & 3/3/20 & 3/4/20 & 3/5/20 & 3/6/20 & 3/7/20 & 3/8/20 & 3/9/20 & 3/10/20 & 3/11/20 & 3/12/20 & 3/13/20 & 3/14/20 & 3/15/20 & 3/16/20 & 3/17/20 & 3/18/20 & 3/19/20 & 3/20/20 & 3/21/20 & 3/22/20 & 3/23/20 & 3/24/20 & 3/25/20 & 3/26/20 & 3/27/20 & 3/28/20 & 3/29/20 & 3/30/20 & 3/31/20 & 4/1/20 & 4/2/20 & 4/3/20 & 4/4/20 & 4/5/20 & 4/6/20 & 4/7/20 & 4/8/20 & 4/9/20 & 4/10/20 & 4/11/20 & 4/12/20 & 4/13/20 & 4/14/20 & 4/15/20 & 4/16/20 & 4/17/20 & 4/18/20 & 4/19/20 & 4/20/20 & 4/21/20 & 4/22/20 & 4/23/20 & 4/24/20\\\\\n",
       " <chr> & <chr> & <dbl> & <dbl> & <dbl> & <dbl> & <dbl> & <dbl> & <dbl> & <dbl> & <dbl> & <dbl> & <dbl> & <dbl> & <dbl> & <dbl> & <dbl> & <dbl> & <dbl> & <dbl> & <dbl> & <dbl> & <dbl> & <dbl> & <dbl> & <dbl> & <dbl> & <dbl> & <dbl> & <dbl> & <dbl> & <dbl> & <dbl> & <dbl> & <dbl> & <dbl> & <dbl> & <dbl> & <dbl> & <dbl> & <dbl> & <dbl> & <dbl> & <dbl> & <dbl> & <dbl> & <dbl> & <dbl> & <dbl> & <dbl> & <dbl> & <dbl> & <dbl> & <dbl> & <dbl> & <dbl> & <dbl> & <dbl> & <dbl> & <dbl> & <dbl> & <dbl> & <dbl> & <dbl> & <dbl> & <dbl> & <dbl> & <dbl> & <dbl> & <dbl> & <dbl> & <dbl> & <dbl> & <dbl> & <dbl> & <dbl> & <dbl> & <dbl> & <dbl> & <dbl> & <dbl> & <dbl> & <dbl> & <dbl> & <dbl> & <dbl> & <dbl> & <dbl> & <dbl> & <dbl> & <dbl> & <dbl> & <dbl> & <dbl> & <dbl> & <dbl> & <dbl> & <dbl>\\\\\n",
       "\\hline\n",
       "\t NA & Afghanistan         &  33.0000 &  65.0000 & 0 & 0 & 0 & 0 & 0 & 0 & 0 & 0 & 0 & 0 & 0 & 0 & 0 & 0 & 0 & 0 & 0 & 0 & 0 & 0 & 0 & 0 & 0 & 0 & 0 & 0 & 0 & 0 & 0 & 0 & 0 & 0 & 0 & 1 & 1 & 1 & 1 & 1 & 1 & 1 & 1 & 1 &  1 &  1 &  1 &  1 &  4 &  4 &  5 &  7 &  7 &  7 & 11 & 16 & 21 & 22 & 22 & 22 & 24 &  24 &  40 &  40 &  74 &  84 &  94 & 110 & 110 & 120 & 170 & 174 & 237 & 273 &  281 &  299 &  349 &  367 &  423 &  444 &  484 &  521 &  555 &  607 &  665 &  714 &  784 &  840 &  906 &  933 &  996 & 1026 & 1092 & 1176 & 1279 & 1351\\\\\n",
       "\t NA & Albania             &  41.1533 &  20.1683 & 0 & 0 & 0 & 0 & 0 & 0 & 0 & 0 & 0 & 0 & 0 & 0 & 0 & 0 & 0 & 0 & 0 & 0 & 0 & 0 & 0 & 0 & 0 & 0 & 0 & 0 & 0 & 0 & 0 & 0 & 0 & 0 & 0 & 0 & 0 & 0 & 0 & 0 & 0 & 0 & 0 & 0 &  0 &  0 &  0 &  0 &  0 &  2 & 10 & 12 & 23 & 33 & 38 & 42 & 51 & 55 & 59 & 64 & 70 &  76 &  89 & 104 & 123 & 146 & 174 & 186 & 197 & 212 & 223 & 243 & 259 & 277 &  304 &  333 &  361 &  377 &  383 &  400 &  409 &  416 &  433 &  446 &  467 &  475 &  494 &  518 &  539 &  548 &  562 &  584 &  609 &  634 &  663 &  678\\\\\n",
       "\t NA & Algeria             &  28.0339 &   1.6596 & 0 & 0 & 0 & 0 & 0 & 0 & 0 & 0 & 0 & 0 & 0 & 0 & 0 & 0 & 0 & 0 & 0 & 0 & 0 & 0 & 0 & 0 & 0 & 0 & 0 & 0 & 0 & 0 & 0 & 0 & 0 & 0 & 0 & 0 & 1 & 1 & 1 & 1 & 1 & 1 & 3 & 5 & 12 & 12 & 17 & 17 & 19 & 20 & 20 & 20 & 24 & 26 & 37 & 48 & 54 & 60 & 74 & 87 & 90 & 139 & 201 & 230 & 264 & 302 & 367 & 409 & 454 & 511 & 584 & 716 & 847 & 986 & 1171 & 1251 & 1320 & 1423 & 1468 & 1572 & 1666 & 1761 & 1825 & 1914 & 1983 & 2070 & 2160 & 2268 & 2418 & 2534 & 2629 & 2718 & 2811 & 2910 & 3007 & 3127\\\\\n",
       "\t NA & Andorra             &  42.5063 &   1.5218 & 0 & 0 & 0 & 0 & 0 & 0 & 0 & 0 & 0 & 0 & 0 & 0 & 0 & 0 & 0 & 0 & 0 & 0 & 0 & 0 & 0 & 0 & 0 & 0 & 0 & 0 & 0 & 0 & 0 & 0 & 0 & 0 & 0 & 0 & 0 & 0 & 0 & 0 & 0 & 0 & 1 & 1 &  1 &  1 &  1 &  1 &  1 &  1 &  1 &  1 &  1 &  1 &  1 &  1 &  2 & 39 & 39 & 53 & 75 &  88 & 113 & 133 & 164 & 188 & 224 & 267 & 308 & 334 & 370 & 376 & 390 & 428 &  439 &  466 &  501 &  525 &  545 &  564 &  583 &  601 &  601 &  638 &  646 &  659 &  673 &  673 &  696 &  704 &  713 &  717 &  717 &  723 &  723 &  731\\\\\n",
       "\t NA & Angola              & -11.2027 &  17.8739 & 0 & 0 & 0 & 0 & 0 & 0 & 0 & 0 & 0 & 0 & 0 & 0 & 0 & 0 & 0 & 0 & 0 & 0 & 0 & 0 & 0 & 0 & 0 & 0 & 0 & 0 & 0 & 0 & 0 & 0 & 0 & 0 & 0 & 0 & 0 & 0 & 0 & 0 & 0 & 0 & 0 & 0 &  0 &  0 &  0 &  0 &  0 &  0 &  0 &  0 &  0 &  0 &  0 &  0 &  0 &  0 &  0 &  0 &  1 &   2 &   2 &   3 &   3 &   3 &   4 &   4 &   5 &   7 &   7 &   7 &   8 &   8 &    8 &   10 &   14 &   16 &   17 &   19 &   19 &   19 &   19 &   19 &   19 &   19 &   19 &   19 &   19 &   24 &   24 &   24 &   24 &   25 &   25 &   25\\\\\n",
       "\t NA & Antigua and Barbuda &  17.0608 & -61.7964 & 0 & 0 & 0 & 0 & 0 & 0 & 0 & 0 & 0 & 0 & 0 & 0 & 0 & 0 & 0 & 0 & 0 & 0 & 0 & 0 & 0 & 0 & 0 & 0 & 0 & 0 & 0 & 0 & 0 & 0 & 0 & 0 & 0 & 0 & 0 & 0 & 0 & 0 & 0 & 0 & 0 & 0 &  0 &  0 &  0 &  0 &  0 &  0 &  0 &  0 &  0 &  1 &  1 &  1 &  1 &  1 &  1 &  1 &  1 &   1 &   1 &   3 &   3 &   3 &   7 &   7 &   7 &   7 &   7 &   7 &   7 &   9 &   15 &   15 &   15 &   15 &   19 &   19 &   19 &   19 &   21 &   21 &   23 &   23 &   23 &   23 &   23 &   23 &   23 &   23 &   23 &   24 &   24 &   24\\\\\n",
       "\\end{tabular}\n"
      ],
      "text/markdown": [
       "\n",
       "A tibble: 6 × 98\n",
       "\n",
       "| Province/State &lt;chr&gt; | Country/Region &lt;chr&gt; | Lat &lt;dbl&gt; | Long &lt;dbl&gt; | 1/22/20 &lt;dbl&gt; | 1/23/20 &lt;dbl&gt; | 1/24/20 &lt;dbl&gt; | 1/25/20 &lt;dbl&gt; | 1/26/20 &lt;dbl&gt; | 1/27/20 &lt;dbl&gt; | ... ... | 4/15/20 &lt;dbl&gt; | 4/16/20 &lt;dbl&gt; | 4/17/20 &lt;dbl&gt; | 4/18/20 &lt;dbl&gt; | 4/19/20 &lt;dbl&gt; | 4/20/20 &lt;dbl&gt; | 4/21/20 &lt;dbl&gt; | 4/22/20 &lt;dbl&gt; | 4/23/20 &lt;dbl&gt; | 4/24/20 &lt;dbl&gt; |\n",
       "|---|---|---|---|---|---|---|---|---|---|---|---|---|---|---|---|---|---|---|---|---|\n",
       "| NA | Afghanistan         |  33.0000 |  65.0000 | 0 | 0 | 0 | 0 | 0 | 0 | ... |  784 |  840 |  906 |  933 |  996 | 1026 | 1092 | 1176 | 1279 | 1351 |\n",
       "| NA | Albania             |  41.1533 |  20.1683 | 0 | 0 | 0 | 0 | 0 | 0 | ... |  494 |  518 |  539 |  548 |  562 |  584 |  609 |  634 |  663 |  678 |\n",
       "| NA | Algeria             |  28.0339 |   1.6596 | 0 | 0 | 0 | 0 | 0 | 0 | ... | 2160 | 2268 | 2418 | 2534 | 2629 | 2718 | 2811 | 2910 | 3007 | 3127 |\n",
       "| NA | Andorra             |  42.5063 |   1.5218 | 0 | 0 | 0 | 0 | 0 | 0 | ... |  673 |  673 |  696 |  704 |  713 |  717 |  717 |  723 |  723 |  731 |\n",
       "| NA | Angola              | -11.2027 |  17.8739 | 0 | 0 | 0 | 0 | 0 | 0 | ... |   19 |   19 |   19 |   24 |   24 |   24 |   24 |   25 |   25 |   25 |\n",
       "| NA | Antigua and Barbuda |  17.0608 | -61.7964 | 0 | 0 | 0 | 0 | 0 | 0 | ... |   23 |   23 |   23 |   23 |   23 |   23 |   23 |   24 |   24 |   24 |\n",
       "\n"
      ],
      "text/plain": [
       "  Province/State Country/Region      Lat      Long     1/22/20 1/23/20 1/24/20\n",
       "1 NA             Afghanistan          33.0000  65.0000 0       0       0      \n",
       "2 NA             Albania              41.1533  20.1683 0       0       0      \n",
       "3 NA             Algeria              28.0339   1.6596 0       0       0      \n",
       "4 NA             Andorra              42.5063   1.5218 0       0       0      \n",
       "5 NA             Angola              -11.2027  17.8739 0       0       0      \n",
       "6 NA             Antigua and Barbuda  17.0608 -61.7964 0       0       0      \n",
       "  1/25/20 1/26/20 1/27/20 ... 4/15/20 4/16/20 4/17/20 4/18/20 4/19/20 4/20/20\n",
       "1 0       0       0       ...  784     840     906     933     996    1026   \n",
       "2 0       0       0       ...  494     518     539     548     562     584   \n",
       "3 0       0       0       ... 2160    2268    2418    2534    2629    2718   \n",
       "4 0       0       0       ...  673     673     696     704     713     717   \n",
       "5 0       0       0       ...   19      19      19      24      24      24   \n",
       "6 0       0       0       ...   23      23      23      23      23      23   \n",
       "  4/21/20 4/22/20 4/23/20 4/24/20\n",
       "1 1092    1176    1279    1351   \n",
       "2  609     634     663     678   \n",
       "3 2811    2910    3007    3127   \n",
       "4  717     723     723     731   \n",
       "5   24      25      25      25   \n",
       "6   23      24      24      24   "
      ]
     },
     "metadata": {},
     "output_type": "display_data"
    }
   ],
   "source": [
    "head(covid19_confirmed)"
   ]
  },
  {
   "cell_type": "code",
   "execution_count": 137,
   "metadata": {},
   "outputs": [
    {
     "name": "stderr",
     "output_type": "stream",
     "text": [
      "Parsed with column specification:\n",
      "cols(\n",
      "  country = \u001b[31mcol_character()\u001b[39m,\n",
      "  age_1564 = \u001b[32mcol_double()\u001b[39m,\n",
      "  age_64up = \u001b[32mcol_double()\u001b[39m,\n",
      "  age_0014 = \u001b[32mcol_double()\u001b[39m,\n",
      "  smok = \u001b[32mcol_double()\u001b[39m,\n",
      "  air_polution = \u001b[32mcol_double()\u001b[39m,\n",
      "  doctor = \u001b[32mcol_double()\u001b[39m,\n",
      "  nurse_midwivies = \u001b[32mcol_double()\u001b[39m\n",
      ")\n",
      "\n"
     ]
    }
   ],
   "source": [
    "country_data <- read_csv(\"../data/clean_data/country_data.csv\")"
   ]
  },
  {
   "cell_type": "code",
   "execution_count": 138,
   "metadata": {},
   "outputs": [
    {
     "data": {
      "text/html": [
       "<table>\n",
       "<caption>A tibble: 6 × 8</caption>\n",
       "<thead>\n",
       "\t<tr><th scope=col>country</th><th scope=col>age_1564</th><th scope=col>age_64up</th><th scope=col>age_0014</th><th scope=col>smok</th><th scope=col>air_polution</th><th scope=col>doctor</th><th scope=col>nurse_midwivies</th></tr>\n",
       "\t<tr><th scope=col>&lt;chr&gt;</th><th scope=col>&lt;dbl&gt;</th><th scope=col>&lt;dbl&gt;</th><th scope=col>&lt;dbl&gt;</th><th scope=col>&lt;dbl&gt;</th><th scope=col>&lt;dbl&gt;</th><th scope=col>&lt;dbl&gt;</th><th scope=col>&lt;dbl&gt;</th></tr>\n",
       "</thead>\n",
       "<tbody>\n",
       "\t<tr><td>Afghanistan   </td><td>54.32490</td><td> 2.584927</td><td>43.09018</td><td>  NA</td><td>56.91081</td><td>0.2907</td><td>    NA</td></tr>\n",
       "\t<tr><td>Albania       </td><td>68.58239</td><td>13.744736</td><td>17.67287</td><td>28.7</td><td>18.20060</td><td>    NA</td><td>    NA</td></tr>\n",
       "\t<tr><td>Algeria       </td><td>63.48882</td><td> 6.362497</td><td>30.14868</td><td>15.6</td><td>38.88401</td><td>    NA</td><td>    NA</td></tr>\n",
       "\t<tr><td>American Samoa</td><td>      NA</td><td>       NA</td><td>      NA</td><td>  NA</td><td>12.47382</td><td>    NA</td><td>    NA</td></tr>\n",
       "\t<tr><td>Andorra       </td><td>      NA</td><td>       NA</td><td>      NA</td><td>33.5</td><td>10.30762</td><td>3.3333</td><td>4.0128</td></tr>\n",
       "\t<tr><td>Angola        </td><td>50.97470</td><td> 2.216374</td><td>46.80892</td><td>  NA</td><td>32.38850</td><td>    NA</td><td>    NA</td></tr>\n",
       "</tbody>\n",
       "</table>\n"
      ],
      "text/latex": [
       "A tibble: 6 × 8\n",
       "\\begin{tabular}{r|llllllll}\n",
       " country & age\\_1564 & age\\_64up & age\\_0014 & smok & air\\_polution & doctor & nurse\\_midwivies\\\\\n",
       " <chr> & <dbl> & <dbl> & <dbl> & <dbl> & <dbl> & <dbl> & <dbl>\\\\\n",
       "\\hline\n",
       "\t Afghanistan    & 54.32490 &  2.584927 & 43.09018 &   NA & 56.91081 & 0.2907 &     NA\\\\\n",
       "\t Albania        & 68.58239 & 13.744736 & 17.67287 & 28.7 & 18.20060 &     NA &     NA\\\\\n",
       "\t Algeria        & 63.48882 &  6.362497 & 30.14868 & 15.6 & 38.88401 &     NA &     NA\\\\\n",
       "\t American Samoa &       NA &        NA &       NA &   NA & 12.47382 &     NA &     NA\\\\\n",
       "\t Andorra        &       NA &        NA &       NA & 33.5 & 10.30762 & 3.3333 & 4.0128\\\\\n",
       "\t Angola         & 50.97470 &  2.216374 & 46.80892 &   NA & 32.38850 &     NA &     NA\\\\\n",
       "\\end{tabular}\n"
      ],
      "text/markdown": [
       "\n",
       "A tibble: 6 × 8\n",
       "\n",
       "| country &lt;chr&gt; | age_1564 &lt;dbl&gt; | age_64up &lt;dbl&gt; | age_0014 &lt;dbl&gt; | smok &lt;dbl&gt; | air_polution &lt;dbl&gt; | doctor &lt;dbl&gt; | nurse_midwivies &lt;dbl&gt; |\n",
       "|---|---|---|---|---|---|---|---|\n",
       "| Afghanistan    | 54.32490 |  2.584927 | 43.09018 |   NA | 56.91081 | 0.2907 |     NA |\n",
       "| Albania        | 68.58239 | 13.744736 | 17.67287 | 28.7 | 18.20060 |     NA |     NA |\n",
       "| Algeria        | 63.48882 |  6.362497 | 30.14868 | 15.6 | 38.88401 |     NA |     NA |\n",
       "| American Samoa |       NA |        NA |       NA |   NA | 12.47382 |     NA |     NA |\n",
       "| Andorra        |       NA |        NA |       NA | 33.5 | 10.30762 | 3.3333 | 4.0128 |\n",
       "| Angola         | 50.97470 |  2.216374 | 46.80892 |   NA | 32.38850 |     NA |     NA |\n",
       "\n"
      ],
      "text/plain": [
       "  country        age_1564 age_64up  age_0014 smok air_polution doctor\n",
       "1 Afghanistan    54.32490  2.584927 43.09018   NA 56.91081     0.2907\n",
       "2 Albania        68.58239 13.744736 17.67287 28.7 18.20060         NA\n",
       "3 Algeria        63.48882  6.362497 30.14868 15.6 38.88401         NA\n",
       "4 American Samoa       NA        NA       NA   NA 12.47382         NA\n",
       "5 Andorra              NA        NA       NA 33.5 10.30762     3.3333\n",
       "6 Angola         50.97470  2.216374 46.80892   NA 32.38850         NA\n",
       "  nurse_midwivies\n",
       "1     NA         \n",
       "2     NA         \n",
       "3     NA         \n",
       "4     NA         \n",
       "5 4.0128         \n",
       "6     NA         "
      ]
     },
     "metadata": {},
     "output_type": "display_data"
    }
   ],
   "source": [
    "head(country_data)"
   ]
  },
  {
   "cell_type": "markdown",
   "metadata": {},
   "source": [
    "## 3. Explore the dataset"
   ]
  },
  {
   "cell_type": "code",
   "execution_count": 56,
   "metadata": {},
   "outputs": [
    {
     "data": {
      "text/html": [
       "<ol class=list-inline>\n",
       "\t<li>264</li>\n",
       "\t<li>98</li>\n",
       "</ol>\n"
      ],
      "text/latex": [
       "\\begin{enumerate*}\n",
       "\\item 264\n",
       "\\item 98\n",
       "\\end{enumerate*}\n"
      ],
      "text/markdown": [
       "1. 264\n",
       "2. 98\n",
       "\n",
       "\n"
      ],
      "text/plain": [
       "[1] 264  98"
      ]
     },
     "metadata": {},
     "output_type": "display_data"
    }
   ],
   "source": [
    "dim(covid19_confirmed)"
   ]
  },
  {
   "cell_type": "code",
   "execution_count": 35,
   "metadata": {},
   "outputs": [
    {
     "data": {
      "text/html": [
       "'4/24/20'"
      ],
      "text/latex": [
       "'4/24/20'"
      ],
      "text/markdown": [
       "'4/24/20'"
      ],
      "text/plain": [
       "[1] \"4/24/20\""
      ]
     },
     "metadata": {},
     "output_type": "display_data"
    }
   ],
   "source": [
    "colnames(covid19_confirmed)[length(covid19_confirmed)]"
   ]
  },
  {
   "cell_type": "code",
   "execution_count": 57,
   "metadata": {},
   "outputs": [
    {
     "data": {
      "text/html": [
       "<ol class=list-inline>\n",
       "\t<li>264</li>\n",
       "\t<li>98</li>\n",
       "</ol>\n"
      ],
      "text/latex": [
       "\\begin{enumerate*}\n",
       "\\item 264\n",
       "\\item 98\n",
       "\\end{enumerate*}\n"
      ],
      "text/markdown": [
       "1. 264\n",
       "2. 98\n",
       "\n",
       "\n"
      ],
      "text/plain": [
       "[1] 264  98"
      ]
     },
     "metadata": {},
     "output_type": "display_data"
    }
   ],
   "source": [
    "dim(covid19_death)"
   ]
  },
  {
   "cell_type": "code",
   "execution_count": 58,
   "metadata": {},
   "outputs": [
    {
     "data": {
      "text/html": [
       "'4/24/20'"
      ],
      "text/latex": [
       "'4/24/20'"
      ],
      "text/markdown": [
       "'4/24/20'"
      ],
      "text/plain": [
       "[1] \"4/24/20\""
      ]
     },
     "metadata": {},
     "output_type": "display_data"
    }
   ],
   "source": [
    "colnames(covid19_death)[length(covid19_death)]"
   ]
  },
  {
   "cell_type": "code",
   "execution_count": 60,
   "metadata": {},
   "outputs": [
    {
     "data": {
      "text/html": [
       "TRUE"
      ],
      "text/latex": [
       "TRUE"
      ],
      "text/markdown": [
       "TRUE"
      ],
      "text/plain": [
       "[1] TRUE"
      ]
     },
     "metadata": {},
     "output_type": "display_data"
    }
   ],
   "source": [
    "all(colnames(covid19_confirmed) == colnames(covid19_death))"
   ]
  },
  {
   "cell_type": "code",
   "execution_count": 61,
   "metadata": {},
   "outputs": [
    {
     "data": {
      "text/html": [
       "TRUE"
      ],
      "text/latex": [
       "TRUE"
      ],
      "text/markdown": [
       "TRUE"
      ],
      "text/plain": [
       "[1] TRUE"
      ]
     },
     "metadata": {},
     "output_type": "display_data"
    }
   ],
   "source": [
    "all(covid19_confirmed[2] == covid19_death[2])"
   ]
  },
  {
   "cell_type": "code",
   "execution_count": 101,
   "metadata": {},
   "outputs": [
    {
     "data": {
      "text/html": [
       "TRUE"
      ],
      "text/latex": [
       "TRUE"
      ],
      "text/markdown": [
       "TRUE"
      ],
      "text/plain": [
       "[1] TRUE"
      ]
     },
     "metadata": {},
     "output_type": "display_data"
    }
   ],
   "source": [
    "all(!is.na(covid19_confirmed[length(covid19_confirmed)]))"
   ]
  },
  {
   "cell_type": "code",
   "execution_count": 102,
   "metadata": {},
   "outputs": [
    {
     "data": {
      "text/html": [
       "TRUE"
      ],
      "text/latex": [
       "TRUE"
      ],
      "text/markdown": [
       "TRUE"
      ],
      "text/plain": [
       "[1] TRUE"
      ]
     },
     "metadata": {},
     "output_type": "display_data"
    }
   ],
   "source": [
    "all(!is.na(covid19_death[length(covid19_death)]))"
   ]
  },
  {
   "cell_type": "code",
   "execution_count": 142,
   "metadata": {},
   "outputs": [
    {
     "data": {
      "text/html": [
       "<ol class=list-inline>\n",
       "\t<li>264</li>\n",
       "\t<li>8</li>\n",
       "</ol>\n"
      ],
      "text/latex": [
       "\\begin{enumerate*}\n",
       "\\item 264\n",
       "\\item 8\n",
       "\\end{enumerate*}\n"
      ],
      "text/markdown": [
       "1. 264\n",
       "2. 8\n",
       "\n",
       "\n"
      ],
      "text/plain": [
       "[1] 264   8"
      ]
     },
     "metadata": {},
     "output_type": "display_data"
    }
   ],
   "source": [
    "dim(country_data)"
   ]
  },
  {
   "cell_type": "markdown",
   "metadata": {},
   "source": [
    "## 4. Initial thoughts\n"
   ]
  },
  {
   "cell_type": "markdown",
   "metadata": {},
   "source": [
    "## 5. Wrangling"
   ]
  },
  {
   "cell_type": "code",
   "execution_count": 87,
   "metadata": {},
   "outputs": [],
   "source": [
    "confirmed <- covid19_confirmed[c(2, length(covid19_confirmed))]\n",
    "colnames(confirmed) = c(\"country\", \"n\")\n",
    "\n",
    "confirmed <- confirmed %>%\n",
    "    group_by(country) %>%\n",
    "    summarize(confirmed = sum(n))"
   ]
  },
  {
   "cell_type": "code",
   "execution_count": 88,
   "metadata": {},
   "outputs": [],
   "source": [
    "death <- covid19_death[c(2, length(covid19_death))]\n",
    "colnames(death) = c(\"country\", \"n\")\n",
    "\n",
    "death <- death %>%\n",
    "    group_by(country) %>%\n",
    "    summarize(death = sum(n))"
   ]
  },
  {
   "cell_type": "code",
   "execution_count": 96,
   "metadata": {},
   "outputs": [
    {
     "data": {
      "text/html": [
       "<table>\n",
       "<caption>A data.frame: 6 × 4</caption>\n",
       "<thead>\n",
       "\t<tr><th scope=col>country</th><th scope=col>confirmed</th><th scope=col>death</th><th scope=col>rate</th></tr>\n",
       "\t<tr><th scope=col>&lt;chr&gt;</th><th scope=col>&lt;dbl&gt;</th><th scope=col>&lt;dbl&gt;</th><th scope=col>&lt;dbl&gt;</th></tr>\n",
       "</thead>\n",
       "<tbody>\n",
       "\t<tr><td>Afghanistan        </td><td>1351</td><td> 43</td><td>0.03182828</td></tr>\n",
       "\t<tr><td>Albania            </td><td> 678</td><td> 27</td><td>0.03982301</td></tr>\n",
       "\t<tr><td>Algeria            </td><td>3127</td><td>415</td><td>0.13271506</td></tr>\n",
       "\t<tr><td>Andorra            </td><td> 731</td><td> 40</td><td>0.05471956</td></tr>\n",
       "\t<tr><td>Angola             </td><td>  25</td><td>  2</td><td>0.08000000</td></tr>\n",
       "\t<tr><td>Antigua and Barbuda</td><td>  24</td><td>  3</td><td>0.12500000</td></tr>\n",
       "</tbody>\n",
       "</table>\n"
      ],
      "text/latex": [
       "A data.frame: 6 × 4\n",
       "\\begin{tabular}{r|llll}\n",
       " country & confirmed & death & rate\\\\\n",
       " <chr> & <dbl> & <dbl> & <dbl>\\\\\n",
       "\\hline\n",
       "\t Afghanistan         & 1351 &  43 & 0.03182828\\\\\n",
       "\t Albania             &  678 &  27 & 0.03982301\\\\\n",
       "\t Algeria             & 3127 & 415 & 0.13271506\\\\\n",
       "\t Andorra             &  731 &  40 & 0.05471956\\\\\n",
       "\t Angola              &   25 &   2 & 0.08000000\\\\\n",
       "\t Antigua and Barbuda &   24 &   3 & 0.12500000\\\\\n",
       "\\end{tabular}\n"
      ],
      "text/markdown": [
       "\n",
       "A data.frame: 6 × 4\n",
       "\n",
       "| country &lt;chr&gt; | confirmed &lt;dbl&gt; | death &lt;dbl&gt; | rate &lt;dbl&gt; |\n",
       "|---|---|---|---|\n",
       "| Afghanistan         | 1351 |  43 | 0.03182828 |\n",
       "| Albania             |  678 |  27 | 0.03982301 |\n",
       "| Algeria             | 3127 | 415 | 0.13271506 |\n",
       "| Andorra             |  731 |  40 | 0.05471956 |\n",
       "| Angola              |   25 |   2 | 0.08000000 |\n",
       "| Antigua and Barbuda |   24 |   3 | 0.12500000 |\n",
       "\n"
      ],
      "text/plain": [
       "  country             confirmed death rate      \n",
       "1 Afghanistan         1351       43   0.03182828\n",
       "2 Albania              678       27   0.03982301\n",
       "3 Algeria             3127      415   0.13271506\n",
       "4 Andorra              731       40   0.05471956\n",
       "5 Angola                25        2   0.08000000\n",
       "6 Antigua and Barbuda   24        3   0.12500000"
      ]
     },
     "metadata": {},
     "output_type": "display_data"
    }
   ],
   "source": [
    "covid19 <- merge(confirmed, death, by = \"country\") %>%\n",
    "    mutate(rate = death / confirmed)\n",
    "head(covid19)"
   ]
  },
  {
   "cell_type": "code",
   "execution_count": 132,
   "metadata": {},
   "outputs": [
    {
     "data": {
      "text/html": [
       "<ol class=list-inline>\n",
       "\t<li>185</li>\n",
       "\t<li>4</li>\n",
       "</ol>\n"
      ],
      "text/latex": [
       "\\begin{enumerate*}\n",
       "\\item 185\n",
       "\\item 4\n",
       "\\end{enumerate*}\n"
      ],
      "text/markdown": [
       "1. 185\n",
       "2. 4\n",
       "\n",
       "\n"
      ],
      "text/plain": [
       "[1] 185   4"
      ]
     },
     "metadata": {},
     "output_type": "display_data"
    }
   ],
   "source": [
    "dim(covid19)"
   ]
  },
  {
   "cell_type": "code",
   "execution_count": 95,
   "metadata": {},
   "outputs": [
    {
     "data": {
      "text/html": [
       "<table>\n",
       "<caption>A data.frame: 0 × 4</caption>\n",
       "<thead>\n",
       "\t<tr><th scope=col>country</th><th scope=col>confirmed</th><th scope=col>death</th><th scope=col>rate</th></tr>\n",
       "\t<tr><th scope=col>&lt;chr&gt;</th><th scope=col>&lt;dbl&gt;</th><th scope=col>&lt;dbl&gt;</th><th scope=col>&lt;dbl&gt;</th></tr>\n",
       "</thead>\n",
       "<tbody>\n",
       "</tbody>\n",
       "</table>\n"
      ],
      "text/latex": [
       "A data.frame: 0 × 4\n",
       "\\begin{tabular}{r|llll}\n",
       " country & confirmed & death & rate\\\\\n",
       " <chr> & <dbl> & <dbl> & <dbl>\\\\\n",
       "\\hline\n",
       "\\end{tabular}\n"
      ],
      "text/markdown": [
       "\n",
       "A data.frame: 0 × 4\n",
       "\n",
       "| country &lt;chr&gt; | confirmed &lt;dbl&gt; | death &lt;dbl&gt; | rate &lt;dbl&gt; |\n",
       "|---|---|---|---|\n",
       "\n"
      ],
      "text/plain": [
       "     country confirmed death rate"
      ]
     },
     "metadata": {},
     "output_type": "display_data"
    }
   ],
   "source": [
    "covid19 %>%\n",
    "    filter(rate >= 1)"
   ]
  },
  {
   "cell_type": "code",
   "execution_count": 145,
   "metadata": {},
   "outputs": [
    {
     "data": {
      "text/html": [
       "<table>\n",
       "<caption>A data.frame: 26 × 4</caption>\n",
       "<thead>\n",
       "\t<tr><th scope=col>country</th><th scope=col>confirmed</th><th scope=col>death</th><th scope=col>rate</th></tr>\n",
       "\t<tr><th scope=col>&lt;chr&gt;</th><th scope=col>&lt;dbl&gt;</th><th scope=col>&lt;dbl&gt;</th><th scope=col>&lt;dbl&gt;</th></tr>\n",
       "</thead>\n",
       "<tbody>\n",
       "\t<tr><td>Bahamas                         </td><td>    73</td><td>   11</td><td>0.150684932</td></tr>\n",
       "\t<tr><td>Brunei                          </td><td>   138</td><td>    1</td><td>0.007246377</td></tr>\n",
       "\t<tr><td>Burma                           </td><td>   144</td><td>    5</td><td>0.034722222</td></tr>\n",
       "\t<tr><td>Congo (Brazzaville)             </td><td>   200</td><td>    6</td><td>0.030000000</td></tr>\n",
       "\t<tr><td>Congo (Kinshasa)                </td><td>   394</td><td>   25</td><td>0.063451777</td></tr>\n",
       "\t<tr><td>Czechia                         </td><td>  7273</td><td>  214</td><td>0.029423897</td></tr>\n",
       "\t<tr><td>Diamond Princess                </td><td>   712</td><td>   13</td><td>0.018258427</td></tr>\n",
       "\t<tr><td>Egypt                           </td><td>  4092</td><td>  294</td><td>0.071847507</td></tr>\n",
       "\t<tr><td>Gambia                          </td><td>    10</td><td>    1</td><td>0.100000000</td></tr>\n",
       "\t<tr><td>Holy See                        </td><td>     9</td><td>    0</td><td>0.000000000</td></tr>\n",
       "\t<tr><td>Iran                            </td><td> 88194</td><td> 5574</td><td>0.063201578</td></tr>\n",
       "\t<tr><td>Korea, South                    </td><td> 10718</td><td>  240</td><td>0.022392237</td></tr>\n",
       "\t<tr><td>Kyrgyzstan                      </td><td>   665</td><td>    8</td><td>0.012030075</td></tr>\n",
       "\t<tr><td>Laos                            </td><td>    19</td><td>    0</td><td>0.000000000</td></tr>\n",
       "\t<tr><td>MS Zaandam                      </td><td>     9</td><td>    2</td><td>0.222222222</td></tr>\n",
       "\t<tr><td>Russia                          </td><td> 68622</td><td>  615</td><td>0.008962140</td></tr>\n",
       "\t<tr><td>Saint Kitts and Nevis           </td><td>    15</td><td>    0</td><td>0.000000000</td></tr>\n",
       "\t<tr><td>Saint Lucia                     </td><td>    15</td><td>    0</td><td>0.000000000</td></tr>\n",
       "\t<tr><td>Saint Vincent and the Grenadines</td><td>    14</td><td>    0</td><td>0.000000000</td></tr>\n",
       "\t<tr><td>Slovakia                        </td><td>  1360</td><td>   17</td><td>0.012500000</td></tr>\n",
       "\t<tr><td>Syria                           </td><td>    42</td><td>    3</td><td>0.071428571</td></tr>\n",
       "\t<tr><td>Taiwan*                         </td><td>   428</td><td>    6</td><td>0.014018692</td></tr>\n",
       "\t<tr><td>US                              </td><td>905358</td><td>51949</td><td>0.057379512</td></tr>\n",
       "\t<tr><td>Venezuela                       </td><td>   318</td><td>   10</td><td>0.031446541</td></tr>\n",
       "\t<tr><td>Western Sahara                  </td><td>     6</td><td>    0</td><td>0.000000000</td></tr>\n",
       "\t<tr><td>Yemen                           </td><td>     1</td><td>    0</td><td>0.000000000</td></tr>\n",
       "</tbody>\n",
       "</table>\n"
      ],
      "text/latex": [
       "A data.frame: 26 × 4\n",
       "\\begin{tabular}{r|llll}\n",
       " country & confirmed & death & rate\\\\\n",
       " <chr> & <dbl> & <dbl> & <dbl>\\\\\n",
       "\\hline\n",
       "\t Bahamas                          &     73 &    11 & 0.150684932\\\\\n",
       "\t Brunei                           &    138 &     1 & 0.007246377\\\\\n",
       "\t Burma                            &    144 &     5 & 0.034722222\\\\\n",
       "\t Congo (Brazzaville)              &    200 &     6 & 0.030000000\\\\\n",
       "\t Congo (Kinshasa)                 &    394 &    25 & 0.063451777\\\\\n",
       "\t Czechia                          &   7273 &   214 & 0.029423897\\\\\n",
       "\t Diamond Princess                 &    712 &    13 & 0.018258427\\\\\n",
       "\t Egypt                            &   4092 &   294 & 0.071847507\\\\\n",
       "\t Gambia                           &     10 &     1 & 0.100000000\\\\\n",
       "\t Holy See                         &      9 &     0 & 0.000000000\\\\\n",
       "\t Iran                             &  88194 &  5574 & 0.063201578\\\\\n",
       "\t Korea, South                     &  10718 &   240 & 0.022392237\\\\\n",
       "\t Kyrgyzstan                       &    665 &     8 & 0.012030075\\\\\n",
       "\t Laos                             &     19 &     0 & 0.000000000\\\\\n",
       "\t MS Zaandam                       &      9 &     2 & 0.222222222\\\\\n",
       "\t Russia                           &  68622 &   615 & 0.008962140\\\\\n",
       "\t Saint Kitts and Nevis            &     15 &     0 & 0.000000000\\\\\n",
       "\t Saint Lucia                      &     15 &     0 & 0.000000000\\\\\n",
       "\t Saint Vincent and the Grenadines &     14 &     0 & 0.000000000\\\\\n",
       "\t Slovakia                         &   1360 &    17 & 0.012500000\\\\\n",
       "\t Syria                            &     42 &     3 & 0.071428571\\\\\n",
       "\t Taiwan*                          &    428 &     6 & 0.014018692\\\\\n",
       "\t US                               & 905358 & 51949 & 0.057379512\\\\\n",
       "\t Venezuela                        &    318 &    10 & 0.031446541\\\\\n",
       "\t Western Sahara                   &      6 &     0 & 0.000000000\\\\\n",
       "\t Yemen                            &      1 &     0 & 0.000000000\\\\\n",
       "\\end{tabular}\n"
      ],
      "text/markdown": [
       "\n",
       "A data.frame: 26 × 4\n",
       "\n",
       "| country &lt;chr&gt; | confirmed &lt;dbl&gt; | death &lt;dbl&gt; | rate &lt;dbl&gt; |\n",
       "|---|---|---|---|\n",
       "| Bahamas                          |     73 |    11 | 0.150684932 |\n",
       "| Brunei                           |    138 |     1 | 0.007246377 |\n",
       "| Burma                            |    144 |     5 | 0.034722222 |\n",
       "| Congo (Brazzaville)              |    200 |     6 | 0.030000000 |\n",
       "| Congo (Kinshasa)                 |    394 |    25 | 0.063451777 |\n",
       "| Czechia                          |   7273 |   214 | 0.029423897 |\n",
       "| Diamond Princess                 |    712 |    13 | 0.018258427 |\n",
       "| Egypt                            |   4092 |   294 | 0.071847507 |\n",
       "| Gambia                           |     10 |     1 | 0.100000000 |\n",
       "| Holy See                         |      9 |     0 | 0.000000000 |\n",
       "| Iran                             |  88194 |  5574 | 0.063201578 |\n",
       "| Korea, South                     |  10718 |   240 | 0.022392237 |\n",
       "| Kyrgyzstan                       |    665 |     8 | 0.012030075 |\n",
       "| Laos                             |     19 |     0 | 0.000000000 |\n",
       "| MS Zaandam                       |      9 |     2 | 0.222222222 |\n",
       "| Russia                           |  68622 |   615 | 0.008962140 |\n",
       "| Saint Kitts and Nevis            |     15 |     0 | 0.000000000 |\n",
       "| Saint Lucia                      |     15 |     0 | 0.000000000 |\n",
       "| Saint Vincent and the Grenadines |     14 |     0 | 0.000000000 |\n",
       "| Slovakia                         |   1360 |    17 | 0.012500000 |\n",
       "| Syria                            |     42 |     3 | 0.071428571 |\n",
       "| Taiwan*                          |    428 |     6 | 0.014018692 |\n",
       "| US                               | 905358 | 51949 | 0.057379512 |\n",
       "| Venezuela                        |    318 |    10 | 0.031446541 |\n",
       "| Western Sahara                   |      6 |     0 | 0.000000000 |\n",
       "| Yemen                            |      1 |     0 | 0.000000000 |\n",
       "\n"
      ],
      "text/plain": [
       "   country                          confirmed death rate       \n",
       "1  Bahamas                              73       11 0.150684932\n",
       "2  Brunei                              138        1 0.007246377\n",
       "3  Burma                               144        5 0.034722222\n",
       "4  Congo (Brazzaville)                 200        6 0.030000000\n",
       "5  Congo (Kinshasa)                    394       25 0.063451777\n",
       "6  Czechia                            7273      214 0.029423897\n",
       "7  Diamond Princess                    712       13 0.018258427\n",
       "8  Egypt                              4092      294 0.071847507\n",
       "9  Gambia                               10        1 0.100000000\n",
       "10 Holy See                              9        0 0.000000000\n",
       "11 Iran                              88194     5574 0.063201578\n",
       "12 Korea, South                      10718      240 0.022392237\n",
       "13 Kyrgyzstan                          665        8 0.012030075\n",
       "14 Laos                                 19        0 0.000000000\n",
       "15 MS Zaandam                            9        2 0.222222222\n",
       "16 Russia                            68622      615 0.008962140\n",
       "17 Saint Kitts and Nevis                15        0 0.000000000\n",
       "18 Saint Lucia                          15        0 0.000000000\n",
       "19 Saint Vincent and the Grenadines     14        0 0.000000000\n",
       "20 Slovakia                           1360       17 0.012500000\n",
       "21 Syria                                42        3 0.071428571\n",
       "22 Taiwan*                             428        6 0.014018692\n",
       "23 US                               905358    51949 0.057379512\n",
       "24 Venezuela                           318       10 0.031446541\n",
       "25 Western Sahara                        6        0 0.000000000\n",
       "26 Yemen                                 1        0 0.000000000"
      ]
     },
     "metadata": {},
     "output_type": "display_data"
    }
   ],
   "source": [
    "covid19 %>%\n",
    "    filter(!country %in% country_data$country)"
   ]
  },
  {
   "cell_type": "code",
   "execution_count": 143,
   "metadata": {},
   "outputs": [
    {
     "data": {
      "text/html": [
       "<table>\n",
       "<caption>A data.frame: 159 × 11</caption>\n",
       "<thead>\n",
       "\t<tr><th scope=col>country</th><th scope=col>age_1564</th><th scope=col>age_64up</th><th scope=col>age_0014</th><th scope=col>smok</th><th scope=col>air_polution</th><th scope=col>doctor</th><th scope=col>nurse_midwivies</th><th scope=col>confirmed</th><th scope=col>death</th><th scope=col>rate</th></tr>\n",
       "\t<tr><th scope=col>&lt;chr&gt;</th><th scope=col>&lt;dbl&gt;</th><th scope=col>&lt;dbl&gt;</th><th scope=col>&lt;dbl&gt;</th><th scope=col>&lt;dbl&gt;</th><th scope=col>&lt;dbl&gt;</th><th scope=col>&lt;dbl&gt;</th><th scope=col>&lt;dbl&gt;</th><th scope=col>&lt;dbl&gt;</th><th scope=col>&lt;dbl&gt;</th><th scope=col>&lt;dbl&gt;</th></tr>\n",
       "</thead>\n",
       "<tbody>\n",
       "\t<tr><td>Afghanistan           </td><td>54.32490</td><td> 2.584927</td><td>43.09018</td><td>  NA</td><td>56.910808</td><td>0.2907</td><td>     NA</td><td> 1351</td><td>  43</td><td>0.031828275</td></tr>\n",
       "\t<tr><td>Albania               </td><td>68.58239</td><td>13.744736</td><td>17.67287</td><td>28.7</td><td>18.200603</td><td>    NA</td><td>     NA</td><td>  678</td><td>  27</td><td>0.039823009</td></tr>\n",
       "\t<tr><td>Algeria               </td><td>63.48882</td><td> 6.362497</td><td>30.14868</td><td>15.6</td><td>38.884011</td><td>    NA</td><td>     NA</td><td> 3127</td><td> 415</td><td>0.132715062</td></tr>\n",
       "\t<tr><td>Andorra               </td><td>      NA</td><td>       NA</td><td>      NA</td><td>33.5</td><td>10.307621</td><td>3.3333</td><td> 4.0128</td><td>  731</td><td>  40</td><td>0.054719562</td></tr>\n",
       "\t<tr><td>Angola                </td><td>50.97470</td><td> 2.216374</td><td>46.80892</td><td>  NA</td><td>32.388505</td><td>    NA</td><td>     NA</td><td>   25</td><td>   2</td><td>0.080000000</td></tr>\n",
       "\t<tr><td>Antigua and Barbuda   </td><td>69.11908</td><td> 8.799826</td><td>22.08109</td><td>  NA</td><td>18.622343</td><td>    NA</td><td>     NA</td><td>   24</td><td>   3</td><td>0.125000000</td></tr>\n",
       "\t<tr><td>Argentina             </td><td>64.12128</td><td>11.117789</td><td>24.76093</td><td>21.8</td><td>13.311834</td><td>    NA</td><td>     NA</td><td> 3607</td><td> 176</td><td>0.048794012</td></tr>\n",
       "\t<tr><td>Armenia               </td><td>68.11276</td><td>11.253818</td><td>20.63342</td><td>24.1</td><td>32.528118</td><td>    NA</td><td>     NA</td><td> 1596</td><td>  27</td><td>0.016917293</td></tr>\n",
       "\t<tr><td>Australia             </td><td>65.15291</td><td>15.656475</td><td>19.19062</td><td>14.7</td><td> 8.550324</td><td>3.5213</td><td>12.4667</td><td> 6677</td><td>  79</td><td>0.011831661</td></tr>\n",
       "\t<tr><td>Austria               </td><td>66.70049</td><td>19.001566</td><td>14.29795</td><td>29.6</td><td>12.477967</td><td>5.0701</td><td> 8.1758</td><td>15071</td><td> 530</td><td>0.035166877</td></tr>\n",
       "\t<tr><td>Azerbaijan            </td><td>70.43525</td><td> 6.195183</td><td>23.36957</td><td>20.8</td><td>19.928664</td><td>    NA</td><td>     NA</td><td> 1592</td><td>  21</td><td>0.013190955</td></tr>\n",
       "\t<tr><td>Bahrain               </td><td>78.31936</td><td> 2.426334</td><td>19.25431</td><td>26.4</td><td>70.816208</td><td>0.9257</td><td> 2.4944</td><td> 2518</td><td>   8</td><td>0.003177125</td></tr>\n",
       "\t<tr><td>Bangladesh            </td><td>67.13559</td><td> 5.158391</td><td>27.70602</td><td>23.0</td><td>60.845785</td><td>0.4709</td><td> 0.2665</td><td> 4689</td><td> 131</td><td>0.027937727</td></tr>\n",
       "\t<tr><td>Barbados              </td><td>66.85436</td><td>15.802694</td><td>17.34295</td><td> 7.8</td><td>23.080176</td><td>    NA</td><td>     NA</td><td>   77</td><td>   6</td><td>0.077922078</td></tr>\n",
       "\t<tr><td>Belarus               </td><td>68.28891</td><td>14.845148</td><td>16.86594</td><td>26.7</td><td>18.765580</td><td>    NA</td><td>     NA</td><td> 8773</td><td>  63</td><td>0.007181124</td></tr>\n",
       "\t<tr><td>Belgium               </td><td>64.15583</td><td>18.788744</td><td>17.05542</td><td>28.2</td><td>12.886518</td><td>3.0138</td><td>10.8193</td><td>44293</td><td>6679</td><td>0.150791321</td></tr>\n",
       "\t<tr><td>Belize                </td><td>64.98378</td><td> 4.736459</td><td>30.27977</td><td>  NA</td><td>23.011892</td><td>    NA</td><td>     NA</td><td>   18</td><td>   2</td><td>0.111111111</td></tr>\n",
       "\t<tr><td>Benin                 </td><td>54.29871</td><td> 3.253605</td><td>42.44768</td><td> 6.4</td><td>38.999959</td><td>    NA</td><td>     NA</td><td>   54</td><td>   1</td><td>0.018518519</td></tr>\n",
       "\t<tr><td>Bhutan                </td><td>68.22563</td><td> 6.003012</td><td>25.77135</td><td>  NA</td><td>37.926503</td><td>0.3188</td><td> 1.3589</td><td>    7</td><td>   0</td><td>0.000000000</td></tr>\n",
       "\t<tr><td>Bolivia               </td><td>61.73450</td><td> 7.191947</td><td>31.07355</td><td>  NA</td><td>21.568987</td><td>    NA</td><td>     NA</td><td>  807</td><td>  44</td><td>0.054522924</td></tr>\n",
       "\t<tr><td>Bosnia and Herzegovina</td><td>68.76346</td><td>16.470317</td><td>14.76622</td><td>38.9</td><td>27.747669</td><td>    NA</td><td>     NA</td><td> 1421</td><td>  55</td><td>0.038705137</td></tr>\n",
       "\t<tr><td>Botswana              </td><td>61.66318</td><td> 4.223874</td><td>34.11295</td><td>20.0</td><td>23.094386</td><td>    NA</td><td>     NA</td><td>   22</td><td>   1</td><td>0.045454545</td></tr>\n",
       "\t<tr><td>Brazil                </td><td>69.74309</td><td> 8.922838</td><td>21.33407</td><td>13.9</td><td>12.706629</td><td>    NA</td><td>     NA</td><td>54043</td><td>3704</td><td>0.068538016</td></tr>\n",
       "\t<tr><td>Bulgaria              </td><td>64.38262</td><td>21.021914</td><td>14.59547</td><td>37.0</td><td>19.149132</td><td>    NA</td><td>     NA</td><td> 1234</td><td>  54</td><td>0.043760130</td></tr>\n",
       "\t<tr><td>Burkina Faso          </td><td>52.64494</td><td> 2.406981</td><td>44.94808</td><td>12.5</td><td>42.935593</td><td>    NA</td><td> 0.2400</td><td>  629</td><td>  41</td><td>0.065182830</td></tr>\n",
       "\t<tr><td>Burundi               </td><td>52.25138</td><td> 2.246940</td><td>45.50168</td><td>  NA</td><td>38.896268</td><td>    NA</td><td>     NA</td><td>   11</td><td>   1</td><td>0.090909091</td></tr>\n",
       "\t<tr><td>Cabo Verde            </td><td>66.61291</td><td> 4.609327</td><td>28.77777</td><td> 9.1</td><td>34.778700</td><td>0.7694</td><td> 1.2272</td><td>   88</td><td>   1</td><td>0.011363636</td></tr>\n",
       "\t<tr><td>Cambodia              </td><td>64.22991</td><td> 4.568680</td><td>31.20141</td><td>17.2</td><td>25.614292</td><td>    NA</td><td>     NA</td><td>  122</td><td>   0</td><td>0.000000000</td></tr>\n",
       "\t<tr><td>Cameroon              </td><td>54.63954</td><td> 2.728877</td><td>42.63158</td><td>  NA</td><td>72.793096</td><td>    NA</td><td>     NA</td><td> 1430</td><td>  43</td><td>0.030069930</td></tr>\n",
       "\t<tr><td>Canada                </td><td>66.89774</td><td>17.232007</td><td>15.87025</td><td>14.3</td><td> 6.428383</td><td>2.5388</td><td> 9.8398</td><td>44054</td><td>2384</td><td>0.054115404</td></tr>\n",
       "\t<tr><td>...</td><td>...</td><td>...</td><td>...</td><td>...</td><td>...</td><td>...</td><td>...</td><td>...</td><td>...</td><td>...</td></tr>\n",
       "\t<tr><td>Seychelles          </td><td>68.77008</td><td> 7.594546</td><td>23.63537</td><td>21.5</td><td>20.178649</td><td>    NA</td><td>     NA</td><td>    11</td><td>    0</td><td>0.0000000000</td></tr>\n",
       "\t<tr><td>Sierra Leone        </td><td>55.97380</td><td> 2.966556</td><td>41.05964</td><td>24.8</td><td>21.625947</td><td>    NA</td><td>     NA</td><td>    82</td><td>    2</td><td>0.0243902439</td></tr>\n",
       "\t<tr><td>Singapore           </td><td>76.25834</td><td>11.463380</td><td>12.27828</td><td>16.5</td><td>19.078256</td><td>    NA</td><td>     NA</td><td> 12075</td><td>   12</td><td>0.0009937888</td></tr>\n",
       "\t<tr><td>Slovenia            </td><td>65.37135</td><td>19.606880</td><td>15.02178</td><td>22.5</td><td>16.023980</td><td>2.8099</td><td> 8.8090</td><td>  1373</td><td>   80</td><td>0.0582665696</td></tr>\n",
       "\t<tr><td>Somalia             </td><td>50.55010</td><td> 2.873311</td><td>46.57658</td><td>  NA</td><td>32.034584</td><td>    NA</td><td>     NA</td><td>   328</td><td>   16</td><td>0.0487804878</td></tr>\n",
       "\t<tr><td>South Africa        </td><td>65.60251</td><td> 5.318005</td><td>29.07949</td><td>20.3</td><td>25.102205</td><td>0.7827</td><td> 5.0391</td><td>  4220</td><td>   79</td><td>0.0187203791</td></tr>\n",
       "\t<tr><td>South Sudan         </td><td>54.78140</td><td> 3.398483</td><td>41.82012</td><td>  NA</td><td>45.577506</td><td>    NA</td><td>     NA</td><td>     5</td><td>    0</td><td>0.0000000000</td></tr>\n",
       "\t<tr><td>Spain               </td><td>65.95449</td><td>19.378508</td><td>14.66700</td><td>29.3</td><td> 9.697928</td><td>3.8493</td><td> 5.2919</td><td>219764</td><td>22524</td><td>0.1024917639</td></tr>\n",
       "\t<tr><td>Sri Lanka           </td><td>65.32978</td><td>10.473220</td><td>24.19700</td><td>13.0</td><td>11.099617</td><td>0.9746</td><td> 2.4870</td><td>   420</td><td>    7</td><td>0.0166666667</td></tr>\n",
       "\t<tr><td>Sudan               </td><td>55.91005</td><td> 3.581161</td><td>40.50879</td><td>  NA</td><td>55.370834</td><td>0.4100</td><td> 0.8300</td><td>   174</td><td>   16</td><td>0.0919540230</td></tr>\n",
       "\t<tr><td>Suriname            </td><td>65.92337</td><td> 6.906370</td><td>27.17026</td><td>25.0</td><td>24.780011</td><td>    NA</td><td>     NA</td><td>    10</td><td>    1</td><td>0.1000000000</td></tr>\n",
       "\t<tr><td>Sweden              </td><td>62.32269</td><td>20.095525</td><td>17.58179</td><td>18.8</td><td> 6.184665</td><td>4.2861</td><td>11.8503</td><td> 17567</td><td> 2152</td><td>0.1225024193</td></tr>\n",
       "\t<tr><td>Switzerland         </td><td>66.46583</td><td>18.623217</td><td>14.91095</td><td>25.7</td><td>10.303100</td><td>4.1782</td><td>16.8152</td><td> 28677</td><td> 1589</td><td>0.0554102591</td></tr>\n",
       "\t<tr><td>Tanzania            </td><td>53.30046</td><td> 2.601299</td><td>44.09824</td><td>14.8</td><td>29.076641</td><td>    NA</td><td>     NA</td><td>   299</td><td>   10</td><td>0.0334448161</td></tr>\n",
       "\t<tr><td>Thailand            </td><td>71.01212</td><td>11.900893</td><td>17.08699</td><td>19.9</td><td>26.256727</td><td>0.4655</td><td> 2.3702</td><td>  2907</td><td>   51</td><td>0.0175438596</td></tr>\n",
       "\t<tr><td>Timor-Leste         </td><td>57.90284</td><td> 4.316492</td><td>37.78066</td><td>42.6</td><td>19.257209</td><td>0.6696</td><td> 1.4287</td><td>    24</td><td>    0</td><td>0.0000000000</td></tr>\n",
       "\t<tr><td>Togo                </td><td>55.79601</td><td> 2.869468</td><td>41.33452</td><td> 7.4</td><td>35.731336</td><td>0.0487</td><td> 0.2980</td><td>    90</td><td>    6</td><td>0.0666666667</td></tr>\n",
       "\t<tr><td>Trinidad and Tobago </td><td>68.84547</td><td>10.734954</td><td>20.41957</td><td>  NA</td><td>24.108568</td><td>2.6697</td><td> 3.5093</td><td>   115</td><td>    8</td><td>0.0695652174</td></tr>\n",
       "\t<tr><td>Tunisia             </td><td>67.51420</td><td> 8.315679</td><td>24.17012</td><td>32.7</td><td>37.655994</td><td>1.2999</td><td> 2.6478</td><td>   922</td><td>   38</td><td>0.0412147505</td></tr>\n",
       "\t<tr><td>Turkey              </td><td>66.86738</td><td> 8.483213</td><td>24.64941</td><td>27.2</td><td>44.311526</td><td>    NA</td><td> 2.6304</td><td>104912</td><td> 2600</td><td>0.0247826750</td></tr>\n",
       "\t<tr><td>Uganda              </td><td>51.12849</td><td> 1.940987</td><td>46.93053</td><td>10.0</td><td>50.494321</td><td>0.0908</td><td> 0.6303</td><td>    75</td><td>    0</td><td>0.0000000000</td></tr>\n",
       "\t<tr><td>Ukraine             </td><td>67.75290</td><td>16.434686</td><td>15.81241</td><td>28.9</td><td>20.309776</td><td>    NA</td><td>     NA</td><td>  8125</td><td>  201</td><td>0.0247384615</td></tr>\n",
       "\t<tr><td>United Arab Emirates</td><td>84.31149</td><td> 1.085001</td><td>14.60351</td><td>28.9</td><td>40.917510</td><td>2.2373</td><td> 5.0419</td><td>  9281</td><td>   64</td><td>0.0068958086</td></tr>\n",
       "\t<tr><td>United Kingdom      </td><td>63.92605</td><td>18.395866</td><td>17.67808</td><td>22.3</td><td>10.472690</td><td>2.7780</td><td> 8.8271</td><td>144640</td><td>19567</td><td>0.1352806969</td></tr>\n",
       "\t<tr><td>Uruguay             </td><td>64.57750</td><td>14.814520</td><td>20.60798</td><td>16.8</td><td> 9.274883</td><td>    NA</td><td>     NA</td><td>   563</td><td>   12</td><td>0.0213143872</td></tr>\n",
       "\t<tr><td>Uzbekistan          </td><td>66.89480</td><td> 4.419138</td><td>28.68606</td><td>12.6</td><td>28.455901</td><td>    NA</td><td>     NA</td><td>  1804</td><td>    8</td><td>0.0044345898</td></tr>\n",
       "\t<tr><td>Vietnam             </td><td>69.55234</td><td> 7.274978</td><td>23.17268</td><td>22.8</td><td>29.626728</td><td>0.7887</td><td> 1.4092</td><td>   270</td><td>    0</td><td>0.0000000000</td></tr>\n",
       "\t<tr><td>West Bank and Gaza  </td><td>57.91933</td><td> 3.133306</td><td>38.94736</td><td>  NA</td><td>33.225630</td><td>    NA</td><td>     NA</td><td>   484</td><td>    4</td><td>0.0082644628</td></tr>\n",
       "\t<tr><td>Zambia              </td><td>52.96418</td><td> 2.099678</td><td>44.93614</td><td>13.8</td><td>27.438035</td><td>    NA</td><td>     NA</td><td>    84</td><td>    3</td><td>0.0357142857</td></tr>\n",
       "\t<tr><td>Zimbabwe            </td><td>54.65941</td><td> 2.939524</td><td>42.40107</td><td>15.8</td><td>22.251671</td><td>    NA</td><td>     NA</td><td>    29</td><td>    4</td><td>0.1379310345</td></tr>\n",
       "</tbody>\n",
       "</table>\n"
      ],
      "text/latex": [
       "A data.frame: 159 × 11\n",
       "\\begin{tabular}{r|lllllllllll}\n",
       " country & age\\_1564 & age\\_64up & age\\_0014 & smok & air\\_polution & doctor & nurse\\_midwivies & confirmed & death & rate\\\\\n",
       " <chr> & <dbl> & <dbl> & <dbl> & <dbl> & <dbl> & <dbl> & <dbl> & <dbl> & <dbl> & <dbl>\\\\\n",
       "\\hline\n",
       "\t Afghanistan            & 54.32490 &  2.584927 & 43.09018 &   NA & 56.910808 & 0.2907 &      NA &  1351 &   43 & 0.031828275\\\\\n",
       "\t Albania                & 68.58239 & 13.744736 & 17.67287 & 28.7 & 18.200603 &     NA &      NA &   678 &   27 & 0.039823009\\\\\n",
       "\t Algeria                & 63.48882 &  6.362497 & 30.14868 & 15.6 & 38.884011 &     NA &      NA &  3127 &  415 & 0.132715062\\\\\n",
       "\t Andorra                &       NA &        NA &       NA & 33.5 & 10.307621 & 3.3333 &  4.0128 &   731 &   40 & 0.054719562\\\\\n",
       "\t Angola                 & 50.97470 &  2.216374 & 46.80892 &   NA & 32.388505 &     NA &      NA &    25 &    2 & 0.080000000\\\\\n",
       "\t Antigua and Barbuda    & 69.11908 &  8.799826 & 22.08109 &   NA & 18.622343 &     NA &      NA &    24 &    3 & 0.125000000\\\\\n",
       "\t Argentina              & 64.12128 & 11.117789 & 24.76093 & 21.8 & 13.311834 &     NA &      NA &  3607 &  176 & 0.048794012\\\\\n",
       "\t Armenia                & 68.11276 & 11.253818 & 20.63342 & 24.1 & 32.528118 &     NA &      NA &  1596 &   27 & 0.016917293\\\\\n",
       "\t Australia              & 65.15291 & 15.656475 & 19.19062 & 14.7 &  8.550324 & 3.5213 & 12.4667 &  6677 &   79 & 0.011831661\\\\\n",
       "\t Austria                & 66.70049 & 19.001566 & 14.29795 & 29.6 & 12.477967 & 5.0701 &  8.1758 & 15071 &  530 & 0.035166877\\\\\n",
       "\t Azerbaijan             & 70.43525 &  6.195183 & 23.36957 & 20.8 & 19.928664 &     NA &      NA &  1592 &   21 & 0.013190955\\\\\n",
       "\t Bahrain                & 78.31936 &  2.426334 & 19.25431 & 26.4 & 70.816208 & 0.9257 &  2.4944 &  2518 &    8 & 0.003177125\\\\\n",
       "\t Bangladesh             & 67.13559 &  5.158391 & 27.70602 & 23.0 & 60.845785 & 0.4709 &  0.2665 &  4689 &  131 & 0.027937727\\\\\n",
       "\t Barbados               & 66.85436 & 15.802694 & 17.34295 &  7.8 & 23.080176 &     NA &      NA &    77 &    6 & 0.077922078\\\\\n",
       "\t Belarus                & 68.28891 & 14.845148 & 16.86594 & 26.7 & 18.765580 &     NA &      NA &  8773 &   63 & 0.007181124\\\\\n",
       "\t Belgium                & 64.15583 & 18.788744 & 17.05542 & 28.2 & 12.886518 & 3.0138 & 10.8193 & 44293 & 6679 & 0.150791321\\\\\n",
       "\t Belize                 & 64.98378 &  4.736459 & 30.27977 &   NA & 23.011892 &     NA &      NA &    18 &    2 & 0.111111111\\\\\n",
       "\t Benin                  & 54.29871 &  3.253605 & 42.44768 &  6.4 & 38.999959 &     NA &      NA &    54 &    1 & 0.018518519\\\\\n",
       "\t Bhutan                 & 68.22563 &  6.003012 & 25.77135 &   NA & 37.926503 & 0.3188 &  1.3589 &     7 &    0 & 0.000000000\\\\\n",
       "\t Bolivia                & 61.73450 &  7.191947 & 31.07355 &   NA & 21.568987 &     NA &      NA &   807 &   44 & 0.054522924\\\\\n",
       "\t Bosnia and Herzegovina & 68.76346 & 16.470317 & 14.76622 & 38.9 & 27.747669 &     NA &      NA &  1421 &   55 & 0.038705137\\\\\n",
       "\t Botswana               & 61.66318 &  4.223874 & 34.11295 & 20.0 & 23.094386 &     NA &      NA &    22 &    1 & 0.045454545\\\\\n",
       "\t Brazil                 & 69.74309 &  8.922838 & 21.33407 & 13.9 & 12.706629 &     NA &      NA & 54043 & 3704 & 0.068538016\\\\\n",
       "\t Bulgaria               & 64.38262 & 21.021914 & 14.59547 & 37.0 & 19.149132 &     NA &      NA &  1234 &   54 & 0.043760130\\\\\n",
       "\t Burkina Faso           & 52.64494 &  2.406981 & 44.94808 & 12.5 & 42.935593 &     NA &  0.2400 &   629 &   41 & 0.065182830\\\\\n",
       "\t Burundi                & 52.25138 &  2.246940 & 45.50168 &   NA & 38.896268 &     NA &      NA &    11 &    1 & 0.090909091\\\\\n",
       "\t Cabo Verde             & 66.61291 &  4.609327 & 28.77777 &  9.1 & 34.778700 & 0.7694 &  1.2272 &    88 &    1 & 0.011363636\\\\\n",
       "\t Cambodia               & 64.22991 &  4.568680 & 31.20141 & 17.2 & 25.614292 &     NA &      NA &   122 &    0 & 0.000000000\\\\\n",
       "\t Cameroon               & 54.63954 &  2.728877 & 42.63158 &   NA & 72.793096 &     NA &      NA &  1430 &   43 & 0.030069930\\\\\n",
       "\t Canada                 & 66.89774 & 17.232007 & 15.87025 & 14.3 &  6.428383 & 2.5388 &  9.8398 & 44054 & 2384 & 0.054115404\\\\\n",
       "\t ... & ... & ... & ... & ... & ... & ... & ... & ... & ... & ...\\\\\n",
       "\t Seychelles           & 68.77008 &  7.594546 & 23.63537 & 21.5 & 20.178649 &     NA &      NA &     11 &     0 & 0.0000000000\\\\\n",
       "\t Sierra Leone         & 55.97380 &  2.966556 & 41.05964 & 24.8 & 21.625947 &     NA &      NA &     82 &     2 & 0.0243902439\\\\\n",
       "\t Singapore            & 76.25834 & 11.463380 & 12.27828 & 16.5 & 19.078256 &     NA &      NA &  12075 &    12 & 0.0009937888\\\\\n",
       "\t Slovenia             & 65.37135 & 19.606880 & 15.02178 & 22.5 & 16.023980 & 2.8099 &  8.8090 &   1373 &    80 & 0.0582665696\\\\\n",
       "\t Somalia              & 50.55010 &  2.873311 & 46.57658 &   NA & 32.034584 &     NA &      NA &    328 &    16 & 0.0487804878\\\\\n",
       "\t South Africa         & 65.60251 &  5.318005 & 29.07949 & 20.3 & 25.102205 & 0.7827 &  5.0391 &   4220 &    79 & 0.0187203791\\\\\n",
       "\t South Sudan          & 54.78140 &  3.398483 & 41.82012 &   NA & 45.577506 &     NA &      NA &      5 &     0 & 0.0000000000\\\\\n",
       "\t Spain                & 65.95449 & 19.378508 & 14.66700 & 29.3 &  9.697928 & 3.8493 &  5.2919 & 219764 & 22524 & 0.1024917639\\\\\n",
       "\t Sri Lanka            & 65.32978 & 10.473220 & 24.19700 & 13.0 & 11.099617 & 0.9746 &  2.4870 &    420 &     7 & 0.0166666667\\\\\n",
       "\t Sudan                & 55.91005 &  3.581161 & 40.50879 &   NA & 55.370834 & 0.4100 &  0.8300 &    174 &    16 & 0.0919540230\\\\\n",
       "\t Suriname             & 65.92337 &  6.906370 & 27.17026 & 25.0 & 24.780011 &     NA &      NA &     10 &     1 & 0.1000000000\\\\\n",
       "\t Sweden               & 62.32269 & 20.095525 & 17.58179 & 18.8 &  6.184665 & 4.2861 & 11.8503 &  17567 &  2152 & 0.1225024193\\\\\n",
       "\t Switzerland          & 66.46583 & 18.623217 & 14.91095 & 25.7 & 10.303100 & 4.1782 & 16.8152 &  28677 &  1589 & 0.0554102591\\\\\n",
       "\t Tanzania             & 53.30046 &  2.601299 & 44.09824 & 14.8 & 29.076641 &     NA &      NA &    299 &    10 & 0.0334448161\\\\\n",
       "\t Thailand             & 71.01212 & 11.900893 & 17.08699 & 19.9 & 26.256727 & 0.4655 &  2.3702 &   2907 &    51 & 0.0175438596\\\\\n",
       "\t Timor-Leste          & 57.90284 &  4.316492 & 37.78066 & 42.6 & 19.257209 & 0.6696 &  1.4287 &     24 &     0 & 0.0000000000\\\\\n",
       "\t Togo                 & 55.79601 &  2.869468 & 41.33452 &  7.4 & 35.731336 & 0.0487 &  0.2980 &     90 &     6 & 0.0666666667\\\\\n",
       "\t Trinidad and Tobago  & 68.84547 & 10.734954 & 20.41957 &   NA & 24.108568 & 2.6697 &  3.5093 &    115 &     8 & 0.0695652174\\\\\n",
       "\t Tunisia              & 67.51420 &  8.315679 & 24.17012 & 32.7 & 37.655994 & 1.2999 &  2.6478 &    922 &    38 & 0.0412147505\\\\\n",
       "\t Turkey               & 66.86738 &  8.483213 & 24.64941 & 27.2 & 44.311526 &     NA &  2.6304 & 104912 &  2600 & 0.0247826750\\\\\n",
       "\t Uganda               & 51.12849 &  1.940987 & 46.93053 & 10.0 & 50.494321 & 0.0908 &  0.6303 &     75 &     0 & 0.0000000000\\\\\n",
       "\t Ukraine              & 67.75290 & 16.434686 & 15.81241 & 28.9 & 20.309776 &     NA &      NA &   8125 &   201 & 0.0247384615\\\\\n",
       "\t United Arab Emirates & 84.31149 &  1.085001 & 14.60351 & 28.9 & 40.917510 & 2.2373 &  5.0419 &   9281 &    64 & 0.0068958086\\\\\n",
       "\t United Kingdom       & 63.92605 & 18.395866 & 17.67808 & 22.3 & 10.472690 & 2.7780 &  8.8271 & 144640 & 19567 & 0.1352806969\\\\\n",
       "\t Uruguay              & 64.57750 & 14.814520 & 20.60798 & 16.8 &  9.274883 &     NA &      NA &    563 &    12 & 0.0213143872\\\\\n",
       "\t Uzbekistan           & 66.89480 &  4.419138 & 28.68606 & 12.6 & 28.455901 &     NA &      NA &   1804 &     8 & 0.0044345898\\\\\n",
       "\t Vietnam              & 69.55234 &  7.274978 & 23.17268 & 22.8 & 29.626728 & 0.7887 &  1.4092 &    270 &     0 & 0.0000000000\\\\\n",
       "\t West Bank and Gaza   & 57.91933 &  3.133306 & 38.94736 &   NA & 33.225630 &     NA &      NA &    484 &     4 & 0.0082644628\\\\\n",
       "\t Zambia               & 52.96418 &  2.099678 & 44.93614 & 13.8 & 27.438035 &     NA &      NA &     84 &     3 & 0.0357142857\\\\\n",
       "\t Zimbabwe             & 54.65941 &  2.939524 & 42.40107 & 15.8 & 22.251671 &     NA &      NA &     29 &     4 & 0.1379310345\\\\\n",
       "\\end{tabular}\n"
      ],
      "text/markdown": [
       "\n",
       "A data.frame: 159 × 11\n",
       "\n",
       "| country &lt;chr&gt; | age_1564 &lt;dbl&gt; | age_64up &lt;dbl&gt; | age_0014 &lt;dbl&gt; | smok &lt;dbl&gt; | air_polution &lt;dbl&gt; | doctor &lt;dbl&gt; | nurse_midwivies &lt;dbl&gt; | confirmed &lt;dbl&gt; | death &lt;dbl&gt; | rate &lt;dbl&gt; |\n",
       "|---|---|---|---|---|---|---|---|---|---|---|\n",
       "| Afghanistan            | 54.32490 |  2.584927 | 43.09018 |   NA | 56.910808 | 0.2907 |      NA |  1351 |   43 | 0.031828275 |\n",
       "| Albania                | 68.58239 | 13.744736 | 17.67287 | 28.7 | 18.200603 |     NA |      NA |   678 |   27 | 0.039823009 |\n",
       "| Algeria                | 63.48882 |  6.362497 | 30.14868 | 15.6 | 38.884011 |     NA |      NA |  3127 |  415 | 0.132715062 |\n",
       "| Andorra                |       NA |        NA |       NA | 33.5 | 10.307621 | 3.3333 |  4.0128 |   731 |   40 | 0.054719562 |\n",
       "| Angola                 | 50.97470 |  2.216374 | 46.80892 |   NA | 32.388505 |     NA |      NA |    25 |    2 | 0.080000000 |\n",
       "| Antigua and Barbuda    | 69.11908 |  8.799826 | 22.08109 |   NA | 18.622343 |     NA |      NA |    24 |    3 | 0.125000000 |\n",
       "| Argentina              | 64.12128 | 11.117789 | 24.76093 | 21.8 | 13.311834 |     NA |      NA |  3607 |  176 | 0.048794012 |\n",
       "| Armenia                | 68.11276 | 11.253818 | 20.63342 | 24.1 | 32.528118 |     NA |      NA |  1596 |   27 | 0.016917293 |\n",
       "| Australia              | 65.15291 | 15.656475 | 19.19062 | 14.7 |  8.550324 | 3.5213 | 12.4667 |  6677 |   79 | 0.011831661 |\n",
       "| Austria                | 66.70049 | 19.001566 | 14.29795 | 29.6 | 12.477967 | 5.0701 |  8.1758 | 15071 |  530 | 0.035166877 |\n",
       "| Azerbaijan             | 70.43525 |  6.195183 | 23.36957 | 20.8 | 19.928664 |     NA |      NA |  1592 |   21 | 0.013190955 |\n",
       "| Bahrain                | 78.31936 |  2.426334 | 19.25431 | 26.4 | 70.816208 | 0.9257 |  2.4944 |  2518 |    8 | 0.003177125 |\n",
       "| Bangladesh             | 67.13559 |  5.158391 | 27.70602 | 23.0 | 60.845785 | 0.4709 |  0.2665 |  4689 |  131 | 0.027937727 |\n",
       "| Barbados               | 66.85436 | 15.802694 | 17.34295 |  7.8 | 23.080176 |     NA |      NA |    77 |    6 | 0.077922078 |\n",
       "| Belarus                | 68.28891 | 14.845148 | 16.86594 | 26.7 | 18.765580 |     NA |      NA |  8773 |   63 | 0.007181124 |\n",
       "| Belgium                | 64.15583 | 18.788744 | 17.05542 | 28.2 | 12.886518 | 3.0138 | 10.8193 | 44293 | 6679 | 0.150791321 |\n",
       "| Belize                 | 64.98378 |  4.736459 | 30.27977 |   NA | 23.011892 |     NA |      NA |    18 |    2 | 0.111111111 |\n",
       "| Benin                  | 54.29871 |  3.253605 | 42.44768 |  6.4 | 38.999959 |     NA |      NA |    54 |    1 | 0.018518519 |\n",
       "| Bhutan                 | 68.22563 |  6.003012 | 25.77135 |   NA | 37.926503 | 0.3188 |  1.3589 |     7 |    0 | 0.000000000 |\n",
       "| Bolivia                | 61.73450 |  7.191947 | 31.07355 |   NA | 21.568987 |     NA |      NA |   807 |   44 | 0.054522924 |\n",
       "| Bosnia and Herzegovina | 68.76346 | 16.470317 | 14.76622 | 38.9 | 27.747669 |     NA |      NA |  1421 |   55 | 0.038705137 |\n",
       "| Botswana               | 61.66318 |  4.223874 | 34.11295 | 20.0 | 23.094386 |     NA |      NA |    22 |    1 | 0.045454545 |\n",
       "| Brazil                 | 69.74309 |  8.922838 | 21.33407 | 13.9 | 12.706629 |     NA |      NA | 54043 | 3704 | 0.068538016 |\n",
       "| Bulgaria               | 64.38262 | 21.021914 | 14.59547 | 37.0 | 19.149132 |     NA |      NA |  1234 |   54 | 0.043760130 |\n",
       "| Burkina Faso           | 52.64494 |  2.406981 | 44.94808 | 12.5 | 42.935593 |     NA |  0.2400 |   629 |   41 | 0.065182830 |\n",
       "| Burundi                | 52.25138 |  2.246940 | 45.50168 |   NA | 38.896268 |     NA |      NA |    11 |    1 | 0.090909091 |\n",
       "| Cabo Verde             | 66.61291 |  4.609327 | 28.77777 |  9.1 | 34.778700 | 0.7694 |  1.2272 |    88 |    1 | 0.011363636 |\n",
       "| Cambodia               | 64.22991 |  4.568680 | 31.20141 | 17.2 | 25.614292 |     NA |      NA |   122 |    0 | 0.000000000 |\n",
       "| Cameroon               | 54.63954 |  2.728877 | 42.63158 |   NA | 72.793096 |     NA |      NA |  1430 |   43 | 0.030069930 |\n",
       "| Canada                 | 66.89774 | 17.232007 | 15.87025 | 14.3 |  6.428383 | 2.5388 |  9.8398 | 44054 | 2384 | 0.054115404 |\n",
       "| ... | ... | ... | ... | ... | ... | ... | ... | ... | ... | ... |\n",
       "| Seychelles           | 68.77008 |  7.594546 | 23.63537 | 21.5 | 20.178649 |     NA |      NA |     11 |     0 | 0.0000000000 |\n",
       "| Sierra Leone         | 55.97380 |  2.966556 | 41.05964 | 24.8 | 21.625947 |     NA |      NA |     82 |     2 | 0.0243902439 |\n",
       "| Singapore            | 76.25834 | 11.463380 | 12.27828 | 16.5 | 19.078256 |     NA |      NA |  12075 |    12 | 0.0009937888 |\n",
       "| Slovenia             | 65.37135 | 19.606880 | 15.02178 | 22.5 | 16.023980 | 2.8099 |  8.8090 |   1373 |    80 | 0.0582665696 |\n",
       "| Somalia              | 50.55010 |  2.873311 | 46.57658 |   NA | 32.034584 |     NA |      NA |    328 |    16 | 0.0487804878 |\n",
       "| South Africa         | 65.60251 |  5.318005 | 29.07949 | 20.3 | 25.102205 | 0.7827 |  5.0391 |   4220 |    79 | 0.0187203791 |\n",
       "| South Sudan          | 54.78140 |  3.398483 | 41.82012 |   NA | 45.577506 |     NA |      NA |      5 |     0 | 0.0000000000 |\n",
       "| Spain                | 65.95449 | 19.378508 | 14.66700 | 29.3 |  9.697928 | 3.8493 |  5.2919 | 219764 | 22524 | 0.1024917639 |\n",
       "| Sri Lanka            | 65.32978 | 10.473220 | 24.19700 | 13.0 | 11.099617 | 0.9746 |  2.4870 |    420 |     7 | 0.0166666667 |\n",
       "| Sudan                | 55.91005 |  3.581161 | 40.50879 |   NA | 55.370834 | 0.4100 |  0.8300 |    174 |    16 | 0.0919540230 |\n",
       "| Suriname             | 65.92337 |  6.906370 | 27.17026 | 25.0 | 24.780011 |     NA |      NA |     10 |     1 | 0.1000000000 |\n",
       "| Sweden               | 62.32269 | 20.095525 | 17.58179 | 18.8 |  6.184665 | 4.2861 | 11.8503 |  17567 |  2152 | 0.1225024193 |\n",
       "| Switzerland          | 66.46583 | 18.623217 | 14.91095 | 25.7 | 10.303100 | 4.1782 | 16.8152 |  28677 |  1589 | 0.0554102591 |\n",
       "| Tanzania             | 53.30046 |  2.601299 | 44.09824 | 14.8 | 29.076641 |     NA |      NA |    299 |    10 | 0.0334448161 |\n",
       "| Thailand             | 71.01212 | 11.900893 | 17.08699 | 19.9 | 26.256727 | 0.4655 |  2.3702 |   2907 |    51 | 0.0175438596 |\n",
       "| Timor-Leste          | 57.90284 |  4.316492 | 37.78066 | 42.6 | 19.257209 | 0.6696 |  1.4287 |     24 |     0 | 0.0000000000 |\n",
       "| Togo                 | 55.79601 |  2.869468 | 41.33452 |  7.4 | 35.731336 | 0.0487 |  0.2980 |     90 |     6 | 0.0666666667 |\n",
       "| Trinidad and Tobago  | 68.84547 | 10.734954 | 20.41957 |   NA | 24.108568 | 2.6697 |  3.5093 |    115 |     8 | 0.0695652174 |\n",
       "| Tunisia              | 67.51420 |  8.315679 | 24.17012 | 32.7 | 37.655994 | 1.2999 |  2.6478 |    922 |    38 | 0.0412147505 |\n",
       "| Turkey               | 66.86738 |  8.483213 | 24.64941 | 27.2 | 44.311526 |     NA |  2.6304 | 104912 |  2600 | 0.0247826750 |\n",
       "| Uganda               | 51.12849 |  1.940987 | 46.93053 | 10.0 | 50.494321 | 0.0908 |  0.6303 |     75 |     0 | 0.0000000000 |\n",
       "| Ukraine              | 67.75290 | 16.434686 | 15.81241 | 28.9 | 20.309776 |     NA |      NA |   8125 |   201 | 0.0247384615 |\n",
       "| United Arab Emirates | 84.31149 |  1.085001 | 14.60351 | 28.9 | 40.917510 | 2.2373 |  5.0419 |   9281 |    64 | 0.0068958086 |\n",
       "| United Kingdom       | 63.92605 | 18.395866 | 17.67808 | 22.3 | 10.472690 | 2.7780 |  8.8271 | 144640 | 19567 | 0.1352806969 |\n",
       "| Uruguay              | 64.57750 | 14.814520 | 20.60798 | 16.8 |  9.274883 |     NA |      NA |    563 |    12 | 0.0213143872 |\n",
       "| Uzbekistan           | 66.89480 |  4.419138 | 28.68606 | 12.6 | 28.455901 |     NA |      NA |   1804 |     8 | 0.0044345898 |\n",
       "| Vietnam              | 69.55234 |  7.274978 | 23.17268 | 22.8 | 29.626728 | 0.7887 |  1.4092 |    270 |     0 | 0.0000000000 |\n",
       "| West Bank and Gaza   | 57.91933 |  3.133306 | 38.94736 |   NA | 33.225630 |     NA |      NA |    484 |     4 | 0.0082644628 |\n",
       "| Zambia               | 52.96418 |  2.099678 | 44.93614 | 13.8 | 27.438035 |     NA |      NA |     84 |     3 | 0.0357142857 |\n",
       "| Zimbabwe             | 54.65941 |  2.939524 | 42.40107 | 15.8 | 22.251671 |     NA |      NA |     29 |     4 | 0.1379310345 |\n",
       "\n"
      ],
      "text/plain": [
       "    country                age_1564 age_64up  age_0014 smok air_polution doctor\n",
       "1   Afghanistan            54.32490  2.584927 43.09018   NA 56.910808    0.2907\n",
       "2   Albania                68.58239 13.744736 17.67287 28.7 18.200603        NA\n",
       "3   Algeria                63.48882  6.362497 30.14868 15.6 38.884011        NA\n",
       "4   Andorra                      NA        NA       NA 33.5 10.307621    3.3333\n",
       "5   Angola                 50.97470  2.216374 46.80892   NA 32.388505        NA\n",
       "6   Antigua and Barbuda    69.11908  8.799826 22.08109   NA 18.622343        NA\n",
       "7   Argentina              64.12128 11.117789 24.76093 21.8 13.311834        NA\n",
       "8   Armenia                68.11276 11.253818 20.63342 24.1 32.528118        NA\n",
       "9   Australia              65.15291 15.656475 19.19062 14.7  8.550324    3.5213\n",
       "10  Austria                66.70049 19.001566 14.29795 29.6 12.477967    5.0701\n",
       "11  Azerbaijan             70.43525  6.195183 23.36957 20.8 19.928664        NA\n",
       "12  Bahrain                78.31936  2.426334 19.25431 26.4 70.816208    0.9257\n",
       "13  Bangladesh             67.13559  5.158391 27.70602 23.0 60.845785    0.4709\n",
       "14  Barbados               66.85436 15.802694 17.34295  7.8 23.080176        NA\n",
       "15  Belarus                68.28891 14.845148 16.86594 26.7 18.765580        NA\n",
       "16  Belgium                64.15583 18.788744 17.05542 28.2 12.886518    3.0138\n",
       "17  Belize                 64.98378  4.736459 30.27977   NA 23.011892        NA\n",
       "18  Benin                  54.29871  3.253605 42.44768  6.4 38.999959        NA\n",
       "19  Bhutan                 68.22563  6.003012 25.77135   NA 37.926503    0.3188\n",
       "20  Bolivia                61.73450  7.191947 31.07355   NA 21.568987        NA\n",
       "21  Bosnia and Herzegovina 68.76346 16.470317 14.76622 38.9 27.747669        NA\n",
       "22  Botswana               61.66318  4.223874 34.11295 20.0 23.094386        NA\n",
       "23  Brazil                 69.74309  8.922838 21.33407 13.9 12.706629        NA\n",
       "24  Bulgaria               64.38262 21.021914 14.59547 37.0 19.149132        NA\n",
       "25  Burkina Faso           52.64494  2.406981 44.94808 12.5 42.935593        NA\n",
       "26  Burundi                52.25138  2.246940 45.50168   NA 38.896268        NA\n",
       "27  Cabo Verde             66.61291  4.609327 28.77777  9.1 34.778700    0.7694\n",
       "28  Cambodia               64.22991  4.568680 31.20141 17.2 25.614292        NA\n",
       "29  Cameroon               54.63954  2.728877 42.63158   NA 72.793096        NA\n",
       "30  Canada                 66.89774 17.232007 15.87025 14.3  6.428383    2.5388\n",
       "... ...                    ...      ...       ...      ...  ...          ...   \n",
       "130 Seychelles             68.77008  7.594546 23.63537 21.5 20.178649        NA\n",
       "131 Sierra Leone           55.97380  2.966556 41.05964 24.8 21.625947        NA\n",
       "132 Singapore              76.25834 11.463380 12.27828 16.5 19.078256        NA\n",
       "133 Slovenia               65.37135 19.606880 15.02178 22.5 16.023980    2.8099\n",
       "134 Somalia                50.55010  2.873311 46.57658   NA 32.034584        NA\n",
       "135 South Africa           65.60251  5.318005 29.07949 20.3 25.102205    0.7827\n",
       "136 South Sudan            54.78140  3.398483 41.82012   NA 45.577506        NA\n",
       "137 Spain                  65.95449 19.378508 14.66700 29.3  9.697928    3.8493\n",
       "138 Sri Lanka              65.32978 10.473220 24.19700 13.0 11.099617    0.9746\n",
       "139 Sudan                  55.91005  3.581161 40.50879   NA 55.370834    0.4100\n",
       "140 Suriname               65.92337  6.906370 27.17026 25.0 24.780011        NA\n",
       "141 Sweden                 62.32269 20.095525 17.58179 18.8  6.184665    4.2861\n",
       "142 Switzerland            66.46583 18.623217 14.91095 25.7 10.303100    4.1782\n",
       "143 Tanzania               53.30046  2.601299 44.09824 14.8 29.076641        NA\n",
       "144 Thailand               71.01212 11.900893 17.08699 19.9 26.256727    0.4655\n",
       "145 Timor-Leste            57.90284  4.316492 37.78066 42.6 19.257209    0.6696\n",
       "146 Togo                   55.79601  2.869468 41.33452  7.4 35.731336    0.0487\n",
       "147 Trinidad and Tobago    68.84547 10.734954 20.41957   NA 24.108568    2.6697\n",
       "148 Tunisia                67.51420  8.315679 24.17012 32.7 37.655994    1.2999\n",
       "149 Turkey                 66.86738  8.483213 24.64941 27.2 44.311526        NA\n",
       "150 Uganda                 51.12849  1.940987 46.93053 10.0 50.494321    0.0908\n",
       "151 Ukraine                67.75290 16.434686 15.81241 28.9 20.309776        NA\n",
       "152 United Arab Emirates   84.31149  1.085001 14.60351 28.9 40.917510    2.2373\n",
       "153 United Kingdom         63.92605 18.395866 17.67808 22.3 10.472690    2.7780\n",
       "154 Uruguay                64.57750 14.814520 20.60798 16.8  9.274883        NA\n",
       "155 Uzbekistan             66.89480  4.419138 28.68606 12.6 28.455901        NA\n",
       "156 Vietnam                69.55234  7.274978 23.17268 22.8 29.626728    0.7887\n",
       "157 West Bank and Gaza     57.91933  3.133306 38.94736   NA 33.225630        NA\n",
       "158 Zambia                 52.96418  2.099678 44.93614 13.8 27.438035        NA\n",
       "159 Zimbabwe               54.65941  2.939524 42.40107 15.8 22.251671        NA\n",
       "    nurse_midwivies confirmed death rate        \n",
       "1        NA          1351       43  0.031828275 \n",
       "2        NA           678       27  0.039823009 \n",
       "3        NA          3127      415  0.132715062 \n",
       "4    4.0128           731       40  0.054719562 \n",
       "5        NA            25        2  0.080000000 \n",
       "6        NA            24        3  0.125000000 \n",
       "7        NA          3607      176  0.048794012 \n",
       "8        NA          1596       27  0.016917293 \n",
       "9   12.4667          6677       79  0.011831661 \n",
       "10   8.1758         15071      530  0.035166877 \n",
       "11       NA          1592       21  0.013190955 \n",
       "12   2.4944          2518        8  0.003177125 \n",
       "13   0.2665          4689      131  0.027937727 \n",
       "14       NA            77        6  0.077922078 \n",
       "15       NA          8773       63  0.007181124 \n",
       "16  10.8193         44293     6679  0.150791321 \n",
       "17       NA            18        2  0.111111111 \n",
       "18       NA            54        1  0.018518519 \n",
       "19   1.3589             7        0  0.000000000 \n",
       "20       NA           807       44  0.054522924 \n",
       "21       NA          1421       55  0.038705137 \n",
       "22       NA            22        1  0.045454545 \n",
       "23       NA         54043     3704  0.068538016 \n",
       "24       NA          1234       54  0.043760130 \n",
       "25   0.2400           629       41  0.065182830 \n",
       "26       NA            11        1  0.090909091 \n",
       "27   1.2272            88        1  0.011363636 \n",
       "28       NA           122        0  0.000000000 \n",
       "29       NA          1430       43  0.030069930 \n",
       "30   9.8398         44054     2384  0.054115404 \n",
       "... ...             ...       ...   ...         \n",
       "130      NA             11        0 0.0000000000\n",
       "131      NA             82        2 0.0243902439\n",
       "132      NA          12075       12 0.0009937888\n",
       "133  8.8090           1373       80 0.0582665696\n",
       "134      NA            328       16 0.0487804878\n",
       "135  5.0391           4220       79 0.0187203791\n",
       "136      NA              5        0 0.0000000000\n",
       "137  5.2919         219764    22524 0.1024917639\n",
       "138  2.4870            420        7 0.0166666667\n",
       "139  0.8300            174       16 0.0919540230\n",
       "140      NA             10        1 0.1000000000\n",
       "141 11.8503          17567     2152 0.1225024193\n",
       "142 16.8152          28677     1589 0.0554102591\n",
       "143      NA            299       10 0.0334448161\n",
       "144  2.3702           2907       51 0.0175438596\n",
       "145  1.4287             24        0 0.0000000000\n",
       "146  0.2980             90        6 0.0666666667\n",
       "147  3.5093            115        8 0.0695652174\n",
       "148  2.6478            922       38 0.0412147505\n",
       "149  2.6304         104912     2600 0.0247826750\n",
       "150  0.6303             75        0 0.0000000000\n",
       "151      NA           8125      201 0.0247384615\n",
       "152  5.0419           9281       64 0.0068958086\n",
       "153  8.8271         144640    19567 0.1352806969\n",
       "154      NA            563       12 0.0213143872\n",
       "155      NA           1804        8 0.0044345898\n",
       "156  1.4092            270        0 0.0000000000\n",
       "157      NA            484        4 0.0082644628\n",
       "158      NA             84        3 0.0357142857\n",
       "159      NA             29        4 0.1379310345"
      ]
     },
     "metadata": {},
     "output_type": "display_data"
    }
   ],
   "source": [
    "merge(country_data, covid19, by = \"country\")"
   ]
  },
  {
   "cell_type": "code",
   "execution_count": 45,
   "metadata": {},
   "outputs": [
    {
     "data": {
      "text/html": [
       "<table>\n",
       "<caption>A tibble: 1 × 2</caption>\n",
       "<thead>\n",
       "\t<tr><th scope=col>\"Country/Region\"</th><th scope=col>n</th></tr>\n",
       "\t<tr><th scope=col>&lt;chr&gt;</th><th scope=col>&lt;chr&gt;</th></tr>\n",
       "</thead>\n",
       "<tbody>\n",
       "\t<tr><td>Country/Region</td><td>4/24/20</td></tr>\n",
       "</tbody>\n",
       "</table>\n"
      ],
      "text/latex": [
       "A tibble: 1 × 2\n",
       "\\begin{tabular}{r|ll}\n",
       " \"Country/Region\" & n\\\\\n",
       " <chr> & <chr>\\\\\n",
       "\\hline\n",
       "\t Country/Region & 4/24/20\\\\\n",
       "\\end{tabular}\n"
      ],
      "text/markdown": [
       "\n",
       "A tibble: 1 × 2\n",
       "\n",
       "| \"Country/Region\" &lt;chr&gt; | n &lt;chr&gt; |\n",
       "|---|---|\n",
       "| Country/Region | 4/24/20 |\n",
       "\n"
      ],
      "text/plain": [
       "  \"Country/Region\" n      \n",
       "1 Country/Region   4/24/20"
      ]
     },
     "metadata": {},
     "output_type": "display_data"
    }
   ],
   "source": []
  },
  {
   "cell_type": "markdown",
   "metadata": {},
   "source": [
    "## 6. Research questions\n",
    "\n"
   ]
  },
  {
   "cell_type": "markdown",
   "metadata": {},
   "source": [
    "## 7. Data Analysis & Visualizations"
   ]
  },
  {
   "cell_type": "markdown",
   "metadata": {},
   "source": [
    "## 8. Summary and conclusions\n"
   ]
  }
 ],
 "metadata": {
  "kernelspec": {
   "display_name": "R",
   "language": "R",
   "name": "ir"
  },
  "language_info": {
   "codemirror_mode": "r",
   "file_extension": ".r",
   "mimetype": "text/x-r-source",
   "name": "R",
   "pygments_lexer": "r",
   "version": "3.6.1"
  }
 },
 "nbformat": 4,
 "nbformat_minor": 4
}
