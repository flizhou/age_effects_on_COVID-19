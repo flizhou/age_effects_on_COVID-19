{
 "cells": [
  {
   "cell_type": "markdown",
   "metadata": {},
   "source": [
    "# Exploratory data analysis"
   ]
  },
  {
   "cell_type": "markdown",
   "metadata": {},
   "source": [
    "## 1. Dataset description\n",
    "\n",
    "1) Global COVID-19 datasets\n",
    "\n",
    "- The two COVID-19 datasets, [the global confirmed dataset](https://github.com/CSSEGISandData/COVID-19/blob/master/csse_covid_19_data/csse_covid_19_time_series/time_series_covid19_confirmed_global.csv) and [the global death dataset](https://github.com/CSSEGISandData/COVID-19/blob/master/csse_covid_19_data/csse_covid_19_time_series/time_series_covid19_deaths_global.csv), are from the [data repository](https://github.com/CSSEGISandData/COVID-19) for the 2019 Novel Coronavirus Visual Dashboard operated by the Johns Hopkins University Center for Systems Science and Engineering (JHU CSSE). The dataset is updated everyday starting from January 22nd, 2020.\n",
    "\n",
    "- Both datasets contain columns of location information (`Province/State`, `Country/Region`, `Lat`, and `Long`) or daily accumulated number of confirmed or deaths in the corresponding location, starting from `1/22/20` to present.\n",
    "\n",
    "- As stated in the dataset repository, \"Australia, Canada and China are reported at the province/state level. Dependencies of the Netherlands, the UK, France and Denmark are listed under the province/state level. The US and other countries are at the country level.\"\n",
    "\n",
    "- The datasets combine data from multiple sources and may contain mistakes.\n",
    "\n",
    "2) Country statistics datasets\n",
    "\n",
    "+ [Population ages 65 and above (% of total population)](https://data.worldbank.org/indicator/SP.POP.65UP.TO.ZS) from the [World Bank Open Data](https://data.worldbank.org/).\n",
    "\n",
    "+ [Population ages 15-64 (% of total population)](https://data.worldbank.org/indicator/SP.POP.1564.TO.ZS) from the World Bank Open Data.\n",
    "\n",
    "+ [Smoking prevalence, total (ages 15+)](https://data.worldbank.org/indicator/SH.PRV.SMOK) from the World Bank Open Data.\n",
    "\n",
    "+ [PM2.5 air pollution, mean annual exposure (micrograms per cubic meter)](https://data.worldbank.org/indicator/EN.ATM.PM25.MC.M3) from the World Bank Open Data.\n",
    "\n",
    "+ [Hospital beds (per 1,000 people)](https://data.worldbank.org/indicator/SH.MED.BEDS.ZS) from the World Bank Open Data.\n",
    "\n",
    "+ [Physicians (per 1,000 people)](https://data.worldbank.org/indicator/SH.MED.PHYS.ZS) from the World Bank Open Data.\n",
    "\n",
    "+ [Nurses and midwives (per 1,000 people)](https://data.worldbank.org/indicator/SH.MED.NUMW.P3) from the World Bank Open Data.\n",
    "\n",
    "+ [Population, total](https://data.worldbank.org/indicator/SP.POP.TOTL) from the World Bank Open Data.\n",
    "\n",
    "+ [Population density (people per sq. km of land area)](https://data.worldbank.org/indicator/EN.POP.DNST) from the World Bank Open Data.\n",
    "\n",
    "+ [Oxford Covid-19 Government Response Tracker data](https://raw.githubusercontent.com/OxCGRT/covid-policy-tracker/master/data/OxCGRT_latest.csv) from the [Oxford Covid-19 Government Response Tracker repository](https://github.com/OxCGRT/covid-policy-tracker/)\n",
    "    \n"
   ]
  },
  {
   "cell_type": "markdown",
   "metadata": {},
   "source": [
    "## 2. Load the dataset"
   ]
  },
  {
   "cell_type": "code",
   "execution_count": 422,
   "metadata": {},
   "outputs": [
    {
     "name": "stderr",
     "output_type": "stream",
     "text": [
      "Registered S3 method overwritten by 'resample':\n",
      "  method         from  \n",
      "  print.resample modelr\n",
      "\n"
     ]
    }
   ],
   "source": [
    "library(MASS)\n",
    "library(mice)\n",
    "library(resample)\n",
    "\n",
    "library(testthat)\n",
    "library(rjson)\n",
    "\n",
    "library(tidyverse)\n",
    "\n",
    "library(plotly)\n",
    "library(htmlwidgets)"
   ]
  },
  {
   "cell_type": "code",
   "execution_count": 2,
   "metadata": {},
   "outputs": [
    {
     "name": "stderr",
     "output_type": "stream",
     "text": [
      "Parsed with column specification:\n",
      "cols(\n",
      "  .default = col_double(),\n",
      "  `Province/State` = \u001b[31mcol_character()\u001b[39m,\n",
      "  `Country/Region` = \u001b[31mcol_character()\u001b[39m\n",
      ")\n",
      "\n",
      "See spec(...) for full column specifications.\n",
      "\n",
      "Parsed with column specification:\n",
      "cols(\n",
      "  .default = col_double(),\n",
      "  `Province/State` = \u001b[31mcol_character()\u001b[39m,\n",
      "  `Country/Region` = \u001b[31mcol_character()\u001b[39m\n",
      ")\n",
      "\n",
      "See spec(...) for full column specifications.\n",
      "\n"
     ]
    }
   ],
   "source": [
    "# get the most recent global COVID-19 confirmed and deaths datasets\n",
    "url <- \"https://github.com/CSSEGISandData/COVID-19/blob/master/csse_covid_19_data/csse_covid_19_time_series\"\n",
    "covid19_confirmed <- read_csv(paste(url, \"/time_series_covid19_confirmed_global.csv?raw=true\", sep = \"\"))\n",
    "covid19_death <- read_csv(paste(url, \"/time_series_covid19_deaths_global.csv?raw=true\", sep = \"\"))"
   ]
  },
  {
   "cell_type": "code",
   "execution_count": 3,
   "metadata": {},
   "outputs": [
    {
     "name": "stderr",
     "output_type": "stream",
     "text": [
      "Parsed with column specification:\n",
      "cols(\n",
      "  .default = col_double(),\n",
      "  CountryName = \u001b[31mcol_character()\u001b[39m,\n",
      "  CountryCode = \u001b[31mcol_character()\u001b[39m,\n",
      "  C1_Flag = \u001b[33mcol_logical()\u001b[39m,\n",
      "  C2_Flag = \u001b[33mcol_logical()\u001b[39m,\n",
      "  C3_Flag = \u001b[33mcol_logical()\u001b[39m,\n",
      "  C4_Flag = \u001b[33mcol_logical()\u001b[39m,\n",
      "  C6_Flag = \u001b[33mcol_logical()\u001b[39m,\n",
      "  C7_Flag = \u001b[33mcol_logical()\u001b[39m,\n",
      "  E1_Flag = \u001b[33mcol_logical()\u001b[39m,\n",
      "  M1_Wildcard = \u001b[33mcol_logical()\u001b[39m\n",
      ")\n",
      "\n",
      "See spec(...) for full column specifications.\n",
      "\n"
     ]
    }
   ],
   "source": [
    "# get the most recent government response dataset\n",
    "gov <- read_csv(\"https://raw.githubusercontent.com/OxCGRT/covid-policy-tracker/master/data/OxCGRT_latest.csv\")"
   ]
  },
  {
   "cell_type": "code",
   "execution_count": 4,
   "metadata": {},
   "outputs": [
    {
     "data": {
      "text/html": [
       "<table>\n",
       "<caption>A tibble: 6 × 104</caption>\n",
       "<thead>\n",
       "\t<tr><th scope=col>Province/State</th><th scope=col>Country/Region</th><th scope=col>Lat</th><th scope=col>Long</th><th scope=col>1/22/20</th><th scope=col>1/23/20</th><th scope=col>1/24/20</th><th scope=col>1/25/20</th><th scope=col>1/26/20</th><th scope=col>1/27/20</th><th scope=col>...</th><th scope=col>4/21/20</th><th scope=col>4/22/20</th><th scope=col>4/23/20</th><th scope=col>4/24/20</th><th scope=col>4/25/20</th><th scope=col>4/26/20</th><th scope=col>4/27/20</th><th scope=col>4/28/20</th><th scope=col>4/29/20</th><th scope=col>4/30/20</th></tr>\n",
       "\t<tr><th scope=col>&lt;chr&gt;</th><th scope=col>&lt;chr&gt;</th><th scope=col>&lt;dbl&gt;</th><th scope=col>&lt;dbl&gt;</th><th scope=col>&lt;dbl&gt;</th><th scope=col>&lt;dbl&gt;</th><th scope=col>&lt;dbl&gt;</th><th scope=col>&lt;dbl&gt;</th><th scope=col>&lt;dbl&gt;</th><th scope=col>&lt;dbl&gt;</th><th scope=col>...</th><th scope=col>&lt;dbl&gt;</th><th scope=col>&lt;dbl&gt;</th><th scope=col>&lt;dbl&gt;</th><th scope=col>&lt;dbl&gt;</th><th scope=col>&lt;dbl&gt;</th><th scope=col>&lt;dbl&gt;</th><th scope=col>&lt;dbl&gt;</th><th scope=col>&lt;dbl&gt;</th><th scope=col>&lt;dbl&gt;</th><th scope=col>&lt;dbl&gt;</th></tr>\n",
       "</thead>\n",
       "<tbody>\n",
       "\t<tr><td>NA</td><td>Afghanistan        </td><td> 33.0000</td><td> 65.0000</td><td>0</td><td>0</td><td>0</td><td>0</td><td>0</td><td>0</td><td>...</td><td>1092</td><td>1176</td><td>1279</td><td>1351</td><td>1463</td><td>1531</td><td>1703</td><td>1828</td><td>1939</td><td>2171</td></tr>\n",
       "\t<tr><td>NA</td><td>Albania            </td><td> 41.1533</td><td> 20.1683</td><td>0</td><td>0</td><td>0</td><td>0</td><td>0</td><td>0</td><td>...</td><td> 609</td><td> 634</td><td> 663</td><td> 678</td><td> 712</td><td> 726</td><td> 736</td><td> 750</td><td> 766</td><td> 773</td></tr>\n",
       "\t<tr><td>NA</td><td>Algeria            </td><td> 28.0339</td><td>  1.6596</td><td>0</td><td>0</td><td>0</td><td>0</td><td>0</td><td>0</td><td>...</td><td>2811</td><td>2910</td><td>3007</td><td>3127</td><td>3256</td><td>3382</td><td>3517</td><td>3649</td><td>3848</td><td>4006</td></tr>\n",
       "\t<tr><td>NA</td><td>Andorra            </td><td> 42.5063</td><td>  1.5218</td><td>0</td><td>0</td><td>0</td><td>0</td><td>0</td><td>0</td><td>...</td><td> 717</td><td> 723</td><td> 723</td><td> 731</td><td> 738</td><td> 738</td><td> 743</td><td> 743</td><td> 743</td><td> 745</td></tr>\n",
       "\t<tr><td>NA</td><td>Angola             </td><td>-11.2027</td><td> 17.8739</td><td>0</td><td>0</td><td>0</td><td>0</td><td>0</td><td>0</td><td>...</td><td>  24</td><td>  25</td><td>  25</td><td>  25</td><td>  25</td><td>  26</td><td>  27</td><td>  27</td><td>  27</td><td>  27</td></tr>\n",
       "\t<tr><td>NA</td><td>Antigua and Barbuda</td><td> 17.0608</td><td>-61.7964</td><td>0</td><td>0</td><td>0</td><td>0</td><td>0</td><td>0</td><td>...</td><td>  23</td><td>  24</td><td>  24</td><td>  24</td><td>  24</td><td>  24</td><td>  24</td><td>  24</td><td>  24</td><td>  24</td></tr>\n",
       "</tbody>\n",
       "</table>\n"
      ],
      "text/latex": [
       "A tibble: 6 × 104\n",
       "\\begin{tabular}{r|llllllllllllllllllllllllllllllllllllllllllllllllllllllllllllllllllllllllllllllllllllllllllllllllllllllll}\n",
       " Province/State & Country/Region & Lat & Long & 1/22/20 & 1/23/20 & 1/24/20 & 1/25/20 & 1/26/20 & 1/27/20 & 1/28/20 & 1/29/20 & 1/30/20 & 1/31/20 & 2/1/20 & 2/2/20 & 2/3/20 & 2/4/20 & 2/5/20 & 2/6/20 & 2/7/20 & 2/8/20 & 2/9/20 & 2/10/20 & 2/11/20 & 2/12/20 & 2/13/20 & 2/14/20 & 2/15/20 & 2/16/20 & 2/17/20 & 2/18/20 & 2/19/20 & 2/20/20 & 2/21/20 & 2/22/20 & 2/23/20 & 2/24/20 & 2/25/20 & 2/26/20 & 2/27/20 & 2/28/20 & 2/29/20 & 3/1/20 & 3/2/20 & 3/3/20 & 3/4/20 & 3/5/20 & 3/6/20 & 3/7/20 & 3/8/20 & 3/9/20 & 3/10/20 & 3/11/20 & 3/12/20 & 3/13/20 & 3/14/20 & 3/15/20 & 3/16/20 & 3/17/20 & 3/18/20 & 3/19/20 & 3/20/20 & 3/21/20 & 3/22/20 & 3/23/20 & 3/24/20 & 3/25/20 & 3/26/20 & 3/27/20 & 3/28/20 & 3/29/20 & 3/30/20 & 3/31/20 & 4/1/20 & 4/2/20 & 4/3/20 & 4/4/20 & 4/5/20 & 4/6/20 & 4/7/20 & 4/8/20 & 4/9/20 & 4/10/20 & 4/11/20 & 4/12/20 & 4/13/20 & 4/14/20 & 4/15/20 & 4/16/20 & 4/17/20 & 4/18/20 & 4/19/20 & 4/20/20 & 4/21/20 & 4/22/20 & 4/23/20 & 4/24/20 & 4/25/20 & 4/26/20 & 4/27/20 & 4/28/20 & 4/29/20 & 4/30/20\\\\\n",
       " <chr> & <chr> & <dbl> & <dbl> & <dbl> & <dbl> & <dbl> & <dbl> & <dbl> & <dbl> & <dbl> & <dbl> & <dbl> & <dbl> & <dbl> & <dbl> & <dbl> & <dbl> & <dbl> & <dbl> & <dbl> & <dbl> & <dbl> & <dbl> & <dbl> & <dbl> & <dbl> & <dbl> & <dbl> & <dbl> & <dbl> & <dbl> & <dbl> & <dbl> & <dbl> & <dbl> & <dbl> & <dbl> & <dbl> & <dbl> & <dbl> & <dbl> & <dbl> & <dbl> & <dbl> & <dbl> & <dbl> & <dbl> & <dbl> & <dbl> & <dbl> & <dbl> & <dbl> & <dbl> & <dbl> & <dbl> & <dbl> & <dbl> & <dbl> & <dbl> & <dbl> & <dbl> & <dbl> & <dbl> & <dbl> & <dbl> & <dbl> & <dbl> & <dbl> & <dbl> & <dbl> & <dbl> & <dbl> & <dbl> & <dbl> & <dbl> & <dbl> & <dbl> & <dbl> & <dbl> & <dbl> & <dbl> & <dbl> & <dbl> & <dbl> & <dbl> & <dbl> & <dbl> & <dbl> & <dbl> & <dbl> & <dbl> & <dbl> & <dbl> & <dbl> & <dbl> & <dbl> & <dbl> & <dbl> & <dbl> & <dbl> & <dbl> & <dbl> & <dbl>\\\\\n",
       "\\hline\n",
       "\t NA & Afghanistan         &  33.0000 &  65.0000 & 0 & 0 & 0 & 0 & 0 & 0 & 0 & 0 & 0 & 0 & 0 & 0 & 0 & 0 & 0 & 0 & 0 & 0 & 0 & 0 & 0 & 0 & 0 & 0 & 0 & 0 & 0 & 0 & 0 & 0 & 0 & 0 & 0 & 1 & 1 & 1 & 1 & 1 & 1 & 1 & 1 & 1 &  1 &  1 &  1 &  1 &  4 &  4 &  5 &  7 &  7 &  7 & 11 & 16 & 21 & 22 & 22 & 22 & 24 &  24 &  40 &  40 &  74 &  84 &  94 & 110 & 110 & 120 & 170 & 174 & 237 & 273 &  281 &  299 &  349 &  367 &  423 &  444 &  484 &  521 &  555 &  607 &  665 &  714 &  784 &  840 &  906 &  933 &  996 & 1026 & 1092 & 1176 & 1279 & 1351 & 1463 & 1531 & 1703 & 1828 & 1939 & 2171\\\\\n",
       "\t NA & Albania             &  41.1533 &  20.1683 & 0 & 0 & 0 & 0 & 0 & 0 & 0 & 0 & 0 & 0 & 0 & 0 & 0 & 0 & 0 & 0 & 0 & 0 & 0 & 0 & 0 & 0 & 0 & 0 & 0 & 0 & 0 & 0 & 0 & 0 & 0 & 0 & 0 & 0 & 0 & 0 & 0 & 0 & 0 & 0 & 0 & 0 &  0 &  0 &  0 &  0 &  0 &  2 & 10 & 12 & 23 & 33 & 38 & 42 & 51 & 55 & 59 & 64 & 70 &  76 &  89 & 104 & 123 & 146 & 174 & 186 & 197 & 212 & 223 & 243 & 259 & 277 &  304 &  333 &  361 &  377 &  383 &  400 &  409 &  416 &  433 &  446 &  467 &  475 &  494 &  518 &  539 &  548 &  562 &  584 &  609 &  634 &  663 &  678 &  712 &  726 &  736 &  750 &  766 &  773\\\\\n",
       "\t NA & Algeria             &  28.0339 &   1.6596 & 0 & 0 & 0 & 0 & 0 & 0 & 0 & 0 & 0 & 0 & 0 & 0 & 0 & 0 & 0 & 0 & 0 & 0 & 0 & 0 & 0 & 0 & 0 & 0 & 0 & 0 & 0 & 0 & 0 & 0 & 0 & 0 & 0 & 0 & 1 & 1 & 1 & 1 & 1 & 1 & 3 & 5 & 12 & 12 & 17 & 17 & 19 & 20 & 20 & 20 & 24 & 26 & 37 & 48 & 54 & 60 & 74 & 87 & 90 & 139 & 201 & 230 & 264 & 302 & 367 & 409 & 454 & 511 & 584 & 716 & 847 & 986 & 1171 & 1251 & 1320 & 1423 & 1468 & 1572 & 1666 & 1761 & 1825 & 1914 & 1983 & 2070 & 2160 & 2268 & 2418 & 2534 & 2629 & 2718 & 2811 & 2910 & 3007 & 3127 & 3256 & 3382 & 3517 & 3649 & 3848 & 4006\\\\\n",
       "\t NA & Andorra             &  42.5063 &   1.5218 & 0 & 0 & 0 & 0 & 0 & 0 & 0 & 0 & 0 & 0 & 0 & 0 & 0 & 0 & 0 & 0 & 0 & 0 & 0 & 0 & 0 & 0 & 0 & 0 & 0 & 0 & 0 & 0 & 0 & 0 & 0 & 0 & 0 & 0 & 0 & 0 & 0 & 0 & 0 & 0 & 1 & 1 &  1 &  1 &  1 &  1 &  1 &  1 &  1 &  1 &  1 &  1 &  1 &  1 &  2 & 39 & 39 & 53 & 75 &  88 & 113 & 133 & 164 & 188 & 224 & 267 & 308 & 334 & 370 & 376 & 390 & 428 &  439 &  466 &  501 &  525 &  545 &  564 &  583 &  601 &  601 &  638 &  646 &  659 &  673 &  673 &  696 &  704 &  713 &  717 &  717 &  723 &  723 &  731 &  738 &  738 &  743 &  743 &  743 &  745\\\\\n",
       "\t NA & Angola              & -11.2027 &  17.8739 & 0 & 0 & 0 & 0 & 0 & 0 & 0 & 0 & 0 & 0 & 0 & 0 & 0 & 0 & 0 & 0 & 0 & 0 & 0 & 0 & 0 & 0 & 0 & 0 & 0 & 0 & 0 & 0 & 0 & 0 & 0 & 0 & 0 & 0 & 0 & 0 & 0 & 0 & 0 & 0 & 0 & 0 &  0 &  0 &  0 &  0 &  0 &  0 &  0 &  0 &  0 &  0 &  0 &  0 &  0 &  0 &  0 &  0 &  1 &   2 &   2 &   3 &   3 &   3 &   4 &   4 &   5 &   7 &   7 &   7 &   8 &   8 &    8 &   10 &   14 &   16 &   17 &   19 &   19 &   19 &   19 &   19 &   19 &   19 &   19 &   19 &   19 &   24 &   24 &   24 &   24 &   25 &   25 &   25 &   25 &   26 &   27 &   27 &   27 &   27\\\\\n",
       "\t NA & Antigua and Barbuda &  17.0608 & -61.7964 & 0 & 0 & 0 & 0 & 0 & 0 & 0 & 0 & 0 & 0 & 0 & 0 & 0 & 0 & 0 & 0 & 0 & 0 & 0 & 0 & 0 & 0 & 0 & 0 & 0 & 0 & 0 & 0 & 0 & 0 & 0 & 0 & 0 & 0 & 0 & 0 & 0 & 0 & 0 & 0 & 0 & 0 &  0 &  0 &  0 &  0 &  0 &  0 &  0 &  0 &  0 &  1 &  1 &  1 &  1 &  1 &  1 &  1 &  1 &   1 &   1 &   3 &   3 &   3 &   7 &   7 &   7 &   7 &   7 &   7 &   7 &   9 &   15 &   15 &   15 &   15 &   19 &   19 &   19 &   19 &   21 &   21 &   23 &   23 &   23 &   23 &   23 &   23 &   23 &   23 &   23 &   24 &   24 &   24 &   24 &   24 &   24 &   24 &   24 &   24\\\\\n",
       "\\end{tabular}\n"
      ],
      "text/markdown": [
       "\n",
       "A tibble: 6 × 104\n",
       "\n",
       "| Province/State &lt;chr&gt; | Country/Region &lt;chr&gt; | Lat &lt;dbl&gt; | Long &lt;dbl&gt; | 1/22/20 &lt;dbl&gt; | 1/23/20 &lt;dbl&gt; | 1/24/20 &lt;dbl&gt; | 1/25/20 &lt;dbl&gt; | 1/26/20 &lt;dbl&gt; | 1/27/20 &lt;dbl&gt; | ... ... | 4/21/20 &lt;dbl&gt; | 4/22/20 &lt;dbl&gt; | 4/23/20 &lt;dbl&gt; | 4/24/20 &lt;dbl&gt; | 4/25/20 &lt;dbl&gt; | 4/26/20 &lt;dbl&gt; | 4/27/20 &lt;dbl&gt; | 4/28/20 &lt;dbl&gt; | 4/29/20 &lt;dbl&gt; | 4/30/20 &lt;dbl&gt; |\n",
       "|---|---|---|---|---|---|---|---|---|---|---|---|---|---|---|---|---|---|---|---|---|\n",
       "| NA | Afghanistan         |  33.0000 |  65.0000 | 0 | 0 | 0 | 0 | 0 | 0 | ... | 1092 | 1176 | 1279 | 1351 | 1463 | 1531 | 1703 | 1828 | 1939 | 2171 |\n",
       "| NA | Albania             |  41.1533 |  20.1683 | 0 | 0 | 0 | 0 | 0 | 0 | ... |  609 |  634 |  663 |  678 |  712 |  726 |  736 |  750 |  766 |  773 |\n",
       "| NA | Algeria             |  28.0339 |   1.6596 | 0 | 0 | 0 | 0 | 0 | 0 | ... | 2811 | 2910 | 3007 | 3127 | 3256 | 3382 | 3517 | 3649 | 3848 | 4006 |\n",
       "| NA | Andorra             |  42.5063 |   1.5218 | 0 | 0 | 0 | 0 | 0 | 0 | ... |  717 |  723 |  723 |  731 |  738 |  738 |  743 |  743 |  743 |  745 |\n",
       "| NA | Angola              | -11.2027 |  17.8739 | 0 | 0 | 0 | 0 | 0 | 0 | ... |   24 |   25 |   25 |   25 |   25 |   26 |   27 |   27 |   27 |   27 |\n",
       "| NA | Antigua and Barbuda |  17.0608 | -61.7964 | 0 | 0 | 0 | 0 | 0 | 0 | ... |   23 |   24 |   24 |   24 |   24 |   24 |   24 |   24 |   24 |   24 |\n",
       "\n"
      ],
      "text/plain": [
       "  Province/State Country/Region      Lat      Long     1/22/20 1/23/20 1/24/20\n",
       "1 NA             Afghanistan          33.0000  65.0000 0       0       0      \n",
       "2 NA             Albania              41.1533  20.1683 0       0       0      \n",
       "3 NA             Algeria              28.0339   1.6596 0       0       0      \n",
       "4 NA             Andorra              42.5063   1.5218 0       0       0      \n",
       "5 NA             Angola              -11.2027  17.8739 0       0       0      \n",
       "6 NA             Antigua and Barbuda  17.0608 -61.7964 0       0       0      \n",
       "  1/25/20 1/26/20 1/27/20 ... 4/21/20 4/22/20 4/23/20 4/24/20 4/25/20 4/26/20\n",
       "1 0       0       0       ... 1092    1176    1279    1351    1463    1531   \n",
       "2 0       0       0       ...  609     634     663     678     712     726   \n",
       "3 0       0       0       ... 2811    2910    3007    3127    3256    3382   \n",
       "4 0       0       0       ...  717     723     723     731     738     738   \n",
       "5 0       0       0       ...   24      25      25      25      25      26   \n",
       "6 0       0       0       ...   23      24      24      24      24      24   \n",
       "  4/27/20 4/28/20 4/29/20 4/30/20\n",
       "1 1703    1828    1939    2171   \n",
       "2  736     750     766     773   \n",
       "3 3517    3649    3848    4006   \n",
       "4  743     743     743     745   \n",
       "5   27      27      27      27   \n",
       "6   24      24      24      24   "
      ]
     },
     "metadata": {},
     "output_type": "display_data"
    }
   ],
   "source": [
    "head(covid19_confirmed)"
   ]
  },
  {
   "cell_type": "code",
   "execution_count": 113,
   "metadata": {},
   "outputs": [
    {
     "data": {
      "text/html": [
       "<table>\n",
       "<caption>A tibble: 6 × 36</caption>\n",
       "<thead>\n",
       "\t<tr><th scope=col>CountryName</th><th scope=col>CountryCode</th><th scope=col>Date</th><th scope=col>C1_School closing</th><th scope=col>C1_Flag</th><th scope=col>C2_Workplace closing</th><th scope=col>C2_Flag</th><th scope=col>C3_Cancel public events</th><th scope=col>C3_Flag</th><th scope=col>C4_Restrictions on gatherings</th><th scope=col>...</th><th scope=col>H3_Contact tracing</th><th scope=col>H4_Emergency investment in healthcare</th><th scope=col>H5_Investment in vaccines</th><th scope=col>M1_Wildcard</th><th scope=col>ConfirmedCases</th><th scope=col>ConfirmedDeaths</th><th scope=col>StringencyIndex</th><th scope=col>StringencyIndexForDisplay</th><th scope=col>LegacyStringencyIndex</th><th scope=col>LegacyStringencyIndexForDisplay</th></tr>\n",
       "\t<tr><th scope=col>&lt;chr&gt;</th><th scope=col>&lt;chr&gt;</th><th scope=col>&lt;dbl&gt;</th><th scope=col>&lt;dbl&gt;</th><th scope=col>&lt;lgl&gt;</th><th scope=col>&lt;dbl&gt;</th><th scope=col>&lt;lgl&gt;</th><th scope=col>&lt;dbl&gt;</th><th scope=col>&lt;lgl&gt;</th><th scope=col>&lt;dbl&gt;</th><th scope=col>...</th><th scope=col>&lt;dbl&gt;</th><th scope=col>&lt;dbl&gt;</th><th scope=col>&lt;dbl&gt;</th><th scope=col>&lt;lgl&gt;</th><th scope=col>&lt;dbl&gt;</th><th scope=col>&lt;dbl&gt;</th><th scope=col>&lt;dbl&gt;</th><th scope=col>&lt;dbl&gt;</th><th scope=col>&lt;dbl&gt;</th><th scope=col>&lt;dbl&gt;</th></tr>\n",
       "</thead>\n",
       "<tbody>\n",
       "\t<tr><td>Aruba               </td><td>ABW</td><td>20200101</td><td>0</td><td>NA</td><td>0</td><td>NA</td><td>0</td><td>NA</td><td> 0</td><td>...</td><td>0</td><td>0</td><td>0</td><td>NA</td><td>NA</td><td>NA</td><td>0</td><td>0</td><td>0</td><td>0</td></tr>\n",
       "\t<tr><td>Afghanistan         </td><td>AFG</td><td>20200101</td><td>0</td><td>NA</td><td>0</td><td>NA</td><td>0</td><td>NA</td><td> 0</td><td>...</td><td>0</td><td>0</td><td>0</td><td>NA</td><td> 0</td><td> 0</td><td>0</td><td>0</td><td>0</td><td>0</td></tr>\n",
       "\t<tr><td>Angola              </td><td>AGO</td><td>20200101</td><td>0</td><td>NA</td><td>0</td><td>NA</td><td>0</td><td>NA</td><td> 0</td><td>...</td><td>0</td><td>0</td><td>0</td><td>NA</td><td>NA</td><td>NA</td><td>0</td><td>0</td><td>0</td><td>0</td></tr>\n",
       "\t<tr><td>Albania             </td><td>ALB</td><td>20200101</td><td>0</td><td>NA</td><td>0</td><td>NA</td><td>0</td><td>NA</td><td> 0</td><td>...</td><td>0</td><td>0</td><td>0</td><td>NA</td><td>NA</td><td>NA</td><td>0</td><td>0</td><td>0</td><td>0</td></tr>\n",
       "\t<tr><td>Andorra             </td><td>AND</td><td>20200101</td><td>0</td><td>NA</td><td>0</td><td>NA</td><td>0</td><td>NA</td><td>NA</td><td>...</td><td>0</td><td>0</td><td>0</td><td>NA</td><td>NA</td><td>NA</td><td>0</td><td>0</td><td>0</td><td>0</td></tr>\n",
       "\t<tr><td>United Arab Emirates</td><td>ARE</td><td>20200101</td><td>0</td><td>NA</td><td>0</td><td>NA</td><td>0</td><td>NA</td><td> 0</td><td>...</td><td>0</td><td>0</td><td>0</td><td>NA</td><td> 0</td><td> 0</td><td>0</td><td>0</td><td>0</td><td>0</td></tr>\n",
       "</tbody>\n",
       "</table>\n"
      ],
      "text/latex": [
       "A tibble: 6 × 36\n",
       "\\begin{tabular}{r|llllllllllllllllllllllllllllllllllll}\n",
       " CountryName & CountryCode & Date & C1\\_School closing & C1\\_Flag & C2\\_Workplace closing & C2\\_Flag & C3\\_Cancel public events & C3\\_Flag & C4\\_Restrictions on gatherings & C4\\_Flag & C5\\_Close public transport & C5\\_Flag & C6\\_Stay at home requirements & C6\\_Flag & C7\\_Restrictions on internal movement & C7\\_Flag & C8\\_International travel controls & E1\\_Income support & E1\\_Flag & E2\\_Debt/contract relief & E3\\_Fiscal measures & E4\\_International support & H1\\_Public information campaigns & H1\\_Flag & H2\\_Testing policy & H3\\_Contact tracing & H4\\_Emergency investment in healthcare & H5\\_Investment in vaccines & M1\\_Wildcard & ConfirmedCases & ConfirmedDeaths & StringencyIndex & StringencyIndexForDisplay & LegacyStringencyIndex & LegacyStringencyIndexForDisplay\\\\\n",
       " <chr> & <chr> & <dbl> & <dbl> & <lgl> & <dbl> & <lgl> & <dbl> & <lgl> & <dbl> & <lgl> & <dbl> & <dbl> & <dbl> & <lgl> & <dbl> & <lgl> & <dbl> & <dbl> & <lgl> & <dbl> & <dbl> & <dbl> & <dbl> & <dbl> & <dbl> & <dbl> & <dbl> & <dbl> & <lgl> & <dbl> & <dbl> & <dbl> & <dbl> & <dbl> & <dbl>\\\\\n",
       "\\hline\n",
       "\t Aruba                & ABW & 20200101 & 0 & NA & 0 & NA & 0 & NA &  0 & NA & 0 & NA &  0 & NA & 0 & NA & 0 & NA & NA & NA & 0 & NA & 0 & NA & 0 & 0 & 0 & 0 & NA & NA & NA & 0 & 0 & 0 & 0\\\\\n",
       "\t Afghanistan          & AFG & 20200101 & 0 & NA & 0 & NA & 0 & NA &  0 & NA & 0 & NA &  0 & NA & 0 & NA & 0 & NA & NA & NA & 0 & NA & 0 & NA & 0 & 0 & 0 & 0 & NA &  0 &  0 & 0 & 0 & 0 & 0\\\\\n",
       "\t Angola               & AGO & 20200101 & 0 & NA & 0 & NA & 0 & NA &  0 & NA & 0 & NA &  0 & NA & 0 & NA & 0 &  0 & NA &  0 & 0 &  0 & 0 & NA & 0 & 0 & 0 & 0 & NA & NA & NA & 0 & 0 & 0 & 0\\\\\n",
       "\t Albania              & ALB & 20200101 & 0 & NA & 0 & NA & 0 & NA &  0 & NA & 0 & NA &  0 & NA & 0 & NA & 0 & NA & NA & NA & 0 & NA & 0 & NA & 0 & 0 & 0 & 0 & NA & NA & NA & 0 & 0 & 0 & 0\\\\\n",
       "\t Andorra              & AND & 20200101 & 0 & NA & 0 & NA & 0 & NA & NA & NA & 0 & NA & NA & NA & 0 & NA & 0 & NA & NA & NA & 0 & NA & 0 & NA & 0 & 0 & 0 & 0 & NA & NA & NA & 0 & 0 & 0 & 0\\\\\n",
       "\t United Arab Emirates & ARE & 20200101 & 0 & NA & 0 & NA & 0 & NA &  0 & NA & 0 & NA &  0 & NA & 0 & NA & 0 & NA & NA & NA & 0 & NA & 0 & NA & 0 & 0 & 0 & 0 & NA &  0 &  0 & 0 & 0 & 0 & 0\\\\\n",
       "\\end{tabular}\n"
      ],
      "text/markdown": [
       "\n",
       "A tibble: 6 × 36\n",
       "\n",
       "| CountryName &lt;chr&gt; | CountryCode &lt;chr&gt; | Date &lt;dbl&gt; | C1_School closing &lt;dbl&gt; | C1_Flag &lt;lgl&gt; | C2_Workplace closing &lt;dbl&gt; | C2_Flag &lt;lgl&gt; | C3_Cancel public events &lt;dbl&gt; | C3_Flag &lt;lgl&gt; | C4_Restrictions on gatherings &lt;dbl&gt; | ... ... | H3_Contact tracing &lt;dbl&gt; | H4_Emergency investment in healthcare &lt;dbl&gt; | H5_Investment in vaccines &lt;dbl&gt; | M1_Wildcard &lt;lgl&gt; | ConfirmedCases &lt;dbl&gt; | ConfirmedDeaths &lt;dbl&gt; | StringencyIndex &lt;dbl&gt; | StringencyIndexForDisplay &lt;dbl&gt; | LegacyStringencyIndex &lt;dbl&gt; | LegacyStringencyIndexForDisplay &lt;dbl&gt; |\n",
       "|---|---|---|---|---|---|---|---|---|---|---|---|---|---|---|---|---|---|---|---|---|\n",
       "| Aruba                | ABW | 20200101 | 0 | NA | 0 | NA | 0 | NA |  0 | ... | 0 | 0 | 0 | NA | NA | NA | 0 | 0 | 0 | 0 |\n",
       "| Afghanistan          | AFG | 20200101 | 0 | NA | 0 | NA | 0 | NA |  0 | ... | 0 | 0 | 0 | NA |  0 |  0 | 0 | 0 | 0 | 0 |\n",
       "| Angola               | AGO | 20200101 | 0 | NA | 0 | NA | 0 | NA |  0 | ... | 0 | 0 | 0 | NA | NA | NA | 0 | 0 | 0 | 0 |\n",
       "| Albania              | ALB | 20200101 | 0 | NA | 0 | NA | 0 | NA |  0 | ... | 0 | 0 | 0 | NA | NA | NA | 0 | 0 | 0 | 0 |\n",
       "| Andorra              | AND | 20200101 | 0 | NA | 0 | NA | 0 | NA | NA | ... | 0 | 0 | 0 | NA | NA | NA | 0 | 0 | 0 | 0 |\n",
       "| United Arab Emirates | ARE | 20200101 | 0 | NA | 0 | NA | 0 | NA |  0 | ... | 0 | 0 | 0 | NA |  0 |  0 | 0 | 0 | 0 | 0 |\n",
       "\n"
      ],
      "text/plain": [
       "  CountryName          CountryCode Date     C1_School closing C1_Flag\n",
       "1 Aruba                ABW         20200101 0                 NA     \n",
       "2 Afghanistan          AFG         20200101 0                 NA     \n",
       "3 Angola               AGO         20200101 0                 NA     \n",
       "4 Albania              ALB         20200101 0                 NA     \n",
       "5 Andorra              AND         20200101 0                 NA     \n",
       "6 United Arab Emirates ARE         20200101 0                 NA     \n",
       "  C2_Workplace closing C2_Flag C3_Cancel public events C3_Flag\n",
       "1 0                    NA      0                       NA     \n",
       "2 0                    NA      0                       NA     \n",
       "3 0                    NA      0                       NA     \n",
       "4 0                    NA      0                       NA     \n",
       "5 0                    NA      0                       NA     \n",
       "6 0                    NA      0                       NA     \n",
       "  C4_Restrictions on gatherings ... H3_Contact tracing\n",
       "1  0                            ... 0                 \n",
       "2  0                            ... 0                 \n",
       "3  0                            ... 0                 \n",
       "4  0                            ... 0                 \n",
       "5 NA                            ... 0                 \n",
       "6  0                            ... 0                 \n",
       "  H4_Emergency investment in healthcare H5_Investment in vaccines M1_Wildcard\n",
       "1 0                                     0                         NA         \n",
       "2 0                                     0                         NA         \n",
       "3 0                                     0                         NA         \n",
       "4 0                                     0                         NA         \n",
       "5 0                                     0                         NA         \n",
       "6 0                                     0                         NA         \n",
       "  ConfirmedCases ConfirmedDeaths StringencyIndex StringencyIndexForDisplay\n",
       "1 NA             NA              0               0                        \n",
       "2  0              0              0               0                        \n",
       "3 NA             NA              0               0                        \n",
       "4 NA             NA              0               0                        \n",
       "5 NA             NA              0               0                        \n",
       "6  0              0              0               0                        \n",
       "  LegacyStringencyIndex LegacyStringencyIndexForDisplay\n",
       "1 0                     0                              \n",
       "2 0                     0                              \n",
       "3 0                     0                              \n",
       "4 0                     0                              \n",
       "5 0                     0                              \n",
       "6 0                     0                              "
      ]
     },
     "metadata": {},
     "output_type": "display_data"
    }
   ],
   "source": [
    "head(gov)"
   ]
  },
  {
   "cell_type": "code",
   "execution_count": null,
   "metadata": {},
   "outputs": [],
   "source": [
    "#' Read raw data into data frame\n",
    "#'\n",
    "#' @param label the file name\n",
    "#' @param skip lines to skip\n",
    "#'\n",
    "#' @return dataframe\n",
    "get_data <- function(label, skip = 4){\n",
    "    read_csv(paste(\"../data/raw_data/\", label, sep = \"\"), skip = skip)\n",
    "}\n",
    "\n",
    "filenames <- fromJSON(file = \"../data/clean_data/filenames.json\")\n",
    "\n",
    "# get country statistics\n",
    "age_65up <- get_data(filenames[\"age_65up\"])\n",
    "age_1564 <- get_data(filenames[\"age_1564\"])\n",
    "air_pollution <- get_data(filenames[\"air_pollution\"])\n",
    "medical_bed <- get_data(filenames[\"medical_bed\"])\n",
    "physicians <- get_data(filenames[\"physicians\"])\n",
    "nurses_midwives <- get_data(filenames[\"nurses_midwives\"])\n",
    "population_density <- get_data(filenames[\"population_density\"])\n",
    "population_total <- get_data(filenames[\"population_total\"])\n",
    "smoking <- get_data(filenames[\"smoking\"])"
   ]
  },
  {
   "cell_type": "code",
   "execution_count": null,
   "metadata": {},
   "outputs": [],
   "source": [
    "# head(age_65up)\n",
    "# head(age_1564)\n",
    "# head(air_pollution)\n",
    "# head(medical_bed)\n",
    "# head(physicians)\n",
    "# head(nurses_midwives)\n",
    "# head(population_density)\n",
    "# head(population_total)\n",
    "# head(smoking)"
   ]
  },
  {
   "cell_type": "markdown",
   "metadata": {},
   "source": [
    "## 3. Explore the dataset"
   ]
  },
  {
   "cell_type": "code",
   "execution_count": 10,
   "metadata": {},
   "outputs": [
    {
     "data": {
      "text/html": [
       "<ol class=list-inline>\n",
       "\t<li>264</li>\n",
       "\t<li>102</li>\n",
       "</ol>\n"
      ],
      "text/latex": [
       "\\begin{enumerate*}\n",
       "\\item 264\n",
       "\\item 102\n",
       "\\end{enumerate*}\n"
      ],
      "text/markdown": [
       "1. 264\n",
       "2. 102\n",
       "\n",
       "\n"
      ],
      "text/plain": [
       "[1] 264 102"
      ]
     },
     "metadata": {},
     "output_type": "display_data"
    }
   ],
   "source": [
    "dim(covid19_confirmed)\n",
    "colnames(covid19_confirmed)[length(covid19_confirmed)]\n",
    "\n",
    "dim(covid19_death)\n",
    "colnames(covid19_death)[length(covid19_death)]\n",
    "\n",
    "length(unique(gov$CountryName))"
   ]
  },
  {
   "cell_type": "code",
   "execution_count": 15,
   "metadata": {},
   "outputs": [],
   "source": [
    "test_that(\"Column names of covid19_confirmed and covid19_death should be the same.\",\n",
    "          {expect_true(all(colnames(covid19_confirmed) == colnames(covid19_death)))\n",
    "          })\n",
    "\n",
    "test_that(\"The country column of covid19_confirmed and covid19_death should be the same.\",\n",
    "          {expect_true(all(covid19_confirmed[2] == covid19_death[2]))\n",
    "          })\n",
    "\n",
    "test_that(\"The last column of covid19_confirmed should not have missing values.\",\n",
    "          {expect_true(all(!is.na(covid19_confirmed[length(covid19_confirmed)])))\n",
    "          })\n",
    "\n",
    "test_that(\"The last column of covid19_death should not have missing values.\",\n",
    "          {expect_true(all(!is.na(covid19_death[length(covid19_death)])))\n",
    "          })"
   ]
  },
  {
   "cell_type": "markdown",
   "metadata": {},
   "source": [
    "## 4. Initial thoughts\n"
   ]
  },
  {
   "cell_type": "markdown",
   "metadata": {},
   "source": [
    "## 5. Wrangling"
   ]
  },
  {
   "cell_type": "code",
   "execution_count": 19,
   "metadata": {},
   "outputs": [],
   "source": [
    "#' Clean raw data\n",
    "#'\n",
    "#' @param df the dataframe\n",
    "#' @param name the col name\n",
    "#'\n",
    "#' @return cleaned dataframe\n",
    "clean_data <- function(df, name){\n",
    "    colnames(df)[1] <- 'country' \n",
    "    ret <- df[c(-2, -3, -4)] %>%\n",
    "        gather(year, {{name}}, -country) %>%\n",
    "        drop_na() %>%\n",
    "        group_by(country) %>%\n",
    "        top_n(1, year) %>%\n",
    "        ungroup() %>%\n",
    "        mutate(country = case_when(country == 'Bahamas, The' ~ 'Bahamas',\n",
    "                                   country == 'Brunei Darussalam' ~ 'Brunei',\n",
    "                                   country == 'Egypt, Arab Rep.' ~ 'Egypt',\n",
    "                                   country == 'Gambia, The' ~ 'Gambia',\n",
    "                                   country == 'Iran, Islamic Rep.' ~ 'Iran',\n",
    "                                   country == 'Korea, Dem. People’s Rep.' ~ 'South Korea',\n",
    "                                   country == 'Czech Republic' ~ 'Czechia',\n",
    "                                   country == 'Lao PDR' ~ 'Laos',\n",
    "                                   country == 'Russian Federation' ~ 'Russia',\n",
    "                                   country == 'St. Lucia' ~ 'Saint Lucia',\n",
    "                                   country == 'St. Vincent and the Grenadines' ~ 'Saint Vincent and the Grenadines',\n",
    "                                   country == 'Slovak Republic' ~ 'Slovakia',\n",
    "                                   country == 'Syrian Arab Republic' ~ 'Syria',\n",
    "                                   country == 'Venezuela, RB' ~ 'Venezuela',\n",
    "                                   country == 'Sub-Saharan Africa' ~ 'Western Sahara',\n",
    "                                   country == 'Yemen, Rep.' ~ 'Yemen',\n",
    "                                   TRUE ~ country))\n",
    "    colnames(ret)[2] <- paste(\"year_\", name, sep=\"\")\n",
    "    ret\n",
    "}"
   ]
  },
  {
   "cell_type": "code",
   "execution_count": 20,
   "metadata": {},
   "outputs": [],
   "source": [
    "# clean data\n",
    "age_65up <- clean_data(age_65up, \"age_65up\")\n",
    "age_1564 <- clean_data(age_1564, \"age_1564\")\n",
    "air_pollution <- clean_data(air_pollution, \"air_pollution\")\n",
    "medical_bed <- clean_data(medical_bed, \"med_bed\")\n",
    "physicians <- clean_data(physicians, \"physicians\")\n",
    "nurses_midwives <- clean_data(nurses_midwives, \"nurses_midwives\")\n",
    "population_density <- clean_data(population_density, \"pop_density\")\n",
    "population_total <- clean_data(population_total, \"pop_total\")\n",
    "smoking <- clean_data(smoking, \"smoking\")"
   ]
  },
  {
   "cell_type": "code",
   "execution_count": 21,
   "metadata": {},
   "outputs": [],
   "source": [
    "# save cleaned data\n",
    "write_csv(age_65up, \"../data/clean_data/age_65up_clean.csv\")\n",
    "write_csv(age_1564, \"../data/clean_data/age_1564_clean.csv\")\n",
    "write_csv(air_pollution, \"../data/clean_data/air_pollution_clean.csv\")\n",
    "write_csv(medical_bed, \"../data/clean_data/medical_bed_clean.csv\")\n",
    "write_csv(physicians, \"../data/clean_data/physicians_clean.csv\")\n",
    "write_csv(nurses_midwives, \"../data/clean_data/nurses_midwives.csv\")\n",
    "write_csv(population_density, \"../data/clean_data/population_density_clean.csv\")\n",
    "write_csv(population_total, \"../data/clean_data/population_total_clean.csv\")\n",
    "write_csv(smoking, \"../data/clean_data/smoking_clean.csv\")"
   ]
  },
  {
   "cell_type": "code",
   "execution_count": null,
   "metadata": {},
   "outputs": [],
   "source": [
    "# read in clean data\n",
    "age_65up <- read_csv(\"../data/clean_data/age_65up_clean.csv\")\n",
    "age_1564 <- read_csv(\"../data/clean_data/age_1564_clean.csv\")\n",
    "air_pollution <- read_csv(\"../data/clean_data/air_pollution_clean.csv\")\n",
    "medical_bed <- read_csv(\"../data/clean_data/medical_bed_clean.csv\")\n",
    "physicians <- read_csv(\"../data/clean_data/physicians_clean.csv\")\n",
    "nurses_midwives <- read_csv(\"../data/clean_data/nurses_midwives.csv\")\n",
    "population_density <- read_csv(\"../data/clean_data/population_density_clean.csv\")\n",
    "population_total <- read_csv(\"../data/clean_data/population_total_clean.csv\")\n",
    "smoking <- read_csv(\"../data/clean_data/smoking_clean.csv\")"
   ]
  },
  {
   "cell_type": "code",
   "execution_count": null,
   "metadata": {},
   "outputs": [],
   "source": [
    "# dim(age_65up)\n",
    "# dim(age_1564)\n",
    "# dim(air_pollution)\n",
    "# dim(medical_bed)\n",
    "# dim(physicians)\n",
    "# dim(nurses_midwives)\n",
    "# dim(population_density)\n",
    "# dim(population_total)\n",
    "# dim(smoking)"
   ]
  },
  {
   "cell_type": "code",
   "execution_count": 6,
   "metadata": {},
   "outputs": [],
   "source": [
    "# combine country statistics datasets into one dataframe\n",
    "df_list <- list(population_total, age_65up, age_1564, air_pollution, medical_bed, \n",
    "                physicians, nurses_midwives, population_density, smoking)\n",
    "country_data <- Reduce(function(left, right) merge(left, right, all = TRUE), df_list)\n",
    "dim(country_data)\n",
    "head(country_data)"
   ]
  },
  {
   "cell_type": "code",
   "execution_count": 253,
   "metadata": {},
   "outputs": [],
   "source": [
    "# make the confirmed and deaths datasets tidy\n",
    "colnames(covid19_confirmed)[2] = \"country\"\n",
    "confirmed <- covid19_confirmed %>%\n",
    "    select(-`Province/State`, -Lat, -Long) %>%\n",
    "    gather(\"date\", \"confirmed\", - country)\n",
    "\n",
    "colnames(covid19_death)[2] = \"country\"\n",
    "death <- covid19_death %>%\n",
    "    select(-`Province/State`, -Lat, -Long) %>%\n",
    "    gather(\"date\", \"death\", - country)\n",
    "\n",
    "# combine confirmed and deaths datasets\n",
    "total <- merge(confirmed, death, by = c(\"country\", \"date\"))\n",
    "\n",
    "# calculates the current confirmed and deaths numbers and\n",
    "# death rate for each country\n",
    "# also caluclate those two indexes:\n",
    "# con_500_ind = days with 1-500 confirmed/days with >1 confirmed\n",
    "# death_100_ind = days with 1-100 deaths/days with >1 deaths\n",
    "covid19 <- total %>%\n",
    "    mutate(date = lubridate::mdy(date)) %>%\n",
    "    group_by(country, date) %>%\n",
    "    summarize(confirmed = sum(confirmed),\n",
    "              death = sum(death)) %>%\n",
    "    group_by(country) %>%\n",
    "    summarize(con_500_ind = sum(confirmed <= 500 & confirmed > 0)/sum(confirmed > 0),\n",
    "              death_100_ind = sum(death <= 100 & confirmed > 0)/sum(confirmed > 0),\n",
    "              confirmed = max(confirmed),\n",
    "              death = max(death),\n",
    "              rate = death/confirmed)\n",
    "\n",
    "dim(covid19)"
   ]
  },
  {
   "cell_type": "code",
   "execution_count": null,
   "metadata": {},
   "outputs": [],
   "source": [
    "# All rate values are valid\n",
    "covid19 %>%\n",
    "    filter(rate >= 1)"
   ]
  },
  {
   "cell_type": "code",
   "execution_count": 221,
   "metadata": {},
   "outputs": [],
   "source": [
    "# get the highest stringency index for each country\n",
    "# and calculate this index:\n",
    "# ind_80 = days with 0-80 stringency index/total days\n",
    "colnames(gov)[1] = \"country\"\n",
    "\n",
    "gov_resp <- gov %>%\n",
    "    mutate(date = lubridate::ymd(Date)) %>%\n",
    "    select(country, date, StringencyIndexForDisplay) %>%\n",
    "    group_by(country) %>%\n",
    "    summarize(ind_80 = sum(StringencyIndexForDisplay <= 80, na.rm = TRUE)/n(),\n",
    "              gov_resp = max(StringencyIndexForDisplay, na.rm = TRUE))\n",
    "\n",
    "dim(gov_resp)"
   ]
  },
  {
   "cell_type": "code",
   "execution_count": null,
   "metadata": {},
   "outputs": [],
   "source": [
    "# some country names in those two datasets don't agree\n",
    "covid19 %>%\n",
    "    filter(!country %in% country_data$country)"
   ]
  },
  {
   "cell_type": "code",
   "execution_count": null,
   "metadata": {},
   "outputs": [],
   "source": [
    "# some country names in those two datasets don't agree\n",
    "gov_resp %>%\n",
    "    filter(!country %in% covid19$country)"
   ]
  },
  {
   "cell_type": "code",
   "execution_count": 222,
   "metadata": {},
   "outputs": [],
   "source": [
    "# fix country names\n",
    "gov_resp <- gov_resp %>%\n",
    "    mutate(country = case_when(country == 'Cape Verde' ~ 'Cabo Verde',\n",
    "                               country == 'Czech Republic' ~ 'Czechia',\n",
    "                               country == 'Democratic Republic of Congo' ~ 'Congo, Dem. Rep.',\n",
    "                               country == 'Slovak Republic' ~ 'Slovakia',\n",
    "                               TRUE ~ country))\n",
    "\n",
    "covid19 <- covid19 %>%\n",
    "    mutate(country = case_when(country == 'Burma' ~ 'Myanmar',\n",
    "                               country == 'Congo (Brazzaville)' ~ 'Congo, Rep.',\n",
    "                               country == 'Congo (Kinshasa)' ~ 'Congo, Dem. Rep.',\n",
    "                               country == 'Korea, South' ~ 'South Korea',\n",
    "                               country == 'Kyrgyzstan' ~ 'Kyrgyz Republic',\n",
    "                               country == 'US' ~ 'United States',\n",
    "                               TRUE ~ country))"
   ]
  },
  {
   "cell_type": "code",
   "execution_count": null,
   "metadata": {},
   "outputs": [],
   "source": [
    "# names not in country_data\n",
    "covid19 %>%\n",
    "    filter(!country %in% country_data$country)"
   ]
  },
  {
   "cell_type": "code",
   "execution_count": null,
   "metadata": {},
   "outputs": [],
   "source": [
    "# names not in country_data\n",
    "gov_resp %>%\n",
    "    filter(!country %in% covid19$country)"
   ]
  },
  {
   "cell_type": "code",
   "execution_count": 266,
   "metadata": {},
   "outputs": [],
   "source": [
    "# combine country_data and covid19\n",
    "data <- merge(country_data, covid19, by = \"country\")\n",
    "\n",
    "# calculate confirmed_rate, which is the percentage of\n",
    "# confirmed in the total population per country\n",
    "data$confirmed_rate <- data$confirmed / data$pop_total\n",
    "dim(data)\n",
    "\n",
    "# add in government response data\n",
    "data_cp <- merge(data, gov_resp, by = \"country\")\n",
    "dim(data_cp)\n",
    "colnames(data_cp)"
   ]
  },
  {
   "cell_type": "code",
   "execution_count": 273,
   "metadata": {},
   "outputs": [],
   "source": [
    "# countries with small confirmed number but high death rate\n",
    "# are removed, since the sample size is relatively small\n",
    "countries <- data_gov %>%\n",
    "    filter(confirmed <= 50, rate > 0.1) %>%\n",
    "    pull(country)\n",
    "\n",
    "# remove columns that won't appear in the analysis\n",
    "df_cp <- data_cp[c(-2, -3, -4, -6, -7, -8, -10, -12, -14, -16, -18, -22, -23)] %>%\n",
    "    filter(!country %in% countries)\n",
    "\n",
    "str(df_cp)\n",
    "summary(df_cp)"
   ]
  },
  {
   "cell_type": "markdown",
   "metadata": {},
   "source": [
    "## 6. Research question\n",
    "\n",
    "**1) Does the portion of the senior (age 65 and up) in the population (population aging) associate with the COVID-19 death rate?**\n",
    "\n",
    "Null hypothesis ($H_0$):\n",
    "\n",
    "> The portion of the senior (age 65 and up) in the population (population aging) is not associated with the COVID-19 death rate.\n",
    "\n",
    "Alternative hypothesis ($H_A$):\n",
    "\n",
    "> The portion of the senior (age 65 and up) in the population (population aging) is associated with the COVID-19 death rate.\n",
    "\n",
    "\n",
    "**2) Does a higher portion of the senior (age 65 and up) in the population (population aging) lead to a higher COVID-19 death rate?**\n",
    "\n",
    "Null hypothesis ($H_0$):\n",
    "\n",
    "> A higher portion of the senior (age 65 and up) in the population (population aging) does not lead to a higher COVID-19 death rate.\n",
    "\n",
    "Alternative hypothesis ($H_A$):\n",
    "\n",
    "> A higher portion of the senior (age 65 and up) in the population (population aging) leads to a higher COVID-19 death rate."
   ]
  },
  {
   "cell_type": "markdown",
   "metadata": {},
   "source": [
    "## 7. Data Analysis & Visualizations"
   ]
  },
  {
   "cell_type": "markdown",
   "metadata": {},
   "source": [
    "#### I. Linear regression"
   ]
  },
  {
   "cell_type": "code",
   "execution_count": 39,
   "metadata": {},
   "outputs": [],
   "source": [
    "#' Report linear regression results\n",
    "#'\n",
    "#' @param model the fitted model to analyze\n",
    "#'\n",
    "#' @return results dataframe\n",
    "analyze_lm <- function(model){\n",
    "    model %>%\n",
    "        broom::tidy() %>%\n",
    "        mutate(p.value.adjust = p.adjust(p.value, method = \"BH\"),\n",
    "               significant = p.value.adjust < 0.05)\n",
    "}"
   ]
  },
  {
   "cell_type": "markdown",
   "metadata": {},
   "source": [
    "1) Check all the potential confounding variables:"
   ]
  },
  {
   "cell_type": "code",
   "execution_count": 279,
   "metadata": {},
   "outputs": [
    {
     "data": {
      "text/html": [
       "<table>\n",
       "<caption>A tibble: 13 × 7</caption>\n",
       "<thead>\n",
       "\t<tr><th scope=col>term</th><th scope=col>estimate</th><th scope=col>std.error</th><th scope=col>statistic</th><th scope=col>p.value</th><th scope=col>p.value.adjust</th><th scope=col>significant</th></tr>\n",
       "\t<tr><th scope=col>&lt;chr&gt;</th><th scope=col>&lt;dbl&gt;</th><th scope=col>&lt;dbl&gt;</th><th scope=col>&lt;dbl&gt;</th><th scope=col>&lt;dbl&gt;</th><th scope=col>&lt;dbl&gt;</th><th scope=col>&lt;lgl&gt;</th></tr>\n",
       "</thead>\n",
       "<tbody>\n",
       "\t<tr><td>(Intercept)    </td><td> 1.112913e-01</td><td>4.544152e-02</td><td> 2.449110533</td><td>1.604303e-02</td><td>0.0417118821</td><td> TRUE</td></tr>\n",
       "\t<tr><td>age_65up       </td><td> 2.380463e-03</td><td>8.222077e-04</td><td> 2.895208636</td><td>4.644213e-03</td><td>0.0201249235</td><td> TRUE</td></tr>\n",
       "\t<tr><td>air_pollution  </td><td> 7.571281e-05</td><td>1.759294e-04</td><td> 0.430359153</td><td>6.678513e-01</td><td>0.7287209024</td><td>FALSE</td></tr>\n",
       "\t<tr><td>med_bed        </td><td>-3.479182e-03</td><td>1.867423e-03</td><td>-1.863093208</td><td>6.535487e-02</td><td>0.1416022105</td><td>FALSE</td></tr>\n",
       "\t<tr><td>physicians     </td><td> 1.280443e-03</td><td>3.021853e-03</td><td> 0.423727700</td><td>6.726654e-01</td><td>0.7287209024</td><td>FALSE</td></tr>\n",
       "\t<tr><td>nurses_midwives</td><td>-8.991690e-04</td><td>1.016058e-03</td><td>-0.884957993</td><td>3.782813e-01</td><td>0.4917656268</td><td>FALSE</td></tr>\n",
       "\t<tr><td>pop_density    </td><td>-3.557032e-06</td><td>3.479480e-06</td><td>-1.022288408</td><td>3.090868e-01</td><td>0.4917656268</td><td>FALSE</td></tr>\n",
       "\t<tr><td>smoking        </td><td>-3.105071e-06</td><td>3.581316e-04</td><td>-0.008670195</td><td>9.930994e-01</td><td>0.9930993745</td><td>FALSE</td></tr>\n",
       "\t<tr><td>con_500_ind    </td><td> 4.394167e-02</td><td>1.725152e-02</td><td> 2.547118974</td><td>1.236990e-02</td><td>0.0402021652</td><td> TRUE</td></tr>\n",
       "\t<tr><td>death_100_ind  </td><td>-8.085629e-02</td><td>1.791749e-02</td><td>-4.512701604</td><td>1.733949e-05</td><td>0.0002254134</td><td> TRUE</td></tr>\n",
       "\t<tr><td>confirmed_rate </td><td> 2.117060e+00</td><td>7.090739e-01</td><td> 2.985668501</td><td>3.550172e-03</td><td>0.0201249235</td><td> TRUE</td></tr>\n",
       "\t<tr><td>ind_80         </td><td>-2.777432e-02</td><td>2.523066e-02</td><td>-1.100816341</td><td>2.735932e-01</td><td>0.4917656268</td><td>FALSE</td></tr>\n",
       "\t<tr><td>gov_resp       </td><td>-2.899158e-04</td><td>3.152020e-04</td><td>-0.919777678</td><td>3.598805e-01</td><td>0.4917656268</td><td>FALSE</td></tr>\n",
       "</tbody>\n",
       "</table>\n"
      ],
      "text/latex": [
       "A tibble: 13 × 7\n",
       "\\begin{tabular}{r|lllllll}\n",
       " term & estimate & std.error & statistic & p.value & p.value.adjust & significant\\\\\n",
       " <chr> & <dbl> & <dbl> & <dbl> & <dbl> & <dbl> & <lgl>\\\\\n",
       "\\hline\n",
       "\t (Intercept)     &  1.112913e-01 & 4.544152e-02 &  2.449110533 & 1.604303e-02 & 0.0417118821 &  TRUE\\\\\n",
       "\t age\\_65up        &  2.380463e-03 & 8.222077e-04 &  2.895208636 & 4.644213e-03 & 0.0201249235 &  TRUE\\\\\n",
       "\t air\\_pollution   &  7.571281e-05 & 1.759294e-04 &  0.430359153 & 6.678513e-01 & 0.7287209024 & FALSE\\\\\n",
       "\t med\\_bed         & -3.479182e-03 & 1.867423e-03 & -1.863093208 & 6.535487e-02 & 0.1416022105 & FALSE\\\\\n",
       "\t physicians      &  1.280443e-03 & 3.021853e-03 &  0.423727700 & 6.726654e-01 & 0.7287209024 & FALSE\\\\\n",
       "\t nurses\\_midwives & -8.991690e-04 & 1.016058e-03 & -0.884957993 & 3.782813e-01 & 0.4917656268 & FALSE\\\\\n",
       "\t pop\\_density     & -3.557032e-06 & 3.479480e-06 & -1.022288408 & 3.090868e-01 & 0.4917656268 & FALSE\\\\\n",
       "\t smoking         & -3.105071e-06 & 3.581316e-04 & -0.008670195 & 9.930994e-01 & 0.9930993745 & FALSE\\\\\n",
       "\t con\\_500\\_ind     &  4.394167e-02 & 1.725152e-02 &  2.547118974 & 1.236990e-02 & 0.0402021652 &  TRUE\\\\\n",
       "\t death\\_100\\_ind   & -8.085629e-02 & 1.791749e-02 & -4.512701604 & 1.733949e-05 & 0.0002254134 &  TRUE\\\\\n",
       "\t confirmed\\_rate  &  2.117060e+00 & 7.090739e-01 &  2.985668501 & 3.550172e-03 & 0.0201249235 &  TRUE\\\\\n",
       "\t ind\\_80          & -2.777432e-02 & 2.523066e-02 & -1.100816341 & 2.735932e-01 & 0.4917656268 & FALSE\\\\\n",
       "\t gov\\_resp        & -2.899158e-04 & 3.152020e-04 & -0.919777678 & 3.598805e-01 & 0.4917656268 & FALSE\\\\\n",
       "\\end{tabular}\n"
      ],
      "text/markdown": [
       "\n",
       "A tibble: 13 × 7\n",
       "\n",
       "| term &lt;chr&gt; | estimate &lt;dbl&gt; | std.error &lt;dbl&gt; | statistic &lt;dbl&gt; | p.value &lt;dbl&gt; | p.value.adjust &lt;dbl&gt; | significant &lt;lgl&gt; |\n",
       "|---|---|---|---|---|---|---|\n",
       "| (Intercept)     |  1.112913e-01 | 4.544152e-02 |  2.449110533 | 1.604303e-02 | 0.0417118821 |  TRUE |\n",
       "| age_65up        |  2.380463e-03 | 8.222077e-04 |  2.895208636 | 4.644213e-03 | 0.0201249235 |  TRUE |\n",
       "| air_pollution   |  7.571281e-05 | 1.759294e-04 |  0.430359153 | 6.678513e-01 | 0.7287209024 | FALSE |\n",
       "| med_bed         | -3.479182e-03 | 1.867423e-03 | -1.863093208 | 6.535487e-02 | 0.1416022105 | FALSE |\n",
       "| physicians      |  1.280443e-03 | 3.021853e-03 |  0.423727700 | 6.726654e-01 | 0.7287209024 | FALSE |\n",
       "| nurses_midwives | -8.991690e-04 | 1.016058e-03 | -0.884957993 | 3.782813e-01 | 0.4917656268 | FALSE |\n",
       "| pop_density     | -3.557032e-06 | 3.479480e-06 | -1.022288408 | 3.090868e-01 | 0.4917656268 | FALSE |\n",
       "| smoking         | -3.105071e-06 | 3.581316e-04 | -0.008670195 | 9.930994e-01 | 0.9930993745 | FALSE |\n",
       "| con_500_ind     |  4.394167e-02 | 1.725152e-02 |  2.547118974 | 1.236990e-02 | 0.0402021652 |  TRUE |\n",
       "| death_100_ind   | -8.085629e-02 | 1.791749e-02 | -4.512701604 | 1.733949e-05 | 0.0002254134 |  TRUE |\n",
       "| confirmed_rate  |  2.117060e+00 | 7.090739e-01 |  2.985668501 | 3.550172e-03 | 0.0201249235 |  TRUE |\n",
       "| ind_80          | -2.777432e-02 | 2.523066e-02 | -1.100816341 | 2.735932e-01 | 0.4917656268 | FALSE |\n",
       "| gov_resp        | -2.899158e-04 | 3.152020e-04 | -0.919777678 | 3.598805e-01 | 0.4917656268 | FALSE |\n",
       "\n"
      ],
      "text/plain": [
       "   term            estimate      std.error    statistic    p.value     \n",
       "1  (Intercept)      1.112913e-01 4.544152e-02  2.449110533 1.604303e-02\n",
       "2  age_65up         2.380463e-03 8.222077e-04  2.895208636 4.644213e-03\n",
       "3  air_pollution    7.571281e-05 1.759294e-04  0.430359153 6.678513e-01\n",
       "4  med_bed         -3.479182e-03 1.867423e-03 -1.863093208 6.535487e-02\n",
       "5  physicians       1.280443e-03 3.021853e-03  0.423727700 6.726654e-01\n",
       "6  nurses_midwives -8.991690e-04 1.016058e-03 -0.884957993 3.782813e-01\n",
       "7  pop_density     -3.557032e-06 3.479480e-06 -1.022288408 3.090868e-01\n",
       "8  smoking         -3.105071e-06 3.581316e-04 -0.008670195 9.930994e-01\n",
       "9  con_500_ind      4.394167e-02 1.725152e-02  2.547118974 1.236990e-02\n",
       "10 death_100_ind   -8.085629e-02 1.791749e-02 -4.512701604 1.733949e-05\n",
       "11 confirmed_rate   2.117060e+00 7.090739e-01  2.985668501 3.550172e-03\n",
       "12 ind_80          -2.777432e-02 2.523066e-02 -1.100816341 2.735932e-01\n",
       "13 gov_resp        -2.899158e-04 3.152020e-04 -0.919777678 3.598805e-01\n",
       "   p.value.adjust significant\n",
       "1  0.0417118821    TRUE      \n",
       "2  0.0201249235    TRUE      \n",
       "3  0.7287209024   FALSE      \n",
       "4  0.1416022105   FALSE      \n",
       "5  0.7287209024   FALSE      \n",
       "6  0.4917656268   FALSE      \n",
       "7  0.4917656268   FALSE      \n",
       "8  0.9930993745   FALSE      \n",
       "9  0.0402021652    TRUE      \n",
       "10 0.0002254134    TRUE      \n",
       "11 0.0201249235    TRUE      \n",
       "12 0.4917656268   FALSE      \n",
       "13 0.4917656268   FALSE      "
      ]
     },
     "metadata": {},
     "output_type": "display_data"
    }
   ],
   "source": [
    "fit <- lm(rate ~ ., df_cp[-1])\n",
    "\n",
    "analyze_lm(fit)"
   ]
  },
  {
   "cell_type": "markdown",
   "metadata": {},
   "source": [
    "> The model fitted with the `df_cp` data frame indicates that no confounder is significant (adjusted p-value < 0.05). The four confounding variables with the lowest adjusted p-values are `death_100_days`, `con_500_days`, `med_bed`, `pop_density`, `nurses_midwives`, and `confirmed_rate`. I'll test those variables individually. Besides, `gov_resp` could be a good potential confounder and I'll test it as well.\n"
   ]
  },
  {
   "cell_type": "code",
   "execution_count": 160,
   "metadata": {},
   "outputs": [
    {
     "data": {
      "text/html": [
       "<ol class=list-inline>\n",
       "\t<li>138</li>\n",
       "\t<li>14</li>\n",
       "</ol>\n"
      ],
      "text/latex": [
       "\\begin{enumerate*}\n",
       "\\item 138\n",
       "\\item 14\n",
       "\\end{enumerate*}\n"
      ],
      "text/markdown": [
       "1. 138\n",
       "2. 14\n",
       "\n",
       "\n"
      ],
      "text/plain": [
       "[1] 138  14"
      ]
     },
     "metadata": {},
     "output_type": "display_data"
    }
   ],
   "source": [
    "dim(df_cp)"
   ]
  },
  {
   "cell_type": "code",
   "execution_count": 281,
   "metadata": {},
   "outputs": [],
   "source": [
    "# prepare the data frame for individual testing\n",
    "df_sub <- df_cp %>%\n",
    "    select(country, rate, age_65up, med_bed, con_500_ind, \n",
    "           death_100_ind, confirmed_rate) %>%\n",
    "    drop_na()"
   ]
  },
  {
   "cell_type": "code",
   "execution_count": 282,
   "metadata": {},
   "outputs": [
    {
     "data": {
      "text/html": [
       "<ol class=list-inline>\n",
       "\t<li>133</li>\n",
       "\t<li>7</li>\n",
       "</ol>\n"
      ],
      "text/latex": [
       "\\begin{enumerate*}\n",
       "\\item 133\n",
       "\\item 7\n",
       "\\end{enumerate*}\n"
      ],
      "text/markdown": [
       "1. 133\n",
       "2. 7\n",
       "\n",
       "\n"
      ],
      "text/plain": [
       "[1] 133   7"
      ]
     },
     "metadata": {},
     "output_type": "display_data"
    }
   ],
   "source": [
    "# 5 observations are removed, which is not too bad\n",
    "dim(df_sub)"
   ]
  },
  {
   "cell_type": "markdown",
   "metadata": {},
   "source": [
    "2) Check selected confounding variables individually"
   ]
  },
  {
   "cell_type": "code",
   "execution_count": 283,
   "metadata": {},
   "outputs": [
    {
     "data": {
      "text/html": [
       "<table>\n",
       "<caption>A tibble: 2 × 7</caption>\n",
       "<thead>\n",
       "\t<tr><th scope=col>term</th><th scope=col>estimate</th><th scope=col>std.error</th><th scope=col>statistic</th><th scope=col>p.value</th><th scope=col>p.value.adjust</th><th scope=col>significant</th></tr>\n",
       "\t<tr><th scope=col>&lt;chr&gt;</th><th scope=col>&lt;dbl&gt;</th><th scope=col>&lt;dbl&gt;</th><th scope=col>&lt;dbl&gt;</th><th scope=col>&lt;dbl&gt;</th><th scope=col>&lt;dbl&gt;</th><th scope=col>&lt;lgl&gt;</th></tr>\n",
       "</thead>\n",
       "<tbody>\n",
       "\t<tr><td>(Intercept)</td><td>0.025876107</td><td>0.0051196900</td><td>5.054233</td><td>1.422655e-06</td><td>2.845309e-06</td><td>TRUE</td></tr>\n",
       "\t<tr><td>age_65up   </td><td>0.001633134</td><td>0.0004471902</td><td>3.651990</td><td>3.749747e-04</td><td>3.749747e-04</td><td>TRUE</td></tr>\n",
       "</tbody>\n",
       "</table>\n"
      ],
      "text/latex": [
       "A tibble: 2 × 7\n",
       "\\begin{tabular}{r|lllllll}\n",
       " term & estimate & std.error & statistic & p.value & p.value.adjust & significant\\\\\n",
       " <chr> & <dbl> & <dbl> & <dbl> & <dbl> & <dbl> & <lgl>\\\\\n",
       "\\hline\n",
       "\t (Intercept) & 0.025876107 & 0.0051196900 & 5.054233 & 1.422655e-06 & 2.845309e-06 & TRUE\\\\\n",
       "\t age\\_65up    & 0.001633134 & 0.0004471902 & 3.651990 & 3.749747e-04 & 3.749747e-04 & TRUE\\\\\n",
       "\\end{tabular}\n"
      ],
      "text/markdown": [
       "\n",
       "A tibble: 2 × 7\n",
       "\n",
       "| term &lt;chr&gt; | estimate &lt;dbl&gt; | std.error &lt;dbl&gt; | statistic &lt;dbl&gt; | p.value &lt;dbl&gt; | p.value.adjust &lt;dbl&gt; | significant &lt;lgl&gt; |\n",
       "|---|---|---|---|---|---|---|\n",
       "| (Intercept) | 0.025876107 | 0.0051196900 | 5.054233 | 1.422655e-06 | 2.845309e-06 | TRUE |\n",
       "| age_65up    | 0.001633134 | 0.0004471902 | 3.651990 | 3.749747e-04 | 3.749747e-04 | TRUE |\n",
       "\n"
      ],
      "text/plain": [
       "  term        estimate    std.error    statistic p.value      p.value.adjust\n",
       "1 (Intercept) 0.025876107 0.0051196900 5.054233  1.422655e-06 2.845309e-06  \n",
       "2 age_65up    0.001633134 0.0004471902 3.651990  3.749747e-04 3.749747e-04  \n",
       "  significant\n",
       "1 TRUE       \n",
       "2 TRUE       "
      ]
     },
     "metadata": {},
     "output_type": "display_data"
    }
   ],
   "source": [
    "# base model\n",
    "base <- lm(rate ~ age_65up, df_sub[-1])\n",
    "\n",
    "analyze_lm(base)"
   ]
  },
  {
   "cell_type": "code",
   "execution_count": 284,
   "metadata": {},
   "outputs": [
    {
     "data": {
      "text/html": [
       "<table>\n",
       "<caption>A tibble: 3 × 7</caption>\n",
       "<thead>\n",
       "\t<tr><th scope=col>term</th><th scope=col>estimate</th><th scope=col>std.error</th><th scope=col>statistic</th><th scope=col>p.value</th><th scope=col>p.value.adjust</th><th scope=col>significant</th></tr>\n",
       "\t<tr><th scope=col>&lt;chr&gt;</th><th scope=col>&lt;dbl&gt;</th><th scope=col>&lt;dbl&gt;</th><th scope=col>&lt;dbl&gt;</th><th scope=col>&lt;dbl&gt;</th><th scope=col>&lt;dbl&gt;</th><th scope=col>&lt;lgl&gt;</th></tr>\n",
       "</thead>\n",
       "<tbody>\n",
       "\t<tr><td>(Intercept)</td><td> 0.029426133</td><td>0.0050754171</td><td> 5.797776</td><td>4.828557e-08</td><td>1.448567e-07</td><td>TRUE</td></tr>\n",
       "\t<tr><td>age_65up   </td><td> 0.002825393</td><td>0.0005726274</td><td> 4.934086</td><td>2.417388e-06</td><td>3.626081e-06</td><td>TRUE</td></tr>\n",
       "\t<tr><td>med_bed    </td><td>-0.004965441</td><td>0.0015632874</td><td>-3.176281</td><td>1.863487e-03</td><td>1.863487e-03</td><td>TRUE</td></tr>\n",
       "</tbody>\n",
       "</table>\n"
      ],
      "text/latex": [
       "A tibble: 3 × 7\n",
       "\\begin{tabular}{r|lllllll}\n",
       " term & estimate & std.error & statistic & p.value & p.value.adjust & significant\\\\\n",
       " <chr> & <dbl> & <dbl> & <dbl> & <dbl> & <dbl> & <lgl>\\\\\n",
       "\\hline\n",
       "\t (Intercept) &  0.029426133 & 0.0050754171 &  5.797776 & 4.828557e-08 & 1.448567e-07 & TRUE\\\\\n",
       "\t age\\_65up    &  0.002825393 & 0.0005726274 &  4.934086 & 2.417388e-06 & 3.626081e-06 & TRUE\\\\\n",
       "\t med\\_bed     & -0.004965441 & 0.0015632874 & -3.176281 & 1.863487e-03 & 1.863487e-03 & TRUE\\\\\n",
       "\\end{tabular}\n"
      ],
      "text/markdown": [
       "\n",
       "A tibble: 3 × 7\n",
       "\n",
       "| term &lt;chr&gt; | estimate &lt;dbl&gt; | std.error &lt;dbl&gt; | statistic &lt;dbl&gt; | p.value &lt;dbl&gt; | p.value.adjust &lt;dbl&gt; | significant &lt;lgl&gt; |\n",
       "|---|---|---|---|---|---|---|\n",
       "| (Intercept) |  0.029426133 | 0.0050754171 |  5.797776 | 4.828557e-08 | 1.448567e-07 | TRUE |\n",
       "| age_65up    |  0.002825393 | 0.0005726274 |  4.934086 | 2.417388e-06 | 3.626081e-06 | TRUE |\n",
       "| med_bed     | -0.004965441 | 0.0015632874 | -3.176281 | 1.863487e-03 | 1.863487e-03 | TRUE |\n",
       "\n"
      ],
      "text/plain": [
       "  term        estimate     std.error    statistic p.value      p.value.adjust\n",
       "1 (Intercept)  0.029426133 0.0050754171  5.797776 4.828557e-08 1.448567e-07  \n",
       "2 age_65up     0.002825393 0.0005726274  4.934086 2.417388e-06 3.626081e-06  \n",
       "3 med_bed     -0.004965441 0.0015632874 -3.176281 1.863487e-03 1.863487e-03  \n",
       "  significant\n",
       "1 TRUE       \n",
       "2 TRUE       \n",
       "3 TRUE       "
      ]
     },
     "metadata": {},
     "output_type": "display_data"
    }
   ],
   "source": [
    "# add med_bed to the base model\n",
    "fit_1 <- lm(rate ~ age_65up + med_bed, df_sub[-1])\n",
    "\n",
    "analyze_lm(fit_1)"
   ]
  },
  {
   "cell_type": "code",
   "execution_count": 285,
   "metadata": {},
   "outputs": [
    {
     "data": {
      "text/html": [
       "<table>\n",
       "<caption>A anova: 2 × 6</caption>\n",
       "<thead>\n",
       "\t<tr><th scope=col>Res.Df</th><th scope=col>RSS</th><th scope=col>Df</th><th scope=col>Sum of Sq</th><th scope=col>F</th><th scope=col>Pr(&gt;F)</th></tr>\n",
       "\t<tr><th scope=col>&lt;dbl&gt;</th><th scope=col>&lt;dbl&gt;</th><th scope=col>&lt;dbl&gt;</th><th scope=col>&lt;dbl&gt;</th><th scope=col>&lt;dbl&gt;</th><th scope=col>&lt;dbl&gt;</th></tr>\n",
       "</thead>\n",
       "<tbody>\n",
       "\t<tr><td>130</td><td>0.1378103</td><td>NA</td><td>         NA</td><td>      NA</td><td>         NA</td></tr>\n",
       "\t<tr><td>131</td><td>0.1485052</td><td>-1</td><td>-0.01069489</td><td>10.08876</td><td>0.001863487</td></tr>\n",
       "</tbody>\n",
       "</table>\n"
      ],
      "text/latex": [
       "A anova: 2 × 6\n",
       "\\begin{tabular}{r|llllll}\n",
       " Res.Df & RSS & Df & Sum of Sq & F & Pr(>F)\\\\\n",
       " <dbl> & <dbl> & <dbl> & <dbl> & <dbl> & <dbl>\\\\\n",
       "\\hline\n",
       "\t 130 & 0.1378103 & NA &          NA &       NA &          NA\\\\\n",
       "\t 131 & 0.1485052 & -1 & -0.01069489 & 10.08876 & 0.001863487\\\\\n",
       "\\end{tabular}\n"
      ],
      "text/markdown": [
       "\n",
       "A anova: 2 × 6\n",
       "\n",
       "| Res.Df &lt;dbl&gt; | RSS &lt;dbl&gt; | Df &lt;dbl&gt; | Sum of Sq &lt;dbl&gt; | F &lt;dbl&gt; | Pr(&gt;F) &lt;dbl&gt; |\n",
       "|---|---|---|---|---|---|\n",
       "| 130 | 0.1378103 | NA |          NA |       NA |          NA |\n",
       "| 131 | 0.1485052 | -1 | -0.01069489 | 10.08876 | 0.001863487 |\n",
       "\n"
      ],
      "text/plain": [
       "  Res.Df RSS       Df Sum of Sq   F        Pr(>F)     \n",
       "1 130    0.1378103 NA          NA       NA          NA\n",
       "2 131    0.1485052 -1 -0.01069489 10.08876 0.001863487"
      ]
     },
     "metadata": {},
     "output_type": "display_data"
    }
   ],
   "source": [
    "anova(fit_1, base)"
   ]
  },
  {
   "cell_type": "markdown",
   "metadata": {},
   "source": [
    "> The model with `med_bed` is significantly (p-value < 0.05) different from the base model. I could add `med_bed` in my final model."
   ]
  },
  {
   "cell_type": "code",
   "execution_count": 286,
   "metadata": {},
   "outputs": [
    {
     "data": {
      "text/html": [
       "<table>\n",
       "<caption>A tibble: 3 × 7</caption>\n",
       "<thead>\n",
       "\t<tr><th scope=col>term</th><th scope=col>estimate</th><th scope=col>std.error</th><th scope=col>statistic</th><th scope=col>p.value</th><th scope=col>p.value.adjust</th><th scope=col>significant</th></tr>\n",
       "\t<tr><th scope=col>&lt;chr&gt;</th><th scope=col>&lt;dbl&gt;</th><th scope=col>&lt;dbl&gt;</th><th scope=col>&lt;dbl&gt;</th><th scope=col>&lt;dbl&gt;</th><th scope=col>&lt;dbl&gt;</th><th scope=col>&lt;lgl&gt;</th></tr>\n",
       "</thead>\n",
       "<tbody>\n",
       "\t<tr><td>(Intercept)</td><td>0.024096912</td><td>0.0120958228</td><td>1.9921681</td><td>0.048447642</td><td>0.072671464</td><td>FALSE</td></tr>\n",
       "\t<tr><td>age_65up   </td><td>0.001684730</td><td>0.0005498261</td><td>3.0641132</td><td>0.002654908</td><td>0.007964723</td><td> TRUE</td></tr>\n",
       "\t<tr><td>con_500_ind</td><td>0.002054273</td><td>0.0126429014</td><td>0.1624843</td><td>0.871176798</td><td>0.871176798</td><td>FALSE</td></tr>\n",
       "</tbody>\n",
       "</table>\n"
      ],
      "text/latex": [
       "A tibble: 3 × 7\n",
       "\\begin{tabular}{r|lllllll}\n",
       " term & estimate & std.error & statistic & p.value & p.value.adjust & significant\\\\\n",
       " <chr> & <dbl> & <dbl> & <dbl> & <dbl> & <dbl> & <lgl>\\\\\n",
       "\\hline\n",
       "\t (Intercept) & 0.024096912 & 0.0120958228 & 1.9921681 & 0.048447642 & 0.072671464 & FALSE\\\\\n",
       "\t age\\_65up    & 0.001684730 & 0.0005498261 & 3.0641132 & 0.002654908 & 0.007964723 &  TRUE\\\\\n",
       "\t con\\_500\\_ind & 0.002054273 & 0.0126429014 & 0.1624843 & 0.871176798 & 0.871176798 & FALSE\\\\\n",
       "\\end{tabular}\n"
      ],
      "text/markdown": [
       "\n",
       "A tibble: 3 × 7\n",
       "\n",
       "| term &lt;chr&gt; | estimate &lt;dbl&gt; | std.error &lt;dbl&gt; | statistic &lt;dbl&gt; | p.value &lt;dbl&gt; | p.value.adjust &lt;dbl&gt; | significant &lt;lgl&gt; |\n",
       "|---|---|---|---|---|---|---|\n",
       "| (Intercept) | 0.024096912 | 0.0120958228 | 1.9921681 | 0.048447642 | 0.072671464 | FALSE |\n",
       "| age_65up    | 0.001684730 | 0.0005498261 | 3.0641132 | 0.002654908 | 0.007964723 |  TRUE |\n",
       "| con_500_ind | 0.002054273 | 0.0126429014 | 0.1624843 | 0.871176798 | 0.871176798 | FALSE |\n",
       "\n"
      ],
      "text/plain": [
       "  term        estimate    std.error    statistic p.value     p.value.adjust\n",
       "1 (Intercept) 0.024096912 0.0120958228 1.9921681 0.048447642 0.072671464   \n",
       "2 age_65up    0.001684730 0.0005498261 3.0641132 0.002654908 0.007964723   \n",
       "3 con_500_ind 0.002054273 0.0126429014 0.1624843 0.871176798 0.871176798   \n",
       "  significant\n",
       "1 FALSE      \n",
       "2  TRUE      \n",
       "3 FALSE      "
      ]
     },
     "metadata": {},
     "output_type": "display_data"
    }
   ],
   "source": [
    "# add con_100_days to the base model\n",
    "fit_2 <- lm(rate ~ age_65up + con_500_ind, df_sub[-1])\n",
    "\n",
    "analyze_lm(fit_2)"
   ]
  },
  {
   "cell_type": "code",
   "execution_count": 287,
   "metadata": {},
   "outputs": [
    {
     "data": {
      "text/html": [
       "<table>\n",
       "<caption>A anova: 2 × 6</caption>\n",
       "<thead>\n",
       "\t<tr><th scope=col>Res.Df</th><th scope=col>RSS</th><th scope=col>Df</th><th scope=col>Sum of Sq</th><th scope=col>F</th><th scope=col>Pr(&gt;F)</th></tr>\n",
       "\t<tr><th scope=col>&lt;dbl&gt;</th><th scope=col>&lt;dbl&gt;</th><th scope=col>&lt;dbl&gt;</th><th scope=col>&lt;dbl&gt;</th><th scope=col>&lt;dbl&gt;</th><th scope=col>&lt;dbl&gt;</th></tr>\n",
       "</thead>\n",
       "<tbody>\n",
       "\t<tr><td>130</td><td>0.1484750</td><td>NA</td><td>           NA</td><td>        NA</td><td>       NA</td></tr>\n",
       "\t<tr><td>131</td><td>0.1485052</td><td>-1</td><td>-3.015316e-05</td><td>0.02640114</td><td>0.8711768</td></tr>\n",
       "</tbody>\n",
       "</table>\n"
      ],
      "text/latex": [
       "A anova: 2 × 6\n",
       "\\begin{tabular}{r|llllll}\n",
       " Res.Df & RSS & Df & Sum of Sq & F & Pr(>F)\\\\\n",
       " <dbl> & <dbl> & <dbl> & <dbl> & <dbl> & <dbl>\\\\\n",
       "\\hline\n",
       "\t 130 & 0.1484750 & NA &            NA &         NA &        NA\\\\\n",
       "\t 131 & 0.1485052 & -1 & -3.015316e-05 & 0.02640114 & 0.8711768\\\\\n",
       "\\end{tabular}\n"
      ],
      "text/markdown": [
       "\n",
       "A anova: 2 × 6\n",
       "\n",
       "| Res.Df &lt;dbl&gt; | RSS &lt;dbl&gt; | Df &lt;dbl&gt; | Sum of Sq &lt;dbl&gt; | F &lt;dbl&gt; | Pr(&gt;F) &lt;dbl&gt; |\n",
       "|---|---|---|---|---|---|\n",
       "| 130 | 0.1484750 | NA |            NA |         NA |        NA |\n",
       "| 131 | 0.1485052 | -1 | -3.015316e-05 | 0.02640114 | 0.8711768 |\n",
       "\n"
      ],
      "text/plain": [
       "  Res.Df RSS       Df Sum of Sq     F          Pr(>F)   \n",
       "1 130    0.1484750 NA            NA         NA        NA\n",
       "2 131    0.1485052 -1 -3.015316e-05 0.02640114 0.8711768"
      ]
     },
     "metadata": {},
     "output_type": "display_data"
    }
   ],
   "source": [
    "anova(fit_2, base)"
   ]
  },
  {
   "cell_type": "markdown",
   "metadata": {},
   "source": [
    "> The model with `con_100_days` is not significantly (p-value < 0.05) different from the base model. I would not add `con_100_days` in my final model."
   ]
  },
  {
   "cell_type": "code",
   "execution_count": 288,
   "metadata": {},
   "outputs": [
    {
     "data": {
      "text/html": [
       "<table>\n",
       "<caption>A tibble: 3 × 7</caption>\n",
       "<thead>\n",
       "\t<tr><th scope=col>term</th><th scope=col>estimate</th><th scope=col>std.error</th><th scope=col>statistic</th><th scope=col>p.value</th><th scope=col>p.value.adjust</th><th scope=col>significant</th></tr>\n",
       "\t<tr><th scope=col>&lt;chr&gt;</th><th scope=col>&lt;dbl&gt;</th><th scope=col>&lt;dbl&gt;</th><th scope=col>&lt;dbl&gt;</th><th scope=col>&lt;dbl&gt;</th><th scope=col>&lt;dbl&gt;</th><th scope=col>&lt;lgl&gt;</th></tr>\n",
       "</thead>\n",
       "<tbody>\n",
       "\t<tr><td>(Intercept)  </td><td> 0.0872230199</td><td>0.0146054488</td><td> 5.971951</td><td>2.102888e-08</td><td>6.308665e-08</td><td> TRUE</td></tr>\n",
       "\t<tr><td>age_65up     </td><td> 0.0006156886</td><td>0.0004767503</td><td> 1.291428</td><td>1.988469e-01</td><td>1.988469e-01</td><td>FALSE</td></tr>\n",
       "\t<tr><td>death_100_ind</td><td>-0.0614350219</td><td>0.0138180911</td><td>-4.445985</td><td>1.856587e-05</td><td>2.784880e-05</td><td> TRUE</td></tr>\n",
       "</tbody>\n",
       "</table>\n"
      ],
      "text/latex": [
       "A tibble: 3 × 7\n",
       "\\begin{tabular}{r|lllllll}\n",
       " term & estimate & std.error & statistic & p.value & p.value.adjust & significant\\\\\n",
       " <chr> & <dbl> & <dbl> & <dbl> & <dbl> & <dbl> & <lgl>\\\\\n",
       "\\hline\n",
       "\t (Intercept)   &  0.0872230199 & 0.0146054488 &  5.971951 & 2.102888e-08 & 6.308665e-08 &  TRUE\\\\\n",
       "\t age\\_65up      &  0.0006156886 & 0.0004767503 &  1.291428 & 1.988469e-01 & 1.988469e-01 & FALSE\\\\\n",
       "\t death\\_100\\_ind & -0.0614350219 & 0.0138180911 & -4.445985 & 1.856587e-05 & 2.784880e-05 &  TRUE\\\\\n",
       "\\end{tabular}\n"
      ],
      "text/markdown": [
       "\n",
       "A tibble: 3 × 7\n",
       "\n",
       "| term &lt;chr&gt; | estimate &lt;dbl&gt; | std.error &lt;dbl&gt; | statistic &lt;dbl&gt; | p.value &lt;dbl&gt; | p.value.adjust &lt;dbl&gt; | significant &lt;lgl&gt; |\n",
       "|---|---|---|---|---|---|---|\n",
       "| (Intercept)   |  0.0872230199 | 0.0146054488 |  5.971951 | 2.102888e-08 | 6.308665e-08 |  TRUE |\n",
       "| age_65up      |  0.0006156886 | 0.0004767503 |  1.291428 | 1.988469e-01 | 1.988469e-01 | FALSE |\n",
       "| death_100_ind | -0.0614350219 | 0.0138180911 | -4.445985 | 1.856587e-05 | 2.784880e-05 |  TRUE |\n",
       "\n"
      ],
      "text/plain": [
       "  term          estimate      std.error    statistic p.value     \n",
       "1 (Intercept)    0.0872230199 0.0146054488  5.971951 2.102888e-08\n",
       "2 age_65up       0.0006156886 0.0004767503  1.291428 1.988469e-01\n",
       "3 death_100_ind -0.0614350219 0.0138180911 -4.445985 1.856587e-05\n",
       "  p.value.adjust significant\n",
       "1 6.308665e-08    TRUE      \n",
       "2 1.988469e-01   FALSE      \n",
       "3 2.784880e-05    TRUE      "
      ]
     },
     "metadata": {},
     "output_type": "display_data"
    }
   ],
   "source": [
    "# add death_100_days to the base model\n",
    "fit_3 <- lm(rate ~ age_65up + death_100_ind, df_sub[-1])\n",
    "\n",
    "analyze_lm(fit_3)"
   ]
  },
  {
   "cell_type": "code",
   "execution_count": 289,
   "metadata": {},
   "outputs": [
    {
     "data": {
      "text/html": [
       "<table>\n",
       "<caption>A anova: 2 × 6</caption>\n",
       "<thead>\n",
       "\t<tr><th scope=col>Res.Df</th><th scope=col>RSS</th><th scope=col>Df</th><th scope=col>Sum of Sq</th><th scope=col>F</th><th scope=col>Pr(&gt;F)</th></tr>\n",
       "\t<tr><th scope=col>&lt;dbl&gt;</th><th scope=col>&lt;dbl&gt;</th><th scope=col>&lt;dbl&gt;</th><th scope=col>&lt;dbl&gt;</th><th scope=col>&lt;dbl&gt;</th><th scope=col>&lt;dbl&gt;</th></tr>\n",
       "</thead>\n",
       "<tbody>\n",
       "\t<tr><td>130</td><td>0.1289049</td><td>NA</td><td>         NA</td><td>      NA</td><td>          NA</td></tr>\n",
       "\t<tr><td>131</td><td>0.1485052</td><td>-1</td><td>-0.01960027</td><td>19.76678</td><td>1.856587e-05</td></tr>\n",
       "</tbody>\n",
       "</table>\n"
      ],
      "text/latex": [
       "A anova: 2 × 6\n",
       "\\begin{tabular}{r|llllll}\n",
       " Res.Df & RSS & Df & Sum of Sq & F & Pr(>F)\\\\\n",
       " <dbl> & <dbl> & <dbl> & <dbl> & <dbl> & <dbl>\\\\\n",
       "\\hline\n",
       "\t 130 & 0.1289049 & NA &          NA &       NA &           NA\\\\\n",
       "\t 131 & 0.1485052 & -1 & -0.01960027 & 19.76678 & 1.856587e-05\\\\\n",
       "\\end{tabular}\n"
      ],
      "text/markdown": [
       "\n",
       "A anova: 2 × 6\n",
       "\n",
       "| Res.Df &lt;dbl&gt; | RSS &lt;dbl&gt; | Df &lt;dbl&gt; | Sum of Sq &lt;dbl&gt; | F &lt;dbl&gt; | Pr(&gt;F) &lt;dbl&gt; |\n",
       "|---|---|---|---|---|---|\n",
       "| 130 | 0.1289049 | NA |          NA |       NA |           NA |\n",
       "| 131 | 0.1485052 | -1 | -0.01960027 | 19.76678 | 1.856587e-05 |\n",
       "\n"
      ],
      "text/plain": [
       "  Res.Df RSS       Df Sum of Sq   F        Pr(>F)      \n",
       "1 130    0.1289049 NA          NA       NA           NA\n",
       "2 131    0.1485052 -1 -0.01960027 19.76678 1.856587e-05"
      ]
     },
     "metadata": {},
     "output_type": "display_data"
    }
   ],
   "source": [
    "anova(fit_3, base)"
   ]
  },
  {
   "cell_type": "markdown",
   "metadata": {},
   "source": [
    "> The model with `confirmed_rate` is not significantly (p-value < 0.05) different from the base model. I would not add `confirmed_rate` in my final model."
   ]
  },
  {
   "cell_type": "code",
   "execution_count": 290,
   "metadata": {},
   "outputs": [
    {
     "data": {
      "text/html": [
       "<table>\n",
       "<caption>A tibble: 3 × 7</caption>\n",
       "<thead>\n",
       "\t<tr><th scope=col>term</th><th scope=col>estimate</th><th scope=col>std.error</th><th scope=col>statistic</th><th scope=col>p.value</th><th scope=col>p.value.adjust</th><th scope=col>significant</th></tr>\n",
       "\t<tr><th scope=col>&lt;chr&gt;</th><th scope=col>&lt;dbl&gt;</th><th scope=col>&lt;dbl&gt;</th><th scope=col>&lt;dbl&gt;</th><th scope=col>&lt;dbl&gt;</th><th scope=col>&lt;dbl&gt;</th><th scope=col>&lt;lgl&gt;</th></tr>\n",
       "</thead>\n",
       "<tbody>\n",
       "\t<tr><td>(Intercept)   </td><td>0.028032830</td><td>0.0048508933</td><td>5.778901</td><td>5.279558e-08</td><td>1.583867e-07</td><td>TRUE</td></tr>\n",
       "\t<tr><td>age_65up      </td><td>0.000956591</td><td>0.0004511644</td><td>2.120272</td><td>3.588313e-02</td><td>3.588313e-02</td><td>TRUE</td></tr>\n",
       "\t<tr><td>confirmed_rate</td><td>3.024409692</td><td>0.7213341437</td><td>4.192800</td><td>5.059536e-05</td><td>7.589303e-05</td><td>TRUE</td></tr>\n",
       "</tbody>\n",
       "</table>\n"
      ],
      "text/latex": [
       "A tibble: 3 × 7\n",
       "\\begin{tabular}{r|lllllll}\n",
       " term & estimate & std.error & statistic & p.value & p.value.adjust & significant\\\\\n",
       " <chr> & <dbl> & <dbl> & <dbl> & <dbl> & <dbl> & <lgl>\\\\\n",
       "\\hline\n",
       "\t (Intercept)    & 0.028032830 & 0.0048508933 & 5.778901 & 5.279558e-08 & 1.583867e-07 & TRUE\\\\\n",
       "\t age\\_65up       & 0.000956591 & 0.0004511644 & 2.120272 & 3.588313e-02 & 3.588313e-02 & TRUE\\\\\n",
       "\t confirmed\\_rate & 3.024409692 & 0.7213341437 & 4.192800 & 5.059536e-05 & 7.589303e-05 & TRUE\\\\\n",
       "\\end{tabular}\n"
      ],
      "text/markdown": [
       "\n",
       "A tibble: 3 × 7\n",
       "\n",
       "| term &lt;chr&gt; | estimate &lt;dbl&gt; | std.error &lt;dbl&gt; | statistic &lt;dbl&gt; | p.value &lt;dbl&gt; | p.value.adjust &lt;dbl&gt; | significant &lt;lgl&gt; |\n",
       "|---|---|---|---|---|---|---|\n",
       "| (Intercept)    | 0.028032830 | 0.0048508933 | 5.778901 | 5.279558e-08 | 1.583867e-07 | TRUE |\n",
       "| age_65up       | 0.000956591 | 0.0004511644 | 2.120272 | 3.588313e-02 | 3.588313e-02 | TRUE |\n",
       "| confirmed_rate | 3.024409692 | 0.7213341437 | 4.192800 | 5.059536e-05 | 7.589303e-05 | TRUE |\n",
       "\n"
      ],
      "text/plain": [
       "  term           estimate    std.error    statistic p.value      p.value.adjust\n",
       "1 (Intercept)    0.028032830 0.0048508933 5.778901  5.279558e-08 1.583867e-07  \n",
       "2 age_65up       0.000956591 0.0004511644 2.120272  3.588313e-02 3.588313e-02  \n",
       "3 confirmed_rate 3.024409692 0.7213341437 4.192800  5.059536e-05 7.589303e-05  \n",
       "  significant\n",
       "1 TRUE       \n",
       "2 TRUE       \n",
       "3 TRUE       "
      ]
     },
     "metadata": {},
     "output_type": "display_data"
    }
   ],
   "source": [
    "# add ind_80_days to the base model\n",
    "fit_4 <- lm(rate ~ age_65up + confirmed_rate, df_sub[-1])\n",
    "\n",
    "analyze_lm(fit_4)"
   ]
  },
  {
   "cell_type": "code",
   "execution_count": 291,
   "metadata": {},
   "outputs": [
    {
     "data": {
      "text/html": [
       "<table>\n",
       "<caption>A anova: 2 × 6</caption>\n",
       "<thead>\n",
       "\t<tr><th scope=col>Res.Df</th><th scope=col>RSS</th><th scope=col>Df</th><th scope=col>Sum of Sq</th><th scope=col>F</th><th scope=col>Pr(&gt;F)</th></tr>\n",
       "\t<tr><th scope=col>&lt;dbl&gt;</th><th scope=col>&lt;dbl&gt;</th><th scope=col>&lt;dbl&gt;</th><th scope=col>&lt;dbl&gt;</th><th scope=col>&lt;dbl&gt;</th><th scope=col>&lt;dbl&gt;</th></tr>\n",
       "</thead>\n",
       "<tbody>\n",
       "\t<tr><td>130</td><td>0.1308154</td><td>NA</td><td>         NA</td><td>      NA</td><td>          NA</td></tr>\n",
       "\t<tr><td>131</td><td>0.1485052</td><td>-1</td><td>-0.01768983</td><td>17.57957</td><td>5.059536e-05</td></tr>\n",
       "</tbody>\n",
       "</table>\n"
      ],
      "text/latex": [
       "A anova: 2 × 6\n",
       "\\begin{tabular}{r|llllll}\n",
       " Res.Df & RSS & Df & Sum of Sq & F & Pr(>F)\\\\\n",
       " <dbl> & <dbl> & <dbl> & <dbl> & <dbl> & <dbl>\\\\\n",
       "\\hline\n",
       "\t 130 & 0.1308154 & NA &          NA &       NA &           NA\\\\\n",
       "\t 131 & 0.1485052 & -1 & -0.01768983 & 17.57957 & 5.059536e-05\\\\\n",
       "\\end{tabular}\n"
      ],
      "text/markdown": [
       "\n",
       "A anova: 2 × 6\n",
       "\n",
       "| Res.Df &lt;dbl&gt; | RSS &lt;dbl&gt; | Df &lt;dbl&gt; | Sum of Sq &lt;dbl&gt; | F &lt;dbl&gt; | Pr(&gt;F) &lt;dbl&gt; |\n",
       "|---|---|---|---|---|---|\n",
       "| 130 | 0.1308154 | NA |          NA |       NA |           NA |\n",
       "| 131 | 0.1485052 | -1 | -0.01768983 | 17.57957 | 5.059536e-05 |\n",
       "\n"
      ],
      "text/plain": [
       "  Res.Df RSS       Df Sum of Sq   F        Pr(>F)      \n",
       "1 130    0.1308154 NA          NA       NA           NA\n",
       "2 131    0.1485052 -1 -0.01768983 17.57957 5.059536e-05"
      ]
     },
     "metadata": {},
     "output_type": "display_data"
    }
   ],
   "source": [
    "anova(fit_4, base)"
   ]
  },
  {
   "cell_type": "markdown",
   "metadata": {},
   "source": [
    "> The model with `gov_resp` is significantly (p-value < 0.05) different from the base model. I would not add `gov_resp` in my final model."
   ]
  },
  {
   "cell_type": "code",
   "execution_count": 292,
   "metadata": {},
   "outputs": [
    {
     "data": {
      "text/html": [
       "<table>\n",
       "<caption>A tibble: 4 × 7</caption>\n",
       "<thead>\n",
       "\t<tr><th scope=col>term</th><th scope=col>estimate</th><th scope=col>std.error</th><th scope=col>statistic</th><th scope=col>p.value</th><th scope=col>p.value.adjust</th><th scope=col>significant</th></tr>\n",
       "\t<tr><th scope=col>&lt;chr&gt;</th><th scope=col>&lt;dbl&gt;</th><th scope=col>&lt;dbl&gt;</th><th scope=col>&lt;dbl&gt;</th><th scope=col>&lt;dbl&gt;</th><th scope=col>&lt;dbl&gt;</th><th scope=col>&lt;lgl&gt;</th></tr>\n",
       "</thead>\n",
       "<tbody>\n",
       "\t<tr><td>(Intercept)   </td><td> 0.076382785</td><td>0.0145066780</td><td> 5.2653533</td><td>5.681769e-07</td><td>2.272707e-06</td><td> TRUE</td></tr>\n",
       "\t<tr><td>age_65up      </td><td> 0.000305147</td><td>0.0004705723</td><td> 0.6484593</td><td>5.178406e-01</td><td>5.178406e-01</td><td>FALSE</td></tr>\n",
       "\t<tr><td>confirmed_rate</td><td> 2.314317011</td><td>0.7205277708</td><td> 3.2119748</td><td>1.664644e-03</td><td>2.219525e-03</td><td> TRUE</td></tr>\n",
       "\t<tr><td>death_100_ind </td><td>-0.048926495</td><td>0.0139045492</td><td>-3.5187401</td><td>5.995320e-04</td><td>1.199064e-03</td><td> TRUE</td></tr>\n",
       "</tbody>\n",
       "</table>\n"
      ],
      "text/latex": [
       "A tibble: 4 × 7\n",
       "\\begin{tabular}{r|lllllll}\n",
       " term & estimate & std.error & statistic & p.value & p.value.adjust & significant\\\\\n",
       " <chr> & <dbl> & <dbl> & <dbl> & <dbl> & <dbl> & <lgl>\\\\\n",
       "\\hline\n",
       "\t (Intercept)    &  0.076382785 & 0.0145066780 &  5.2653533 & 5.681769e-07 & 2.272707e-06 &  TRUE\\\\\n",
       "\t age\\_65up       &  0.000305147 & 0.0004705723 &  0.6484593 & 5.178406e-01 & 5.178406e-01 & FALSE\\\\\n",
       "\t confirmed\\_rate &  2.314317011 & 0.7205277708 &  3.2119748 & 1.664644e-03 & 2.219525e-03 &  TRUE\\\\\n",
       "\t death\\_100\\_ind  & -0.048926495 & 0.0139045492 & -3.5187401 & 5.995320e-04 & 1.199064e-03 &  TRUE\\\\\n",
       "\\end{tabular}\n"
      ],
      "text/markdown": [
       "\n",
       "A tibble: 4 × 7\n",
       "\n",
       "| term &lt;chr&gt; | estimate &lt;dbl&gt; | std.error &lt;dbl&gt; | statistic &lt;dbl&gt; | p.value &lt;dbl&gt; | p.value.adjust &lt;dbl&gt; | significant &lt;lgl&gt; |\n",
       "|---|---|---|---|---|---|---|\n",
       "| (Intercept)    |  0.076382785 | 0.0145066780 |  5.2653533 | 5.681769e-07 | 2.272707e-06 |  TRUE |\n",
       "| age_65up       |  0.000305147 | 0.0004705723 |  0.6484593 | 5.178406e-01 | 5.178406e-01 | FALSE |\n",
       "| confirmed_rate |  2.314317011 | 0.7205277708 |  3.2119748 | 1.664644e-03 | 2.219525e-03 |  TRUE |\n",
       "| death_100_ind  | -0.048926495 | 0.0139045492 | -3.5187401 | 5.995320e-04 | 1.199064e-03 |  TRUE |\n",
       "\n"
      ],
      "text/plain": [
       "  term           estimate     std.error    statistic  p.value     \n",
       "1 (Intercept)     0.076382785 0.0145066780  5.2653533 5.681769e-07\n",
       "2 age_65up        0.000305147 0.0004705723  0.6484593 5.178406e-01\n",
       "3 confirmed_rate  2.314317011 0.7205277708  3.2119748 1.664644e-03\n",
       "4 death_100_ind  -0.048926495 0.0139045492 -3.5187401 5.995320e-04\n",
       "  p.value.adjust significant\n",
       "1 2.272707e-06    TRUE      \n",
       "2 5.178406e-01   FALSE      \n",
       "3 2.219525e-03    TRUE      \n",
       "4 1.199064e-03    TRUE      "
      ]
     },
     "metadata": {},
     "output_type": "display_data"
    }
   ],
   "source": [
    "# add med_bed and gov_resp to the base model\n",
    "fit_5 <- lm(rate ~ age_65up + confirmed_rate + death_100_ind, df_sub[-1])\n",
    "\n",
    "analyze_lm(fit_5)"
   ]
  },
  {
   "cell_type": "code",
   "execution_count": 175,
   "metadata": {},
   "outputs": [
    {
     "data": {
      "text/html": [
       "<table>\n",
       "<caption>A tibble: 2 × 7</caption>\n",
       "<thead>\n",
       "\t<tr><th scope=col>term</th><th scope=col>estimate</th><th scope=col>std.error</th><th scope=col>statistic</th><th scope=col>p.value</th><th scope=col>p.value.adjust</th><th scope=col>significant</th></tr>\n",
       "\t<tr><th scope=col>&lt;chr&gt;</th><th scope=col>&lt;dbl&gt;</th><th scope=col>&lt;dbl&gt;</th><th scope=col>&lt;dbl&gt;</th><th scope=col>&lt;dbl&gt;</th><th scope=col>&lt;dbl&gt;</th><th scope=col>&lt;lgl&gt;</th></tr>\n",
       "</thead>\n",
       "<tbody>\n",
       "\t<tr><td>(Intercept)   </td><td>0.030144427</td><td>0.003196261</td><td>9.431154</td><td>1.967277e-16</td><td>3.934553e-16</td><td>TRUE</td></tr>\n",
       "\t<tr><td>death_100_days</td><td>0.001013099</td><td>0.000159284</td><td>6.360331</td><td>3.095252e-09</td><td>3.095252e-09</td><td>TRUE</td></tr>\n",
       "</tbody>\n",
       "</table>\n"
      ],
      "text/latex": [
       "A tibble: 2 × 7\n",
       "\\begin{tabular}{r|lllllll}\n",
       " term & estimate & std.error & statistic & p.value & p.value.adjust & significant\\\\\n",
       " <chr> & <dbl> & <dbl> & <dbl> & <dbl> & <dbl> & <lgl>\\\\\n",
       "\\hline\n",
       "\t (Intercept)    & 0.030144427 & 0.003196261 & 9.431154 & 1.967277e-16 & 3.934553e-16 & TRUE\\\\\n",
       "\t death\\_100\\_days & 0.001013099 & 0.000159284 & 6.360331 & 3.095252e-09 & 3.095252e-09 & TRUE\\\\\n",
       "\\end{tabular}\n"
      ],
      "text/markdown": [
       "\n",
       "A tibble: 2 × 7\n",
       "\n",
       "| term &lt;chr&gt; | estimate &lt;dbl&gt; | std.error &lt;dbl&gt; | statistic &lt;dbl&gt; | p.value &lt;dbl&gt; | p.value.adjust &lt;dbl&gt; | significant &lt;lgl&gt; |\n",
       "|---|---|---|---|---|---|---|\n",
       "| (Intercept)    | 0.030144427 | 0.003196261 | 9.431154 | 1.967277e-16 | 3.934553e-16 | TRUE |\n",
       "| death_100_days | 0.001013099 | 0.000159284 | 6.360331 | 3.095252e-09 | 3.095252e-09 | TRUE |\n",
       "\n"
      ],
      "text/plain": [
       "  term           estimate    std.error   statistic p.value      p.value.adjust\n",
       "1 (Intercept)    0.030144427 0.003196261 9.431154  1.967277e-16 3.934553e-16  \n",
       "2 death_100_days 0.001013099 0.000159284 6.360331  3.095252e-09 3.095252e-09  \n",
       "  significant\n",
       "1 TRUE       \n",
       "2 TRUE       "
      ]
     },
     "metadata": {},
     "output_type": "display_data"
    }
   ],
   "source": [
    "# add med_bed and gov_resp to the base model\n",
    "fit_6 <- lm(rate ~ death_100_days, df_sub[-1])\n",
    "\n",
    "analyze_lm(fit_6)"
   ]
  },
  {
   "cell_type": "code",
   "execution_count": 76,
   "metadata": {},
   "outputs": [
    {
     "data": {
      "text/html": [
       "<table>\n",
       "<caption>A anova: 2 × 6</caption>\n",
       "<thead>\n",
       "\t<tr><th scope=col>Res.Df</th><th scope=col>RSS</th><th scope=col>Df</th><th scope=col>Sum of Sq</th><th scope=col>F</th><th scope=col>Pr(&gt;F)</th></tr>\n",
       "\t<tr><th scope=col>&lt;dbl&gt;</th><th scope=col>&lt;dbl&gt;</th><th scope=col>&lt;dbl&gt;</th><th scope=col>&lt;dbl&gt;</th><th scope=col>&lt;dbl&gt;</th><th scope=col>&lt;dbl&gt;</th></tr>\n",
       "</thead>\n",
       "<tbody>\n",
       "\t<tr><td>132</td><td>0.1597570</td><td>NA</td><td>         NA</td><td>      NA</td><td>          NA</td></tr>\n",
       "\t<tr><td>134</td><td>0.1943018</td><td>-2</td><td>-0.03454486</td><td>14.27143</td><td>2.448355e-06</td></tr>\n",
       "</tbody>\n",
       "</table>\n"
      ],
      "text/latex": [
       "A anova: 2 × 6\n",
       "\\begin{tabular}{r|llllll}\n",
       " Res.Df & RSS & Df & Sum of Sq & F & Pr(>F)\\\\\n",
       " <dbl> & <dbl> & <dbl> & <dbl> & <dbl> & <dbl>\\\\\n",
       "\\hline\n",
       "\t 132 & 0.1597570 & NA &          NA &       NA &           NA\\\\\n",
       "\t 134 & 0.1943018 & -2 & -0.03454486 & 14.27143 & 2.448355e-06\\\\\n",
       "\\end{tabular}\n"
      ],
      "text/markdown": [
       "\n",
       "A anova: 2 × 6\n",
       "\n",
       "| Res.Df &lt;dbl&gt; | RSS &lt;dbl&gt; | Df &lt;dbl&gt; | Sum of Sq &lt;dbl&gt; | F &lt;dbl&gt; | Pr(&gt;F) &lt;dbl&gt; |\n",
       "|---|---|---|---|---|---|\n",
       "| 132 | 0.1597570 | NA |          NA |       NA |           NA |\n",
       "| 134 | 0.1943018 | -2 | -0.03454486 | 14.27143 | 2.448355e-06 |\n",
       "\n"
      ],
      "text/plain": [
       "  Res.Df RSS       Df Sum of Sq   F        Pr(>F)      \n",
       "1 132    0.1597570 NA          NA       NA           NA\n",
       "2 134    0.1943018 -2 -0.03454486 14.27143 2.448355e-06"
      ]
     },
     "metadata": {},
     "output_type": "display_data"
    }
   ],
   "source": [
    "anova(fit_5, base)"
   ]
  },
  {
   "cell_type": "code",
   "execution_count": 77,
   "metadata": {},
   "outputs": [
    {
     "data": {
      "text/html": [
       "<table>\n",
       "<caption>A anova: 2 × 6</caption>\n",
       "<thead>\n",
       "\t<tr><th scope=col>Res.Df</th><th scope=col>RSS</th><th scope=col>Df</th><th scope=col>Sum of Sq</th><th scope=col>F</th><th scope=col>Pr(&gt;F)</th></tr>\n",
       "\t<tr><th scope=col>&lt;dbl&gt;</th><th scope=col>&lt;dbl&gt;</th><th scope=col>&lt;dbl&gt;</th><th scope=col>&lt;dbl&gt;</th><th scope=col>&lt;dbl&gt;</th><th scope=col>&lt;dbl&gt;</th></tr>\n",
       "</thead>\n",
       "<tbody>\n",
       "\t<tr><td>132</td><td>0.1597570</td><td>NA</td><td>         NA</td><td>      NA</td><td>          NA</td></tr>\n",
       "\t<tr><td>133</td><td>0.1942768</td><td>-1</td><td>-0.03451978</td><td>28.52214</td><td>3.932617e-07</td></tr>\n",
       "</tbody>\n",
       "</table>\n"
      ],
      "text/latex": [
       "A anova: 2 × 6\n",
       "\\begin{tabular}{r|llllll}\n",
       " Res.Df & RSS & Df & Sum of Sq & F & Pr(>F)\\\\\n",
       " <dbl> & <dbl> & <dbl> & <dbl> & <dbl> & <dbl>\\\\\n",
       "\\hline\n",
       "\t 132 & 0.1597570 & NA &          NA &       NA &           NA\\\\\n",
       "\t 133 & 0.1942768 & -1 & -0.03451978 & 28.52214 & 3.932617e-07\\\\\n",
       "\\end{tabular}\n"
      ],
      "text/markdown": [
       "\n",
       "A anova: 2 × 6\n",
       "\n",
       "| Res.Df &lt;dbl&gt; | RSS &lt;dbl&gt; | Df &lt;dbl&gt; | Sum of Sq &lt;dbl&gt; | F &lt;dbl&gt; | Pr(&gt;F) &lt;dbl&gt; |\n",
       "|---|---|---|---|---|---|\n",
       "| 132 | 0.1597570 | NA |          NA |       NA |           NA |\n",
       "| 133 | 0.1942768 | -1 | -0.03451978 | 28.52214 | 3.932617e-07 |\n",
       "\n"
      ],
      "text/plain": [
       "  Res.Df RSS       Df Sum of Sq   F        Pr(>F)      \n",
       "1 132    0.1597570 NA          NA       NA           NA\n",
       "2 133    0.1942768 -1 -0.03451978 28.52214 3.932617e-07"
      ]
     },
     "metadata": {},
     "output_type": "display_data"
    }
   ],
   "source": [
    "anova(fit_5, fit_2)"
   ]
  },
  {
   "cell_type": "code",
   "execution_count": 78,
   "metadata": {},
   "outputs": [
    {
     "data": {
      "text/html": [
       "<table>\n",
       "<caption>A anova: 2 × 6</caption>\n",
       "<thead>\n",
       "\t<tr><th scope=col>Res.Df</th><th scope=col>RSS</th><th scope=col>Df</th><th scope=col>Sum of Sq</th><th scope=col>F</th><th scope=col>Pr(&gt;F)</th></tr>\n",
       "\t<tr><th scope=col>&lt;dbl&gt;</th><th scope=col>&lt;dbl&gt;</th><th scope=col>&lt;dbl&gt;</th><th scope=col>&lt;dbl&gt;</th><th scope=col>&lt;dbl&gt;</th><th scope=col>&lt;dbl&gt;</th></tr>\n",
       "</thead>\n",
       "<tbody>\n",
       "\t<tr><td>132</td><td>0.1597570</td><td>NA</td><td>         NA</td><td>      NA</td><td>         NA</td></tr>\n",
       "\t<tr><td>133</td><td>0.1727551</td><td>-1</td><td>-0.01299813</td><td>10.73976</td><td>0.001340128</td></tr>\n",
       "</tbody>\n",
       "</table>\n"
      ],
      "text/latex": [
       "A anova: 2 × 6\n",
       "\\begin{tabular}{r|llllll}\n",
       " Res.Df & RSS & Df & Sum of Sq & F & Pr(>F)\\\\\n",
       " <dbl> & <dbl> & <dbl> & <dbl> & <dbl> & <dbl>\\\\\n",
       "\\hline\n",
       "\t 132 & 0.1597570 & NA &          NA &       NA &          NA\\\\\n",
       "\t 133 & 0.1727551 & -1 & -0.01299813 & 10.73976 & 0.001340128\\\\\n",
       "\\end{tabular}\n"
      ],
      "text/markdown": [
       "\n",
       "A anova: 2 × 6\n",
       "\n",
       "| Res.Df &lt;dbl&gt; | RSS &lt;dbl&gt; | Df &lt;dbl&gt; | Sum of Sq &lt;dbl&gt; | F &lt;dbl&gt; | Pr(&gt;F) &lt;dbl&gt; |\n",
       "|---|---|---|---|---|---|\n",
       "| 132 | 0.1597570 | NA |          NA |       NA |          NA |\n",
       "| 133 | 0.1727551 | -1 | -0.01299813 | 10.73976 | 0.001340128 |\n",
       "\n"
      ],
      "text/plain": [
       "  Res.Df RSS       Df Sum of Sq   F        Pr(>F)     \n",
       "1 132    0.1597570 NA          NA       NA          NA\n",
       "2 133    0.1727551 -1 -0.01299813 10.73976 0.001340128"
      ]
     },
     "metadata": {},
     "output_type": "display_data"
    }
   ],
   "source": [
    "anova(fit_5, fit_3)"
   ]
  },
  {
   "cell_type": "markdown",
   "metadata": {},
   "source": [
    "> The model with `med_bed` and `gov_resp` is significantly (p-value < 0.05) different from the base model and the model with only `med_bed` or `gov_resp`. I would use this as my final model."
   ]
  },
  {
   "cell_type": "markdown",
   "metadata": {},
   "source": [
    "Check the residuals:"
   ]
  },
  {
   "cell_type": "code",
   "execution_count": 211,
   "metadata": {},
   "outputs": [
    {
     "data": {
      "image/png": "[encoded data removed]",
      "text/plain": [
       "plot without title"
      ]
     },
     "metadata": {
      "image/png": {
       "height": 420,
       "width": 420
      },
      "text/plain": {
       "height": 420,
       "width": 420
      }
     },
     "output_type": "display_data"
    }
   ],
   "source": [
    "plot(df_sub$death_100_days, fit_6$residual)"
   ]
  },
  {
   "cell_type": "code",
   "execution_count": 293,
   "metadata": {},
   "outputs": [
    {
     "data": {
      "image/png": "[encoded data removed]",
      "text/plain": [
       "Plot with title \"\""
      ]
     },
     "metadata": {
      "image/png": {
       "height": 420,
       "width": 420
      },
      "text/plain": {
       "height": 420,
       "width": 420
      }
     },
     "output_type": "display_data"
    },
    {
     "data": {
      "image/png": "[encoded data removed]",
      "text/plain": [
       "Plot with title \"\""
      ]
     },
     "metadata": {
      "image/png": {
       "height": 420,
       "width": 420
      },
      "text/plain": {
       "height": 420,
       "width": 420
      }
     },
     "output_type": "display_data"
    },
    {
     "data": {
      "image/png": "[encoded data removed]",
      "text/plain": [
       "Plot with title \"\""
      ]
     },
     "metadata": {
      "image/png": {
       "height": 420,
       "width": 420
      },
      "text/plain": {
       "height": 420,
       "width": 420
      }
     },
     "output_type": "display_data"
    },
    {
     "data": {
      "image/png": "[encoded data removed]",
      "text/plain": [
       "Plot with title \"\""
      ]
     },
     "metadata": {
      "image/png": {
       "height": 420,
       "width": 420
      },
      "text/plain": {
       "height": 420,
       "width": 420
      }
     },
     "output_type": "display_data"
    }
   ],
   "source": [
    "plot(fit_5)"
   ]
  },
  {
   "cell_type": "markdown",
   "metadata": {},
   "source": [
    "> Violates linearity, constant variance, and normality..."
   ]
  },
  {
   "cell_type": "markdown",
   "metadata": {},
   "source": [
    "3) Data transformation"
   ]
  },
  {
   "cell_type": "code",
   "execution_count": 62,
   "metadata": {},
   "outputs": [],
   "source": [
    "df_trans <- df_sub %>%\n",
    "    filter(rate != 0) %>%\n",
    "    mutate(rate_sqrt = sqrt(rate),\n",
    "           age_65up_sqrt = sqrt(age_65up),\n",
    "           med_bed_log = log(med_bed),\n",
    "           gov_resp_sqrt_trans = sqrt(max(gov_resp + 1) - gov_resp),\n",
    "           confirmed_rate_log = log(confirmed_rate),\n",
    "           nurses_midwives_log = log(nurses_midwives),\n",
    "           pop_density_log = log(pop_density)) %>%\n",
    "    select(rate_sqrt, age_65up_sqrt,med_bed_log, gov_resp_sqrt_trans, \n",
    "           confirmed_rate_log, nurses_midwives_log, pop_density_log)\n"
   ]
  },
  {
   "cell_type": "code",
   "execution_count": 64,
   "metadata": {},
   "outputs": [
    {
     "data": {
      "text/html": [
       "<table>\n",
       "<caption>A tibble: 2 × 7</caption>\n",
       "<thead>\n",
       "\t<tr><th scope=col>term</th><th scope=col>estimate</th><th scope=col>std.error</th><th scope=col>statistic</th><th scope=col>p.value</th><th scope=col>p.value.adjust</th><th scope=col>significant</th></tr>\n",
       "\t<tr><th scope=col>&lt;chr&gt;</th><th scope=col>&lt;dbl&gt;</th><th scope=col>&lt;dbl&gt;</th><th scope=col>&lt;dbl&gt;</th><th scope=col>&lt;dbl&gt;</th><th scope=col>&lt;dbl&gt;</th><th scope=col>&lt;lgl&gt;</th></tr>\n",
       "</thead>\n",
       "<tbody>\n",
       "\t<tr><td>(Intercept)  </td><td>0.15920379</td><td>0.022212834</td><td>7.167198</td><td>6.199752e-11</td><td>1.239950e-10</td><td> TRUE</td></tr>\n",
       "\t<tr><td>age_65up_sqrt</td><td>0.01307724</td><td>0.007111616</td><td>1.838856</td><td>6.834842e-02</td><td>6.834842e-02</td><td>FALSE</td></tr>\n",
       "</tbody>\n",
       "</table>\n"
      ],
      "text/latex": [
       "A tibble: 2 × 7\n",
       "\\begin{tabular}{r|lllllll}\n",
       " term & estimate & std.error & statistic & p.value & p.value.adjust & significant\\\\\n",
       " <chr> & <dbl> & <dbl> & <dbl> & <dbl> & <dbl> & <lgl>\\\\\n",
       "\\hline\n",
       "\t (Intercept)   & 0.15920379 & 0.022212834 & 7.167198 & 6.199752e-11 & 1.239950e-10 &  TRUE\\\\\n",
       "\t age\\_65up\\_sqrt & 0.01307724 & 0.007111616 & 1.838856 & 6.834842e-02 & 6.834842e-02 & FALSE\\\\\n",
       "\\end{tabular}\n"
      ],
      "text/markdown": [
       "\n",
       "A tibble: 2 × 7\n",
       "\n",
       "| term &lt;chr&gt; | estimate &lt;dbl&gt; | std.error &lt;dbl&gt; | statistic &lt;dbl&gt; | p.value &lt;dbl&gt; | p.value.adjust &lt;dbl&gt; | significant &lt;lgl&gt; |\n",
       "|---|---|---|---|---|---|---|\n",
       "| (Intercept)   | 0.15920379 | 0.022212834 | 7.167198 | 6.199752e-11 | 1.239950e-10 |  TRUE |\n",
       "| age_65up_sqrt | 0.01307724 | 0.007111616 | 1.838856 | 6.834842e-02 | 6.834842e-02 | FALSE |\n",
       "\n"
      ],
      "text/plain": [
       "  term          estimate   std.error   statistic p.value      p.value.adjust\n",
       "1 (Intercept)   0.15920379 0.022212834 7.167198  6.199752e-11 1.239950e-10  \n",
       "2 age_65up_sqrt 0.01307724 0.007111616 1.838856  6.834842e-02 6.834842e-02  \n",
       "  significant\n",
       "1  TRUE      \n",
       "2 FALSE      "
      ]
     },
     "metadata": {},
     "output_type": "display_data"
    }
   ],
   "source": [
    "# base model\n",
    "base <- lm(rate_sqrt ~ age_65up_sqrt, df_trans)\n",
    "\n",
    "analyze_lm(base)"
   ]
  },
  {
   "cell_type": "code",
   "execution_count": 65,
   "metadata": {},
   "outputs": [
    {
     "data": {
      "text/html": [
       "<table>\n",
       "<caption>A tibble: 3 × 7</caption>\n",
       "<thead>\n",
       "\t<tr><th scope=col>term</th><th scope=col>estimate</th><th scope=col>std.error</th><th scope=col>statistic</th><th scope=col>p.value</th><th scope=col>p.value.adjust</th><th scope=col>significant</th></tr>\n",
       "\t<tr><th scope=col>&lt;chr&gt;</th><th scope=col>&lt;dbl&gt;</th><th scope=col>&lt;dbl&gt;</th><th scope=col>&lt;dbl&gt;</th><th scope=col>&lt;dbl&gt;</th><th scope=col>&lt;dbl&gt;</th><th scope=col>&lt;lgl&gt;</th></tr>\n",
       "</thead>\n",
       "<tbody>\n",
       "\t<tr><td>(Intercept)  </td><td> 0.11424735</td><td>0.024212652</td><td> 4.718498</td><td>6.389477e-06</td><td>1.916843e-05</td><td>TRUE</td></tr>\n",
       "\t<tr><td>age_65up_sqrt</td><td> 0.04022139</td><td>0.009851976</td><td> 4.082571</td><td>7.993820e-05</td><td>1.199073e-04</td><td>TRUE</td></tr>\n",
       "\t<tr><td>med_bed_log  </td><td>-0.04558047</td><td>0.012042361</td><td>-3.785011</td><td>2.397351e-04</td><td>2.397351e-04</td><td>TRUE</td></tr>\n",
       "</tbody>\n",
       "</table>\n"
      ],
      "text/latex": [
       "A tibble: 3 × 7\n",
       "\\begin{tabular}{r|lllllll}\n",
       " term & estimate & std.error & statistic & p.value & p.value.adjust & significant\\\\\n",
       " <chr> & <dbl> & <dbl> & <dbl> & <dbl> & <dbl> & <lgl>\\\\\n",
       "\\hline\n",
       "\t (Intercept)   &  0.11424735 & 0.024212652 &  4.718498 & 6.389477e-06 & 1.916843e-05 & TRUE\\\\\n",
       "\t age\\_65up\\_sqrt &  0.04022139 & 0.009851976 &  4.082571 & 7.993820e-05 & 1.199073e-04 & TRUE\\\\\n",
       "\t med\\_bed\\_log   & -0.04558047 & 0.012042361 & -3.785011 & 2.397351e-04 & 2.397351e-04 & TRUE\\\\\n",
       "\\end{tabular}\n"
      ],
      "text/markdown": [
       "\n",
       "A tibble: 3 × 7\n",
       "\n",
       "| term &lt;chr&gt; | estimate &lt;dbl&gt; | std.error &lt;dbl&gt; | statistic &lt;dbl&gt; | p.value &lt;dbl&gt; | p.value.adjust &lt;dbl&gt; | significant &lt;lgl&gt; |\n",
       "|---|---|---|---|---|---|---|\n",
       "| (Intercept)   |  0.11424735 | 0.024212652 |  4.718498 | 6.389477e-06 | 1.916843e-05 | TRUE |\n",
       "| age_65up_sqrt |  0.04022139 | 0.009851976 |  4.082571 | 7.993820e-05 | 1.199073e-04 | TRUE |\n",
       "| med_bed_log   | -0.04558047 | 0.012042361 | -3.785011 | 2.397351e-04 | 2.397351e-04 | TRUE |\n",
       "\n"
      ],
      "text/plain": [
       "  term          estimate    std.error   statistic p.value      p.value.adjust\n",
       "1 (Intercept)    0.11424735 0.024212652  4.718498 6.389477e-06 1.916843e-05  \n",
       "2 age_65up_sqrt  0.04022139 0.009851976  4.082571 7.993820e-05 1.199073e-04  \n",
       "3 med_bed_log   -0.04558047 0.012042361 -3.785011 2.397351e-04 2.397351e-04  \n",
       "  significant\n",
       "1 TRUE       \n",
       "2 TRUE       \n",
       "3 TRUE       "
      ]
     },
     "metadata": {},
     "output_type": "display_data"
    }
   ],
   "source": [
    "# add med_bed_log to the base model\n",
    "fit_1 <- lm(rate_sqrt ~ age_65up_sqrt + med_bed_log, df_trans)\n",
    "\n",
    "analyze_lm(fit_1)"
   ]
  },
  {
   "cell_type": "code",
   "execution_count": 66,
   "metadata": {},
   "outputs": [
    {
     "data": {
      "text/html": [
       "<table>\n",
       "<caption>A anova: 2 × 6</caption>\n",
       "<thead>\n",
       "\t<tr><th scope=col>Res.Df</th><th scope=col>RSS</th><th scope=col>Df</th><th scope=col>Sum of Sq</th><th scope=col>F</th><th scope=col>Pr(&gt;F)</th></tr>\n",
       "\t<tr><th scope=col>&lt;dbl&gt;</th><th scope=col>&lt;dbl&gt;</th><th scope=col>&lt;dbl&gt;</th><th scope=col>&lt;dbl&gt;</th><th scope=col>&lt;dbl&gt;</th><th scope=col>&lt;dbl&gt;</th></tr>\n",
       "</thead>\n",
       "<tbody>\n",
       "\t<tr><td>122</td><td>0.7872952</td><td>NA</td><td>         NA</td><td>      NA</td><td>          NA</td></tr>\n",
       "\t<tr><td>123</td><td>0.8797463</td><td>-1</td><td>-0.09245108</td><td>14.32631</td><td>0.0002397351</td></tr>\n",
       "</tbody>\n",
       "</table>\n"
      ],
      "text/latex": [
       "A anova: 2 × 6\n",
       "\\begin{tabular}{r|llllll}\n",
       " Res.Df & RSS & Df & Sum of Sq & F & Pr(>F)\\\\\n",
       " <dbl> & <dbl> & <dbl> & <dbl> & <dbl> & <dbl>\\\\\n",
       "\\hline\n",
       "\t 122 & 0.7872952 & NA &          NA &       NA &           NA\\\\\n",
       "\t 123 & 0.8797463 & -1 & -0.09245108 & 14.32631 & 0.0002397351\\\\\n",
       "\\end{tabular}\n"
      ],
      "text/markdown": [
       "\n",
       "A anova: 2 × 6\n",
       "\n",
       "| Res.Df &lt;dbl&gt; | RSS &lt;dbl&gt; | Df &lt;dbl&gt; | Sum of Sq &lt;dbl&gt; | F &lt;dbl&gt; | Pr(&gt;F) &lt;dbl&gt; |\n",
       "|---|---|---|---|---|---|\n",
       "| 122 | 0.7872952 | NA |          NA |       NA |           NA |\n",
       "| 123 | 0.8797463 | -1 | -0.09245108 | 14.32631 | 0.0002397351 |\n",
       "\n"
      ],
      "text/plain": [
       "  Res.Df RSS       Df Sum of Sq   F        Pr(>F)      \n",
       "1 122    0.7872952 NA          NA       NA           NA\n",
       "2 123    0.8797463 -1 -0.09245108 14.32631 0.0002397351"
      ]
     },
     "metadata": {},
     "output_type": "display_data"
    }
   ],
   "source": [
    "anova(fit_1, base)"
   ]
  },
  {
   "cell_type": "markdown",
   "metadata": {},
   "source": [
    "> The model with `med_bed_log` is significantly (p-value < 0.05) different from the base model. I could add `med_bed_log` in my final model."
   ]
  },
  {
   "cell_type": "code",
   "execution_count": 67,
   "metadata": {},
   "outputs": [
    {
     "data": {
      "text/html": [
       "<table>\n",
       "<caption>A tibble: 3 × 7</caption>\n",
       "<thead>\n",
       "\t<tr><th scope=col>term</th><th scope=col>estimate</th><th scope=col>std.error</th><th scope=col>statistic</th><th scope=col>p.value</th><th scope=col>p.value.adjust</th><th scope=col>significant</th></tr>\n",
       "\t<tr><th scope=col>&lt;chr&gt;</th><th scope=col>&lt;dbl&gt;</th><th scope=col>&lt;dbl&gt;</th><th scope=col>&lt;dbl&gt;</th><th scope=col>&lt;dbl&gt;</th><th scope=col>&lt;dbl&gt;</th><th scope=col>&lt;lgl&gt;</th></tr>\n",
       "</thead>\n",
       "<tbody>\n",
       "\t<tr><td>(Intercept)    </td><td> 0.176441656</td><td>0.031506654</td><td> 5.6001395</td><td>1.346061e-07</td><td>4.038184e-07</td><td> TRUE</td></tr>\n",
       "\t<tr><td>age_65up_sqrt  </td><td> 0.013575583</td><td>0.007152427</td><td> 1.8980388</td><td>6.005373e-02</td><td>9.008059e-02</td><td>FALSE</td></tr>\n",
       "\t<tr><td>pop_density_log</td><td>-0.004340059</td><td>0.005616540</td><td>-0.7727284</td><td>4.411776e-01</td><td>4.411776e-01</td><td>FALSE</td></tr>\n",
       "</tbody>\n",
       "</table>\n"
      ],
      "text/latex": [
       "A tibble: 3 × 7\n",
       "\\begin{tabular}{r|lllllll}\n",
       " term & estimate & std.error & statistic & p.value & p.value.adjust & significant\\\\\n",
       " <chr> & <dbl> & <dbl> & <dbl> & <dbl> & <dbl> & <lgl>\\\\\n",
       "\\hline\n",
       "\t (Intercept)     &  0.176441656 & 0.031506654 &  5.6001395 & 1.346061e-07 & 4.038184e-07 &  TRUE\\\\\n",
       "\t age\\_65up\\_sqrt   &  0.013575583 & 0.007152427 &  1.8980388 & 6.005373e-02 & 9.008059e-02 & FALSE\\\\\n",
       "\t pop\\_density\\_log & -0.004340059 & 0.005616540 & -0.7727284 & 4.411776e-01 & 4.411776e-01 & FALSE\\\\\n",
       "\\end{tabular}\n"
      ],
      "text/markdown": [
       "\n",
       "A tibble: 3 × 7\n",
       "\n",
       "| term &lt;chr&gt; | estimate &lt;dbl&gt; | std.error &lt;dbl&gt; | statistic &lt;dbl&gt; | p.value &lt;dbl&gt; | p.value.adjust &lt;dbl&gt; | significant &lt;lgl&gt; |\n",
       "|---|---|---|---|---|---|---|\n",
       "| (Intercept)     |  0.176441656 | 0.031506654 |  5.6001395 | 1.346061e-07 | 4.038184e-07 |  TRUE |\n",
       "| age_65up_sqrt   |  0.013575583 | 0.007152427 |  1.8980388 | 6.005373e-02 | 9.008059e-02 | FALSE |\n",
       "| pop_density_log | -0.004340059 | 0.005616540 | -0.7727284 | 4.411776e-01 | 4.411776e-01 | FALSE |\n",
       "\n"
      ],
      "text/plain": [
       "  term            estimate     std.error   statistic  p.value     \n",
       "1 (Intercept)      0.176441656 0.031506654  5.6001395 1.346061e-07\n",
       "2 age_65up_sqrt    0.013575583 0.007152427  1.8980388 6.005373e-02\n",
       "3 pop_density_log -0.004340059 0.005616540 -0.7727284 4.411776e-01\n",
       "  p.value.adjust significant\n",
       "1 4.038184e-07    TRUE      \n",
       "2 9.008059e-02   FALSE      \n",
       "3 4.411776e-01   FALSE      "
      ]
     },
     "metadata": {},
     "output_type": "display_data"
    }
   ],
   "source": [
    "# add pop_density_log to the base model\n",
    "fit_2 <- lm(rate_sqrt ~ age_65up_sqrt + pop_density_log, df_trans)\n",
    "\n",
    "analyze_lm(fit_2)"
   ]
  },
  {
   "cell_type": "code",
   "execution_count": 68,
   "metadata": {},
   "outputs": [
    {
     "data": {
      "text/html": [
       "<table>\n",
       "<caption>A anova: 2 × 6</caption>\n",
       "<thead>\n",
       "\t<tr><th scope=col>Res.Df</th><th scope=col>RSS</th><th scope=col>Df</th><th scope=col>Sum of Sq</th><th scope=col>F</th><th scope=col>Pr(&gt;F)</th></tr>\n",
       "\t<tr><th scope=col>&lt;dbl&gt;</th><th scope=col>&lt;dbl&gt;</th><th scope=col>&lt;dbl&gt;</th><th scope=col>&lt;dbl&gt;</th><th scope=col>&lt;dbl&gt;</th><th scope=col>&lt;dbl&gt;</th></tr>\n",
       "</thead>\n",
       "<tbody>\n",
       "\t<tr><td>122</td><td>0.8754615</td><td>NA</td><td>          NA</td><td>       NA</td><td>       NA</td></tr>\n",
       "\t<tr><td>123</td><td>0.8797463</td><td>-1</td><td>-0.004284803</td><td>0.5971091</td><td>0.4411776</td></tr>\n",
       "</tbody>\n",
       "</table>\n"
      ],
      "text/latex": [
       "A anova: 2 × 6\n",
       "\\begin{tabular}{r|llllll}\n",
       " Res.Df & RSS & Df & Sum of Sq & F & Pr(>F)\\\\\n",
       " <dbl> & <dbl> & <dbl> & <dbl> & <dbl> & <dbl>\\\\\n",
       "\\hline\n",
       "\t 122 & 0.8754615 & NA &           NA &        NA &        NA\\\\\n",
       "\t 123 & 0.8797463 & -1 & -0.004284803 & 0.5971091 & 0.4411776\\\\\n",
       "\\end{tabular}\n"
      ],
      "text/markdown": [
       "\n",
       "A anova: 2 × 6\n",
       "\n",
       "| Res.Df &lt;dbl&gt; | RSS &lt;dbl&gt; | Df &lt;dbl&gt; | Sum of Sq &lt;dbl&gt; | F &lt;dbl&gt; | Pr(&gt;F) &lt;dbl&gt; |\n",
       "|---|---|---|---|---|---|\n",
       "| 122 | 0.8754615 | NA |           NA |        NA |        NA |\n",
       "| 123 | 0.8797463 | -1 | -0.004284803 | 0.5971091 | 0.4411776 |\n",
       "\n"
      ],
      "text/plain": [
       "  Res.Df RSS       Df Sum of Sq    F         Pr(>F)   \n",
       "1 122    0.8754615 NA           NA        NA        NA\n",
       "2 123    0.8797463 -1 -0.004284803 0.5971091 0.4411776"
      ]
     },
     "metadata": {},
     "output_type": "display_data"
    }
   ],
   "source": [
    "anova(fit_2, base)"
   ]
  },
  {
   "cell_type": "markdown",
   "metadata": {},
   "source": [
    "> The model with `pop_density` is not significantly (p-value < 0.05) different from the base model. I would not add `pop_density` in my final model."
   ]
  },
  {
   "cell_type": "code",
   "execution_count": 69,
   "metadata": {},
   "outputs": [
    {
     "data": {
      "text/html": [
       "<table>\n",
       "<caption>A tibble: 3 × 7</caption>\n",
       "<thead>\n",
       "\t<tr><th scope=col>term</th><th scope=col>estimate</th><th scope=col>std.error</th><th scope=col>statistic</th><th scope=col>p.value</th><th scope=col>p.value.adjust</th><th scope=col>significant</th></tr>\n",
       "\t<tr><th scope=col>&lt;chr&gt;</th><th scope=col>&lt;dbl&gt;</th><th scope=col>&lt;dbl&gt;</th><th scope=col>&lt;dbl&gt;</th><th scope=col>&lt;dbl&gt;</th><th scope=col>&lt;dbl&gt;</th><th scope=col>&lt;lgl&gt;</th></tr>\n",
       "</thead>\n",
       "<tbody>\n",
       "\t<tr><td>(Intercept)       </td><td>-0.08133396</td><td>0.056008683</td><td>-1.452167</td><td>1.490221e-01</td><td>1.490221e-01</td><td>FALSE</td></tr>\n",
       "\t<tr><td>age_65up_sqrt     </td><td> 0.03776837</td><td>0.008485055</td><td> 4.451164</td><td>1.901691e-05</td><td>2.852537e-05</td><td> TRUE</td></tr>\n",
       "\t<tr><td>confirmed_rate_log</td><td>-0.01914078</td><td>0.004145178</td><td>-4.617600</td><td>9.688940e-06</td><td>2.852537e-05</td><td> TRUE</td></tr>\n",
       "</tbody>\n",
       "</table>\n"
      ],
      "text/latex": [
       "A tibble: 3 × 7\n",
       "\\begin{tabular}{r|lllllll}\n",
       " term & estimate & std.error & statistic & p.value & p.value.adjust & significant\\\\\n",
       " <chr> & <dbl> & <dbl> & <dbl> & <dbl> & <dbl> & <lgl>\\\\\n",
       "\\hline\n",
       "\t (Intercept)        & -0.08133396 & 0.056008683 & -1.452167 & 1.490221e-01 & 1.490221e-01 & FALSE\\\\\n",
       "\t age\\_65up\\_sqrt      &  0.03776837 & 0.008485055 &  4.451164 & 1.901691e-05 & 2.852537e-05 &  TRUE\\\\\n",
       "\t confirmed\\_rate\\_log & -0.01914078 & 0.004145178 & -4.617600 & 9.688940e-06 & 2.852537e-05 &  TRUE\\\\\n",
       "\\end{tabular}\n"
      ],
      "text/markdown": [
       "\n",
       "A tibble: 3 × 7\n",
       "\n",
       "| term &lt;chr&gt; | estimate &lt;dbl&gt; | std.error &lt;dbl&gt; | statistic &lt;dbl&gt; | p.value &lt;dbl&gt; | p.value.adjust &lt;dbl&gt; | significant &lt;lgl&gt; |\n",
       "|---|---|---|---|---|---|---|\n",
       "| (Intercept)        | -0.08133396 | 0.056008683 | -1.452167 | 1.490221e-01 | 1.490221e-01 | FALSE |\n",
       "| age_65up_sqrt      |  0.03776837 | 0.008485055 |  4.451164 | 1.901691e-05 | 2.852537e-05 |  TRUE |\n",
       "| confirmed_rate_log | -0.01914078 | 0.004145178 | -4.617600 | 9.688940e-06 | 2.852537e-05 |  TRUE |\n",
       "\n"
      ],
      "text/plain": [
       "  term               estimate    std.error   statistic p.value     \n",
       "1 (Intercept)        -0.08133396 0.056008683 -1.452167 1.490221e-01\n",
       "2 age_65up_sqrt       0.03776837 0.008485055  4.451164 1.901691e-05\n",
       "3 confirmed_rate_log -0.01914078 0.004145178 -4.617600 9.688940e-06\n",
       "  p.value.adjust significant\n",
       "1 1.490221e-01   FALSE      \n",
       "2 2.852537e-05    TRUE      \n",
       "3 2.852537e-05    TRUE      "
      ]
     },
     "metadata": {},
     "output_type": "display_data"
    }
   ],
   "source": [
    "# add confirmed_rate_log to the base model\n",
    "fit_3 <- lm(rate_sqrt ~ age_65up_sqrt + confirmed_rate_log, df_trans)\n",
    "\n",
    "analyze_lm(fit_3)"
   ]
  },
  {
   "cell_type": "code",
   "execution_count": 70,
   "metadata": {},
   "outputs": [
    {
     "data": {
      "text/html": [
       "<table>\n",
       "<caption>A anova: 2 × 6</caption>\n",
       "<thead>\n",
       "\t<tr><th scope=col>Res.Df</th><th scope=col>RSS</th><th scope=col>Df</th><th scope=col>Sum of Sq</th><th scope=col>F</th><th scope=col>Pr(&gt;F)</th></tr>\n",
       "\t<tr><th scope=col>&lt;dbl&gt;</th><th scope=col>&lt;dbl&gt;</th><th scope=col>&lt;dbl&gt;</th><th scope=col>&lt;dbl&gt;</th><th scope=col>&lt;dbl&gt;</th><th scope=col>&lt;dbl&gt;</th></tr>\n",
       "</thead>\n",
       "<tbody>\n",
       "\t<tr><td>122</td><td>0.7488653</td><td>NA</td><td>       NA</td><td>      NA</td><td>         NA</td></tr>\n",
       "\t<tr><td>123</td><td>0.8797463</td><td>-1</td><td>-0.130881</td><td>21.32223</td><td>9.68894e-06</td></tr>\n",
       "</tbody>\n",
       "</table>\n"
      ],
      "text/latex": [
       "A anova: 2 × 6\n",
       "\\begin{tabular}{r|llllll}\n",
       " Res.Df & RSS & Df & Sum of Sq & F & Pr(>F)\\\\\n",
       " <dbl> & <dbl> & <dbl> & <dbl> & <dbl> & <dbl>\\\\\n",
       "\\hline\n",
       "\t 122 & 0.7488653 & NA &        NA &       NA &          NA\\\\\n",
       "\t 123 & 0.8797463 & -1 & -0.130881 & 21.32223 & 9.68894e-06\\\\\n",
       "\\end{tabular}\n"
      ],
      "text/markdown": [
       "\n",
       "A anova: 2 × 6\n",
       "\n",
       "| Res.Df &lt;dbl&gt; | RSS &lt;dbl&gt; | Df &lt;dbl&gt; | Sum of Sq &lt;dbl&gt; | F &lt;dbl&gt; | Pr(&gt;F) &lt;dbl&gt; |\n",
       "|---|---|---|---|---|---|\n",
       "| 122 | 0.7488653 | NA |        NA |       NA |          NA |\n",
       "| 123 | 0.8797463 | -1 | -0.130881 | 21.32223 | 9.68894e-06 |\n",
       "\n"
      ],
      "text/plain": [
       "  Res.Df RSS       Df Sum of Sq F        Pr(>F)     \n",
       "1 122    0.7488653 NA        NA       NA          NA\n",
       "2 123    0.8797463 -1 -0.130881 21.32223 9.68894e-06"
      ]
     },
     "metadata": {},
     "output_type": "display_data"
    }
   ],
   "source": [
    "anova(fit_3, base)"
   ]
  },
  {
   "cell_type": "markdown",
   "metadata": {},
   "source": [
    "> The model with `confirmed_rate_log` is significantly (p-value < 0.05) different from the base model. I could add `confirmed_rate_log` in my final model."
   ]
  },
  {
   "cell_type": "code",
   "execution_count": 71,
   "metadata": {},
   "outputs": [
    {
     "data": {
      "text/html": [
       "<table>\n",
       "<caption>A tibble: 3 × 7</caption>\n",
       "<thead>\n",
       "\t<tr><th scope=col>term</th><th scope=col>estimate</th><th scope=col>std.error</th><th scope=col>statistic</th><th scope=col>p.value</th><th scope=col>p.value.adjust</th><th scope=col>significant</th></tr>\n",
       "\t<tr><th scope=col>&lt;chr&gt;</th><th scope=col>&lt;dbl&gt;</th><th scope=col>&lt;dbl&gt;</th><th scope=col>&lt;dbl&gt;</th><th scope=col>&lt;dbl&gt;</th><th scope=col>&lt;dbl&gt;</th><th scope=col>&lt;lgl&gt;</th></tr>\n",
       "</thead>\n",
       "<tbody>\n",
       "\t<tr><td>(Intercept)        </td><td>0.127543108</td><td>0.028504980</td><td>4.474415</td><td>1.732357e-05</td><td>0.0000519707</td><td> TRUE</td></tr>\n",
       "\t<tr><td>age_65up_sqrt      </td><td>0.011940880</td><td>0.007082542</td><td>1.685960</td><td>9.435948e-02</td><td>0.0943594798</td><td>FALSE</td></tr>\n",
       "\t<tr><td>gov_resp_sqrt_trans</td><td>0.008266881</td><td>0.004723564</td><td>1.750136</td><td>8.260891e-02</td><td>0.0943594798</td><td>FALSE</td></tr>\n",
       "</tbody>\n",
       "</table>\n"
      ],
      "text/latex": [
       "A tibble: 3 × 7\n",
       "\\begin{tabular}{r|lllllll}\n",
       " term & estimate & std.error & statistic & p.value & p.value.adjust & significant\\\\\n",
       " <chr> & <dbl> & <dbl> & <dbl> & <dbl> & <dbl> & <lgl>\\\\\n",
       "\\hline\n",
       "\t (Intercept)         & 0.127543108 & 0.028504980 & 4.474415 & 1.732357e-05 & 0.0000519707 &  TRUE\\\\\n",
       "\t age\\_65up\\_sqrt       & 0.011940880 & 0.007082542 & 1.685960 & 9.435948e-02 & 0.0943594798 & FALSE\\\\\n",
       "\t gov\\_resp\\_sqrt\\_trans & 0.008266881 & 0.004723564 & 1.750136 & 8.260891e-02 & 0.0943594798 & FALSE\\\\\n",
       "\\end{tabular}\n"
      ],
      "text/markdown": [
       "\n",
       "A tibble: 3 × 7\n",
       "\n",
       "| term &lt;chr&gt; | estimate &lt;dbl&gt; | std.error &lt;dbl&gt; | statistic &lt;dbl&gt; | p.value &lt;dbl&gt; | p.value.adjust &lt;dbl&gt; | significant &lt;lgl&gt; |\n",
       "|---|---|---|---|---|---|---|\n",
       "| (Intercept)         | 0.127543108 | 0.028504980 | 4.474415 | 1.732357e-05 | 0.0000519707 |  TRUE |\n",
       "| age_65up_sqrt       | 0.011940880 | 0.007082542 | 1.685960 | 9.435948e-02 | 0.0943594798 | FALSE |\n",
       "| gov_resp_sqrt_trans | 0.008266881 | 0.004723564 | 1.750136 | 8.260891e-02 | 0.0943594798 | FALSE |\n",
       "\n"
      ],
      "text/plain": [
       "  term                estimate    std.error   statistic p.value     \n",
       "1 (Intercept)         0.127543108 0.028504980 4.474415  1.732357e-05\n",
       "2 age_65up_sqrt       0.011940880 0.007082542 1.685960  9.435948e-02\n",
       "3 gov_resp_sqrt_trans 0.008266881 0.004723564 1.750136  8.260891e-02\n",
       "  p.value.adjust significant\n",
       "1 0.0000519707    TRUE      \n",
       "2 0.0943594798   FALSE      \n",
       "3 0.0943594798   FALSE      "
      ]
     },
     "metadata": {},
     "output_type": "display_data"
    }
   ],
   "source": [
    "# add gov_resp_sqrt_trans to the base model\n",
    "fit_4 <- lm(rate_sqrt ~ age_65up_sqrt + gov_resp_sqrt_trans, df_trans)\n",
    "\n",
    "analyze_lm(fit_4)"
   ]
  },
  {
   "cell_type": "code",
   "execution_count": 71,
   "metadata": {},
   "outputs": [
    {
     "data": {
      "text/html": [
       "<table>\n",
       "<caption>A anova: 2 × 6</caption>\n",
       "<thead>\n",
       "\t<tr><th scope=col>Res.Df</th><th scope=col>RSS</th><th scope=col>Df</th><th scope=col>Sum of Sq</th><th scope=col>F</th><th scope=col>Pr(&gt;F)</th></tr>\n",
       "\t<tr><th scope=col>&lt;dbl&gt;</th><th scope=col>&lt;dbl&gt;</th><th scope=col>&lt;dbl&gt;</th><th scope=col>&lt;dbl&gt;</th><th scope=col>&lt;dbl&gt;</th><th scope=col>&lt;dbl&gt;</th></tr>\n",
       "</thead>\n",
       "<tbody>\n",
       "\t<tr><td>132</td><td>0.1972090</td><td>NA</td><td>         NA</td><td>      NA</td><td>        NA</td></tr>\n",
       "\t<tr><td>133</td><td>0.2016192</td><td>-1</td><td>-0.00441024</td><td>2.951953</td><td>0.08811857</td></tr>\n",
       "</tbody>\n",
       "</table>\n"
      ],
      "text/latex": [
       "A anova: 2 × 6\n",
       "\\begin{tabular}{r|llllll}\n",
       " Res.Df & RSS & Df & Sum of Sq & F & Pr(>F)\\\\\n",
       " <dbl> & <dbl> & <dbl> & <dbl> & <dbl> & <dbl>\\\\\n",
       "\\hline\n",
       "\t 132 & 0.1972090 & NA &          NA &       NA &         NA\\\\\n",
       "\t 133 & 0.2016192 & -1 & -0.00441024 & 2.951953 & 0.08811857\\\\\n",
       "\\end{tabular}\n"
      ],
      "text/markdown": [
       "\n",
       "A anova: 2 × 6\n",
       "\n",
       "| Res.Df &lt;dbl&gt; | RSS &lt;dbl&gt; | Df &lt;dbl&gt; | Sum of Sq &lt;dbl&gt; | F &lt;dbl&gt; | Pr(&gt;F) &lt;dbl&gt; |\n",
       "|---|---|---|---|---|---|\n",
       "| 132 | 0.1972090 | NA |          NA |       NA |         NA |\n",
       "| 133 | 0.2016192 | -1 | -0.00441024 | 2.951953 | 0.08811857 |\n",
       "\n"
      ],
      "text/plain": [
       "  Res.Df RSS       Df Sum of Sq   F        Pr(>F)    \n",
       "1 132    0.1972090 NA          NA       NA         NA\n",
       "2 133    0.2016192 -1 -0.00441024 2.951953 0.08811857"
      ]
     },
     "metadata": {},
     "output_type": "display_data"
    }
   ],
   "source": [
    "anova(fit_4, base)"
   ]
  },
  {
   "cell_type": "markdown",
   "metadata": {},
   "source": [
    "> The model with `gov_resp_sqrt_trans` is not significantly (p-value < 0.05) different from the base model. I would not add `gov_resp_sqrt_trans` in my final model."
   ]
  },
  {
   "cell_type": "code",
   "execution_count": 74,
   "metadata": {},
   "outputs": [
    {
     "data": {
      "text/html": [
       "<table>\n",
       "<caption>A tibble: 3 × 7</caption>\n",
       "<thead>\n",
       "\t<tr><th scope=col>term</th><th scope=col>estimate</th><th scope=col>std.error</th><th scope=col>statistic</th><th scope=col>p.value</th><th scope=col>p.value.adjust</th><th scope=col>significant</th></tr>\n",
       "\t<tr><th scope=col>&lt;chr&gt;</th><th scope=col>&lt;dbl&gt;</th><th scope=col>&lt;dbl&gt;</th><th scope=col>&lt;dbl&gt;</th><th scope=col>&lt;dbl&gt;</th><th scope=col>&lt;dbl&gt;</th><th scope=col>&lt;lgl&gt;</th></tr>\n",
       "</thead>\n",
       "<tbody>\n",
       "\t<tr><td>(Intercept)        </td><td> 0.13009127</td><td>0.023347479</td><td> 5.571962</td><td>1.531524e-07</td><td>4.594573e-07</td><td>TRUE</td></tr>\n",
       "\t<tr><td>age_65up_sqrt      </td><td> 0.03298721</td><td>0.009326207</td><td> 3.537044</td><td>5.730204e-04</td><td>8.595306e-04</td><td>TRUE</td></tr>\n",
       "\t<tr><td>nurses_midwives_log</td><td>-0.02841025</td><td>0.009005991</td><td>-3.154594</td><td>2.024121e-03</td><td>2.024121e-03</td><td>TRUE</td></tr>\n",
       "</tbody>\n",
       "</table>\n"
      ],
      "text/latex": [
       "A tibble: 3 × 7\n",
       "\\begin{tabular}{r|lllllll}\n",
       " term & estimate & std.error & statistic & p.value & p.value.adjust & significant\\\\\n",
       " <chr> & <dbl> & <dbl> & <dbl> & <dbl> & <dbl> & <lgl>\\\\\n",
       "\\hline\n",
       "\t (Intercept)         &  0.13009127 & 0.023347479 &  5.571962 & 1.531524e-07 & 4.594573e-07 & TRUE\\\\\n",
       "\t age\\_65up\\_sqrt       &  0.03298721 & 0.009326207 &  3.537044 & 5.730204e-04 & 8.595306e-04 & TRUE\\\\\n",
       "\t nurses\\_midwives\\_log & -0.02841025 & 0.009005991 & -3.154594 & 2.024121e-03 & 2.024121e-03 & TRUE\\\\\n",
       "\\end{tabular}\n"
      ],
      "text/markdown": [
       "\n",
       "A tibble: 3 × 7\n",
       "\n",
       "| term &lt;chr&gt; | estimate &lt;dbl&gt; | std.error &lt;dbl&gt; | statistic &lt;dbl&gt; | p.value &lt;dbl&gt; | p.value.adjust &lt;dbl&gt; | significant &lt;lgl&gt; |\n",
       "|---|---|---|---|---|---|---|\n",
       "| (Intercept)         |  0.13009127 | 0.023347479 |  5.571962 | 1.531524e-07 | 4.594573e-07 | TRUE |\n",
       "| age_65up_sqrt       |  0.03298721 | 0.009326207 |  3.537044 | 5.730204e-04 | 8.595306e-04 | TRUE |\n",
       "| nurses_midwives_log | -0.02841025 | 0.009005991 | -3.154594 | 2.024121e-03 | 2.024121e-03 | TRUE |\n",
       "\n"
      ],
      "text/plain": [
       "  term                estimate    std.error   statistic p.value     \n",
       "1 (Intercept)          0.13009127 0.023347479  5.571962 1.531524e-07\n",
       "2 age_65up_sqrt        0.03298721 0.009326207  3.537044 5.730204e-04\n",
       "3 nurses_midwives_log -0.02841025 0.009005991 -3.154594 2.024121e-03\n",
       "  p.value.adjust significant\n",
       "1 4.594573e-07   TRUE       \n",
       "2 8.595306e-04   TRUE       \n",
       "3 2.024121e-03   TRUE       "
      ]
     },
     "metadata": {},
     "output_type": "display_data"
    }
   ],
   "source": [
    "# add nurses_midwives_log to the base model\n",
    "fit_5 <- lm(rate_sqrt ~ age_65up_sqrt + nurses_midwives_log, df_trans)\n",
    "\n",
    "analyze_lm(fit_5)"
   ]
  },
  {
   "cell_type": "code",
   "execution_count": 75,
   "metadata": {},
   "outputs": [
    {
     "data": {
      "text/html": [
       "<table>\n",
       "<caption>A anova: 2 × 6</caption>\n",
       "<thead>\n",
       "\t<tr><th scope=col>Res.Df</th><th scope=col>RSS</th><th scope=col>Df</th><th scope=col>Sum of Sq</th><th scope=col>F</th><th scope=col>Pr(&gt;F)</th></tr>\n",
       "\t<tr><th scope=col>&lt;dbl&gt;</th><th scope=col>&lt;dbl&gt;</th><th scope=col>&lt;dbl&gt;</th><th scope=col>&lt;dbl&gt;</th><th scope=col>&lt;dbl&gt;</th><th scope=col>&lt;dbl&gt;</th></tr>\n",
       "</thead>\n",
       "<tbody>\n",
       "\t<tr><td>122</td><td>0.8133979</td><td>NA</td><td>         NA</td><td>      NA</td><td>         NA</td></tr>\n",
       "\t<tr><td>123</td><td>0.8797463</td><td>-1</td><td>-0.06634837</td><td>9.951466</td><td>0.002024121</td></tr>\n",
       "</tbody>\n",
       "</table>\n"
      ],
      "text/latex": [
       "A anova: 2 × 6\n",
       "\\begin{tabular}{r|llllll}\n",
       " Res.Df & RSS & Df & Sum of Sq & F & Pr(>F)\\\\\n",
       " <dbl> & <dbl> & <dbl> & <dbl> & <dbl> & <dbl>\\\\\n",
       "\\hline\n",
       "\t 122 & 0.8133979 & NA &          NA &       NA &          NA\\\\\n",
       "\t 123 & 0.8797463 & -1 & -0.06634837 & 9.951466 & 0.002024121\\\\\n",
       "\\end{tabular}\n"
      ],
      "text/markdown": [
       "\n",
       "A anova: 2 × 6\n",
       "\n",
       "| Res.Df &lt;dbl&gt; | RSS &lt;dbl&gt; | Df &lt;dbl&gt; | Sum of Sq &lt;dbl&gt; | F &lt;dbl&gt; | Pr(&gt;F) &lt;dbl&gt; |\n",
       "|---|---|---|---|---|---|\n",
       "| 122 | 0.8133979 | NA |          NA |       NA |          NA |\n",
       "| 123 | 0.8797463 | -1 | -0.06634837 | 9.951466 | 0.002024121 |\n",
       "\n"
      ],
      "text/plain": [
       "  Res.Df RSS       Df Sum of Sq   F        Pr(>F)     \n",
       "1 122    0.8133979 NA          NA       NA          NA\n",
       "2 123    0.8797463 -1 -0.06634837 9.951466 0.002024121"
      ]
     },
     "metadata": {},
     "output_type": "display_data"
    }
   ],
   "source": [
    "anova(fit_5, base)"
   ]
  },
  {
   "cell_type": "markdown",
   "metadata": {},
   "source": [
    "> The model with `nurses_midwives_log` is significantly (p-value < 0.05) different from the base model. I would not add `nurses_midwives_log` in my final model."
   ]
  },
  {
   "cell_type": "code",
   "execution_count": 78,
   "metadata": {},
   "outputs": [
    {
     "data": {
      "text/html": [
       "<table>\n",
       "<caption>A tibble: 4 × 7</caption>\n",
       "<thead>\n",
       "\t<tr><th scope=col>term</th><th scope=col>estimate</th><th scope=col>std.error</th><th scope=col>statistic</th><th scope=col>p.value</th><th scope=col>p.value.adjust</th><th scope=col>significant</th></tr>\n",
       "\t<tr><th scope=col>&lt;chr&gt;</th><th scope=col>&lt;dbl&gt;</th><th scope=col>&lt;dbl&gt;</th><th scope=col>&lt;dbl&gt;</th><th scope=col>&lt;dbl&gt;</th><th scope=col>&lt;dbl&gt;</th><th scope=col>&lt;lgl&gt;</th></tr>\n",
       "</thead>\n",
       "<tbody>\n",
       "\t<tr><td>(Intercept)        </td><td> 0.11027878</td><td>0.02431901</td><td> 4.534674</td><td>1.367161e-05</td><td>5.468645e-05</td><td> TRUE</td></tr>\n",
       "\t<tr><td>age_65up_sqrt      </td><td> 0.04377936</td><td>0.01017720</td><td> 4.301709</td><td>3.455772e-05</td><td>6.911545e-05</td><td> TRUE</td></tr>\n",
       "\t<tr><td>med_bed_log        </td><td>-0.03490020</td><td>0.01443350</td><td>-2.418000</td><td>1.709684e-02</td><td>2.279579e-02</td><td> TRUE</td></tr>\n",
       "\t<tr><td>nurses_midwives_log</td><td>-0.01415277</td><td>0.01061962</td><td>-1.332701</td><td>1.851341e-01</td><td>1.851341e-01</td><td>FALSE</td></tr>\n",
       "</tbody>\n",
       "</table>\n"
      ],
      "text/latex": [
       "A tibble: 4 × 7\n",
       "\\begin{tabular}{r|lllllll}\n",
       " term & estimate & std.error & statistic & p.value & p.value.adjust & significant\\\\\n",
       " <chr> & <dbl> & <dbl> & <dbl> & <dbl> & <dbl> & <lgl>\\\\\n",
       "\\hline\n",
       "\t (Intercept)         &  0.11027878 & 0.02431901 &  4.534674 & 1.367161e-05 & 5.468645e-05 &  TRUE\\\\\n",
       "\t age\\_65up\\_sqrt       &  0.04377936 & 0.01017720 &  4.301709 & 3.455772e-05 & 6.911545e-05 &  TRUE\\\\\n",
       "\t med\\_bed\\_log         & -0.03490020 & 0.01443350 & -2.418000 & 1.709684e-02 & 2.279579e-02 &  TRUE\\\\\n",
       "\t nurses\\_midwives\\_log & -0.01415277 & 0.01061962 & -1.332701 & 1.851341e-01 & 1.851341e-01 & FALSE\\\\\n",
       "\\end{tabular}\n"
      ],
      "text/markdown": [
       "\n",
       "A tibble: 4 × 7\n",
       "\n",
       "| term &lt;chr&gt; | estimate &lt;dbl&gt; | std.error &lt;dbl&gt; | statistic &lt;dbl&gt; | p.value &lt;dbl&gt; | p.value.adjust &lt;dbl&gt; | significant &lt;lgl&gt; |\n",
       "|---|---|---|---|---|---|---|\n",
       "| (Intercept)         |  0.11027878 | 0.02431901 |  4.534674 | 1.367161e-05 | 5.468645e-05 |  TRUE |\n",
       "| age_65up_sqrt       |  0.04377936 | 0.01017720 |  4.301709 | 3.455772e-05 | 6.911545e-05 |  TRUE |\n",
       "| med_bed_log         | -0.03490020 | 0.01443350 | -2.418000 | 1.709684e-02 | 2.279579e-02 |  TRUE |\n",
       "| nurses_midwives_log | -0.01415277 | 0.01061962 | -1.332701 | 1.851341e-01 | 1.851341e-01 | FALSE |\n",
       "\n"
      ],
      "text/plain": [
       "  term                estimate    std.error  statistic p.value     \n",
       "1 (Intercept)          0.11027878 0.02431901  4.534674 1.367161e-05\n",
       "2 age_65up_sqrt        0.04377936 0.01017720  4.301709 3.455772e-05\n",
       "3 med_bed_log         -0.03490020 0.01443350 -2.418000 1.709684e-02\n",
       "4 nurses_midwives_log -0.01415277 0.01061962 -1.332701 1.851341e-01\n",
       "  p.value.adjust significant\n",
       "1 5.468645e-05    TRUE      \n",
       "2 6.911545e-05    TRUE      \n",
       "3 2.279579e-02    TRUE      \n",
       "4 1.851341e-01   FALSE      "
      ]
     },
     "metadata": {},
     "output_type": "display_data"
    }
   ],
   "source": [
    "# add med_bed_log and nurses_midwives_log to the base model\n",
    "fit_6 <- lm(rate_sqrt ~ age_65up_sqrt + med_bed_log + nurses_midwives_log, df_trans)\n",
    "\n",
    "analyze_lm(fit_6)"
   ]
  },
  {
   "cell_type": "code",
   "execution_count": 80,
   "metadata": {},
   "outputs": [
    {
     "data": {
      "text/html": [
       "<table>\n",
       "<caption>A anova: 2 × 6</caption>\n",
       "<thead>\n",
       "\t<tr><th scope=col>Res.Df</th><th scope=col>RSS</th><th scope=col>Df</th><th scope=col>Sum of Sq</th><th scope=col>F</th><th scope=col>Pr(&gt;F)</th></tr>\n",
       "\t<tr><th scope=col>&lt;dbl&gt;</th><th scope=col>&lt;dbl&gt;</th><th scope=col>&lt;dbl&gt;</th><th scope=col>&lt;dbl&gt;</th><th scope=col>&lt;dbl&gt;</th><th scope=col>&lt;dbl&gt;</th></tr>\n",
       "</thead>\n",
       "<tbody>\n",
       "\t<tr><td>121</td><td>0.7759061</td><td>NA</td><td>         NA</td><td>      NA</td><td>       NA</td></tr>\n",
       "\t<tr><td>122</td><td>0.7872952</td><td>-1</td><td>-0.01138909</td><td>1.776092</td><td>0.1851341</td></tr>\n",
       "</tbody>\n",
       "</table>\n"
      ],
      "text/latex": [
       "A anova: 2 × 6\n",
       "\\begin{tabular}{r|llllll}\n",
       " Res.Df & RSS & Df & Sum of Sq & F & Pr(>F)\\\\\n",
       " <dbl> & <dbl> & <dbl> & <dbl> & <dbl> & <dbl>\\\\\n",
       "\\hline\n",
       "\t 121 & 0.7759061 & NA &          NA &       NA &        NA\\\\\n",
       "\t 122 & 0.7872952 & -1 & -0.01138909 & 1.776092 & 0.1851341\\\\\n",
       "\\end{tabular}\n"
      ],
      "text/markdown": [
       "\n",
       "A anova: 2 × 6\n",
       "\n",
       "| Res.Df &lt;dbl&gt; | RSS &lt;dbl&gt; | Df &lt;dbl&gt; | Sum of Sq &lt;dbl&gt; | F &lt;dbl&gt; | Pr(&gt;F) &lt;dbl&gt; |\n",
       "|---|---|---|---|---|---|\n",
       "| 121 | 0.7759061 | NA |          NA |       NA |        NA |\n",
       "| 122 | 0.7872952 | -1 | -0.01138909 | 1.776092 | 0.1851341 |\n",
       "\n"
      ],
      "text/plain": [
       "  Res.Df RSS       Df Sum of Sq   F        Pr(>F)   \n",
       "1 121    0.7759061 NA          NA       NA        NA\n",
       "2 122    0.7872952 -1 -0.01138909 1.776092 0.1851341"
      ]
     },
     "metadata": {},
     "output_type": "display_data"
    }
   ],
   "source": [
    "anova(fit_6, fit_1)"
   ]
  },
  {
   "cell_type": "code",
   "execution_count": 81,
   "metadata": {},
   "outputs": [
    {
     "data": {
      "text/html": [
       "<table>\n",
       "<caption>A tibble: 4 × 7</caption>\n",
       "<thead>\n",
       "\t<tr><th scope=col>term</th><th scope=col>estimate</th><th scope=col>std.error</th><th scope=col>statistic</th><th scope=col>p.value</th><th scope=col>p.value.adjust</th><th scope=col>significant</th></tr>\n",
       "\t<tr><th scope=col>&lt;chr&gt;</th><th scope=col>&lt;dbl&gt;</th><th scope=col>&lt;dbl&gt;</th><th scope=col>&lt;dbl&gt;</th><th scope=col>&lt;dbl&gt;</th><th scope=col>&lt;dbl&gt;</th><th scope=col>&lt;lgl&gt;</th></tr>\n",
       "</thead>\n",
       "<tbody>\n",
       "\t<tr><td>(Intercept)       </td><td>-0.07937245</td><td>0.054303867</td><td>-1.461635</td><td>1.464334e-01</td><td>1.464334e-01</td><td>FALSE</td></tr>\n",
       "\t<tr><td>age_65up_sqrt     </td><td> 0.05474364</td><td>0.010020816</td><td> 5.462992</td><td>2.545043e-07</td><td>1.018017e-06</td><td> TRUE</td></tr>\n",
       "\t<tr><td>med_bed_log       </td><td>-0.03475098</td><td>0.011714801</td><td>-2.966416</td><td>3.631331e-03</td><td>4.841775e-03</td><td> TRUE</td></tr>\n",
       "\t<tr><td>confirmed_rate_log</td><td>-0.01625724</td><td>0.004134599</td><td>-3.931999</td><td>1.408823e-04</td><td>2.817647e-04</td><td> TRUE</td></tr>\n",
       "</tbody>\n",
       "</table>\n"
      ],
      "text/latex": [
       "A tibble: 4 × 7\n",
       "\\begin{tabular}{r|lllllll}\n",
       " term & estimate & std.error & statistic & p.value & p.value.adjust & significant\\\\\n",
       " <chr> & <dbl> & <dbl> & <dbl> & <dbl> & <dbl> & <lgl>\\\\\n",
       "\\hline\n",
       "\t (Intercept)        & -0.07937245 & 0.054303867 & -1.461635 & 1.464334e-01 & 1.464334e-01 & FALSE\\\\\n",
       "\t age\\_65up\\_sqrt      &  0.05474364 & 0.010020816 &  5.462992 & 2.545043e-07 & 1.018017e-06 &  TRUE\\\\\n",
       "\t med\\_bed\\_log        & -0.03475098 & 0.011714801 & -2.966416 & 3.631331e-03 & 4.841775e-03 &  TRUE\\\\\n",
       "\t confirmed\\_rate\\_log & -0.01625724 & 0.004134599 & -3.931999 & 1.408823e-04 & 2.817647e-04 &  TRUE\\\\\n",
       "\\end{tabular}\n"
      ],
      "text/markdown": [
       "\n",
       "A tibble: 4 × 7\n",
       "\n",
       "| term &lt;chr&gt; | estimate &lt;dbl&gt; | std.error &lt;dbl&gt; | statistic &lt;dbl&gt; | p.value &lt;dbl&gt; | p.value.adjust &lt;dbl&gt; | significant &lt;lgl&gt; |\n",
       "|---|---|---|---|---|---|---|\n",
       "| (Intercept)        | -0.07937245 | 0.054303867 | -1.461635 | 1.464334e-01 | 1.464334e-01 | FALSE |\n",
       "| age_65up_sqrt      |  0.05474364 | 0.010020816 |  5.462992 | 2.545043e-07 | 1.018017e-06 |  TRUE |\n",
       "| med_bed_log        | -0.03475098 | 0.011714801 | -2.966416 | 3.631331e-03 | 4.841775e-03 |  TRUE |\n",
       "| confirmed_rate_log | -0.01625724 | 0.004134599 | -3.931999 | 1.408823e-04 | 2.817647e-04 |  TRUE |\n",
       "\n"
      ],
      "text/plain": [
       "  term               estimate    std.error   statistic p.value     \n",
       "1 (Intercept)        -0.07937245 0.054303867 -1.461635 1.464334e-01\n",
       "2 age_65up_sqrt       0.05474364 0.010020816  5.462992 2.545043e-07\n",
       "3 med_bed_log        -0.03475098 0.011714801 -2.966416 3.631331e-03\n",
       "4 confirmed_rate_log -0.01625724 0.004134599 -3.931999 1.408823e-04\n",
       "  p.value.adjust significant\n",
       "1 1.464334e-01   FALSE      \n",
       "2 1.018017e-06    TRUE      \n",
       "3 4.841775e-03    TRUE      \n",
       "4 2.817647e-04    TRUE      "
      ]
     },
     "metadata": {},
     "output_type": "display_data"
    }
   ],
   "source": [
    "# add med_bed_log and confirmed_rate_log to the base model\n",
    "fit_7 <- lm(rate_sqrt ~ age_65up_sqrt + med_bed_log + confirmed_rate_log, df_trans)\n",
    "\n",
    "analyze_lm(fit_7)"
   ]
  },
  {
   "cell_type": "code",
   "execution_count": 83,
   "metadata": {},
   "outputs": [
    {
     "data": {
      "text/html": [
       "<table>\n",
       "<caption>A anova: 2 × 6</caption>\n",
       "<thead>\n",
       "\t<tr><th scope=col>Res.Df</th><th scope=col>RSS</th><th scope=col>Df</th><th scope=col>Sum of Sq</th><th scope=col>F</th><th scope=col>Pr(&gt;F)</th></tr>\n",
       "\t<tr><th scope=col>&lt;dbl&gt;</th><th scope=col>&lt;dbl&gt;</th><th scope=col>&lt;dbl&gt;</th><th scope=col>&lt;dbl&gt;</th><th scope=col>&lt;dbl&gt;</th><th scope=col>&lt;dbl&gt;</th></tr>\n",
       "</thead>\n",
       "<tbody>\n",
       "\t<tr><td>121</td><td>0.6980968</td><td>NA</td><td>        NA</td><td>      NA</td><td>          NA</td></tr>\n",
       "\t<tr><td>122</td><td>0.7872952</td><td>-1</td><td>-0.0891984</td><td>15.46062</td><td>0.0001408823</td></tr>\n",
       "</tbody>\n",
       "</table>\n"
      ],
      "text/latex": [
       "A anova: 2 × 6\n",
       "\\begin{tabular}{r|llllll}\n",
       " Res.Df & RSS & Df & Sum of Sq & F & Pr(>F)\\\\\n",
       " <dbl> & <dbl> & <dbl> & <dbl> & <dbl> & <dbl>\\\\\n",
       "\\hline\n",
       "\t 121 & 0.6980968 & NA &         NA &       NA &           NA\\\\\n",
       "\t 122 & 0.7872952 & -1 & -0.0891984 & 15.46062 & 0.0001408823\\\\\n",
       "\\end{tabular}\n"
      ],
      "text/markdown": [
       "\n",
       "A anova: 2 × 6\n",
       "\n",
       "| Res.Df &lt;dbl&gt; | RSS &lt;dbl&gt; | Df &lt;dbl&gt; | Sum of Sq &lt;dbl&gt; | F &lt;dbl&gt; | Pr(&gt;F) &lt;dbl&gt; |\n",
       "|---|---|---|---|---|---|\n",
       "| 121 | 0.6980968 | NA |         NA |       NA |           NA |\n",
       "| 122 | 0.7872952 | -1 | -0.0891984 | 15.46062 | 0.0001408823 |\n",
       "\n"
      ],
      "text/plain": [
       "  Res.Df RSS       Df Sum of Sq  F        Pr(>F)      \n",
       "1 121    0.6980968 NA         NA       NA           NA\n",
       "2 122    0.7872952 -1 -0.0891984 15.46062 0.0001408823"
      ]
     },
     "metadata": {},
     "output_type": "display_data"
    }
   ],
   "source": [
    "anova(fit_7, fit_1)"
   ]
  },
  {
   "cell_type": "code",
   "execution_count": 84,
   "metadata": {},
   "outputs": [
    {
     "data": {
      "text/html": [
       "<table>\n",
       "<caption>A anova: 2 × 6</caption>\n",
       "<thead>\n",
       "\t<tr><th scope=col>Res.Df</th><th scope=col>RSS</th><th scope=col>Df</th><th scope=col>Sum of Sq</th><th scope=col>F</th><th scope=col>Pr(&gt;F)</th></tr>\n",
       "\t<tr><th scope=col>&lt;dbl&gt;</th><th scope=col>&lt;dbl&gt;</th><th scope=col>&lt;dbl&gt;</th><th scope=col>&lt;dbl&gt;</th><th scope=col>&lt;dbl&gt;</th><th scope=col>&lt;dbl&gt;</th></tr>\n",
       "</thead>\n",
       "<tbody>\n",
       "\t<tr><td>121</td><td>0.6980968</td><td>NA</td><td>         NA</td><td>      NA</td><td>         NA</td></tr>\n",
       "\t<tr><td>122</td><td>0.7488653</td><td>-1</td><td>-0.05076851</td><td>8.799625</td><td>0.003631331</td></tr>\n",
       "</tbody>\n",
       "</table>\n"
      ],
      "text/latex": [
       "A anova: 2 × 6\n",
       "\\begin{tabular}{r|llllll}\n",
       " Res.Df & RSS & Df & Sum of Sq & F & Pr(>F)\\\\\n",
       " <dbl> & <dbl> & <dbl> & <dbl> & <dbl> & <dbl>\\\\\n",
       "\\hline\n",
       "\t 121 & 0.6980968 & NA &          NA &       NA &          NA\\\\\n",
       "\t 122 & 0.7488653 & -1 & -0.05076851 & 8.799625 & 0.003631331\\\\\n",
       "\\end{tabular}\n"
      ],
      "text/markdown": [
       "\n",
       "A anova: 2 × 6\n",
       "\n",
       "| Res.Df &lt;dbl&gt; | RSS &lt;dbl&gt; | Df &lt;dbl&gt; | Sum of Sq &lt;dbl&gt; | F &lt;dbl&gt; | Pr(&gt;F) &lt;dbl&gt; |\n",
       "|---|---|---|---|---|---|\n",
       "| 121 | 0.6980968 | NA |          NA |       NA |          NA |\n",
       "| 122 | 0.7488653 | -1 | -0.05076851 | 8.799625 | 0.003631331 |\n",
       "\n"
      ],
      "text/plain": [
       "  Res.Df RSS       Df Sum of Sq   F        Pr(>F)     \n",
       "1 121    0.6980968 NA          NA       NA          NA\n",
       "2 122    0.7488653 -1 -0.05076851 8.799625 0.003631331"
      ]
     },
     "metadata": {},
     "output_type": "display_data"
    }
   ],
   "source": [
    "anova(fit_7, fit_3)"
   ]
  },
  {
   "cell_type": "code",
   "execution_count": 85,
   "metadata": {},
   "outputs": [
    {
     "data": {
      "image/png": "[encoded data removed]",
      "text/plain": [
       "Plot with title \"\""
      ]
     },
     "metadata": {
      "image/png": {
       "height": 420,
       "width": 420
      },
      "text/plain": {
       "height": 420,
       "width": 420
      }
     },
     "output_type": "display_data"
    },
    {
     "data": {
      "image/png": "[encoded data removed]",
      "text/plain": [
       "Plot with title \"\""
      ]
     },
     "metadata": {
      "image/png": {
       "height": 420,
       "width": 420
      },
      "text/plain": {
       "height": 420,
       "width": 420
      }
     },
     "output_type": "display_data"
    },
    {
     "data": {
      "image/png": "[encoded data removed]",
      "text/plain": [
       "Plot with title \"\""
      ]
     },
     "metadata": {
      "image/png": {
       "height": 420,
       "width": 420
      },
      "text/plain": {
       "height": 420,
       "width": 420
      }
     },
     "output_type": "display_data"
    },
    {
     "data": {
      "image/png": "[encoded data removed]",
      "text/plain": [
       "Plot with title \"\""
      ]
     },
     "metadata": {
      "image/png": {
       "height": 420,
       "width": 420
      },
      "text/plain": {
       "height": 420,
       "width": 420
      }
     },
     "output_type": "display_data"
    }
   ],
   "source": [
    "plot(fit_7)"
   ]
  },
  {
   "cell_type": "code",
   "execution_count": 309,
   "metadata": {},
   "outputs": [
    {
     "data": {
      "text/html": [
       "-2"
      ],
      "text/latex": [
       "-2"
      ],
      "text/markdown": [
       "-2"
      ],
      "text/plain": [
       "[1] -2"
      ]
     },
     "metadata": {},
     "output_type": "display_data"
    },
    {
     "data": {
      "image/png": "[encoded data removed]",
      "text/plain": [
       "plot without title"
      ]
     },
     "metadata": {
      "image/png": {
       "height": 420,
       "width": 420
      },
      "text/plain": {
       "height": 420,
       "width": 420
      }
     },
     "output_type": "display_data"
    }
   ],
   "source": [
    "bc = MASS::boxcox(fit)\n",
    "best_lam = bc$x[which(bc$y == max(bc$y))]\n",
    "best_lam"
   ]
  },
  {
   "cell_type": "code",
   "execution_count": 93,
   "metadata": {},
   "outputs": [
    {
     "data": {
      "text/html": [
       "<table>\n",
       "<caption>A tibble: 4 × 7</caption>\n",
       "<thead>\n",
       "\t<tr><th scope=col>term</th><th scope=col>estimate</th><th scope=col>std.error</th><th scope=col>statistic</th><th scope=col>p.value</th><th scope=col>p.value.adjust</th><th scope=col>significant</th></tr>\n",
       "\t<tr><th scope=col>&lt;chr&gt;</th><th scope=col>&lt;dbl&gt;</th><th scope=col>&lt;dbl&gt;</th><th scope=col>&lt;dbl&gt;</th><th scope=col>&lt;dbl&gt;</th><th scope=col>&lt;dbl&gt;</th><th scope=col>&lt;lgl&gt;</th></tr>\n",
       "</thead>\n",
       "<tbody>\n",
       "\t<tr><td>(Intercept)       </td><td> 0.07162423</td><td>0.060590968</td><td> 1.182094</td><td>2.394862e-01</td><td>2.394862e-01</td><td>FALSE</td></tr>\n",
       "\t<tr><td>age_65up_sqrt     </td><td> 0.06945491</td><td>0.011180989</td><td> 6.211876</td><td>7.666104e-09</td><td>3.066442e-08</td><td> TRUE</td></tr>\n",
       "\t<tr><td>med_bed_log       </td><td>-0.04123936</td><td>0.013071098</td><td>-3.155004</td><td>2.025168e-03</td><td>2.700224e-03</td><td> TRUE</td></tr>\n",
       "\t<tr><td>confirmed_rate_log</td><td>-0.02157625</td><td>0.004613288</td><td>-4.676980</td><td>7.642687e-06</td><td>1.528537e-05</td><td> TRUE</td></tr>\n",
       "</tbody>\n",
       "</table>\n"
      ],
      "text/latex": [
       "A tibble: 4 × 7\n",
       "\\begin{tabular}{r|lllllll}\n",
       " term & estimate & std.error & statistic & p.value & p.value.adjust & significant\\\\\n",
       " <chr> & <dbl> & <dbl> & <dbl> & <dbl> & <dbl> & <lgl>\\\\\n",
       "\\hline\n",
       "\t (Intercept)        &  0.07162423 & 0.060590968 &  1.182094 & 2.394862e-01 & 2.394862e-01 & FALSE\\\\\n",
       "\t age\\_65up\\_sqrt      &  0.06945491 & 0.011180989 &  6.211876 & 7.666104e-09 & 3.066442e-08 &  TRUE\\\\\n",
       "\t med\\_bed\\_log        & -0.04123936 & 0.013071098 & -3.155004 & 2.025168e-03 & 2.700224e-03 &  TRUE\\\\\n",
       "\t confirmed\\_rate\\_log & -0.02157625 & 0.004613288 & -4.676980 & 7.642687e-06 & 1.528537e-05 &  TRUE\\\\\n",
       "\\end{tabular}\n"
      ],
      "text/markdown": [
       "\n",
       "A tibble: 4 × 7\n",
       "\n",
       "| term &lt;chr&gt; | estimate &lt;dbl&gt; | std.error &lt;dbl&gt; | statistic &lt;dbl&gt; | p.value &lt;dbl&gt; | p.value.adjust &lt;dbl&gt; | significant &lt;lgl&gt; |\n",
       "|---|---|---|---|---|---|---|\n",
       "| (Intercept)        |  0.07162423 | 0.060590968 |  1.182094 | 2.394862e-01 | 2.394862e-01 | FALSE |\n",
       "| age_65up_sqrt      |  0.06945491 | 0.011180989 |  6.211876 | 7.666104e-09 | 3.066442e-08 |  TRUE |\n",
       "| med_bed_log        | -0.04123936 | 0.013071098 | -3.155004 | 2.025168e-03 | 2.700224e-03 |  TRUE |\n",
       "| confirmed_rate_log | -0.02157625 | 0.004613288 | -4.676980 | 7.642687e-06 | 1.528537e-05 |  TRUE |\n",
       "\n"
      ],
      "text/plain": [
       "  term               estimate    std.error   statistic p.value     \n",
       "1 (Intercept)         0.07162423 0.060590968  1.182094 2.394862e-01\n",
       "2 age_65up_sqrt       0.06945491 0.011180989  6.211876 7.666104e-09\n",
       "3 med_bed_log        -0.04123936 0.013071098 -3.155004 2.025168e-03\n",
       "4 confirmed_rate_log -0.02157625 0.004613288 -4.676980 7.642687e-06\n",
       "  p.value.adjust significant\n",
       "1 2.394862e-01   FALSE      \n",
       "2 3.066442e-08    TRUE      \n",
       "3 2.700224e-03    TRUE      \n",
       "4 1.528537e-05    TRUE      "
      ]
     },
     "metadata": {},
     "output_type": "display_data"
    },
    {
     "data": {
      "image/png": "[encoded data removed]",
      "text/plain": [
       "Plot with title \"\""
      ]
     },
     "metadata": {
      "image/png": {
       "height": 420,
       "width": 420
      },
      "text/plain": {
       "height": 420,
       "width": 420
      }
     },
     "output_type": "display_data"
    },
    {
     "data": {
      "image/png": "[encoded data removed]",
      "text/plain": [
       "Plot with title \"\""
      ]
     },
     "metadata": {
      "image/png": {
       "height": 420,
       "width": 420
      },
      "text/plain": {
       "height": 420,
       "width": 420
      }
     },
     "output_type": "display_data"
    },
    {
     "data": {
      "image/png": "[encoded data removed]",
      "text/plain": [
       "Plot with title \"\""
      ]
     },
     "metadata": {
      "image/png": {
       "height": 420,
       "width": 420
      },
      "text/plain": {
       "height": 420,
       "width": 420
      }
     },
     "output_type": "display_data"
    },
    {
     "data": {
      "image/png": "[encoded data removed]",
      "text/plain": [
       "Plot with title \"\""
      ]
     },
     "metadata": {
      "image/png": {
       "height": 420,
       "width": 420
      },
      "text/plain": {
       "height": 420,
       "width": 420
      }
     },
     "output_type": "display_data"
    }
   ],
   "source": [
    "fit_8 <- lm(sqrt(rate_sqrt) ~ age_65up_sqrt + med_bed_log + confirmed_rate_log, df_trans)\n",
    "\n",
    "analyze_lm(fit_8)\n",
    "\n",
    "plot(fit_8)"
   ]
  },
  {
   "cell_type": "code",
   "execution_count": 94,
   "metadata": {},
   "outputs": [
    {
     "data": {
      "text/html": [
       "<table>\n",
       "<caption>A tibble: 5 × 7</caption>\n",
       "<thead>\n",
       "\t<tr><th scope=col>term</th><th scope=col>estimate</th><th scope=col>std.error</th><th scope=col>statistic</th><th scope=col>p.value</th><th scope=col>p.value.adjust</th><th scope=col>significant</th></tr>\n",
       "\t<tr><th scope=col>&lt;chr&gt;</th><th scope=col>&lt;dbl&gt;</th><th scope=col>&lt;dbl&gt;</th><th scope=col>&lt;dbl&gt;</th><th scope=col>&lt;dbl&gt;</th><th scope=col>&lt;dbl&gt;</th><th scope=col>&lt;lgl&gt;</th></tr>\n",
       "</thead>\n",
       "<tbody>\n",
       "\t<tr><td>(Intercept)                     </td><td>-0.24868439</td><td>0.092672220</td><td>-2.683484</td><td>8.314934e-03</td><td>1.039367e-02</td><td>TRUE</td></tr>\n",
       "\t<tr><td>age_65up_sqrt                   </td><td> 0.19386064</td><td>0.030369649</td><td> 6.383368</td><td>3.402373e-09</td><td>1.701187e-08</td><td>TRUE</td></tr>\n",
       "\t<tr><td>confirmed_rate_log              </td><td>-0.06219908</td><td>0.010259808</td><td>-6.062402</td><td>1.597477e-08</td><td>3.993691e-08</td><td>TRUE</td></tr>\n",
       "\t<tr><td>med_bed_log                     </td><td>-0.02754460</td><td>0.012592072</td><td>-2.187456</td><td>3.064785e-02</td><td>3.064785e-02</td><td>TRUE</td></tr>\n",
       "\t<tr><td>age_65up_sqrt:confirmed_rate_log</td><td> 0.01694398</td><td>0.003884689</td><td> 4.361733</td><td>2.745050e-05</td><td>4.575083e-05</td><td>TRUE</td></tr>\n",
       "</tbody>\n",
       "</table>\n"
      ],
      "text/latex": [
       "A tibble: 5 × 7\n",
       "\\begin{tabular}{r|lllllll}\n",
       " term & estimate & std.error & statistic & p.value & p.value.adjust & significant\\\\\n",
       " <chr> & <dbl> & <dbl> & <dbl> & <dbl> & <dbl> & <lgl>\\\\\n",
       "\\hline\n",
       "\t (Intercept)                      & -0.24868439 & 0.092672220 & -2.683484 & 8.314934e-03 & 1.039367e-02 & TRUE\\\\\n",
       "\t age\\_65up\\_sqrt                    &  0.19386064 & 0.030369649 &  6.383368 & 3.402373e-09 & 1.701187e-08 & TRUE\\\\\n",
       "\t confirmed\\_rate\\_log               & -0.06219908 & 0.010259808 & -6.062402 & 1.597477e-08 & 3.993691e-08 & TRUE\\\\\n",
       "\t med\\_bed\\_log                      & -0.02754460 & 0.012592072 & -2.187456 & 3.064785e-02 & 3.064785e-02 & TRUE\\\\\n",
       "\t age\\_65up\\_sqrt:confirmed\\_rate\\_log &  0.01694398 & 0.003884689 &  4.361733 & 2.745050e-05 & 4.575083e-05 & TRUE\\\\\n",
       "\\end{tabular}\n"
      ],
      "text/markdown": [
       "\n",
       "A tibble: 5 × 7\n",
       "\n",
       "| term &lt;chr&gt; | estimate &lt;dbl&gt; | std.error &lt;dbl&gt; | statistic &lt;dbl&gt; | p.value &lt;dbl&gt; | p.value.adjust &lt;dbl&gt; | significant &lt;lgl&gt; |\n",
       "|---|---|---|---|---|---|---|\n",
       "| (Intercept)                      | -0.24868439 | 0.092672220 | -2.683484 | 8.314934e-03 | 1.039367e-02 | TRUE |\n",
       "| age_65up_sqrt                    |  0.19386064 | 0.030369649 |  6.383368 | 3.402373e-09 | 1.701187e-08 | TRUE |\n",
       "| confirmed_rate_log               | -0.06219908 | 0.010259808 | -6.062402 | 1.597477e-08 | 3.993691e-08 | TRUE |\n",
       "| med_bed_log                      | -0.02754460 | 0.012592072 | -2.187456 | 3.064785e-02 | 3.064785e-02 | TRUE |\n",
       "| age_65up_sqrt:confirmed_rate_log |  0.01694398 | 0.003884689 |  4.361733 | 2.745050e-05 | 4.575083e-05 | TRUE |\n",
       "\n"
      ],
      "text/plain": [
       "  term                             estimate    std.error   statistic\n",
       "1 (Intercept)                      -0.24868439 0.092672220 -2.683484\n",
       "2 age_65up_sqrt                     0.19386064 0.030369649  6.383368\n",
       "3 confirmed_rate_log               -0.06219908 0.010259808 -6.062402\n",
       "4 med_bed_log                      -0.02754460 0.012592072 -2.187456\n",
       "5 age_65up_sqrt:confirmed_rate_log  0.01694398 0.003884689  4.361733\n",
       "  p.value      p.value.adjust significant\n",
       "1 8.314934e-03 1.039367e-02   TRUE       \n",
       "2 3.402373e-09 1.701187e-08   TRUE       \n",
       "3 1.597477e-08 3.993691e-08   TRUE       \n",
       "4 3.064785e-02 3.064785e-02   TRUE       \n",
       "5 2.745050e-05 4.575083e-05   TRUE       "
      ]
     },
     "metadata": {},
     "output_type": "display_data"
    },
    {
     "data": {
      "text/html": [
       "<table>\n",
       "<caption>A anova: 2 × 6</caption>\n",
       "<thead>\n",
       "\t<tr><th scope=col>Res.Df</th><th scope=col>RSS</th><th scope=col>Df</th><th scope=col>Sum of Sq</th><th scope=col>F</th><th scope=col>Pr(&gt;F)</th></tr>\n",
       "\t<tr><th scope=col>&lt;dbl&gt;</th><th scope=col>&lt;dbl&gt;</th><th scope=col>&lt;dbl&gt;</th><th scope=col>&lt;dbl&gt;</th><th scope=col>&lt;dbl&gt;</th><th scope=col>&lt;dbl&gt;</th></tr>\n",
       "</thead>\n",
       "<tbody>\n",
       "\t<tr><td>121</td><td>0.8691003</td><td>NA</td><td>       NA</td><td>      NA</td><td>         NA</td></tr>\n",
       "\t<tr><td>120</td><td>0.7501690</td><td> 1</td><td>0.1189313</td><td>19.02472</td><td>2.74505e-05</td></tr>\n",
       "</tbody>\n",
       "</table>\n"
      ],
      "text/latex": [
       "A anova: 2 × 6\n",
       "\\begin{tabular}{r|llllll}\n",
       " Res.Df & RSS & Df & Sum of Sq & F & Pr(>F)\\\\\n",
       " <dbl> & <dbl> & <dbl> & <dbl> & <dbl> & <dbl>\\\\\n",
       "\\hline\n",
       "\t 121 & 0.8691003 & NA &        NA &       NA &          NA\\\\\n",
       "\t 120 & 0.7501690 &  1 & 0.1189313 & 19.02472 & 2.74505e-05\\\\\n",
       "\\end{tabular}\n"
      ],
      "text/markdown": [
       "\n",
       "A anova: 2 × 6\n",
       "\n",
       "| Res.Df &lt;dbl&gt; | RSS &lt;dbl&gt; | Df &lt;dbl&gt; | Sum of Sq &lt;dbl&gt; | F &lt;dbl&gt; | Pr(&gt;F) &lt;dbl&gt; |\n",
       "|---|---|---|---|---|---|\n",
       "| 121 | 0.8691003 | NA |        NA |       NA |          NA |\n",
       "| 120 | 0.7501690 |  1 | 0.1189313 | 19.02472 | 2.74505e-05 |\n",
       "\n"
      ],
      "text/plain": [
       "  Res.Df RSS       Df Sum of Sq F        Pr(>F)     \n",
       "1 121    0.8691003 NA        NA       NA          NA\n",
       "2 120    0.7501690  1 0.1189313 19.02472 2.74505e-05"
      ]
     },
     "metadata": {},
     "output_type": "display_data"
    },
    {
     "data": {
      "image/png": "[encoded data removed]",
      "text/plain": [
       "Plot with title \"\""
      ]
     },
     "metadata": {
      "image/png": {
       "height": 420,
       "width": 420
      },
      "text/plain": {
       "height": 420,
       "width": 420
      }
     },
     "output_type": "display_data"
    },
    {
     "data": {
      "image/png": "[encoded data removed]",
      "text/plain": [
       "Plot with title \"\""
      ]
     },
     "metadata": {
      "image/png": {
       "height": 420,
       "width": 420
      },
      "text/plain": {
       "height": 420,
       "width": 420
      }
     },
     "output_type": "display_data"
    },
    {
     "data": {
      "image/png": "[encoded data removed]",
      "text/plain": [
       "Plot with title \"\""
      ]
     },
     "metadata": {
      "image/png": {
       "height": 420,
       "width": 420
      },
      "text/plain": {
       "height": 420,
       "width": 420
      }
     },
     "output_type": "display_data"
    },
    {
     "data": {
      "image/png": "[encoded data removed]",
      "text/plain": [
       "Plot with title \"\""
      ]
     },
     "metadata": {
      "image/png": {
       "height": 420,
       "width": 420
      },
      "text/plain": {
       "height": 420,
       "width": 420
      }
     },
     "output_type": "display_data"
    }
   ],
   "source": [
    "fit_9 <- lm(sqrt(rate_sqrt) ~ age_65up_sqrt +age_65up_sqrt*confirmed_rate_log + \n",
    "                med_bed_log + confirmed_rate_log, df_trans)\n",
    "\n",
    "analyze_lm(fit_9)\n",
    "\n",
    "anova(fit_8, fit_9)\n",
    "\n",
    "plot(fit_9)"
   ]
  },
  {
   "cell_type": "markdown",
   "metadata": {},
   "source": [
    "3) GLM"
   ]
  },
  {
   "cell_type": "code",
   "execution_count": 433,
   "metadata": {},
   "outputs": [
    {
     "data": {
      "text/html": [
       "<table>\n",
       "<caption>A tibble: 4 × 7</caption>\n",
       "<thead>\n",
       "\t<tr><th scope=col>term</th><th scope=col>estimate</th><th scope=col>std.error</th><th scope=col>statistic</th><th scope=col>p.value</th><th scope=col>p.value.adjust</th><th scope=col>significant</th></tr>\n",
       "\t<tr><th scope=col>&lt;chr&gt;</th><th scope=col>&lt;dbl&gt;</th><th scope=col>&lt;dbl&gt;</th><th scope=col>&lt;dbl&gt;</th><th scope=col>&lt;dbl&gt;</th><th scope=col>&lt;dbl&gt;</th><th scope=col>&lt;lgl&gt;</th></tr>\n",
       "</thead>\n",
       "<tbody>\n",
       "\t<tr><td>(Intercept)           </td><td> 0.10521183</td><td>0.022462543</td><td> 4.683879</td><td>7.035401e-06</td><td>2.814161e-05</td><td>TRUE</td></tr>\n",
       "\t<tr><td>log(age_65up)         </td><td> 0.01331214</td><td>0.004036965</td><td> 3.297562</td><td>1.260339e-03</td><td>1.260339e-03</td><td>TRUE</td></tr>\n",
       "\t<tr><td>log(med_bed)          </td><td>-0.01532122</td><td>0.003436917</td><td>-4.457838</td><td>1.779298e-05</td><td>3.558596e-05</td><td>TRUE</td></tr>\n",
       "\t<tr><td>log(death_100_ind + 1)</td><td>-0.10563603</td><td>0.029146710</td><td>-3.624287</td><td>4.155627e-04</td><td>5.540836e-04</td><td>TRUE</td></tr>\n",
       "</tbody>\n",
       "</table>\n"
      ],
      "text/latex": [
       "A tibble: 4 × 7\n",
       "\\begin{tabular}{r|lllllll}\n",
       " term & estimate & std.error & statistic & p.value & p.value.adjust & significant\\\\\n",
       " <chr> & <dbl> & <dbl> & <dbl> & <dbl> & <dbl> & <lgl>\\\\\n",
       "\\hline\n",
       "\t (Intercept)            &  0.10521183 & 0.022462543 &  4.683879 & 7.035401e-06 & 2.814161e-05 & TRUE\\\\\n",
       "\t log(age\\_65up)          &  0.01331214 & 0.004036965 &  3.297562 & 1.260339e-03 & 1.260339e-03 & TRUE\\\\\n",
       "\t log(med\\_bed)           & -0.01532122 & 0.003436917 & -4.457838 & 1.779298e-05 & 3.558596e-05 & TRUE\\\\\n",
       "\t log(death\\_100\\_ind + 1) & -0.10563603 & 0.029146710 & -3.624287 & 4.155627e-04 & 5.540836e-04 & TRUE\\\\\n",
       "\\end{tabular}\n"
      ],
      "text/markdown": [
       "\n",
       "A tibble: 4 × 7\n",
       "\n",
       "| term &lt;chr&gt; | estimate &lt;dbl&gt; | std.error &lt;dbl&gt; | statistic &lt;dbl&gt; | p.value &lt;dbl&gt; | p.value.adjust &lt;dbl&gt; | significant &lt;lgl&gt; |\n",
       "|---|---|---|---|---|---|---|\n",
       "| (Intercept)            |  0.10521183 | 0.022462543 |  4.683879 | 7.035401e-06 | 2.814161e-05 | TRUE |\n",
       "| log(age_65up)          |  0.01331214 | 0.004036965 |  3.297562 | 1.260339e-03 | 1.260339e-03 | TRUE |\n",
       "| log(med_bed)           | -0.01532122 | 0.003436917 | -4.457838 | 1.779298e-05 | 3.558596e-05 | TRUE |\n",
       "| log(death_100_ind + 1) | -0.10563603 | 0.029146710 | -3.624287 | 4.155627e-04 | 5.540836e-04 | TRUE |\n",
       "\n"
      ],
      "text/plain": [
       "  term                   estimate    std.error   statistic p.value     \n",
       "1 (Intercept)             0.10521183 0.022462543  4.683879 7.035401e-06\n",
       "2 log(age_65up)           0.01331214 0.004036965  3.297562 1.260339e-03\n",
       "3 log(med_bed)           -0.01532122 0.003436917 -4.457838 1.779298e-05\n",
       "4 log(death_100_ind + 1) -0.10563603 0.029146710 -3.624287 4.155627e-04\n",
       "  p.value.adjust significant\n",
       "1 2.814161e-05   TRUE       \n",
       "2 1.260339e-03   TRUE       \n",
       "3 3.558596e-05   TRUE       \n",
       "4 5.540836e-04   TRUE       "
      ]
     },
     "metadata": {},
     "output_type": "display_data"
    },
    {
     "data": {
      "image/png": "[encoded data removed]",
      "text/plain": [
       "Plot with title \"\""
      ]
     },
     "metadata": {
      "image/png": {
       "height": 420,
       "width": 420
      },
      "text/plain": {
       "height": 420,
       "width": 420
      }
     },
     "output_type": "display_data"
    },
    {
     "data": {
      "image/png": "[encoded data removed]",
      "text/plain": [
       "Plot with title \"\""
      ]
     },
     "metadata": {
      "image/png": {
       "height": 420,
       "width": 420
      },
      "text/plain": {
       "height": 420,
       "width": 420
      }
     },
     "output_type": "display_data"
    },
    {
     "data": {
      "image/png": "[encoded data removed]",
      "text/plain": [
       "Plot with title \"\""
      ]
     },
     "metadata": {
      "image/png": {
       "height": 420,
       "width": 420
      },
      "text/plain": {
       "height": 420,
       "width": 420
      }
     },
     "output_type": "display_data"
    },
    {
     "data": {
      "image/png": "[encoded data removed]",
      "text/plain": [
       "Plot with title \"\""
      ]
     },
     "metadata": {
      "image/png": {
       "height": 420,
       "width": 420
      },
      "text/plain": {
       "height": 420,
       "width": 420
      }
     },
     "output_type": "display_data"
    }
   ],
   "source": [
    "\n",
    "fit <- df_sub %>%\n",
    "    mutate(rate = (rate*(133 -1) + 2)/133) %>%\n",
    "    glm(rate ~ log(age_65up) + log(med_bed) + log(death_100_ind+1), family = Gamma(link = \"identity\"), .)\n",
    "results <- analyze_lm(fit)\n",
    "results\n",
    "plot(fit)"
   ]
  },
  {
   "cell_type": "markdown",
   "metadata": {},
   "source": [
    "4) Bootstrapping"
   ]
  },
  {
   "cell_type": "code",
   "execution_count": 438,
   "metadata": {},
   "outputs": [],
   "source": [
    "set.seed(12345)\n",
    "N <- 1000\n",
    "\n",
    "fits <- df_sub %>%\n",
    "    mutate(rate = (rate*(133 -1) + 2)/133) %>%\n",
    "    rsample::bootstraps(N) %>% \n",
    "    mutate(lm = map(splits, ~ glm(rate ~ log(age_65up) + log(med_bed) + log(death_100_ind+1), \n",
    "                                  family = Gamma(link = \"identity\"), .)),\n",
    "           tidy = map(lm, broom::tidy)) %>% \n",
    "    select(-splits, -lm) %>% \n",
    "    unnest(tidy)\n",
    "\n"
   ]
  },
  {
   "cell_type": "code",
   "execution_count": null,
   "metadata": {},
   "outputs": [],
   "source": [
    "\n",
    "plot_results <-  function (fits, label, obs){\n",
    "    boot_fits <- fits %>% \n",
    "        filter(term == label)\n",
    "    \n",
    "    t_star <- tibble(t_star = (boot_fits$estimate - obs$estimate)/boot_fits$std.error)\n",
    "    pval_boot <- (1 + sum(abs(t_star) > abs(obs$statistic)))/(N+1)\n",
    "    hist <- t_star %>% \n",
    "        ggplot(aes(t_star)) +\n",
    "            geom_histogram(bins = 30) +\n",
    "            geom_vline(xintercept = obs$statistic, color = \"red\")\n",
    "    \n",
    "    return(list(pval_boot, hist))\n",
    "}"
   ]
  },
  {
   "cell_type": "code",
   "execution_count": 439,
   "metadata": {},
   "outputs": [
    {
     "name": "stderr",
     "output_type": "stream",
     "text": [
      "`stat_bin()` using `bins = 30`. Pick better value with `binwidth`.\n",
      "\n"
     ]
    },
    {
     "data": {
      "text/plain": [
       "[[1]]\n",
       "[1] 0.000999001\n",
       "\n",
       "[[2]]\n"
      ]
     },
     "metadata": {},
     "output_type": "display_data"
    },
    {
     "data": {
      "image/png": "[encoded data removed]",
      "text/plain": [
       "plot without title"
      ]
     },
     "metadata": {
      "image/png": {
       "height": 420,
       "width": 420
      },
      "text/plain": {
       "height": 420,
       "width": 420
      }
     },
     "output_type": "display_data"
    }
   ],
   "source": [
    "age_65up_fits <- plot_results(fits, \"log(age_65up)\", results %>% filter(term == \"log(age_65up)\"))\n",
    "age_65up_fits"
   ]
  },
  {
   "cell_type": "code",
   "execution_count": 440,
   "metadata": {},
   "outputs": [
    {
     "name": "stderr",
     "output_type": "stream",
     "text": [
      "`stat_bin()` using `bins = 30`. Pick better value with `binwidth`.\n",
      "\n"
     ]
    },
    {
     "data": {
      "text/plain": [
       "[[1]]\n",
       "[1] 0.000999001\n",
       "\n",
       "[[2]]\n"
      ]
     },
     "metadata": {},
     "output_type": "display_data"
    },
    {
     "data": {
      "image/png": "[encoded data removed]",
      "text/plain": [
       "plot without title"
      ]
     },
     "metadata": {
      "image/png": {
       "height": 420,
       "width": 420
      },
      "text/plain": {
       "height": 420,
       "width": 420
      }
     },
     "output_type": "display_data"
    }
   ],
   "source": [
    "med_bed_fits <- plot_results(fits, \"log(med_bed)\", results %>% filter(term == \"log(med_bed)\"))\n",
    "med_bed_fits"
   ]
  },
  {
   "cell_type": "code",
   "execution_count": 441,
   "metadata": {},
   "outputs": [
    {
     "name": "stderr",
     "output_type": "stream",
     "text": [
      "`stat_bin()` using `bins = 30`. Pick better value with `binwidth`.\n",
      "\n"
     ]
    },
    {
     "data": {
      "text/plain": [
       "[[1]]\n",
       "[1] 0.001998002\n",
       "\n",
       "[[2]]\n"
      ]
     },
     "metadata": {},
     "output_type": "display_data"
    },
    {
     "data": {
      "image/png": "[encoded data removed]",
      "text/plain": [
       "plot without title"
      ]
     },
     "metadata": {
      "image/png": {
       "height": 420,
       "width": 420
      },
      "text/plain": {
       "height": 420,
       "width": 420
      }
     },
     "output_type": "display_data"
    }
   ],
   "source": [
    "death_100_ind_fits <- plot_results(fits, \"log(death_100_ind + 1)\", results %>% filter(term == \"log(death_100_ind + 1)\"))\n",
    "death_100_ind_fits"
   ]
  },
  {
   "cell_type": "markdown",
   "metadata": {},
   "source": [
    "#### II. Stratified analysis"
   ]
  },
  {
   "cell_type": "code",
   "execution_count": 165,
   "metadata": {},
   "outputs": [
    {
     "data": {
      "text/html": [
       "0.0552418394091017"
      ],
      "text/latex": [
       "0.0552418394091017"
      ],
      "text/markdown": [
       "0.0552418394091017"
      ],
      "text/plain": [
       "[1] 0.05524184"
      ]
     },
     "metadata": {},
     "output_type": "display_data"
    }
   ],
   "source": [
    "rate_75 <- quantile(covid19$rate, 0.75, na.rm = TRUE, names = FALSE)\n",
    "rate_75"
   ]
  },
  {
   "cell_type": "code",
   "execution_count": 166,
   "metadata": {},
   "outputs": [
    {
     "data": {
      "text/html": [
       "39"
      ],
      "text/latex": [
       "39"
      ],
      "text/markdown": [
       "39"
      ],
      "text/plain": [
       "[1] 39"
      ]
     },
     "metadata": {},
     "output_type": "display_data"
    }
   ],
   "source": [
    "sum(df_cp$rate > rate_75, na.rm = TRUE)"
   ]
  },
  {
   "cell_type": "code",
   "execution_count": 109,
   "metadata": {},
   "outputs": [
    {
     "data": {
      "text/html": [
       "<table>\n",
       "<caption>A data.frame: 6 × 7</caption>\n",
       "<thead>\n",
       "\t<tr><th></th><th scope=col>rate</th><th scope=col>age_65up</th><th scope=col>med_bed</th><th scope=col>pop_density</th><th scope=col>nurses_midwives</th><th scope=col>confirmed_rate</th><th scope=col>gov_resp</th></tr>\n",
       "\t<tr><th></th><th scope=col>&lt;dbl&gt;</th><th scope=col>&lt;dbl&gt;</th><th scope=col>&lt;dbl&gt;</th><th scope=col>&lt;dbl&gt;</th><th scope=col>&lt;dbl&gt;</th><th scope=col>&lt;dbl&gt;</th><th scope=col>&lt;dbl&gt;</th></tr>\n",
       "</thead>\n",
       "<tbody>\n",
       "\t<tr><th scope=row>1</th><td>0.03347035</td><td> 2.584927</td><td>0.5</td><td> 56.937760</td><td> 0.3200</td><td>4.581358e-05</td><td>73.55</td></tr>\n",
       "\t<tr><th scope=row>2</th><td>0.03804348</td><td>13.744736</td><td>2.9</td><td>104.612263</td><td> 3.5998</td><td>2.567702e-04</td><td>88.36</td></tr>\n",
       "\t<tr><th scope=row>3</th><td>0.12283196</td><td> 6.362497</td><td>1.9</td><td> 17.730075</td><td> 2.2400</td><td>8.328513e-05</td><td>82.42</td></tr>\n",
       "\t<tr><th scope=row>5</th><td>0.07407407</td><td> 2.216374</td><td>0.8</td><td> 24.713052</td><td> 1.3123</td><td>8.763456e-07</td><td>86.77</td></tr>\n",
       "\t<tr><th scope=row>6</th><td>0.04921309</td><td>11.117789</td><td>5.0</td><td> 16.258510</td><td> 2.5800</td><td>8.996617e-05</td><td>90.21</td></tr>\n",
       "\t<tr><th scope=row>7</th><td>0.01234935</td><td>15.656475</td><td>3.8</td><td>  3.249129</td><td>12.6612</td><td>2.690263e-04</td><td>68.26</td></tr>\n",
       "</tbody>\n",
       "</table>\n"
      ],
      "text/latex": [
       "A data.frame: 6 × 7\n",
       "\\begin{tabular}{r|lllllll}\n",
       "  & rate & age\\_65up & med\\_bed & pop\\_density & nurses\\_midwives & confirmed\\_rate & gov\\_resp\\\\\n",
       "  & <dbl> & <dbl> & <dbl> & <dbl> & <dbl> & <dbl> & <dbl>\\\\\n",
       "\\hline\n",
       "\t1 & 0.03347035 &  2.584927 & 0.5 &  56.937760 &  0.3200 & 4.581358e-05 & 73.55\\\\\n",
       "\t2 & 0.03804348 & 13.744736 & 2.9 & 104.612263 &  3.5998 & 2.567702e-04 & 88.36\\\\\n",
       "\t3 & 0.12283196 &  6.362497 & 1.9 &  17.730075 &  2.2400 & 8.328513e-05 & 82.42\\\\\n",
       "\t5 & 0.07407407 &  2.216374 & 0.8 &  24.713052 &  1.3123 & 8.763456e-07 & 86.77\\\\\n",
       "\t6 & 0.04921309 & 11.117789 & 5.0 &  16.258510 &  2.5800 & 8.996617e-05 & 90.21\\\\\n",
       "\t7 & 0.01234935 & 15.656475 & 3.8 &   3.249129 & 12.6612 & 2.690263e-04 & 68.26\\\\\n",
       "\\end{tabular}\n"
      ],
      "text/markdown": [
       "\n",
       "A data.frame: 6 × 7\n",
       "\n",
       "| <!--/--> | rate &lt;dbl&gt; | age_65up &lt;dbl&gt; | med_bed &lt;dbl&gt; | pop_density &lt;dbl&gt; | nurses_midwives &lt;dbl&gt; | confirmed_rate &lt;dbl&gt; | gov_resp &lt;dbl&gt; |\n",
       "|---|---|---|---|---|---|---|---|\n",
       "| 1 | 0.03347035 |  2.584927 | 0.5 |  56.937760 |  0.3200 | 4.581358e-05 | 73.55 |\n",
       "| 2 | 0.03804348 | 13.744736 | 2.9 | 104.612263 |  3.5998 | 2.567702e-04 | 88.36 |\n",
       "| 3 | 0.12283196 |  6.362497 | 1.9 |  17.730075 |  2.2400 | 8.328513e-05 | 82.42 |\n",
       "| 5 | 0.07407407 |  2.216374 | 0.8 |  24.713052 |  1.3123 | 8.763456e-07 | 86.77 |\n",
       "| 6 | 0.04921309 | 11.117789 | 5.0 |  16.258510 |  2.5800 | 8.996617e-05 | 90.21 |\n",
       "| 7 | 0.01234935 | 15.656475 | 3.8 |   3.249129 | 12.6612 | 2.690263e-04 | 68.26 |\n",
       "\n"
      ],
      "text/plain": [
       "  rate       age_65up  med_bed pop_density nurses_midwives confirmed_rate\n",
       "1 0.03347035  2.584927 0.5      56.937760   0.3200         4.581358e-05  \n",
       "2 0.03804348 13.744736 2.9     104.612263   3.5998         2.567702e-04  \n",
       "3 0.12283196  6.362497 1.9      17.730075   2.2400         8.328513e-05  \n",
       "5 0.07407407  2.216374 0.8      24.713052   1.3123         8.763456e-07  \n",
       "6 0.04921309 11.117789 5.0      16.258510   2.5800         8.996617e-05  \n",
       "7 0.01234935 15.656475 3.8       3.249129  12.6612         2.690263e-04  \n",
       "  gov_resp\n",
       "1 73.55   \n",
       "2 88.36   \n",
       "3 82.42   \n",
       "5 86.77   \n",
       "6 90.21   \n",
       "7 68.26   "
      ]
     },
     "metadata": {},
     "output_type": "display_data"
    }
   ],
   "source": [
    "head(df_sub)"
   ]
  },
  {
   "cell_type": "code",
   "execution_count": 179,
   "metadata": {},
   "outputs": [
    {
     "data": {
      "text/html": [
       "<dl class=dl-horizontal>\n",
       "\t<dt>(0,2.3]</dt>\n",
       "\t\t<dd>69</dd>\n",
       "\t<dt>(2.3,Inf]</dt>\n",
       "\t\t<dd>66</dd>\n",
       "</dl>\n"
      ],
      "text/latex": [
       "\\begin{description*}\n",
       "\\item[(0,2.3\\{{]}\\}] 69\n",
       "\\item[(2.3,Inf\\{{]}\\}] 66\n",
       "\\end{description*}\n"
      ],
      "text/markdown": [
       "(0,2.3]\n",
       ":   69(2.3,Inf]\n",
       ":   66\n",
       "\n"
      ],
      "text/plain": [
       "  (0,2.3] (2.3,Inf] \n",
       "       69        66 "
      ]
     },
     "metadata": {},
     "output_type": "display_data"
    }
   ],
   "source": [
    "med_bed_bin <- cut(df_sub$med_bed, breaks = c(0, quantile(df_sub$med_bed, 1/2), Inf))\n",
    "summary(med_bed_bin)"
   ]
  },
  {
   "cell_type": "code",
   "execution_count": 172,
   "metadata": {},
   "outputs": [
    {
     "data": {
      "text/html": [
       "<dl class=dl-horizontal>\n",
       "\t<dt>(0,49.4]</dt>\n",
       "\t\t<dd>45</dd>\n",
       "\t<dt>(49.4,124]</dt>\n",
       "\t\t<dd>45</dd>\n",
       "\t<dt>(124,Inf]</dt>\n",
       "\t\t<dd>45</dd>\n",
       "</dl>\n"
      ],
      "text/latex": [
       "\\begin{description*}\n",
       "\\item[(0,49.4\\{{]}\\}] 45\n",
       "\\item[(49.4,124\\{{]}\\}] 45\n",
       "\\item[(124,Inf\\{{]}\\}] 45\n",
       "\\end{description*}\n"
      ],
      "text/markdown": [
       "(0,49.4]\n",
       ":   45(49.4,124]\n",
       ":   45(124,Inf]\n",
       ":   45\n",
       "\n"
      ],
      "text/plain": [
       "  (0,49.4] (49.4,124]  (124,Inf] \n",
       "        45         45         45 "
      ]
     },
     "metadata": {},
     "output_type": "display_data"
    }
   ],
   "source": [
    "pop_density_bin <- cut(df_sub$pop_density, breaks = c(0, quantile(df_sub$pop_density, (1:2)/3), Inf))\n",
    "summary(pop_density_bin)"
   ]
  },
  {
   "cell_type": "code",
   "execution_count": 173,
   "metadata": {},
   "outputs": [
    {
     "data": {
      "text/html": [
       "<dl class=dl-horizontal>\n",
       "\t<dt>(0,1.42]</dt>\n",
       "\t\t<dd>45</dd>\n",
       "\t<dt>(1.42,5.71]</dt>\n",
       "\t\t<dd>45</dd>\n",
       "\t<dt>(5.71,Inf]</dt>\n",
       "\t\t<dd>45</dd>\n",
       "</dl>\n"
      ],
      "text/latex": [
       "\\begin{description*}\n",
       "\\item[(0,1.42\\{{]}\\}] 45\n",
       "\\item[(1.42,5.71\\{{]}\\}] 45\n",
       "\\item[(5.71,Inf\\{{]}\\}] 45\n",
       "\\end{description*}\n"
      ],
      "text/markdown": [
       "(0,1.42]\n",
       ":   45(1.42,5.71]\n",
       ":   45(5.71,Inf]\n",
       ":   45\n",
       "\n"
      ],
      "text/plain": [
       "   (0,1.42] (1.42,5.71]  (5.71,Inf] \n",
       "         45          45          45 "
      ]
     },
     "metadata": {},
     "output_type": "display_data"
    }
   ],
   "source": [
    "nurses_midwives_bin <- cut(df_sub$nurses_midwives, breaks = c(0, quantile(df_sub$nurses_midwives, (1:2)/3), Inf))\n",
    "summary(nurses_midwives_bin)"
   ]
  },
  {
   "cell_type": "code",
   "execution_count": 180,
   "metadata": {},
   "outputs": [
    {
     "data": {
      "text/html": [
       "<dl class=dl-horizontal>\n",
       "\t<dt>(0,0.000124]</dt>\n",
       "\t\t<dd>68</dd>\n",
       "\t<dt>(0.000124,Inf]</dt>\n",
       "\t\t<dd>67</dd>\n",
       "</dl>\n"
      ],
      "text/latex": [
       "\\begin{description*}\n",
       "\\item[(0,0.000124\\{{]}\\}] 68\n",
       "\\item[(0.000124,Inf\\{{]}\\}] 67\n",
       "\\end{description*}\n"
      ],
      "text/markdown": [
       "(0,0.000124]\n",
       ":   68(0.000124,Inf]\n",
       ":   67\n",
       "\n"
      ],
      "text/plain": [
       "  (0,0.000124] (0.000124,Inf] \n",
       "            68             67 "
      ]
     },
     "metadata": {},
     "output_type": "display_data"
    }
   ],
   "source": [
    "confirmed_rate_bin <- cut(df_sub$confirmed_rate, breaks = c(0, quantile(df_sub$confirmed_rate, 1/2), Inf))\n",
    "summary(confirmed_rate_bin)"
   ]
  },
  {
   "cell_type": "code",
   "execution_count": 175,
   "metadata": {},
   "outputs": [
    {
     "data": {
      "text/html": [
       "<dl class=dl-horizontal>\n",
       "\t<dt>(0,78.8]</dt>\n",
       "\t\t<dd>45</dd>\n",
       "\t<dt>(78.8,88.6]</dt>\n",
       "\t\t<dd>46</dd>\n",
       "\t<dt>(88.6,Inf]</dt>\n",
       "\t\t<dd>44</dd>\n",
       "</dl>\n"
      ],
      "text/latex": [
       "\\begin{description*}\n",
       "\\item[(0,78.8\\{{]}\\}] 45\n",
       "\\item[(78.8,88.6\\{{]}\\}] 46\n",
       "\\item[(88.6,Inf\\{{]}\\}] 44\n",
       "\\end{description*}\n"
      ],
      "text/markdown": [
       "(0,78.8]\n",
       ":   45(78.8,88.6]\n",
       ":   46(88.6,Inf]\n",
       ":   44\n",
       "\n"
      ],
      "text/plain": [
       "   (0,78.8] (78.8,88.6]  (88.6,Inf] \n",
       "         45          46          44 "
      ]
     },
     "metadata": {},
     "output_type": "display_data"
    }
   ],
   "source": [
    "gov_resp_bin <- cut(df_sub$gov_resp, breaks = c(0, quantile(df_sub$gov_resp, (1:2)/3), Inf))\n",
    "summary(gov_resp_bin)"
   ]
  },
  {
   "cell_type": "code",
   "execution_count": 193,
   "metadata": {},
   "outputs": [
    {
     "data": {
      "text/html": [
       "<table>\n",
       "<caption>A tibble: 6 × 8</caption>\n",
       "<thead>\n",
       "\t<tr><th scope=col>med_bed_bin</th><th scope=col>pop_density_bin</th><th scope=col>nurses_midwives_bin</th><th scope=col>confirmed_rate_bin</th><th scope=col>gov_resp_bin</th><th scope=col>age_65up</th><th scope=col>rate</th><th scope=col>rate_cat</th></tr>\n",
       "\t<tr><th scope=col>&lt;fct&gt;</th><th scope=col>&lt;fct&gt;</th><th scope=col>&lt;fct&gt;</th><th scope=col>&lt;fct&gt;</th><th scope=col>&lt;fct&gt;</th><th scope=col>&lt;dbl&gt;</th><th scope=col>&lt;dbl&gt;</th><th scope=col>&lt;fct&gt;</th></tr>\n",
       "</thead>\n",
       "<tbody>\n",
       "\t<tr><td>(0,2.3]  </td><td>(49.4,124]</td><td>(0,1.42]   </td><td>(0,0.000124]  </td><td>(0,78.8]   </td><td> 2.584927</td><td>0.03172867</td><td>0</td></tr>\n",
       "\t<tr><td>(2.3,Inf]</td><td>(49.4,124]</td><td>(1.42,5.71]</td><td>(0.000124,Inf]</td><td>(78.8,88.6]</td><td>13.744736</td><td>0.04000000</td><td>0</td></tr>\n",
       "\t<tr><td>(0,2.3]  </td><td>(0,49.4]  </td><td>(1.42,5.71]</td><td>(0,0.000124]  </td><td>(78.8,88.6]</td><td> 6.362497</td><td>0.11975884</td><td>1</td></tr>\n",
       "\t<tr><td>(0,2.3]  </td><td>(0,49.4]  </td><td>(0,1.42]   </td><td>(0,0.000124]  </td><td>(78.8,88.6]</td><td> 2.216374</td><td>0.07407407</td><td>1</td></tr>\n",
       "\t<tr><td>(2.3,Inf]</td><td>(0,49.4]  </td><td>(1.42,5.71]</td><td>(0,0.000124]  </td><td>(88.6,Inf] </td><td>11.117789</td><td>0.05015750</td><td>0</td></tr>\n",
       "\t<tr><td>(2.3,Inf]</td><td>(0,49.4]  </td><td>(5.71,Inf] </td><td>(0.000124,Inf]</td><td>(0,78.8]   </td><td>15.656475</td><td>0.01319692</td><td>0</td></tr>\n",
       "</tbody>\n",
       "</table>\n"
      ],
      "text/latex": [
       "A tibble: 6 × 8\n",
       "\\begin{tabular}{r|llllllll}\n",
       " med\\_bed\\_bin & pop\\_density\\_bin & nurses\\_midwives\\_bin & confirmed\\_rate\\_bin & gov\\_resp\\_bin & age\\_65up & rate & rate\\_cat\\\\\n",
       " <fct> & <fct> & <fct> & <fct> & <fct> & <dbl> & <dbl> & <fct>\\\\\n",
       "\\hline\n",
       "\t (0,2.3{]}   & (49.4,124{]} & (0,1.42{]}    & (0,0.000124{]}   & (0,78.8{]}    &  2.584927 & 0.03172867 & 0\\\\\n",
       "\t (2.3,Inf{]} & (49.4,124{]} & (1.42,5.71{]} & (0.000124,Inf{]} & (78.8,88.6{]} & 13.744736 & 0.04000000 & 0\\\\\n",
       "\t (0,2.3{]}   & (0,49.4{]}   & (1.42,5.71{]} & (0,0.000124{]}   & (78.8,88.6{]} &  6.362497 & 0.11975884 & 1\\\\\n",
       "\t (0,2.3{]}   & (0,49.4{]}   & (0,1.42{]}    & (0,0.000124{]}   & (78.8,88.6{]} &  2.216374 & 0.07407407 & 1\\\\\n",
       "\t (2.3,Inf{]} & (0,49.4{]}   & (1.42,5.71{]} & (0,0.000124{]}   & (88.6,Inf{]}  & 11.117789 & 0.05015750 & 0\\\\\n",
       "\t (2.3,Inf{]} & (0,49.4{]}   & (5.71,Inf{]}  & (0.000124,Inf{]} & (0,78.8{]}    & 15.656475 & 0.01319692 & 0\\\\\n",
       "\\end{tabular}\n"
      ],
      "text/markdown": [
       "\n",
       "A tibble: 6 × 8\n",
       "\n",
       "| med_bed_bin &lt;fct&gt; | pop_density_bin &lt;fct&gt; | nurses_midwives_bin &lt;fct&gt; | confirmed_rate_bin &lt;fct&gt; | gov_resp_bin &lt;fct&gt; | age_65up &lt;dbl&gt; | rate &lt;dbl&gt; | rate_cat &lt;fct&gt; |\n",
       "|---|---|---|---|---|---|---|---|\n",
       "| (0,2.3]   | (49.4,124] | (0,1.42]    | (0,0.000124]   | (0,78.8]    |  2.584927 | 0.03172867 | 0 |\n",
       "| (2.3,Inf] | (49.4,124] | (1.42,5.71] | (0.000124,Inf] | (78.8,88.6] | 13.744736 | 0.04000000 | 0 |\n",
       "| (0,2.3]   | (0,49.4]   | (1.42,5.71] | (0,0.000124]   | (78.8,88.6] |  6.362497 | 0.11975884 | 1 |\n",
       "| (0,2.3]   | (0,49.4]   | (0,1.42]    | (0,0.000124]   | (78.8,88.6] |  2.216374 | 0.07407407 | 1 |\n",
       "| (2.3,Inf] | (0,49.4]   | (1.42,5.71] | (0,0.000124]   | (88.6,Inf]  | 11.117789 | 0.05015750 | 0 |\n",
       "| (2.3,Inf] | (0,49.4]   | (5.71,Inf]  | (0.000124,Inf] | (0,78.8]    | 15.656475 | 0.01319692 | 0 |\n",
       "\n"
      ],
      "text/plain": [
       "  med_bed_bin pop_density_bin nurses_midwives_bin confirmed_rate_bin\n",
       "1 (0,2.3]     (49.4,124]      (0,1.42]            (0,0.000124]      \n",
       "2 (2.3,Inf]   (49.4,124]      (1.42,5.71]         (0.000124,Inf]    \n",
       "3 (0,2.3]     (0,49.4]        (1.42,5.71]         (0,0.000124]      \n",
       "4 (0,2.3]     (0,49.4]        (0,1.42]            (0,0.000124]      \n",
       "5 (2.3,Inf]   (0,49.4]        (1.42,5.71]         (0,0.000124]      \n",
       "6 (2.3,Inf]   (0,49.4]        (5.71,Inf]          (0.000124,Inf]    \n",
       "  gov_resp_bin age_65up  rate       rate_cat\n",
       "1 (0,78.8]      2.584927 0.03172867 0       \n",
       "2 (78.8,88.6]  13.744736 0.04000000 0       \n",
       "3 (78.8,88.6]   6.362497 0.11975884 1       \n",
       "4 (78.8,88.6]   2.216374 0.07407407 1       \n",
       "5 (88.6,Inf]   11.117789 0.05015750 0       \n",
       "6 (0,78.8]     15.656475 0.01319692 0       "
      ]
     },
     "metadata": {},
     "output_type": "display_data"
    }
   ],
   "source": [
    "df_bin <- tibble(med_bed_bin = med_bed_bin,\n",
    "                 pop_density_bin = pop_density_bin,\n",
    "                 nurses_midwives_bin = nurses_midwives_bin,\n",
    "                 confirmed_rate_bin = confirmed_rate_bin,\n",
    "                 gov_resp_bin = gov_resp_bin)\n",
    "df_bin$age_65up <- df_sub$age_65up\n",
    "df_bin$rate <- df_sub$rate\n",
    "df_bin <- df_bin %>%\n",
    "    mutate(rate_cat = factor(if_else(rate > rate_75, 1, 0)))\n",
    "head(df_bin)"
   ]
  },
  {
   "cell_type": "code",
   "execution_count": 170,
   "metadata": {},
   "outputs": [
    {
     "data": {
      "text/plain": [
       "    med_bed_bin   pop_density_bin  nurses_midwives_bin      confirmed_rate_bin\n",
       " (0,2.3]  :69   (0,49.4]  :45     (0,1.42]   :45       (0,0.000124]  :68      \n",
       " (2.3,Inf]:66   (49.4,124]:45     (1.42,5.71]:45       (0.000124,Inf]:67      \n",
       "                (124,Inf] :45     (5.71,Inf] :45                              \n",
       "                                                                              \n",
       "                                                                              \n",
       "                                                                              \n",
       "      gov_resp_bin    age_65up      rate_cat\n",
       " (0,78.8]   :45    Min.   : 1.085   0:98    \n",
       " (78.8,88.6]:46    1st Qu.: 3.741   1:37    \n",
       " (88.6,Inf] :44    Median : 7.157           \n",
       "                   Mean   : 9.336           \n",
       "                   3rd Qu.:15.000           \n",
       "                   Max.   :27.576           "
      ]
     },
     "metadata": {},
     "output_type": "display_data"
    }
   ],
   "source": [
    "summary(df_bin)"
   ]
  },
  {
   "cell_type": "code",
   "execution_count": 182,
   "metadata": {},
   "outputs": [
    {
     "data": {
      "text/html": [
       "<table>\n",
       "<caption>A grouped_df: 4 × 3</caption>\n",
       "<thead>\n",
       "\t<tr><th scope=col>med_bed_bin</th><th scope=col>confirmed_rate_bin</th><th scope=col>n</th></tr>\n",
       "\t<tr><th scope=col>&lt;fct&gt;</th><th scope=col>&lt;fct&gt;</th><th scope=col>&lt;int&gt;</th></tr>\n",
       "</thead>\n",
       "<tbody>\n",
       "\t<tr><td>(0,2.3]  </td><td>(0,0.000124]  </td><td>52</td></tr>\n",
       "\t<tr><td>(0,2.3]  </td><td>(0.000124,Inf]</td><td>17</td></tr>\n",
       "\t<tr><td>(2.3,Inf]</td><td>(0,0.000124]  </td><td>16</td></tr>\n",
       "\t<tr><td>(2.3,Inf]</td><td>(0.000124,Inf]</td><td>50</td></tr>\n",
       "</tbody>\n",
       "</table>\n"
      ],
      "text/latex": [
       "A grouped_df: 4 × 3\n",
       "\\begin{tabular}{r|lll}\n",
       " med\\_bed\\_bin & confirmed\\_rate\\_bin & n\\\\\n",
       " <fct> & <fct> & <int>\\\\\n",
       "\\hline\n",
       "\t (0,2.3{]}   & (0,0.000124{]}   & 52\\\\\n",
       "\t (0,2.3{]}   & (0.000124,Inf{]} & 17\\\\\n",
       "\t (2.3,Inf{]} & (0,0.000124{]}   & 16\\\\\n",
       "\t (2.3,Inf{]} & (0.000124,Inf{]} & 50\\\\\n",
       "\\end{tabular}\n"
      ],
      "text/markdown": [
       "\n",
       "A grouped_df: 4 × 3\n",
       "\n",
       "| med_bed_bin &lt;fct&gt; | confirmed_rate_bin &lt;fct&gt; | n &lt;int&gt; |\n",
       "|---|---|---|\n",
       "| (0,2.3]   | (0,0.000124]   | 52 |\n",
       "| (0,2.3]   | (0.000124,Inf] | 17 |\n",
       "| (2.3,Inf] | (0,0.000124]   | 16 |\n",
       "| (2.3,Inf] | (0.000124,Inf] | 50 |\n",
       "\n"
      ],
      "text/plain": [
       "  med_bed_bin confirmed_rate_bin n \n",
       "1 (0,2.3]     (0,0.000124]       52\n",
       "2 (0,2.3]     (0.000124,Inf]     17\n",
       "3 (2.3,Inf]   (0,0.000124]       16\n",
       "4 (2.3,Inf]   (0.000124,Inf]     50"
      ]
     },
     "metadata": {},
     "output_type": "display_data"
    }
   ],
   "source": [
    "df_bin %>%\n",
    "    group_by(med_bed_bin, confirmed_rate_bin) %>%\n",
    "    summarize(n = n())"
   ]
  },
  {
   "cell_type": "code",
   "execution_count": 194,
   "metadata": {},
   "outputs": [
    {
     "data": {
      "text/html": [
       "<table>\n",
       "<caption>A tibble: 2 × 5</caption>\n",
       "<thead>\n",
       "\t<tr><th scope=col>term</th><th scope=col>estimate</th><th scope=col>std.error</th><th scope=col>statistic</th><th scope=col>p.value</th></tr>\n",
       "\t<tr><th scope=col>&lt;chr&gt;</th><th scope=col>&lt;dbl&gt;</th><th scope=col>&lt;dbl&gt;</th><th scope=col>&lt;dbl&gt;</th><th scope=col>&lt;dbl&gt;</th></tr>\n",
       "</thead>\n",
       "<tbody>\n",
       "\t<tr><td>(Intercept)</td><td> 0.0525482896</td><td>0.013776109</td><td> 3.81445089</td><td>0.0003762625</td></tr>\n",
       "\t<tr><td>age_65up   </td><td>-0.0002679655</td><td>0.002779743</td><td>-0.09639937</td><td>0.9235887482</td></tr>\n",
       "</tbody>\n",
       "</table>\n"
      ],
      "text/latex": [
       "A tibble: 2 × 5\n",
       "\\begin{tabular}{r|lllll}\n",
       " term & estimate & std.error & statistic & p.value\\\\\n",
       " <chr> & <dbl> & <dbl> & <dbl> & <dbl>\\\\\n",
       "\\hline\n",
       "\t (Intercept) &  0.0525482896 & 0.013776109 &  3.81445089 & 0.0003762625\\\\\n",
       "\t age\\_65up    & -0.0002679655 & 0.002779743 & -0.09639937 & 0.9235887482\\\\\n",
       "\\end{tabular}\n"
      ],
      "text/markdown": [
       "\n",
       "A tibble: 2 × 5\n",
       "\n",
       "| term &lt;chr&gt; | estimate &lt;dbl&gt; | std.error &lt;dbl&gt; | statistic &lt;dbl&gt; | p.value &lt;dbl&gt; |\n",
       "|---|---|---|---|---|\n",
       "| (Intercept) |  0.0525482896 | 0.013776109 |  3.81445089 | 0.0003762625 |\n",
       "| age_65up    | -0.0002679655 | 0.002779743 | -0.09639937 | 0.9235887482 |\n",
       "\n"
      ],
      "text/plain": [
       "  term        estimate      std.error   statistic   p.value     \n",
       "1 (Intercept)  0.0525482896 0.013776109  3.81445089 0.0003762625\n",
       "2 age_65up    -0.0002679655 0.002779743 -0.09639937 0.9235887482"
      ]
     },
     "metadata": {},
     "output_type": "display_data"
    }
   ],
   "source": [
    "df_bin %>%\n",
    "    filter(med_bed_bin == \"(0,2.3]\", confirmed_rate_bin == \"(0,0.000124]\") %>%\n",
    "#     glm(rate_cat ~ age_65up, ., family = \"binomial\") %>%\n",
    "    lm(rate ~ age_65up, .) %>%\n",
    "    broom::tidy()"
   ]
  },
  {
   "cell_type": "code",
   "execution_count": 195,
   "metadata": {},
   "outputs": [
    {
     "data": {
      "text/html": [
       "<table>\n",
       "<caption>A tibble: 2 × 5</caption>\n",
       "<thead>\n",
       "\t<tr><th scope=col>term</th><th scope=col>estimate</th><th scope=col>std.error</th><th scope=col>statistic</th><th scope=col>p.value</th></tr>\n",
       "\t<tr><th scope=col>&lt;chr&gt;</th><th scope=col>&lt;dbl&gt;</th><th scope=col>&lt;dbl&gt;</th><th scope=col>&lt;dbl&gt;</th><th scope=col>&lt;dbl&gt;</th></tr>\n",
       "</thead>\n",
       "<tbody>\n",
       "\t<tr><td>(Intercept)</td><td>0.002024505</td><td>0.013458798</td><td>0.1504224</td><td>0.88243547</td></tr>\n",
       "\t<tr><td>age_65up   </td><td>0.004033686</td><td>0.002048089</td><td>1.9694875</td><td>0.06765233</td></tr>\n",
       "</tbody>\n",
       "</table>\n"
      ],
      "text/latex": [
       "A tibble: 2 × 5\n",
       "\\begin{tabular}{r|lllll}\n",
       " term & estimate & std.error & statistic & p.value\\\\\n",
       " <chr> & <dbl> & <dbl> & <dbl> & <dbl>\\\\\n",
       "\\hline\n",
       "\t (Intercept) & 0.002024505 & 0.013458798 & 0.1504224 & 0.88243547\\\\\n",
       "\t age\\_65up    & 0.004033686 & 0.002048089 & 1.9694875 & 0.06765233\\\\\n",
       "\\end{tabular}\n"
      ],
      "text/markdown": [
       "\n",
       "A tibble: 2 × 5\n",
       "\n",
       "| term &lt;chr&gt; | estimate &lt;dbl&gt; | std.error &lt;dbl&gt; | statistic &lt;dbl&gt; | p.value &lt;dbl&gt; |\n",
       "|---|---|---|---|---|\n",
       "| (Intercept) | 0.002024505 | 0.013458798 | 0.1504224 | 0.88243547 |\n",
       "| age_65up    | 0.004033686 | 0.002048089 | 1.9694875 | 0.06765233 |\n",
       "\n"
      ],
      "text/plain": [
       "  term        estimate    std.error   statistic p.value   \n",
       "1 (Intercept) 0.002024505 0.013458798 0.1504224 0.88243547\n",
       "2 age_65up    0.004033686 0.002048089 1.9694875 0.06765233"
      ]
     },
     "metadata": {},
     "output_type": "display_data"
    }
   ],
   "source": [
    "df_bin %>%\n",
    "    filter(med_bed_bin == \"(0,2.3]\", confirmed_rate_bin == \"(0.000124,Inf]\") %>%\n",
    "#     glm(rate_cat ~ age_65up, ., family = \"binomial\") %>%\n",
    "    lm(rate ~ age_65up, .) %>%\n",
    "    broom::tidy()"
   ]
  },
  {
   "cell_type": "code",
   "execution_count": 196,
   "metadata": {},
   "outputs": [
    {
     "data": {
      "text/html": [
       "<table>\n",
       "<caption>A tibble: 2 × 5</caption>\n",
       "<thead>\n",
       "\t<tr><th scope=col>term</th><th scope=col>estimate</th><th scope=col>std.error</th><th scope=col>statistic</th><th scope=col>p.value</th></tr>\n",
       "\t<tr><th scope=col>&lt;chr&gt;</th><th scope=col>&lt;dbl&gt;</th><th scope=col>&lt;dbl&gt;</th><th scope=col>&lt;dbl&gt;</th><th scope=col>&lt;dbl&gt;</th></tr>\n",
       "</thead>\n",
       "<tbody>\n",
       "\t<tr><td>(Intercept)</td><td>0.008359772</td><td>0.0088544166</td><td>0.9441359</td><td>0.3611099</td></tr>\n",
       "\t<tr><td>age_65up   </td><td>0.001535178</td><td>0.0009055709</td><td>1.6952594</td><td>0.1121422</td></tr>\n",
       "</tbody>\n",
       "</table>\n"
      ],
      "text/latex": [
       "A tibble: 2 × 5\n",
       "\\begin{tabular}{r|lllll}\n",
       " term & estimate & std.error & statistic & p.value\\\\\n",
       " <chr> & <dbl> & <dbl> & <dbl> & <dbl>\\\\\n",
       "\\hline\n",
       "\t (Intercept) & 0.008359772 & 0.0088544166 & 0.9441359 & 0.3611099\\\\\n",
       "\t age\\_65up    & 0.001535178 & 0.0009055709 & 1.6952594 & 0.1121422\\\\\n",
       "\\end{tabular}\n"
      ],
      "text/markdown": [
       "\n",
       "A tibble: 2 × 5\n",
       "\n",
       "| term &lt;chr&gt; | estimate &lt;dbl&gt; | std.error &lt;dbl&gt; | statistic &lt;dbl&gt; | p.value &lt;dbl&gt; |\n",
       "|---|---|---|---|---|\n",
       "| (Intercept) | 0.008359772 | 0.0088544166 | 0.9441359 | 0.3611099 |\n",
       "| age_65up    | 0.001535178 | 0.0009055709 | 1.6952594 | 0.1121422 |\n",
       "\n"
      ],
      "text/plain": [
       "  term        estimate    std.error    statistic p.value  \n",
       "1 (Intercept) 0.008359772 0.0088544166 0.9441359 0.3611099\n",
       "2 age_65up    0.001535178 0.0009055709 1.6952594 0.1121422"
      ]
     },
     "metadata": {},
     "output_type": "display_data"
    }
   ],
   "source": [
    "df_bin %>%\n",
    "    filter(med_bed_bin == \"(2.3,Inf]\", confirmed_rate_bin == \"(0,0.000124]\") %>%\n",
    "#     glm(rate_cat ~ age_65up, ., family = \"binomial\") %>%\n",
    "    lm(rate ~ age_65up, .) %>%\n",
    "    broom::tidy()"
   ]
  },
  {
   "cell_type": "code",
   "execution_count": 198,
   "metadata": {},
   "outputs": [
    {
     "data": {
      "text/html": [
       "<table>\n",
       "<caption>A tibble: 2 × 5</caption>\n",
       "<thead>\n",
       "\t<tr><th scope=col>term</th><th scope=col>estimate</th><th scope=col>std.error</th><th scope=col>statistic</th><th scope=col>p.value</th></tr>\n",
       "\t<tr><th scope=col>&lt;chr&gt;</th><th scope=col>&lt;dbl&gt;</th><th scope=col>&lt;dbl&gt;</th><th scope=col>&lt;dbl&gt;</th><th scope=col>&lt;dbl&gt;</th></tr>\n",
       "</thead>\n",
       "<tbody>\n",
       "\t<tr><td>(Intercept)</td><td>-0.026907752</td><td>0.017501321</td><td>-1.537470</td><td>1.307448e-01</td></tr>\n",
       "\t<tr><td>age_65up   </td><td> 0.004603878</td><td>0.001048214</td><td> 4.392116</td><td>6.162242e-05</td></tr>\n",
       "</tbody>\n",
       "</table>\n"
      ],
      "text/latex": [
       "A tibble: 2 × 5\n",
       "\\begin{tabular}{r|lllll}\n",
       " term & estimate & std.error & statistic & p.value\\\\\n",
       " <chr> & <dbl> & <dbl> & <dbl> & <dbl>\\\\\n",
       "\\hline\n",
       "\t (Intercept) & -0.026907752 & 0.017501321 & -1.537470 & 1.307448e-01\\\\\n",
       "\t age\\_65up    &  0.004603878 & 0.001048214 &  4.392116 & 6.162242e-05\\\\\n",
       "\\end{tabular}\n"
      ],
      "text/markdown": [
       "\n",
       "A tibble: 2 × 5\n",
       "\n",
       "| term &lt;chr&gt; | estimate &lt;dbl&gt; | std.error &lt;dbl&gt; | statistic &lt;dbl&gt; | p.value &lt;dbl&gt; |\n",
       "|---|---|---|---|---|\n",
       "| (Intercept) | -0.026907752 | 0.017501321 | -1.537470 | 1.307448e-01 |\n",
       "| age_65up    |  0.004603878 | 0.001048214 |  4.392116 | 6.162242e-05 |\n",
       "\n"
      ],
      "text/plain": [
       "  term        estimate     std.error   statistic p.value     \n",
       "1 (Intercept) -0.026907752 0.017501321 -1.537470 1.307448e-01\n",
       "2 age_65up     0.004603878 0.001048214  4.392116 6.162242e-05"
      ]
     },
     "metadata": {},
     "output_type": "display_data"
    }
   ],
   "source": [
    "df_bin %>%\n",
    "    filter(med_bed_bin == \"(2.3,Inf]\", confirmed_rate_bin == \"(0.000124,Inf]\") %>%\n",
    "#     glm(rate_cat ~ age_65up, ., family = \"binomial\") %>%\n",
    "    lm(rate ~ age_65up, .) %>%\n",
    "    broom::tidy()"
   ]
  },
  {
   "cell_type": "markdown",
   "metadata": {},
   "source": [
    "## 8. Summary and conclusions\n"
   ]
  },
  {
   "cell_type": "code",
   "execution_count": null,
   "metadata": {},
   "outputs": [],
   "source": []
  },
  {
   "cell_type": "code",
   "execution_count": null,
   "metadata": {},
   "outputs": [],
   "source": []
  },
  {
   "cell_type": "code",
   "execution_count": null,
   "metadata": {},
   "outputs": [],
   "source": []
  }
 ],
 "metadata": {
  "kernelspec": {
   "display_name": "R",
   "language": "R",
   "name": "ir"
  },
  "language_info": {
   "codemirror_mode": "r",
   "file_extension": ".r",
   "mimetype": "text/x-r-source",
   "name": "R",
   "pygments_lexer": "r",
   "version": "3.6.1"
  }
 },
 "nbformat": 4,
 "nbformat_minor": 4
}
