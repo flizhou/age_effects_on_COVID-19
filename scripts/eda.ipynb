{
 "cells": [
  {
   "cell_type": "markdown",
   "metadata": {},
   "source": [
    "# Exploratory data analysis"
   ]
  },
  {
   "cell_type": "markdown",
   "metadata": {},
   "source": [
    "## 1. Dataset description\n",
    "\n",
    "\n"
   ]
  },
  {
   "cell_type": "markdown",
   "metadata": {},
   "source": [
    "## 2. Load the dataset"
   ]
  },
  {
   "cell_type": "code",
   "execution_count": 49,
   "metadata": {},
   "outputs": [
    {
     "name": "stderr",
     "output_type": "stream",
     "text": [
      "Warning message:\n",
      "\"package 'mice' was built under R version 3.6.2\"\n",
      "Loading required package: lattice\n",
      "\n",
      "\n",
      "Attaching package: 'mice'\n",
      "\n",
      "\n",
      "The following object is masked from 'package:tidyr':\n",
      "\n",
      "    complete\n",
      "\n",
      "\n",
      "The following objects are masked from 'package:base':\n",
      "\n",
      "    cbind, rbind\n",
      "\n",
      "\n"
     ]
    }
   ],
   "source": [
    "library(testthat)\n",
    "library(MASS)\n",
    "library(mice)\n",
    "library(tidyverse)"
   ]
  },
  {
   "cell_type": "code",
   "execution_count": 2,
   "metadata": {},
   "outputs": [
    {
     "name": "stderr",
     "output_type": "stream",
     "text": [
      "Parsed with column specification:\n",
      "cols(\n",
      "  .default = col_double(),\n",
      "  `Province/State` = \u001b[31mcol_character()\u001b[39m,\n",
      "  `Country/Region` = \u001b[31mcol_character()\u001b[39m\n",
      ")\n",
      "\n",
      "See spec(...) for full column specifications.\n",
      "\n",
      "Parsed with column specification:\n",
      "cols(\n",
      "  .default = col_double(),\n",
      "  `Province/State` = \u001b[31mcol_character()\u001b[39m,\n",
      "  `Country/Region` = \u001b[31mcol_character()\u001b[39m\n",
      ")\n",
      "\n",
      "See spec(...) for full column specifications.\n",
      "\n"
     ]
    }
   ],
   "source": [
    "url <- \"https://github.com/CSSEGISandData/COVID-19/blob/master/csse_covid_19_data/csse_covid_19_time_series\"\n",
    "covid19_confirmed <- read_csv(paste(url, \"/time_series_covid19_confirmed_global.csv?raw=true\", sep = \"\"))\n",
    "covid19_death <- read_csv(paste(url, \"/time_series_covid19_deaths_global.csv?raw=true\", sep = \"\"))"
   ]
  },
  {
   "cell_type": "code",
   "execution_count": 3,
   "metadata": {},
   "outputs": [
    {
     "name": "stderr",
     "output_type": "stream",
     "text": [
      "Warning message:\n",
      "\"Missing column names filled in: 'X27' [27]\"\n",
      "Parsed with column specification:\n",
      "cols(\n",
      "  .default = col_double(),\n",
      "  CountryName = \u001b[31mcol_character()\u001b[39m,\n",
      "  CountryCode = \u001b[31mcol_character()\u001b[39m,\n",
      "  X27 = \u001b[33mcol_logical()\u001b[39m\n",
      ")\n",
      "\n",
      "See spec(...) for full column specifications.\n",
      "\n"
     ]
    }
   ],
   "source": [
    "gov_resp <- read_csv(\"https://raw.githubusercontent.com/OxCGRT/covid-policy-tracker/master/data/OxCGRT_latest.csv\")"
   ]
  },
  {
   "cell_type": "code",
   "execution_count": 4,
   "metadata": {},
   "outputs": [
    {
     "data": {
      "text/html": [
       "<table>\n",
       "<caption>A tibble: 6 × 99</caption>\n",
       "<thead>\n",
       "\t<tr><th scope=col>Province/State</th><th scope=col>Country/Region</th><th scope=col>Lat</th><th scope=col>Long</th><th scope=col>1/22/20</th><th scope=col>1/23/20</th><th scope=col>1/24/20</th><th scope=col>1/25/20</th><th scope=col>1/26/20</th><th scope=col>1/27/20</th><th scope=col>...</th><th scope=col>4/16/20</th><th scope=col>4/17/20</th><th scope=col>4/18/20</th><th scope=col>4/19/20</th><th scope=col>4/20/20</th><th scope=col>4/21/20</th><th scope=col>4/22/20</th><th scope=col>4/23/20</th><th scope=col>4/24/20</th><th scope=col>4/25/20</th></tr>\n",
       "\t<tr><th scope=col>&lt;chr&gt;</th><th scope=col>&lt;chr&gt;</th><th scope=col>&lt;dbl&gt;</th><th scope=col>&lt;dbl&gt;</th><th scope=col>&lt;dbl&gt;</th><th scope=col>&lt;dbl&gt;</th><th scope=col>&lt;dbl&gt;</th><th scope=col>&lt;dbl&gt;</th><th scope=col>&lt;dbl&gt;</th><th scope=col>&lt;dbl&gt;</th><th scope=col>...</th><th scope=col>&lt;dbl&gt;</th><th scope=col>&lt;dbl&gt;</th><th scope=col>&lt;dbl&gt;</th><th scope=col>&lt;dbl&gt;</th><th scope=col>&lt;dbl&gt;</th><th scope=col>&lt;dbl&gt;</th><th scope=col>&lt;dbl&gt;</th><th scope=col>&lt;dbl&gt;</th><th scope=col>&lt;dbl&gt;</th><th scope=col>&lt;dbl&gt;</th></tr>\n",
       "</thead>\n",
       "<tbody>\n",
       "\t<tr><td>NA</td><td>Afghanistan        </td><td> 33.0000</td><td> 65.0000</td><td>0</td><td>0</td><td>0</td><td>0</td><td>0</td><td>0</td><td>...</td><td> 840</td><td> 906</td><td> 933</td><td> 996</td><td>1026</td><td>1092</td><td>1176</td><td>1279</td><td>1351</td><td>1463</td></tr>\n",
       "\t<tr><td>NA</td><td>Albania            </td><td> 41.1533</td><td> 20.1683</td><td>0</td><td>0</td><td>0</td><td>0</td><td>0</td><td>0</td><td>...</td><td> 518</td><td> 539</td><td> 548</td><td> 562</td><td> 584</td><td> 609</td><td> 634</td><td> 663</td><td> 678</td><td> 712</td></tr>\n",
       "\t<tr><td>NA</td><td>Algeria            </td><td> 28.0339</td><td>  1.6596</td><td>0</td><td>0</td><td>0</td><td>0</td><td>0</td><td>0</td><td>...</td><td>2268</td><td>2418</td><td>2534</td><td>2629</td><td>2718</td><td>2811</td><td>2910</td><td>3007</td><td>3127</td><td>3256</td></tr>\n",
       "\t<tr><td>NA</td><td>Andorra            </td><td> 42.5063</td><td>  1.5218</td><td>0</td><td>0</td><td>0</td><td>0</td><td>0</td><td>0</td><td>...</td><td> 673</td><td> 696</td><td> 704</td><td> 713</td><td> 717</td><td> 717</td><td> 723</td><td> 723</td><td> 731</td><td> 738</td></tr>\n",
       "\t<tr><td>NA</td><td>Angola             </td><td>-11.2027</td><td> 17.8739</td><td>0</td><td>0</td><td>0</td><td>0</td><td>0</td><td>0</td><td>...</td><td>  19</td><td>  19</td><td>  24</td><td>  24</td><td>  24</td><td>  24</td><td>  25</td><td>  25</td><td>  25</td><td>  25</td></tr>\n",
       "\t<tr><td>NA</td><td>Antigua and Barbuda</td><td> 17.0608</td><td>-61.7964</td><td>0</td><td>0</td><td>0</td><td>0</td><td>0</td><td>0</td><td>...</td><td>  23</td><td>  23</td><td>  23</td><td>  23</td><td>  23</td><td>  23</td><td>  24</td><td>  24</td><td>  24</td><td>  24</td></tr>\n",
       "</tbody>\n",
       "</table>\n"
      ],
      "text/latex": [
       "A tibble: 6 × 99\n",
       "\\begin{tabular}{r|lllllllllllllllllllllllllllllllllllllllllllllllllllllllllllllllllllllllllllllllllllllllllllllllllll}\n",
       " Province/State & Country/Region & Lat & Long & 1/22/20 & 1/23/20 & 1/24/20 & 1/25/20 & 1/26/20 & 1/27/20 & 1/28/20 & 1/29/20 & 1/30/20 & 1/31/20 & 2/1/20 & 2/2/20 & 2/3/20 & 2/4/20 & 2/5/20 & 2/6/20 & 2/7/20 & 2/8/20 & 2/9/20 & 2/10/20 & 2/11/20 & 2/12/20 & 2/13/20 & 2/14/20 & 2/15/20 & 2/16/20 & 2/17/20 & 2/18/20 & 2/19/20 & 2/20/20 & 2/21/20 & 2/22/20 & 2/23/20 & 2/24/20 & 2/25/20 & 2/26/20 & 2/27/20 & 2/28/20 & 2/29/20 & 3/1/20 & 3/2/20 & 3/3/20 & 3/4/20 & 3/5/20 & 3/6/20 & 3/7/20 & 3/8/20 & 3/9/20 & 3/10/20 & 3/11/20 & 3/12/20 & 3/13/20 & 3/14/20 & 3/15/20 & 3/16/20 & 3/17/20 & 3/18/20 & 3/19/20 & 3/20/20 & 3/21/20 & 3/22/20 & 3/23/20 & 3/24/20 & 3/25/20 & 3/26/20 & 3/27/20 & 3/28/20 & 3/29/20 & 3/30/20 & 3/31/20 & 4/1/20 & 4/2/20 & 4/3/20 & 4/4/20 & 4/5/20 & 4/6/20 & 4/7/20 & 4/8/20 & 4/9/20 & 4/10/20 & 4/11/20 & 4/12/20 & 4/13/20 & 4/14/20 & 4/15/20 & 4/16/20 & 4/17/20 & 4/18/20 & 4/19/20 & 4/20/20 & 4/21/20 & 4/22/20 & 4/23/20 & 4/24/20 & 4/25/20\\\\\n",
       " <chr> & <chr> & <dbl> & <dbl> & <dbl> & <dbl> & <dbl> & <dbl> & <dbl> & <dbl> & <dbl> & <dbl> & <dbl> & <dbl> & <dbl> & <dbl> & <dbl> & <dbl> & <dbl> & <dbl> & <dbl> & <dbl> & <dbl> & <dbl> & <dbl> & <dbl> & <dbl> & <dbl> & <dbl> & <dbl> & <dbl> & <dbl> & <dbl> & <dbl> & <dbl> & <dbl> & <dbl> & <dbl> & <dbl> & <dbl> & <dbl> & <dbl> & <dbl> & <dbl> & <dbl> & <dbl> & <dbl> & <dbl> & <dbl> & <dbl> & <dbl> & <dbl> & <dbl> & <dbl> & <dbl> & <dbl> & <dbl> & <dbl> & <dbl> & <dbl> & <dbl> & <dbl> & <dbl> & <dbl> & <dbl> & <dbl> & <dbl> & <dbl> & <dbl> & <dbl> & <dbl> & <dbl> & <dbl> & <dbl> & <dbl> & <dbl> & <dbl> & <dbl> & <dbl> & <dbl> & <dbl> & <dbl> & <dbl> & <dbl> & <dbl> & <dbl> & <dbl> & <dbl> & <dbl> & <dbl> & <dbl> & <dbl> & <dbl> & <dbl> & <dbl> & <dbl> & <dbl> & <dbl> & <dbl>\\\\\n",
       "\\hline\n",
       "\t NA & Afghanistan         &  33.0000 &  65.0000 & 0 & 0 & 0 & 0 & 0 & 0 & 0 & 0 & 0 & 0 & 0 & 0 & 0 & 0 & 0 & 0 & 0 & 0 & 0 & 0 & 0 & 0 & 0 & 0 & 0 & 0 & 0 & 0 & 0 & 0 & 0 & 0 & 0 & 1 & 1 & 1 & 1 & 1 & 1 & 1 & 1 & 1 &  1 &  1 &  1 &  1 &  4 &  4 &  5 &  7 &  7 &  7 & 11 & 16 & 21 & 22 & 22 & 22 & 24 &  24 &  40 &  40 &  74 &  84 &  94 & 110 & 110 & 120 & 170 & 174 & 237 & 273 &  281 &  299 &  349 &  367 &  423 &  444 &  484 &  521 &  555 &  607 &  665 &  714 &  784 &  840 &  906 &  933 &  996 & 1026 & 1092 & 1176 & 1279 & 1351 & 1463\\\\\n",
       "\t NA & Albania             &  41.1533 &  20.1683 & 0 & 0 & 0 & 0 & 0 & 0 & 0 & 0 & 0 & 0 & 0 & 0 & 0 & 0 & 0 & 0 & 0 & 0 & 0 & 0 & 0 & 0 & 0 & 0 & 0 & 0 & 0 & 0 & 0 & 0 & 0 & 0 & 0 & 0 & 0 & 0 & 0 & 0 & 0 & 0 & 0 & 0 &  0 &  0 &  0 &  0 &  0 &  2 & 10 & 12 & 23 & 33 & 38 & 42 & 51 & 55 & 59 & 64 & 70 &  76 &  89 & 104 & 123 & 146 & 174 & 186 & 197 & 212 & 223 & 243 & 259 & 277 &  304 &  333 &  361 &  377 &  383 &  400 &  409 &  416 &  433 &  446 &  467 &  475 &  494 &  518 &  539 &  548 &  562 &  584 &  609 &  634 &  663 &  678 &  712\\\\\n",
       "\t NA & Algeria             &  28.0339 &   1.6596 & 0 & 0 & 0 & 0 & 0 & 0 & 0 & 0 & 0 & 0 & 0 & 0 & 0 & 0 & 0 & 0 & 0 & 0 & 0 & 0 & 0 & 0 & 0 & 0 & 0 & 0 & 0 & 0 & 0 & 0 & 0 & 0 & 0 & 0 & 1 & 1 & 1 & 1 & 1 & 1 & 3 & 5 & 12 & 12 & 17 & 17 & 19 & 20 & 20 & 20 & 24 & 26 & 37 & 48 & 54 & 60 & 74 & 87 & 90 & 139 & 201 & 230 & 264 & 302 & 367 & 409 & 454 & 511 & 584 & 716 & 847 & 986 & 1171 & 1251 & 1320 & 1423 & 1468 & 1572 & 1666 & 1761 & 1825 & 1914 & 1983 & 2070 & 2160 & 2268 & 2418 & 2534 & 2629 & 2718 & 2811 & 2910 & 3007 & 3127 & 3256\\\\\n",
       "\t NA & Andorra             &  42.5063 &   1.5218 & 0 & 0 & 0 & 0 & 0 & 0 & 0 & 0 & 0 & 0 & 0 & 0 & 0 & 0 & 0 & 0 & 0 & 0 & 0 & 0 & 0 & 0 & 0 & 0 & 0 & 0 & 0 & 0 & 0 & 0 & 0 & 0 & 0 & 0 & 0 & 0 & 0 & 0 & 0 & 0 & 1 & 1 &  1 &  1 &  1 &  1 &  1 &  1 &  1 &  1 &  1 &  1 &  1 &  1 &  2 & 39 & 39 & 53 & 75 &  88 & 113 & 133 & 164 & 188 & 224 & 267 & 308 & 334 & 370 & 376 & 390 & 428 &  439 &  466 &  501 &  525 &  545 &  564 &  583 &  601 &  601 &  638 &  646 &  659 &  673 &  673 &  696 &  704 &  713 &  717 &  717 &  723 &  723 &  731 &  738\\\\\n",
       "\t NA & Angola              & -11.2027 &  17.8739 & 0 & 0 & 0 & 0 & 0 & 0 & 0 & 0 & 0 & 0 & 0 & 0 & 0 & 0 & 0 & 0 & 0 & 0 & 0 & 0 & 0 & 0 & 0 & 0 & 0 & 0 & 0 & 0 & 0 & 0 & 0 & 0 & 0 & 0 & 0 & 0 & 0 & 0 & 0 & 0 & 0 & 0 &  0 &  0 &  0 &  0 &  0 &  0 &  0 &  0 &  0 &  0 &  0 &  0 &  0 &  0 &  0 &  0 &  1 &   2 &   2 &   3 &   3 &   3 &   4 &   4 &   5 &   7 &   7 &   7 &   8 &   8 &    8 &   10 &   14 &   16 &   17 &   19 &   19 &   19 &   19 &   19 &   19 &   19 &   19 &   19 &   19 &   24 &   24 &   24 &   24 &   25 &   25 &   25 &   25\\\\\n",
       "\t NA & Antigua and Barbuda &  17.0608 & -61.7964 & 0 & 0 & 0 & 0 & 0 & 0 & 0 & 0 & 0 & 0 & 0 & 0 & 0 & 0 & 0 & 0 & 0 & 0 & 0 & 0 & 0 & 0 & 0 & 0 & 0 & 0 & 0 & 0 & 0 & 0 & 0 & 0 & 0 & 0 & 0 & 0 & 0 & 0 & 0 & 0 & 0 & 0 &  0 &  0 &  0 &  0 &  0 &  0 &  0 &  0 &  0 &  1 &  1 &  1 &  1 &  1 &  1 &  1 &  1 &   1 &   1 &   3 &   3 &   3 &   7 &   7 &   7 &   7 &   7 &   7 &   7 &   9 &   15 &   15 &   15 &   15 &   19 &   19 &   19 &   19 &   21 &   21 &   23 &   23 &   23 &   23 &   23 &   23 &   23 &   23 &   23 &   24 &   24 &   24 &   24\\\\\n",
       "\\end{tabular}\n"
      ],
      "text/markdown": [
       "\n",
       "A tibble: 6 × 99\n",
       "\n",
       "| Province/State &lt;chr&gt; | Country/Region &lt;chr&gt; | Lat &lt;dbl&gt; | Long &lt;dbl&gt; | 1/22/20 &lt;dbl&gt; | 1/23/20 &lt;dbl&gt; | 1/24/20 &lt;dbl&gt; | 1/25/20 &lt;dbl&gt; | 1/26/20 &lt;dbl&gt; | 1/27/20 &lt;dbl&gt; | ... ... | 4/16/20 &lt;dbl&gt; | 4/17/20 &lt;dbl&gt; | 4/18/20 &lt;dbl&gt; | 4/19/20 &lt;dbl&gt; | 4/20/20 &lt;dbl&gt; | 4/21/20 &lt;dbl&gt; | 4/22/20 &lt;dbl&gt; | 4/23/20 &lt;dbl&gt; | 4/24/20 &lt;dbl&gt; | 4/25/20 &lt;dbl&gt; |\n",
       "|---|---|---|---|---|---|---|---|---|---|---|---|---|---|---|---|---|---|---|---|---|\n",
       "| NA | Afghanistan         |  33.0000 |  65.0000 | 0 | 0 | 0 | 0 | 0 | 0 | ... |  840 |  906 |  933 |  996 | 1026 | 1092 | 1176 | 1279 | 1351 | 1463 |\n",
       "| NA | Albania             |  41.1533 |  20.1683 | 0 | 0 | 0 | 0 | 0 | 0 | ... |  518 |  539 |  548 |  562 |  584 |  609 |  634 |  663 |  678 |  712 |\n",
       "| NA | Algeria             |  28.0339 |   1.6596 | 0 | 0 | 0 | 0 | 0 | 0 | ... | 2268 | 2418 | 2534 | 2629 | 2718 | 2811 | 2910 | 3007 | 3127 | 3256 |\n",
       "| NA | Andorra             |  42.5063 |   1.5218 | 0 | 0 | 0 | 0 | 0 | 0 | ... |  673 |  696 |  704 |  713 |  717 |  717 |  723 |  723 |  731 |  738 |\n",
       "| NA | Angola              | -11.2027 |  17.8739 | 0 | 0 | 0 | 0 | 0 | 0 | ... |   19 |   19 |   24 |   24 |   24 |   24 |   25 |   25 |   25 |   25 |\n",
       "| NA | Antigua and Barbuda |  17.0608 | -61.7964 | 0 | 0 | 0 | 0 | 0 | 0 | ... |   23 |   23 |   23 |   23 |   23 |   23 |   24 |   24 |   24 |   24 |\n",
       "\n"
      ],
      "text/plain": [
       "  Province/State Country/Region      Lat      Long     1/22/20 1/23/20 1/24/20\n",
       "1 NA             Afghanistan          33.0000  65.0000 0       0       0      \n",
       "2 NA             Albania              41.1533  20.1683 0       0       0      \n",
       "3 NA             Algeria              28.0339   1.6596 0       0       0      \n",
       "4 NA             Andorra              42.5063   1.5218 0       0       0      \n",
       "5 NA             Angola              -11.2027  17.8739 0       0       0      \n",
       "6 NA             Antigua and Barbuda  17.0608 -61.7964 0       0       0      \n",
       "  1/25/20 1/26/20 1/27/20 ... 4/16/20 4/17/20 4/18/20 4/19/20 4/20/20 4/21/20\n",
       "1 0       0       0       ...  840     906     933     996    1026    1092   \n",
       "2 0       0       0       ...  518     539     548     562     584     609   \n",
       "3 0       0       0       ... 2268    2418    2534    2629    2718    2811   \n",
       "4 0       0       0       ...  673     696     704     713     717     717   \n",
       "5 0       0       0       ...   19      19      24      24      24      24   \n",
       "6 0       0       0       ...   23      23      23      23      23      23   \n",
       "  4/22/20 4/23/20 4/24/20 4/25/20\n",
       "1 1176    1279    1351    1463   \n",
       "2  634     663     678     712   \n",
       "3 2910    3007    3127    3256   \n",
       "4  723     723     731     738   \n",
       "5   25      25      25      25   \n",
       "6   24      24      24      24   "
      ]
     },
     "metadata": {},
     "output_type": "display_data"
    }
   ],
   "source": [
    "head(covid19_confirmed)"
   ]
  },
  {
   "cell_type": "code",
   "execution_count": 5,
   "metadata": {},
   "outputs": [
    {
     "name": "stderr",
     "output_type": "stream",
     "text": [
      "Parsed with column specification:\n",
      "cols(\n",
      "  country = \u001b[31mcol_character()\u001b[39m,\n",
      "  age_1564 = \u001b[32mcol_double()\u001b[39m,\n",
      "  age_64up = \u001b[32mcol_double()\u001b[39m,\n",
      "  age_0014 = \u001b[32mcol_double()\u001b[39m,\n",
      "  smok = \u001b[32mcol_double()\u001b[39m,\n",
      "  air_polution = \u001b[32mcol_double()\u001b[39m,\n",
      "  doctor = \u001b[32mcol_double()\u001b[39m,\n",
      "  nurse_midwivies = \u001b[32mcol_double()\u001b[39m\n",
      ")\n",
      "\n"
     ]
    }
   ],
   "source": [
    "country_data <- read_csv(\"../data/clean_data/country_data.csv\")"
   ]
  },
  {
   "cell_type": "code",
   "execution_count": 6,
   "metadata": {},
   "outputs": [
    {
     "data": {
      "text/html": [
       "<table>\n",
       "<caption>A tibble: 6 × 27</caption>\n",
       "<thead>\n",
       "\t<tr><th scope=col>CountryName</th><th scope=col>CountryCode</th><th scope=col>Date</th><th scope=col>S1_School closing</th><th scope=col>S1_IsGeneral</th><th scope=col>S2_Workplace closing</th><th scope=col>S2_IsGeneral</th><th scope=col>S3_Cancel public events</th><th scope=col>S3_IsGeneral</th><th scope=col>S4_Close public transport</th><th scope=col>...</th><th scope=col>S9_Monetary measures</th><th scope=col>S10_Emergency investment in health care</th><th scope=col>S11_Investment in Vaccines</th><th scope=col>S12_Testing framework</th><th scope=col>S13_Contact tracing</th><th scope=col>ConfirmedCases</th><th scope=col>ConfirmedDeaths</th><th scope=col>StringencyIndex</th><th scope=col>StringencyIndexForDisplay</th><th scope=col>X27</th></tr>\n",
       "\t<tr><th scope=col>&lt;chr&gt;</th><th scope=col>&lt;chr&gt;</th><th scope=col>&lt;dbl&gt;</th><th scope=col>&lt;dbl&gt;</th><th scope=col>&lt;dbl&gt;</th><th scope=col>&lt;dbl&gt;</th><th scope=col>&lt;dbl&gt;</th><th scope=col>&lt;dbl&gt;</th><th scope=col>&lt;dbl&gt;</th><th scope=col>&lt;dbl&gt;</th><th scope=col>...</th><th scope=col>&lt;dbl&gt;</th><th scope=col>&lt;dbl&gt;</th><th scope=col>&lt;dbl&gt;</th><th scope=col>&lt;dbl&gt;</th><th scope=col>&lt;dbl&gt;</th><th scope=col>&lt;dbl&gt;</th><th scope=col>&lt;dbl&gt;</th><th scope=col>&lt;dbl&gt;</th><th scope=col>&lt;dbl&gt;</th><th scope=col>&lt;lgl&gt;</th></tr>\n",
       "</thead>\n",
       "<tbody>\n",
       "\t<tr><td>Aruba</td><td>ABW</td><td>20200101</td><td>0</td><td>NA</td><td>0</td><td>NA</td><td>0</td><td>NA</td><td>0</td><td>...</td><td>0</td><td>0</td><td>0</td><td>0</td><td>0</td><td>NA</td><td>NA</td><td>0</td><td>0</td><td>NA</td></tr>\n",
       "\t<tr><td>Aruba</td><td>ABW</td><td>20200102</td><td>0</td><td>NA</td><td>0</td><td>NA</td><td>0</td><td>NA</td><td>0</td><td>...</td><td>0</td><td>0</td><td>0</td><td>0</td><td>0</td><td>NA</td><td>NA</td><td>0</td><td>0</td><td>NA</td></tr>\n",
       "\t<tr><td>Aruba</td><td>ABW</td><td>20200103</td><td>0</td><td>NA</td><td>0</td><td>NA</td><td>0</td><td>NA</td><td>0</td><td>...</td><td>0</td><td>0</td><td>0</td><td>0</td><td>0</td><td>NA</td><td>NA</td><td>0</td><td>0</td><td>NA</td></tr>\n",
       "\t<tr><td>Aruba</td><td>ABW</td><td>20200104</td><td>0</td><td>NA</td><td>0</td><td>NA</td><td>0</td><td>NA</td><td>0</td><td>...</td><td>0</td><td>0</td><td>0</td><td>0</td><td>0</td><td>NA</td><td>NA</td><td>0</td><td>0</td><td>NA</td></tr>\n",
       "\t<tr><td>Aruba</td><td>ABW</td><td>20200105</td><td>0</td><td>NA</td><td>0</td><td>NA</td><td>0</td><td>NA</td><td>0</td><td>...</td><td>0</td><td>0</td><td>0</td><td>0</td><td>0</td><td>NA</td><td>NA</td><td>0</td><td>0</td><td>NA</td></tr>\n",
       "\t<tr><td>Aruba</td><td>ABW</td><td>20200106</td><td>0</td><td>NA</td><td>0</td><td>NA</td><td>0</td><td>NA</td><td>0</td><td>...</td><td>0</td><td>0</td><td>0</td><td>0</td><td>0</td><td>NA</td><td>NA</td><td>0</td><td>0</td><td>NA</td></tr>\n",
       "</tbody>\n",
       "</table>\n"
      ],
      "text/latex": [
       "A tibble: 6 × 27\n",
       "\\begin{tabular}{r|lllllllllllllllllllllllllll}\n",
       " CountryName & CountryCode & Date & S1\\_School closing & S1\\_IsGeneral & S2\\_Workplace closing & S2\\_IsGeneral & S3\\_Cancel public events & S3\\_IsGeneral & S4\\_Close public transport & S4\\_IsGeneral & S5\\_Public information campaigns & S5\\_IsGeneral & S6\\_Restrictions on internal movement & S6\\_IsGeneral & S7\\_International travel controls & S8\\_Fiscal measures & S9\\_Monetary measures & S10\\_Emergency investment in health care & S11\\_Investment in Vaccines & S12\\_Testing framework & S13\\_Contact tracing & ConfirmedCases & ConfirmedDeaths & StringencyIndex & StringencyIndexForDisplay & X27\\\\\n",
       " <chr> & <chr> & <dbl> & <dbl> & <dbl> & <dbl> & <dbl> & <dbl> & <dbl> & <dbl> & <dbl> & <dbl> & <dbl> & <dbl> & <dbl> & <dbl> & <dbl> & <dbl> & <dbl> & <dbl> & <dbl> & <dbl> & <dbl> & <dbl> & <dbl> & <dbl> & <lgl>\\\\\n",
       "\\hline\n",
       "\t Aruba & ABW & 20200101 & 0 & NA & 0 & NA & 0 & NA & 0 & NA & 0 & NA & 0 & NA & 0 & 0 & 0 & 0 & 0 & 0 & 0 & NA & NA & 0 & 0 & NA\\\\\n",
       "\t Aruba & ABW & 20200102 & 0 & NA & 0 & NA & 0 & NA & 0 & NA & 0 & NA & 0 & NA & 0 & 0 & 0 & 0 & 0 & 0 & 0 & NA & NA & 0 & 0 & NA\\\\\n",
       "\t Aruba & ABW & 20200103 & 0 & NA & 0 & NA & 0 & NA & 0 & NA & 0 & NA & 0 & NA & 0 & 0 & 0 & 0 & 0 & 0 & 0 & NA & NA & 0 & 0 & NA\\\\\n",
       "\t Aruba & ABW & 20200104 & 0 & NA & 0 & NA & 0 & NA & 0 & NA & 0 & NA & 0 & NA & 0 & 0 & 0 & 0 & 0 & 0 & 0 & NA & NA & 0 & 0 & NA\\\\\n",
       "\t Aruba & ABW & 20200105 & 0 & NA & 0 & NA & 0 & NA & 0 & NA & 0 & NA & 0 & NA & 0 & 0 & 0 & 0 & 0 & 0 & 0 & NA & NA & 0 & 0 & NA\\\\\n",
       "\t Aruba & ABW & 20200106 & 0 & NA & 0 & NA & 0 & NA & 0 & NA & 0 & NA & 0 & NA & 0 & 0 & 0 & 0 & 0 & 0 & 0 & NA & NA & 0 & 0 & NA\\\\\n",
       "\\end{tabular}\n"
      ],
      "text/markdown": [
       "\n",
       "A tibble: 6 × 27\n",
       "\n",
       "| CountryName &lt;chr&gt; | CountryCode &lt;chr&gt; | Date &lt;dbl&gt; | S1_School closing &lt;dbl&gt; | S1_IsGeneral &lt;dbl&gt; | S2_Workplace closing &lt;dbl&gt; | S2_IsGeneral &lt;dbl&gt; | S3_Cancel public events &lt;dbl&gt; | S3_IsGeneral &lt;dbl&gt; | S4_Close public transport &lt;dbl&gt; | ... ... | S9_Monetary measures &lt;dbl&gt; | S10_Emergency investment in health care &lt;dbl&gt; | S11_Investment in Vaccines &lt;dbl&gt; | S12_Testing framework &lt;dbl&gt; | S13_Contact tracing &lt;dbl&gt; | ConfirmedCases &lt;dbl&gt; | ConfirmedDeaths &lt;dbl&gt; | StringencyIndex &lt;dbl&gt; | StringencyIndexForDisplay &lt;dbl&gt; | X27 &lt;lgl&gt; |\n",
       "|---|---|---|---|---|---|---|---|---|---|---|---|---|---|---|---|---|---|---|---|---|\n",
       "| Aruba | ABW | 20200101 | 0 | NA | 0 | NA | 0 | NA | 0 | ... | 0 | 0 | 0 | 0 | 0 | NA | NA | 0 | 0 | NA |\n",
       "| Aruba | ABW | 20200102 | 0 | NA | 0 | NA | 0 | NA | 0 | ... | 0 | 0 | 0 | 0 | 0 | NA | NA | 0 | 0 | NA |\n",
       "| Aruba | ABW | 20200103 | 0 | NA | 0 | NA | 0 | NA | 0 | ... | 0 | 0 | 0 | 0 | 0 | NA | NA | 0 | 0 | NA |\n",
       "| Aruba | ABW | 20200104 | 0 | NA | 0 | NA | 0 | NA | 0 | ... | 0 | 0 | 0 | 0 | 0 | NA | NA | 0 | 0 | NA |\n",
       "| Aruba | ABW | 20200105 | 0 | NA | 0 | NA | 0 | NA | 0 | ... | 0 | 0 | 0 | 0 | 0 | NA | NA | 0 | 0 | NA |\n",
       "| Aruba | ABW | 20200106 | 0 | NA | 0 | NA | 0 | NA | 0 | ... | 0 | 0 | 0 | 0 | 0 | NA | NA | 0 | 0 | NA |\n",
       "\n"
      ],
      "text/plain": [
       "  CountryName CountryCode Date     S1_School closing S1_IsGeneral\n",
       "1 Aruba       ABW         20200101 0                 NA          \n",
       "2 Aruba       ABW         20200102 0                 NA          \n",
       "3 Aruba       ABW         20200103 0                 NA          \n",
       "4 Aruba       ABW         20200104 0                 NA          \n",
       "5 Aruba       ABW         20200105 0                 NA          \n",
       "6 Aruba       ABW         20200106 0                 NA          \n",
       "  S2_Workplace closing S2_IsGeneral S3_Cancel public events S3_IsGeneral\n",
       "1 0                    NA           0                       NA          \n",
       "2 0                    NA           0                       NA          \n",
       "3 0                    NA           0                       NA          \n",
       "4 0                    NA           0                       NA          \n",
       "5 0                    NA           0                       NA          \n",
       "6 0                    NA           0                       NA          \n",
       "  S4_Close public transport ... S9_Monetary measures\n",
       "1 0                         ... 0                   \n",
       "2 0                         ... 0                   \n",
       "3 0                         ... 0                   \n",
       "4 0                         ... 0                   \n",
       "5 0                         ... 0                   \n",
       "6 0                         ... 0                   \n",
       "  S10_Emergency investment in health care S11_Investment in Vaccines\n",
       "1 0                                       0                         \n",
       "2 0                                       0                         \n",
       "3 0                                       0                         \n",
       "4 0                                       0                         \n",
       "5 0                                       0                         \n",
       "6 0                                       0                         \n",
       "  S12_Testing framework S13_Contact tracing ConfirmedCases ConfirmedDeaths\n",
       "1 0                     0                   NA             NA             \n",
       "2 0                     0                   NA             NA             \n",
       "3 0                     0                   NA             NA             \n",
       "4 0                     0                   NA             NA             \n",
       "5 0                     0                   NA             NA             \n",
       "6 0                     0                   NA             NA             \n",
       "  StringencyIndex StringencyIndexForDisplay X27\n",
       "1 0               0                         NA \n",
       "2 0               0                         NA \n",
       "3 0               0                         NA \n",
       "4 0               0                         NA \n",
       "5 0               0                         NA \n",
       "6 0               0                         NA "
      ]
     },
     "metadata": {},
     "output_type": "display_data"
    }
   ],
   "source": [
    "head(gov_resp)"
   ]
  },
  {
   "cell_type": "code",
   "execution_count": 7,
   "metadata": {},
   "outputs": [
    {
     "data": {
      "text/html": [
       "<table>\n",
       "<caption>A tibble: 6 × 8</caption>\n",
       "<thead>\n",
       "\t<tr><th scope=col>country</th><th scope=col>age_1564</th><th scope=col>age_64up</th><th scope=col>age_0014</th><th scope=col>smok</th><th scope=col>air_polution</th><th scope=col>doctor</th><th scope=col>nurse_midwivies</th></tr>\n",
       "\t<tr><th scope=col>&lt;chr&gt;</th><th scope=col>&lt;dbl&gt;</th><th scope=col>&lt;dbl&gt;</th><th scope=col>&lt;dbl&gt;</th><th scope=col>&lt;dbl&gt;</th><th scope=col>&lt;dbl&gt;</th><th scope=col>&lt;dbl&gt;</th><th scope=col>&lt;dbl&gt;</th></tr>\n",
       "</thead>\n",
       "<tbody>\n",
       "\t<tr><td>Afghanistan   </td><td>54.32490</td><td> 2.584927</td><td>43.09018</td><td>  NA</td><td>56.91081</td><td>0.2907</td><td>    NA</td></tr>\n",
       "\t<tr><td>Albania       </td><td>68.58239</td><td>13.744736</td><td>17.67287</td><td>28.7</td><td>18.20060</td><td>    NA</td><td>    NA</td></tr>\n",
       "\t<tr><td>Algeria       </td><td>63.48882</td><td> 6.362497</td><td>30.14868</td><td>15.6</td><td>38.88401</td><td>    NA</td><td>    NA</td></tr>\n",
       "\t<tr><td>American Samoa</td><td>      NA</td><td>       NA</td><td>      NA</td><td>  NA</td><td>12.47382</td><td>    NA</td><td>    NA</td></tr>\n",
       "\t<tr><td>Andorra       </td><td>      NA</td><td>       NA</td><td>      NA</td><td>33.5</td><td>10.30762</td><td>3.3333</td><td>4.0128</td></tr>\n",
       "\t<tr><td>Angola        </td><td>50.97470</td><td> 2.216374</td><td>46.80892</td><td>  NA</td><td>32.38850</td><td>    NA</td><td>    NA</td></tr>\n",
       "</tbody>\n",
       "</table>\n"
      ],
      "text/latex": [
       "A tibble: 6 × 8\n",
       "\\begin{tabular}{r|llllllll}\n",
       " country & age\\_1564 & age\\_64up & age\\_0014 & smok & air\\_polution & doctor & nurse\\_midwivies\\\\\n",
       " <chr> & <dbl> & <dbl> & <dbl> & <dbl> & <dbl> & <dbl> & <dbl>\\\\\n",
       "\\hline\n",
       "\t Afghanistan    & 54.32490 &  2.584927 & 43.09018 &   NA & 56.91081 & 0.2907 &     NA\\\\\n",
       "\t Albania        & 68.58239 & 13.744736 & 17.67287 & 28.7 & 18.20060 &     NA &     NA\\\\\n",
       "\t Algeria        & 63.48882 &  6.362497 & 30.14868 & 15.6 & 38.88401 &     NA &     NA\\\\\n",
       "\t American Samoa &       NA &        NA &       NA &   NA & 12.47382 &     NA &     NA\\\\\n",
       "\t Andorra        &       NA &        NA &       NA & 33.5 & 10.30762 & 3.3333 & 4.0128\\\\\n",
       "\t Angola         & 50.97470 &  2.216374 & 46.80892 &   NA & 32.38850 &     NA &     NA\\\\\n",
       "\\end{tabular}\n"
      ],
      "text/markdown": [
       "\n",
       "A tibble: 6 × 8\n",
       "\n",
       "| country &lt;chr&gt; | age_1564 &lt;dbl&gt; | age_64up &lt;dbl&gt; | age_0014 &lt;dbl&gt; | smok &lt;dbl&gt; | air_polution &lt;dbl&gt; | doctor &lt;dbl&gt; | nurse_midwivies &lt;dbl&gt; |\n",
       "|---|---|---|---|---|---|---|---|\n",
       "| Afghanistan    | 54.32490 |  2.584927 | 43.09018 |   NA | 56.91081 | 0.2907 |     NA |\n",
       "| Albania        | 68.58239 | 13.744736 | 17.67287 | 28.7 | 18.20060 |     NA |     NA |\n",
       "| Algeria        | 63.48882 |  6.362497 | 30.14868 | 15.6 | 38.88401 |     NA |     NA |\n",
       "| American Samoa |       NA |        NA |       NA |   NA | 12.47382 |     NA |     NA |\n",
       "| Andorra        |       NA |        NA |       NA | 33.5 | 10.30762 | 3.3333 | 4.0128 |\n",
       "| Angola         | 50.97470 |  2.216374 | 46.80892 |   NA | 32.38850 |     NA |     NA |\n",
       "\n"
      ],
      "text/plain": [
       "  country        age_1564 age_64up  age_0014 smok air_polution doctor\n",
       "1 Afghanistan    54.32490  2.584927 43.09018   NA 56.91081     0.2907\n",
       "2 Albania        68.58239 13.744736 17.67287 28.7 18.20060         NA\n",
       "3 Algeria        63.48882  6.362497 30.14868 15.6 38.88401         NA\n",
       "4 American Samoa       NA        NA       NA   NA 12.47382         NA\n",
       "5 Andorra              NA        NA       NA 33.5 10.30762     3.3333\n",
       "6 Angola         50.97470  2.216374 46.80892   NA 32.38850         NA\n",
       "  nurse_midwivies\n",
       "1     NA         \n",
       "2     NA         \n",
       "3     NA         \n",
       "4     NA         \n",
       "5 4.0128         \n",
       "6     NA         "
      ]
     },
     "metadata": {},
     "output_type": "display_data"
    }
   ],
   "source": [
    "head(country_data)"
   ]
  },
  {
   "cell_type": "markdown",
   "metadata": {},
   "source": [
    "## 3. Explore the dataset"
   ]
  },
  {
   "cell_type": "code",
   "execution_count": 6,
   "metadata": {},
   "outputs": [
    {
     "data": {
      "text/html": [
       "<ol class=list-inline>\n",
       "\t<li>264</li>\n",
       "\t<li>99</li>\n",
       "</ol>\n"
      ],
      "text/latex": [
       "\\begin{enumerate*}\n",
       "\\item 264\n",
       "\\item 99\n",
       "\\end{enumerate*}\n"
      ],
      "text/markdown": [
       "1. 264\n",
       "2. 99\n",
       "\n",
       "\n"
      ],
      "text/plain": [
       "[1] 264  99"
      ]
     },
     "metadata": {},
     "output_type": "display_data"
    }
   ],
   "source": [
    "dim(covid19_confirmed)"
   ]
  },
  {
   "cell_type": "code",
   "execution_count": 7,
   "metadata": {},
   "outputs": [
    {
     "data": {
      "text/html": [
       "'4/25/20'"
      ],
      "text/latex": [
       "'4/25/20'"
      ],
      "text/markdown": [
       "'4/25/20'"
      ],
      "text/plain": [
       "[1] \"4/25/20\""
      ]
     },
     "metadata": {},
     "output_type": "display_data"
    }
   ],
   "source": [
    "colnames(covid19_confirmed)[length(covid19_confirmed)]"
   ]
  },
  {
   "cell_type": "code",
   "execution_count": 8,
   "metadata": {},
   "outputs": [
    {
     "data": {
      "text/html": [
       "<ol class=list-inline>\n",
       "\t<li>264</li>\n",
       "\t<li>99</li>\n",
       "</ol>\n"
      ],
      "text/latex": [
       "\\begin{enumerate*}\n",
       "\\item 264\n",
       "\\item 99\n",
       "\\end{enumerate*}\n"
      ],
      "text/markdown": [
       "1. 264\n",
       "2. 99\n",
       "\n",
       "\n"
      ],
      "text/plain": [
       "[1] 264  99"
      ]
     },
     "metadata": {},
     "output_type": "display_data"
    }
   ],
   "source": [
    "dim(covid19_death)"
   ]
  },
  {
   "cell_type": "code",
   "execution_count": 9,
   "metadata": {},
   "outputs": [
    {
     "data": {
      "text/html": [
       "'4/25/20'"
      ],
      "text/latex": [
       "'4/25/20'"
      ],
      "text/markdown": [
       "'4/25/20'"
      ],
      "text/plain": [
       "[1] \"4/25/20\""
      ]
     },
     "metadata": {},
     "output_type": "display_data"
    }
   ],
   "source": [
    "colnames(covid19_death)[length(covid19_death)]"
   ]
  },
  {
   "cell_type": "code",
   "execution_count": 50,
   "metadata": {},
   "outputs": [
    {
     "data": {
      "text/html": [
       "151"
      ],
      "text/latex": [
       "151"
      ],
      "text/markdown": [
       "151"
      ],
      "text/plain": [
       "[1] 151"
      ]
     },
     "metadata": {},
     "output_type": "display_data"
    }
   ],
   "source": [
    "length(unique(gov_resp$CountryName))"
   ]
  },
  {
   "cell_type": "code",
   "execution_count": 10,
   "metadata": {},
   "outputs": [],
   "source": [
    "test_that(\"Column names of covid19_confirmed and covid19_death should be the same.\",\n",
    "          {expect_true(all(colnames(covid19_confirmed) == colnames(covid19_death)))\n",
    "          })"
   ]
  },
  {
   "cell_type": "code",
   "execution_count": 11,
   "metadata": {},
   "outputs": [],
   "source": [
    "test_that(\"The country column of covid19_confirmed and covid19_death should be the same.\",\n",
    "          {expect_true(all(covid19_confirmed[2] == covid19_death[2]))\n",
    "          })"
   ]
  },
  {
   "cell_type": "code",
   "execution_count": 12,
   "metadata": {},
   "outputs": [],
   "source": [
    "test_that(\"The last column of covid19_confirmed should not have missing values.\",\n",
    "          {expect_true(all(!is.na(covid19_confirmed[length(covid19_confirmed)])))\n",
    "          })"
   ]
  },
  {
   "cell_type": "code",
   "execution_count": 13,
   "metadata": {},
   "outputs": [],
   "source": [
    "test_that(\"The last column of covid19_death should not have missing values.\",\n",
    "          {expect_true(all(!is.na(covid19_death[length(covid19_death)])))\n",
    "          })"
   ]
  },
  {
   "cell_type": "code",
   "execution_count": 14,
   "metadata": {},
   "outputs": [
    {
     "data": {
      "text/html": [
       "<ol class=list-inline>\n",
       "\t<li>264</li>\n",
       "\t<li>8</li>\n",
       "</ol>\n"
      ],
      "text/latex": [
       "\\begin{enumerate*}\n",
       "\\item 264\n",
       "\\item 8\n",
       "\\end{enumerate*}\n"
      ],
      "text/markdown": [
       "1. 264\n",
       "2. 8\n",
       "\n",
       "\n"
      ],
      "text/plain": [
       "[1] 264   8"
      ]
     },
     "metadata": {},
     "output_type": "display_data"
    }
   ],
   "source": [
    "dim(country_data)"
   ]
  },
  {
   "cell_type": "markdown",
   "metadata": {},
   "source": [
    "## 4. Initial thoughts\n"
   ]
  },
  {
   "cell_type": "markdown",
   "metadata": {},
   "source": [
    "## 5. Wrangling"
   ]
  },
  {
   "cell_type": "code",
   "execution_count": 8,
   "metadata": {},
   "outputs": [],
   "source": [
    "confirmed <- covid19_confirmed[c(2, length(covid19_confirmed))]\n",
    "colnames(confirmed) = c(\"country\", \"n\")\n",
    "\n",
    "confirmed <- confirmed %>%\n",
    "    group_by(country) %>%\n",
    "    summarize(confirmed = sum(n))"
   ]
  },
  {
   "cell_type": "code",
   "execution_count": 9,
   "metadata": {},
   "outputs": [],
   "source": [
    "death <- covid19_death[c(2, length(covid19_death))]\n",
    "colnames(death) = c(\"country\", \"n\")\n",
    "\n",
    "death <- death %>%\n",
    "    group_by(country) %>%\n",
    "    summarize(death = sum(n))"
   ]
  },
  {
   "cell_type": "code",
   "execution_count": 10,
   "metadata": {},
   "outputs": [
    {
     "data": {
      "text/html": [
       "<table>\n",
       "<caption>A data.frame: 6 × 4</caption>\n",
       "<thead>\n",
       "\t<tr><th scope=col>country</th><th scope=col>confirmed</th><th scope=col>death</th><th scope=col>rate</th></tr>\n",
       "\t<tr><th scope=col>&lt;chr&gt;</th><th scope=col>&lt;dbl&gt;</th><th scope=col>&lt;dbl&gt;</th><th scope=col>&lt;dbl&gt;</th></tr>\n",
       "</thead>\n",
       "<tbody>\n",
       "\t<tr><td>Afghanistan        </td><td>1463</td><td> 47</td><td>0.03212577</td></tr>\n",
       "\t<tr><td>Albania            </td><td> 712</td><td> 27</td><td>0.03792135</td></tr>\n",
       "\t<tr><td>Algeria            </td><td>3256</td><td>419</td><td>0.12868550</td></tr>\n",
       "\t<tr><td>Andorra            </td><td> 738</td><td> 40</td><td>0.05420054</td></tr>\n",
       "\t<tr><td>Angola             </td><td>  25</td><td>  2</td><td>0.08000000</td></tr>\n",
       "\t<tr><td>Antigua and Barbuda</td><td>  24</td><td>  3</td><td>0.12500000</td></tr>\n",
       "</tbody>\n",
       "</table>\n"
      ],
      "text/latex": [
       "A data.frame: 6 × 4\n",
       "\\begin{tabular}{r|llll}\n",
       " country & confirmed & death & rate\\\\\n",
       " <chr> & <dbl> & <dbl> & <dbl>\\\\\n",
       "\\hline\n",
       "\t Afghanistan         & 1463 &  47 & 0.03212577\\\\\n",
       "\t Albania             &  712 &  27 & 0.03792135\\\\\n",
       "\t Algeria             & 3256 & 419 & 0.12868550\\\\\n",
       "\t Andorra             &  738 &  40 & 0.05420054\\\\\n",
       "\t Angola              &   25 &   2 & 0.08000000\\\\\n",
       "\t Antigua and Barbuda &   24 &   3 & 0.12500000\\\\\n",
       "\\end{tabular}\n"
      ],
      "text/markdown": [
       "\n",
       "A data.frame: 6 × 4\n",
       "\n",
       "| country &lt;chr&gt; | confirmed &lt;dbl&gt; | death &lt;dbl&gt; | rate &lt;dbl&gt; |\n",
       "|---|---|---|---|\n",
       "| Afghanistan         | 1463 |  47 | 0.03212577 |\n",
       "| Albania             |  712 |  27 | 0.03792135 |\n",
       "| Algeria             | 3256 | 419 | 0.12868550 |\n",
       "| Andorra             |  738 |  40 | 0.05420054 |\n",
       "| Angola              |   25 |   2 | 0.08000000 |\n",
       "| Antigua and Barbuda |   24 |   3 | 0.12500000 |\n",
       "\n"
      ],
      "text/plain": [
       "  country             confirmed death rate      \n",
       "1 Afghanistan         1463       47   0.03212577\n",
       "2 Albania              712       27   0.03792135\n",
       "3 Algeria             3256      419   0.12868550\n",
       "4 Andorra              738       40   0.05420054\n",
       "5 Angola                25        2   0.08000000\n",
       "6 Antigua and Barbuda   24        3   0.12500000"
      ]
     },
     "metadata": {},
     "output_type": "display_data"
    }
   ],
   "source": [
    "covid19 <- merge(confirmed, death, by = \"country\") %>%\n",
    "    mutate(rate = death / confirmed)\n",
    "head(covid19)"
   ]
  },
  {
   "cell_type": "code",
   "execution_count": 11,
   "metadata": {},
   "outputs": [
    {
     "data": {
      "text/html": [
       "<ol class=list-inline>\n",
       "\t<li>185</li>\n",
       "\t<li>4</li>\n",
       "</ol>\n"
      ],
      "text/latex": [
       "\\begin{enumerate*}\n",
       "\\item 185\n",
       "\\item 4\n",
       "\\end{enumerate*}\n"
      ],
      "text/markdown": [
       "1. 185\n",
       "2. 4\n",
       "\n",
       "\n"
      ],
      "text/plain": [
       "[1] 185   4"
      ]
     },
     "metadata": {},
     "output_type": "display_data"
    }
   ],
   "source": [
    "dim(covid19)"
   ]
  },
  {
   "cell_type": "code",
   "execution_count": 12,
   "metadata": {},
   "outputs": [
    {
     "data": {
      "text/html": [
       "<table>\n",
       "<caption>A data.frame: 0 × 4</caption>\n",
       "<thead>\n",
       "\t<tr><th scope=col>country</th><th scope=col>confirmed</th><th scope=col>death</th><th scope=col>rate</th></tr>\n",
       "\t<tr><th scope=col>&lt;chr&gt;</th><th scope=col>&lt;dbl&gt;</th><th scope=col>&lt;dbl&gt;</th><th scope=col>&lt;dbl&gt;</th></tr>\n",
       "</thead>\n",
       "<tbody>\n",
       "</tbody>\n",
       "</table>\n"
      ],
      "text/latex": [
       "A data.frame: 0 × 4\n",
       "\\begin{tabular}{r|llll}\n",
       " country & confirmed & death & rate\\\\\n",
       " <chr> & <dbl> & <dbl> & <dbl>\\\\\n",
       "\\hline\n",
       "\\end{tabular}\n"
      ],
      "text/markdown": [
       "\n",
       "A data.frame: 0 × 4\n",
       "\n",
       "| country &lt;chr&gt; | confirmed &lt;dbl&gt; | death &lt;dbl&gt; | rate &lt;dbl&gt; |\n",
       "|---|---|---|---|\n",
       "\n"
      ],
      "text/plain": [
       "     country confirmed death rate"
      ]
     },
     "metadata": {},
     "output_type": "display_data"
    }
   ],
   "source": [
    "covid19 %>%\n",
    "    filter(rate >= 1)"
   ]
  },
  {
   "cell_type": "code",
   "execution_count": 13,
   "metadata": {},
   "outputs": [
    {
     "data": {
      "text/html": [
       "<table>\n",
       "<caption>A data.frame: 26 × 4</caption>\n",
       "<thead>\n",
       "\t<tr><th scope=col>country</th><th scope=col>confirmed</th><th scope=col>death</th><th scope=col>rate</th></tr>\n",
       "\t<tr><th scope=col>&lt;chr&gt;</th><th scope=col>&lt;dbl&gt;</th><th scope=col>&lt;dbl&gt;</th><th scope=col>&lt;dbl&gt;</th></tr>\n",
       "</thead>\n",
       "<tbody>\n",
       "\t<tr><td>Bahamas                         </td><td>    78</td><td>   11</td><td>0.141025641</td></tr>\n",
       "\t<tr><td>Brunei                          </td><td>   138</td><td>    1</td><td>0.007246377</td></tr>\n",
       "\t<tr><td>Burma                           </td><td>   146</td><td>    5</td><td>0.034246575</td></tr>\n",
       "\t<tr><td>Congo (Brazzaville)             </td><td>   200</td><td>    6</td><td>0.030000000</td></tr>\n",
       "\t<tr><td>Congo (Kinshasa)                </td><td>   416</td><td>   28</td><td>0.067307692</td></tr>\n",
       "\t<tr><td>Czechia                         </td><td>  7352</td><td>  218</td><td>0.029651795</td></tr>\n",
       "\t<tr><td>Diamond Princess                </td><td>   712</td><td>   13</td><td>0.018258427</td></tr>\n",
       "\t<tr><td>Egypt                           </td><td>  4319</td><td>  307</td><td>0.071081269</td></tr>\n",
       "\t<tr><td>Gambia                          </td><td>    10</td><td>    1</td><td>0.100000000</td></tr>\n",
       "\t<tr><td>Holy See                        </td><td>     9</td><td>    0</td><td>0.000000000</td></tr>\n",
       "\t<tr><td>Iran                            </td><td> 89328</td><td> 5650</td><td>0.063250045</td></tr>\n",
       "\t<tr><td>Korea, South                    </td><td> 10728</td><td>  242</td><td>0.022557793</td></tr>\n",
       "\t<tr><td>Kyrgyzstan                      </td><td>   665</td><td>    8</td><td>0.012030075</td></tr>\n",
       "\t<tr><td>Laos                            </td><td>    19</td><td>    0</td><td>0.000000000</td></tr>\n",
       "\t<tr><td>MS Zaandam                      </td><td>     9</td><td>    2</td><td>0.222222222</td></tr>\n",
       "\t<tr><td>Russia                          </td><td> 74588</td><td>  681</td><td>0.009130155</td></tr>\n",
       "\t<tr><td>Saint Kitts and Nevis           </td><td>    15</td><td>    0</td><td>0.000000000</td></tr>\n",
       "\t<tr><td>Saint Lucia                     </td><td>    15</td><td>    0</td><td>0.000000000</td></tr>\n",
       "\t<tr><td>Saint Vincent and the Grenadines</td><td>    14</td><td>    0</td><td>0.000000000</td></tr>\n",
       "\t<tr><td>Slovakia                        </td><td>  1373</td><td>   17</td><td>0.012381646</td></tr>\n",
       "\t<tr><td>Syria                           </td><td>    42</td><td>    3</td><td>0.071428571</td></tr>\n",
       "\t<tr><td>Taiwan*                         </td><td>   429</td><td>    6</td><td>0.013986014</td></tr>\n",
       "\t<tr><td>US                              </td><td>938154</td><td>53755</td><td>0.057298695</td></tr>\n",
       "\t<tr><td>Venezuela                       </td><td>   323</td><td>   10</td><td>0.030959752</td></tr>\n",
       "\t<tr><td>Western Sahara                  </td><td>     6</td><td>    0</td><td>0.000000000</td></tr>\n",
       "\t<tr><td>Yemen                           </td><td>     1</td><td>    0</td><td>0.000000000</td></tr>\n",
       "</tbody>\n",
       "</table>\n"
      ],
      "text/latex": [
       "A data.frame: 26 × 4\n",
       "\\begin{tabular}{r|llll}\n",
       " country & confirmed & death & rate\\\\\n",
       " <chr> & <dbl> & <dbl> & <dbl>\\\\\n",
       "\\hline\n",
       "\t Bahamas                          &     78 &    11 & 0.141025641\\\\\n",
       "\t Brunei                           &    138 &     1 & 0.007246377\\\\\n",
       "\t Burma                            &    146 &     5 & 0.034246575\\\\\n",
       "\t Congo (Brazzaville)              &    200 &     6 & 0.030000000\\\\\n",
       "\t Congo (Kinshasa)                 &    416 &    28 & 0.067307692\\\\\n",
       "\t Czechia                          &   7352 &   218 & 0.029651795\\\\\n",
       "\t Diamond Princess                 &    712 &    13 & 0.018258427\\\\\n",
       "\t Egypt                            &   4319 &   307 & 0.071081269\\\\\n",
       "\t Gambia                           &     10 &     1 & 0.100000000\\\\\n",
       "\t Holy See                         &      9 &     0 & 0.000000000\\\\\n",
       "\t Iran                             &  89328 &  5650 & 0.063250045\\\\\n",
       "\t Korea, South                     &  10728 &   242 & 0.022557793\\\\\n",
       "\t Kyrgyzstan                       &    665 &     8 & 0.012030075\\\\\n",
       "\t Laos                             &     19 &     0 & 0.000000000\\\\\n",
       "\t MS Zaandam                       &      9 &     2 & 0.222222222\\\\\n",
       "\t Russia                           &  74588 &   681 & 0.009130155\\\\\n",
       "\t Saint Kitts and Nevis            &     15 &     0 & 0.000000000\\\\\n",
       "\t Saint Lucia                      &     15 &     0 & 0.000000000\\\\\n",
       "\t Saint Vincent and the Grenadines &     14 &     0 & 0.000000000\\\\\n",
       "\t Slovakia                         &   1373 &    17 & 0.012381646\\\\\n",
       "\t Syria                            &     42 &     3 & 0.071428571\\\\\n",
       "\t Taiwan*                          &    429 &     6 & 0.013986014\\\\\n",
       "\t US                               & 938154 & 53755 & 0.057298695\\\\\n",
       "\t Venezuela                        &    323 &    10 & 0.030959752\\\\\n",
       "\t Western Sahara                   &      6 &     0 & 0.000000000\\\\\n",
       "\t Yemen                            &      1 &     0 & 0.000000000\\\\\n",
       "\\end{tabular}\n"
      ],
      "text/markdown": [
       "\n",
       "A data.frame: 26 × 4\n",
       "\n",
       "| country &lt;chr&gt; | confirmed &lt;dbl&gt; | death &lt;dbl&gt; | rate &lt;dbl&gt; |\n",
       "|---|---|---|---|\n",
       "| Bahamas                          |     78 |    11 | 0.141025641 |\n",
       "| Brunei                           |    138 |     1 | 0.007246377 |\n",
       "| Burma                            |    146 |     5 | 0.034246575 |\n",
       "| Congo (Brazzaville)              |    200 |     6 | 0.030000000 |\n",
       "| Congo (Kinshasa)                 |    416 |    28 | 0.067307692 |\n",
       "| Czechia                          |   7352 |   218 | 0.029651795 |\n",
       "| Diamond Princess                 |    712 |    13 | 0.018258427 |\n",
       "| Egypt                            |   4319 |   307 | 0.071081269 |\n",
       "| Gambia                           |     10 |     1 | 0.100000000 |\n",
       "| Holy See                         |      9 |     0 | 0.000000000 |\n",
       "| Iran                             |  89328 |  5650 | 0.063250045 |\n",
       "| Korea, South                     |  10728 |   242 | 0.022557793 |\n",
       "| Kyrgyzstan                       |    665 |     8 | 0.012030075 |\n",
       "| Laos                             |     19 |     0 | 0.000000000 |\n",
       "| MS Zaandam                       |      9 |     2 | 0.222222222 |\n",
       "| Russia                           |  74588 |   681 | 0.009130155 |\n",
       "| Saint Kitts and Nevis            |     15 |     0 | 0.000000000 |\n",
       "| Saint Lucia                      |     15 |     0 | 0.000000000 |\n",
       "| Saint Vincent and the Grenadines |     14 |     0 | 0.000000000 |\n",
       "| Slovakia                         |   1373 |    17 | 0.012381646 |\n",
       "| Syria                            |     42 |     3 | 0.071428571 |\n",
       "| Taiwan*                          |    429 |     6 | 0.013986014 |\n",
       "| US                               | 938154 | 53755 | 0.057298695 |\n",
       "| Venezuela                        |    323 |    10 | 0.030959752 |\n",
       "| Western Sahara                   |      6 |     0 | 0.000000000 |\n",
       "| Yemen                            |      1 |     0 | 0.000000000 |\n",
       "\n"
      ],
      "text/plain": [
       "   country                          confirmed death rate       \n",
       "1  Bahamas                              78       11 0.141025641\n",
       "2  Brunei                              138        1 0.007246377\n",
       "3  Burma                               146        5 0.034246575\n",
       "4  Congo (Brazzaville)                 200        6 0.030000000\n",
       "5  Congo (Kinshasa)                    416       28 0.067307692\n",
       "6  Czechia                            7352      218 0.029651795\n",
       "7  Diamond Princess                    712       13 0.018258427\n",
       "8  Egypt                              4319      307 0.071081269\n",
       "9  Gambia                               10        1 0.100000000\n",
       "10 Holy See                              9        0 0.000000000\n",
       "11 Iran                              89328     5650 0.063250045\n",
       "12 Korea, South                      10728      242 0.022557793\n",
       "13 Kyrgyzstan                          665        8 0.012030075\n",
       "14 Laos                                 19        0 0.000000000\n",
       "15 MS Zaandam                            9        2 0.222222222\n",
       "16 Russia                            74588      681 0.009130155\n",
       "17 Saint Kitts and Nevis                15        0 0.000000000\n",
       "18 Saint Lucia                          15        0 0.000000000\n",
       "19 Saint Vincent and the Grenadines     14        0 0.000000000\n",
       "20 Slovakia                           1373       17 0.012381646\n",
       "21 Syria                                42        3 0.071428571\n",
       "22 Taiwan*                             429        6 0.013986014\n",
       "23 US                               938154    53755 0.057298695\n",
       "24 Venezuela                           323       10 0.030959752\n",
       "25 Western Sahara                        6        0 0.000000000\n",
       "26 Yemen                                 1        0 0.000000000"
      ]
     },
     "metadata": {},
     "output_type": "display_data"
    }
   ],
   "source": [
    "covid19 %>%\n",
    "    filter(!country %in% country_data$country)"
   ]
  },
  {
   "cell_type": "code",
   "execution_count": 14,
   "metadata": {},
   "outputs": [],
   "source": [
    "date_df <- gov_resp %>%\n",
    "    group_by(CountryName) %>%\n",
    "    summarize(Date = max(Date))"
   ]
  },
  {
   "cell_type": "code",
   "execution_count": 15,
   "metadata": {},
   "outputs": [],
   "source": [
    "gov_resp <- merge(gov_resp, date_df, by=c(\"CountryName\", \"Date\")) %>%\n",
    "    select(CountryName, StringencyIndexForDisplay)\n",
    "colnames(gov_resp) <- c(\"country\", \"gov_resp\")"
   ]
  },
  {
   "cell_type": "code",
   "execution_count": 16,
   "metadata": {},
   "outputs": [
    {
     "data": {
      "text/html": [
       "<table>\n",
       "<caption>A data.frame: 18 × 2</caption>\n",
       "<thead>\n",
       "\t<tr><th scope=col>country</th><th scope=col>gov_resp</th></tr>\n",
       "\t<tr><th scope=col>&lt;chr&gt;</th><th scope=col>&lt;dbl&gt;</th></tr>\n",
       "</thead>\n",
       "<tbody>\n",
       "\t<tr><td>Aruba                       </td><td> 85.71</td></tr>\n",
       "\t<tr><td>Bermuda                     </td><td> 85.71</td></tr>\n",
       "\t<tr><td>Cape Verde                  </td><td>    NA</td></tr>\n",
       "\t<tr><td>Czech Republic              </td><td> 80.95</td></tr>\n",
       "\t<tr><td>Democratic Republic of Congo</td><td> 85.71</td></tr>\n",
       "\t<tr><td>Greenland                   </td><td> 71.43</td></tr>\n",
       "\t<tr><td>Guam                        </td><td> 76.19</td></tr>\n",
       "\t<tr><td>Hong Kong                   </td><td> 85.71</td></tr>\n",
       "\t<tr><td>Kyrgyz Republic             </td><td> 90.48</td></tr>\n",
       "\t<tr><td>Lesotho                     </td><td>100.00</td></tr>\n",
       "\t<tr><td>Macao                       </td><td> 66.67</td></tr>\n",
       "\t<tr><td>Myanmar                     </td><td> 80.95</td></tr>\n",
       "\t<tr><td>Palestine                   </td><td> 54.76</td></tr>\n",
       "\t<tr><td>Puerto Rico                 </td><td> 80.95</td></tr>\n",
       "\t<tr><td>Slovak Republic             </td><td> 80.95</td></tr>\n",
       "\t<tr><td>South Korea                 </td><td> 76.19</td></tr>\n",
       "\t<tr><td>Taiwan                      </td><td> 38.10</td></tr>\n",
       "\t<tr><td>United States               </td><td> 76.19</td></tr>\n",
       "</tbody>\n",
       "</table>\n"
      ],
      "text/latex": [
       "A data.frame: 18 × 2\n",
       "\\begin{tabular}{r|ll}\n",
       " country & gov\\_resp\\\\\n",
       " <chr> & <dbl>\\\\\n",
       "\\hline\n",
       "\t Aruba                        &  85.71\\\\\n",
       "\t Bermuda                      &  85.71\\\\\n",
       "\t Cape Verde                   &     NA\\\\\n",
       "\t Czech Republic               &  80.95\\\\\n",
       "\t Democratic Republic of Congo &  85.71\\\\\n",
       "\t Greenland                    &  71.43\\\\\n",
       "\t Guam                         &  76.19\\\\\n",
       "\t Hong Kong                    &  85.71\\\\\n",
       "\t Kyrgyz Republic              &  90.48\\\\\n",
       "\t Lesotho                      & 100.00\\\\\n",
       "\t Macao                        &  66.67\\\\\n",
       "\t Myanmar                      &  80.95\\\\\n",
       "\t Palestine                    &  54.76\\\\\n",
       "\t Puerto Rico                  &  80.95\\\\\n",
       "\t Slovak Republic              &  80.95\\\\\n",
       "\t South Korea                  &  76.19\\\\\n",
       "\t Taiwan                       &  38.10\\\\\n",
       "\t United States                &  76.19\\\\\n",
       "\\end{tabular}\n"
      ],
      "text/markdown": [
       "\n",
       "A data.frame: 18 × 2\n",
       "\n",
       "| country &lt;chr&gt; | gov_resp &lt;dbl&gt; |\n",
       "|---|---|\n",
       "| Aruba                        |  85.71 |\n",
       "| Bermuda                      |  85.71 |\n",
       "| Cape Verde                   |     NA |\n",
       "| Czech Republic               |  80.95 |\n",
       "| Democratic Republic of Congo |  85.71 |\n",
       "| Greenland                    |  71.43 |\n",
       "| Guam                         |  76.19 |\n",
       "| Hong Kong                    |  85.71 |\n",
       "| Kyrgyz Republic              |  90.48 |\n",
       "| Lesotho                      | 100.00 |\n",
       "| Macao                        |  66.67 |\n",
       "| Myanmar                      |  80.95 |\n",
       "| Palestine                    |  54.76 |\n",
       "| Puerto Rico                  |  80.95 |\n",
       "| Slovak Republic              |  80.95 |\n",
       "| South Korea                  |  76.19 |\n",
       "| Taiwan                       |  38.10 |\n",
       "| United States                |  76.19 |\n",
       "\n"
      ],
      "text/plain": [
       "   country                      gov_resp\n",
       "1  Aruba                         85.71  \n",
       "2  Bermuda                       85.71  \n",
       "3  Cape Verde                       NA  \n",
       "4  Czech Republic                80.95  \n",
       "5  Democratic Republic of Congo  85.71  \n",
       "6  Greenland                     71.43  \n",
       "7  Guam                          76.19  \n",
       "8  Hong Kong                     85.71  \n",
       "9  Kyrgyz Republic               90.48  \n",
       "10 Lesotho                      100.00  \n",
       "11 Macao                         66.67  \n",
       "12 Myanmar                       80.95  \n",
       "13 Palestine                     54.76  \n",
       "14 Puerto Rico                   80.95  \n",
       "15 Slovak Republic               80.95  \n",
       "16 South Korea                   76.19  \n",
       "17 Taiwan                        38.10  \n",
       "18 United States                 76.19  "
      ]
     },
     "metadata": {},
     "output_type": "display_data"
    }
   ],
   "source": [
    "gov_resp %>%\n",
    "    filter(!country %in% covid19$country)"
   ]
  },
  {
   "cell_type": "code",
   "execution_count": 17,
   "metadata": {},
   "outputs": [],
   "source": [
    "gov_resp <- gov_resp %>%\n",
    "    mutate(country = case_when(country == 'Cape Verde' ~ 'Cabo Verde',\n",
    "                               country == 'Czech Republic' ~ 'Czechia',\n",
    "                               country == 'Democratic Republic of Congo' ~ 'Congo, Dem. Rep.',\n",
    "                               country == 'Slovak Republic' ~ 'Slovakia',\n",
    "                               TRUE ~ country))"
   ]
  },
  {
   "cell_type": "code",
   "execution_count": 18,
   "metadata": {},
   "outputs": [],
   "source": [
    "country_data <- country_data %>%\n",
    "    mutate(country = case_when(country == 'Bahamas, The' ~ 'Bahamas',\n",
    "                               country == 'Brunei Darussalam' ~ 'Brunei',\n",
    "                               country == 'Egypt, Arab Rep.' ~ 'Egypt',\n",
    "                               country == 'Gambia, The' ~ 'Gambia',\n",
    "                               country == 'Iran, Islamic Rep.' ~ 'Iran',\n",
    "                               country == 'Korea, Dem. People’s Rep.' ~ 'South Korea',\n",
    "                               country == 'Czech Republic' ~ 'Czechia',\n",
    "                               country == 'Lao PDR' ~ 'Laos',\n",
    "                               country == 'Russian Federation' ~ 'Russia',\n",
    "                               country == 'St. Lucia' ~ 'Saint Lucia',\n",
    "                               country == 'St. Vincent and the Grenadines' ~ 'Saint Vincent and the Grenadines',\n",
    "                               country == 'Slovak Republic' ~ 'Slovakia',\n",
    "                               country == 'Syrian Arab Republic' ~ 'Syria',\n",
    "                               country == 'Venezuela, RB' ~ 'Venezuela',\n",
    "                               country == 'Sub-Saharan Africa' ~ 'Western Sahara',\n",
    "                               country == 'Yemen, Rep.' ~ 'Yemen',\n",
    "                               TRUE ~ country))"
   ]
  },
  {
   "cell_type": "code",
   "execution_count": 19,
   "metadata": {},
   "outputs": [],
   "source": [
    "covid19 <- covid19 %>%\n",
    "    mutate(country = case_when(country == 'Burma' ~ 'Myanmar',\n",
    "                               country == 'Congo (Brazzaville)' ~ 'Congo, Rep.',\n",
    "                               country == 'Congo (Kinshasa)' ~ 'Congo, Dem. Rep.',\n",
    "                               country == 'Korea, South' ~ 'South Korea',\n",
    "                               country == 'Kyrgyzstan' ~ 'Kyrgyz Republic',\n",
    "                               country == 'Kyrgyzstan' ~ 'Kyrgyz Republic',\n",
    "                               country == 'US' ~ 'United States',\n",
    "                               TRUE ~ country))"
   ]
  },
  {
   "cell_type": "code",
   "execution_count": 20,
   "metadata": {},
   "outputs": [
    {
     "data": {
      "text/html": [
       "<table>\n",
       "<caption>A data.frame: 5 × 4</caption>\n",
       "<thead>\n",
       "\t<tr><th scope=col>country</th><th scope=col>confirmed</th><th scope=col>death</th><th scope=col>rate</th></tr>\n",
       "\t<tr><th scope=col>&lt;chr&gt;</th><th scope=col>&lt;dbl&gt;</th><th scope=col>&lt;dbl&gt;</th><th scope=col>&lt;dbl&gt;</th></tr>\n",
       "</thead>\n",
       "<tbody>\n",
       "\t<tr><td>Diamond Princess     </td><td>712</td><td>13</td><td>0.01825843</td></tr>\n",
       "\t<tr><td>Holy See             </td><td>  9</td><td> 0</td><td>0.00000000</td></tr>\n",
       "\t<tr><td>MS Zaandam           </td><td>  9</td><td> 2</td><td>0.22222222</td></tr>\n",
       "\t<tr><td>Saint Kitts and Nevis</td><td> 15</td><td> 0</td><td>0.00000000</td></tr>\n",
       "\t<tr><td>Taiwan*              </td><td>429</td><td> 6</td><td>0.01398601</td></tr>\n",
       "</tbody>\n",
       "</table>\n"
      ],
      "text/latex": [
       "A data.frame: 5 × 4\n",
       "\\begin{tabular}{r|llll}\n",
       " country & confirmed & death & rate\\\\\n",
       " <chr> & <dbl> & <dbl> & <dbl>\\\\\n",
       "\\hline\n",
       "\t Diamond Princess      & 712 & 13 & 0.01825843\\\\\n",
       "\t Holy See              &   9 &  0 & 0.00000000\\\\\n",
       "\t MS Zaandam            &   9 &  2 & 0.22222222\\\\\n",
       "\t Saint Kitts and Nevis &  15 &  0 & 0.00000000\\\\\n",
       "\t Taiwan*               & 429 &  6 & 0.01398601\\\\\n",
       "\\end{tabular}\n"
      ],
      "text/markdown": [
       "\n",
       "A data.frame: 5 × 4\n",
       "\n",
       "| country &lt;chr&gt; | confirmed &lt;dbl&gt; | death &lt;dbl&gt; | rate &lt;dbl&gt; |\n",
       "|---|---|---|---|\n",
       "| Diamond Princess      | 712 | 13 | 0.01825843 |\n",
       "| Holy See              |   9 |  0 | 0.00000000 |\n",
       "| MS Zaandam            |   9 |  2 | 0.22222222 |\n",
       "| Saint Kitts and Nevis |  15 |  0 | 0.00000000 |\n",
       "| Taiwan*               | 429 |  6 | 0.01398601 |\n",
       "\n"
      ],
      "text/plain": [
       "  country               confirmed death rate      \n",
       "1 Diamond Princess      712       13    0.01825843\n",
       "2 Holy See                9        0    0.00000000\n",
       "3 MS Zaandam              9        2    0.22222222\n",
       "4 Saint Kitts and Nevis  15        0    0.00000000\n",
       "5 Taiwan*               429        6    0.01398601"
      ]
     },
     "metadata": {},
     "output_type": "display_data"
    }
   ],
   "source": [
    "covid19 %>%\n",
    "    filter(!country %in% country_data$country)"
   ]
  },
  {
   "cell_type": "code",
   "execution_count": 21,
   "metadata": {},
   "outputs": [
    {
     "data": {
      "text/html": [
       "<table>\n",
       "<caption>A data.frame: 10 × 2</caption>\n",
       "<thead>\n",
       "\t<tr><th scope=col>country</th><th scope=col>gov_resp</th></tr>\n",
       "\t<tr><th scope=col>&lt;chr&gt;</th><th scope=col>&lt;dbl&gt;</th></tr>\n",
       "</thead>\n",
       "<tbody>\n",
       "\t<tr><td>Aruba      </td><td> 85.71</td></tr>\n",
       "\t<tr><td>Bermuda    </td><td> 85.71</td></tr>\n",
       "\t<tr><td>Greenland  </td><td> 71.43</td></tr>\n",
       "\t<tr><td>Guam       </td><td> 76.19</td></tr>\n",
       "\t<tr><td>Hong Kong  </td><td> 85.71</td></tr>\n",
       "\t<tr><td>Lesotho    </td><td>100.00</td></tr>\n",
       "\t<tr><td>Macao      </td><td> 66.67</td></tr>\n",
       "\t<tr><td>Palestine  </td><td> 54.76</td></tr>\n",
       "\t<tr><td>Puerto Rico</td><td> 80.95</td></tr>\n",
       "\t<tr><td>Taiwan     </td><td> 38.10</td></tr>\n",
       "</tbody>\n",
       "</table>\n"
      ],
      "text/latex": [
       "A data.frame: 10 × 2\n",
       "\\begin{tabular}{r|ll}\n",
       " country & gov\\_resp\\\\\n",
       " <chr> & <dbl>\\\\\n",
       "\\hline\n",
       "\t Aruba       &  85.71\\\\\n",
       "\t Bermuda     &  85.71\\\\\n",
       "\t Greenland   &  71.43\\\\\n",
       "\t Guam        &  76.19\\\\\n",
       "\t Hong Kong   &  85.71\\\\\n",
       "\t Lesotho     & 100.00\\\\\n",
       "\t Macao       &  66.67\\\\\n",
       "\t Palestine   &  54.76\\\\\n",
       "\t Puerto Rico &  80.95\\\\\n",
       "\t Taiwan      &  38.10\\\\\n",
       "\\end{tabular}\n"
      ],
      "text/markdown": [
       "\n",
       "A data.frame: 10 × 2\n",
       "\n",
       "| country &lt;chr&gt; | gov_resp &lt;dbl&gt; |\n",
       "|---|---|\n",
       "| Aruba       |  85.71 |\n",
       "| Bermuda     |  85.71 |\n",
       "| Greenland   |  71.43 |\n",
       "| Guam        |  76.19 |\n",
       "| Hong Kong   |  85.71 |\n",
       "| Lesotho     | 100.00 |\n",
       "| Macao       |  66.67 |\n",
       "| Palestine   |  54.76 |\n",
       "| Puerto Rico |  80.95 |\n",
       "| Taiwan      |  38.10 |\n",
       "\n"
      ],
      "text/plain": [
       "   country     gov_resp\n",
       "1  Aruba        85.71  \n",
       "2  Bermuda      85.71  \n",
       "3  Greenland    71.43  \n",
       "4  Guam         76.19  \n",
       "5  Hong Kong    85.71  \n",
       "6  Lesotho     100.00  \n",
       "7  Macao        66.67  \n",
       "8  Palestine    54.76  \n",
       "9  Puerto Rico  80.95  \n",
       "10 Taiwan       38.10  "
      ]
     },
     "metadata": {},
     "output_type": "display_data"
    }
   ],
   "source": [
    "gov_resp %>%\n",
    "    filter(!country %in% covid19$country)"
   ]
  },
  {
   "cell_type": "code",
   "execution_count": 31,
   "metadata": {},
   "outputs": [],
   "source": [
    "data <- merge(country_data, covid19, by = \"country\")"
   ]
  },
  {
   "cell_type": "code",
   "execution_count": 32,
   "metadata": {},
   "outputs": [
    {
     "data": {
      "text/html": [
       "<ol class=list-inline>\n",
       "\t<li>180</li>\n",
       "\t<li>11</li>\n",
       "</ol>\n"
      ],
      "text/latex": [
       "\\begin{enumerate*}\n",
       "\\item 180\n",
       "\\item 11\n",
       "\\end{enumerate*}\n"
      ],
      "text/markdown": [
       "1. 180\n",
       "2. 11\n",
       "\n",
       "\n"
      ],
      "text/plain": [
       "[1] 180  11"
      ]
     },
     "metadata": {},
     "output_type": "display_data"
    }
   ],
   "source": [
    "dim(data)"
   ]
  },
  {
   "cell_type": "code",
   "execution_count": 33,
   "metadata": {},
   "outputs": [],
   "source": [
    "data <- merge(data, gov_resp, by = \"country\")"
   ]
  },
  {
   "cell_type": "code",
   "execution_count": 34,
   "metadata": {},
   "outputs": [
    {
     "data": {
      "text/html": [
       "<ol class=list-inline>\n",
       "\t<li>141</li>\n",
       "\t<li>12</li>\n",
       "</ol>\n"
      ],
      "text/latex": [
       "\\begin{enumerate*}\n",
       "\\item 141\n",
       "\\item 12\n",
       "\\end{enumerate*}\n"
      ],
      "text/markdown": [
       "1. 141\n",
       "2. 12\n",
       "\n",
       "\n"
      ],
      "text/plain": [
       "[1] 141  12"
      ]
     },
     "metadata": {},
     "output_type": "display_data"
    }
   ],
   "source": [
    "dim(data)"
   ]
  },
  {
   "cell_type": "code",
   "execution_count": 35,
   "metadata": {},
   "outputs": [
    {
     "data": {
      "text/html": [
       "<table>\n",
       "<caption>A data.frame: 6 × 12</caption>\n",
       "<thead>\n",
       "\t<tr><th scope=col>country</th><th scope=col>age_1564</th><th scope=col>age_64up</th><th scope=col>age_0014</th><th scope=col>smok</th><th scope=col>air_polution</th><th scope=col>doctor</th><th scope=col>nurse_midwivies</th><th scope=col>confirmed</th><th scope=col>death</th><th scope=col>rate</th><th scope=col>gov_resp</th></tr>\n",
       "\t<tr><th scope=col>&lt;chr&gt;</th><th scope=col>&lt;dbl&gt;</th><th scope=col>&lt;dbl&gt;</th><th scope=col>&lt;dbl&gt;</th><th scope=col>&lt;dbl&gt;</th><th scope=col>&lt;dbl&gt;</th><th scope=col>&lt;dbl&gt;</th><th scope=col>&lt;dbl&gt;</th><th scope=col>&lt;dbl&gt;</th><th scope=col>&lt;dbl&gt;</th><th scope=col>&lt;dbl&gt;</th><th scope=col>&lt;dbl&gt;</th></tr>\n",
       "</thead>\n",
       "<tbody>\n",
       "\t<tr><td>Afghanistan</td><td>54.32490</td><td> 2.584927</td><td>43.09018</td><td>  NA</td><td>56.91081</td><td>0.2907</td><td>    NA</td><td>1463</td><td> 47</td><td>0.03212577</td><td>71.43</td></tr>\n",
       "\t<tr><td>Albania    </td><td>68.58239</td><td>13.744736</td><td>17.67287</td><td>28.7</td><td>18.20060</td><td>    NA</td><td>    NA</td><td> 712</td><td> 27</td><td>0.03792135</td><td>85.71</td></tr>\n",
       "\t<tr><td>Algeria    </td><td>63.48882</td><td> 6.362497</td><td>30.14868</td><td>15.6</td><td>38.88401</td><td>    NA</td><td>    NA</td><td>3256</td><td>419</td><td>0.12868550</td><td>95.24</td></tr>\n",
       "\t<tr><td>Andorra    </td><td>      NA</td><td>       NA</td><td>      NA</td><td>33.5</td><td>10.30762</td><td>3.3333</td><td>4.0128</td><td> 738</td><td> 40</td><td>0.05420054</td><td>71.43</td></tr>\n",
       "\t<tr><td>Angola     </td><td>50.97470</td><td> 2.216374</td><td>46.80892</td><td>  NA</td><td>32.38850</td><td>    NA</td><td>    NA</td><td>  25</td><td>  2</td><td>0.08000000</td><td>71.43</td></tr>\n",
       "\t<tr><td>Argentina  </td><td>64.12128</td><td>11.117789</td><td>24.76093</td><td>21.8</td><td>13.31183</td><td>    NA</td><td>    NA</td><td>3780</td><td>185</td><td>0.04894180</td><td>95.24</td></tr>\n",
       "</tbody>\n",
       "</table>\n"
      ],
      "text/latex": [
       "A data.frame: 6 × 12\n",
       "\\begin{tabular}{r|llllllllllll}\n",
       " country & age\\_1564 & age\\_64up & age\\_0014 & smok & air\\_polution & doctor & nurse\\_midwivies & confirmed & death & rate & gov\\_resp\\\\\n",
       " <chr> & <dbl> & <dbl> & <dbl> & <dbl> & <dbl> & <dbl> & <dbl> & <dbl> & <dbl> & <dbl> & <dbl>\\\\\n",
       "\\hline\n",
       "\t Afghanistan & 54.32490 &  2.584927 & 43.09018 &   NA & 56.91081 & 0.2907 &     NA & 1463 &  47 & 0.03212577 & 71.43\\\\\n",
       "\t Albania     & 68.58239 & 13.744736 & 17.67287 & 28.7 & 18.20060 &     NA &     NA &  712 &  27 & 0.03792135 & 85.71\\\\\n",
       "\t Algeria     & 63.48882 &  6.362497 & 30.14868 & 15.6 & 38.88401 &     NA &     NA & 3256 & 419 & 0.12868550 & 95.24\\\\\n",
       "\t Andorra     &       NA &        NA &       NA & 33.5 & 10.30762 & 3.3333 & 4.0128 &  738 &  40 & 0.05420054 & 71.43\\\\\n",
       "\t Angola      & 50.97470 &  2.216374 & 46.80892 &   NA & 32.38850 &     NA &     NA &   25 &   2 & 0.08000000 & 71.43\\\\\n",
       "\t Argentina   & 64.12128 & 11.117789 & 24.76093 & 21.8 & 13.31183 &     NA &     NA & 3780 & 185 & 0.04894180 & 95.24\\\\\n",
       "\\end{tabular}\n"
      ],
      "text/markdown": [
       "\n",
       "A data.frame: 6 × 12\n",
       "\n",
       "| country &lt;chr&gt; | age_1564 &lt;dbl&gt; | age_64up &lt;dbl&gt; | age_0014 &lt;dbl&gt; | smok &lt;dbl&gt; | air_polution &lt;dbl&gt; | doctor &lt;dbl&gt; | nurse_midwivies &lt;dbl&gt; | confirmed &lt;dbl&gt; | death &lt;dbl&gt; | rate &lt;dbl&gt; | gov_resp &lt;dbl&gt; |\n",
       "|---|---|---|---|---|---|---|---|---|---|---|---|\n",
       "| Afghanistan | 54.32490 |  2.584927 | 43.09018 |   NA | 56.91081 | 0.2907 |     NA | 1463 |  47 | 0.03212577 | 71.43 |\n",
       "| Albania     | 68.58239 | 13.744736 | 17.67287 | 28.7 | 18.20060 |     NA |     NA |  712 |  27 | 0.03792135 | 85.71 |\n",
       "| Algeria     | 63.48882 |  6.362497 | 30.14868 | 15.6 | 38.88401 |     NA |     NA | 3256 | 419 | 0.12868550 | 95.24 |\n",
       "| Andorra     |       NA |        NA |       NA | 33.5 | 10.30762 | 3.3333 | 4.0128 |  738 |  40 | 0.05420054 | 71.43 |\n",
       "| Angola      | 50.97470 |  2.216374 | 46.80892 |   NA | 32.38850 |     NA |     NA |   25 |   2 | 0.08000000 | 71.43 |\n",
       "| Argentina   | 64.12128 | 11.117789 | 24.76093 | 21.8 | 13.31183 |     NA |     NA | 3780 | 185 | 0.04894180 | 95.24 |\n",
       "\n"
      ],
      "text/plain": [
       "  country     age_1564 age_64up  age_0014 smok air_polution doctor\n",
       "1 Afghanistan 54.32490  2.584927 43.09018   NA 56.91081     0.2907\n",
       "2 Albania     68.58239 13.744736 17.67287 28.7 18.20060         NA\n",
       "3 Algeria     63.48882  6.362497 30.14868 15.6 38.88401         NA\n",
       "4 Andorra           NA        NA       NA 33.5 10.30762     3.3333\n",
       "5 Angola      50.97470  2.216374 46.80892   NA 32.38850         NA\n",
       "6 Argentina   64.12128 11.117789 24.76093 21.8 13.31183         NA\n",
       "  nurse_midwivies confirmed death rate       gov_resp\n",
       "1     NA          1463       47   0.03212577 71.43   \n",
       "2     NA           712       27   0.03792135 85.71   \n",
       "3     NA          3256      419   0.12868550 95.24   \n",
       "4 4.0128           738       40   0.05420054 71.43   \n",
       "5     NA            25        2   0.08000000 71.43   \n",
       "6     NA          3780      185   0.04894180 95.24   "
      ]
     },
     "metadata": {},
     "output_type": "display_data"
    }
   ],
   "source": [
    "head(data)"
   ]
  },
  {
   "cell_type": "code",
   "execution_count": 48,
   "metadata": {},
   "outputs": [
    {
     "data": {
      "text/html": [
       "<table>\n",
       "<caption>A data.frame: 141 × 12</caption>\n",
       "<thead>\n",
       "\t<tr><th scope=col>country</th><th scope=col>age_1564</th><th scope=col>age_64up</th><th scope=col>age_0014</th><th scope=col>smok</th><th scope=col>air_polution</th><th scope=col>doctor</th><th scope=col>nurse_midwivies</th><th scope=col>confirmed</th><th scope=col>death</th><th scope=col>rate</th><th scope=col>gov_resp</th></tr>\n",
       "\t<tr><th scope=col>&lt;chr&gt;</th><th scope=col>&lt;dbl&gt;</th><th scope=col>&lt;dbl&gt;</th><th scope=col>&lt;dbl&gt;</th><th scope=col>&lt;dbl&gt;</th><th scope=col>&lt;dbl&gt;</th><th scope=col>&lt;dbl&gt;</th><th scope=col>&lt;dbl&gt;</th><th scope=col>&lt;dbl&gt;</th><th scope=col>&lt;dbl&gt;</th><th scope=col>&lt;dbl&gt;</th><th scope=col>&lt;dbl&gt;</th></tr>\n",
       "</thead>\n",
       "<tbody>\n",
       "\t<tr><td>Chad                </td><td>50.39318</td><td> 2.480519</td><td>47.12630</td><td>  NA</td><td>66.029206</td><td>    NA</td><td>     NA</td><td>   46</td><td>  0</td><td>0.000000000</td><td> 66.67</td></tr>\n",
       "\t<tr><td>Dominica            </td><td>      NA</td><td>       NA</td><td>      NA</td><td>  NA</td><td>19.493154</td><td>    NA</td><td>     NA</td><td>   16</td><td>  0</td><td>0.000000000</td><td> 78.57</td></tr>\n",
       "\t<tr><td>Laos                </td><td>63.32093</td><td> 4.075150</td><td>32.60392</td><td>28.9</td><td>25.109538</td><td>    NA</td><td>     NA</td><td>   19</td><td>  0</td><td>0.000000000</td><td> 85.71</td></tr>\n",
       "\t<tr><td>Madagascar          </td><td>56.34513</td><td> 2.986717</td><td>40.66815</td><td>  NA</td><td>22.542283</td><td>    NA</td><td>     NA</td><td>  123</td><td>  0</td><td>0.000000000</td><td>100.00</td></tr>\n",
       "\t<tr><td>Mongolia            </td><td>65.50689</td><td> 4.083539</td><td>30.40957</td><td>25.6</td><td>40.112849</td><td>3.2426</td><td>     NA</td><td>   37</td><td>  0</td><td>0.000000000</td><td> 66.67</td></tr>\n",
       "\t<tr><td>Mozambique          </td><td>52.43844</td><td> 2.890764</td><td>44.67080</td><td>16.6</td><td>21.298695</td><td>    NA</td><td>     NA</td><td>   70</td><td>  0</td><td>0.000000000</td><td> 73.81</td></tr>\n",
       "\t<tr><td>Namibia             </td><td>59.45372</td><td> 3.636032</td><td>36.91025</td><td>21.4</td><td>25.358765</td><td>    NA</td><td>     NA</td><td>   16</td><td>  0</td><td>0.000000000</td><td> 66.67</td></tr>\n",
       "\t<tr><td>Papua New Guinea    </td><td>60.73880</td><td> 3.445269</td><td>35.81593</td><td>36.3</td><td>12.294418</td><td>    NA</td><td>     NA</td><td>    8</td><td>  0</td><td>0.000000000</td><td> 90.48</td></tr>\n",
       "\t<tr><td>Rwanda              </td><td>57.08623</td><td> 2.938196</td><td>39.97557</td><td>12.3</td><td>43.210217</td><td>0.1408</td><td> 0.8307</td><td>  183</td><td>  0</td><td>0.000000000</td><td> 80.95</td></tr>\n",
       "\t<tr><td>Seychelles          </td><td>68.77008</td><td> 7.594546</td><td>23.63537</td><td>21.5</td><td>20.178649</td><td>    NA</td><td>     NA</td><td>   11</td><td>  0</td><td>0.000000000</td><td> 85.71</td></tr>\n",
       "\t<tr><td>South Sudan         </td><td>54.78140</td><td> 3.398483</td><td>41.82012</td><td>  NA</td><td>45.577506</td><td>    NA</td><td>     NA</td><td>    5</td><td>  0</td><td>0.000000000</td><td> 90.48</td></tr>\n",
       "\t<tr><td>Uganda              </td><td>51.12849</td><td> 1.940987</td><td>46.93053</td><td>10.0</td><td>50.494321</td><td>0.0908</td><td> 0.6303</td><td>   75</td><td>  0</td><td>0.000000000</td><td> 85.71</td></tr>\n",
       "\t<tr><td>Vietnam             </td><td>69.55234</td><td> 7.274978</td><td>23.17268</td><td>22.8</td><td>29.626728</td><td>0.7887</td><td> 1.4092</td><td>  270</td><td>  0</td><td>0.000000000</td><td>100.00</td></tr>\n",
       "\t<tr><td>Singapore           </td><td>76.25834</td><td>11.463380</td><td>12.27828</td><td>16.5</td><td>19.078256</td><td>    NA</td><td>     NA</td><td>12693</td><td> 12</td><td>0.000945403</td><td> 80.95</td></tr>\n",
       "\t<tr><td>Qatar               </td><td>85.08917</td><td> 1.370070</td><td>13.54076</td><td>20.6</td><td>91.187328</td><td>    NA</td><td>     NA</td><td> 9358</td><td> 10</td><td>0.001068604</td><td> 95.24</td></tr>\n",
       "\t<tr><td>Djibouti            </td><td>65.89830</td><td> 4.527579</td><td>29.57412</td><td>13.1</td><td>45.549618</td><td>    NA</td><td>     NA</td><td> 1008</td><td>  2</td><td>0.001984127</td><td> 85.71</td></tr>\n",
       "\t<tr><td>Bahrain             </td><td>78.31936</td><td> 2.426334</td><td>19.25431</td><td>26.4</td><td>70.816208</td><td>0.9257</td><td> 2.4944</td><td> 2588</td><td>  8</td><td>0.003091190</td><td> 80.95</td></tr>\n",
       "\t<tr><td>Uzbekistan          </td><td>66.89480</td><td> 4.419138</td><td>28.68606</td><td>12.6</td><td>28.455901</td><td>    NA</td><td>     NA</td><td> 1862</td><td>  8</td><td>0.004296455</td><td>100.00</td></tr>\n",
       "\t<tr><td>Oman                </td><td>75.36071</td><td> 2.392787</td><td>22.24651</td><td>11.1</td><td>41.115238</td><td>2.1225</td><td> 4.6028</td><td> 1905</td><td> 10</td><td>0.005249344</td><td>100.00</td></tr>\n",
       "\t<tr><td>Iceland             </td><td>65.37259</td><td>14.795093</td><td>19.83232</td><td>14.7</td><td> 6.481147</td><td>3.7826</td><td>16.3144</td><td> 1790</td><td> 10</td><td>0.005586592</td><td> 61.90</td></tr>\n",
       "\t<tr><td>Kuwait              </td><td>75.91064</td><td> 2.550472</td><td>21.53889</td><td>22.5</td><td>60.745160</td><td>2.5789</td><td> 6.9694</td><td> 2892</td><td> 19</td><td>0.006569848</td><td> 95.24</td></tr>\n",
       "\t<tr><td>United Arab Emirates</td><td>84.31149</td><td> 1.085001</td><td>14.60351</td><td>28.9</td><td>40.917510</td><td>2.2373</td><td> 5.0419</td><td> 9813</td><td> 71</td><td>0.007235300</td><td> 95.24</td></tr>\n",
       "\t<tr><td>Brunei              </td><td>72.10039</td><td> 4.873148</td><td>23.02646</td><td>16.9</td><td> 5.903065</td><td>1.7701</td><td> 6.6012</td><td>  138</td><td>  1</td><td>0.007246377</td><td> 57.14</td></tr>\n",
       "\t<tr><td>Ghana               </td><td>59.33504</td><td> 3.068898</td><td>37.59606</td><td> 3.9</td><td>34.713514</td><td>    NA</td><td>     NA</td><td> 1279</td><td> 10</td><td>0.007818608</td><td> 85.71</td></tr>\n",
       "\t<tr><td>Saudi Arabia        </td><td>71.64306</td><td> 3.314088</td><td>25.04285</td><td>15.6</td><td>87.945447</td><td>    NA</td><td>     NA</td><td>16299</td><td>136</td><td>0.008344070</td><td> 95.24</td></tr>\n",
       "\t<tr><td>Costa Rica          </td><td>69.12541</td><td> 9.549848</td><td>21.32474</td><td>11.9</td><td>15.725920</td><td>    NA</td><td>     NA</td><td>  693</td><td>  6</td><td>0.008658009</td><td> 85.71</td></tr>\n",
       "\t<tr><td>Russia              </td><td>67.41121</td><td>14.674708</td><td>17.91408</td><td>39.3</td><td>16.160224</td><td>3.9632</td><td> 8.6567</td><td>74588</td><td>681</td><td>0.009130155</td><td> 85.71</td></tr>\n",
       "\t<tr><td>Kazakhstan          </td><td>64.14760</td><td> 7.391846</td><td>28.46055</td><td>24.0</td><td>13.824288</td><td>    NA</td><td>     NA</td><td> 2601</td><td> 25</td><td>0.009611688</td><td> 85.71</td></tr>\n",
       "\t<tr><td>Cabo Verde          </td><td>66.61291</td><td> 4.609327</td><td>28.77777</td><td> 9.1</td><td>34.778700</td><td>0.7694</td><td> 1.2272</td><td>   90</td><td>  1</td><td>0.011111111</td><td>    NA</td></tr>\n",
       "\t<tr><td>Australia           </td><td>65.15291</td><td>15.656475</td><td>19.19062</td><td>14.7</td><td> 8.550324</td><td>3.5213</td><td>12.4667</td><td> 6694</td><td> 80</td><td>0.011951001</td><td> 71.43</td></tr>\n",
       "\t<tr><td>...</td><td>...</td><td>...</td><td>...</td><td>...</td><td>...</td><td>...</td><td>...</td><td>...</td><td>...</td><td>...</td><td>...</td></tr>\n",
       "\t<tr><td>Congo, Dem. Rep.   </td><td>50.81652</td><td> 3.017841</td><td>46.16564</td><td>  NA</td><td>44.909264</td><td>    NA</td><td>     NA</td><td>   416</td><td>   28</td><td>0.06730769</td><td> 85.71</td></tr>\n",
       "\t<tr><td>Philippines        </td><td>63.91439</td><td> 5.122569</td><td>30.96304</td><td>24.3</td><td>18.069799</td><td>    NA</td><td> 0.2400</td><td>  7294</td><td>  494</td><td>0.06772690</td><td> 85.71</td></tr>\n",
       "\t<tr><td>Brazil             </td><td>69.74309</td><td> 8.922838</td><td>21.33407</td><td>13.9</td><td>12.706629</td><td>    NA</td><td>     NA</td><td> 59324</td><td> 4057</td><td>0.06838716</td><td> 76.19</td></tr>\n",
       "\t<tr><td>Trinidad and Tobago</td><td>68.84547</td><td>10.734954</td><td>20.41957</td><td>  NA</td><td>24.108568</td><td>2.6697</td><td> 3.5093</td><td>   115</td><td>    8</td><td>0.06956522</td><td> 85.71</td></tr>\n",
       "\t<tr><td>Egypt              </td><td>60.97150</td><td> 5.229779</td><td>33.79872</td><td>25.2</td><td>86.999452</td><td>0.8100</td><td> 1.5000</td><td>  4319</td><td>  307</td><td>0.07108127</td><td>100.00</td></tr>\n",
       "\t<tr><td>Syria              </td><td>64.07533</td><td> 4.503124</td><td>31.42154</td><td>  NA</td><td>43.757259</td><td>    NA</td><td>     NA</td><td>    42</td><td>    3</td><td>0.07142857</td><td>100.00</td></tr>\n",
       "\t<tr><td>Barbados           </td><td>66.85436</td><td>15.802694</td><td>17.34295</td><td> 7.8</td><td>23.080176</td><td>    NA</td><td>     NA</td><td>    79</td><td>    6</td><td>0.07594937</td><td> 80.95</td></tr>\n",
       "\t<tr><td>San Marino         </td><td>      NA</td><td>       NA</td><td>      NA</td><td>  NA</td><td>       NA</td><td>    NA</td><td>     NA</td><td>   513</td><td>   40</td><td>0.07797271</td><td> 95.24</td></tr>\n",
       "\t<tr><td>Sudan              </td><td>55.91005</td><td> 3.581161</td><td>40.50879</td><td>  NA</td><td>55.370834</td><td>0.4100</td><td> 0.8300</td><td>   213</td><td>   17</td><td>0.07981221</td><td> 95.24</td></tr>\n",
       "\t<tr><td>Angola             </td><td>50.97470</td><td> 2.216374</td><td>46.80892</td><td>  NA</td><td>32.388505</td><td>    NA</td><td>     NA</td><td>    25</td><td>    2</td><td>0.08000000</td><td> 71.43</td></tr>\n",
       "\t<tr><td>Indonesia          </td><td>67.59164</td><td> 5.857166</td><td>26.55120</td><td>39.4</td><td>16.502653</td><td>0.2740</td><td> 1.3001</td><td>  8607</td><td>  720</td><td>0.08365284</td><td> 76.19</td></tr>\n",
       "\t<tr><td>Burundi            </td><td>52.25138</td><td> 2.246940</td><td>45.50168</td><td>  NA</td><td>38.896268</td><td>    NA</td><td>     NA</td><td>    11</td><td>    1</td><td>0.09090909</td><td> 28.57</td></tr>\n",
       "\t<tr><td>Malawi             </td><td>53.45228</td><td> 2.645435</td><td>43.90229</td><td>14.5</td><td>23.565921</td><td>    NA</td><td>     NA</td><td>    33</td><td>    3</td><td>0.09090909</td><td> 57.14</td></tr>\n",
       "\t<tr><td>Honduras           </td><td>63.56850</td><td> 4.690618</td><td>31.74088</td><td> 2.0</td><td>20.628851</td><td>    NA</td><td>     NA</td><td>   627</td><td>   59</td><td>0.09409888</td><td>100.00</td></tr>\n",
       "\t<tr><td>Mexico             </td><td>66.21947</td><td> 7.223685</td><td>26.55685</td><td>14.0</td><td>20.921116</td><td>2.2513</td><td> 2.6686</td><td> 13842</td><td> 1305</td><td>0.09427828</td><td> 90.48</td></tr>\n",
       "\t<tr><td>Guyana             </td><td>65.33518</td><td> 6.450271</td><td>28.21455</td><td>  NA</td><td>22.375575</td><td>    NA</td><td>     NA</td><td>    73</td><td>    7</td><td>0.09589041</td><td> 85.71</td></tr>\n",
       "\t<tr><td>Gambia             </td><td>53.14127</td><td> 2.589981</td><td>44.26875</td><td>15.5</td><td>33.982639</td><td>0.1077</td><td> 1.6292</td><td>    10</td><td>    1</td><td>0.10000000</td><td> 69.05</td></tr>\n",
       "\t<tr><td>Spain              </td><td>65.95449</td><td>19.378508</td><td>14.66700</td><td>29.3</td><td> 9.697928</td><td>3.8493</td><td> 5.2919</td><td>223759</td><td>22902</td><td>0.10235119</td><td> 95.24</td></tr>\n",
       "\t<tr><td>Hungary            </td><td>66.43028</td><td>19.157725</td><td>14.41199</td><td>30.6</td><td>15.926048</td><td>3.1159</td><td> 6.6811</td><td>  2443</td><td>  262</td><td>0.10724519</td><td> 90.48</td></tr>\n",
       "\t<tr><td>Belize             </td><td>64.98378</td><td> 4.736459</td><td>30.27977</td><td>  NA</td><td>23.011892</td><td>    NA</td><td>     NA</td><td>    18</td><td>    2</td><td>0.11111111</td><td> 76.19</td></tr>\n",
       "\t<tr><td>Netherlands        </td><td>64.69565</td><td>19.196193</td><td>16.10816</td><td>25.8</td><td>12.034408</td><td>3.4875</td><td>10.4675</td><td> 37384</td><td> 4424</td><td>0.11833940</td><td> 85.71</td></tr>\n",
       "\t<tr><td>Sweden             </td><td>62.32269</td><td>20.095525</td><td>17.58179</td><td>18.8</td><td> 6.184665</td><td>4.2861</td><td>11.8503</td><td> 18177</td><td> 2192</td><td>0.12059196</td><td> 61.90</td></tr>\n",
       "\t<tr><td>Algeria            </td><td>63.48882</td><td> 6.362497</td><td>30.14868</td><td>15.6</td><td>38.884011</td><td>    NA</td><td>     NA</td><td>  3256</td><td>  419</td><td>0.12868550</td><td> 95.24</td></tr>\n",
       "\t<tr><td>Zimbabwe           </td><td>54.65941</td><td> 2.939524</td><td>42.40107</td><td>15.8</td><td>22.251671</td><td>    NA</td><td>     NA</td><td>    31</td><td>    4</td><td>0.12903226</td><td> 88.10</td></tr>\n",
       "\t<tr><td>Italy              </td><td>63.91920</td><td>22.751680</td><td>13.32912</td><td>23.7</td><td>16.750712</td><td>3.9174</td><td> 5.8184</td><td>195351</td><td>26384</td><td>0.13505946</td><td> 95.24</td></tr>\n",
       "\t<tr><td>United Kingdom     </td><td>63.92605</td><td>18.395866</td><td>17.67808</td><td>22.3</td><td>10.472690</td><td>2.7780</td><td> 8.8271</td><td>149569</td><td>20381</td><td>0.13626487</td><td> 71.43</td></tr>\n",
       "\t<tr><td>France             </td><td>62.00891</td><td>20.034625</td><td>17.95646</td><td>32.7</td><td>11.814964</td><td>3.2237</td><td>10.9403</td><td>161644</td><td>22648</td><td>0.14011037</td><td>100.00</td></tr>\n",
       "\t<tr><td>Mauritania         </td><td>56.77571</td><td> 3.141112</td><td>40.08318</td><td>  NA</td><td>47.422992</td><td>0.1655</td><td> 0.9892</td><td>     7</td><td>    1</td><td>0.14285714</td><td> 66.67</td></tr>\n",
       "\t<tr><td>Belgium            </td><td>64.15583</td><td>18.788744</td><td>17.05542</td><td>28.2</td><td>12.886518</td><td>3.0138</td><td>10.8193</td><td> 45325</td><td> 6917</td><td>0.15260894</td><td> 85.71</td></tr>\n",
       "\t<tr><td>Nicaragua          </td><td>64.55082</td><td> 5.247497</td><td>30.20168</td><td>  NA</td><td>17.614180</td><td>    NA</td><td>     NA</td><td>    12</td><td>    3</td><td>0.25000000</td><td> 11.90</td></tr>\n",
       "</tbody>\n",
       "</table>\n"
      ],
      "text/latex": [
       "A data.frame: 141 × 12\n",
       "\\begin{tabular}{r|llllllllllll}\n",
       " country & age\\_1564 & age\\_64up & age\\_0014 & smok & air\\_polution & doctor & nurse\\_midwivies & confirmed & death & rate & gov\\_resp\\\\\n",
       " <chr> & <dbl> & <dbl> & <dbl> & <dbl> & <dbl> & <dbl> & <dbl> & <dbl> & <dbl> & <dbl> & <dbl>\\\\\n",
       "\\hline\n",
       "\t Chad                 & 50.39318 &  2.480519 & 47.12630 &   NA & 66.029206 &     NA &      NA &    46 &   0 & 0.000000000 &  66.67\\\\\n",
       "\t Dominica             &       NA &        NA &       NA &   NA & 19.493154 &     NA &      NA &    16 &   0 & 0.000000000 &  78.57\\\\\n",
       "\t Laos                 & 63.32093 &  4.075150 & 32.60392 & 28.9 & 25.109538 &     NA &      NA &    19 &   0 & 0.000000000 &  85.71\\\\\n",
       "\t Madagascar           & 56.34513 &  2.986717 & 40.66815 &   NA & 22.542283 &     NA &      NA &   123 &   0 & 0.000000000 & 100.00\\\\\n",
       "\t Mongolia             & 65.50689 &  4.083539 & 30.40957 & 25.6 & 40.112849 & 3.2426 &      NA &    37 &   0 & 0.000000000 &  66.67\\\\\n",
       "\t Mozambique           & 52.43844 &  2.890764 & 44.67080 & 16.6 & 21.298695 &     NA &      NA &    70 &   0 & 0.000000000 &  73.81\\\\\n",
       "\t Namibia              & 59.45372 &  3.636032 & 36.91025 & 21.4 & 25.358765 &     NA &      NA &    16 &   0 & 0.000000000 &  66.67\\\\\n",
       "\t Papua New Guinea     & 60.73880 &  3.445269 & 35.81593 & 36.3 & 12.294418 &     NA &      NA &     8 &   0 & 0.000000000 &  90.48\\\\\n",
       "\t Rwanda               & 57.08623 &  2.938196 & 39.97557 & 12.3 & 43.210217 & 0.1408 &  0.8307 &   183 &   0 & 0.000000000 &  80.95\\\\\n",
       "\t Seychelles           & 68.77008 &  7.594546 & 23.63537 & 21.5 & 20.178649 &     NA &      NA &    11 &   0 & 0.000000000 &  85.71\\\\\n",
       "\t South Sudan          & 54.78140 &  3.398483 & 41.82012 &   NA & 45.577506 &     NA &      NA &     5 &   0 & 0.000000000 &  90.48\\\\\n",
       "\t Uganda               & 51.12849 &  1.940987 & 46.93053 & 10.0 & 50.494321 & 0.0908 &  0.6303 &    75 &   0 & 0.000000000 &  85.71\\\\\n",
       "\t Vietnam              & 69.55234 &  7.274978 & 23.17268 & 22.8 & 29.626728 & 0.7887 &  1.4092 &   270 &   0 & 0.000000000 & 100.00\\\\\n",
       "\t Singapore            & 76.25834 & 11.463380 & 12.27828 & 16.5 & 19.078256 &     NA &      NA & 12693 &  12 & 0.000945403 &  80.95\\\\\n",
       "\t Qatar                & 85.08917 &  1.370070 & 13.54076 & 20.6 & 91.187328 &     NA &      NA &  9358 &  10 & 0.001068604 &  95.24\\\\\n",
       "\t Djibouti             & 65.89830 &  4.527579 & 29.57412 & 13.1 & 45.549618 &     NA &      NA &  1008 &   2 & 0.001984127 &  85.71\\\\\n",
       "\t Bahrain              & 78.31936 &  2.426334 & 19.25431 & 26.4 & 70.816208 & 0.9257 &  2.4944 &  2588 &   8 & 0.003091190 &  80.95\\\\\n",
       "\t Uzbekistan           & 66.89480 &  4.419138 & 28.68606 & 12.6 & 28.455901 &     NA &      NA &  1862 &   8 & 0.004296455 & 100.00\\\\\n",
       "\t Oman                 & 75.36071 &  2.392787 & 22.24651 & 11.1 & 41.115238 & 2.1225 &  4.6028 &  1905 &  10 & 0.005249344 & 100.00\\\\\n",
       "\t Iceland              & 65.37259 & 14.795093 & 19.83232 & 14.7 &  6.481147 & 3.7826 & 16.3144 &  1790 &  10 & 0.005586592 &  61.90\\\\\n",
       "\t Kuwait               & 75.91064 &  2.550472 & 21.53889 & 22.5 & 60.745160 & 2.5789 &  6.9694 &  2892 &  19 & 0.006569848 &  95.24\\\\\n",
       "\t United Arab Emirates & 84.31149 &  1.085001 & 14.60351 & 28.9 & 40.917510 & 2.2373 &  5.0419 &  9813 &  71 & 0.007235300 &  95.24\\\\\n",
       "\t Brunei               & 72.10039 &  4.873148 & 23.02646 & 16.9 &  5.903065 & 1.7701 &  6.6012 &   138 &   1 & 0.007246377 &  57.14\\\\\n",
       "\t Ghana                & 59.33504 &  3.068898 & 37.59606 &  3.9 & 34.713514 &     NA &      NA &  1279 &  10 & 0.007818608 &  85.71\\\\\n",
       "\t Saudi Arabia         & 71.64306 &  3.314088 & 25.04285 & 15.6 & 87.945447 &     NA &      NA & 16299 & 136 & 0.008344070 &  95.24\\\\\n",
       "\t Costa Rica           & 69.12541 &  9.549848 & 21.32474 & 11.9 & 15.725920 &     NA &      NA &   693 &   6 & 0.008658009 &  85.71\\\\\n",
       "\t Russia               & 67.41121 & 14.674708 & 17.91408 & 39.3 & 16.160224 & 3.9632 &  8.6567 & 74588 & 681 & 0.009130155 &  85.71\\\\\n",
       "\t Kazakhstan           & 64.14760 &  7.391846 & 28.46055 & 24.0 & 13.824288 &     NA &      NA &  2601 &  25 & 0.009611688 &  85.71\\\\\n",
       "\t Cabo Verde           & 66.61291 &  4.609327 & 28.77777 &  9.1 & 34.778700 & 0.7694 &  1.2272 &    90 &   1 & 0.011111111 &     NA\\\\\n",
       "\t Australia            & 65.15291 & 15.656475 & 19.19062 & 14.7 &  8.550324 & 3.5213 & 12.4667 &  6694 &  80 & 0.011951001 &  71.43\\\\\n",
       "\t ... & ... & ... & ... & ... & ... & ... & ... & ... & ... & ... & ...\\\\\n",
       "\t Congo, Dem. Rep.    & 50.81652 &  3.017841 & 46.16564 &   NA & 44.909264 &     NA &      NA &    416 &    28 & 0.06730769 &  85.71\\\\\n",
       "\t Philippines         & 63.91439 &  5.122569 & 30.96304 & 24.3 & 18.069799 &     NA &  0.2400 &   7294 &   494 & 0.06772690 &  85.71\\\\\n",
       "\t Brazil              & 69.74309 &  8.922838 & 21.33407 & 13.9 & 12.706629 &     NA &      NA &  59324 &  4057 & 0.06838716 &  76.19\\\\\n",
       "\t Trinidad and Tobago & 68.84547 & 10.734954 & 20.41957 &   NA & 24.108568 & 2.6697 &  3.5093 &    115 &     8 & 0.06956522 &  85.71\\\\\n",
       "\t Egypt               & 60.97150 &  5.229779 & 33.79872 & 25.2 & 86.999452 & 0.8100 &  1.5000 &   4319 &   307 & 0.07108127 & 100.00\\\\\n",
       "\t Syria               & 64.07533 &  4.503124 & 31.42154 &   NA & 43.757259 &     NA &      NA &     42 &     3 & 0.07142857 & 100.00\\\\\n",
       "\t Barbados            & 66.85436 & 15.802694 & 17.34295 &  7.8 & 23.080176 &     NA &      NA &     79 &     6 & 0.07594937 &  80.95\\\\\n",
       "\t San Marino          &       NA &        NA &       NA &   NA &        NA &     NA &      NA &    513 &    40 & 0.07797271 &  95.24\\\\\n",
       "\t Sudan               & 55.91005 &  3.581161 & 40.50879 &   NA & 55.370834 & 0.4100 &  0.8300 &    213 &    17 & 0.07981221 &  95.24\\\\\n",
       "\t Angola              & 50.97470 &  2.216374 & 46.80892 &   NA & 32.388505 &     NA &      NA &     25 &     2 & 0.08000000 &  71.43\\\\\n",
       "\t Indonesia           & 67.59164 &  5.857166 & 26.55120 & 39.4 & 16.502653 & 0.2740 &  1.3001 &   8607 &   720 & 0.08365284 &  76.19\\\\\n",
       "\t Burundi             & 52.25138 &  2.246940 & 45.50168 &   NA & 38.896268 &     NA &      NA &     11 &     1 & 0.09090909 &  28.57\\\\\n",
       "\t Malawi              & 53.45228 &  2.645435 & 43.90229 & 14.5 & 23.565921 &     NA &      NA &     33 &     3 & 0.09090909 &  57.14\\\\\n",
       "\t Honduras            & 63.56850 &  4.690618 & 31.74088 &  2.0 & 20.628851 &     NA &      NA &    627 &    59 & 0.09409888 & 100.00\\\\\n",
       "\t Mexico              & 66.21947 &  7.223685 & 26.55685 & 14.0 & 20.921116 & 2.2513 &  2.6686 &  13842 &  1305 & 0.09427828 &  90.48\\\\\n",
       "\t Guyana              & 65.33518 &  6.450271 & 28.21455 &   NA & 22.375575 &     NA &      NA &     73 &     7 & 0.09589041 &  85.71\\\\\n",
       "\t Gambia              & 53.14127 &  2.589981 & 44.26875 & 15.5 & 33.982639 & 0.1077 &  1.6292 &     10 &     1 & 0.10000000 &  69.05\\\\\n",
       "\t Spain               & 65.95449 & 19.378508 & 14.66700 & 29.3 &  9.697928 & 3.8493 &  5.2919 & 223759 & 22902 & 0.10235119 &  95.24\\\\\n",
       "\t Hungary             & 66.43028 & 19.157725 & 14.41199 & 30.6 & 15.926048 & 3.1159 &  6.6811 &   2443 &   262 & 0.10724519 &  90.48\\\\\n",
       "\t Belize              & 64.98378 &  4.736459 & 30.27977 &   NA & 23.011892 &     NA &      NA &     18 &     2 & 0.11111111 &  76.19\\\\\n",
       "\t Netherlands         & 64.69565 & 19.196193 & 16.10816 & 25.8 & 12.034408 & 3.4875 & 10.4675 &  37384 &  4424 & 0.11833940 &  85.71\\\\\n",
       "\t Sweden              & 62.32269 & 20.095525 & 17.58179 & 18.8 &  6.184665 & 4.2861 & 11.8503 &  18177 &  2192 & 0.12059196 &  61.90\\\\\n",
       "\t Algeria             & 63.48882 &  6.362497 & 30.14868 & 15.6 & 38.884011 &     NA &      NA &   3256 &   419 & 0.12868550 &  95.24\\\\\n",
       "\t Zimbabwe            & 54.65941 &  2.939524 & 42.40107 & 15.8 & 22.251671 &     NA &      NA &     31 &     4 & 0.12903226 &  88.10\\\\\n",
       "\t Italy               & 63.91920 & 22.751680 & 13.32912 & 23.7 & 16.750712 & 3.9174 &  5.8184 & 195351 & 26384 & 0.13505946 &  95.24\\\\\n",
       "\t United Kingdom      & 63.92605 & 18.395866 & 17.67808 & 22.3 & 10.472690 & 2.7780 &  8.8271 & 149569 & 20381 & 0.13626487 &  71.43\\\\\n",
       "\t France              & 62.00891 & 20.034625 & 17.95646 & 32.7 & 11.814964 & 3.2237 & 10.9403 & 161644 & 22648 & 0.14011037 & 100.00\\\\\n",
       "\t Mauritania          & 56.77571 &  3.141112 & 40.08318 &   NA & 47.422992 & 0.1655 &  0.9892 &      7 &     1 & 0.14285714 &  66.67\\\\\n",
       "\t Belgium             & 64.15583 & 18.788744 & 17.05542 & 28.2 & 12.886518 & 3.0138 & 10.8193 &  45325 &  6917 & 0.15260894 &  85.71\\\\\n",
       "\t Nicaragua           & 64.55082 &  5.247497 & 30.20168 &   NA & 17.614180 &     NA &      NA &     12 &     3 & 0.25000000 &  11.90\\\\\n",
       "\\end{tabular}\n"
      ],
      "text/markdown": [
       "\n",
       "A data.frame: 141 × 12\n",
       "\n",
       "| country &lt;chr&gt; | age_1564 &lt;dbl&gt; | age_64up &lt;dbl&gt; | age_0014 &lt;dbl&gt; | smok &lt;dbl&gt; | air_polution &lt;dbl&gt; | doctor &lt;dbl&gt; | nurse_midwivies &lt;dbl&gt; | confirmed &lt;dbl&gt; | death &lt;dbl&gt; | rate &lt;dbl&gt; | gov_resp &lt;dbl&gt; |\n",
       "|---|---|---|---|---|---|---|---|---|---|---|---|\n",
       "| Chad                 | 50.39318 |  2.480519 | 47.12630 |   NA | 66.029206 |     NA |      NA |    46 |   0 | 0.000000000 |  66.67 |\n",
       "| Dominica             |       NA |        NA |       NA |   NA | 19.493154 |     NA |      NA |    16 |   0 | 0.000000000 |  78.57 |\n",
       "| Laos                 | 63.32093 |  4.075150 | 32.60392 | 28.9 | 25.109538 |     NA |      NA |    19 |   0 | 0.000000000 |  85.71 |\n",
       "| Madagascar           | 56.34513 |  2.986717 | 40.66815 |   NA | 22.542283 |     NA |      NA |   123 |   0 | 0.000000000 | 100.00 |\n",
       "| Mongolia             | 65.50689 |  4.083539 | 30.40957 | 25.6 | 40.112849 | 3.2426 |      NA |    37 |   0 | 0.000000000 |  66.67 |\n",
       "| Mozambique           | 52.43844 |  2.890764 | 44.67080 | 16.6 | 21.298695 |     NA |      NA |    70 |   0 | 0.000000000 |  73.81 |\n",
       "| Namibia              | 59.45372 |  3.636032 | 36.91025 | 21.4 | 25.358765 |     NA |      NA |    16 |   0 | 0.000000000 |  66.67 |\n",
       "| Papua New Guinea     | 60.73880 |  3.445269 | 35.81593 | 36.3 | 12.294418 |     NA |      NA |     8 |   0 | 0.000000000 |  90.48 |\n",
       "| Rwanda               | 57.08623 |  2.938196 | 39.97557 | 12.3 | 43.210217 | 0.1408 |  0.8307 |   183 |   0 | 0.000000000 |  80.95 |\n",
       "| Seychelles           | 68.77008 |  7.594546 | 23.63537 | 21.5 | 20.178649 |     NA |      NA |    11 |   0 | 0.000000000 |  85.71 |\n",
       "| South Sudan          | 54.78140 |  3.398483 | 41.82012 |   NA | 45.577506 |     NA |      NA |     5 |   0 | 0.000000000 |  90.48 |\n",
       "| Uganda               | 51.12849 |  1.940987 | 46.93053 | 10.0 | 50.494321 | 0.0908 |  0.6303 |    75 |   0 | 0.000000000 |  85.71 |\n",
       "| Vietnam              | 69.55234 |  7.274978 | 23.17268 | 22.8 | 29.626728 | 0.7887 |  1.4092 |   270 |   0 | 0.000000000 | 100.00 |\n",
       "| Singapore            | 76.25834 | 11.463380 | 12.27828 | 16.5 | 19.078256 |     NA |      NA | 12693 |  12 | 0.000945403 |  80.95 |\n",
       "| Qatar                | 85.08917 |  1.370070 | 13.54076 | 20.6 | 91.187328 |     NA |      NA |  9358 |  10 | 0.001068604 |  95.24 |\n",
       "| Djibouti             | 65.89830 |  4.527579 | 29.57412 | 13.1 | 45.549618 |     NA |      NA |  1008 |   2 | 0.001984127 |  85.71 |\n",
       "| Bahrain              | 78.31936 |  2.426334 | 19.25431 | 26.4 | 70.816208 | 0.9257 |  2.4944 |  2588 |   8 | 0.003091190 |  80.95 |\n",
       "| Uzbekistan           | 66.89480 |  4.419138 | 28.68606 | 12.6 | 28.455901 |     NA |      NA |  1862 |   8 | 0.004296455 | 100.00 |\n",
       "| Oman                 | 75.36071 |  2.392787 | 22.24651 | 11.1 | 41.115238 | 2.1225 |  4.6028 |  1905 |  10 | 0.005249344 | 100.00 |\n",
       "| Iceland              | 65.37259 | 14.795093 | 19.83232 | 14.7 |  6.481147 | 3.7826 | 16.3144 |  1790 |  10 | 0.005586592 |  61.90 |\n",
       "| Kuwait               | 75.91064 |  2.550472 | 21.53889 | 22.5 | 60.745160 | 2.5789 |  6.9694 |  2892 |  19 | 0.006569848 |  95.24 |\n",
       "| United Arab Emirates | 84.31149 |  1.085001 | 14.60351 | 28.9 | 40.917510 | 2.2373 |  5.0419 |  9813 |  71 | 0.007235300 |  95.24 |\n",
       "| Brunei               | 72.10039 |  4.873148 | 23.02646 | 16.9 |  5.903065 | 1.7701 |  6.6012 |   138 |   1 | 0.007246377 |  57.14 |\n",
       "| Ghana                | 59.33504 |  3.068898 | 37.59606 |  3.9 | 34.713514 |     NA |      NA |  1279 |  10 | 0.007818608 |  85.71 |\n",
       "| Saudi Arabia         | 71.64306 |  3.314088 | 25.04285 | 15.6 | 87.945447 |     NA |      NA | 16299 | 136 | 0.008344070 |  95.24 |\n",
       "| Costa Rica           | 69.12541 |  9.549848 | 21.32474 | 11.9 | 15.725920 |     NA |      NA |   693 |   6 | 0.008658009 |  85.71 |\n",
       "| Russia               | 67.41121 | 14.674708 | 17.91408 | 39.3 | 16.160224 | 3.9632 |  8.6567 | 74588 | 681 | 0.009130155 |  85.71 |\n",
       "| Kazakhstan           | 64.14760 |  7.391846 | 28.46055 | 24.0 | 13.824288 |     NA |      NA |  2601 |  25 | 0.009611688 |  85.71 |\n",
       "| Cabo Verde           | 66.61291 |  4.609327 | 28.77777 |  9.1 | 34.778700 | 0.7694 |  1.2272 |    90 |   1 | 0.011111111 |     NA |\n",
       "| Australia            | 65.15291 | 15.656475 | 19.19062 | 14.7 |  8.550324 | 3.5213 | 12.4667 |  6694 |  80 | 0.011951001 |  71.43 |\n",
       "| ... | ... | ... | ... | ... | ... | ... | ... | ... | ... | ... | ... |\n",
       "| Congo, Dem. Rep.    | 50.81652 |  3.017841 | 46.16564 |   NA | 44.909264 |     NA |      NA |    416 |    28 | 0.06730769 |  85.71 |\n",
       "| Philippines         | 63.91439 |  5.122569 | 30.96304 | 24.3 | 18.069799 |     NA |  0.2400 |   7294 |   494 | 0.06772690 |  85.71 |\n",
       "| Brazil              | 69.74309 |  8.922838 | 21.33407 | 13.9 | 12.706629 |     NA |      NA |  59324 |  4057 | 0.06838716 |  76.19 |\n",
       "| Trinidad and Tobago | 68.84547 | 10.734954 | 20.41957 |   NA | 24.108568 | 2.6697 |  3.5093 |    115 |     8 | 0.06956522 |  85.71 |\n",
       "| Egypt               | 60.97150 |  5.229779 | 33.79872 | 25.2 | 86.999452 | 0.8100 |  1.5000 |   4319 |   307 | 0.07108127 | 100.00 |\n",
       "| Syria               | 64.07533 |  4.503124 | 31.42154 |   NA | 43.757259 |     NA |      NA |     42 |     3 | 0.07142857 | 100.00 |\n",
       "| Barbados            | 66.85436 | 15.802694 | 17.34295 |  7.8 | 23.080176 |     NA |      NA |     79 |     6 | 0.07594937 |  80.95 |\n",
       "| San Marino          |       NA |        NA |       NA |   NA |        NA |     NA |      NA |    513 |    40 | 0.07797271 |  95.24 |\n",
       "| Sudan               | 55.91005 |  3.581161 | 40.50879 |   NA | 55.370834 | 0.4100 |  0.8300 |    213 |    17 | 0.07981221 |  95.24 |\n",
       "| Angola              | 50.97470 |  2.216374 | 46.80892 |   NA | 32.388505 |     NA |      NA |     25 |     2 | 0.08000000 |  71.43 |\n",
       "| Indonesia           | 67.59164 |  5.857166 | 26.55120 | 39.4 | 16.502653 | 0.2740 |  1.3001 |   8607 |   720 | 0.08365284 |  76.19 |\n",
       "| Burundi             | 52.25138 |  2.246940 | 45.50168 |   NA | 38.896268 |     NA |      NA |     11 |     1 | 0.09090909 |  28.57 |\n",
       "| Malawi              | 53.45228 |  2.645435 | 43.90229 | 14.5 | 23.565921 |     NA |      NA |     33 |     3 | 0.09090909 |  57.14 |\n",
       "| Honduras            | 63.56850 |  4.690618 | 31.74088 |  2.0 | 20.628851 |     NA |      NA |    627 |    59 | 0.09409888 | 100.00 |\n",
       "| Mexico              | 66.21947 |  7.223685 | 26.55685 | 14.0 | 20.921116 | 2.2513 |  2.6686 |  13842 |  1305 | 0.09427828 |  90.48 |\n",
       "| Guyana              | 65.33518 |  6.450271 | 28.21455 |   NA | 22.375575 |     NA |      NA |     73 |     7 | 0.09589041 |  85.71 |\n",
       "| Gambia              | 53.14127 |  2.589981 | 44.26875 | 15.5 | 33.982639 | 0.1077 |  1.6292 |     10 |     1 | 0.10000000 |  69.05 |\n",
       "| Spain               | 65.95449 | 19.378508 | 14.66700 | 29.3 |  9.697928 | 3.8493 |  5.2919 | 223759 | 22902 | 0.10235119 |  95.24 |\n",
       "| Hungary             | 66.43028 | 19.157725 | 14.41199 | 30.6 | 15.926048 | 3.1159 |  6.6811 |   2443 |   262 | 0.10724519 |  90.48 |\n",
       "| Belize              | 64.98378 |  4.736459 | 30.27977 |   NA | 23.011892 |     NA |      NA |     18 |     2 | 0.11111111 |  76.19 |\n",
       "| Netherlands         | 64.69565 | 19.196193 | 16.10816 | 25.8 | 12.034408 | 3.4875 | 10.4675 |  37384 |  4424 | 0.11833940 |  85.71 |\n",
       "| Sweden              | 62.32269 | 20.095525 | 17.58179 | 18.8 |  6.184665 | 4.2861 | 11.8503 |  18177 |  2192 | 0.12059196 |  61.90 |\n",
       "| Algeria             | 63.48882 |  6.362497 | 30.14868 | 15.6 | 38.884011 |     NA |      NA |   3256 |   419 | 0.12868550 |  95.24 |\n",
       "| Zimbabwe            | 54.65941 |  2.939524 | 42.40107 | 15.8 | 22.251671 |     NA |      NA |     31 |     4 | 0.12903226 |  88.10 |\n",
       "| Italy               | 63.91920 | 22.751680 | 13.32912 | 23.7 | 16.750712 | 3.9174 |  5.8184 | 195351 | 26384 | 0.13505946 |  95.24 |\n",
       "| United Kingdom      | 63.92605 | 18.395866 | 17.67808 | 22.3 | 10.472690 | 2.7780 |  8.8271 | 149569 | 20381 | 0.13626487 |  71.43 |\n",
       "| France              | 62.00891 | 20.034625 | 17.95646 | 32.7 | 11.814964 | 3.2237 | 10.9403 | 161644 | 22648 | 0.14011037 | 100.00 |\n",
       "| Mauritania          | 56.77571 |  3.141112 | 40.08318 |   NA | 47.422992 | 0.1655 |  0.9892 |      7 |     1 | 0.14285714 |  66.67 |\n",
       "| Belgium             | 64.15583 | 18.788744 | 17.05542 | 28.2 | 12.886518 | 3.0138 | 10.8193 |  45325 |  6917 | 0.15260894 |  85.71 |\n",
       "| Nicaragua           | 64.55082 |  5.247497 | 30.20168 |   NA | 17.614180 |     NA |      NA |     12 |     3 | 0.25000000 |  11.90 |\n",
       "\n"
      ],
      "text/plain": [
       "    country              age_1564 age_64up  age_0014 smok air_polution doctor\n",
       "1   Chad                 50.39318  2.480519 47.12630   NA 66.029206        NA\n",
       "2   Dominica                   NA        NA       NA   NA 19.493154        NA\n",
       "3   Laos                 63.32093  4.075150 32.60392 28.9 25.109538        NA\n",
       "4   Madagascar           56.34513  2.986717 40.66815   NA 22.542283        NA\n",
       "5   Mongolia             65.50689  4.083539 30.40957 25.6 40.112849    3.2426\n",
       "6   Mozambique           52.43844  2.890764 44.67080 16.6 21.298695        NA\n",
       "7   Namibia              59.45372  3.636032 36.91025 21.4 25.358765        NA\n",
       "8   Papua New Guinea     60.73880  3.445269 35.81593 36.3 12.294418        NA\n",
       "9   Rwanda               57.08623  2.938196 39.97557 12.3 43.210217    0.1408\n",
       "10  Seychelles           68.77008  7.594546 23.63537 21.5 20.178649        NA\n",
       "11  South Sudan          54.78140  3.398483 41.82012   NA 45.577506        NA\n",
       "12  Uganda               51.12849  1.940987 46.93053 10.0 50.494321    0.0908\n",
       "13  Vietnam              69.55234  7.274978 23.17268 22.8 29.626728    0.7887\n",
       "14  Singapore            76.25834 11.463380 12.27828 16.5 19.078256        NA\n",
       "15  Qatar                85.08917  1.370070 13.54076 20.6 91.187328        NA\n",
       "16  Djibouti             65.89830  4.527579 29.57412 13.1 45.549618        NA\n",
       "17  Bahrain              78.31936  2.426334 19.25431 26.4 70.816208    0.9257\n",
       "18  Uzbekistan           66.89480  4.419138 28.68606 12.6 28.455901        NA\n",
       "19  Oman                 75.36071  2.392787 22.24651 11.1 41.115238    2.1225\n",
       "20  Iceland              65.37259 14.795093 19.83232 14.7  6.481147    3.7826\n",
       "21  Kuwait               75.91064  2.550472 21.53889 22.5 60.745160    2.5789\n",
       "22  United Arab Emirates 84.31149  1.085001 14.60351 28.9 40.917510    2.2373\n",
       "23  Brunei               72.10039  4.873148 23.02646 16.9  5.903065    1.7701\n",
       "24  Ghana                59.33504  3.068898 37.59606  3.9 34.713514        NA\n",
       "25  Saudi Arabia         71.64306  3.314088 25.04285 15.6 87.945447        NA\n",
       "26  Costa Rica           69.12541  9.549848 21.32474 11.9 15.725920        NA\n",
       "27  Russia               67.41121 14.674708 17.91408 39.3 16.160224    3.9632\n",
       "28  Kazakhstan           64.14760  7.391846 28.46055 24.0 13.824288        NA\n",
       "29  Cabo Verde           66.61291  4.609327 28.77777  9.1 34.778700    0.7694\n",
       "30  Australia            65.15291 15.656475 19.19062 14.7  8.550324    3.5213\n",
       "... ...                  ...      ...       ...      ...  ...          ...   \n",
       "112 Congo, Dem. Rep.     50.81652  3.017841 46.16564   NA 44.909264        NA\n",
       "113 Philippines          63.91439  5.122569 30.96304 24.3 18.069799        NA\n",
       "114 Brazil               69.74309  8.922838 21.33407 13.9 12.706629        NA\n",
       "115 Trinidad and Tobago  68.84547 10.734954 20.41957   NA 24.108568    2.6697\n",
       "116 Egypt                60.97150  5.229779 33.79872 25.2 86.999452    0.8100\n",
       "117 Syria                64.07533  4.503124 31.42154   NA 43.757259        NA\n",
       "118 Barbados             66.85436 15.802694 17.34295  7.8 23.080176        NA\n",
       "119 San Marino                 NA        NA       NA   NA        NA        NA\n",
       "120 Sudan                55.91005  3.581161 40.50879   NA 55.370834    0.4100\n",
       "121 Angola               50.97470  2.216374 46.80892   NA 32.388505        NA\n",
       "122 Indonesia            67.59164  5.857166 26.55120 39.4 16.502653    0.2740\n",
       "123 Burundi              52.25138  2.246940 45.50168   NA 38.896268        NA\n",
       "124 Malawi               53.45228  2.645435 43.90229 14.5 23.565921        NA\n",
       "125 Honduras             63.56850  4.690618 31.74088  2.0 20.628851        NA\n",
       "126 Mexico               66.21947  7.223685 26.55685 14.0 20.921116    2.2513\n",
       "127 Guyana               65.33518  6.450271 28.21455   NA 22.375575        NA\n",
       "128 Gambia               53.14127  2.589981 44.26875 15.5 33.982639    0.1077\n",
       "129 Spain                65.95449 19.378508 14.66700 29.3  9.697928    3.8493\n",
       "130 Hungary              66.43028 19.157725 14.41199 30.6 15.926048    3.1159\n",
       "131 Belize               64.98378  4.736459 30.27977   NA 23.011892        NA\n",
       "132 Netherlands          64.69565 19.196193 16.10816 25.8 12.034408    3.4875\n",
       "133 Sweden               62.32269 20.095525 17.58179 18.8  6.184665    4.2861\n",
       "134 Algeria              63.48882  6.362497 30.14868 15.6 38.884011        NA\n",
       "135 Zimbabwe             54.65941  2.939524 42.40107 15.8 22.251671        NA\n",
       "136 Italy                63.91920 22.751680 13.32912 23.7 16.750712    3.9174\n",
       "137 United Kingdom       63.92605 18.395866 17.67808 22.3 10.472690    2.7780\n",
       "138 France               62.00891 20.034625 17.95646 32.7 11.814964    3.2237\n",
       "139 Mauritania           56.77571  3.141112 40.08318   NA 47.422992    0.1655\n",
       "140 Belgium              64.15583 18.788744 17.05542 28.2 12.886518    3.0138\n",
       "141 Nicaragua            64.55082  5.247497 30.20168   NA 17.614180        NA\n",
       "    nurse_midwivies confirmed death rate        gov_resp\n",
       "1        NA            46       0   0.000000000  66.67  \n",
       "2        NA            16       0   0.000000000  78.57  \n",
       "3        NA            19       0   0.000000000  85.71  \n",
       "4        NA           123       0   0.000000000 100.00  \n",
       "5        NA            37       0   0.000000000  66.67  \n",
       "6        NA            70       0   0.000000000  73.81  \n",
       "7        NA            16       0   0.000000000  66.67  \n",
       "8        NA             8       0   0.000000000  90.48  \n",
       "9    0.8307           183       0   0.000000000  80.95  \n",
       "10       NA            11       0   0.000000000  85.71  \n",
       "11       NA             5       0   0.000000000  90.48  \n",
       "12   0.6303            75       0   0.000000000  85.71  \n",
       "13   1.4092           270       0   0.000000000 100.00  \n",
       "14       NA         12693      12   0.000945403  80.95  \n",
       "15       NA          9358      10   0.001068604  95.24  \n",
       "16       NA          1008       2   0.001984127  85.71  \n",
       "17   2.4944          2588       8   0.003091190  80.95  \n",
       "18       NA          1862       8   0.004296455 100.00  \n",
       "19   4.6028          1905      10   0.005249344 100.00  \n",
       "20  16.3144          1790      10   0.005586592  61.90  \n",
       "21   6.9694          2892      19   0.006569848  95.24  \n",
       "22   5.0419          9813      71   0.007235300  95.24  \n",
       "23   6.6012           138       1   0.007246377  57.14  \n",
       "24       NA          1279      10   0.007818608  85.71  \n",
       "25       NA         16299     136   0.008344070  95.24  \n",
       "26       NA           693       6   0.008658009  85.71  \n",
       "27   8.6567         74588     681   0.009130155  85.71  \n",
       "28       NA          2601      25   0.009611688  85.71  \n",
       "29   1.2272            90       1   0.011111111     NA  \n",
       "30  12.4667          6694      80   0.011951001  71.43  \n",
       "... ...             ...       ...   ...         ...     \n",
       "112      NA            416       28 0.06730769   85.71  \n",
       "113  0.2400           7294      494 0.06772690   85.71  \n",
       "114      NA          59324     4057 0.06838716   76.19  \n",
       "115  3.5093            115        8 0.06956522   85.71  \n",
       "116  1.5000           4319      307 0.07108127  100.00  \n",
       "117      NA             42        3 0.07142857  100.00  \n",
       "118      NA             79        6 0.07594937   80.95  \n",
       "119      NA            513       40 0.07797271   95.24  \n",
       "120  0.8300            213       17 0.07981221   95.24  \n",
       "121      NA             25        2 0.08000000   71.43  \n",
       "122  1.3001           8607      720 0.08365284   76.19  \n",
       "123      NA             11        1 0.09090909   28.57  \n",
       "124      NA             33        3 0.09090909   57.14  \n",
       "125      NA            627       59 0.09409888  100.00  \n",
       "126  2.6686          13842     1305 0.09427828   90.48  \n",
       "127      NA             73        7 0.09589041   85.71  \n",
       "128  1.6292             10        1 0.10000000   69.05  \n",
       "129  5.2919         223759    22902 0.10235119   95.24  \n",
       "130  6.6811           2443      262 0.10724519   90.48  \n",
       "131      NA             18        2 0.11111111   76.19  \n",
       "132 10.4675          37384     4424 0.11833940   85.71  \n",
       "133 11.8503          18177     2192 0.12059196   61.90  \n",
       "134      NA           3256      419 0.12868550   95.24  \n",
       "135      NA             31        4 0.12903226   88.10  \n",
       "136  5.8184         195351    26384 0.13505946   95.24  \n",
       "137  8.8271         149569    20381 0.13626487   71.43  \n",
       "138 10.9403         161644    22648 0.14011037  100.00  \n",
       "139  0.9892              7        1 0.14285714   66.67  \n",
       "140 10.8193          45325     6917 0.15260894   85.71  \n",
       "141      NA             12        3 0.25000000   11.90  "
      ]
     },
     "metadata": {},
     "output_type": "display_data"
    }
   ],
   "source": [
    "data %>%\n",
    "    arrange(rate)"
   ]
  },
  {
   "cell_type": "code",
   "execution_count": 78,
   "metadata": {},
   "outputs": [
    {
     "name": "stderr",
     "output_type": "stream",
     "text": [
      "`stat_bin()` using `bins = 30`. Pick better value with `binwidth`.\n",
      "\n"
     ]
    },
    {
     "data": {
      "image/png": "[encoded data removed]",
      "text/plain": [
       "plot without title"
      ]
     },
     "metadata": {
      "image/png": {
       "height": 420,
       "width": 420
      },
      "text/plain": {
       "height": 420,
       "width": 420
      }
     },
     "output_type": "display_data"
    }
   ],
   "source": [
    "drop_na(data) %>%\n",
    "    ggplot(aes(age_64up)) +\n",
    "    geom_histogram()"
   ]
  },
  {
   "cell_type": "code",
   "execution_count": 79,
   "metadata": {},
   "outputs": [
    {
     "name": "stderr",
     "output_type": "stream",
     "text": [
      "`stat_bin()` using `bins = 30`. Pick better value with `binwidth`.\n",
      "\n"
     ]
    },
    {
     "data": {
      "image/png": "[encoded data removed]",
      "text/plain": [
       "plot without title"
      ]
     },
     "metadata": {
      "image/png": {
       "height": 420,
       "width": 420
      },
      "text/plain": {
       "height": 420,
       "width": 420
      }
     },
     "output_type": "display_data"
    }
   ],
   "source": [
    "drop_na(data) %>%\n",
    "    ggplot(aes(rate)) +\n",
    "    geom_histogram()"
   ]
  },
  {
   "cell_type": "code",
   "execution_count": 43,
   "metadata": {},
   "outputs": [
    {
     "data": {
      "image/png": "[encoded data removed]",
      "text/plain": [
       "plot without title"
      ]
     },
     "metadata": {
      "image/png": {
       "height": 420,
       "width": 420
      },
      "text/plain": {
       "height": 420,
       "width": 420
      }
     },
     "output_type": "display_data"
    }
   ],
   "source": [
    "drop_na(data) %>%\n",
    "    ggplot(aes(age_64up, rate)) +\n",
    "    geom_point()"
   ]
  },
  {
   "cell_type": "markdown",
   "metadata": {},
   "source": [
    "## 6. Research questions\n",
    "\n"
   ]
  },
  {
   "cell_type": "markdown",
   "metadata": {},
   "source": [
    "## 7. Data Analysis & Visualizations"
   ]
  },
  {
   "cell_type": "code",
   "execution_count": 36,
   "metadata": {},
   "outputs": [
    {
     "data": {
      "text/html": [
       "<table>\n",
       "<caption>A tibble: 8 × 5</caption>\n",
       "<thead>\n",
       "\t<tr><th scope=col>term</th><th scope=col>estimate</th><th scope=col>std.error</th><th scope=col>statistic</th><th scope=col>p.value</th></tr>\n",
       "\t<tr><th scope=col>&lt;chr&gt;</th><th scope=col>&lt;dbl&gt;</th><th scope=col>&lt;dbl&gt;</th><th scope=col>&lt;dbl&gt;</th><th scope=col>&lt;dbl&gt;</th></tr>\n",
       "</thead>\n",
       "<tbody>\n",
       "\t<tr><td>(Intercept)    </td><td> 0.1104270576</td><td>0.0805837822</td><td> 1.3703385</td><td>0.177379070</td></tr>\n",
       "\t<tr><td>age_1564       </td><td>-0.0014372289</td><td>0.0010545518</td><td>-1.3628813</td><td>0.179701335</td></tr>\n",
       "\t<tr><td>age_64up       </td><td> 0.0048934996</td><td>0.0016439494</td><td> 2.9766730</td><td>0.004677426</td></tr>\n",
       "\t<tr><td>smok           </td><td> 0.0005892328</td><td>0.0007801717</td><td> 0.7552605</td><td>0.454027794</td></tr>\n",
       "\t<tr><td>air_polution   </td><td> 0.0002846902</td><td>0.0003903238</td><td> 0.7293692</td><td>0.469555367</td></tr>\n",
       "\t<tr><td>doctor         </td><td>-0.0046169080</td><td>0.0078142091</td><td>-0.5908350</td><td>0.557587055</td></tr>\n",
       "\t<tr><td>nurse_midwivies</td><td>-0.0015799321</td><td>0.0017413977</td><td>-0.9072782</td><td>0.369092746</td></tr>\n",
       "\t<tr><td>gov_resp       </td><td>-0.0003002955</td><td>0.0004026343</td><td>-0.7458268</td><td>0.459650448</td></tr>\n",
       "</tbody>\n",
       "</table>\n"
      ],
      "text/latex": [
       "A tibble: 8 × 5\n",
       "\\begin{tabular}{r|lllll}\n",
       " term & estimate & std.error & statistic & p.value\\\\\n",
       " <chr> & <dbl> & <dbl> & <dbl> & <dbl>\\\\\n",
       "\\hline\n",
       "\t (Intercept)     &  0.1104270576 & 0.0805837822 &  1.3703385 & 0.177379070\\\\\n",
       "\t age\\_1564        & -0.0014372289 & 0.0010545518 & -1.3628813 & 0.179701335\\\\\n",
       "\t age\\_64up        &  0.0048934996 & 0.0016439494 &  2.9766730 & 0.004677426\\\\\n",
       "\t smok            &  0.0005892328 & 0.0007801717 &  0.7552605 & 0.454027794\\\\\n",
       "\t air\\_polution    &  0.0002846902 & 0.0003903238 &  0.7293692 & 0.469555367\\\\\n",
       "\t doctor          & -0.0046169080 & 0.0078142091 & -0.5908350 & 0.557587055\\\\\n",
       "\t nurse\\_midwivies & -0.0015799321 & 0.0017413977 & -0.9072782 & 0.369092746\\\\\n",
       "\t gov\\_resp        & -0.0003002955 & 0.0004026343 & -0.7458268 & 0.459650448\\\\\n",
       "\\end{tabular}\n"
      ],
      "text/markdown": [
       "\n",
       "A tibble: 8 × 5\n",
       "\n",
       "| term &lt;chr&gt; | estimate &lt;dbl&gt; | std.error &lt;dbl&gt; | statistic &lt;dbl&gt; | p.value &lt;dbl&gt; |\n",
       "|---|---|---|---|---|\n",
       "| (Intercept)     |  0.1104270576 | 0.0805837822 |  1.3703385 | 0.177379070 |\n",
       "| age_1564        | -0.0014372289 | 0.0010545518 | -1.3628813 | 0.179701335 |\n",
       "| age_64up        |  0.0048934996 | 0.0016439494 |  2.9766730 | 0.004677426 |\n",
       "| smok            |  0.0005892328 | 0.0007801717 |  0.7552605 | 0.454027794 |\n",
       "| air_polution    |  0.0002846902 | 0.0003903238 |  0.7293692 | 0.469555367 |\n",
       "| doctor          | -0.0046169080 | 0.0078142091 | -0.5908350 | 0.557587055 |\n",
       "| nurse_midwivies | -0.0015799321 | 0.0017413977 | -0.9072782 | 0.369092746 |\n",
       "| gov_resp        | -0.0003002955 | 0.0004026343 | -0.7458268 | 0.459650448 |\n",
       "\n"
      ],
      "text/plain": [
       "  term            estimate      std.error    statistic  p.value    \n",
       "1 (Intercept)      0.1104270576 0.0805837822  1.3703385 0.177379070\n",
       "2 age_1564        -0.0014372289 0.0010545518 -1.3628813 0.179701335\n",
       "3 age_64up         0.0048934996 0.0016439494  2.9766730 0.004677426\n",
       "4 smok             0.0005892328 0.0007801717  0.7552605 0.454027794\n",
       "5 air_polution     0.0002846902 0.0003903238  0.7293692 0.469555367\n",
       "6 doctor          -0.0046169080 0.0078142091 -0.5908350 0.557587055\n",
       "7 nurse_midwivies -0.0015799321 0.0017413977 -0.9072782 0.369092746\n",
       "8 gov_resp        -0.0003002955 0.0004026343 -0.7458268 0.459650448"
      ]
     },
     "metadata": {},
     "output_type": "display_data"
    }
   ],
   "source": [
    "fit <- lm(rate ~ ., drop_na(data)[c(-1, -9, -10)])\n",
    "fit %>%\n",
    "    broom::tidy()"
   ]
  },
  {
   "cell_type": "code",
   "execution_count": 37,
   "metadata": {},
   "outputs": [
    {
     "data": {
      "text/html": [
       "<table>\n",
       "<caption>A anova: 8 × 5</caption>\n",
       "<thead>\n",
       "\t<tr><th></th><th scope=col>Df</th><th scope=col>Sum Sq</th><th scope=col>Mean Sq</th><th scope=col>F value</th><th scope=col>Pr(&gt;F)</th></tr>\n",
       "\t<tr><th></th><th scope=col>&lt;int&gt;</th><th scope=col>&lt;dbl&gt;</th><th scope=col>&lt;dbl&gt;</th><th scope=col>&lt;dbl&gt;</th><th scope=col>&lt;dbl&gt;</th></tr>\n",
       "</thead>\n",
       "<tbody>\n",
       "\t<tr><th scope=row>age_1564</th><td> 1</td><td>0.0080939916</td><td>0.0080939916</td><td> 6.1901611</td><td>0.0166165339</td></tr>\n",
       "\t<tr><th scope=row>age_64up</th><td> 1</td><td>0.0182341867</td><td>0.0182341867</td><td>13.9452275</td><td>0.0005273459</td></tr>\n",
       "\t<tr><th scope=row>smok</th><td> 1</td><td>0.0017788850</td><td>0.0017788850</td><td> 1.3604641</td><td>0.2496015295</td></tr>\n",
       "\t<tr><th scope=row>air_polution</th><td> 1</td><td>0.0009659123</td><td>0.0009659123</td><td> 0.7387150</td><td>0.3946284994</td></tr>\n",
       "\t<tr><th scope=row>doctor</th><td> 1</td><td>0.0020873588</td><td>0.0020873588</td><td> 1.5963801</td><td>0.2129237359</td></tr>\n",
       "\t<tr><th scope=row>nurse_midwivies</th><td> 1</td><td>0.0009158973</td><td>0.0009158973</td><td> 0.7004643</td><td>0.4070505333</td></tr>\n",
       "\t<tr><th scope=row>gov_resp</th><td> 1</td><td>0.0007273388</td><td>0.0007273388</td><td> 0.5562576</td><td>0.4596504479</td></tr>\n",
       "\t<tr><th scope=row>Residuals</th><td>45</td><td>0.0588400872</td><td>0.0013075575</td><td>        NA</td><td>          NA</td></tr>\n",
       "</tbody>\n",
       "</table>\n"
      ],
      "text/latex": [
       "A anova: 8 × 5\n",
       "\\begin{tabular}{r|lllll}\n",
       "  & Df & Sum Sq & Mean Sq & F value & Pr(>F)\\\\\n",
       "  & <int> & <dbl> & <dbl> & <dbl> & <dbl>\\\\\n",
       "\\hline\n",
       "\tage\\_1564 &  1 & 0.0080939916 & 0.0080939916 &  6.1901611 & 0.0166165339\\\\\n",
       "\tage\\_64up &  1 & 0.0182341867 & 0.0182341867 & 13.9452275 & 0.0005273459\\\\\n",
       "\tsmok &  1 & 0.0017788850 & 0.0017788850 &  1.3604641 & 0.2496015295\\\\\n",
       "\tair\\_polution &  1 & 0.0009659123 & 0.0009659123 &  0.7387150 & 0.3946284994\\\\\n",
       "\tdoctor &  1 & 0.0020873588 & 0.0020873588 &  1.5963801 & 0.2129237359\\\\\n",
       "\tnurse\\_midwivies &  1 & 0.0009158973 & 0.0009158973 &  0.7004643 & 0.4070505333\\\\\n",
       "\tgov\\_resp &  1 & 0.0007273388 & 0.0007273388 &  0.5562576 & 0.4596504479\\\\\n",
       "\tResiduals & 45 & 0.0588400872 & 0.0013075575 &         NA &           NA\\\\\n",
       "\\end{tabular}\n"
      ],
      "text/markdown": [
       "\n",
       "A anova: 8 × 5\n",
       "\n",
       "| <!--/--> | Df &lt;int&gt; | Sum Sq &lt;dbl&gt; | Mean Sq &lt;dbl&gt; | F value &lt;dbl&gt; | Pr(&gt;F) &lt;dbl&gt; |\n",
       "|---|---|---|---|---|---|\n",
       "| age_1564 |  1 | 0.0080939916 | 0.0080939916 |  6.1901611 | 0.0166165339 |\n",
       "| age_64up |  1 | 0.0182341867 | 0.0182341867 | 13.9452275 | 0.0005273459 |\n",
       "| smok |  1 | 0.0017788850 | 0.0017788850 |  1.3604641 | 0.2496015295 |\n",
       "| air_polution |  1 | 0.0009659123 | 0.0009659123 |  0.7387150 | 0.3946284994 |\n",
       "| doctor |  1 | 0.0020873588 | 0.0020873588 |  1.5963801 | 0.2129237359 |\n",
       "| nurse_midwivies |  1 | 0.0009158973 | 0.0009158973 |  0.7004643 | 0.4070505333 |\n",
       "| gov_resp |  1 | 0.0007273388 | 0.0007273388 |  0.5562576 | 0.4596504479 |\n",
       "| Residuals | 45 | 0.0588400872 | 0.0013075575 |         NA |           NA |\n",
       "\n"
      ],
      "text/plain": [
       "                Df Sum Sq       Mean Sq      F value    Pr(>F)      \n",
       "age_1564         1 0.0080939916 0.0080939916  6.1901611 0.0166165339\n",
       "age_64up         1 0.0182341867 0.0182341867 13.9452275 0.0005273459\n",
       "smok             1 0.0017788850 0.0017788850  1.3604641 0.2496015295\n",
       "air_polution     1 0.0009659123 0.0009659123  0.7387150 0.3946284994\n",
       "doctor           1 0.0020873588 0.0020873588  1.5963801 0.2129237359\n",
       "nurse_midwivies  1 0.0009158973 0.0009158973  0.7004643 0.4070505333\n",
       "gov_resp         1 0.0007273388 0.0007273388  0.5562576 0.4596504479\n",
       "Residuals       45 0.0588400872 0.0013075575         NA           NA"
      ]
     },
     "metadata": {},
     "output_type": "display_data"
    }
   ],
   "source": [
    "anova(fit)"
   ]
  },
  {
   "cell_type": "code",
   "execution_count": 69,
   "metadata": {},
   "outputs": [
    {
     "data": {
      "text/html": [
       "<table>\n",
       "<caption>A tibble: 2 × 5</caption>\n",
       "<thead>\n",
       "\t<tr><th scope=col>term</th><th scope=col>estimate</th><th scope=col>std.error</th><th scope=col>statistic</th><th scope=col>p.value</th></tr>\n",
       "\t<tr><th scope=col>&lt;chr&gt;</th><th scope=col>&lt;dbl&gt;</th><th scope=col>&lt;dbl&gt;</th><th scope=col>&lt;dbl&gt;</th><th scope=col>&lt;dbl&gt;</th></tr>\n",
       "</thead>\n",
       "<tbody>\n",
       "\t<tr><td>(Intercept)</td><td>0.007770551</td><td>0.0107010402</td><td>0.7261492</td><td>0.4710668871</td></tr>\n",
       "\t<tr><td>age_64up   </td><td>0.003229163</td><td>0.0007933165</td><td>4.0704607</td><td>0.0001634495</td></tr>\n",
       "</tbody>\n",
       "</table>\n"
      ],
      "text/latex": [
       "A tibble: 2 × 5\n",
       "\\begin{tabular}{r|lllll}\n",
       " term & estimate & std.error & statistic & p.value\\\\\n",
       " <chr> & <dbl> & <dbl> & <dbl> & <dbl>\\\\\n",
       "\\hline\n",
       "\t (Intercept) & 0.007770551 & 0.0107010402 & 0.7261492 & 0.4710668871\\\\\n",
       "\t age\\_64up    & 0.003229163 & 0.0007933165 & 4.0704607 & 0.0001634495\\\\\n",
       "\\end{tabular}\n"
      ],
      "text/markdown": [
       "\n",
       "A tibble: 2 × 5\n",
       "\n",
       "| term &lt;chr&gt; | estimate &lt;dbl&gt; | std.error &lt;dbl&gt; | statistic &lt;dbl&gt; | p.value &lt;dbl&gt; |\n",
       "|---|---|---|---|---|\n",
       "| (Intercept) | 0.007770551 | 0.0107010402 | 0.7261492 | 0.4710668871 |\n",
       "| age_64up    | 0.003229163 | 0.0007933165 | 4.0704607 | 0.0001634495 |\n",
       "\n"
      ],
      "text/plain": [
       "  term        estimate    std.error    statistic p.value     \n",
       "1 (Intercept) 0.007770551 0.0107010402 0.7261492 0.4710668871\n",
       "2 age_64up    0.003229163 0.0007933165 4.0704607 0.0001634495"
      ]
     },
     "metadata": {},
     "output_type": "display_data"
    }
   ],
   "source": [
    "fit_base <- lm(rate ~ age_64up, drop_na(data))\n",
    "fit_base %>%\n",
    "    broom::tidy()"
   ]
  },
  {
   "cell_type": "code",
   "execution_count": 74,
   "metadata": {},
   "outputs": [
    {
     "data": {
      "text/html": [
       "<table>\n",
       "<caption>A tibble: 3 × 5</caption>\n",
       "<thead>\n",
       "\t<tr><th scope=col>term</th><th scope=col>estimate</th><th scope=col>std.error</th><th scope=col>statistic</th><th scope=col>p.value</th></tr>\n",
       "\t<tr><th scope=col>&lt;chr&gt;</th><th scope=col>&lt;dbl&gt;</th><th scope=col>&lt;dbl&gt;</th><th scope=col>&lt;dbl&gt;</th><th scope=col>&lt;dbl&gt;</th></tr>\n",
       "</thead>\n",
       "<tbody>\n",
       "\t<tr><td>(Intercept)</td><td> 0.012744144</td><td>0.010784906</td><td> 1.181665</td><td>0.242928535</td></tr>\n",
       "\t<tr><td>age_64up   </td><td> 0.005104951</td><td>0.001269466</td><td> 4.021339</td><td>0.000195385</td></tr>\n",
       "\t<tr><td>doctor     </td><td>-0.011572071</td><td>0.006204139</td><td>-1.865218</td><td>0.068024301</td></tr>\n",
       "</tbody>\n",
       "</table>\n"
      ],
      "text/latex": [
       "A tibble: 3 × 5\n",
       "\\begin{tabular}{r|lllll}\n",
       " term & estimate & std.error & statistic & p.value\\\\\n",
       " <chr> & <dbl> & <dbl> & <dbl> & <dbl>\\\\\n",
       "\\hline\n",
       "\t (Intercept) &  0.012744144 & 0.010784906 &  1.181665 & 0.242928535\\\\\n",
       "\t age\\_64up    &  0.005104951 & 0.001269466 &  4.021339 & 0.000195385\\\\\n",
       "\t doctor      & -0.011572071 & 0.006204139 & -1.865218 & 0.068024301\\\\\n",
       "\\end{tabular}\n"
      ],
      "text/markdown": [
       "\n",
       "A tibble: 3 × 5\n",
       "\n",
       "| term &lt;chr&gt; | estimate &lt;dbl&gt; | std.error &lt;dbl&gt; | statistic &lt;dbl&gt; | p.value &lt;dbl&gt; |\n",
       "|---|---|---|---|---|\n",
       "| (Intercept) |  0.012744144 | 0.010784906 |  1.181665 | 0.242928535 |\n",
       "| age_64up    |  0.005104951 | 0.001269466 |  4.021339 | 0.000195385 |\n",
       "| doctor      | -0.011572071 | 0.006204139 | -1.865218 | 0.068024301 |\n",
       "\n"
      ],
      "text/plain": [
       "  term        estimate     std.error   statistic p.value    \n",
       "1 (Intercept)  0.012744144 0.010784906  1.181665 0.242928535\n",
       "2 age_64up     0.005104951 0.001269466  4.021339 0.000195385\n",
       "3 doctor      -0.011572071 0.006204139 -1.865218 0.068024301"
      ]
     },
     "metadata": {},
     "output_type": "display_data"
    }
   ],
   "source": [
    "fit_1 <- lm(rate ~ age_64up + doctor, drop_na(data))\n",
    "fit_1 %>%\n",
    "    broom::tidy()"
   ]
  },
  {
   "cell_type": "code",
   "execution_count": 75,
   "metadata": {},
   "outputs": [
    {
     "data": {
      "text/html": [
       "<table>\n",
       "<caption>A anova: 2 × 6</caption>\n",
       "<thead>\n",
       "\t<tr><th scope=col>Res.Df</th><th scope=col>RSS</th><th scope=col>Df</th><th scope=col>Sum of Sq</th><th scope=col>F</th><th scope=col>Pr(&gt;F)</th></tr>\n",
       "\t<tr><th scope=col>&lt;dbl&gt;</th><th scope=col>&lt;dbl&gt;</th><th scope=col>&lt;dbl&gt;</th><th scope=col>&lt;dbl&gt;</th><th scope=col>&lt;dbl&gt;</th><th scope=col>&lt;dbl&gt;</th></tr>\n",
       "</thead>\n",
       "<tbody>\n",
       "\t<tr><td>50</td><td>0.06467162</td><td>NA</td><td>        NA</td><td>      NA</td><td>       NA</td></tr>\n",
       "\t<tr><td>51</td><td>0.06917152</td><td>-1</td><td>-0.0044999</td><td>3.479037</td><td>0.0680243</td></tr>\n",
       "</tbody>\n",
       "</table>\n"
      ],
      "text/latex": [
       "A anova: 2 × 6\n",
       "\\begin{tabular}{r|llllll}\n",
       " Res.Df & RSS & Df & Sum of Sq & F & Pr(>F)\\\\\n",
       " <dbl> & <dbl> & <dbl> & <dbl> & <dbl> & <dbl>\\\\\n",
       "\\hline\n",
       "\t 50 & 0.06467162 & NA &         NA &       NA &        NA\\\\\n",
       "\t 51 & 0.06917152 & -1 & -0.0044999 & 3.479037 & 0.0680243\\\\\n",
       "\\end{tabular}\n"
      ],
      "text/markdown": [
       "\n",
       "A anova: 2 × 6\n",
       "\n",
       "| Res.Df &lt;dbl&gt; | RSS &lt;dbl&gt; | Df &lt;dbl&gt; | Sum of Sq &lt;dbl&gt; | F &lt;dbl&gt; | Pr(&gt;F) &lt;dbl&gt; |\n",
       "|---|---|---|---|---|---|\n",
       "| 50 | 0.06467162 | NA |         NA |       NA |        NA |\n",
       "| 51 | 0.06917152 | -1 | -0.0044999 | 3.479037 | 0.0680243 |\n",
       "\n"
      ],
      "text/plain": [
       "  Res.Df RSS        Df Sum of Sq  F        Pr(>F)   \n",
       "1 50     0.06467162 NA         NA       NA        NA\n",
       "2 51     0.06917152 -1 -0.0044999 3.479037 0.0680243"
      ]
     },
     "metadata": {},
     "output_type": "display_data"
    }
   ],
   "source": [
    "anova(fit_1, fit_base)"
   ]
  },
  {
   "cell_type": "code",
   "execution_count": 80,
   "metadata": {},
   "outputs": [
    {
     "data": {
      "text/html": [
       "<table>\n",
       "<caption>A tibble: 2 × 5</caption>\n",
       "<thead>\n",
       "\t<tr><th scope=col>term</th><th scope=col>estimate</th><th scope=col>std.error</th><th scope=col>statistic</th><th scope=col>p.value</th></tr>\n",
       "\t<tr><th scope=col>&lt;chr&gt;</th><th scope=col>&lt;dbl&gt;</th><th scope=col>&lt;dbl&gt;</th><th scope=col>&lt;dbl&gt;</th><th scope=col>&lt;dbl&gt;</th></tr>\n",
       "</thead>\n",
       "<tbody>\n",
       "\t<tr><td>(Intercept)</td><td>0.032100363</td><td>0.0059331693</td><td>5.410323</td><td>2.779832e-07</td></tr>\n",
       "\t<tr><td>age_64up   </td><td>0.001143764</td><td>0.0005249071</td><td>2.178985</td><td>3.106826e-02</td></tr>\n",
       "</tbody>\n",
       "</table>\n"
      ],
      "text/latex": [
       "A tibble: 2 × 5\n",
       "\\begin{tabular}{r|lllll}\n",
       " term & estimate & std.error & statistic & p.value\\\\\n",
       " <chr> & <dbl> & <dbl> & <dbl> & <dbl>\\\\\n",
       "\\hline\n",
       "\t (Intercept) & 0.032100363 & 0.0059331693 & 5.410323 & 2.779832e-07\\\\\n",
       "\t age\\_64up    & 0.001143764 & 0.0005249071 & 2.178985 & 3.106826e-02\\\\\n",
       "\\end{tabular}\n"
      ],
      "text/markdown": [
       "\n",
       "A tibble: 2 × 5\n",
       "\n",
       "| term &lt;chr&gt; | estimate &lt;dbl&gt; | std.error &lt;dbl&gt; | statistic &lt;dbl&gt; | p.value &lt;dbl&gt; |\n",
       "|---|---|---|---|---|\n",
       "| (Intercept) | 0.032100363 | 0.0059331693 | 5.410323 | 2.779832e-07 |\n",
       "| age_64up    | 0.001143764 | 0.0005249071 | 2.178985 | 3.106826e-02 |\n",
       "\n"
      ],
      "text/plain": [
       "  term        estimate    std.error    statistic p.value     \n",
       "1 (Intercept) 0.032100363 0.0059331693 5.410323  2.779832e-07\n",
       "2 age_64up    0.001143764 0.0005249071 2.178985  3.106826e-02"
      ]
     },
     "metadata": {},
     "output_type": "display_data"
    }
   ],
   "source": [
    "fit_final <- lm(rate ~ age_64up, data)\n",
    "fit_final %>%\n",
    "    broom::tidy()"
   ]
  },
  {
   "cell_type": "code",
   "execution_count": 81,
   "metadata": {},
   "outputs": [
    {
     "data": {
      "text/html": [
       "<table>\n",
       "<caption>A anova: 2 × 5</caption>\n",
       "<thead>\n",
       "\t<tr><th></th><th scope=col>Df</th><th scope=col>Sum Sq</th><th scope=col>Mean Sq</th><th scope=col>F value</th><th scope=col>Pr(&gt;F)</th></tr>\n",
       "\t<tr><th></th><th scope=col>&lt;int&gt;</th><th scope=col>&lt;dbl&gt;</th><th scope=col>&lt;dbl&gt;</th><th scope=col>&lt;dbl&gt;</th><th scope=col>&lt;dbl&gt;</th></tr>\n",
       "</thead>\n",
       "<tbody>\n",
       "\t<tr><th scope=row>age_64up</th><td>  1</td><td>0.007561199</td><td>0.007561199</td><td>4.747974</td><td>0.03106826</td></tr>\n",
       "\t<tr><th scope=row>Residuals</th><td>135</td><td>0.214988909</td><td>0.001592510</td><td>      NA</td><td>        NA</td></tr>\n",
       "</tbody>\n",
       "</table>\n"
      ],
      "text/latex": [
       "A anova: 2 × 5\n",
       "\\begin{tabular}{r|lllll}\n",
       "  & Df & Sum Sq & Mean Sq & F value & Pr(>F)\\\\\n",
       "  & <int> & <dbl> & <dbl> & <dbl> & <dbl>\\\\\n",
       "\\hline\n",
       "\tage\\_64up &   1 & 0.007561199 & 0.007561199 & 4.747974 & 0.03106826\\\\\n",
       "\tResiduals & 135 & 0.214988909 & 0.001592510 &       NA &         NA\\\\\n",
       "\\end{tabular}\n"
      ],
      "text/markdown": [
       "\n",
       "A anova: 2 × 5\n",
       "\n",
       "| <!--/--> | Df &lt;int&gt; | Sum Sq &lt;dbl&gt; | Mean Sq &lt;dbl&gt; | F value &lt;dbl&gt; | Pr(&gt;F) &lt;dbl&gt; |\n",
       "|---|---|---|---|---|---|\n",
       "| age_64up |   1 | 0.007561199 | 0.007561199 | 4.747974 | 0.03106826 |\n",
       "| Residuals | 135 | 0.214988909 | 0.001592510 |       NA |         NA |\n",
       "\n"
      ],
      "text/plain": [
       "          Df  Sum Sq      Mean Sq     F value  Pr(>F)    \n",
       "age_64up    1 0.007561199 0.007561199 4.747974 0.03106826\n",
       "Residuals 135 0.214988909 0.001592510       NA         NA"
      ]
     },
     "metadata": {},
     "output_type": "display_data"
    }
   ],
   "source": [
    "anova(fit_final)"
   ]
  },
  {
   "cell_type": "markdown",
   "metadata": {},
   "source": [
    "## 8. Summary and conclusions\n"
   ]
  }
 ],
 "metadata": {
  "kernelspec": {
   "display_name": "R",
   "language": "R",
   "name": "ir"
  },
  "language_info": {
   "codemirror_mode": "r",
   "file_extension": ".r",
   "mimetype": "text/x-r-source",
   "name": "R",
   "pygments_lexer": "r",
   "version": "3.6.1"
  }
 },
 "nbformat": 4,
 "nbformat_minor": 4
}
